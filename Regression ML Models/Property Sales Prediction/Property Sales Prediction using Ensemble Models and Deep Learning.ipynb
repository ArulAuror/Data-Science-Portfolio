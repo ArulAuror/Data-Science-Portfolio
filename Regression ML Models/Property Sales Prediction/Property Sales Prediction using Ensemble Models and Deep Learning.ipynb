{
 "cells": [
  {
   "cell_type": "markdown",
   "metadata": {},
   "source": [
    "# Manhattan Property Sales"
   ]
  },
  {
   "cell_type": "markdown",
   "metadata": {},
   "source": [
    "<div>\n",
    "<img src=\"regression.jpeg\" width=\"300\"/>\n",
    "</div>"
   ]
  },
  {
   "cell_type": "markdown",
   "metadata": {},
   "source": [
    "This dataset has properties sold in Manhattan, NYC over a 12-month period from September 2016 to September 2017\n",
    "\n",
    "Goal: To build a model to predict property prices in Manhattan, NYC as of sale year 2017"
   ]
  },
  {
   "cell_type": "markdown",
   "metadata": {},
   "source": [
    "<div class=\"alert alert-block alert-info\">\n",
    "<b>PREREQUISITES STATED ARE MET :</b> \n",
    "   \n",
    "\n",
    "* At least 15 features (columns) - This dataset has 22 columns ie., >15 pre and post processing as well\n",
    "* At least 1000 instances (rows) - This dataset has around 7300 instances ie., >1000 pre and post processing\n",
    "* At least two categorical/ordinal columns - This dataset has >2 categorical columns\n",
    "* Between 5 to 10 percent missing values across the dataset - This dataset already has 10% missing values </div>\n"
   ]
  },
  {
   "cell_type": "code",
   "execution_count": 56,
   "metadata": {},
   "outputs": [],
   "source": [
    "#Import all required libraries\n",
    "import pandas as pd \n",
    "import numpy as np\n",
    "import matplotlib.pyplot as plt\n",
    "import seaborn as sns\n",
    "\n",
    "import warnings\n",
    "warnings.filterwarnings(\"ignore\")"
   ]
  },
  {
   "cell_type": "markdown",
   "metadata": {},
   "source": [
    "## Data Analysis"
   ]
  },
  {
   "cell_type": "markdown",
   "metadata": {},
   "source": [
    "Lets start the analysis with imports of some basic libraries which includes Pandas and Numpy for data handling and processing. Data set (.csv format) is downloaded to a local folder, read into the Jupyter notebook and stored in a Pandas DataFrame."
   ]
  },
  {
   "cell_type": "code",
   "execution_count": 57,
   "metadata": {},
   "outputs": [],
   "source": [
    "# Import dataset using pandas csv reader\n",
    "df = pd.read_csv('nyc-rolling-sales.csv')"
   ]
  },
  {
   "cell_type": "code",
   "execution_count": 58,
   "metadata": {},
   "outputs": [
    {
     "name": "stdout",
     "output_type": "stream",
     "text": [
      "<class 'pandas.core.frame.DataFrame'>\n",
      "RangeIndex: 7273 entries, 0 to 7272\n",
      "Data columns (total 22 columns):\n",
      " #   Column                          Non-Null Count  Dtype \n",
      "---  ------                          --------------  ----- \n",
      " 0   Unnamed: 0                      7273 non-null   int64 \n",
      " 1   BOROUGH                         7273 non-null   int64 \n",
      " 2   NEIGHBORHOOD                    7273 non-null   object\n",
      " 3   BUILDING CLASS CATEGORY         7273 non-null   object\n",
      " 4   TAX CLASS AT PRESENT            7273 non-null   object\n",
      " 5   BLOCK                           7273 non-null   int64 \n",
      " 6   LOT                             7273 non-null   int64 \n",
      " 7   EASE-MENT                       7273 non-null   object\n",
      " 8   BUILDING CLASS AT PRESENT       7273 non-null   object\n",
      " 9   ADDRESS                         7273 non-null   object\n",
      " 10  APARTMENT NUMBER                7273 non-null   object\n",
      " 11  ZIP CODE                        7273 non-null   int64 \n",
      " 12  RESIDENTIAL UNITS               7273 non-null   int64 \n",
      " 13  COMMERCIAL UNITS                7273 non-null   int64 \n",
      " 14  TOTAL UNITS                     7273 non-null   int64 \n",
      " 15  LAND SQUARE FEET                7273 non-null   object\n",
      " 16  GROSS SQUARE FEET               7273 non-null   object\n",
      " 17  YEAR BUILT                      7273 non-null   int64 \n",
      " 18  TAX CLASS AT TIME OF SALE       7273 non-null   int64 \n",
      " 19  BUILDING CLASS AT TIME OF SALE  7273 non-null   object\n",
      " 20  SALE PRICE                      7273 non-null   object\n",
      " 21  SALE DATE                       7273 non-null   object\n",
      "dtypes: int64(10), object(12)\n",
      "memory usage: 1.2+ MB\n"
     ]
    }
   ],
   "source": [
    "# There are couple of categorical columns which has to be transformed into numerical columns and nulls in the dataset\n",
    "# has to be handled as well for modelling\n",
    "df.info()"
   ]
  },
  {
   "cell_type": "markdown",
   "metadata": {},
   "source": [
    "Target column is SALE PRICE. This dataset has 7273 observations and 22 columns.\n",
    "It seems that there arent any nulls (np.nans here) as such in the dataset and lets explore further for missing data if they are represented with other notations if any which will be revealed after data transformation to appropriate datatypes"
   ]
  },
  {
   "cell_type": "code",
   "execution_count": 59,
   "metadata": {},
   "outputs": [
    {
     "data": {
      "text/plain": [
       "(7273, 22)"
      ]
     },
     "execution_count": 59,
     "metadata": {},
     "output_type": "execute_result"
    }
   ],
   "source": [
    "# This dataset has 7273 observations and 22 columns\n",
    "df.shape"
   ]
  },
  {
   "cell_type": "code",
   "execution_count": 60,
   "metadata": {},
   "outputs": [
    {
     "data": {
      "text/html": [
       "<div>\n",
       "<style scoped>\n",
       "    .dataframe tbody tr th:only-of-type {\n",
       "        vertical-align: middle;\n",
       "    }\n",
       "\n",
       "    .dataframe tbody tr th {\n",
       "        vertical-align: top;\n",
       "    }\n",
       "\n",
       "    .dataframe thead th {\n",
       "        text-align: right;\n",
       "    }\n",
       "</style>\n",
       "<table border=\"1\" class=\"dataframe\">\n",
       "  <thead>\n",
       "    <tr style=\"text-align: right;\">\n",
       "      <th></th>\n",
       "      <th>Unnamed: 0</th>\n",
       "      <th>BOROUGH</th>\n",
       "      <th>BLOCK</th>\n",
       "      <th>LOT</th>\n",
       "      <th>ZIP CODE</th>\n",
       "      <th>RESIDENTIAL UNITS</th>\n",
       "      <th>COMMERCIAL UNITS</th>\n",
       "      <th>TOTAL UNITS</th>\n",
       "      <th>YEAR BUILT</th>\n",
       "      <th>TAX CLASS AT TIME OF SALE</th>\n",
       "    </tr>\n",
       "  </thead>\n",
       "  <tbody>\n",
       "    <tr>\n",
       "      <th>count</th>\n",
       "      <td>7273.000000</td>\n",
       "      <td>7273.0</td>\n",
       "      <td>7273.000000</td>\n",
       "      <td>7273.000000</td>\n",
       "      <td>7273.000000</td>\n",
       "      <td>7273.000000</td>\n",
       "      <td>7273.000000</td>\n",
       "      <td>7273.000000</td>\n",
       "      <td>7273.000000</td>\n",
       "      <td>7273.000000</td>\n",
       "    </tr>\n",
       "    <tr>\n",
       "      <th>mean</th>\n",
       "      <td>3640.909803</td>\n",
       "      <td>1.0</td>\n",
       "      <td>908.225904</td>\n",
       "      <td>744.952152</td>\n",
       "      <td>9847.807782</td>\n",
       "      <td>3.199368</td>\n",
       "      <td>0.541592</td>\n",
       "      <td>3.770934</td>\n",
       "      <td>1700.163069</td>\n",
       "      <td>2.128833</td>\n",
       "    </tr>\n",
       "    <tr>\n",
       "      <th>std</th>\n",
       "      <td>2099.820745</td>\n",
       "      <td>0.0</td>\n",
       "      <td>604.425983</td>\n",
       "      <td>704.798018</td>\n",
       "      <td>1286.540177</td>\n",
       "      <td>25.585345</td>\n",
       "      <td>10.088822</td>\n",
       "      <td>27.589634</td>\n",
       "      <td>655.059116</td>\n",
       "      <td>0.570435</td>\n",
       "    </tr>\n",
       "    <tr>\n",
       "      <th>min</th>\n",
       "      <td>4.000000</td>\n",
       "      <td>1.0</td>\n",
       "      <td>7.000000</td>\n",
       "      <td>1.000000</td>\n",
       "      <td>0.000000</td>\n",
       "      <td>0.000000</td>\n",
       "      <td>0.000000</td>\n",
       "      <td>0.000000</td>\n",
       "      <td>0.000000</td>\n",
       "      <td>1.000000</td>\n",
       "    </tr>\n",
       "    <tr>\n",
       "      <th>25%</th>\n",
       "      <td>1823.000000</td>\n",
       "      <td>1.0</td>\n",
       "      <td>548.000000</td>\n",
       "      <td>38.000000</td>\n",
       "      <td>10006.000000</td>\n",
       "      <td>0.000000</td>\n",
       "      <td>0.000000</td>\n",
       "      <td>0.000000</td>\n",
       "      <td>1907.000000</td>\n",
       "      <td>2.000000</td>\n",
       "    </tr>\n",
       "    <tr>\n",
       "      <th>50%</th>\n",
       "      <td>3641.000000</td>\n",
       "      <td>1.0</td>\n",
       "      <td>794.000000</td>\n",
       "      <td>1014.000000</td>\n",
       "      <td>10011.000000</td>\n",
       "      <td>1.000000</td>\n",
       "      <td>0.000000</td>\n",
       "      <td>1.000000</td>\n",
       "      <td>1930.000000</td>\n",
       "      <td>2.000000</td>\n",
       "    </tr>\n",
       "    <tr>\n",
       "      <th>75%</th>\n",
       "      <td>5459.000000</td>\n",
       "      <td>1.0</td>\n",
       "      <td>1071.000000</td>\n",
       "      <td>1213.000000</td>\n",
       "      <td>10025.000000</td>\n",
       "      <td>1.000000</td>\n",
       "      <td>0.000000</td>\n",
       "      <td>1.000000</td>\n",
       "      <td>1987.000000</td>\n",
       "      <td>2.000000</td>\n",
       "    </tr>\n",
       "    <tr>\n",
       "      <th>max</th>\n",
       "      <td>7277.000000</td>\n",
       "      <td>1.0</td>\n",
       "      <td>2250.000000</td>\n",
       "      <td>9050.000000</td>\n",
       "      <td>10463.000000</td>\n",
       "      <td>894.000000</td>\n",
       "      <td>422.000000</td>\n",
       "      <td>902.000000</td>\n",
       "      <td>2017.000000</td>\n",
       "      <td>4.000000</td>\n",
       "    </tr>\n",
       "  </tbody>\n",
       "</table>\n",
       "</div>"
      ],
      "text/plain": [
       "        Unnamed: 0  BOROUGH        BLOCK          LOT      ZIP CODE  \\\n",
       "count  7273.000000   7273.0  7273.000000  7273.000000   7273.000000   \n",
       "mean   3640.909803      1.0   908.225904   744.952152   9847.807782   \n",
       "std    2099.820745      0.0   604.425983   704.798018   1286.540177   \n",
       "min       4.000000      1.0     7.000000     1.000000      0.000000   \n",
       "25%    1823.000000      1.0   548.000000    38.000000  10006.000000   \n",
       "50%    3641.000000      1.0   794.000000  1014.000000  10011.000000   \n",
       "75%    5459.000000      1.0  1071.000000  1213.000000  10025.000000   \n",
       "max    7277.000000      1.0  2250.000000  9050.000000  10463.000000   \n",
       "\n",
       "       RESIDENTIAL UNITS  COMMERCIAL UNITS  TOTAL UNITS   YEAR BUILT  \\\n",
       "count        7273.000000       7273.000000  7273.000000  7273.000000   \n",
       "mean            3.199368          0.541592     3.770934  1700.163069   \n",
       "std            25.585345         10.088822    27.589634   655.059116   \n",
       "min             0.000000          0.000000     0.000000     0.000000   \n",
       "25%             0.000000          0.000000     0.000000  1907.000000   \n",
       "50%             1.000000          0.000000     1.000000  1930.000000   \n",
       "75%             1.000000          0.000000     1.000000  1987.000000   \n",
       "max           894.000000        422.000000   902.000000  2017.000000   \n",
       "\n",
       "       TAX CLASS AT TIME OF SALE  \n",
       "count                7273.000000  \n",
       "mean                    2.128833  \n",
       "std                     0.570435  \n",
       "min                     1.000000  \n",
       "25%                     2.000000  \n",
       "50%                     2.000000  \n",
       "75%                     2.000000  \n",
       "max                     4.000000  "
      ]
     },
     "execution_count": 60,
     "metadata": {},
     "output_type": "execute_result"
    }
   ],
   "source": [
    "# General statistics\n",
    "df.describe()"
   ]
  },
  {
   "cell_type": "code",
   "execution_count": 61,
   "metadata": {},
   "outputs": [
    {
     "data": {
      "text/html": [
       "<div>\n",
       "<style scoped>\n",
       "    .dataframe tbody tr th:only-of-type {\n",
       "        vertical-align: middle;\n",
       "    }\n",
       "\n",
       "    .dataframe tbody tr th {\n",
       "        vertical-align: top;\n",
       "    }\n",
       "\n",
       "    .dataframe thead th {\n",
       "        text-align: right;\n",
       "    }\n",
       "</style>\n",
       "<table border=\"1\" class=\"dataframe\">\n",
       "  <thead>\n",
       "    <tr style=\"text-align: right;\">\n",
       "      <th></th>\n",
       "      <th>Unnamed: 0</th>\n",
       "      <th>BOROUGH</th>\n",
       "      <th>NEIGHBORHOOD</th>\n",
       "      <th>BUILDING CLASS CATEGORY</th>\n",
       "      <th>TAX CLASS AT PRESENT</th>\n",
       "      <th>BLOCK</th>\n",
       "      <th>LOT</th>\n",
       "      <th>EASE-MENT</th>\n",
       "      <th>BUILDING CLASS AT PRESENT</th>\n",
       "      <th>ADDRESS</th>\n",
       "      <th>...</th>\n",
       "      <th>RESIDENTIAL UNITS</th>\n",
       "      <th>COMMERCIAL UNITS</th>\n",
       "      <th>TOTAL UNITS</th>\n",
       "      <th>LAND SQUARE FEET</th>\n",
       "      <th>GROSS SQUARE FEET</th>\n",
       "      <th>YEAR BUILT</th>\n",
       "      <th>TAX CLASS AT TIME OF SALE</th>\n",
       "      <th>BUILDING CLASS AT TIME OF SALE</th>\n",
       "      <th>SALE PRICE</th>\n",
       "      <th>SALE DATE</th>\n",
       "    </tr>\n",
       "  </thead>\n",
       "  <tbody>\n",
       "    <tr>\n",
       "      <th>0</th>\n",
       "      <td>4</td>\n",
       "      <td>1</td>\n",
       "      <td>ALPHABET CITY</td>\n",
       "      <td>07 RENTALS - WALKUP APARTMENTS</td>\n",
       "      <td>2A</td>\n",
       "      <td>392</td>\n",
       "      <td>6</td>\n",
       "      <td></td>\n",
       "      <td>C2</td>\n",
       "      <td>153 AVENUE B</td>\n",
       "      <td>...</td>\n",
       "      <td>5</td>\n",
       "      <td>0</td>\n",
       "      <td>5</td>\n",
       "      <td>1633</td>\n",
       "      <td>6440</td>\n",
       "      <td>1900</td>\n",
       "      <td>2</td>\n",
       "      <td>C2</td>\n",
       "      <td>6625000</td>\n",
       "      <td>19-07-2017 00:00</td>\n",
       "    </tr>\n",
       "    <tr>\n",
       "      <th>1</th>\n",
       "      <td>5</td>\n",
       "      <td>1</td>\n",
       "      <td>ALPHABET CITY</td>\n",
       "      <td>07 RENTALS - WALKUP APARTMENTS</td>\n",
       "      <td>2</td>\n",
       "      <td>399</td>\n",
       "      <td>26</td>\n",
       "      <td></td>\n",
       "      <td>C7</td>\n",
       "      <td>234 EAST 4TH   STREET</td>\n",
       "      <td>...</td>\n",
       "      <td>28</td>\n",
       "      <td>3</td>\n",
       "      <td>31</td>\n",
       "      <td>4616</td>\n",
       "      <td>18690</td>\n",
       "      <td>1900</td>\n",
       "      <td>2</td>\n",
       "      <td>C7</td>\n",
       "      <td>-</td>\n",
       "      <td>14-12-2016 00:00</td>\n",
       "    </tr>\n",
       "    <tr>\n",
       "      <th>2</th>\n",
       "      <td>6</td>\n",
       "      <td>1</td>\n",
       "      <td>ALPHABET CITY</td>\n",
       "      <td>07 RENTALS - WALKUP APARTMENTS</td>\n",
       "      <td>2</td>\n",
       "      <td>399</td>\n",
       "      <td>39</td>\n",
       "      <td></td>\n",
       "      <td>C7</td>\n",
       "      <td>197 EAST 3RD   STREET</td>\n",
       "      <td>...</td>\n",
       "      <td>16</td>\n",
       "      <td>1</td>\n",
       "      <td>17</td>\n",
       "      <td>2212</td>\n",
       "      <td>7803</td>\n",
       "      <td>1900</td>\n",
       "      <td>2</td>\n",
       "      <td>C7</td>\n",
       "      <td>-</td>\n",
       "      <td>09-12-2016 00:00</td>\n",
       "    </tr>\n",
       "    <tr>\n",
       "      <th>3</th>\n",
       "      <td>7</td>\n",
       "      <td>1</td>\n",
       "      <td>ALPHABET CITY</td>\n",
       "      <td>07 RENTALS - WALKUP APARTMENTS</td>\n",
       "      <td>2B</td>\n",
       "      <td>402</td>\n",
       "      <td>21</td>\n",
       "      <td></td>\n",
       "      <td>C4</td>\n",
       "      <td>154 EAST 7TH STREET</td>\n",
       "      <td>...</td>\n",
       "      <td>10</td>\n",
       "      <td>0</td>\n",
       "      <td>10</td>\n",
       "      <td>2272</td>\n",
       "      <td>6794</td>\n",
       "      <td>1913</td>\n",
       "      <td>2</td>\n",
       "      <td>C4</td>\n",
       "      <td>3936272</td>\n",
       "      <td>23-09-2016 00:00</td>\n",
       "    </tr>\n",
       "    <tr>\n",
       "      <th>4</th>\n",
       "      <td>8</td>\n",
       "      <td>1</td>\n",
       "      <td>ALPHABET CITY</td>\n",
       "      <td>07 RENTALS - WALKUP APARTMENTS</td>\n",
       "      <td>2A</td>\n",
       "      <td>404</td>\n",
       "      <td>55</td>\n",
       "      <td></td>\n",
       "      <td>C2</td>\n",
       "      <td>301 EAST 10TH   STREET</td>\n",
       "      <td>...</td>\n",
       "      <td>6</td>\n",
       "      <td>0</td>\n",
       "      <td>6</td>\n",
       "      <td>2369</td>\n",
       "      <td>4615</td>\n",
       "      <td>1900</td>\n",
       "      <td>2</td>\n",
       "      <td>C2</td>\n",
       "      <td>8000000</td>\n",
       "      <td>17-11-2016 00:00</td>\n",
       "    </tr>\n",
       "  </tbody>\n",
       "</table>\n",
       "<p>5 rows × 22 columns</p>\n",
       "</div>"
      ],
      "text/plain": [
       "   Unnamed: 0  BOROUGH   NEIGHBORHOOD  \\\n",
       "0           4        1  ALPHABET CITY   \n",
       "1           5        1  ALPHABET CITY   \n",
       "2           6        1  ALPHABET CITY   \n",
       "3           7        1  ALPHABET CITY   \n",
       "4           8        1  ALPHABET CITY   \n",
       "\n",
       "                       BUILDING CLASS CATEGORY TAX CLASS AT PRESENT  BLOCK  \\\n",
       "0  07 RENTALS - WALKUP APARTMENTS                                2A    392   \n",
       "1  07 RENTALS - WALKUP APARTMENTS                                 2    399   \n",
       "2  07 RENTALS - WALKUP APARTMENTS                                 2    399   \n",
       "3  07 RENTALS - WALKUP APARTMENTS                                2B    402   \n",
       "4  07 RENTALS - WALKUP APARTMENTS                                2A    404   \n",
       "\n",
       "   LOT EASE-MENT BUILDING CLASS AT PRESENT                 ADDRESS  ...  \\\n",
       "0    6                                  C2            153 AVENUE B  ...   \n",
       "1   26                                  C7   234 EAST 4TH   STREET  ...   \n",
       "2   39                                  C7   197 EAST 3RD   STREET  ...   \n",
       "3   21                                  C4     154 EAST 7TH STREET  ...   \n",
       "4   55                                  C2  301 EAST 10TH   STREET  ...   \n",
       "\n",
       "  RESIDENTIAL UNITS  COMMERCIAL UNITS  TOTAL UNITS  LAND SQUARE FEET  \\\n",
       "0                 5                 0            5              1633   \n",
       "1                28                 3           31              4616   \n",
       "2                16                 1           17              2212   \n",
       "3                10                 0           10              2272   \n",
       "4                 6                 0            6              2369   \n",
       "\n",
       "   GROSS SQUARE FEET YEAR BUILT TAX CLASS AT TIME OF SALE  \\\n",
       "0               6440       1900                         2   \n",
       "1              18690       1900                         2   \n",
       "2               7803       1900                         2   \n",
       "3               6794       1913                         2   \n",
       "4               4615       1900                         2   \n",
       "\n",
       "   BUILDING CLASS AT TIME OF SALE  SALE PRICE         SALE DATE  \n",
       "0                              C2     6625000  19-07-2017 00:00  \n",
       "1                              C7         -    14-12-2016 00:00  \n",
       "2                              C7         -    09-12-2016 00:00  \n",
       "3                              C4     3936272  23-09-2016 00:00  \n",
       "4                              C2     8000000  17-11-2016 00:00  \n",
       "\n",
       "[5 rows x 22 columns]"
      ]
     },
     "execution_count": 61,
     "metadata": {},
     "output_type": "execute_result"
    }
   ],
   "source": [
    "# Sample records of the dataset\n",
    "df.head()"
   ]
  },
  {
   "cell_type": "code",
   "execution_count": 62,
   "metadata": {},
   "outputs": [
    {
     "data": {
      "text/plain": [
       "array([' '], dtype=object)"
      ]
     },
     "execution_count": 62,
     "metadata": {},
     "output_type": "execute_result"
    }
   ],
   "source": [
    "df['EASE-MENT'].unique()"
   ]
  },
  {
   "cell_type": "code",
   "execution_count": 63,
   "metadata": {},
   "outputs": [
    {
     "data": {
      "text/plain": [
       "array([1], dtype=int64)"
      ]
     },
     "execution_count": 63,
     "metadata": {},
     "output_type": "execute_result"
    }
   ],
   "source": [
    "df['BOROUGH'].unique()"
   ]
  },
  {
   "cell_type": "code",
   "execution_count": 64,
   "metadata": {},
   "outputs": [
    {
     "data": {
      "text/plain": [
       "array(['6625000', ' -  ', '3936272', ..., '987702', '1037500', '1785000'],\n",
       "      dtype=object)"
      ]
     },
     "execution_count": 64,
     "metadata": {},
     "output_type": "execute_result"
    }
   ],
   "source": [
    "df['SALE PRICE'].unique()"
   ]
  },
  {
   "cell_type": "markdown",
   "metadata": {},
   "source": [
    "From above 4 cells it is evident that,\n",
    "* Nulls are represented either as 1 or more blank-spaces or as hyphen. Thats why df.info() doesnt report any nulls since there were no np.nans as such\n",
    "* 'Unnamed: 0' column is an internal index column used to represent the dataset and can thus be dropped\n",
    "* 'EASE-MENT' column is completely empty and can be entirely dropped\n",
    "* 'BOROUGH' column is entirely filled with 1 to represent 'Manhattan' and hence that can bw dropped as well"
   ]
  },
  {
   "cell_type": "markdown",
   "metadata": {},
   "source": [
    "## Data Preprocessing"
   ]
  },
  {
   "cell_type": "code",
   "execution_count": 65,
   "metadata": {},
   "outputs": [],
   "source": [
    "# EASE_MEANT is totally empty and can be dropped\n",
    "df.drop('EASE-MENT', axis = 1, inplace = True)\n",
    "\n",
    "# 'Unnamed: 0' column is an index column used to represent the dataset and can thus be dropped\n",
    "df.drop('Unnamed: 0', axis = 1, inplace = True)\n",
    "\n",
    "# 'BOROUGH' column is entirely filled with 1 to represent 'Manhattan' and hence that can bw dropped as well\n",
    "df.drop('BOROUGH', axis = 1, inplace = True)"
   ]
  },
  {
   "cell_type": "code",
   "execution_count": 66,
   "metadata": {},
   "outputs": [],
   "source": [
    "# Transform SALE PRICE to numeric. Errors set as coerce to transform invalid values like hyphen seen above to np.Nan\n",
    "df['SALE PRICE'] = pd.to_numeric(df['SALE PRICE'], errors='coerce')\n",
    "\n",
    "# Transform LAND and GROSS SQUARE FEET to numeric. Errors set as coerce to transform invalid values like hyphen seen above to np.Nan\n",
    "df['LAND SQUARE FEET'] = pd.to_numeric(df['LAND SQUARE FEET'], errors='coerce')\n",
    "df['GROSS SQUARE FEET']= pd.to_numeric(df['GROSS SQUARE FEET'], errors='coerce')\n",
    "\n",
    "# Transform SALE DATE to datetime. Errors as coerce to transform invalid values like hyphen seen aboce to np.Nan\n",
    "df['SALE DATE'] = pd.to_datetime(df['SALE DATE'], errors='coerce')"
   ]
  },
  {
   "cell_type": "markdown",
   "metadata": {},
   "source": [
    "### Drop Duplicates"
   ]
  },
  {
   "cell_type": "code",
   "execution_count": 67,
   "metadata": {},
   "outputs": [
    {
     "data": {
      "text/plain": [
       "47"
      ]
     },
     "execution_count": 67,
     "metadata": {},
     "output_type": "execute_result"
    }
   ],
   "source": [
    "# 47 rows are duplicates\n",
    "sum(df.duplicated())"
   ]
  },
  {
   "cell_type": "code",
   "execution_count": 68,
   "metadata": {},
   "outputs": [
    {
     "data": {
      "text/plain": [
       "0"
      ]
     },
     "execution_count": 68,
     "metadata": {},
     "output_type": "execute_result"
    }
   ],
   "source": [
    "# Drop duplicates - 47 rows are dropped\n",
    "df.drop_duplicates(inplace=True)\n",
    "sum(df.duplicated())"
   ]
  },
  {
   "cell_type": "code",
   "execution_count": 69,
   "metadata": {},
   "outputs": [
    {
     "name": "stdout",
     "output_type": "stream",
     "text": [
      "<class 'pandas.core.frame.DataFrame'>\n",
      "Int64Index: 7226 entries, 0 to 7272\n",
      "Data columns (total 19 columns):\n",
      " #   Column                          Non-Null Count  Dtype         \n",
      "---  ------                          --------------  -----         \n",
      " 0   NEIGHBORHOOD                    7226 non-null   object        \n",
      " 1   BUILDING CLASS CATEGORY         7226 non-null   object        \n",
      " 2   TAX CLASS AT PRESENT            7226 non-null   object        \n",
      " 3   BLOCK                           7226 non-null   int64         \n",
      " 4   LOT                             7226 non-null   int64         \n",
      " 5   BUILDING CLASS AT PRESENT       7226 non-null   object        \n",
      " 6   ADDRESS                         7226 non-null   object        \n",
      " 7   APARTMENT NUMBER                7226 non-null   object        \n",
      " 8   ZIP CODE                        7226 non-null   int64         \n",
      " 9   RESIDENTIAL UNITS               7226 non-null   int64         \n",
      " 10  COMMERCIAL UNITS                7226 non-null   int64         \n",
      " 11  TOTAL UNITS                     7226 non-null   int64         \n",
      " 12  LAND SQUARE FEET                1110 non-null   float64       \n",
      " 13  GROSS SQUARE FEET               1028 non-null   float64       \n",
      " 14  YEAR BUILT                      7226 non-null   int64         \n",
      " 15  TAX CLASS AT TIME OF SALE       7226 non-null   int64         \n",
      " 16  BUILDING CLASS AT TIME OF SALE  7226 non-null   object        \n",
      " 17  SALE PRICE                      5657 non-null   float64       \n",
      " 18  SALE DATE                       7226 non-null   datetime64[ns]\n",
      "dtypes: datetime64[ns](1), float64(3), int64(8), object(7)\n",
      "memory usage: 1.1+ MB\n"
     ]
    }
   ],
   "source": [
    "df.info()"
   ]
  },
  {
   "cell_type": "code",
   "execution_count": 70,
   "metadata": {},
   "outputs": [
    {
     "data": {
      "text/plain": [
       "13883"
      ]
     },
     "execution_count": 70,
     "metadata": {},
     "output_type": "execute_result"
    }
   ],
   "source": [
    "# Total null values in the entire dataset\n",
    "df.isnull().sum().sum()"
   ]
  },
  {
   "cell_type": "code",
   "execution_count": 71,
   "metadata": {},
   "outputs": [
    {
     "data": {
      "text/plain": [
       "10.111876702550731"
      ]
     },
     "execution_count": 71,
     "metadata": {},
     "output_type": "execute_result"
    }
   ],
   "source": [
    "# Percentage of nulls in the dataset is around 10%\n",
    "(df.isnull().sum().sum()/ (df.shape[0] * df.shape[1]))*100"
   ]
  },
  {
   "cell_type": "markdown",
   "metadata": {},
   "source": [
    "From above 2 cells it is clear that columns like salePrice, LandSquareFeet and GrossSquareFeet after conversion into numeric type and thereby replacing hyphens and blank spaces as np.Nan reveals the missing values. Lets impute these 3 columns in the further steps"
   ]
  },
  {
   "cell_type": "code",
   "execution_count": 72,
   "metadata": {},
   "outputs": [
    {
     "data": {
      "text/plain": [
       "5657"
      ]
     },
     "execution_count": 72,
     "metadata": {},
     "output_type": "execute_result"
    }
   ],
   "source": [
    "# Remove observations with missing SALE PRICE\n",
    "df = df[df['SALE PRICE'].notnull()]\n",
    "len(df)"
   ]
  },
  {
   "cell_type": "code",
   "execution_count": 73,
   "metadata": {},
   "outputs": [
    {
     "data": {
      "text/plain": [
       "(5657, 19)"
      ]
     },
     "execution_count": 73,
     "metadata": {},
     "output_type": "execute_result"
    }
   ],
   "source": [
    "df.shape"
   ]
  },
  {
   "cell_type": "code",
   "execution_count": 74,
   "metadata": {},
   "outputs": [
    {
     "data": {
      "text/html": [
       "<div>\n",
       "<style scoped>\n",
       "    .dataframe tbody tr th:only-of-type {\n",
       "        vertical-align: middle;\n",
       "    }\n",
       "\n",
       "    .dataframe tbody tr th {\n",
       "        vertical-align: top;\n",
       "    }\n",
       "\n",
       "    .dataframe thead th {\n",
       "        text-align: right;\n",
       "    }\n",
       "</style>\n",
       "<table border=\"1\" class=\"dataframe\">\n",
       "  <thead>\n",
       "    <tr style=\"text-align: right;\">\n",
       "      <th></th>\n",
       "      <th>BLOCK</th>\n",
       "      <th>LOT</th>\n",
       "      <th>ZIP CODE</th>\n",
       "      <th>RESIDENTIAL UNITS</th>\n",
       "      <th>COMMERCIAL UNITS</th>\n",
       "      <th>TOTAL UNITS</th>\n",
       "      <th>LAND SQUARE FEET</th>\n",
       "      <th>GROSS SQUARE FEET</th>\n",
       "      <th>YEAR BUILT</th>\n",
       "      <th>TAX CLASS AT TIME OF SALE</th>\n",
       "      <th>SALE PRICE</th>\n",
       "    </tr>\n",
       "  </thead>\n",
       "  <tbody>\n",
       "    <tr>\n",
       "      <th>count</th>\n",
       "      <td>5657.000000</td>\n",
       "      <td>5657.000000</td>\n",
       "      <td>5657.000000</td>\n",
       "      <td>5657.000000</td>\n",
       "      <td>5657.000000</td>\n",
       "      <td>5657.000000</td>\n",
       "      <td>627.000000</td>\n",
       "      <td>5.940000e+02</td>\n",
       "      <td>5657.000000</td>\n",
       "      <td>5657.000000</td>\n",
       "      <td>5.657000e+03</td>\n",
       "    </tr>\n",
       "    <tr>\n",
       "      <th>mean</th>\n",
       "      <td>894.400212</td>\n",
       "      <td>737.171115</td>\n",
       "      <td>9852.683401</td>\n",
       "      <td>2.877497</td>\n",
       "      <td>0.262153</td>\n",
       "      <td>3.151140</td>\n",
       "      <td>6217.556619</td>\n",
       "      <td>3.334496e+04</td>\n",
       "      <td>1744.563019</td>\n",
       "      <td>2.061870</td>\n",
       "      <td>4.011935e+06</td>\n",
       "    </tr>\n",
       "    <tr>\n",
       "      <th>std</th>\n",
       "      <td>601.714677</td>\n",
       "      <td>665.350836</td>\n",
       "      <td>1267.087334</td>\n",
       "      <td>27.018349</td>\n",
       "      <td>5.612805</td>\n",
       "      <td>27.716212</td>\n",
       "      <td>16765.414190</td>\n",
       "      <td>1.115876e+05</td>\n",
       "      <td>604.560819</td>\n",
       "      <td>0.434611</td>\n",
       "      <td>2.278091e+07</td>\n",
       "    </tr>\n",
       "    <tr>\n",
       "      <th>min</th>\n",
       "      <td>7.000000</td>\n",
       "      <td>1.000000</td>\n",
       "      <td>0.000000</td>\n",
       "      <td>0.000000</td>\n",
       "      <td>0.000000</td>\n",
       "      <td>0.000000</td>\n",
       "      <td>384.000000</td>\n",
       "      <td>3.220000e+02</td>\n",
       "      <td>0.000000</td>\n",
       "      <td>1.000000</td>\n",
       "      <td>1.000000e+00</td>\n",
       "    </tr>\n",
       "    <tr>\n",
       "      <th>25%</th>\n",
       "      <td>539.000000</td>\n",
       "      <td>37.000000</td>\n",
       "      <td>10006.000000</td>\n",
       "      <td>0.000000</td>\n",
       "      <td>0.000000</td>\n",
       "      <td>0.000000</td>\n",
       "      <td>1732.500000</td>\n",
       "      <td>3.653750e+03</td>\n",
       "      <td>1910.000000</td>\n",
       "      <td>2.000000</td>\n",
       "      <td>7.107380e+05</td>\n",
       "    </tr>\n",
       "    <tr>\n",
       "      <th>50%</th>\n",
       "      <td>793.000000</td>\n",
       "      <td>1014.000000</td>\n",
       "      <td>10011.000000</td>\n",
       "      <td>1.000000</td>\n",
       "      <td>0.000000</td>\n",
       "      <td>1.000000</td>\n",
       "      <td>2468.000000</td>\n",
       "      <td>7.000000e+03</td>\n",
       "      <td>1931.000000</td>\n",
       "      <td>2.000000</td>\n",
       "      <td>1.228888e+06</td>\n",
       "    </tr>\n",
       "    <tr>\n",
       "      <th>75%</th>\n",
       "      <td>1063.000000</td>\n",
       "      <td>1214.000000</td>\n",
       "      <td>10025.000000</td>\n",
       "      <td>1.000000</td>\n",
       "      <td>0.000000</td>\n",
       "      <td>1.000000</td>\n",
       "      <td>4757.000000</td>\n",
       "      <td>1.717250e+04</td>\n",
       "      <td>1989.000000</td>\n",
       "      <td>2.000000</td>\n",
       "      <td>2.650000e+06</td>\n",
       "    </tr>\n",
       "    <tr>\n",
       "      <th>max</th>\n",
       "      <td>2250.000000</td>\n",
       "      <td>4375.000000</td>\n",
       "      <td>10463.000000</td>\n",
       "      <td>894.000000</td>\n",
       "      <td>318.000000</td>\n",
       "      <td>902.000000</td>\n",
       "      <td>189025.000000</td>\n",
       "      <td>1.617206e+06</td>\n",
       "      <td>2016.000000</td>\n",
       "      <td>4.000000</td>\n",
       "      <td>1.040000e+09</td>\n",
       "    </tr>\n",
       "  </tbody>\n",
       "</table>\n",
       "</div>"
      ],
      "text/plain": [
       "             BLOCK          LOT      ZIP CODE  RESIDENTIAL UNITS  \\\n",
       "count  5657.000000  5657.000000   5657.000000        5657.000000   \n",
       "mean    894.400212   737.171115   9852.683401           2.877497   \n",
       "std     601.714677   665.350836   1267.087334          27.018349   \n",
       "min       7.000000     1.000000      0.000000           0.000000   \n",
       "25%     539.000000    37.000000  10006.000000           0.000000   \n",
       "50%     793.000000  1014.000000  10011.000000           1.000000   \n",
       "75%    1063.000000  1214.000000  10025.000000           1.000000   \n",
       "max    2250.000000  4375.000000  10463.000000         894.000000   \n",
       "\n",
       "       COMMERCIAL UNITS  TOTAL UNITS  LAND SQUARE FEET  GROSS SQUARE FEET  \\\n",
       "count       5657.000000  5657.000000        627.000000       5.940000e+02   \n",
       "mean           0.262153     3.151140       6217.556619       3.334496e+04   \n",
       "std            5.612805    27.716212      16765.414190       1.115876e+05   \n",
       "min            0.000000     0.000000        384.000000       3.220000e+02   \n",
       "25%            0.000000     0.000000       1732.500000       3.653750e+03   \n",
       "50%            0.000000     1.000000       2468.000000       7.000000e+03   \n",
       "75%            0.000000     1.000000       4757.000000       1.717250e+04   \n",
       "max          318.000000   902.000000     189025.000000       1.617206e+06   \n",
       "\n",
       "        YEAR BUILT  TAX CLASS AT TIME OF SALE    SALE PRICE  \n",
       "count  5657.000000                5657.000000  5.657000e+03  \n",
       "mean   1744.563019                   2.061870  4.011935e+06  \n",
       "std     604.560819                   0.434611  2.278091e+07  \n",
       "min       0.000000                   1.000000  1.000000e+00  \n",
       "25%    1910.000000                   2.000000  7.107380e+05  \n",
       "50%    1931.000000                   2.000000  1.228888e+06  \n",
       "75%    1989.000000                   2.000000  2.650000e+06  \n",
       "max    2016.000000                   4.000000  1.040000e+09  "
      ]
     },
     "execution_count": 74,
     "metadata": {},
     "output_type": "execute_result"
    }
   ],
   "source": [
    "df.describe()"
   ]
  },
  {
   "cell_type": "markdown",
   "metadata": {},
   "source": [
    "From above stats, we can interpret that\n",
    "* There are ZIP CODES with a value of 0, which is probably invalid\n",
    "* There are properties with 0 SQUARE FEET, which is probably invalid\n",
    "* Some buildings were built in the YEAR 0, which again is invalid\n",
    "* Some properties have a SALE PRICE very less of the order of 0, which is also wrong. This according to the dataset means the property was transferred but its not actually a sale.\n",
    "\n",
    "Lets handle all these in the upcoming steps"
   ]
  },
  {
   "cell_type": "markdown",
   "metadata": {},
   "source": [
    "### Outliers"
   ]
  },
  {
   "cell_type": "code",
   "execution_count": 75,
   "metadata": {},
   "outputs": [
    {
     "data": {
      "image/png": "[encoded data removed]",
      "text/plain": [
       "<Figure size 1080x432 with 1 Axes>"
      ]
     },
     "metadata": {
      "needs_background": "light"
     },
     "output_type": "display_data"
    }
   ],
   "source": [
    "plt.figure(figsize=(15,6))\n",
    "\n",
    "# Histogram plot of SALE PRICE\n",
    "sns.histplot(df['SALE PRICE'])\n",
    "plt.title('Histogram of SALE PRICE in USD')\n",
    "plt.ylabel('Frequency')\n",
    "plt.show()"
   ]
  },
  {
   "cell_type": "code",
   "execution_count": 76,
   "metadata": {},
   "outputs": [
    {
     "data": {
      "text/plain": [
       "<AxesSubplot:>"
      ]
     },
     "execution_count": 76,
     "metadata": {},
     "output_type": "execute_result"
    },
    {
     "data": {
      "image/png": "[encoded data removed]",
      "text/plain": [
       "<Figure size 432x288 with 1 Axes>"
      ]
     },
     "metadata": {
      "needs_background": "light"
     },
     "output_type": "display_data"
    }
   ],
   "source": [
    "# Histogram of SALE PRICE\n",
    "df['SALE PRICE'].hist()"
   ]
  },
  {
   "cell_type": "markdown",
   "metadata": {},
   "source": [
    "From the above histograms, we can infer that most of the properties have very low price of the order of 0. , which is also wrong. This according to the dataset means the property was transferred but its not actually a sale. \n",
    "\n",
    "From the describe statistics we can infer that 75% of the properties in this dataset are cheaper than 950,000 USD. Also there is a fair share of properties below 100000 USD which is way too cheap for an expensive city like Manhattan.\n",
    "\n",
    "Hence let's cap the property price between 100,000 USD and 5,000,000 USD in this case."
   ]
  },
  {
   "cell_type": "code",
   "execution_count": 77,
   "metadata": {},
   "outputs": [
    {
     "data": {
      "text/plain": [
       "4724"
      ]
     },
     "execution_count": 77,
     "metadata": {},
     "output_type": "execute_result"
    }
   ],
   "source": [
    "# Remove observations that fall outside those caps\n",
    "df = df[(df['SALE PRICE'] > 100000) & (df['SALE PRICE'] < 5000000)]\n",
    "len(df)"
   ]
  },
  {
   "cell_type": "markdown",
   "metadata": {},
   "source": [
    "After treating the outliers, the distribution of the data has become more representative"
   ]
  },
  {
   "cell_type": "code",
   "execution_count": 78,
   "metadata": {},
   "outputs": [
    {
     "data": {
      "image/png": "[encoded data removed]",
      "text/plain": [
       "<Figure size 1080x432 with 1 Axes>"
      ]
     },
     "metadata": {
      "needs_background": "light"
     },
     "output_type": "display_data"
    }
   ],
   "source": [
    "#Set the size of the plot\n",
    "plt.figure(figsize=(15,6))\n",
    "\n",
    "# Plot the data and configure the settings\n",
    "sns.distplot(df['SALE PRICE'])\n",
    "plt.title('Histogram of SALE PRICE in USD')\n",
    "plt.ylabel('Frequency')\n",
    "plt.show()"
   ]
  },
  {
   "cell_type": "code",
   "execution_count": 79,
   "metadata": {
    "collapsed": true
   },
   "outputs": [
    {
     "data": {
      "text/plain": [
       "array([ 2272.,  1750.,    nan,  1520.,  1779.,  1218.,  1566.,  2000.,\n",
       "        2469., 10053.,  4600.,  2271.,  5029.,   892.,  1360.,  1098.,\n",
       "        4764.,  2510.,  1200.,  1275.,  2277.,  4937.,  6994., 27600.,\n",
       "       11553.,   987.,  1407.,  2270.,   384.,   925.,   943.,  2171.,\n",
       "       15845.,  1549.,  1665.,  1699.,  1488.,  1431.,  1900.,  2220.,\n",
       "        2498.,  1686.,  1231.,  1615.,  1817.,  2377.,  1799.,  1749.,\n",
       "        1599.,  1598.,  1472.,  1499.,   756.,  1343.,  3033.,  1998.,\n",
       "        1873.,  2495.,  1824.,  1682.,  1249.,  1271.,  2018.,  2629.,\n",
       "        1444.,  1700.,  1848.,  3797.,  2523.,  2153.,  1413.,  1716.,\n",
       "        1917.,  1500.,  1557.,   900.,  2765.,  1815.,  1608.,  1680.,\n",
       "        1667.,  2546.,  1394.,  2400.,  2100.,  1913.,  2500.,  2492.,\n",
       "       15009.,  2598.,  3088.,  1856.,  5973.,  2288.,  2525.,  1162.,\n",
       "        1345.,  2212.,  1968., 10294.,  1875.,  8074.,  2851.,  1083.,\n",
       "        1422.,  1766.,  5046.,  7064.,  2075.,  5752.,  1892.,  1850.,\n",
       "        1865.,  1880.,  1460.,  1898.,  1340.,  1080.,  1632.,  2447.,\n",
       "        1582.,  1674.,  1649.,  1672.,  2367.,   750.,  1424.,  1352.,\n",
       "        3994., 11873.,  2200.,  4996.,  6941.,  1088.,   846.,   799.,\n",
       "        6495., 11643.,  1219.,  3600.,  3475.,  3539.,  3750.,  7500.,\n",
       "       24875.,  1840.,  1794.,  1605.,  1765.,  1050.,  3550.,  2542.])"
      ]
     },
     "execution_count": 79,
     "metadata": {},
     "output_type": "execute_result"
    }
   ],
   "source": [
    "df['LAND SQUARE FEET'].unique()"
   ]
  },
  {
   "cell_type": "code",
   "execution_count": 80,
   "metadata": {},
   "outputs": [],
   "source": [
    "# Replace nulls in land square feet with its mean\n",
    "df['LAND SQUARE FEET'].replace(np.nan, df['LAND SQUARE FEET'].mean(), inplace=True)"
   ]
  },
  {
   "cell_type": "code",
   "execution_count": 81,
   "metadata": {
    "collapsed": true
   },
   "outputs": [
    {
     "data": {
      "text/plain": [
       "array([6.79400e+03, 4.22600e+03,         nan, 3.36000e+03, 3.71300e+03,\n",
       "       3.58600e+03, 6.33000e+03, 4.10000e+03, 1.98920e+04, 7.88820e+04,\n",
       "       1.22000e+04, 5.26000e+03, 2.12740e+04, 1.78400e+03, 3.27400e+03,\n",
       "       2.71200e+03, 2.07000e+04, 8.17500e+03, 3.36000e+02, 2.64000e+03,\n",
       "       5.79400e+03, 5.54730e+04, 7.94650e+04, 5.66858e+05, 3.06800e+04,\n",
       "       2.17991e+05, 3.78000e+03, 3.08000e+03, 1.32300e+04, 1.15200e+03,\n",
       "       2.33700e+03, 2.68400e+03, 3.52400e+03, 3.03600e+03, 3.20000e+03,\n",
       "       3.62000e+03, 3.53600e+03, 3.95100e+03, 3.59100e+03, 3.37100e+03,\n",
       "       4.12200e+03, 5.13800e+03, 3.00000e+03, 3.41600e+03, 3.24000e+03,\n",
       "       3.32800e+03, 5.00400e+03, 4.00200e+03, 3.60000e+03, 3.46000e+03,\n",
       "       2.62500e+03, 3.84000e+03, 2.34000e+03, 4.00000e+03, 3.40000e+03,\n",
       "       4.32000e+03, 8.10000e+03, 3.05400e+03, 3.04600e+03, 2.85200e+03,\n",
       "       2.64600e+03, 3.33500e+03, 3.33200e+03, 3.32000e+03, 2.70000e+03,\n",
       "       4.60300e+03, 2.05800e+03, 5.16700e+03, 2.99400e+03, 8.50000e+03,\n",
       "       2.91900e+03, 4.40800e+03, 4.40000e+03, 2.58500e+03, 7.23000e+03,\n",
       "       4.14000e+03, 1.50060e+04, 8.52500e+03, 3.42400e+03, 3.75000e+03,\n",
       "       3.21300e+03, 2.55000e+03, 3.66800e+03, 3.80600e+03, 5.20000e+03,\n",
       "       4.07000e+03, 2.28600e+03, 2.34300e+03, 4.80000e+03, 2.49700e+03,\n",
       "       3.02500e+03, 3.33400e+03, 2.25000e+03, 2.56100e+03, 2.02500e+03,\n",
       "       4.29000e+03, 2.40000e+03, 3.79600e+03, 2.88000e+03, 2.97300e+03,\n",
       "       2.73600e+03, 1.11050e+04, 4.03400e+03, 4.61100e+03, 3.95000e+03,\n",
       "       2.11800e+03, 2.80200e+03, 2.50200e+03, 4.80400e+03, 5.46800e+03,\n",
       "       1.00180e+04, 2.11500e+03, 2.62000e+03, 2.46260e+04, 3.76300e+03,\n",
       "       4.52900e+03, 8.99000e+03, 2.46400e+03, 2.85800e+03, 2.89800e+03,\n",
       "       3.68000e+03, 3.42000e+03, 3.73000e+04, 7.12500e+03, 3.81640e+04,\n",
       "       9.60000e+03, 7.32800e+03, 4.07500e+03, 3.53200e+03, 4.80900e+03,\n",
       "       2.41200e+03, 6.09200e+03, 6.59200e+03, 7.14200e+03, 6.71200e+03,\n",
       "       3.48300e+03, 2.69700e+03, 1.06840e+04, 1.31250e+04, 8.12500e+03,\n",
       "       6.04000e+03, 2.82360e+04, 8.14000e+03, 2.50060e+04, 4.73000e+03,\n",
       "       4.50000e+03, 2.18900e+03, 2.39400e+03, 5.14400e+03, 5.66000e+03,\n",
       "       3.45600e+03, 3.99200e+03, 2.46000e+03, 7.27500e+03, 5.81000e+03,\n",
       "       3.87600e+03, 4.94400e+03, 2.30700e+03, 4.36900e+03, 4.46400e+03,\n",
       "       3.70800e+03, 3.10800e+03, 2.68800e+03, 3.48000e+03, 2.79600e+03,\n",
       "       5.27200e+03, 4.75500e+03, 2.86800e+03, 2.18000e+03, 4.59000e+03,\n",
       "       4.47900e+03, 4.81600e+03, 1.80000e+03, 2.26500e+03, 2.67000e+03,\n",
       "       4.78400e+03, 4.11200e+03, 2.52000e+03, 1.25960e+04, 3.60400e+03,\n",
       "       2.63700e+03, 2.20200e+03, 4.20000e+03, 1.91860e+04, 9.84200e+03,\n",
       "       1.92000e+04, 3.51600e+03, 2.84500e+03, 3.26000e+03, 1.85000e+03,\n",
       "       2.78100e+04, 1.15790e+04, 1.22400e+03, 1.26700e+04, 1.43200e+04,\n",
       "       1.26000e+04, 1.22240e+04, 7.00000e+03, 7.72000e+03, 3.80000e+03,\n",
       "       7.53500e+03, 1.75000e+03, 3.82300e+03, 3.33300e+03, 1.42680e+04,\n",
       "       7.54000e+03, 1.17950e+04])"
      ]
     },
     "execution_count": 81,
     "metadata": {},
     "output_type": "execute_result"
    }
   ],
   "source": [
    "df['GROSS SQUARE FEET'].unique()"
   ]
  },
  {
   "cell_type": "code",
   "execution_count": 82,
   "metadata": {},
   "outputs": [],
   "source": [
    "# Replace nulls in gross square feet with its mean\n",
    "df['GROSS SQUARE FEET'].replace(np.nan, df['GROSS SQUARE FEET'].mean(), inplace=True)"
   ]
  },
  {
   "cell_type": "code",
   "execution_count": 83,
   "metadata": {},
   "outputs": [],
   "source": [
    "# Remove data where commercial + residential doesn't equal total units since there is some mis-match in the dataset\n",
    "df = df[df['TOTAL UNITS'] == df['COMMERCIAL UNITS'] + df['RESIDENTIAL UNITS']]"
   ]
  },
  {
   "cell_type": "code",
   "execution_count": 84,
   "metadata": {},
   "outputs": [],
   "source": [
    "df = df[df['YEAR BUILT'] > 0]"
   ]
  },
  {
   "cell_type": "code",
   "execution_count": 85,
   "metadata": {},
   "outputs": [],
   "source": [
    "# Sale year oof 2017 is taken as the reference year\n",
    "df['BUILDING AGE'] = 2017 - df['YEAR BUILT']"
   ]
  },
  {
   "cell_type": "code",
   "execution_count": 86,
   "metadata": {
    "collapsed": true
   },
   "outputs": [
    {
     "name": "stdout",
     "output_type": "stream",
     "text": [
      "<class 'pandas.core.frame.DataFrame'>\n",
      "Int64Index: 4179 entries, 3 to 7270\n",
      "Data columns (total 20 columns):\n",
      " #   Column                          Non-Null Count  Dtype         \n",
      "---  ------                          --------------  -----         \n",
      " 0   NEIGHBORHOOD                    4179 non-null   object        \n",
      " 1   BUILDING CLASS CATEGORY         4179 non-null   object        \n",
      " 2   TAX CLASS AT PRESENT            4179 non-null   object        \n",
      " 3   BLOCK                           4179 non-null   int64         \n",
      " 4   LOT                             4179 non-null   int64         \n",
      " 5   BUILDING CLASS AT PRESENT       4179 non-null   object        \n",
      " 6   ADDRESS                         4179 non-null   object        \n",
      " 7   APARTMENT NUMBER                4179 non-null   object        \n",
      " 8   ZIP CODE                        4179 non-null   int64         \n",
      " 9   RESIDENTIAL UNITS               4179 non-null   int64         \n",
      " 10  COMMERCIAL UNITS                4179 non-null   int64         \n",
      " 11  TOTAL UNITS                     4179 non-null   int64         \n",
      " 12  LAND SQUARE FEET                4179 non-null   float64       \n",
      " 13  GROSS SQUARE FEET               4179 non-null   float64       \n",
      " 14  YEAR BUILT                      4179 non-null   int64         \n",
      " 15  TAX CLASS AT TIME OF SALE       4179 non-null   int64         \n",
      " 16  BUILDING CLASS AT TIME OF SALE  4179 non-null   object        \n",
      " 17  SALE PRICE                      4179 non-null   float64       \n",
      " 18  SALE DATE                       4179 non-null   datetime64[ns]\n",
      " 19  BUILDING AGE                    4179 non-null   int64         \n",
      "dtypes: datetime64[ns](1), float64(3), int64(9), object(7)\n",
      "memory usage: 685.6+ KB\n"
     ]
    }
   ],
   "source": [
    "df.info()"
   ]
  },
  {
   "cell_type": "code",
   "execution_count": 87,
   "metadata": {},
   "outputs": [],
   "source": [
    "#Choose only the variables I want to use in the model\n",
    "columns = ['BUILDING CLASS CATEGORY', 'COMMERCIAL UNITS','GROSS SQUARE FEET', 'SALE PRICE', 'BUILDING AGE', 'LAND SQUARE FEET', 'RESIDENTIAL UNITS']\n",
    "df_model = df.loc[:,columns]"
   ]
  },
  {
   "cell_type": "code",
   "execution_count": 88,
   "metadata": {
    "collapsed": true
   },
   "outputs": [
    {
     "data": {
      "text/plain": [
       "13 CONDOS - ELEVATOR APARTMENTS                1835\n",
       "10 COOPS - ELEVATOR APARTMENTS                 1364\n",
       "09 COOPS - WALKUP APARTMENTS                    368\n",
       "17 CONDO COOPS                                  249\n",
       "07 RENTALS - WALKUP APARTMENTS                  119\n",
       "15 CONDOS - 2-10 UNIT RESIDENTIAL                65\n",
       "12 CONDOS - WALKUP APARTMENTS                    41\n",
       "02 TWO FAMILY DWELLINGS                          38\n",
       "01 ONE FAMILY DWELLINGS                          20\n",
       "03 THREE FAMILY DWELLINGS                        20\n",
       "22 STORE BUILDINGS                               13\n",
       "37 RELIGIOUS FACILITIES                           7\n",
       "14 RENTALS - 4-10 UNIT                            7\n",
       "08 RENTALS - ELEVATOR APARTMENTS                  5\n",
       "16 CONDOS - 2-10 UNIT WITH COMMERCIAL UNIT        5\n",
       "04 TAX CLASS 1 CONDOS                             5\n",
       "21 OFFICE BUILDINGS                               4\n",
       "23 LOFT BUILDINGS                                 4\n",
       "29 COMMERCIAL GARAGES                             3\n",
       "26 OTHER HOTELS                                   2\n",
       "31 COMMERCIAL VACANT LAND                         2\n",
       "27 FACTORIES                                      1\n",
       "41 TAX CLASS 4 - OTHER                            1\n",
       "30 WAREHOUSES                                     1\n",
       "Name: BUILDING CLASS CATEGORY, dtype: int64"
      ]
     },
     "execution_count": 88,
     "metadata": {},
     "output_type": "execute_result"
    }
   ],
   "source": [
    "df['BUILDING CLASS CATEGORY'].value_counts()"
   ]
  },
  {
   "cell_type": "code",
   "execution_count": 89,
   "metadata": {},
   "outputs": [],
   "source": [
    "# Create one-hot vector since its a non-ordinal categorical column\n",
    "cols = pd.get_dummies(df_model['BUILDING CLASS CATEGORY'], prefix= 'BUILDING CLASS CATEGORY')\n",
    "df_model[cols.columns] = cols\n",
    "df_model.drop('BUILDING CLASS CATEGORY', axis = 1, inplace = True)"
   ]
  },
  {
   "cell_type": "code",
   "execution_count": 90,
   "metadata": {
    "collapsed": true
   },
   "outputs": [
    {
     "name": "stdout",
     "output_type": "stream",
     "text": [
      "<class 'pandas.core.frame.DataFrame'>\n",
      "Int64Index: 4179 entries, 3 to 7270\n",
      "Data columns (total 30 columns):\n",
      " #   Column                                                               Non-Null Count  Dtype  \n",
      "---  ------                                                               --------------  -----  \n",
      " 0   COMMERCIAL UNITS                                                     4179 non-null   int64  \n",
      " 1   GROSS SQUARE FEET                                                    4179 non-null   float64\n",
      " 2   SALE PRICE                                                           4179 non-null   float64\n",
      " 3   BUILDING AGE                                                         4179 non-null   int64  \n",
      " 4   LAND SQUARE FEET                                                     4179 non-null   float64\n",
      " 5   RESIDENTIAL UNITS                                                    4179 non-null   int64  \n",
      " 6   BUILDING CLASS CATEGORY_01 ONE FAMILY DWELLINGS                      4179 non-null   uint8  \n",
      " 7   BUILDING CLASS CATEGORY_02 TWO FAMILY DWELLINGS                      4179 non-null   uint8  \n",
      " 8   BUILDING CLASS CATEGORY_03 THREE FAMILY DWELLINGS                    4179 non-null   uint8  \n",
      " 9   BUILDING CLASS CATEGORY_04 TAX CLASS 1 CONDOS                        4179 non-null   uint8  \n",
      " 10  BUILDING CLASS CATEGORY_07 RENTALS - WALKUP APARTMENTS               4179 non-null   uint8  \n",
      " 11  BUILDING CLASS CATEGORY_08 RENTALS - ELEVATOR APARTMENTS             4179 non-null   uint8  \n",
      " 12  BUILDING CLASS CATEGORY_09 COOPS - WALKUP APARTMENTS                 4179 non-null   uint8  \n",
      " 13  BUILDING CLASS CATEGORY_10 COOPS - ELEVATOR APARTMENTS               4179 non-null   uint8  \n",
      " 14  BUILDING CLASS CATEGORY_12 CONDOS - WALKUP APARTMENTS                4179 non-null   uint8  \n",
      " 15  BUILDING CLASS CATEGORY_13 CONDOS - ELEVATOR APARTMENTS              4179 non-null   uint8  \n",
      " 16  BUILDING CLASS CATEGORY_14 RENTALS - 4-10 UNIT                       4179 non-null   uint8  \n",
      " 17  BUILDING CLASS CATEGORY_15 CONDOS - 2-10 UNIT RESIDENTIAL            4179 non-null   uint8  \n",
      " 18  BUILDING CLASS CATEGORY_16 CONDOS - 2-10 UNIT WITH COMMERCIAL UNIT   4179 non-null   uint8  \n",
      " 19  BUILDING CLASS CATEGORY_17 CONDO COOPS                               4179 non-null   uint8  \n",
      " 20  BUILDING CLASS CATEGORY_21 OFFICE BUILDINGS                          4179 non-null   uint8  \n",
      " 21  BUILDING CLASS CATEGORY_22 STORE BUILDINGS                           4179 non-null   uint8  \n",
      " 22  BUILDING CLASS CATEGORY_23 LOFT BUILDINGS                            4179 non-null   uint8  \n",
      " 23  BUILDING CLASS CATEGORY_26 OTHER HOTELS                              4179 non-null   uint8  \n",
      " 24  BUILDING CLASS CATEGORY_27 FACTORIES                                 4179 non-null   uint8  \n",
      " 25  BUILDING CLASS CATEGORY_29 COMMERCIAL GARAGES                        4179 non-null   uint8  \n",
      " 26  BUILDING CLASS CATEGORY_30 WAREHOUSES                                4179 non-null   uint8  \n",
      " 27  BUILDING CLASS CATEGORY_31 COMMERCIAL VACANT LAND                    4179 non-null   uint8  \n",
      " 28  BUILDING CLASS CATEGORY_37 RELIGIOUS FACILITIES                      4179 non-null   uint8  \n",
      " 29  BUILDING CLASS CATEGORY_41 TAX CLASS 4 - OTHER                       4179 non-null   uint8  \n",
      "dtypes: float64(3), int64(3), uint8(24)\n",
      "memory usage: 326.5 KB\n"
     ]
    }
   ],
   "source": [
    "df_model.info()"
   ]
  },
  {
   "cell_type": "code",
   "execution_count": 91,
   "metadata": {},
   "outputs": [
    {
     "data": {
      "text/html": [
       "<div>\n",
       "<style scoped>\n",
       "    .dataframe tbody tr th:only-of-type {\n",
       "        vertical-align: middle;\n",
       "    }\n",
       "\n",
       "    .dataframe tbody tr th {\n",
       "        vertical-align: top;\n",
       "    }\n",
       "\n",
       "    .dataframe thead th {\n",
       "        text-align: right;\n",
       "    }\n",
       "</style>\n",
       "<table border=\"1\" class=\"dataframe\">\n",
       "  <thead>\n",
       "    <tr style=\"text-align: right;\">\n",
       "      <th></th>\n",
       "      <th>COMMERCIAL UNITS</th>\n",
       "      <th>GROSS SQUARE FEET</th>\n",
       "      <th>SALE PRICE</th>\n",
       "      <th>BUILDING AGE</th>\n",
       "      <th>LAND SQUARE FEET</th>\n",
       "      <th>RESIDENTIAL UNITS</th>\n",
       "      <th>BUILDING CLASS CATEGORY_01 ONE FAMILY DWELLINGS</th>\n",
       "      <th>BUILDING CLASS CATEGORY_02 TWO FAMILY DWELLINGS</th>\n",
       "      <th>BUILDING CLASS CATEGORY_03 THREE FAMILY DWELLINGS</th>\n",
       "      <th>BUILDING CLASS CATEGORY_04 TAX CLASS 1 CONDOS</th>\n",
       "      <th>...</th>\n",
       "      <th>BUILDING CLASS CATEGORY_21 OFFICE BUILDINGS</th>\n",
       "      <th>BUILDING CLASS CATEGORY_22 STORE BUILDINGS</th>\n",
       "      <th>BUILDING CLASS CATEGORY_23 LOFT BUILDINGS</th>\n",
       "      <th>BUILDING CLASS CATEGORY_26 OTHER HOTELS</th>\n",
       "      <th>BUILDING CLASS CATEGORY_27 FACTORIES</th>\n",
       "      <th>BUILDING CLASS CATEGORY_29 COMMERCIAL GARAGES</th>\n",
       "      <th>BUILDING CLASS CATEGORY_30 WAREHOUSES</th>\n",
       "      <th>BUILDING CLASS CATEGORY_31 COMMERCIAL VACANT LAND</th>\n",
       "      <th>BUILDING CLASS CATEGORY_37 RELIGIOUS FACILITIES</th>\n",
       "      <th>BUILDING CLASS CATEGORY_41 TAX CLASS 4 - OTHER</th>\n",
       "    </tr>\n",
       "  </thead>\n",
       "  <tbody>\n",
       "    <tr>\n",
       "      <th>3</th>\n",
       "      <td>0</td>\n",
       "      <td>6794.00000</td>\n",
       "      <td>3936272.0</td>\n",
       "      <td>104</td>\n",
       "      <td>2272.000000</td>\n",
       "      <td>10</td>\n",
       "      <td>0</td>\n",
       "      <td>0</td>\n",
       "      <td>0</td>\n",
       "      <td>0</td>\n",
       "      <td>...</td>\n",
       "      <td>0</td>\n",
       "      <td>0</td>\n",
       "      <td>0</td>\n",
       "      <td>0</td>\n",
       "      <td>0</td>\n",
       "      <td>0</td>\n",
       "      <td>0</td>\n",
       "      <td>0</td>\n",
       "      <td>0</td>\n",
       "      <td>0</td>\n",
       "    </tr>\n",
       "    <tr>\n",
       "      <th>6</th>\n",
       "      <td>0</td>\n",
       "      <td>4226.00000</td>\n",
       "      <td>3192840.0</td>\n",
       "      <td>97</td>\n",
       "      <td>1750.000000</td>\n",
       "      <td>8</td>\n",
       "      <td>0</td>\n",
       "      <td>0</td>\n",
       "      <td>0</td>\n",
       "      <td>0</td>\n",
       "      <td>...</td>\n",
       "      <td>0</td>\n",
       "      <td>0</td>\n",
       "      <td>0</td>\n",
       "      <td>0</td>\n",
       "      <td>0</td>\n",
       "      <td>0</td>\n",
       "      <td>0</td>\n",
       "      <td>0</td>\n",
       "      <td>0</td>\n",
       "      <td>0</td>\n",
       "    </tr>\n",
       "    <tr>\n",
       "      <th>13</th>\n",
       "      <td>0</td>\n",
       "      <td>9630.57085</td>\n",
       "      <td>499000.0</td>\n",
       "      <td>97</td>\n",
       "      <td>2686.862595</td>\n",
       "      <td>0</td>\n",
       "      <td>0</td>\n",
       "      <td>0</td>\n",
       "      <td>0</td>\n",
       "      <td>0</td>\n",
       "      <td>...</td>\n",
       "      <td>0</td>\n",
       "      <td>0</td>\n",
       "      <td>0</td>\n",
       "      <td>0</td>\n",
       "      <td>0</td>\n",
       "      <td>0</td>\n",
       "      <td>0</td>\n",
       "      <td>0</td>\n",
       "      <td>0</td>\n",
       "      <td>0</td>\n",
       "    </tr>\n",
       "    <tr>\n",
       "      <th>15</th>\n",
       "      <td>0</td>\n",
       "      <td>9630.57085</td>\n",
       "      <td>529500.0</td>\n",
       "      <td>97</td>\n",
       "      <td>2686.862595</td>\n",
       "      <td>0</td>\n",
       "      <td>0</td>\n",
       "      <td>0</td>\n",
       "      <td>0</td>\n",
       "      <td>0</td>\n",
       "      <td>...</td>\n",
       "      <td>0</td>\n",
       "      <td>0</td>\n",
       "      <td>0</td>\n",
       "      <td>0</td>\n",
       "      <td>0</td>\n",
       "      <td>0</td>\n",
       "      <td>0</td>\n",
       "      <td>0</td>\n",
       "      <td>0</td>\n",
       "      <td>0</td>\n",
       "    </tr>\n",
       "    <tr>\n",
       "      <th>16</th>\n",
       "      <td>0</td>\n",
       "      <td>9630.57085</td>\n",
       "      <td>423000.0</td>\n",
       "      <td>97</td>\n",
       "      <td>2686.862595</td>\n",
       "      <td>0</td>\n",
       "      <td>0</td>\n",
       "      <td>0</td>\n",
       "      <td>0</td>\n",
       "      <td>0</td>\n",
       "      <td>...</td>\n",
       "      <td>0</td>\n",
       "      <td>0</td>\n",
       "      <td>0</td>\n",
       "      <td>0</td>\n",
       "      <td>0</td>\n",
       "      <td>0</td>\n",
       "      <td>0</td>\n",
       "      <td>0</td>\n",
       "      <td>0</td>\n",
       "      <td>0</td>\n",
       "    </tr>\n",
       "  </tbody>\n",
       "</table>\n",
       "<p>5 rows × 30 columns</p>\n",
       "</div>"
      ],
      "text/plain": [
       "    COMMERCIAL UNITS  GROSS SQUARE FEET  SALE PRICE  BUILDING AGE  \\\n",
       "3                  0         6794.00000   3936272.0           104   \n",
       "6                  0         4226.00000   3192840.0            97   \n",
       "13                 0         9630.57085    499000.0            97   \n",
       "15                 0         9630.57085    529500.0            97   \n",
       "16                 0         9630.57085    423000.0            97   \n",
       "\n",
       "    LAND SQUARE FEET  RESIDENTIAL UNITS  \\\n",
       "3        2272.000000                 10   \n",
       "6        1750.000000                  8   \n",
       "13       2686.862595                  0   \n",
       "15       2686.862595                  0   \n",
       "16       2686.862595                  0   \n",
       "\n",
       "    BUILDING CLASS CATEGORY_01 ONE FAMILY DWELLINGS                      \\\n",
       "3                                                   0                     \n",
       "6                                                   0                     \n",
       "13                                                  0                     \n",
       "15                                                  0                     \n",
       "16                                                  0                     \n",
       "\n",
       "    BUILDING CLASS CATEGORY_02 TWO FAMILY DWELLINGS                      \\\n",
       "3                                                   0                     \n",
       "6                                                   0                     \n",
       "13                                                  0                     \n",
       "15                                                  0                     \n",
       "16                                                  0                     \n",
       "\n",
       "    BUILDING CLASS CATEGORY_03 THREE FAMILY DWELLINGS                    \\\n",
       "3                                                   0                     \n",
       "6                                                   0                     \n",
       "13                                                  0                     \n",
       "15                                                  0                     \n",
       "16                                                  0                     \n",
       "\n",
       "    BUILDING CLASS CATEGORY_04 TAX CLASS 1 CONDOS                        ...  \\\n",
       "3                                                   0                    ...   \n",
       "6                                                   0                    ...   \n",
       "13                                                  0                    ...   \n",
       "15                                                  0                    ...   \n",
       "16                                                  0                    ...   \n",
       "\n",
       "    BUILDING CLASS CATEGORY_21 OFFICE BUILDINGS                          \\\n",
       "3                                                   0                     \n",
       "6                                                   0                     \n",
       "13                                                  0                     \n",
       "15                                                  0                     \n",
       "16                                                  0                     \n",
       "\n",
       "    BUILDING CLASS CATEGORY_22 STORE BUILDINGS                           \\\n",
       "3                                                   0                     \n",
       "6                                                   0                     \n",
       "13                                                  0                     \n",
       "15                                                  0                     \n",
       "16                                                  0                     \n",
       "\n",
       "    BUILDING CLASS CATEGORY_23 LOFT BUILDINGS                            \\\n",
       "3                                                   0                     \n",
       "6                                                   0                     \n",
       "13                                                  0                     \n",
       "15                                                  0                     \n",
       "16                                                  0                     \n",
       "\n",
       "    BUILDING CLASS CATEGORY_26 OTHER HOTELS                              \\\n",
       "3                                                   0                     \n",
       "6                                                   0                     \n",
       "13                                                  0                     \n",
       "15                                                  0                     \n",
       "16                                                  0                     \n",
       "\n",
       "    BUILDING CLASS CATEGORY_27 FACTORIES                                 \\\n",
       "3                                                   0                     \n",
       "6                                                   0                     \n",
       "13                                                  0                     \n",
       "15                                                  0                     \n",
       "16                                                  0                     \n",
       "\n",
       "    BUILDING CLASS CATEGORY_29 COMMERCIAL GARAGES                        \\\n",
       "3                                                   0                     \n",
       "6                                                   0                     \n",
       "13                                                  0                     \n",
       "15                                                  0                     \n",
       "16                                                  0                     \n",
       "\n",
       "    BUILDING CLASS CATEGORY_30 WAREHOUSES                                \\\n",
       "3                                                   0                     \n",
       "6                                                   0                     \n",
       "13                                                  0                     \n",
       "15                                                  0                     \n",
       "16                                                  0                     \n",
       "\n",
       "    BUILDING CLASS CATEGORY_31 COMMERCIAL VACANT LAND                    \\\n",
       "3                                                   0                     \n",
       "6                                                   0                     \n",
       "13                                                  0                     \n",
       "15                                                  0                     \n",
       "16                                                  0                     \n",
       "\n",
       "    BUILDING CLASS CATEGORY_37 RELIGIOUS FACILITIES                      \\\n",
       "3                                                   0                     \n",
       "6                                                   0                     \n",
       "13                                                  0                     \n",
       "15                                                  0                     \n",
       "16                                                  0                     \n",
       "\n",
       "    BUILDING CLASS CATEGORY_41 TAX CLASS 4 - OTHER                       \n",
       "3                                                   0                    \n",
       "6                                                   0                    \n",
       "13                                                  0                    \n",
       "15                                                  0                    \n",
       "16                                                  0                    \n",
       "\n",
       "[5 rows x 30 columns]"
      ]
     },
     "execution_count": 91,
     "metadata": {},
     "output_type": "execute_result"
    }
   ],
   "source": [
    "df_model.head()"
   ]
  },
  {
   "cell_type": "code",
   "execution_count": 92,
   "metadata": {},
   "outputs": [],
   "source": [
    "# Add 1 to Units\n",
    "df_model['COMMERCIAL UNITS'] = df_model['COMMERCIAL UNITS'] + 1\n",
    "df_model['RESIDENTIAL UNITS'] = df_model['RESIDENTIAL UNITS'] + 1\n",
    "# Take the log and standardise\n",
    "df_model['COMMERCIAL UNITS'] = np.log(df_model['COMMERCIAL UNITS'])\n",
    "df_model['RESIDENTIAL UNITS'] = np.log(df_model['RESIDENTIAL UNITS'])"
   ]
  },
  {
   "cell_type": "code",
   "execution_count": 93,
   "metadata": {},
   "outputs": [],
   "source": [
    "# Take the log and normalise\n",
    "df_model['SALE PRICE'] = np.log(df_model['SALE PRICE'])"
   ]
  },
  {
   "cell_type": "code",
   "execution_count": 94,
   "metadata": {},
   "outputs": [
    {
     "data": {
      "image/png": "[encoded data removed]",
      "text/plain": [
       "<Figure size 720x432 with 1 Axes>"
      ]
     },
     "metadata": {
      "needs_background": "light"
     },
     "output_type": "display_data"
    }
   ],
   "source": [
    "plt.figure(figsize=(10,6))\n",
    "sns.distplot(df_model['SALE PRICE'])\n",
    "plt.title('Histogram of Normalised SALE PRICE')\n",
    "plt.show()"
   ]
  },
  {
   "cell_type": "markdown",
   "metadata": {},
   "source": [
    "<div class=\"alert alert-block alert-info\">\n",
    "    <b>SCALING JUSTIFICATION:</b>\n",
    "    \n",
    "I have chosen <b>Standard Scaler</b> as the scaling criterion to standardize the input variables since the sale price target column more or less follows a normal distribution as seen above. Standard Scaler is chosen since it maintains useful information about outliers and makes the algorithm less sensitive to them in contrast to min-max scaling</div>"
   ]
  },
  {
   "cell_type": "markdown",
   "metadata": {},
   "source": [
    "## Model Selection and Hyperparameter tuning"
   ]
  },
  {
   "cell_type": "code",
   "execution_count": 95,
   "metadata": {},
   "outputs": [],
   "source": [
    "# Regression\n",
    "from  sklearn.preprocessing  import PolynomialFeatures\n",
    "from sklearn.neighbors import KNeighborsRegressor\n",
    "from sklearn.linear_model import LinearRegression \n",
    "from sklearn.tree import DecisionTreeRegressor\n",
    "from sklearn.model_selection import GridSearchCV\n",
    "from sklearn.pipeline import make_pipeline\n",
    "from sklearn.linear_model import Lasso\n",
    "from sklearn.linear_model import Ridge\n",
    "from sklearn.svm import SVR\n",
    "from sklearn.svm import LinearSVR\n",
    "from sklearn.ensemble import RandomForestRegressor\n",
    "from sklearn.metrics import r2_score\n",
    "\n",
    "# Metrics\n",
    "from sklearn import metrics\n",
    "from sklearn.metrics import mean_squared_error\n",
    "from sklearn.model_selection import cross_val_score"
   ]
  },
  {
   "cell_type": "code",
   "execution_count": 101,
   "metadata": {},
   "outputs": [],
   "source": [
    "X = df_model.drop('SALE PRICE', axis = 1)\n",
    "y = df_model['SALE PRICE']"
   ]
  },
  {
   "cell_type": "code",
   "execution_count": 102,
   "metadata": {},
   "outputs": [],
   "source": [
    "from sklearn.preprocessing import StandardScaler\n",
    "from sklearn.model_selection import train_test_split\n",
    "\n",
    "X_train_org, X_test_org, y_train, y_test = train_test_split(X, y, random_state = 42, test_size = 0.20)\n",
    "\n",
    "scaler = StandardScaler()\n",
    "X_train = scaler.fit_transform(X_train_org)\n",
    "X_test = scaler.transform(X_test_org)"
   ]
  },
  {
   "cell_type": "markdown",
   "metadata": {},
   "source": [
    "#### Recommended changes - Kernelized SVR ran individually\n",
    "#### Kernel Linear"
   ]
  },
  {
   "cell_type": "code",
   "execution_count": 103,
   "metadata": {},
   "outputs": [],
   "source": [
    "param_grid = {'C':[0.001, 0.01, 0.1, 1.0, 10.0, 100.0],'gamma':[0.001, 0.01, 0.1, 1.0, 10.0, 100.0], 'epsilon':[0.001, 0.01, 0.1, 1.0, 10.0, 100.0], 'kernel':['linear'], 'max_iter':[100, 200, 300, 400, 500]}"
   ]
  },
  {
   "cell_type": "code",
   "execution_count": 104,
   "metadata": {},
   "outputs": [
    {
     "data": {
      "text/plain": [
       "GridSearchCV(cv=5, estimator=SVR(), n_jobs=-1,\n",
       "             param_grid={'C': [0.001, 0.01, 0.1, 1.0, 10.0, 100.0],\n",
       "                         'epsilon': [0.001, 0.01, 0.1, 1.0, 10.0, 100.0],\n",
       "                         'gamma': [0.001, 0.01, 0.1, 1.0, 10.0, 100.0],\n",
       "                         'kernel': ['linear'],\n",
       "                         'max_iter': [100, 200, 300, 400, 500]},\n",
       "             return_train_score=True, scoring='r2')"
      ]
     },
     "execution_count": 104,
     "metadata": {},
     "output_type": "execute_result"
    }
   ],
   "source": [
    "grid_reg = GridSearchCV(SVR(), param_grid, cv = 5, n_jobs=-1, scoring=\"r2\", return_train_score=True)\n",
    "grid_reg.fit(X_train, y_train)"
   ]
  },
  {
   "cell_type": "code",
   "execution_count": 105,
   "metadata": {},
   "outputs": [
    {
     "name": "stdout",
     "output_type": "stream",
     "text": [
      "Best parameters: {'C': 0.01, 'epsilon': 1.0, 'gamma': 0.001, 'kernel': 'linear', 'max_iter': 300}\n",
      "Best cross-validation score: 0.1583\n",
      "Train score: 0.1806\n",
      "Test score: -0.0261\n"
     ]
    }
   ],
   "source": [
    "y_pred = grid_reg.predict(X_test)\n",
    "print(\"Best parameters: {}\".format(grid_reg.best_params_))\n",
    "print(\"Best cross-validation score: {:.4f}\".format(grid_reg.best_score_))\n",
    "print(\"Train score: {:.4f}\".format(grid_reg.score(X_train, y_train)))\n",
    "print(\"Test score: {:.4f}\".format(grid_reg.score(X_test, y_test)))"
   ]
  },
  {
   "cell_type": "markdown",
   "metadata": {},
   "source": [
    "#### Kernel rbf"
   ]
  },
  {
   "cell_type": "code",
   "execution_count": 106,
   "metadata": {},
   "outputs": [],
   "source": [
    "param_grid = {'C':[0.001, 0.01, 0.1, 1.0, 10.0, 100.0],'gamma':[0.001, 0.01, 0.1, 1.0, 10.0, 100.0], 'epsilon':[0.001, 0.01, 0.1, 1.0, 10.0, 100.0], 'kernel':['rbf'], 'max_iter':[100, 200, 300, 400, 500]}"
   ]
  },
  {
   "cell_type": "code",
   "execution_count": 107,
   "metadata": {},
   "outputs": [
    {
     "data": {
      "text/plain": [
       "GridSearchCV(cv=5, estimator=SVR(), n_jobs=-1,\n",
       "             param_grid={'C': [0.001, 0.01, 0.1, 1.0, 10.0, 100.0],\n",
       "                         'epsilon': [0.001, 0.01, 0.1, 1.0, 10.0, 100.0],\n",
       "                         'gamma': [0.001, 0.01, 0.1, 1.0, 10.0, 100.0],\n",
       "                         'kernel': ['rbf'],\n",
       "                         'max_iter': [100, 200, 300, 400, 500]},\n",
       "             return_train_score=True, scoring='r2')"
      ]
     },
     "execution_count": 107,
     "metadata": {},
     "output_type": "execute_result"
    }
   ],
   "source": [
    "grid_reg = GridSearchCV(SVR(), param_grid, cv = 5, n_jobs=-1, scoring=\"r2\", return_train_score=True)\n",
    "grid_reg.fit(X_train, y_train)"
   ]
  },
  {
   "cell_type": "code",
   "execution_count": 108,
   "metadata": {},
   "outputs": [
    {
     "name": "stdout",
     "output_type": "stream",
     "text": [
      "Best parameters: {'C': 1.0, 'epsilon': 1.0, 'gamma': 100.0, 'kernel': 'rbf', 'max_iter': 500}\n",
      "Best cross-validation score: 0.1905\n",
      "Train score: 0.2411\n",
      "Test score: 0.1825\n"
     ]
    }
   ],
   "source": [
    "y_pred = grid_reg.predict(X_test)\n",
    "print(\"Best parameters: {}\".format(grid_reg.best_params_))\n",
    "print(\"Best cross-validation score: {:.4f}\".format(grid_reg.best_score_))\n",
    "print(\"Train score: {:.4f}\".format(grid_reg.score(X_train, y_train)))\n",
    "print(\"Test score: {:.4f}\".format(grid_reg.score(X_test, y_test)))"
   ]
  },
  {
   "cell_type": "markdown",
   "metadata": {},
   "source": [
    "#### Kernel poly"
   ]
  },
  {
   "cell_type": "code",
   "execution_count": 109,
   "metadata": {},
   "outputs": [],
   "source": [
    "param_grid = {'C':[0.001, 0.01, 0.1, 1.0, 10.0, 100.0],'gamma':[0.001, 0.01, 0.1, 1.0, 10.0, 100.0], 'epsilon':[0.001, 0.01, 0.1, 1.0, 10.0, 100.0], 'degree':[2, 3, 4] , 'kernel':['poly'], 'max_iter':[100, 200, 300, 400, 500]}"
   ]
  },
  {
   "cell_type": "code",
   "execution_count": 110,
   "metadata": {},
   "outputs": [
    {
     "data": {
      "text/plain": [
       "GridSearchCV(cv=5, estimator=SVR(), n_jobs=-1,\n",
       "             param_grid={'C': [0.001, 0.01, 0.1, 1.0, 10.0, 100.0],\n",
       "                         'degree': [2, 3, 4],\n",
       "                         'epsilon': [0.001, 0.01, 0.1, 1.0, 10.0, 100.0],\n",
       "                         'gamma': [0.001, 0.01, 0.1, 1.0, 10.0, 100.0],\n",
       "                         'kernel': ['poly'],\n",
       "                         'max_iter': [100, 200, 300, 400, 500]},\n",
       "             return_train_score=True, scoring='r2')"
      ]
     },
     "execution_count": 110,
     "metadata": {},
     "output_type": "execute_result"
    }
   ],
   "source": [
    "grid_reg = GridSearchCV( SVR(), param_grid, cv = 5, n_jobs = -1, scoring=\"r2\", return_train_score = True )\n",
    "grid_reg.fit(X_train, y_train)"
   ]
  },
  {
   "cell_type": "code",
   "execution_count": 111,
   "metadata": {},
   "outputs": [
    {
     "name": "stdout",
     "output_type": "stream",
     "text": [
      "Best parameters: {'C': 10.0, 'degree': 2, 'epsilon': 1.0, 'gamma': 0.01, 'kernel': 'poly', 'max_iter': 300}\n",
      "Best cross-validation score: 0.1673\n",
      "Train score: -0.1044\n",
      "Test score: -7.8824\n"
     ]
    }
   ],
   "source": [
    "y_pred = grid_reg.predict(X_test)\n",
    "print(\"Best parameters: {}\".format(grid_reg.best_params_))\n",
    "print(\"Best cross-validation score: {:.4f}\".format(grid_reg.best_score_))\n",
    "print(\"Train score: {:.4f}\".format(grid_reg.score(X_train, y_train)))\n",
    "print(\"Test score: {:.4f}\".format(grid_reg.score(X_test, y_test)))"
   ]
  },
  {
   "cell_type": "markdown",
   "metadata": {},
   "source": [
    "## 1. Bagging Regressor with Bagging"
   ]
  },
  {
   "cell_type": "code",
   "execution_count": 52,
   "metadata": {},
   "outputs": [
    {
     "data": {
      "text/plain": [
       "GridSearchCV(cv=5,\n",
       "             estimator=BaggingRegressor(base_estimator=RandomForestRegressor(max_depth=5,\n",
       "                                                                             max_leaf_nodes=10,\n",
       "                                                                             random_state=0),\n",
       "                                        random_state=0),\n",
       "             n_jobs=-1,\n",
       "             param_grid={'max_features': [0.01, 0.05, 0.1, 0.5, 1],\n",
       "                         'max_samples': [0.01, 0.05, 0.1, 0.5, 1],\n",
       "                         'n_estimators': [10, 20, 30, 40, 50]})"
      ]
     },
     "execution_count": 52,
     "metadata": {},
     "output_type": "execute_result"
    }
   ],
   "source": [
    "import warnings\n",
    "warnings.filterwarnings(\"ignore\")\n",
    "\n",
    "from sklearn.model_selection import GridSearchCV\n",
    "from sklearn.ensemble import BaggingRegressor\n",
    "\n",
    "param_grid = {'n_estimators':[10, 20, 30, 40, 50], \n",
    "              'max_samples':[0.01, 0.05, 0.1, 0.5, 1], \n",
    "              'max_features':[0.01, 0.05, 0.1, 0.5, 1]}\n",
    "\n",
    "bag_reg = BaggingRegressor(RandomForestRegressor(criterion='mse', max_depth=5, max_leaf_nodes=10, random_state=0), bootstrap=True, random_state=0)\n",
    "bag_grid = GridSearchCV(bag_reg, param_grid = param_grid, scoring='r2', n_jobs=-1, cv = 5)\n",
    "bag_grid.fit(X_train, y_train)"
   ]
  },
  {
   "cell_type": "code",
   "execution_count": 53,
   "metadata": {},
   "outputs": [
    {
     "name": "stdout",
     "output_type": "stream",
     "text": [
      "Best parameters: {'max_features': 0.5, 'max_samples': 0.5, 'n_estimators': 10}\n",
      "Best cross-validation score: 0.23868\n",
      "Train score: 0.2544\n",
      "Test score: 0.2379\n",
      "R2 score: 0.2379\n"
     ]
    }
   ],
   "source": [
    "y_pred = bag_grid.predict(X_test)\n",
    "print(\"Best parameters: {}\".format(bag_grid.best_params_))\n",
    "print(\"Best cross-validation score: {:.5f}\".format(bag_grid.best_score_))\n",
    "print(\"Train score: {:.4f}\".format(bag_grid.score(X_train, y_train)))\n",
    "print(\"Test score: {:.4f}\".format(bag_grid.score(X_test, y_test)))\n",
    "print(\"R2 score: {:.4f}\".format(r2_score(y_test, y_pred)))"
   ]
  },
  {
   "cell_type": "code",
   "execution_count": 71,
   "metadata": {},
   "outputs": [
    {
     "data": {
      "text/plain": [
       "GridSearchCV(cv=5,\n",
       "             estimator=BaggingRegressor(base_estimator=LinearRegression(positive=True),\n",
       "                                        random_state=0),\n",
       "             n_jobs=-1,\n",
       "             param_grid={'max_features': [0.01, 0.05, 0.06, 0.08, 0.1, 0.5, 1],\n",
       "                         'max_samples': [0.01, 0.05, 0.1, 0.3, 0.4, 0.5, 0.6,\n",
       "                                         0.7, 1],\n",
       "                         'n_estimators': [10, 20, 30, 35, 50, 51, 52, 53, 54,\n",
       "                                          55, 60]})"
      ]
     },
     "execution_count": 71,
     "metadata": {},
     "output_type": "execute_result"
    }
   ],
   "source": [
    "import warnings\n",
    "warnings.filterwarnings(\"ignore\")\n",
    "\n",
    "from sklearn.model_selection import GridSearchCV\n",
    "from sklearn.ensemble import BaggingRegressor\n",
    "\n",
    "param_grid = {'n_estimators':[10, 20, 30, 35, 50, 51, 52, 53, 54, 55, 60],\n",
    "              'max_samples':[0.01, 0.05, 0.1, 0.3, 0.4, 0.5, 0.6, 0.7, 1], \n",
    "              'max_features':[0.01, 0.05, 0.06, 0.08, 0.1, 0.5, 1]}\n",
    "\n",
    "bag_reg = BaggingRegressor(LinearRegression(fit_intercept=True, normalize= False, positive= True), bootstrap=True, random_state=0)\n",
    "bag_grid = GridSearchCV(bag_reg, param_grid = param_grid, scoring='r2', cv = 5, n_jobs=-1)\n",
    "bag_grid.fit(X_train, y_train)"
   ]
  },
  {
   "cell_type": "code",
   "execution_count": 72,
   "metadata": {},
   "outputs": [
    {
     "name": "stdout",
     "output_type": "stream",
     "text": [
      "Best parameters: {'max_features': 0.08, 'max_samples': 0.5, 'n_estimators': 54}\n",
      "Best cross-validation score: 0.04056\n",
      "Train score: -31.6681\n",
      "Test score: 0.0419\n",
      "R2 score: 0.0419\n"
     ]
    }
   ],
   "source": [
    "y_pred = bag_grid.predict(X_test)\n",
    "print(\"Best parameters: {}\".format(bag_grid.best_params_))\n",
    "print(\"Best cross-validation score: {:.5f}\".format(bag_grid.best_score_))\n",
    "print(\"Train score: {:.4f}\".format(bag_grid.score(X_train, y_train)))\n",
    "print(\"Test score: {:.4f}\".format(bag_grid.score(X_test, y_test)))\n",
    "print(\"R2 score: {:.4f}\".format(r2_score(y_test, y_pred)))"
   ]
  },
  {
   "cell_type": "markdown",
   "metadata": {},
   "source": [
    "## 2. Bagging Regressor with Pasting"
   ]
  },
  {
   "cell_type": "code",
   "execution_count": 73,
   "metadata": {},
   "outputs": [
    {
     "data": {
      "text/plain": [
       "GridSearchCV(cv=5,\n",
       "             estimator=BaggingRegressor(base_estimator=RandomForestRegressor(max_depth=5,\n",
       "                                                                             max_leaf_nodes=10,\n",
       "                                                                             random_state=0),\n",
       "                                        bootstrap=False, random_state=0),\n",
       "             n_jobs=-1,\n",
       "             param_grid={'max_features': [0.01, 0.05, 0.1, 0.5, 1],\n",
       "                         'max_samples': [0.01, 0.05, 0.1, 0.5, 1],\n",
       "                         'n_estimators': [10, 20, 30, 40, 50]})"
      ]
     },
     "execution_count": 73,
     "metadata": {},
     "output_type": "execute_result"
    }
   ],
   "source": [
    "import warnings\n",
    "warnings.filterwarnings(\"ignore\")\n",
    "\n",
    "from sklearn.model_selection import GridSearchCV\n",
    "from sklearn.ensemble import BaggingRegressor\n",
    "\n",
    "param_grid = {'n_estimators':[10, 20, 30, 40, 50], \n",
    "              'max_samples':[0.01, 0.05, 0.1, 0.5, 1], \n",
    "              'max_features':[0.01, 0.05, 0.1, 0.5, 1]}\n",
    "\n",
    "bag_reg = BaggingRegressor(RandomForestRegressor(criterion='mse', max_depth=5, max_leaf_nodes=10, random_state=0), bootstrap=False, random_state=0)\n",
    "bag_grid = GridSearchCV(bag_reg, param_grid = param_grid, scoring='r2', n_jobs=-1, cv = 5)\n",
    "bag_grid.fit(X_train, y_train)"
   ]
  },
  {
   "cell_type": "code",
   "execution_count": 74,
   "metadata": {},
   "outputs": [
    {
     "name": "stdout",
     "output_type": "stream",
     "text": [
      "Best parameters: {'max_features': 0.5, 'max_samples': 0.5, 'n_estimators': 10}\n",
      "Best cross-validation score: 0.23889\n",
      "Train score: 0.2578\n",
      "Test score: 0.2414\n",
      "R2 score: 0.2414\n"
     ]
    }
   ],
   "source": [
    "y_pred = bag_grid.predict(X_test)\n",
    "print(\"Best parameters: {}\".format(bag_grid.best_params_))\n",
    "print(\"Best cross-validation score: {:.5f}\".format(bag_grid.best_score_))\n",
    "print(\"Train score: {:.4f}\".format(bag_grid.score(X_train, y_train)))\n",
    "print(\"Test score: {:.4f}\".format(bag_grid.score(X_test, y_test)))\n",
    "print(\"R2 score: {:.4f}\".format(r2_score(y_test, y_pred)))"
   ]
  },
  {
   "cell_type": "code",
   "execution_count": 77,
   "metadata": {},
   "outputs": [
    {
     "data": {
      "text/plain": [
       "GridSearchCV(cv=5,\n",
       "             estimator=BaggingRegressor(base_estimator=LinearRegression(positive=True),\n",
       "                                        bootstrap=False, random_state=0),\n",
       "             n_jobs=-1,\n",
       "             param_grid={'max_features': [0.01, 0.05, 0.06, 0.08, 0.1, 0.5, 1],\n",
       "                         'max_samples': [0.01, 0.05, 0.1, 0.3, 0.4, 0.5, 0.6,\n",
       "                                         0.7, 1],\n",
       "                         'n_estimators': [10, 20, 30, 35, 50, 51, 52, 53, 54,\n",
       "                                          55, 60]})"
      ]
     },
     "execution_count": 77,
     "metadata": {},
     "output_type": "execute_result"
    }
   ],
   "source": [
    "import warnings\n",
    "warnings.filterwarnings(\"ignore\")\n",
    "\n",
    "from sklearn.model_selection import GridSearchCV\n",
    "from sklearn.ensemble import BaggingRegressor\n",
    "\n",
    "param_grid = {'n_estimators':[10, 20, 30, 35, 50, 51, 52, 53, 54, 55, 60],\n",
    "              'max_samples':[0.01, 0.05, 0.1, 0.3, 0.4, 0.5, 0.6, 0.7, 1], \n",
    "              'max_features':[0.01, 0.05, 0.06, 0.08, 0.1, 0.5, 1]}\n",
    "\n",
    "bag_reg = BaggingRegressor(LinearRegression(fit_intercept=True, normalize=False, positive=True), bootstrap=False, random_state=0)\n",
    "bag_grid = GridSearchCV(bag_reg, param_grid = param_grid, scoring='r2', cv = 5, n_jobs=-1)\n",
    "bag_grid.fit(X_train, y_train)"
   ]
  },
  {
   "cell_type": "code",
   "execution_count": 79,
   "metadata": {},
   "outputs": [
    {
     "name": "stdout",
     "output_type": "stream",
     "text": [
      "Best parameters: {'max_features': 0.5, 'max_samples': 0.5, 'n_estimators': 10}\n",
      "Best cross-validation score: 0.14952\n",
      "Test score: 0.1574\n",
      "R2 score: 0.1574\n"
     ]
    }
   ],
   "source": [
    "y_pred = bag_grid.predict(X_test)\n",
    "print(\"Best parameters: {}\".format(bag_grid.best_params_))\n",
    "print(\"Best cross-validation score: {:.5f}\".format(bag_grid.best_score_))\n",
    "print(\"Test score: {:.4f}\".format(bag_grid.score(X_test, y_test)))\n",
    "print(\"R2 score: {:.4f}\".format(r2_score(y_test, y_pred)))"
   ]
  },
  {
   "cell_type": "markdown",
   "metadata": {},
   "source": [
    "## 3. AdaBoosting"
   ]
  },
  {
   "cell_type": "code",
   "execution_count": 81,
   "metadata": {},
   "outputs": [
    {
     "data": {
      "text/plain": [
       "GridSearchCV(cv=5,\n",
       "             estimator=AdaBoostRegressor(base_estimator=RandomForestRegressor(max_depth=5,\n",
       "                                                                              max_leaf_nodes=10,\n",
       "                                                                              random_state=0)),\n",
       "             n_jobs=-1,\n",
       "             param_grid={'learning_rate': [0.1, 0.5, 1],\n",
       "                         'n_estimators': [10, 20, 30, 40, 50]})"
      ]
     },
     "execution_count": 81,
     "metadata": {},
     "output_type": "execute_result"
    }
   ],
   "source": [
    "from sklearn.ensemble import AdaBoostRegressor\n",
    "\n",
    "param_grid = {'learning_rate':[0.1, 0.5, 1],\n",
    "              'n_estimators':[10, 20, 30, 40, 50]}\n",
    "\n",
    "ada_reg = AdaBoostRegressor(base_estimator = RandomForestRegressor(criterion='mse', max_depth=5, max_leaf_nodes=10, random_state=0))\n",
    "ada_grid = GridSearchCV(ada_reg, param_grid = param_grid, scoring='r2', cv = 5, n_jobs=-1)\n",
    "ada_grid.fit(X_train, y_train)"
   ]
  },
  {
   "cell_type": "code",
   "execution_count": 82,
   "metadata": {},
   "outputs": [
    {
     "name": "stdout",
     "output_type": "stream",
     "text": [
      "Best parameters: {'learning_rate': 0.1, 'n_estimators': 20}\n",
      "Best cross-validation score: 0.25256\n",
      "Test score: 0.2567\n",
      "R2 score: 0.2567\n"
     ]
    }
   ],
   "source": [
    "y_pred = ada_grid.predict(X_test)\n",
    "print(\"Best parameters: {}\".format(ada_grid.best_params_))\n",
    "print(\"Best cross-validation score: {:.5f}\".format(ada_grid.best_score_))\n",
    "print(\"Test score: {:.4f}\".format(ada_grid.score(X_test, y_test)))\n",
    "print(\"R2 score: {:.4f}\".format(r2_score(y_test, y_pred)))"
   ]
  },
  {
   "cell_type": "code",
   "execution_count": 95,
   "metadata": {},
   "outputs": [
    {
     "data": {
      "text/plain": [
       "GridSearchCV(cv=5,\n",
       "             estimator=AdaBoostRegressor(base_estimator=LinearRegression(positive=True)),\n",
       "             n_jobs=-1,\n",
       "             param_grid={'learning_rate': [0.1, 0.5, 1],\n",
       "                         'n_estimators': [10, 20, 30, 40, 50]})"
      ]
     },
     "execution_count": 95,
     "metadata": {},
     "output_type": "execute_result"
    }
   ],
   "source": [
    "from sklearn.ensemble import AdaBoostRegressor\n",
    "\n",
    "param_grid = {'learning_rate':[0.1, 0.5, 1],\n",
    "              'n_estimators':[10, 20, 30, 40, 50]}\n",
    "\n",
    "ada_reg = AdaBoostRegressor(base_estimator = LinearRegression(fit_intercept=True, normalize=False, positive=True))\n",
    "\n",
    "ada_grid = GridSearchCV(ada_reg, param_grid = param_grid, scoring='r2', cv = 5, n_jobs = -1)\n",
    "ada_grid.fit(X_train, y_train)"
   ]
  },
  {
   "cell_type": "code",
   "execution_count": 96,
   "metadata": {},
   "outputs": [
    {
     "name": "stdout",
     "output_type": "stream",
     "text": [
      "Best parameters: {'learning_rate': 1, 'n_estimators': 10}\n",
      "Best cross-validation score: -123.89568\n",
      "Test score: -150566634956312477696.0000\n",
      "R2 score: -150566634956312477696.0000\n"
     ]
    }
   ],
   "source": [
    "y_pred = ada_grid.predict(X_test)\n",
    "print(\"Best parameters: {}\".format(ada_grid.best_params_))\n",
    "print(\"Best cross-validation score: {:.5f}\".format(ada_grid.best_score_))\n",
    "print(\"Test score: {:.4f}\".format(ada_grid.score(X_test, y_test)))\n",
    "print(\"R2 score: {:.4f}\".format(r2_score(y_test, y_pred)))"
   ]
  },
  {
   "cell_type": "markdown",
   "metadata": {},
   "source": [
    "## 4. Gradient Boosting"
   ]
  },
  {
   "cell_type": "code",
   "execution_count": 94,
   "metadata": {},
   "outputs": [
    {
     "data": {
      "text/plain": [
       "GridSearchCV(cv=5, estimator=GradientBoostingRegressor(random_state=0),\n",
       "             n_jobs=-1,\n",
       "             param_grid={'learning_rate': [0.1, 0.2, 0.3, 0.4, 0.5, 1],\n",
       "                         'max_depth': [1, 3, 5, 7, 8, 9, 11, 13, 15],\n",
       "                         'n_estimators': [10, 20, 30, 40, 50, 60, 65, 68, 70]})"
      ]
     },
     "execution_count": 94,
     "metadata": {},
     "output_type": "execute_result"
    }
   ],
   "source": [
    "from sklearn.ensemble import GradientBoostingRegressor\n",
    "\n",
    "param_grid = {'max_depth':[1, 3, 5, 7, 8, 9, 11, 13, 15],\n",
    "              'learning_rate':[0.1, 0.2, 0.3, 0.4, 0.5, 1],\n",
    "              'n_estimators':[10, 20, 30, 40, 50, 60, 65, 68, 70]}\n",
    "\n",
    "grid_gb = GridSearchCV(GradientBoostingRegressor(random_state=0), scoring='r2', param_grid, cv = 5, n_jobs=-1)\n",
    "grid_gb.fit(X_train, y_train)"
   ]
  },
  {
   "cell_type": "code",
   "execution_count": 93,
   "metadata": {},
   "outputs": [
    {
     "name": "stdout",
     "output_type": "stream",
     "text": [
      "Best parameters: {'learning_rate': 0.1, 'max_depth': 7, 'n_estimators': 65}\n",
      "Best cross-validation score: 0.3233\n",
      "Train score: 0.4459\n",
      "Test score: 0.2853\n",
      "R2 score: 0.2853\n"
     ]
    }
   ],
   "source": [
    "y_pred = grid_gb.predict(X_test)\n",
    "print(\"Best parameters: {}\".format(grid_gb.best_params_))\n",
    "print(\"Best cross-validation score: {:.4f}\".format(grid_gb.best_score_))\n",
    "print(\"Train score: {:.4f}\".format(grid_gb.score(X_train, y_train)))\n",
    "print(\"Test score: {:.4f}\".format(grid_gb.score(X_test, y_test)))\n",
    "print(\"R2 score: {:.4f}\".format(r2_score(y_test, y_pred)))"
   ]
  },
  {
   "cell_type": "markdown",
   "metadata": {},
   "source": [
    "## 6. PCA"
   ]
  },
  {
   "cell_type": "code",
   "execution_count": 122,
   "metadata": {},
   "outputs": [
    {
     "data": {
      "text/plain": [
       "(3343, 29)"
      ]
     },
     "execution_count": 122,
     "metadata": {},
     "output_type": "execute_result"
    }
   ],
   "source": [
    "X_train.shape"
   ]
  },
  {
   "cell_type": "code",
   "execution_count": 123,
   "metadata": {},
   "outputs": [],
   "source": [
    "from sklearn.decomposition import PCA\n",
    "\n",
    "pca = PCA(n_components=0.95)\n",
    "X_train_pca = pca.fit_transform(X_train)\n",
    "X_test_pca = pca.transform(X_test)"
   ]
  },
  {
   "cell_type": "code",
   "execution_count": 124,
   "metadata": {},
   "outputs": [
    {
     "data": {
      "text/plain": [
       "22"
      ]
     },
     "execution_count": 124,
     "metadata": {},
     "output_type": "execute_result"
    }
   ],
   "source": [
    "# Features post dimensionality reduction\n",
    "pca.n_components_"
   ]
  },
  {
   "cell_type": "markdown",
   "metadata": {},
   "source": [
    "## 6.1. Linear Regression"
   ]
  },
  {
   "cell_type": "code",
   "execution_count": 92,
   "metadata": {},
   "outputs": [],
   "source": [
    "param_grid = {'fit_intercept':[True, False], 'normalize':[True, False], 'positive':[True, False]}"
   ]
  },
  {
   "cell_type": "code",
   "execution_count": 93,
   "metadata": {},
   "outputs": [
    {
     "data": {
      "text/plain": [
       "GridSearchCV(cv=5, estimator=LinearRegression(), n_jobs=-1,\n",
       "             param_grid={'fit_intercept': [True, False],\n",
       "                         'normalize': [True, False],\n",
       "                         'positive': [True, False]},\n",
       "             return_train_score=True, scoring='r2')"
      ]
     },
     "execution_count": 93,
     "metadata": {},
     "output_type": "execute_result"
    }
   ],
   "source": [
    "grid_reg = GridSearchCV(LinearRegression(), param_grid, cv = 5, n_jobs=-1, scoring=\"r2\", return_train_score=True)\n",
    "grid_reg.fit(X_train_pca, y_train)"
   ]
  },
  {
   "cell_type": "code",
   "execution_count": 95,
   "metadata": {},
   "outputs": [
    {
     "name": "stdout",
     "output_type": "stream",
     "text": [
      "Best parameters: {'fit_intercept': True, 'normalize': True, 'positive': True}\n",
      "Best cross-validation score: -0.4323\n",
      "Train score: 0.0605\n",
      "Test score: 0.0268\n"
     ]
    }
   ],
   "source": [
    "y_pred = grid_reg.predict(X_test_pca)\n",
    "print(\"Best parameters: {}\".format(grid_reg.best_params_))\n",
    "print(\"Best cross-validation score: {:.4f}\".format(grid_reg.best_score_))\n",
    "print(\"Train score: {:.4f}\".format(grid_reg.score(X_train_pca, y_train)))\n",
    "print(\"Test score: {:.4f}\".format(grid_reg.score(X_test_pca, y_test)))"
   ]
  },
  {
   "cell_type": "markdown",
   "metadata": {},
   "source": [
    "## 6.2. KNN"
   ]
  },
  {
   "cell_type": "code",
   "execution_count": 103,
   "metadata": {},
   "outputs": [],
   "source": [
    "param_grid = {\"n_neighbors\": np.arange(3,15), 'weights': ['uniform', 'distance'], 'algorithm' :['auto', 'ball_tree', 'kd_tree', 'brute'], 'metric' : ['euclidean', 'manhattan' , 'minkowski']}"
   ]
  },
  {
   "cell_type": "code",
   "execution_count": 104,
   "metadata": {},
   "outputs": [
    {
     "data": {
      "text/plain": [
       "GridSearchCV(cv=5, estimator=KNeighborsRegressor(), n_jobs=-1,\n",
       "             param_grid={'algorithm': ['auto', 'ball_tree', 'kd_tree', 'brute'],\n",
       "                         'metric': ['euclidean', 'manhattan', 'minkowski'],\n",
       "                         'n_neighbors': array([ 3,  4,  5,  6,  7,  8,  9, 10, 11, 12, 13, 14]),\n",
       "                         'weights': ['uniform', 'distance']},\n",
       "             return_train_score=True, scoring='r2')"
      ]
     },
     "execution_count": 104,
     "metadata": {},
     "output_type": "execute_result"
    }
   ],
   "source": [
    "grid_reg = GridSearchCV(KNeighborsRegressor(), param_grid, cv = 5, n_jobs = -1, scoring = 'r2', return_train_score=True)\n",
    "grid_reg.fit(X_train_pca, y_train)"
   ]
  },
  {
   "cell_type": "code",
   "execution_count": 105,
   "metadata": {},
   "outputs": [
    {
     "name": "stdout",
     "output_type": "stream",
     "text": [
      "Best parameters: {'algorithm': 'auto', 'metric': 'manhattan', 'n_neighbors': 14, 'weights': 'distance'}\n",
      "Best cross-validation score: 0.3180\n",
      "Train score: 0.4593\n",
      "Test score: 0.2795\n"
     ]
    }
   ],
   "source": [
    "y_pred = grid_reg.predict(X_test_pca)\n",
    "print(\"Best parameters: {}\".format(grid_reg.best_params_))\n",
    "print(\"Best cross-validation score: {:.4f}\".format(grid_reg.best_score_))\n",
    "print(\"Train score: {:.4f}\".format(grid_reg.score(X_train_pca, y_train)))\n",
    "print(\"Test score: {:.4f}\".format(grid_reg.score(X_test_pca, y_test)))"
   ]
  },
  {
   "cell_type": "markdown",
   "metadata": {},
   "source": [
    "## 6.3. Ridge Regression"
   ]
  },
  {
   "cell_type": "code",
   "execution_count": 106,
   "metadata": {},
   "outputs": [],
   "source": [
    "param_grid = {'alpha': [1, 0.1, 0.01, 0.001, 0.0001, 0] , \"fit_intercept\": [True, False], \"solver\": ['auto', 'svd', 'cholesky', 'lsqr', 'sparse_cg', 'sag', 'saga', 'lbfgs'], 'max_iter':[100, 200, 300]}"
   ]
  },
  {
   "cell_type": "code",
   "execution_count": 107,
   "metadata": {},
   "outputs": [
    {
     "data": {
      "text/plain": [
       "GridSearchCV(cv=5, estimator=Ridge(), n_jobs=-1,\n",
       "             param_grid={'alpha': [1, 0.1, 0.01, 0.001, 0.0001, 0],\n",
       "                         'fit_intercept': [True, False],\n",
       "                         'max_iter': [100, 200, 300],\n",
       "                         'solver': ['auto', 'svd', 'cholesky', 'lsqr',\n",
       "                                    'sparse_cg', 'sag', 'saga', 'lbfgs']},\n",
       "             return_train_score=True, scoring='r2')"
      ]
     },
     "execution_count": 107,
     "metadata": {},
     "output_type": "execute_result"
    }
   ],
   "source": [
    "grid_reg = GridSearchCV(Ridge(), param_grid, cv = 5, n_jobs = -1, scoring = 'r2', return_train_score=True)\n",
    "grid_reg.fit(X_train_pca, y_train)"
   ]
  },
  {
   "cell_type": "code",
   "execution_count": 108,
   "metadata": {},
   "outputs": [
    {
     "name": "stdout",
     "output_type": "stream",
     "text": [
      "Best parameters: {'alpha': 1, 'fit_intercept': True, 'max_iter': 100, 'solver': 'saga'}\n",
      "Best cross-validation score: 0.1460\n",
      "Train score: 0.2026\n",
      "Test score: -0.0030\n",
      "R2 score: -0.0030\n"
     ]
    }
   ],
   "source": [
    "y_pred = grid_reg.predict(X_test_pca)\n",
    "print(\"Best parameters: {}\".format(grid_reg.best_params_))\n",
    "print(\"Best cross-validation score: {:.4f}\".format(grid_reg.best_score_))\n",
    "print(\"Train score: {:.4f}\".format(grid_reg.score(X_train_pca, y_train)))\n",
    "print(\"Test score: {:.4f}\".format(grid_reg.score(X_test_pca, y_test)))\n",
    "print(\"R2 score: {:.4f}\".format(r2_score(y_test, y_pred)))"
   ]
  },
  {
   "cell_type": "markdown",
   "metadata": {},
   "source": [
    "## 6.4. Lasso Regression"
   ]
  },
  {
   "cell_type": "code",
   "execution_count": 109,
   "metadata": {},
   "outputs": [],
   "source": [
    "param_grid = {'alpha': [1, 0.1, 0.01, 0.001, 0.0001, 0] , 'fit_intercept': [True, False], 'normalize': [True, False], 'max_iter' : [100, 200, 300], 'selection' :['cyclic', 'random'] }"
   ]
  },
  {
   "cell_type": "code",
   "execution_count": 110,
   "metadata": {},
   "outputs": [
    {
     "data": {
      "text/plain": [
       "GridSearchCV(cv=5, estimator=Lasso(random_state=0), n_jobs=-1,\n",
       "             param_grid={'alpha': [1, 0.1, 0.01, 0.001, 0.0001, 0],\n",
       "                         'fit_intercept': [True, False],\n",
       "                         'max_iter': [100, 200, 300],\n",
       "                         'normalize': [True, False],\n",
       "                         'selection': ['cyclic', 'random']},\n",
       "             return_train_score=True, scoring='r2')"
      ]
     },
     "execution_count": 110,
     "metadata": {},
     "output_type": "execute_result"
    }
   ],
   "source": [
    "grid_reg = GridSearchCV(Lasso(random_state=0), param_grid, cv = 5, n_jobs = -1, scoring = 'r2', return_train_score=True)\n",
    "grid_reg.fit(X_train_pca, y_train)"
   ]
  },
  {
   "cell_type": "code",
   "execution_count": 111,
   "metadata": {},
   "outputs": [
    {
     "name": "stdout",
     "output_type": "stream",
     "text": [
      "Best parameters: {'alpha': 0.01, 'fit_intercept': True, 'max_iter': 100, 'normalize': False, 'selection': 'cyclic'}\n",
      "Best cross-validation score: 0.1908\n",
      "Train score: 0.1995\n",
      "Test score: 0.0296\n"
     ]
    }
   ],
   "source": [
    "y_pred = grid_reg.predict(X_test_pca)\n",
    "print(\"Best parameters: {}\".format(grid_reg.best_params_))\n",
    "print(\"Best cross-validation score: {:.4f}\".format(grid_reg.best_score_))\n",
    "print(\"Train score: {:.4f}\".format(grid_reg.score(X_train_pca, y_train)))\n",
    "print(\"Test score: {:.4f}\".format(grid_reg.score(X_test_pca, y_test)))"
   ]
  },
  {
   "cell_type": "markdown",
   "metadata": {},
   "source": [
    "## 6.5. Polynomial Regression"
   ]
  },
  {
   "cell_type": "code",
   "execution_count": 114,
   "metadata": {},
   "outputs": [
    {
     "data": {
      "text/plain": [
       "GridSearchCV(cv=5,\n",
       "             estimator=Pipeline(steps=[('polynomialfeatures',\n",
       "                                        PolynomialFeatures()),\n",
       "                                       ('linearregression',\n",
       "                                        LinearRegression())]),\n",
       "             n_jobs=-1, param_grid={'polynomialfeatures__degree': range(1, 6)},\n",
       "             return_train_score=True, scoring='r2')"
      ]
     },
     "execution_count": 114,
     "metadata": {},
     "output_type": "execute_result"
    }
   ],
   "source": [
    "param_poly = {'polynomialfeatures__degree' : range(1, 6)  }\n",
    "poly = PolynomialFeatures()\n",
    "lr = LinearRegression()\n",
    "poly_cv = make_pipeline(PolynomialFeatures() , LinearRegression())\n",
    "grid_reg = GridSearchCV( poly_cv,  param_poly, cv = 5, n_jobs = -1, scoring=\"r2\", return_train_score=True)\n",
    "grid_reg.fit(X_train, y_train)"
   ]
  },
  {
   "cell_type": "code",
   "execution_count": 115,
   "metadata": {},
   "outputs": [
    {
     "name": "stdout",
     "output_type": "stream",
     "text": [
      "Best parameters: {'polynomialfeatures__degree': 2}\n",
      "Best cross-validation score: -4119436994834774651568128.0000\n",
      "Train score: 0.2517\n",
      "Test score: -10912315540812191489851392.0000\n"
     ]
    }
   ],
   "source": [
    "print(\"Best parameters: {}\".format(grid_reg.best_params_))\n",
    "print(\"Best cross-validation score: {:.4f}\".format(grid_reg.best_score_))\n",
    "print(\"Train score: {:.4f}\".format(grid_reg.score(X_train, y_train)))\n",
    "print(\"Test score: {:.4f}\".format(grid_reg.score(X_test, y_test)))"
   ]
  },
  {
   "cell_type": "markdown",
   "metadata": {},
   "source": [
    "### 6.6. LinearSVR"
   ]
  },
  {
   "cell_type": "code",
   "execution_count": 116,
   "metadata": {},
   "outputs": [],
   "source": [
    "param_grid = {'C':[0.001, 0.01, 0.1, 1.0, 5.0, 10.0, 100.0], 'epsilon':[0.001, 0.01, 0.1, 1.0, 10.0, 100.0], 'max_iter' : [100, 200, 300, 400, 500]}"
   ]
  },
  {
   "cell_type": "code",
   "execution_count": 117,
   "metadata": {},
   "outputs": [
    {
     "data": {
      "text/plain": [
       "GridSearchCV(cv=5, estimator=LinearSVR(), n_jobs=-1,\n",
       "             param_grid={'C': [0.001, 0.01, 0.1, 1.0, 5.0, 10.0, 100.0],\n",
       "                         'epsilon': [0.001, 0.01, 0.1, 1.0, 10.0, 100.0],\n",
       "                         'max_iter': [100, 200, 300, 400, 500]},\n",
       "             return_train_score=True, scoring='r2')"
      ]
     },
     "execution_count": 117,
     "metadata": {},
     "output_type": "execute_result"
    }
   ],
   "source": [
    "grid_reg = GridSearchCV(LinearSVR(), param_grid, cv = 5, n_jobs = -1, scoring = 'r2', return_train_score=True)\n",
    "grid_reg.fit(X_train_pca, y_train)"
   ]
  },
  {
   "cell_type": "code",
   "execution_count": 118,
   "metadata": {},
   "outputs": [
    {
     "name": "stdout",
     "output_type": "stream",
     "text": [
      "Best parameters: {'C': 0.1, 'epsilon': 1.0, 'max_iter': 500}\n",
      "Best cross-validation score: 0.1344\n",
      "Train score: 0.1733\n",
      "Test score: 0.1348\n"
     ]
    }
   ],
   "source": [
    "y_pred = grid_reg.predict(X_test_pca)\n",
    "print(\"Best parameters: {}\".format(grid_reg.best_params_))\n",
    "print(\"Best cross-validation score: {:.4f}\".format(grid_reg.best_score_))\n",
    "print(\"Train score: {:.4f}\".format(grid_reg.score(X_train_pca, y_train)))\n",
    "print(\"Test score: {:.4f}\".format(grid_reg.score(X_test_pca, y_test)))"
   ]
  },
  {
   "cell_type": "markdown",
   "metadata": {},
   "source": [
    "### 6.7. Kernalized Support Vector Machine (rbf, poly, linear)"
   ]
  },
  {
   "cell_type": "markdown",
   "metadata": {},
   "source": [
    "### 6.7.1. SVR Kernal linear"
   ]
  },
  {
   "cell_type": "code",
   "execution_count": 119,
   "metadata": {},
   "outputs": [],
   "source": [
    "param_grid = {'C':[0.001, 0.01, 0.1, 1.0, 10.0, 100.0],'gamma':[0.001, 0.01, 0.1, 1.0, 10.0, 100.0], 'epsilon':[0.001, 0.01, 0.1, 1.0, 10.0, 100.0], 'kernel':['linear'], 'max_iter':[100, 200, 300, 400, 500]}"
   ]
  },
  {
   "cell_type": "code",
   "execution_count": 120,
   "metadata": {},
   "outputs": [
    {
     "data": {
      "text/plain": [
       "GridSearchCV(cv=5, estimator=SVR(), n_jobs=-1,\n",
       "             param_grid={'C': [0.001, 0.01, 0.1, 1.0, 10.0, 100.0],\n",
       "                         'epsilon': [0.001, 0.01, 0.1, 1.0, 10.0, 100.0],\n",
       "                         'gamma': [0.001, 0.01, 0.1, 1.0, 10.0, 100.0],\n",
       "                         'kernel': ['linear'],\n",
       "                         'max_iter': [100, 200, 300, 400, 500]},\n",
       "             return_train_score=True, scoring='r2')"
      ]
     },
     "execution_count": 120,
     "metadata": {},
     "output_type": "execute_result"
    }
   ],
   "source": [
    "grid_reg = GridSearchCV(SVR(), param_grid, cv = 5, n_jobs = -1, scoring = 'r2', return_train_score=True)\n",
    "grid_reg.fit(X_train_pca, y_train)"
   ]
  },
  {
   "cell_type": "code",
   "execution_count": 121,
   "metadata": {},
   "outputs": [
    {
     "name": "stdout",
     "output_type": "stream",
     "text": [
      "Best parameters: {'C': 0.01, 'epsilon': 1.0, 'gamma': 0.001, 'kernel': 'linear', 'max_iter': 300}\n",
      "Best cross-validation score: 0.1655\n",
      "Train score: 0.1798\n",
      "Test score: 0.0643\n"
     ]
    }
   ],
   "source": [
    "y_pred = grid_reg.predict(X_test_pca)\n",
    "print(\"Best parameters: {}\".format(grid_reg.best_params_))\n",
    "print(\"Best cross-validation score: {:.4f}\".format(grid_reg.best_score_))\n",
    "print(\"Train score: {:.4f}\".format(grid_reg.score(X_train_pca, y_train)))\n",
    "print(\"Test score: {:.4f}\".format(grid_reg.score(X_test_pca, y_test)))"
   ]
  },
  {
   "cell_type": "markdown",
   "metadata": {},
   "source": [
    "### 6.7.2. SVR Kernal rbf"
   ]
  },
  {
   "cell_type": "code",
   "execution_count": 122,
   "metadata": {},
   "outputs": [],
   "source": [
    "param_grid = {'C':[0.001, 0.01, 0.1, 1.0, 10.0, 100.0],'gamma':[0.001, 0.01, 0.1, 1.0, 10.0, 100.0], 'epsilon':[0.001, 0.01, 0.1, 1.0, 10.0, 100.0], 'kernel':['rbf'], 'max_iter':[100, 200, 300, 400, 500]}"
   ]
  },
  {
   "cell_type": "code",
   "execution_count": 123,
   "metadata": {},
   "outputs": [
    {
     "data": {
      "text/plain": [
       "GridSearchCV(cv=5, estimator=SVR(), n_jobs=-1,\n",
       "             param_grid={'C': [0.001, 0.01, 0.1, 1.0, 10.0, 100.0],\n",
       "                         'epsilon': [0.001, 0.01, 0.1, 1.0, 10.0, 100.0],\n",
       "                         'gamma': [0.001, 0.01, 0.1, 1.0, 10.0, 100.0],\n",
       "                         'kernel': ['rbf'],\n",
       "                         'max_iter': [100, 200, 300, 400, 500]},\n",
       "             return_train_score=True, scoring='r2')"
      ]
     },
     "execution_count": 123,
     "metadata": {},
     "output_type": "execute_result"
    }
   ],
   "source": [
    "grid_reg = GridSearchCV(SVR(), param_grid, cv = 5, n_jobs = -1, scoring = 'r2', return_train_score=True)\n",
    "grid_reg.fit(X_train_pca, y_train)"
   ]
  },
  {
   "cell_type": "code",
   "execution_count": 124,
   "metadata": {},
   "outputs": [
    {
     "name": "stdout",
     "output_type": "stream",
     "text": [
      "Best parameters: {'C': 10.0, 'epsilon': 1.0, 'gamma': 0.1, 'kernel': 'rbf', 'max_iter': 400}\n",
      "Best cross-validation score: 0.1849\n",
      "Train score: 0.2018\n",
      "Test score: 0.1994\n"
     ]
    }
   ],
   "source": [
    "y_pred = grid_reg.predict(X_test_pca)\n",
    "print(\"Best parameters: {}\".format(grid_reg.best_params_))\n",
    "print(\"Best cross-validation score: {:.4f}\".format(grid_reg.best_score_))\n",
    "print(\"Train score: {:.4f}\".format(grid_reg.score(X_train_pca, y_train)))\n",
    "print(\"Test score: {:.4f}\".format(grid_reg.score(X_test_pca, y_test)))"
   ]
  },
  {
   "cell_type": "markdown",
   "metadata": {},
   "source": [
    "### 6.7.3. SVR Kernal poly"
   ]
  },
  {
   "cell_type": "code",
   "execution_count": 125,
   "metadata": {},
   "outputs": [],
   "source": [
    "param_grid = {'C':[0.001, 0.01, 0.1, 1.0, 10.0, 100.0],'gamma':[0.001, 0.01, 0.1, 1.0, 10.0, 100.0], 'epsilon':[0.001, 0.01, 0.1, 1.0, 10.0, 100.0], 'degree':[2, 3, 4] , 'kernel':['poly'], 'max_iter':[100, 200, 300, 400, 500]}"
   ]
  },
  {
   "cell_type": "code",
   "execution_count": 126,
   "metadata": {},
   "outputs": [
    {
     "data": {
      "text/plain": [
       "GridSearchCV(cv=5, estimator=SVR(), n_jobs=-1,\n",
       "             param_grid={'C': [0.001, 0.01, 0.1, 1.0, 10.0, 100.0],\n",
       "                         'degree': [2, 3, 4],\n",
       "                         'epsilon': [0.001, 0.01, 0.1, 1.0, 10.0, 100.0],\n",
       "                         'gamma': [0.001, 0.01, 0.1, 1.0, 10.0, 100.0],\n",
       "                         'kernel': ['poly'],\n",
       "                         'max_iter': [100, 200, 300, 400, 500]},\n",
       "             return_train_score=True, scoring='r2')"
      ]
     },
     "execution_count": 126,
     "metadata": {},
     "output_type": "execute_result"
    }
   ],
   "source": [
    "grid_reg = GridSearchCV(SVR(), param_grid, cv = 5, n_jobs = -1, scoring = 'r2', return_train_score=True)\n",
    "grid_reg.fit(X_train_pca, y_train)"
   ]
  },
  {
   "cell_type": "code",
   "execution_count": 127,
   "metadata": {},
   "outputs": [
    {
     "name": "stdout",
     "output_type": "stream",
     "text": [
      "Best parameters: {'C': 10.0, 'degree': 2, 'epsilon': 1.0, 'gamma': 0.01, 'kernel': 'poly', 'max_iter': 300}\n",
      "Best cross-validation score: 0.1468\n",
      "Train score: -1.2696\n",
      "Test score: -11.3663\n"
     ]
    }
   ],
   "source": [
    "y_pred = grid_reg.predict(X_test_pca)\n",
    "print(\"Best parameters: {}\".format(grid_reg.best_params_))\n",
    "print(\"Best cross-validation score: {:.4f}\".format(grid_reg.best_score_))\n",
    "print(\"Train score: {:.4f}\".format(grid_reg.score(X_train_pca, y_train)))\n",
    "print(\"Test score: {:.4f}\".format(grid_reg.score(X_test_pca, y_test)))"
   ]
  },
  {
   "cell_type": "markdown",
   "metadata": {},
   "source": [
    "### 6.8. Decision Tree Regression"
   ]
  },
  {
   "cell_type": "code",
   "execution_count": 137,
   "metadata": {},
   "outputs": [],
   "source": [
    "param_grid = {\"criterion\": ['squared_error', 'mse', 'friedman_mse', 'absolute_error', 'mae', 'poisson'], 'max_depth': np.arange(2,10), 'max_leaf_nodes' : np.arange(2,10), 'max_features': ['auto', 'sqrt', 'log2'] }"
   ]
  },
  {
   "cell_type": "code",
   "execution_count": 138,
   "metadata": {},
   "outputs": [
    {
     "data": {
      "text/plain": [
       "GridSearchCV(cv=5, estimator=DecisionTreeRegressor(random_state=0), n_jobs=-1,\n",
       "             param_grid={'criterion': ['squared_error', 'mse', 'friedman_mse',\n",
       "                                       'absolute_error', 'mae', 'poisson'],\n",
       "                         'max_depth': array([2, 3, 4, 5, 6, 7, 8, 9]),\n",
       "                         'max_features': ['auto', 'sqrt', 'log2'],\n",
       "                         'max_leaf_nodes': array([2, 3, 4, 5, 6, 7, 8, 9])},\n",
       "             return_train_score=True, scoring='r2')"
      ]
     },
     "execution_count": 138,
     "metadata": {},
     "output_type": "execute_result"
    }
   ],
   "source": [
    "grid_reg = GridSearchCV(DecisionTreeRegressor(random_state=0), param_grid, cv = 5, n_jobs = -1, scoring = 'r2', return_train_score=True)\n",
    "grid_reg.fit(X_train_pca, y_train)"
   ]
  },
  {
   "cell_type": "code",
   "execution_count": 139,
   "metadata": {},
   "outputs": [
    {
     "name": "stdout",
     "output_type": "stream",
     "text": [
      "Best parameters: {'criterion': 'friedman_mse', 'max_depth': 5, 'max_features': 'auto', 'max_leaf_nodes': 9}\n",
      "Best cross-validation score: 0.2506\n",
      "Train score: 0.2728\n",
      "Test score: 0.2550\n"
     ]
    }
   ],
   "source": [
    "y_pred = grid_reg.predict(X_test_pca)\n",
    "print(\"Best parameters: {}\".format(grid_reg.best_params_))\n",
    "print(\"Best cross-validation score: {:.4f}\".format(grid_reg.best_score_))\n",
    "print(\"Train score: {:.4f}\".format(grid_reg.score(X_train_pca, y_train)))\n",
    "print(\"Test score: {:.4f}\".format(grid_reg.score(X_test_pca, y_test)))"
   ]
  },
  {
   "cell_type": "markdown",
   "metadata": {},
   "source": [
    "### 6.9. Random Forest Regression"
   ]
  },
  {
   "cell_type": "code",
   "execution_count": 140,
   "metadata": {},
   "outputs": [],
   "source": [
    "param_grid = {'criterion': ['squared_error', 'mse', 'friedman_mse', 'absolute_error', 'mae', 'poisson'], 'max_depth': np.arange(2,10), 'max_leaf_nodes': np.arange(2,10)}\n",
    "#'n_estimators':[10, 50], , 'bootstrap': [True, False]"
   ]
  },
  {
   "cell_type": "code",
   "execution_count": 141,
   "metadata": {},
   "outputs": [
    {
     "data": {
      "text/plain": [
       "GridSearchCV(cv=5, estimator=RandomForestRegressor(random_state=0), n_jobs=-1,\n",
       "             param_grid={'criterion': ['squared_error', 'mse', 'friedman_mse',\n",
       "                                       'absolute_error', 'mae', 'poisson'],\n",
       "                         'max_depth': array([2, 3, 4, 5, 6, 7, 8, 9]),\n",
       "                         'max_leaf_nodes': array([2, 3, 4, 5, 6, 7, 8, 9])},\n",
       "             return_train_score=True, scoring='r2')"
      ]
     },
     "execution_count": 141,
     "metadata": {},
     "output_type": "execute_result"
    }
   ],
   "source": [
    "grid_reg = GridSearchCV(RandomForestRegressor(random_state=0), param_grid, cv = 5, n_jobs = -1, scoring = 'r2', return_train_score=True)\n",
    "grid_reg.fit(X_train_pca, y_train)"
   ]
  },
  {
   "cell_type": "code",
   "execution_count": 142,
   "metadata": {
    "scrolled": true
   },
   "outputs": [
    {
     "name": "stdout",
     "output_type": "stream",
     "text": [
      "Best parameters: {'criterion': 'friedman_mse', 'max_depth': 6, 'max_leaf_nodes': 9}\n",
      "Best cross-validation score: 0.2649\n",
      "Train score: 0.2862\n",
      "Test score: 0.2647\n"
     ]
    }
   ],
   "source": [
    "y_pred = grid_reg.predict(X_test_pca)\n",
    "print(\"Best parameters: {}\".format(grid_reg.best_params_))\n",
    "print(\"Best cross-validation score: {:.4f}\".format(grid_reg.best_score_))\n",
    "print(\"Train score: {:.4f}\".format(grid_reg.score(X_train_pca, y_train)))\n",
    "print(\"Test score: {:.4f}\".format(grid_reg.score(X_test_pca, y_test)))"
   ]
  },
  {
   "cell_type": "markdown",
   "metadata": {},
   "source": [
    "<div>\n",
    "<img src=\"RegnScoreSheet.png\" width=\"1500\"/>\n",
    "</div>"
   ]
  },
  {
   "cell_type": "markdown",
   "metadata": {},
   "source": [
    "<div class=\"alert alert-block alert-info\">\n",
    "For this regression dataset, PCA produces better results in comparison with pre-PCA results. In specific, comparitively high performing models for this dataset are RandomForestRegression and its predecessor DecisionTreeClassifier which shows a slight increase in scores after dimensionality reduction. Better results with PCA may be attributed to the fact that the error squares are minimized perpendicular to the straight line as its a linear technique.\n",
    "</div>"
   ]
  },
  {
   "cell_type": "markdown",
   "metadata": {},
   "source": [
    "## 7. Deep Learning Models"
   ]
  },
  {
   "cell_type": "code",
   "execution_count": 112,
   "metadata": {},
   "outputs": [],
   "source": [
    "import tensorflow as tf\n",
    "from keras.models import Sequential\n",
    "from keras.layers import Dense"
   ]
  },
  {
   "cell_type": "code",
   "execution_count": 113,
   "metadata": {},
   "outputs": [],
   "source": [
    "model = Sequential()\n",
    "model.add(Dense(16, input_dim = 29, activation='relu', kernel_initializer = 'normal', name = 'input_layer'))\n",
    "model.add(Dense(1, activation = 'softmax', name = 'output_layer'))"
   ]
  },
  {
   "cell_type": "code",
   "execution_count": 114,
   "metadata": {},
   "outputs": [
    {
     "name": "stdout",
     "output_type": "stream",
     "text": [
      "Model: \"sequential_2\"\n",
      "_________________________________________________________________\n",
      " Layer (type)                Output Shape              Param #   \n",
      "=================================================================\n",
      " input_layer (Dense)         (None, 16)                480       \n",
      "                                                                 \n",
      " output_layer (Dense)        (None, 1)                 17        \n",
      "                                                                 \n",
      "=================================================================\n",
      "Total params: 497\n",
      "Trainable params: 497\n",
      "Non-trainable params: 0\n",
      "_________________________________________________________________\n"
     ]
    }
   ],
   "source": [
    "model.summary()"
   ]
  },
  {
   "cell_type": "code",
   "execution_count": 115,
   "metadata": {},
   "outputs": [],
   "source": [
    "model.compile(loss = 'mean_squared_error',\n",
    "              optimizer = 'adam', \n",
    "              metrics=['mae','mse'])"
   ]
  },
  {
   "cell_type": "code",
   "execution_count": 116,
   "metadata": {},
   "outputs": [
    {
     "name": "stdout",
     "output_type": "stream",
     "text": [
      "Epoch 1/10\n",
      "335/335 [==============================] - 1s 2ms/step - loss: 166.8182 - mae: 12.8967 - mse: 166.8182\n",
      "Epoch 2/10\n",
      "335/335 [==============================] - 1s 2ms/step - loss: 166.8183 - mae: 12.8967 - mse: 166.8183\n",
      "Epoch 3/10\n",
      "335/335 [==============================] - 1s 2ms/step - loss: 166.8183 - mae: 12.8967 - mse: 166.8183\n",
      "Epoch 4/10\n",
      "335/335 [==============================] - 1s 2ms/step - loss: 166.8182 - mae: 12.8967 - mse: 166.8182\n",
      "Epoch 5/10\n",
      "335/335 [==============================] - 0s 1ms/step - loss: 166.8182 - mae: 12.8967 - mse: 166.8182\n",
      "Epoch 6/10\n",
      "335/335 [==============================] - 0s 1ms/step - loss: 166.8183 - mae: 12.8967 - mse: 166.8183\n",
      "Epoch 7/10\n",
      "335/335 [==============================] - 0s 1ms/step - loss: 166.8183 - mae: 12.8967 - mse: 166.8183\n",
      "Epoch 8/10\n",
      "335/335 [==============================] - 0s 1ms/step - loss: 166.8183 - mae: 12.8967 - mse: 166.8183\n",
      "Epoch 9/10\n",
      "335/335 [==============================] - 1s 2ms/step - loss: 166.8182 - mae: 12.8967 - mse: 166.8182\n",
      "Epoch 10/10\n",
      "335/335 [==============================] - 1s 2ms/step - loss: 166.8182 - mae: 12.8967 - mse: 166.8182\n"
     ]
    },
    {
     "data": {
      "text/plain": [
       "<keras.callbacks.History at 0x22f7abd2f10>"
      ]
     },
     "execution_count": 116,
     "metadata": {},
     "output_type": "execute_result"
    }
   ],
   "source": [
    "model.fit(X_train, y_train, batch_size=10, epochs=10)"
   ]
  },
  {
   "cell_type": "code",
   "execution_count": 118,
   "metadata": {},
   "outputs": [
    {
     "name": "stdout",
     "output_type": "stream",
     "text": [
      "27/27 [==============================] - 0s 960us/step - loss: 166.5877 - mae: 12.8878 - mse: 166.5877\n",
      "[166.58773803710938, 12.887773513793945, 166.58773803710938]\n",
      "Test Loss 166.58773803710938\n",
      "Test mae 12.887773513793945\n",
      "Test mse 166.58773803710938\n"
     ]
    }
   ],
   "source": [
    "# Step 4: Model evaluation\n",
    "loss_and_metrics = model.evaluate(X_test, y_test)\n",
    "\n",
    "print(loss_and_metrics)\n",
    "\n",
    "print(\"Test Loss\", loss_and_metrics[0])\n",
    "print(\"Test mae\", loss_and_metrics[1])\n",
    "print(\"Test mse\", loss_and_metrics[2])"
   ]
  },
  {
   "cell_type": "markdown",
   "metadata": {},
   "source": [
    "## Model selection"
   ]
  },
  {
   "cell_type": "markdown",
   "metadata": {},
   "source": [
    "<div class=\"alert alert-block alert-info\">\n",
    "By running Grid Search for different models and by playing around corresponding hyper-parameters, we come to a conclusion that Random Forest Regression model seems to perform better not the best in this case, with a Train score: 0.2728, Test score: 0.255 post dimensionality reduction wherein the best hyper-parameters chosen are criterion of {'criterion': 'friedman_mse', 'max_depth': 6, 'max_leaf_nodes': 9}. With this lets predict the target values for the test dataset.\n",
    "</div>"
   ]
  },
  {
   "cell_type": "markdown",
   "metadata": {},
   "source": [
    "## Final Prediction"
   ]
  },
  {
   "cell_type": "code",
   "execution_count": 125,
   "metadata": {},
   "outputs": [
    {
     "name": "stdout",
     "output_type": "stream",
     "text": [
      "Random Forest Regression:\n",
      "R-Squared Test Score is 0.2569\n",
      "Predictions for the test dataset is :\n",
      " [14.56760441 13.94581075 13.64395775 13.93633633 13.63931961 13.95812475\n",
      " 13.30337818 14.45409489 14.56760441 13.63650249 14.27319995 13.30337818\n",
      " 13.93361948 13.52351688 14.28594796 14.28594796 13.64395775 13.80947046\n",
      " 13.93361948 14.28594796 13.63650249 14.28594796 13.94581075 13.94581075\n",
      " 13.95812475 13.93361948 13.63650249 14.39718983 13.80947046 13.93361948\n",
      " 13.30337818 13.30337818 13.63650249 14.01152798 13.63931961 13.93361948\n",
      " 14.56760441 13.63650249 14.28594796 13.63650249 13.94581075 13.63650249\n",
      " 13.63650249 13.63931961 14.56760441 13.93361948 13.64395775 13.30337818\n",
      " 14.32623003 13.63650249 13.63650249 14.2647537  13.30337818 14.01152798\n",
      " 13.30337818 13.64633735 13.64395775 13.80947046 13.95812475 14.35366811\n",
      " 13.94581075 13.63650249 14.56060535 13.64395775 13.63650249 13.93633633\n",
      " 14.35366811 13.63650249 13.30337818 13.93361948 14.35366811 13.81780718\n",
      " 13.63931961 13.93361948 13.93633633 13.93361948 13.80947046 13.94581075\n",
      " 13.93633633 13.63650249 13.93361948 14.35366811 14.28594796 13.30337818\n",
      " 14.45409489 14.4458421  13.93361948 13.63931961 13.93361948 14.45409489\n",
      " 13.63650249 14.56760441 13.63931961 13.63650249 13.94581075 13.30337818\n",
      " 13.64395775 13.63650249 13.93361948 14.01152798 14.33976231 13.63650249\n",
      " 14.01152798 14.01152798 14.2647537  14.35366811 13.94581075 13.30337818\n",
      " 13.63650249 13.63650249 13.63931961 14.01152798 13.95812475 13.93361948\n",
      " 13.63931961 14.35366811 14.56760441 13.63650249 14.33976231 13.63650249\n",
      " 14.56760441 13.30337818 13.75880372 14.28594796 13.80947046 13.30337818\n",
      " 13.80947046 13.93361948 14.56060535 14.56760441 13.63650249 13.63650249\n",
      " 14.28594796 13.94581075 13.93633633 13.63650249 13.63931961 14.56060535\n",
      " 13.64633735 13.63931961 13.93361948 14.33976231 13.30337818 13.30337818\n",
      " 13.30337818 14.2647537  13.93361948 13.63650249 14.33976231 13.30337818\n",
      " 13.93361948 13.63650249 13.63650249 13.94581075 13.93361948 13.63650249\n",
      " 13.30337818 13.63650249 13.63650249 14.27815175 14.28594796 14.2647537\n",
      " 13.93361948 14.35366811 13.30337818 13.80947046 13.63650249 14.56760441\n",
      " 14.45409489 13.94581075 13.80947046 13.63931961 14.35366811 14.23288198\n",
      " 13.30337818 13.92373439 13.65507426 13.64633735 13.93633633 14.28594796\n",
      " 13.63650249 13.93361948 13.30337818 13.93361948 13.95812475 13.93361948\n",
      " 14.35366811 13.63650249 13.63650249 14.33976231 13.63650249 13.63650249\n",
      " 13.30337818 13.80947046 13.63650249 13.75880372 14.33976231 13.63650249\n",
      " 13.30337818 13.30337818 13.64633735 13.63650249 13.81780718 13.30337818\n",
      " 13.63650249 14.01152798 13.63650249 13.64633735 13.63650249 14.4458421\n",
      " 13.93361948 13.63650249 13.63650249 13.94581075 14.28594796 13.30337818\n",
      " 13.63650249 13.63650249 13.64633735 13.93361948 14.33976231 13.93361948\n",
      " 13.63931961 13.63650249 13.63931961 14.00020518 13.94581075 13.63931961\n",
      " 13.64395775 13.30337818 13.95812475 14.56760441 13.94581075 13.63650249\n",
      " 13.63650249 13.93361948 13.63650249 13.63650249 14.56760441 14.28594796\n",
      " 13.80947046 13.30337818 13.63650249 13.93361948 14.01152798 13.30337818\n",
      " 14.56060535 13.63650249 13.64915448 13.93361948 13.63650249 13.93633633\n",
      " 14.01152798 14.27815175 13.63650249 13.84176345 13.63650249 13.63650249\n",
      " 13.63316251 13.30337818 13.80947046 13.75880372 13.93361948 13.93361948\n",
      " 13.93633633 14.45409489 13.76890107 13.93361948 13.63650249 14.27815175\n",
      " 13.63650249 13.63650249 13.30337818 14.33976231 13.93361948 13.63650249\n",
      " 13.93361948 14.33976231 14.33976231 13.93633633 14.35366811 13.30337818\n",
      " 13.93361948 13.63931961 13.93361948 13.30337818 14.33976231 13.30337818\n",
      " 13.64633735 13.63650249 13.65507426 13.93361948 13.93361948 13.63650249\n",
      " 13.75880372 13.64633735 14.28594796 14.27319995 14.33976231 13.30337818\n",
      " 13.80947046 14.2647537  13.93361948 13.30337818 14.01152798 13.63650249\n",
      " 13.93361948 13.93633633 13.63650249 14.33976231 13.93361948 13.63931961\n",
      " 14.56760441 13.93633633 13.63931961 13.64633735 13.65507426 13.63650249\n",
      " 13.30337818 14.33976231 13.63650249 14.33976231 13.30337818 13.93361948\n",
      " 13.63650249 14.33976231 14.28594796 13.93361948 13.93361948 14.45409489\n",
      " 14.37468311 13.93361948 13.63650249 13.94581075 13.64395775 13.65507426\n",
      " 13.93633633 13.93361948 13.63650249 14.45409489 14.28594796 14.2647537\n",
      " 13.63650249 13.93361948 13.93361948 13.94596762 13.93361948 13.63650249\n",
      " 13.63650249 13.65004412 13.93633633 13.93361948 13.63650249 13.75880372\n",
      " 13.75880372 13.94581075 14.56760441 13.63650249 13.63650249 13.93361948\n",
      " 13.93361948 13.30337818 13.63931961 13.94581075 13.93361948 13.63650249\n",
      " 14.33976231 14.27319995 13.93361948 14.56760441 14.56760441 13.93361948\n",
      " 13.93633633 14.2647537  13.63650249 13.30337818 13.94581075 13.93361948\n",
      " 13.30337818 13.63650249 13.30337818 14.56760441 13.64633735 13.63650249\n",
      " 13.63650249 14.19628928 13.30337818 13.80947046 13.63650249 13.30337818\n",
      " 13.52351688 13.80947046 13.30337818 14.27815175 14.2647537  13.93361948\n",
      " 13.75880372 13.63650249 13.63650249 14.45409489 14.01152798 13.63650249\n",
      " 14.56760441 13.93633633 13.64633735 14.33976231 13.92818268 13.63650249\n",
      " 13.93361948 14.56760441 14.4458421  13.94581075 13.93633633 13.93361948\n",
      " 14.33976231 14.56760441 13.64677488 13.63650249 14.35366811 13.30337818\n",
      " 13.93361948 13.93361948 14.35366811 13.92373439 14.56760441 13.64633735\n",
      " 13.63650249 13.94581075 14.27815175 13.94581075 13.63650249 14.27815175\n",
      " 13.30337818 13.93633633 13.64633735 14.33976231 13.63650249 14.33976231\n",
      " 14.35366811 14.2647537  13.63650249 13.93361948 13.93361948 13.30337818\n",
      " 14.34801509 13.80947046 14.27815175 14.27815175 14.01152798 14.33976231\n",
      " 13.63650249 14.28594796 13.80947046 13.63650249 13.65507426 13.63650249\n",
      " 13.30337818 14.45409489 14.45409489 13.30337818 14.27815175 14.28594796\n",
      " 13.30337818 13.63650249 13.93361948 13.95812475 14.01152798 13.80947046\n",
      " 14.28594796 13.75880372 14.33976231 14.56760441 13.64395775 14.56060535\n",
      " 13.63650249 13.93633633 13.64915448 13.30337818 13.94581075 13.63650249\n",
      " 14.01152798 14.35366811 13.75880372 14.35366811 14.35366811 13.30337818\n",
      " 14.56060535 13.30337818 14.56760441 13.94581075 13.80947046 13.63650249\n",
      " 14.35366811 13.93361948 13.64395775 13.63650249 13.30337818 13.63650249\n",
      " 13.93633633 13.80947046 13.93361948 13.63650249 14.56760441 13.75880372\n",
      " 13.80947046 13.64395775 14.35366811 13.93633633 13.63650249 13.30337818\n",
      " 13.93361948 13.63650249 13.80947046 13.93361948 13.30337818 14.28594796\n",
      " 13.63650249 13.30337818 13.93361948 13.63931961 13.93633633 13.64633735\n",
      " 13.30337818 13.63316251 13.63931961 14.01152798 13.30337818 13.30337818\n",
      " 14.56760441 13.94581075 14.56760441 13.93633633 13.93361948 14.33976231\n",
      " 13.80947046 13.30337818 13.63650249 14.45409489 14.01152798 13.63650249\n",
      " 13.93361948 13.63650249 13.63650249 14.17022959 13.63931961 13.30337818\n",
      " 13.63650249 14.01152798 13.46144765 13.93361948 13.63650249 13.93361948\n",
      " 13.95812475 14.35366811 13.93361948 13.93361948 14.28594796 13.63650249\n",
      " 13.30337818 14.28594796 14.01152798 14.17022959 13.63650249 13.63650249\n",
      " 13.63931961 13.65507426 13.30337818 13.30337818 13.63650249 13.63650249\n",
      " 13.63650249 14.01152798 13.63650249 13.63650249 13.63650249 13.63650249\n",
      " 14.56760441 14.28594796 14.35366811 14.35366811 13.63650249 13.93361948\n",
      " 13.93361948 14.33976231 13.93633633 13.63650249 13.80947046 13.63650249\n",
      " 13.64633735 13.93633633 14.56060535 13.64395775 13.63650249 13.93633633\n",
      " 13.93361948 13.30337818 13.63650249 14.27815175 14.28594796 13.63650249\n",
      " 14.27319995 13.30337818 13.63650249 13.83900374 13.63650249 13.63650249\n",
      " 14.33976231 13.93361948 13.30337818 13.63650249 14.33976231 14.28594796\n",
      " 13.63650249 14.12561877 14.35366811 13.63650249 13.63931961 14.56760441\n",
      " 13.64915448 13.63650249 14.35366811 13.63650249 13.76890107 13.63931961\n",
      " 13.63650249 13.93361948 13.75499526 13.63650249 13.63650249 14.56760441\n",
      " 13.63931961 13.94581075 13.64633735 13.63650249 14.35366811 14.18381966\n",
      " 13.95812475 14.27815175 13.63650249 13.63650249 13.63650249 13.63650249\n",
      " 14.56760441 14.27815175 14.28594796 13.94581075 13.93633633 13.93633633\n",
      " 13.93633633 14.28594796 14.56760441 14.56760441 13.93361948 13.30337818\n",
      " 13.64633735 13.93361948 14.33976231 14.2647537  13.63931961 13.93633633\n",
      " 13.95812475 13.64633735 14.33976231 13.63650249 13.30337818 14.45409489\n",
      " 14.01152798 13.95812475 13.95812475 14.33976231 13.80947046 13.95812475\n",
      " 13.63650249 14.33976231 14.45409489 13.93633633 13.63650249 14.33976231\n",
      " 13.64395775 13.63931961 13.93361948 13.80947046 14.27319995 13.30337818\n",
      " 14.56060535 13.30337818 13.63650249 13.93633633 14.28594796 13.93361948\n",
      " 14.45409489 14.45409489 13.63650249 13.63650249 14.45409489 13.93361948\n",
      " 13.63650249 13.75880372 14.33976231 13.63650249 13.64633735 13.30337818\n",
      " 13.93361948 13.30337818 13.63931961 13.63931961 14.43338757 13.30337818\n",
      " 14.45409489 14.56760441 13.63650249 13.75880372 14.56760441 13.63650249\n",
      " 13.93361948 13.93361948 13.63650249 13.30337818 13.93361948 13.94581075\n",
      " 13.63650249 13.63931961 13.63650249 13.30337818 13.30337818 13.93361948\n",
      " 13.63650249 13.63650249 13.30337818 13.63931961 13.30337818 13.94581075\n",
      " 13.93361948 13.63650249 14.28594796 14.28594796 14.01152798 14.01152798\n",
      " 14.35366811 13.63650249 14.28594796 13.93361948 13.93361948 13.64395775\n",
      " 14.28594796 13.93633633 14.35366811 13.30337818 13.63650249 14.01152798\n",
      " 13.94581075 13.80947046 13.93633633 14.56760441 13.80947046 13.64633735\n",
      " 13.93633633 13.94581075 13.63650249 14.28594796 13.93361948 13.93361948\n",
      " 13.93361948 14.2647537  13.94581075 13.75880372 13.93633633 13.93361948\n",
      " 14.28594796 13.93633633 13.63650249 13.93361948 13.63650249 13.93361948\n",
      " 13.93361948 13.63650249 13.93361948 13.93361948 14.28594796 13.63650249\n",
      " 13.93361948 13.93361948 13.30337818 13.63931961 13.63650249 13.94581075\n",
      " 13.30337818 13.80947046 13.63650249 13.93361948 13.93361948 13.63650249\n",
      " 13.63650249 13.63650249 14.33976231 13.63931961 14.2647537  13.63650249\n",
      " 13.95812475 14.0495602  13.93361948 13.63650249 13.30337818 14.27319995\n",
      " 13.83900374 13.93633633 13.93361948 13.93633633 13.63650249 13.63650249\n",
      " 13.93361948 13.63650249 13.93361948 13.30337818 14.28594796 14.45409489\n",
      " 13.93361948 13.64915448 13.63650249 13.94581075 13.94581075 14.35366811\n",
      " 14.3619209  13.81780718 13.64633735 13.93361948 13.63650249 14.2647537\n",
      " 13.63650249 14.28594796 13.65507426 13.63650249 13.63650249 14.28594796\n",
      " 14.45409489 13.63650249]\n"
     ]
    }
   ],
   "source": [
    "# By applying the best hyperparameters found by using Grid Search, lets train the chosen model to predict the SALE Price (as of 2017) for test dataset\n",
    "model=RandomForestRegressor(criterion='friedman_mse', max_depth=6, max_leaf_nodes=9)\n",
    "\n",
    "model.fit(X_train, y_train)\n",
    "y_pred = model.predict(X_test)\n",
    "r2 = r2_score(y_test, y_pred)\n",
    "\n",
    "print('Random Forest Regression:')\n",
    "print ('R-Squared Test Score is {:.4f}'.format(r2))\n",
    "print('Predictions for the test dataset is :\\n', y_pred)"
   ]
  },
  {
   "cell_type": "markdown",
   "metadata": {},
   "source": [
    "<div class=\"alert alert-block alert-success\">\n",
    "For this dataset, of all the models considered Random Forest Regression model helps predict the sale price for the test dataset  post dimensionality reduction with a r-squared score of 0.2569.\n",
    "</div>"
   ]
  }
 ],
 "metadata": {
  "kernelspec": {
   "display_name": "Python 3",
   "language": "python",
   "name": "python3"
  },
  "language_info": {
   "codemirror_mode": {
    "name": "ipython",
    "version": 3
   },
   "file_extension": ".py",
   "mimetype": "text/x-python",
   "name": "python",
   "nbconvert_exporter": "python",
   "pygments_lexer": "ipython3",
   "version": "3.8.5"
  }
 },
 "nbformat": 4,
 "nbformat_minor": 4
}
