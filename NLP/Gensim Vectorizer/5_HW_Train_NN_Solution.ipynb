{
 "cells": [
  {
   "cell_type": "markdown",
   "metadata": {
    "id": "oRpKwzMokTou"
   },
   "source": [
    "# Task \n",
    "Given title and body of the question, predict the Question Tag (technical Domain). "
   ]
  },
  {
   "cell_type": "markdown",
   "metadata": {
    "id": "gTd5DfBAqbc6"
   },
   "source": [
    "# Import libraries"
   ]
  },
  {
   "cell_type": "code",
   "execution_count": 4,
   "metadata": {
    "colab": {
     "base_uri": "https://localhost:8080/"
    },
    "executionInfo": {
     "elapsed": 437,
     "status": "ok",
     "timestamp": 1649531988295,
     "user": {
      "displayName": "Shaannoor Mann",
      "userId": "02520257695567980696"
     },
     "user_tz": 300
    },
    "id": "G6VX11FrwwvN",
    "outputId": "fd17244e-a1a8-483c-e3de-143a206ce167"
   },
   "outputs": [
    {
     "name": "stdout",
     "output_type": "stream",
     "text": [
      "4\n",
      "4\n"
     ]
    }
   ],
   "source": [
    "import multiprocessing\n",
    "import os\n",
    "\n",
    "print(multiprocessing.cpu_count())\n",
    "print(os.cpu_count())"
   ]
  },
  {
   "cell_type": "code",
   "execution_count": 5,
   "metadata": {
    "execution": {
     "iopub.execute_input": "2022-04-01T09:55:44.304430Z",
     "iopub.status.busy": "2022-04-01T09:55:44.304249Z",
     "iopub.status.idle": "2022-04-01T09:55:46.883683Z",
     "shell.execute_reply": "2022-04-01T09:55:46.883144Z",
     "shell.execute_reply.started": "2022-04-01T09:55:44.304378Z"
    },
    "executionInfo": {
     "elapsed": 3030,
     "status": "ok",
     "timestamp": 1649531991705,
     "user": {
      "displayName": "Shaannoor Mann",
      "userId": "02520257695567980696"
     },
     "user_tz": 300
    },
    "id": "YN34PmjL51ID"
   },
   "outputs": [],
   "source": [
    "!pip install -U spacy -qq"
   ]
  },
  {
   "cell_type": "code",
   "execution_count": 6,
   "metadata": {
    "execution": {
     "iopub.execute_input": "2022-04-01T09:55:46.884505Z",
     "iopub.status.busy": "2022-04-01T09:55:46.884406Z",
     "iopub.status.idle": "2022-04-01T09:55:49.269311Z",
     "shell.execute_reply": "2022-04-01T09:55:49.268745Z",
     "shell.execute_reply.started": "2022-04-01T09:55:46.884492Z"
    },
    "executionInfo": {
     "elapsed": 2928,
     "status": "ok",
     "timestamp": 1649531994628,
     "user": {
      "displayName": "Shaannoor Mann",
      "userId": "02520257695567980696"
     },
     "user_tz": 300
    },
    "id": "6dMS3KisSRLT"
   },
   "outputs": [],
   "source": [
    "%%capture\n",
    "!pip install wandb --upgrade"
   ]
  },
  {
   "cell_type": "code",
   "execution_count": 7,
   "metadata": {
    "colab": {
     "base_uri": "https://localhost:8080/"
    },
    "executionInfo": {
     "elapsed": 1585,
     "status": "ok",
     "timestamp": 1649531996208,
     "user": {
      "displayName": "Shaannoor Mann",
      "userId": "02520257695567980696"
     },
     "user_tz": 300
    },
    "id": "GdkdBjeeTzyg",
    "outputId": "7e977920-8b39-44a6-9827-c7bfd0c6c5ff"
   },
   "outputs": [
    {
     "name": "stdout",
     "output_type": "stream",
     "text": [
      "Drive already mounted at /content/drive; to attempt to forcibly remount, call drive.mount(\"/content/drive\", force_remount=True).\n"
     ]
    }
   ],
   "source": [
    "from google.colab import drive\n",
    "drive.mount('/content/drive')"
   ]
  },
  {
   "cell_type": "code",
   "execution_count": 8,
   "metadata": {
    "execution": {
     "iopub.execute_input": "2022-04-01T11:51:22.209968Z",
     "iopub.status.busy": "2022-04-01T11:51:22.209817Z",
     "iopub.status.idle": "2022-04-01T11:51:22.214968Z",
     "shell.execute_reply": "2022-04-01T11:51:22.214365Z",
     "shell.execute_reply.started": "2022-04-01T11:51:22.209929Z"
    },
    "executionInfo": {
     "elapsed": 2,
     "status": "ok",
     "timestamp": 1649531996208,
     "user": {
      "displayName": "Shaannoor Mann",
      "userId": "02520257695567980696"
     },
     "user_tz": 300
    },
    "id": "TqYqOtp5yluv",
    "tags": []
   },
   "outputs": [],
   "source": [
    "#import sys\n",
    "#sys.path.append('/content/drive/MyDrive/Custom_functions')\n",
    "#sys.path.append('/home/harpreet/Insync/google_drive_shaannoor/Custom_functions')"
   ]
  },
  {
   "cell_type": "code",
   "execution_count": 9,
   "metadata": {
    "execution": {
     "iopub.execute_input": "2022-04-01T11:51:22.905454Z",
     "iopub.status.busy": "2022-04-01T11:51:22.905248Z",
     "iopub.status.idle": "2022-04-01T11:51:25.104205Z",
     "shell.execute_reply": "2022-04-01T11:51:25.103704Z",
     "shell.execute_reply.started": "2022-04-01T11:51:22.905422Z"
    },
    "executionInfo": {
     "elapsed": 4166,
     "status": "ok",
     "timestamp": 1649532000372,
     "user": {
      "displayName": "Shaannoor Mann",
      "userId": "02520257695567980696"
     },
     "user_tz": 300
    },
    "id": "CQQbjmDl5Got",
    "tags": []
   },
   "outputs": [],
   "source": [
    "# Import random function\n",
    "\n",
    "import torch\n",
    "import torch.nn as nn\n",
    "import torch.nn.functional as F\n",
    "from torchtext.vocab import  vocab\n",
    "\n",
    "import wandb\n",
    "import spacy\n",
    "#import custom_preprocessor as cp\n",
    "\n",
    "import random\n",
    "from datetime import datetime\n",
    "import numpy as np\n",
    "from pathlib import Path\n",
    "import pandas as pd\n",
    "import joblib\n",
    "from collections import Counter\n",
    "\n",
    "from pathlib import Path\n",
    "\n",
    "from sklearn.model_selection import train_test_split"
   ]
  },
  {
   "cell_type": "code",
   "execution_count": 10,
   "metadata": {
    "colab": {
     "base_uri": "https://localhost:8080/",
     "height": 37
    },
    "execution": {
     "iopub.execute_input": "2022-04-01T11:51:25.105158Z",
     "iopub.status.busy": "2022-04-01T11:51:25.105004Z",
     "iopub.status.idle": "2022-04-01T11:51:25.113998Z",
     "shell.execute_reply": "2022-04-01T11:51:25.113644Z",
     "shell.execute_reply.started": "2022-04-01T11:51:25.105101Z"
    },
    "executionInfo": {
     "elapsed": 10,
     "status": "ok",
     "timestamp": 1649532000373,
     "user": {
      "displayName": "Shaannoor Mann",
      "userId": "02520257695567980696"
     },
     "user_tz": 300
    },
    "id": "wGpU0jf0S3CM",
    "outputId": "7ca3b5d2-bbe6-49d1-b0b7-d3ede0a72919",
    "tags": []
   },
   "outputs": [
    {
     "data": {
      "application/vnd.google.colaboratory.intrinsic+json": {
       "type": "string"
      },
      "text/plain": [
       "'3.2.4'"
      ]
     },
     "execution_count": 10,
     "metadata": {},
     "output_type": "execute_result"
    }
   ],
   "source": [
    "spacy.__version__"
   ]
  },
  {
   "cell_type": "code",
   "execution_count": 11,
   "metadata": {
    "execution": {
     "iopub.execute_input": "2022-04-01T11:51:33.570890Z",
     "iopub.status.busy": "2022-04-01T11:51:33.570739Z",
     "iopub.status.idle": "2022-04-01T11:51:33.573558Z",
     "shell.execute_reply": "2022-04-01T11:51:33.573128Z",
     "shell.execute_reply.started": "2022-04-01T11:51:33.570877Z"
    },
    "executionInfo": {
     "elapsed": 8,
     "status": "ok",
     "timestamp": 1649532000373,
     "user": {
      "displayName": "Shaannoor Mann",
      "userId": "02520257695567980696"
     },
     "user_tz": 300
    },
    "id": "cQMp3q4BUh_w",
    "tags": []
   },
   "outputs": [],
   "source": [
    "#!python -m spacy download 'en_core_web_sm'"
   ]
  },
  {
   "cell_type": "code",
   "execution_count": 12,
   "metadata": {
    "execution": {
     "iopub.execute_input": "2022-04-01T11:51:36.482702Z",
     "iopub.status.busy": "2022-04-01T11:51:36.482313Z",
     "iopub.status.idle": "2022-04-01T11:51:36.485619Z",
     "shell.execute_reply": "2022-04-01T11:51:36.485335Z",
     "shell.execute_reply.started": "2022-04-01T11:51:36.482686Z"
    },
    "executionInfo": {
     "elapsed": 8,
     "status": "ok",
     "timestamp": 1649532000374,
     "user": {
      "displayName": "Shaannoor Mann",
      "userId": "02520257695567980696"
     },
     "user_tz": 300
    },
    "id": "kEDlrfWpSCHc",
    "tags": []
   },
   "outputs": [],
   "source": [
    "# Fix seed value\n",
    "SEED = 2345\n",
    "random.seed(SEED)\n",
    "np.random.seed(SEED)\n",
    "torch.manual_seed(SEED)\n",
    "torch.cuda.manual_seed(SEED)\n",
    "torch.backends.cudnn.deterministic = True"
   ]
  },
  {
   "cell_type": "code",
   "execution_count": 13,
   "metadata": {
    "execution": {
     "iopub.execute_input": "2022-04-01T11:51:37.065752Z",
     "iopub.status.busy": "2022-04-01T11:51:37.065278Z",
     "iopub.status.idle": "2022-04-01T11:51:37.068033Z",
     "shell.execute_reply": "2022-04-01T11:51:37.067602Z",
     "shell.execute_reply.started": "2022-04-01T11:51:37.065735Z"
    },
    "executionInfo": {
     "elapsed": 8,
     "status": "ok",
     "timestamp": 1649532000374,
     "user": {
      "displayName": "Shaannoor Mann",
      "userId": "02520257695567980696"
     },
     "user_tz": 300
    },
    "id": "omgjHGvS2VBQ",
    "tags": []
   },
   "outputs": [],
   "source": [
    "data_folder = Path('/content/drive/MyDrive/Data/NLP/')\n",
    "#data_folder = Path('/home/harpreet/Insync/google_drive_shaannoor/Data/NLP')"
   ]
  },
  {
   "cell_type": "code",
   "execution_count": 14,
   "metadata": {
    "execution": {
     "iopub.execute_input": "2022-04-01T11:51:37.800663Z",
     "iopub.status.busy": "2022-04-01T11:51:37.800505Z",
     "iopub.status.idle": "2022-04-01T11:51:37.803081Z",
     "shell.execute_reply": "2022-04-01T11:51:37.802675Z",
     "shell.execute_reply.started": "2022-04-01T11:51:37.800649Z"
    },
    "executionInfo": {
     "elapsed": 8,
     "status": "ok",
     "timestamp": 1649532000374,
     "user": {
      "displayName": "Shaannoor Mann",
      "userId": "02520257695567980696"
     },
     "user_tz": 300
    },
    "id": "AfxXCoF44R5q",
    "tags": []
   },
   "outputs": [],
   "source": [
    "save_model_folder = Path('/content/drive/MyDrive/teaching_spring_2022/Models')\n",
    "#save_model_folder = Path('/home/harpreet/Insync/harpreet24.utd@gmail.com/teaching_spring_2022/Models')"
   ]
  },
  {
   "cell_type": "markdown",
   "metadata": {
    "id": "v0CyZzobQoT_"
   },
   "source": [
    "We will be using W&B for visualization."
   ]
  },
  {
   "cell_type": "code",
   "execution_count": 15,
   "metadata": {
    "colab": {
     "base_uri": "https://localhost:8080/"
    },
    "execution": {
     "iopub.execute_input": "2022-04-01T11:51:44.138092Z",
     "iopub.status.busy": "2022-04-01T11:51:44.137943Z",
     "iopub.status.idle": "2022-04-01T11:51:45.772454Z",
     "shell.execute_reply": "2022-04-01T11:51:45.772056Z",
     "shell.execute_reply.started": "2022-04-01T11:51:44.138077Z"
    },
    "executionInfo": {
     "elapsed": 1786,
     "status": "ok",
     "timestamp": 1649532002152,
     "user": {
      "displayName": "Shaannoor Mann",
      "userId": "02520257695567980696"
     },
     "user_tz": 300
    },
    "id": "faY9UaHhQkb3",
    "outputId": "38992692-2a43-42b8-8963-1ce8e71f7478",
    "tags": []
   },
   "outputs": [
    {
     "name": "stderr",
     "output_type": "stream",
     "text": [
      "\u001b[34m\u001b[1mwandb\u001b[0m: Currently logged in as: \u001b[33mhsingh-utd\u001b[0m (use `wandb login --relogin` to force relogin)\n"
     ]
    },
    {
     "data": {
      "text/plain": [
       "True"
      ]
     },
     "execution_count": 15,
     "metadata": {},
     "output_type": "execute_result"
    }
   ],
   "source": [
    "# Login to W&B\n",
    "wandb.login()"
   ]
  },
  {
   "cell_type": "markdown",
   "metadata": {
    "id": "17xctemopjdA"
   },
   "source": [
    "# **SubSet Stack Exchange**\n",
    "\n",
    "This data is a subset of data from  Kaggle Competition (https://www.kaggle.com/c/facebook-recruiting-iii-keyword-extraction/data). The given dataset actually contains the different questions asked in the StackExchange website for various technical domains. We have fetched only those question that contains the top 10 individual tags. Each question can have only one tag. This means that this is a multi-class classification problem. These are the ten categories for tags in the data.\n",
    "\n",
    "| Tag    | Language|\n",
    "| -------| --------|\n",
    "| 0      | c#      |\n",
    "| 1      | jave    |\n",
    "| 2      | php     |\n",
    "| 3      | javascript|\n",
    "| 4      | android |\n",
    "| 5      | jquery  |\n",
    "| 6      | c++     |\n",
    "| 7      | python  |\n",
    "| 8      | asp.net |"
   ]
  },
  {
   "cell_type": "markdown",
   "metadata": {
    "id": "bTrbf15aROgj"
   },
   "source": [
    "## Load the Data and create Train/Test/Valid Data Splits"
   ]
  },
  {
   "cell_type": "code",
   "execution_count": 16,
   "metadata": {
    "execution": {
     "iopub.execute_input": "2022-04-01T11:51:50.496013Z",
     "iopub.status.busy": "2022-04-01T11:51:50.495859Z",
     "iopub.status.idle": "2022-04-01T11:51:50.498109Z",
     "shell.execute_reply": "2022-04-01T11:51:50.497698Z",
     "shell.execute_reply.started": "2022-04-01T11:51:50.495998Z"
    },
    "executionInfo": {
     "elapsed": 4,
     "status": "ok",
     "timestamp": 1649532002152,
     "user": {
      "displayName": "Shaannoor Mann",
      "userId": "02520257695567980696"
     },
     "user_tz": 300
    },
    "id": "N3hD60v-lOai",
    "tags": []
   },
   "outputs": [],
   "source": [
    "#df = pd.read_csv(data_folder /'multiclass_hw.csv')"
   ]
  },
  {
   "cell_type": "code",
   "execution_count": 17,
   "metadata": {
    "execution": {
     "iopub.execute_input": "2022-04-01T11:51:53.553767Z",
     "iopub.status.busy": "2022-04-01T11:51:53.553342Z",
     "iopub.status.idle": "2022-04-01T11:51:53.556224Z",
     "shell.execute_reply": "2022-04-01T11:51:53.555740Z",
     "shell.execute_reply.started": "2022-04-01T11:51:53.553734Z"
    },
    "executionInfo": {
     "elapsed": 5,
     "status": "ok",
     "timestamp": 1649532002153,
     "user": {
      "displayName": "Shaannoor Mann",
      "userId": "02520257695567980696"
     },
     "user_tz": 300
    },
    "id": "UNFuB26ZmVMX",
    "tags": []
   },
   "outputs": [],
   "source": [
    "#df.head()"
   ]
  },
  {
   "cell_type": "code",
   "execution_count": 18,
   "metadata": {
    "execution": {
     "iopub.execute_input": "2022-04-01T11:51:56.688286Z",
     "iopub.status.busy": "2022-04-01T11:51:56.688142Z",
     "iopub.status.idle": "2022-04-01T11:51:56.690772Z",
     "shell.execute_reply": "2022-04-01T11:51:56.690450Z",
     "shell.execute_reply.started": "2022-04-01T11:51:56.688273Z"
    },
    "executionInfo": {
     "elapsed": 5,
     "status": "ok",
     "timestamp": 1649532002153,
     "user": {
      "displayName": "Shaannoor Mann",
      "userId": "02520257695567980696"
     },
     "user_tz": 300
    },
    "id": "W18Jzd5QlkIZ",
    "tags": []
   },
   "outputs": [],
   "source": [
    "#df['combined_text'] = df.apply(lambda x: str(x['Title']) + ' ' + str(x['Body']), axis = 1 )"
   ]
  },
  {
   "cell_type": "code",
   "execution_count": 19,
   "metadata": {
    "execution": {
     "iopub.execute_input": "2022-04-01T11:52:00.857753Z",
     "iopub.status.busy": "2022-04-01T11:52:00.857592Z",
     "iopub.status.idle": "2022-04-01T11:52:00.860241Z",
     "shell.execute_reply": "2022-04-01T11:52:00.859835Z",
     "shell.execute_reply.started": "2022-04-01T11:52:00.857726Z"
    },
    "executionInfo": {
     "elapsed": 5,
     "status": "ok",
     "timestamp": 1649532002153,
     "user": {
      "displayName": "Shaannoor Mann",
      "userId": "02520257695567980696"
     },
     "user_tz": 300
    },
    "id": "eUFX-B-VF5yw",
    "tags": []
   },
   "outputs": [],
   "source": [
    "#cleaned_text = cp.SpacyPreprocessor(model = 'en_core_web_sm', batch_size=5000).transform(df['combined_text'].values)"
   ]
  },
  {
   "cell_type": "code",
   "execution_count": 20,
   "metadata": {
    "execution": {
     "iopub.execute_input": "2022-04-01T11:52:04.563032Z",
     "iopub.status.busy": "2022-04-01T11:52:04.562884Z",
     "iopub.status.idle": "2022-04-01T11:52:04.565424Z",
     "shell.execute_reply": "2022-04-01T11:52:04.565153Z",
     "shell.execute_reply.started": "2022-04-01T11:52:04.563018Z"
    },
    "executionInfo": {
     "elapsed": 4,
     "status": "ok",
     "timestamp": 1649532002153,
     "user": {
      "displayName": "Shaannoor Mann",
      "userId": "02520257695567980696"
     },
     "user_tz": 300
    },
    "id": "nZiTGlMBo1gW",
    "tags": []
   },
   "outputs": [],
   "source": [
    "#df['cleaned_text'] = cleaned_text"
   ]
  },
  {
   "cell_type": "code",
   "execution_count": 21,
   "metadata": {
    "execution": {
     "iopub.execute_input": "2022-04-01T11:52:07.923367Z",
     "iopub.status.busy": "2022-04-01T11:52:07.923203Z",
     "iopub.status.idle": "2022-04-01T11:52:07.925634Z",
     "shell.execute_reply": "2022-04-01T11:52:07.925299Z",
     "shell.execute_reply.started": "2022-04-01T11:52:07.923340Z"
    },
    "executionInfo": {
     "elapsed": 5,
     "status": "ok",
     "timestamp": 1649532002154,
     "user": {
      "displayName": "Shaannoor Mann",
      "userId": "02520257695567980696"
     },
     "user_tz": 300
    },
    "id": "Tn-nwyLZF5yw",
    "tags": []
   },
   "outputs": [],
   "source": [
    "#df['Tag_Number_final'] = df['Tag_Number'].apply(lambda x: int(x[1]))"
   ]
  },
  {
   "cell_type": "code",
   "execution_count": 22,
   "metadata": {
    "execution": {
     "iopub.execute_input": "2022-04-01T11:52:14.164479Z",
     "iopub.status.busy": "2022-04-01T11:52:14.164329Z",
     "iopub.status.idle": "2022-04-01T11:52:14.166758Z",
     "shell.execute_reply": "2022-04-01T11:52:14.166449Z",
     "shell.execute_reply.started": "2022-04-01T11:52:14.164465Z"
    },
    "executionInfo": {
     "elapsed": 5,
     "status": "ok",
     "timestamp": 1649532002154,
     "user": {
      "displayName": "Shaannoor Mann",
      "userId": "02520257695567980696"
     },
     "user_tz": 300
    },
    "id": "zHLQDWy0F5yx",
    "tags": []
   },
   "outputs": [],
   "source": [
    "#df.head()"
   ]
  },
  {
   "cell_type": "code",
   "execution_count": 23,
   "metadata": {
    "execution": {
     "iopub.execute_input": "2022-04-01T11:52:19.293863Z",
     "iopub.status.busy": "2022-04-01T11:52:19.293693Z",
     "iopub.status.idle": "2022-04-01T11:52:19.295909Z",
     "shell.execute_reply": "2022-04-01T11:52:19.295647Z",
     "shell.execute_reply.started": "2022-04-01T11:52:19.293849Z"
    },
    "executionInfo": {
     "elapsed": 5,
     "status": "ok",
     "timestamp": 1649532002154,
     "user": {
      "displayName": "Shaannoor Mann",
      "userId": "02520257695567980696"
     },
     "user_tz": 300
    },
    "id": "KlELIU-omq-h",
    "tags": []
   },
   "outputs": [],
   "source": [
    "#df_final = df[['Title', 'Body','cleaned_text','Tags','Tag_Number_final']]"
   ]
  },
  {
   "cell_type": "code",
   "execution_count": 24,
   "metadata": {
    "execution": {
     "iopub.execute_input": "2022-04-01T11:52:22.160136Z",
     "iopub.status.busy": "2022-04-01T11:52:22.159977Z",
     "iopub.status.idle": "2022-04-01T11:52:22.162392Z",
     "shell.execute_reply": "2022-04-01T11:52:22.162006Z",
     "shell.execute_reply.started": "2022-04-01T11:52:22.160123Z"
    },
    "executionInfo": {
     "elapsed": 5,
     "status": "ok",
     "timestamp": 1649532002154,
     "user": {
      "displayName": "Shaannoor Mann",
      "userId": "02520257695567980696"
     },
     "user_tz": 300
    },
    "id": "aVx6BX8oF5yx",
    "tags": []
   },
   "outputs": [],
   "source": [
    "#df_final.head()"
   ]
  },
  {
   "cell_type": "code",
   "execution_count": 25,
   "metadata": {
    "execution": {
     "iopub.execute_input": "2022-04-01T11:52:26.539754Z",
     "iopub.status.busy": "2022-04-01T11:52:26.539597Z",
     "iopub.status.idle": "2022-04-01T11:52:26.541999Z",
     "shell.execute_reply": "2022-04-01T11:52:26.541653Z",
     "shell.execute_reply.started": "2022-04-01T11:52:26.539741Z"
    },
    "executionInfo": {
     "elapsed": 5,
     "status": "ok",
     "timestamp": 1649532002154,
     "user": {
      "displayName": "Shaannoor Mann",
      "userId": "02520257695567980696"
     },
     "user_tz": 300
    },
    "id": "e_ND8hIlF5yx",
    "tags": []
   },
   "outputs": [],
   "source": [
    "#df_final.to_csv(data_folder /'multiclass_hw_cleaned.csv')"
   ]
  },
  {
   "cell_type": "code",
   "execution_count": 26,
   "metadata": {
    "execution": {
     "iopub.execute_input": "2022-04-01T11:52:30.291332Z",
     "iopub.status.busy": "2022-04-01T11:52:30.291187Z",
     "iopub.status.idle": "2022-04-01T11:52:32.445501Z",
     "shell.execute_reply": "2022-04-01T11:52:32.444956Z",
     "shell.execute_reply.started": "2022-04-01T11:52:30.291318Z"
    },
    "executionInfo": {
     "elapsed": 5896,
     "status": "ok",
     "timestamp": 1649532008046,
     "user": {
      "displayName": "Shaannoor Mann",
      "userId": "02520257695567980696"
     },
     "user_tz": 300
    },
    "id": "LDDeZI_EF5yy",
    "tags": []
   },
   "outputs": [],
   "source": [
    "df_hw = pd.read_csv(data_folder /'multiclass_hw_cleaned.csv')"
   ]
  },
  {
   "cell_type": "code",
   "execution_count": 27,
   "metadata": {
    "colab": {
     "base_uri": "https://localhost:8080/",
     "height": 303
    },
    "execution": {
     "iopub.execute_input": "2022-04-01T11:52:32.446512Z",
     "iopub.status.busy": "2022-04-01T11:52:32.446208Z",
     "iopub.status.idle": "2022-04-01T11:52:32.454843Z",
     "shell.execute_reply": "2022-04-01T11:52:32.454535Z",
     "shell.execute_reply.started": "2022-04-01T11:52:32.446486Z"
    },
    "executionInfo": {
     "elapsed": 21,
     "status": "ok",
     "timestamp": 1649532008047,
     "user": {
      "displayName": "Shaannoor Mann",
      "userId": "02520257695567980696"
     },
     "user_tz": 300
    },
    "id": "LFDzkclwF5yy",
    "outputId": "dab416cd-ee2c-4bff-ef12-6b77152c8cc0",
    "tags": []
   },
   "outputs": [
    {
     "data": {
      "text/html": [
       "\n",
       "  <div id=\"df-a82f1259-68bc-4af3-a31f-ce8314da111d\">\n",
       "    <div class=\"colab-df-container\">\n",
       "      <div>\n",
       "<style scoped>\n",
       "    .dataframe tbody tr th:only-of-type {\n",
       "        vertical-align: middle;\n",
       "    }\n",
       "\n",
       "    .dataframe tbody tr th {\n",
       "        vertical-align: top;\n",
       "    }\n",
       "\n",
       "    .dataframe thead th {\n",
       "        text-align: right;\n",
       "    }\n",
       "</style>\n",
       "<table border=\"1\" class=\"dataframe\">\n",
       "  <thead>\n",
       "    <tr style=\"text-align: right;\">\n",
       "      <th></th>\n",
       "      <th>Unnamed: 0</th>\n",
       "      <th>Title</th>\n",
       "      <th>Body</th>\n",
       "      <th>cleaned_text</th>\n",
       "      <th>Tags</th>\n",
       "      <th>Tag_Number_final</th>\n",
       "    </tr>\n",
       "  </thead>\n",
       "  <tbody>\n",
       "    <tr>\n",
       "      <th>0</th>\n",
       "      <td>0</td>\n",
       "      <td>detail disclosure indicator on UIButton</td>\n",
       "      <td>&lt;p&gt;Is there a simple way to place a detail dis...</td>\n",
       "      <td>detail disclosure indicator uibutton simple wa...</td>\n",
       "      <td>iphone</td>\n",
       "      <td>8</td>\n",
       "    </tr>\n",
       "    <tr>\n",
       "      <th>1</th>\n",
       "      <td>1</td>\n",
       "      <td>hello world fails to show up in emulator</td>\n",
       "      <td>&lt;p&gt;I followed Hello World tutorial exactly.  E...</td>\n",
       "      <td>hello world fail emulator follow hello world t...</td>\n",
       "      <td>android</td>\n",
       "      <td>4</td>\n",
       "    </tr>\n",
       "    <tr>\n",
       "      <th>2</th>\n",
       "      <td>2</td>\n",
       "      <td>Why is JSHint throwing a \"possible strict viol...</td>\n",
       "      <td>&lt;p&gt;Trying to validate some Javascript in JsHin...</td>\n",
       "      <td>jshint throw possible strict violation line tr...</td>\n",
       "      <td>javascript</td>\n",
       "      <td>3</td>\n",
       "    </tr>\n",
       "    <tr>\n",
       "      <th>3</th>\n",
       "      <td>3</td>\n",
       "      <td>Programmatically Make Bound Column Invisible</td>\n",
       "      <td>&lt;p&gt;I'm trying to make a data bound column invi...</td>\n",
       "      <td>programmatically bound column invisible try da...</td>\n",
       "      <td>asp.net</td>\n",
       "      <td>9</td>\n",
       "    </tr>\n",
       "    <tr>\n",
       "      <th>4</th>\n",
       "      <td>4</td>\n",
       "      <td>More than one EditText - not getting focus, no...</td>\n",
       "      <td>&lt;p&gt;The home screen of my Android application h...</td>\n",
       "      <td>edittext get focus soft keyboard android home ...</td>\n",
       "      <td>android</td>\n",
       "      <td>4</td>\n",
       "    </tr>\n",
       "  </tbody>\n",
       "</table>\n",
       "</div>\n",
       "      <button class=\"colab-df-convert\" onclick=\"convertToInteractive('df-a82f1259-68bc-4af3-a31f-ce8314da111d')\"\n",
       "              title=\"Convert this dataframe to an interactive table.\"\n",
       "              style=\"display:none;\">\n",
       "        \n",
       "  <svg xmlns=\"http://www.w3.org/2000/svg\" height=\"24px\"viewBox=\"0 0 24 24\"\n",
       "       width=\"24px\">\n",
       "    <path d=\"M0 0h24v24H0V0z\" fill=\"none\"/>\n",
       "    <path d=\"M18.56 5.44l.94 2.06.94-2.06 2.06-.94-2.06-.94-.94-2.06-.94 2.06-2.06.94zm-11 1L8.5 8.5l.94-2.06 2.06-.94-2.06-.94L8.5 2.5l-.94 2.06-2.06.94zm10 10l.94 2.06.94-2.06 2.06-.94-2.06-.94-.94-2.06-.94 2.06-2.06.94z\"/><path d=\"M17.41 7.96l-1.37-1.37c-.4-.4-.92-.59-1.43-.59-.52 0-1.04.2-1.43.59L10.3 9.45l-7.72 7.72c-.78.78-.78 2.05 0 2.83L4 21.41c.39.39.9.59 1.41.59.51 0 1.02-.2 1.41-.59l7.78-7.78 2.81-2.81c.8-.78.8-2.07 0-2.86zM5.41 20L4 18.59l7.72-7.72 1.47 1.35L5.41 20z\"/>\n",
       "  </svg>\n",
       "      </button>\n",
       "      \n",
       "  <style>\n",
       "    .colab-df-container {\n",
       "      display:flex;\n",
       "      flex-wrap:wrap;\n",
       "      gap: 12px;\n",
       "    }\n",
       "\n",
       "    .colab-df-convert {\n",
       "      background-color: #E8F0FE;\n",
       "      border: none;\n",
       "      border-radius: 50%;\n",
       "      cursor: pointer;\n",
       "      display: none;\n",
       "      fill: #1967D2;\n",
       "      height: 32px;\n",
       "      padding: 0 0 0 0;\n",
       "      width: 32px;\n",
       "    }\n",
       "\n",
       "    .colab-df-convert:hover {\n",
       "      background-color: #E2EBFA;\n",
       "      box-shadow: 0px 1px 2px rgba(60, 64, 67, 0.3), 0px 1px 3px 1px rgba(60, 64, 67, 0.15);\n",
       "      fill: #174EA6;\n",
       "    }\n",
       "\n",
       "    [theme=dark] .colab-df-convert {\n",
       "      background-color: #3B4455;\n",
       "      fill: #D2E3FC;\n",
       "    }\n",
       "\n",
       "    [theme=dark] .colab-df-convert:hover {\n",
       "      background-color: #434B5C;\n",
       "      box-shadow: 0px 1px 3px 1px rgba(0, 0, 0, 0.15);\n",
       "      filter: drop-shadow(0px 1px 2px rgba(0, 0, 0, 0.3));\n",
       "      fill: #FFFFFF;\n",
       "    }\n",
       "  </style>\n",
       "\n",
       "      <script>\n",
       "        const buttonEl =\n",
       "          document.querySelector('#df-a82f1259-68bc-4af3-a31f-ce8314da111d button.colab-df-convert');\n",
       "        buttonEl.style.display =\n",
       "          google.colab.kernel.accessAllowed ? 'block' : 'none';\n",
       "\n",
       "        async function convertToInteractive(key) {\n",
       "          const element = document.querySelector('#df-a82f1259-68bc-4af3-a31f-ce8314da111d');\n",
       "          const dataTable =\n",
       "            await google.colab.kernel.invokeFunction('convertToInteractive',\n",
       "                                                     [key], {});\n",
       "          if (!dataTable) return;\n",
       "\n",
       "          const docLinkHtml = 'Like what you see? Visit the ' +\n",
       "            '<a target=\"_blank\" href=https://colab.research.google.com/notebooks/data_table.ipynb>data table notebook</a>'\n",
       "            + ' to learn more about interactive tables.';\n",
       "          element.innerHTML = '';\n",
       "          dataTable['output_type'] = 'display_data';\n",
       "          await google.colab.output.renderOutput(dataTable, element);\n",
       "          const docLink = document.createElement('div');\n",
       "          docLink.innerHTML = docLinkHtml;\n",
       "          element.appendChild(docLink);\n",
       "        }\n",
       "      </script>\n",
       "    </div>\n",
       "  </div>\n",
       "  "
      ],
      "text/plain": [
       "   Unnamed: 0                                              Title  \\\n",
       "0           0            detail disclosure indicator on UIButton   \n",
       "1           1           hello world fails to show up in emulator   \n",
       "2           2  Why is JSHint throwing a \"possible strict viol...   \n",
       "3           3       Programmatically Make Bound Column Invisible   \n",
       "4           4  More than one EditText - not getting focus, no...   \n",
       "\n",
       "                                                Body  \\\n",
       "0  <p>Is there a simple way to place a detail dis...   \n",
       "1  <p>I followed Hello World tutorial exactly.  E...   \n",
       "2  <p>Trying to validate some Javascript in JsHin...   \n",
       "3  <p>I'm trying to make a data bound column invi...   \n",
       "4  <p>The home screen of my Android application h...   \n",
       "\n",
       "                                        cleaned_text        Tags  \\\n",
       "0  detail disclosure indicator uibutton simple wa...      iphone   \n",
       "1  hello world fail emulator follow hello world t...     android   \n",
       "2  jshint throw possible strict violation line tr...  javascript   \n",
       "3  programmatically bound column invisible try da...     asp.net   \n",
       "4  edittext get focus soft keyboard android home ...     android   \n",
       "\n",
       "   Tag_Number_final  \n",
       "0                 8  \n",
       "1                 4  \n",
       "2                 3  \n",
       "3                 9  \n",
       "4                 4  "
      ]
     },
     "execution_count": 27,
     "metadata": {},
     "output_type": "execute_result"
    }
   ],
   "source": [
    "df_hw.head()"
   ]
  },
  {
   "cell_type": "code",
   "execution_count": 28,
   "metadata": {
    "execution": {
     "iopub.execute_input": "2022-04-01T11:52:46.717554Z",
     "iopub.status.busy": "2022-04-01T11:52:46.717424Z",
     "iopub.status.idle": "2022-04-01T11:52:46.721499Z",
     "shell.execute_reply": "2022-04-01T11:52:46.721079Z",
     "shell.execute_reply.started": "2022-04-01T11:52:46.717540Z"
    },
    "executionInfo": {
     "elapsed": 20,
     "status": "ok",
     "timestamp": 1649532008047,
     "user": {
      "displayName": "Shaannoor Mann",
      "userId": "02520257695567980696"
     },
     "user_tz": 300
    },
    "id": "xpTOUDLjoXq_",
    "tags": []
   },
   "outputs": [],
   "source": [
    "X_final = df_hw['cleaned_text'].values"
   ]
  },
  {
   "cell_type": "code",
   "execution_count": 29,
   "metadata": {
    "colab": {
     "base_uri": "https://localhost:8080/"
    },
    "execution": {
     "iopub.execute_input": "2022-04-01T11:52:50.317680Z",
     "iopub.status.busy": "2022-04-01T11:52:50.317531Z",
     "iopub.status.idle": "2022-04-01T11:52:50.320633Z",
     "shell.execute_reply": "2022-04-01T11:52:50.320282Z",
     "shell.execute_reply.started": "2022-04-01T11:52:50.317666Z"
    },
    "executionInfo": {
     "elapsed": 20,
     "status": "ok",
     "timestamp": 1649532008048,
     "user": {
      "displayName": "Shaannoor Mann",
      "userId": "02520257695567980696"
     },
     "user_tz": 300
    },
    "id": "5REVwiN4ofv3",
    "outputId": "938a1a7d-3381-41ab-f299-b4ac8aa2fb66",
    "tags": []
   },
   "outputs": [
    {
     "name": "stdout",
     "output_type": "stream",
     "text": [
      "<class 'numpy.ndarray'> (188878,)\n"
     ]
    }
   ],
   "source": [
    "print(type(X_final), X_final.shape)"
   ]
  },
  {
   "cell_type": "code",
   "execution_count": 30,
   "metadata": {
    "execution": {
     "iopub.execute_input": "2022-04-01T11:52:55.223776Z",
     "iopub.status.busy": "2022-04-01T11:52:55.223370Z",
     "iopub.status.idle": "2022-04-01T11:52:55.226170Z",
     "shell.execute_reply": "2022-04-01T11:52:55.225798Z",
     "shell.execute_reply.started": "2022-04-01T11:52:55.223760Z"
    },
    "executionInfo": {
     "elapsed": 16,
     "status": "ok",
     "timestamp": 1649532008048,
     "user": {
      "displayName": "Shaannoor Mann",
      "userId": "02520257695567980696"
     },
     "user_tz": 300
    },
    "id": "JyP57gavosXM",
    "tags": []
   },
   "outputs": [],
   "source": [
    "y_final = df_hw['Tag_Number_final'].values"
   ]
  },
  {
   "cell_type": "code",
   "execution_count": 31,
   "metadata": {
    "execution": {
     "iopub.execute_input": "2022-04-01T11:52:56.825402Z",
     "iopub.status.busy": "2022-04-01T11:52:56.825258Z",
     "iopub.status.idle": "2022-04-01T11:52:56.890133Z",
     "shell.execute_reply": "2022-04-01T11:52:56.889792Z",
     "shell.execute_reply.started": "2022-04-01T11:52:56.825388Z"
    },
    "executionInfo": {
     "elapsed": 16,
     "status": "ok",
     "timestamp": 1649532008048,
     "user": {
      "displayName": "Shaannoor Mann",
      "userId": "02520257695567980696"
     },
     "user_tz": 300
    },
    "id": "2f94n6S-6YCO",
    "tags": []
   },
   "outputs": [],
   "source": [
    "from sklearn.model_selection import train_test_split\n",
    "\n",
    "# Taking 80% of data as train and remaining 20% as test\n",
    "X_train, x_valid_test, y_train, y_valid_test = train_test_split(X_final, y_final, test_size = 0.2, stratify = y_final)\n",
    "X_valid, X_test, y_valid, y_test = train_test_split(x_valid_test, y_valid_test, test_size = 0.5, stratify = y_valid_test)"
   ]
  },
  {
   "cell_type": "code",
   "execution_count": 32,
   "metadata": {
    "colab": {
     "base_uri": "https://localhost:8080/"
    },
    "execution": {
     "iopub.execute_input": "2022-04-01T11:52:57.681117Z",
     "iopub.status.busy": "2022-04-01T11:52:57.680985Z",
     "iopub.status.idle": "2022-04-01T11:52:57.683819Z",
     "shell.execute_reply": "2022-04-01T11:52:57.683416Z",
     "shell.execute_reply.started": "2022-04-01T11:52:57.681103Z"
    },
    "executionInfo": {
     "elapsed": 15,
     "status": "ok",
     "timestamp": 1649532008048,
     "user": {
      "displayName": "Shaannoor Mann",
      "userId": "02520257695567980696"
     },
     "user_tz": 300
    },
    "id": "xx0-0QP48kCH",
    "outputId": "2178921f-785c-4d97-8b17-3b4e1f513362",
    "tags": []
   },
   "outputs": [
    {
     "name": "stdout",
     "output_type": "stream",
     "text": [
      "<class 'numpy.ndarray'>\n",
      "<class 'numpy.ndarray'>\n"
     ]
    }
   ],
   "source": [
    "print(type(X_train))\n",
    "print(type(y_train))"
   ]
  },
  {
   "cell_type": "markdown",
   "metadata": {
    "id": "rsYaM3_ftTgi"
   },
   "source": [
    "## Custom Dataset Class"
   ]
  },
  {
   "cell_type": "code",
   "execution_count": 33,
   "metadata": {
    "execution": {
     "iopub.execute_input": "2022-04-01T11:52:58.684821Z",
     "iopub.status.busy": "2022-04-01T11:52:58.684697Z",
     "iopub.status.idle": "2022-04-01T11:52:58.688177Z",
     "shell.execute_reply": "2022-04-01T11:52:58.687814Z",
     "shell.execute_reply.started": "2022-04-01T11:52:58.684808Z"
    },
    "executionInfo": {
     "elapsed": 15,
     "status": "ok",
     "timestamp": 1649532008049,
     "user": {
      "displayName": "Shaannoor Mann",
      "userId": "02520257695567980696"
     },
     "user_tz": 300
    },
    "id": "kFmE7lcjCuSM",
    "tags": []
   },
   "outputs": [],
   "source": [
    "class CustomDataset(torch.utils.data.Dataset):\n",
    "    \"\"\"IMDB dataset.\"\"\"\n",
    "\n",
    "    def __init__(self, X, y):\n",
    "        self.X = X\n",
    "        self.y = y\n",
    "\n",
    "    def __len__(self):\n",
    "        return len(self.X)\n",
    "\n",
    "    def __getitem__(self, idx):\n",
    "        if torch.is_tensor(idx):\n",
    "            idx = idx.tolist()\n",
    "\n",
    "        text = self.X[idx]\n",
    "        labels = self.y[idx]\n",
    "        sample = (text, labels)\n",
    "        \n",
    "        return sample"
   ]
  },
  {
   "cell_type": "code",
   "execution_count": 34,
   "metadata": {
    "execution": {
     "iopub.execute_input": "2022-04-01T11:52:59.450623Z",
     "iopub.status.busy": "2022-04-01T11:52:59.450148Z",
     "iopub.status.idle": "2022-04-01T11:52:59.452815Z",
     "shell.execute_reply": "2022-04-01T11:52:59.452404Z",
     "shell.execute_reply.started": "2022-04-01T11:52:59.450607Z"
    },
    "executionInfo": {
     "elapsed": 15,
     "status": "ok",
     "timestamp": 1649532008049,
     "user": {
      "displayName": "Shaannoor Mann",
      "userId": "02520257695567980696"
     },
     "user_tz": 300
    },
    "id": "bDesWA-Ssmk_",
    "tags": []
   },
   "outputs": [],
   "source": [
    "trainset = CustomDataset(X_train,y_train)\n",
    "validset = CustomDataset(X_valid,y_valid)\n",
    "testset = CustomDataset(X_test,y_test)"
   ]
  },
  {
   "cell_type": "code",
   "execution_count": 35,
   "metadata": {
    "colab": {
     "base_uri": "https://localhost:8080/"
    },
    "execution": {
     "iopub.execute_input": "2022-04-01T11:53:00.486565Z",
     "iopub.status.busy": "2022-04-01T11:53:00.486420Z",
     "iopub.status.idle": "2022-04-01T11:53:00.490357Z",
     "shell.execute_reply": "2022-04-01T11:53:00.489951Z",
     "shell.execute_reply.started": "2022-04-01T11:53:00.486552Z"
    },
    "executionInfo": {
     "elapsed": 15,
     "status": "ok",
     "timestamp": 1649532008049,
     "user": {
      "displayName": "Shaannoor Mann",
      "userId": "02520257695567980696"
     },
     "user_tz": 300
    },
    "id": "T-lZrEottGtH",
    "outputId": "4a75477e-cb1d-4800-9485-d79bbe181dba",
    "tags": []
   },
   "outputs": [
    {
     "data": {
      "text/plain": [
       "(array(['obtain browser scroll height java web application retrieve browser scroll height pass jsp backend code'],\n",
       "       dtype=object), array([1]))"
      ]
     },
     "execution_count": 35,
     "metadata": {},
     "output_type": "execute_result"
    }
   ],
   "source": [
    "trainset.__getitem__([11])"
   ]
  },
  {
   "cell_type": "markdown",
   "metadata": {
    "id": "XoEVe7eGtY7U"
   },
   "source": [
    "## Create Vocab"
   ]
  },
  {
   "cell_type": "code",
   "execution_count": 36,
   "metadata": {
    "execution": {
     "iopub.execute_input": "2022-04-01T11:53:02.195704Z",
     "iopub.status.busy": "2022-04-01T11:53:02.195559Z",
     "iopub.status.idle": "2022-04-01T11:53:02.198877Z",
     "shell.execute_reply": "2022-04-01T11:53:02.198361Z",
     "shell.execute_reply.started": "2022-04-01T11:53:02.195689Z"
    },
    "executionInfo": {
     "elapsed": 14,
     "status": "ok",
     "timestamp": 1649532008049,
     "user": {
      "displayName": "Shaannoor Mann",
      "userId": "02520257695567980696"
     },
     "user_tz": 300
    },
    "id": "LRLHO-M1to6q",
    "tags": []
   },
   "outputs": [],
   "source": [
    "def create_vocab(dataset, min_freq):\n",
    "  counter = Counter()\n",
    "  for (text, _) in dataset:\n",
    "    counter.update(str(text).split())\n",
    "  my_vocab = vocab(counter, min_freq=min_freq)\n",
    "  my_vocab.insert_token('<unk>', 0)\n",
    "  my_vocab.set_default_index(0)\n",
    "  return my_vocab"
   ]
  },
  {
   "cell_type": "markdown",
   "metadata": {
    "id": "TY5oKhQlJPQL"
   },
   "source": [
    "vocab should always be created based on trainset"
   ]
  },
  {
   "cell_type": "code",
   "execution_count": 37,
   "metadata": {
    "execution": {
     "iopub.execute_input": "2022-04-01T11:53:03.515708Z",
     "iopub.status.busy": "2022-04-01T11:53:03.515563Z",
     "iopub.status.idle": "2022-04-01T11:53:05.169404Z",
     "shell.execute_reply": "2022-04-01T11:53:05.168884Z",
     "shell.execute_reply.started": "2022-04-01T11:53:03.515695Z"
    },
    "executionInfo": {
     "elapsed": 3980,
     "status": "ok",
     "timestamp": 1649532012015,
     "user": {
      "displayName": "Shaannoor Mann",
      "userId": "02520257695567980696"
     },
     "user_tz": 300
    },
    "id": "wNUi_aNctkAo",
    "tags": []
   },
   "outputs": [],
   "source": [
    "se_vocab = create_vocab(trainset, min_freq = 5)"
   ]
  },
  {
   "cell_type": "code",
   "execution_count": 38,
   "metadata": {
    "colab": {
     "base_uri": "https://localhost:8080/"
    },
    "execution": {
     "iopub.execute_input": "2022-04-01T11:53:05.170230Z",
     "iopub.status.busy": "2022-04-01T11:53:05.170111Z",
     "iopub.status.idle": "2022-04-01T11:53:05.173322Z",
     "shell.execute_reply": "2022-04-01T11:53:05.173075Z",
     "shell.execute_reply.started": "2022-04-01T11:53:05.170217Z"
    },
    "executionInfo": {
     "elapsed": 23,
     "status": "ok",
     "timestamp": 1649532012016,
     "user": {
      "displayName": "Shaannoor Mann",
      "userId": "02520257695567980696"
     },
     "user_tz": 300
    },
    "id": "ask8H1QJJMZK",
    "outputId": "8241beb6-f315-446a-d6bd-ceebff012a2a",
    "tags": []
   },
   "outputs": [
    {
     "data": {
      "text/plain": [
       "84012"
      ]
     },
     "execution_count": 38,
     "metadata": {},
     "output_type": "execute_result"
    }
   ],
   "source": [
    "len(se_vocab)"
   ]
  },
  {
   "cell_type": "code",
   "execution_count": 39,
   "metadata": {
    "colab": {
     "base_uri": "https://localhost:8080/"
    },
    "execution": {
     "iopub.execute_input": "2022-04-01T11:53:05.900505Z",
     "iopub.status.busy": "2022-04-01T11:53:05.900359Z",
     "iopub.status.idle": "2022-04-01T11:53:05.910983Z",
     "shell.execute_reply": "2022-04-01T11:53:05.910619Z",
     "shell.execute_reply.started": "2022-04-01T11:53:05.900491Z"
    },
    "executionInfo": {
     "elapsed": 21,
     "status": "ok",
     "timestamp": 1649532012017,
     "user": {
      "displayName": "Shaannoor Mann",
      "userId": "02520257695567980696"
     },
     "user_tz": 300
    },
    "id": "eyaeFqCsuRTQ",
    "outputId": "48e78b51-2ad8-46e1-b850-739ebfda2519",
    "tags": []
   },
   "outputs": [
    {
     "data": {
      "text/plain": [
       "['<unk>', 'graphic', 'overflow', 'problem', 'result']"
      ]
     },
     "execution_count": 39,
     "metadata": {},
     "output_type": "execute_result"
    }
   ],
   "source": [
    "se_vocab.get_itos()[0:5]"
   ]
  },
  {
   "cell_type": "code",
   "execution_count": 40,
   "metadata": {
    "colab": {
     "base_uri": "https://localhost:8080/"
    },
    "execution": {
     "iopub.execute_input": "2022-04-01T11:53:06.696570Z",
     "iopub.status.busy": "2022-04-01T11:53:06.696408Z",
     "iopub.status.idle": "2022-04-01T11:53:06.699382Z",
     "shell.execute_reply": "2022-04-01T11:53:06.698970Z",
     "shell.execute_reply.started": "2022-04-01T11:53:06.696556Z"
    },
    "executionInfo": {
     "elapsed": 19,
     "status": "ok",
     "timestamp": 1649532012017,
     "user": {
      "displayName": "Shaannoor Mann",
      "userId": "02520257695567980696"
     },
     "user_tz": 300
    },
    "id": "WDMu8-JOujxY",
    "outputId": "28240a61-13e1-4349-f3b1-5a1b0b296be9",
    "tags": []
   },
   "outputs": [
    {
     "data": {
      "text/plain": [
       "0"
      ]
     },
     "execution_count": 40,
     "metadata": {},
     "output_type": "execute_result"
    }
   ],
   "source": [
    "se_vocab['abracadabra']"
   ]
  },
  {
   "cell_type": "markdown",
   "metadata": {
    "id": "ojvSMWR5u-LU"
   },
   "source": [
    "## Collate_fn for Data Loaders"
   ]
  },
  {
   "cell_type": "code",
   "execution_count": 41,
   "metadata": {
    "execution": {
     "iopub.execute_input": "2022-04-01T11:53:09.912626Z",
     "iopub.status.busy": "2022-04-01T11:53:09.912466Z",
     "iopub.status.idle": "2022-04-01T11:53:09.915260Z",
     "shell.execute_reply": "2022-04-01T11:53:09.914909Z",
     "shell.execute_reply.started": "2022-04-01T11:53:09.912612Z"
    },
    "executionInfo": {
     "elapsed": 17,
     "status": "ok",
     "timestamp": 1649532012018,
     "user": {
      "displayName": "Shaannoor Mann",
      "userId": "02520257695567980696"
     },
     "user_tz": 300
    },
    "id": "cdBKJlVmvB-9",
    "tags": []
   },
   "outputs": [],
   "source": [
    "# Creating a lambda function objects that will be used to get the indices of words from vocab\n",
    "text_pipeline = lambda x: [se_vocab[token] for token in str(x).split()]\n",
    "label_pipeline = lambda x: int(x)"
   ]
  },
  {
   "cell_type": "code",
   "execution_count": 42,
   "metadata": {
    "execution": {
     "iopub.execute_input": "2022-04-01T11:53:10.595713Z",
     "iopub.status.busy": "2022-04-01T11:53:10.595588Z",
     "iopub.status.idle": "2022-04-01T11:53:10.599250Z",
     "shell.execute_reply": "2022-04-01T11:53:10.598782Z",
     "shell.execute_reply.started": "2022-04-01T11:53:10.595701Z"
    },
    "executionInfo": {
     "elapsed": 17,
     "status": "ok",
     "timestamp": 1649532012018,
     "user": {
      "displayName": "Shaannoor Mann",
      "userId": "02520257695567980696"
     },
     "user_tz": 300
    },
    "id": "cL1TZVthvIT2",
    "tags": []
   },
   "outputs": [],
   "source": [
    "'''\n",
    "We know that input to the embedding layers are indices of words from the vocab.\n",
    "The collate_batch() accepts batch of data and gets the indices of text from vocab and returns the same\n",
    "We will include this collate_batch() in collat_fn attribute of DataLoader.\n",
    "So it will create a batch of data containing indices of words and corresponding labels.\n",
    "But for EmbeddingBag we need one more extra parameter, that is offset.\n",
    "offsets determines the starting index position of each bag (sequence) in input.\n",
    "'''\n",
    "def collate_batch(batch):\n",
    "    label_list, text_list, offsets = [], [], [0]\n",
    "    for (_text, _label) in batch:\n",
    "         label_list.append(label_pipeline(_label))\n",
    "         processed_text = torch.tensor(text_pipeline(_text), dtype=torch.int64)\n",
    "         text_list.append(processed_text)\n",
    "         offsets.append(processed_text.size(0))\n",
    "    label_list = torch.tensor(label_list, dtype=torch.int64)\n",
    "    offsets = torch.tensor(offsets[:-1]).cumsum(dim=0)\n",
    "    text_list = torch.cat(text_list)\n",
    "    return text_list, label_list, offsets"
   ]
  },
  {
   "cell_type": "markdown",
   "metadata": {
    "id": "ZB8Kd5wCCuSN"
   },
   "source": [
    "## **Check Data Loader**\n",
    "\n"
   ]
  },
  {
   "cell_type": "code",
   "execution_count": 43,
   "metadata": {
    "execution": {
     "iopub.execute_input": "2022-04-01T11:53:12.516124Z",
     "iopub.status.busy": "2022-04-01T11:53:12.515980Z",
     "iopub.status.idle": "2022-04-01T11:53:12.518862Z",
     "shell.execute_reply": "2022-04-01T11:53:12.518443Z",
     "shell.execute_reply.started": "2022-04-01T11:53:12.516110Z"
    },
    "executionInfo": {
     "elapsed": 17,
     "status": "ok",
     "timestamp": 1649532012019,
     "user": {
      "displayName": "Shaannoor Mann",
      "userId": "02520257695567980696"
     },
     "user_tz": 300
    },
    "id": "qZ8DLatvCuSN",
    "tags": []
   },
   "outputs": [],
   "source": [
    "batch_size=2\n",
    "check_loader= torch.utils.data.DataLoader(dataset=trainset,\n",
    "                                        batch_size=batch_size,\n",
    "                                        shuffle=True,\n",
    "                                        collate_fn=collate_batch,\n",
    "                                        num_workers=4)"
   ]
  },
  {
   "cell_type": "code",
   "execution_count": 44,
   "metadata": {
    "colab": {
     "base_uri": "https://localhost:8080/"
    },
    "execution": {
     "iopub.execute_input": "2022-04-01T11:53:13.296598Z",
     "iopub.status.busy": "2022-04-01T11:53:13.296473Z",
     "iopub.status.idle": "2022-04-01T11:53:13.440574Z",
     "shell.execute_reply": "2022-04-01T11:53:13.440153Z",
     "shell.execute_reply.started": "2022-04-01T11:53:13.296585Z"
    },
    "executionInfo": {
     "elapsed": 17,
     "status": "ok",
     "timestamp": 1649532012019,
     "user": {
      "displayName": "Shaannoor Mann",
      "userId": "02520257695567980696"
     },
     "user_tz": 300
    },
    "id": "hc49Kv46HMqJ",
    "outputId": "70f3d966-bb58-4a6f-8574-415aa988e7d6",
    "tags": []
   },
   "outputs": [
    {
     "name": "stdout",
     "output_type": "stream",
     "text": [
      "tensor([4, 5]) tensor([  281,   367,  4231, 10469,   294,  1386,   177,   281,  4909,  4231,\n",
      "          209,     0,  3516,  1386,    61,   294,   150,  1623,   318,  3274,\n",
      "         4843,  1852,   762,  1317,   157,   472,  5499,   279,    61,   699,\n",
      "          241,   508,     0,     0,  1517,   288,    16,  5499,   789,   318,\n",
      "         1568,     0,    61,   508,     0, 74821,   289,  1056,     0,  4265,\n",
      "         2367,   699,     0,   544,  1355,  1517,     0,   167,  4130,   296,\n",
      "          272,  1892,   959,   508,  1056,   895,   543,   205,   841,   332,\n",
      "           90,    16,  1187,     0]) tensor([ 0, 25])\n"
     ]
    }
   ],
   "source": [
    "for text, label, offsets in check_loader:\n",
    "  print(label, text, offsets)\n",
    "  break"
   ]
  },
  {
   "cell_type": "markdown",
   "metadata": {
    "id": "5PIh63mSCuSN"
   },
   "source": [
    "# Model \n"
   ]
  },
  {
   "cell_type": "code",
   "execution_count": 45,
   "metadata": {
    "execution": {
     "iopub.execute_input": "2022-04-01T11:53:19.330317Z",
     "iopub.status.busy": "2022-04-01T11:53:19.330107Z",
     "iopub.status.idle": "2022-04-01T11:53:19.335566Z",
     "shell.execute_reply": "2022-04-01T11:53:19.334973Z",
     "shell.execute_reply.started": "2022-04-01T11:53:19.330278Z"
    },
    "executionInfo": {
     "elapsed": 13,
     "status": "ok",
     "timestamp": 1649532012019,
     "user": {
      "displayName": "Shaannoor Mann",
      "userId": "02520257695567980696"
     },
     "user_tz": 300
    },
    "id": "6OWsVNqmfQ9a",
    "tags": []
   },
   "outputs": [],
   "source": [
    "class MLPCustom(nn.Module):\n",
    "  def __init__(self, vocab_size, hidden_sizes_list, dprobs_list, batchnorm_binary, output_dim, non_linearity):\n",
    "\n",
    "    \n",
    "\n",
    "    self.vocab_size = vocab_size\n",
    "    \n",
    "\n",
    "    self.hidden_sizes_list = hidden_sizes_list # hidden_sizes = [emb_dim, hidden_dim1, hidden_dim2, .....output_dim] # n + 1 elements\n",
    "    self.dprobs_list = dprobs_list # dpropb =[prob1, prob2....probn] # n elements\n",
    "    self.batchnorm_binary  = batchnorm_binary  # True or False\n",
    "    self.output_dim = output_dim\n",
    "    self.non_linearity = non_linearity\n",
    "    \n",
    "\n",
    "    super().__init__()\n",
    "\n",
    "    # embedding_layer\n",
    "    self.embedding_layer = nn.EmbeddingBag(self.vocab_size, self.hidden_sizes_list[0])\n",
    "\n",
    "    # hidden layers\n",
    "    self.hidden_layers = nn.ModuleList()\n",
    "\n",
    "    # dropout layers\n",
    "    self.dropout_layers = nn.ModuleList()\n",
    "\n",
    "    # batchnorm layers\n",
    "    self.batchnorm_layers = nn.ModuleList()\n",
    "\n",
    "    for k in range(len(self.hidden_sizes_list)-1):\n",
    "      self.hidden_layers.append(nn.Linear(self.hidden_sizes_list[k], self.hidden_sizes_list[k+1]))\n",
    "      self.dropout_layers.append(nn.Dropout(p=self.dprobs_list[k]))\n",
    "\n",
    "      if self.batchnorm_binary:\n",
    "        self.batchnorm_layers.append(nn.BatchNorm1d(self.hidden_sizes_list[k+1], momentum=0.9))\n",
    "\n",
    "    self.output_layer = nn.Linear(self.hidden_sizes_list[-1], self.output_dim)\n",
    "\n",
    "   \n",
    "\n",
    "  def forward(self, input, offsets):\n",
    "    x = self.embedding_layer(input, offsets)\n",
    "    for  k in range(len(self.hidden_sizes_list)-1):\n",
    "      x =  self.non_linearity(self.hidden_layers[k](x))\n",
    "      if self.batchnorm_binary:\n",
    "        x = self.batchnorm_layers[k](x)\n",
    "      x= self.dropout_layers[k](x)\n",
    "\n",
    "    x = self.output_layer(x)\n",
    "    # we are not using softmax function in the forward passs\n",
    "    # nn.crossentropy loss (which we will use to define our loss) combines  nn.LogSoftmax() and nn.NLLLoss() in one single class\n",
    "    return x "
   ]
  },
  {
   "cell_type": "markdown",
   "metadata": {
    "id": "Ry-7lHYVPlPP"
   },
   "source": [
    "# Training Functions"
   ]
  },
  {
   "cell_type": "markdown",
   "metadata": {
    "id": "z3GdVoTjh7YD"
   },
   "source": [
    "## Training Epoch "
   ]
  },
  {
   "cell_type": "code",
   "execution_count": 46,
   "metadata": {
    "execution": {
     "iopub.execute_input": "2022-04-01T11:53:32.876987Z",
     "iopub.status.busy": "2022-04-01T11:53:32.876831Z",
     "iopub.status.idle": "2022-04-01T11:53:32.881816Z",
     "shell.execute_reply": "2022-04-01T11:53:32.881454Z",
     "shell.execute_reply.started": "2022-04-01T11:53:32.876973Z"
    },
    "executionInfo": {
     "elapsed": 14,
     "status": "ok",
     "timestamp": 1649532012020,
     "user": {
      "displayName": "Shaannoor Mann",
      "userId": "02520257695567980696"
     },
     "user_tz": 300
    },
    "id": "Pv4x22lZMn5p",
    "tags": []
   },
   "outputs": [],
   "source": [
    "def train(train_loader, model, optimizer, loss_function, log_batch, log_interval, grad_clipping, max_norm):\n",
    "\n",
    "  \"\"\" \n",
    "  Function for training the model in each epoch\n",
    "  Input: iterator for train dataset, initial weights and bias, epochs, learning rate.\n",
    "  Output: final weights, bias, train loss, train accuracy\n",
    "  \"\"\"\n",
    "  # initilalize variables as global\n",
    "  # these counts will be updated every epoch\n",
    "  global example_ct_train\n",
    "  global batch_ct_train\n",
    "\n",
    "  # Training Loop loop\n",
    "  # Initialize train_loss at the he start of the epoch\n",
    "  running_train_loss = 0\n",
    "  running_train_correct = 0\n",
    "  \n",
    "  # put the model in training mode\n",
    "  model.train()\n",
    "\n",
    "  # Iterate on batches from the dataset using train_loader\n",
    "  for inputs, targets, offsets in train_loader:\n",
    "    \n",
    "    # move inputs and outputs to GPUs\n",
    "    inputs = inputs.to(device)\n",
    "    targets = targets.to(device)\n",
    "    offsets = offsets.to(device)\n",
    "\n",
    "    # Forward pass\n",
    "    output = model(inputs, offsets)\n",
    "    loss = loss_function(output, targets)\n",
    "\n",
    "    # Correct prediction\n",
    "    y_pred = torch.argmax(output, dim = 1)\n",
    "    correct = torch.sum(y_pred == targets)\n",
    "\n",
    "    example_ct_train +=  len(targets)\n",
    "    batch_ct_train += 1\n",
    "\n",
    "    # set gradients to zero \n",
    "    optimizer.zero_grad()\n",
    "\n",
    "    # Backward pass\n",
    "    loss.backward()\n",
    "\n",
    "    # Gradient Clipping\n",
    "    if grad_clipping:\n",
    "      nn.utils.clip_grad_norm_(model.parameters(), max_norm=max_norm, norm_type=2)\n",
    "\n",
    "    # Update parameters using their gradient\n",
    "    optimizer.step()\n",
    "          \n",
    "    # Add train loss of a batch \n",
    "    running_train_loss += loss.item()\n",
    "\n",
    "    # Add Corect counts of a batch\n",
    "    running_train_correct += correct\n",
    "\n",
    "    # log batch loss and accuracy\n",
    "    if log_batch:\n",
    "      if ((batch_ct_train + 1) % log_interval) == 0:\n",
    "        wandb.log({f\"Train Batch Loss  :\": loss})\n",
    "        wandb.log({f\"Train Batch Acc :\": correct/len(targets)})\n",
    "\n",
    "  \n",
    "  # Calculate mean train loss for the whole dataset for a particular epoch\n",
    "  train_loss = running_train_loss/len(train_loader)\n",
    "\n",
    "\n",
    "\n",
    "  # Calculate accuracy for the whole dataset for a particular epoch\n",
    "  train_acc = running_train_correct/len(train_loader.dataset)\n",
    "\n",
    "  return train_loss, train_acc"
   ]
  },
  {
   "cell_type": "markdown",
   "metadata": {
    "id": "Aic8wk5niFCz"
   },
   "source": [
    "## Validation/Test Epoch"
   ]
  },
  {
   "cell_type": "code",
   "execution_count": 47,
   "metadata": {
    "execution": {
     "iopub.execute_input": "2022-04-01T11:58:30.555924Z",
     "iopub.status.busy": "2022-04-01T11:58:30.555718Z",
     "iopub.status.idle": "2022-04-01T11:58:30.561377Z",
     "shell.execute_reply": "2022-04-01T11:58:30.560956Z",
     "shell.execute_reply.started": "2022-04-01T11:58:30.555891Z"
    },
    "executionInfo": {
     "elapsed": 6,
     "status": "ok",
     "timestamp": 1649532012387,
     "user": {
      "displayName": "Shaannoor Mann",
      "userId": "02520257695567980696"
     },
     "user_tz": 300
    },
    "id": "pHP1WKDessiI",
    "tags": []
   },
   "outputs": [],
   "source": [
    "def valid(loader, model, optimizer, loss_function, log_batch, log_interval):\n",
    "\n",
    "  \"\"\" \n",
    "  Function for training the model and plotting the graph for train & valid loss vs epoch.\n",
    "  Input: iterator for train dataset, initial weights and bias, epochs, learning rate, batch size.\n",
    "  Output: final weights, bias and train loss and valid loss for each epoch.\n",
    "  \"\"\"\n",
    "\n",
    "  # initilalize variables as global\n",
    "  # these counts will be updated every epoch\n",
    "  global example_ct_valid\n",
    "  global batch_ct_valid\n",
    "\n",
    "  # Validation loop\n",
    "  # Initialize train_loss at the he strat of the epoch\n",
    "  running_valid_loss = 0\n",
    "  running_valid_correct = 0\n",
    "  \n",
    "  # put the model in evaluation mode\n",
    "  model.eval()\n",
    "\n",
    "  with torch.no_grad():\n",
    "    for inputs, targets, offsets in loader:\n",
    "      \n",
    "      # move inputs and outputs to GPUs\n",
    "      inputs = inputs.to(device)\n",
    "      targets = targets.to(device)\n",
    "      offsets = offsets.to(device)\n",
    "\n",
    "      # Forward pass\n",
    "      output = model(inputs, offsets)\n",
    "      loss = loss_function(output,targets)\n",
    "\n",
    "      # Correct Predictions\n",
    "      y_pred = torch.argmax(output, dim = 1)\n",
    "      correct = torch.sum(y_pred == targets)\n",
    "\n",
    "      # count of images and batches\n",
    "      example_ct_valid +=  len(targets)\n",
    "      batch_ct_valid += 1\n",
    "\n",
    "      # Add valid loss of a batch \n",
    "      running_valid_loss += loss.item()\n",
    "\n",
    "      # Add correct count for each batch\n",
    "      running_valid_correct += correct\n",
    "\n",
    "      # log batch loss and accuracy\n",
    "      if log_batch:\n",
    "        if ((batch_ct_valid + 1) % log_interval) == 0:\n",
    "          wandb.log({f\"Valid Batch Loss  :\": loss})\n",
    "          wandb.log({f\"Valid Batch Accuracy :\": correct/len(targets)})\n",
    "\n",
    "\n",
    "    # Calculate mean valid loss for the whole dataset for a particular epoch\n",
    "    valid_loss = running_valid_loss/len(valid_loader)\n",
    "\n",
    "    # scheduler step\n",
    "    # scheduler.step(valid_loss)\n",
    "    # scheduler.step()\n",
    "\n",
    "    # Calculate accuracy for the whole dataset for a particular epoch\n",
    "    valid_acc = running_valid_correct/len(valid_loader.dataset)\n",
    "    \n",
    "  return valid_loss, valid_acc"
   ]
  },
  {
   "cell_type": "markdown",
   "metadata": {
    "id": "UwF70eqE6n_v"
   },
   "source": [
    "##  Model Training Loop\n"
   ]
  },
  {
   "cell_type": "code",
   "execution_count": 48,
   "metadata": {
    "execution": {
     "iopub.execute_input": "2022-04-01T11:53:46.357819Z",
     "iopub.status.busy": "2022-04-01T11:53:46.357663Z",
     "iopub.status.idle": "2022-04-01T11:53:46.365446Z",
     "shell.execute_reply": "2022-04-01T11:53:46.364769Z",
     "shell.execute_reply.started": "2022-04-01T11:53:46.357806Z"
    },
    "executionInfo": {
     "elapsed": 6,
     "status": "ok",
     "timestamp": 1649532012388,
     "user": {
      "displayName": "Shaannoor Mann",
      "userId": "02520257695567980696"
     },
     "user_tz": 300
    },
    "id": "KeCKVgg-5FiZ",
    "tags": []
   },
   "outputs": [],
   "source": [
    "def train_loop(train_loader, valid_loader, model, loss_function, optimizer, epochs, device, patience, early_stopping,\n",
    "               file_model):\n",
    "\n",
    "  '''\n",
    "  model: specify your model for training\n",
    "  criterion: loss function \n",
    "  optimizer: optimizer like SGD , ADAM etc.\n",
    "  train loader: function to carete batches for training data\n",
    "  valid loader : function to create batches for valid data set\n",
    "  file_model : specify file name for saving your model. This way we can upload the model weights from file. We will not to run model again.\n",
    "  \n",
    "\n",
    "  '''\n",
    "  # Create lists to store train and valid loss at each epoch\n",
    "\n",
    "  train_loss_history = []\n",
    "  valid_loss_history = []\n",
    "  train_acc_history = []\n",
    "  valid_acc_history = []\n",
    "  delta = 0\n",
    "  best_score = None\n",
    "  valid_loss_min = np.Inf\n",
    "  counter_early_stop=0\n",
    "  early_stop=False\n",
    "\n",
    "\n",
    "  # Iterate for the given number of epochs\n",
    "  for epoch in range(epochs):\n",
    "    t0 = datetime.now()\n",
    "    # Get train loss and accuracy for one epoch\n",
    "\n",
    "    train_loss, train_acc = train(train_loader, model, optimizer, loss_function, \n",
    "                                  wandb.config.LOG_BATCH, wandb.config.LOG_INTERVAL,\n",
    "                                  wandb.config.GRAD_CLIPPING, wandb.config.MAX_NORM)\n",
    "    valid_loss, valid_acc = valid(valid_loader, model, optimizer, loss_function,\n",
    "                                    wandb.config.LOG_BATCH, wandb.config.LOG_INTERVAL)\n",
    "\n",
    "    dt = datetime.now() - t0\n",
    "\n",
    "    # Save history of the Losses and accuracy\n",
    "    train_loss_history.append(train_loss)\n",
    "    train_acc_history.append(train_acc)\n",
    "    valid_loss_history.append(valid_loss)\n",
    "    valid_acc_history.append(valid_acc)\n",
    "\n",
    "    if early_stopping:\n",
    "      score = -valid_loss\n",
    "      if best_score is None:\n",
    "        best_score=score\n",
    "        print(f'Validation loss has decreased ({valid_loss_min:.6f} --> {valid_loss:.6f}). Saving Model...')\n",
    "        torch.save(model.state_dict(), file_model)\n",
    "        valid_loss_min = valid_loss\n",
    "\n",
    "      elif score < best_score + delta:\n",
    "        counter_early_stop += 1\n",
    "        print(f'Early stoping counter: {counter_early_stop} out of {patience}')\n",
    "        if counter_early_stop > patience:\n",
    "          early_stop = True\n",
    "\n",
    "      \n",
    "      else:\n",
    "        best_score = score\n",
    "        print(f'Validation loss has decreased ({valid_loss_min:.6f} --> {valid_loss:.6f}). Saving model...')\n",
    "        torch.save(model.state_dict(), file_model)\n",
    "        counter_early_stop=0\n",
    "        valid_loss_min = valid_loss\n",
    "\n",
    "      if early_stop:\n",
    "        print('Early Stopping')\n",
    "        break\n",
    "\n",
    "    else:\n",
    "\n",
    "      score = -valid_loss\n",
    "      if best_score is None:\n",
    "        best_score=score\n",
    "        print(f'Validation loss has decreased ({valid_loss_min:.6f} --> {valid_loss:.6f}). Saving Model...')\n",
    "        torch.save(model.state_dict(), file_model)\n",
    "        valid_loss_min = valid_loss\n",
    "\n",
    "      elif score < best_score + delta:\n",
    "        print(f'Validation loss has not decreased ({valid_loss_min:.6f} --> {valid_loss:.6f}). Not Saving Model...')\n",
    "      \n",
    "      else:\n",
    "        best_score = score\n",
    "        print(f'Validation loss has decreased ({valid_loss_min:.6f} --> {valid_loss:.6f}). Saving model...')\n",
    "        torch.save(model.state_dict(), file_model)\n",
    "        valid_loss_min = valid_loss\n",
    "\n",
    "\n",
    "\n",
    "    # Log the train and valid loss to W&B\n",
    "    wandb.log({f\"Train epoch Loss :\": train_loss, f\"Valid epoch Loss :\": valid_loss })\n",
    "    wandb.log({f\"Train epoch Acc :\": train_acc, f\"Valid epoch Acc :\": valid_acc})\n",
    "\n",
    "\n",
    "\n",
    "    # Print the train loss and accuracy for given number of epochs, batch size and number of samples\n",
    "    print(f'Epoch : {epoch+1} / {epochs}')\n",
    "    print(f'Time to complete {epoch+1} is {dt}')\n",
    "    # print(f'Learning rate: {scheduler._last_lr[0]}')\n",
    "    print(f'Train Loss: {train_loss : .4f} | Train Accuracy: {train_acc * 100 : .4f}%')\n",
    "    print(f'Valid Loss: {valid_loss : .4f} | Valid Accuracy: {valid_acc * 100 : .4f}%')\n",
    "    print()\n",
    "    torch.cuda.empty_cache()\n",
    "\n",
    "  return train_loss_history, train_acc_history, valid_loss_history, valid_acc_history\n"
   ]
  },
  {
   "cell_type": "markdown",
   "metadata": {
    "id": "Yte1HzNniWlr"
   },
   "source": [
    "#Model Training"
   ]
  },
  {
   "cell_type": "markdown",
   "metadata": {
    "id": "8fLa11d5rPZv"
   },
   "source": [
    "## **Meta data**\n",
    "\n"
   ]
  },
  {
   "cell_type": "code",
   "execution_count": 49,
   "metadata": {
    "execution": {
     "iopub.execute_input": "2022-04-01T12:02:48.265422Z",
     "iopub.status.busy": "2022-04-01T12:02:48.265253Z",
     "iopub.status.idle": "2022-04-01T12:02:48.269949Z",
     "shell.execute_reply": "2022-04-01T12:02:48.269577Z",
     "shell.execute_reply.started": "2022-04-01T12:02:48.265408Z"
    },
    "executionInfo": {
     "elapsed": 6,
     "status": "ok",
     "timestamp": 1649532012388,
     "user": {
      "displayName": "Shaannoor Mann",
      "userId": "02520257695567980696"
     },
     "user_tz": 300
    },
    "id": "F3ISekWSV84a",
    "tags": []
   },
   "outputs": [],
   "source": [
    "hyperparameters = dict(\n",
    "    \n",
    "    HIDDEN_SIZES_LIST = [300] + [200] + [100],  # 300 = embed_dim, 200- hidden_dim1 , 100 -hidden_dim2\n",
    "    DPROBS_LIST = [0.5]*2,\n",
    "    BATCHNORM_BINARY = True,\n",
    "    \n",
    "    \n",
    "    VOCAB_SIZE = len(se_vocab),\n",
    "    OUTPUT_DIM = 10,\n",
    "\n",
    "    EPOCHS = 20,\n",
    "    \n",
    "    BATCH_SIZE = 256,\n",
    "    LEARNING_RATE = 0.2,\n",
    "    DATASET=\"IMDB\",\n",
    "    ARCHITECTUREe=\"Embed_2_hidden_layers\",\n",
    "    LOG_INTERVAL = 25,\n",
    "    LOG_BATCH = True,\n",
    "    FILE_MODEL = save_model_folder/'hw5_solution.pt',\n",
    "    GRAD_CLIPPING = False,\n",
    "    MAX_NORM = 0,\n",
    "    MOMENTUM = 0,\n",
    "    PATIENCE = 5,\n",
    "    EARLY_STOPPING = True,\n",
    "    SCHEDULER_FACTOR = 0,\n",
    "    SCHEDULER_PATIENCE = 0,\n",
    "    WEIGHT_DECAY = 0.000\n",
    "   )\n",
    "\n",
    "non_linearity = F.relu"
   ]
  },
  {
   "cell_type": "markdown",
   "metadata": {
    "id": "xH25I8Pikqpb"
   },
   "source": [
    "## Initialize wandb"
   ]
  },
  {
   "cell_type": "code",
   "execution_count": 50,
   "metadata": {
    "colab": {
     "base_uri": "https://localhost:8080/",
     "height": 90
    },
    "execution": {
     "iopub.execute_input": "2022-04-01T12:02:48.680105Z",
     "iopub.status.busy": "2022-04-01T12:02:48.679935Z",
     "iopub.status.idle": "2022-04-01T12:02:55.254377Z",
     "shell.execute_reply": "2022-04-01T12:02:55.254002Z",
     "shell.execute_reply.started": "2022-04-01T12:02:48.680089Z"
    },
    "executionInfo": {
     "elapsed": 4100,
     "status": "ok",
     "timestamp": 1649532016482,
     "user": {
      "displayName": "Shaannoor Mann",
      "userId": "02520257695567980696"
     },
     "user_tz": 300
    },
    "id": "9Zp9fDrAheXc",
    "outputId": "88e20597-8fe1-4e77-de86-337387619eeb",
    "tags": []
   },
   "outputs": [
    {
     "data": {
      "text/html": [
       "Tracking run with wandb version 0.12.14"
      ],
      "text/plain": [
       "<IPython.core.display.HTML object>"
      ]
     },
     "metadata": {},
     "output_type": "display_data"
    },
    {
     "data": {
      "text/html": [
       "Run data is saved locally in <code>/content/wandb/run-20220409_192011-227liwfx</code>"
      ],
      "text/plain": [
       "<IPython.core.display.HTML object>"
      ]
     },
     "metadata": {},
     "output_type": "display_data"
    },
    {
     "data": {
      "text/html": [
       "Syncing run <strong><a href=\"https://wandb.ai/hsingh-utd/NLP_HW5_Solution/runs/227liwfx\" target=\"_blank\">exp1</a></strong> to <a href=\"https://wandb.ai/hsingh-utd/NLP_HW5_Solution\" target=\"_blank\">Weights & Biases</a> (<a href=\"https://wandb.me/run\" target=\"_blank\">docs</a>)<br/>"
      ],
      "text/plain": [
       "<IPython.core.display.HTML object>"
      ]
     },
     "metadata": {},
     "output_type": "display_data"
    },
    {
     "data": {
      "text/html": [
       "<button onClick=\"this.nextSibling.style.display='block';this.style.display='none';\">Display W&B run</button><iframe src=\"https://wandb.ai/hsingh-utd/NLP_HW5_Solution/runs/227liwfx?jupyter=true\" style=\"border:none;width:100%;height:420px;display:none;\"></iframe>"
      ],
      "text/plain": [
       "<wandb.sdk.wandb_run.Run at 0x7f45f85372d0>"
      ]
     },
     "execution_count": 50,
     "metadata": {},
     "output_type": "execute_result"
    }
   ],
   "source": [
    "wandb.init(name = 'exp1', project = 'NLP_HW5_Solution', config = hyperparameters)"
   ]
  },
  {
   "cell_type": "code",
   "execution_count": 51,
   "metadata": {
    "execution": {
     "iopub.execute_input": "2022-04-01T12:02:55.255209Z",
     "iopub.status.busy": "2022-04-01T12:02:55.255108Z",
     "iopub.status.idle": "2022-04-01T12:02:55.257897Z",
     "shell.execute_reply": "2022-04-01T12:02:55.257611Z",
     "shell.execute_reply.started": "2022-04-01T12:02:55.255196Z"
    },
    "executionInfo": {
     "elapsed": 3,
     "status": "ok",
     "timestamp": 1649532016482,
     "user": {
      "displayName": "Shaannoor Mann",
      "userId": "02520257695567980696"
     },
     "user_tz": 300
    },
    "id": "Y1IZOBtaS2st",
    "tags": []
   },
   "outputs": [],
   "source": [
    "# add non_linearity to config file\n",
    "wandb.config.NON_LINEARITY = non_linearity"
   ]
  },
  {
   "cell_type": "markdown",
   "metadata": {
    "id": "B9DjhWa3k-Gk"
   },
   "source": [
    "## Specify Dataloader, Loss_function, Model, Optimizer, Weight Initialization"
   ]
  },
  {
   "cell_type": "code",
   "execution_count": 52,
   "metadata": {
    "colab": {
     "base_uri": "https://localhost:8080/"
    },
    "execution": {
     "iopub.execute_input": "2022-04-01T12:02:55.258571Z",
     "iopub.status.busy": "2022-04-01T12:02:55.258459Z",
     "iopub.status.idle": "2022-04-01T12:02:55.427261Z",
     "shell.execute_reply": "2022-04-01T12:02:55.426874Z",
     "shell.execute_reply.started": "2022-04-01T12:02:55.258559Z"
    },
    "executionInfo": {
     "elapsed": 5259,
     "status": "ok",
     "timestamp": 1649532021739,
     "user": {
      "displayName": "Shaannoor Mann",
      "userId": "02520257695567980696"
     },
     "user_tz": 300
    },
    "id": "XyTAuL2BpO_Q",
    "outputId": "8a874e22-a0be-4f34-c80b-aef1deb3b429",
    "tags": []
   },
   "outputs": [
    {
     "name": "stdout",
     "output_type": "stream",
     "text": [
      "cuda:0\n"
     ]
    }
   ],
   "source": [
    "# Fix seed value\n",
    "from datetime import datetime\n",
    "SEED = 2345\n",
    "random.seed(SEED)\n",
    "np.random.seed(SEED)\n",
    "torch.manual_seed(SEED)\n",
    "torch.cuda.manual_seed(SEED)\n",
    "torch.backends.cudnn.deterministic = True\n",
    "\n",
    "# Data Loader\n",
    "train_loader = torch.utils.data.DataLoader(trainset, batch_size=wandb.config.BATCH_SIZE, shuffle = True, \n",
    "                                           collate_fn=collate_batch, num_workers = 4)\n",
    "valid_loader = torch.utils.data.DataLoader(validset, batch_size=wandb.config.BATCH_SIZE, shuffle = False, \n",
    "                                           collate_fn=collate_batch,  num_workers = 4)\n",
    "test_loader = torch.utils.data.DataLoader(testset, batch_size=wandb.config.BATCH_SIZE,   shuffle = False, \n",
    "                                          collate_fn=collate_batch,  num_workers = 4)\n",
    "\n",
    "# cross entropy loss function\n",
    "loss_function = nn.CrossEntropyLoss()\n",
    "\n",
    "# use GPUs\n",
    "device = torch.device('cuda:0' if torch.cuda.is_available() else 'cpu')\n",
    "print(device)\n",
    "\n",
    "# model \n",
    "model_se = MLPCustom(wandb.config.VOCAB_SIZE, wandb.config.HIDDEN_SIZES_LIST, wandb.config.DPROBS_LIST, wandb.config.BATCHNORM_BINARY, \n",
    "           wandb.config.OUTPUT_DIM, non_linearity)\n",
    "model_se.to(device)\n",
    "\n",
    "def init_weights(m):\n",
    "  if type(m) == nn.Linear:\n",
    "      torch.nn.init.xavier_normal__(m.weight)\n",
    "      torch.nn.init.zeros_(m.bias)\n",
    "        \n",
    "# apply initialization recursively  to all modules\n",
    "#model_se.apply(init_weights)\n",
    "\n",
    "# Intialize stochiastic gradient descent optimizer\n",
    "#optimizer = torch.optim.Adam(model_imdb.parameters(), lr = wandb.config.LEARNING_RATE, weight_decay=wandb.config.WEIGHT_DECAY)\n",
    "optimizer = torch.optim.SGD(model_se.parameters(), lr = wandb.config.LEARNING_RATE, weight_decay=wandb.config.WEIGHT_DECAY)\n",
    "\n",
    "wandb.config.optimizer = optimizer"
   ]
  },
  {
   "cell_type": "markdown",
   "metadata": {
    "id": "CPDnF9JbSHdX"
   },
   "source": [
    "## Sanity Check\n",
    "- Check the loss without any training. For Cross entropy the expected value will be log(number of classes)"
   ]
  },
  {
   "cell_type": "code",
   "execution_count": 53,
   "metadata": {
    "colab": {
     "base_uri": "https://localhost:8080/"
    },
    "execution": {
     "iopub.execute_input": "2022-04-01T12:02:55.428081Z",
     "iopub.status.busy": "2022-04-01T12:02:55.427983Z",
     "iopub.status.idle": "2022-04-01T12:02:55.964929Z",
     "shell.execute_reply": "2022-04-01T12:02:55.964511Z",
     "shell.execute_reply.started": "2022-04-01T12:02:55.428068Z"
    },
    "executionInfo": {
     "elapsed": 479,
     "status": "ok",
     "timestamp": 1649532022216,
     "user": {
      "displayName": "Shaannoor Mann",
      "userId": "02520257695567980696"
     },
     "user_tz": 300
    },
    "id": "GWkFxtEqSKlW",
    "outputId": "40b46648-d9e4-49bf-b096-99d6526c0cde",
    "tags": []
   },
   "outputs": [
    {
     "name": "stdout",
     "output_type": "stream",
     "text": [
      "Actual loss: 2.3230059146881104\n",
      "Expected Theoretical loss: 0.6931471805599453\n"
     ]
    }
   ],
   "source": [
    "# Fix seed value\n",
    "\n",
    "SEED = 2345\n",
    "random.seed(SEED)\n",
    "np.random.seed(SEED)\n",
    "torch.manual_seed(SEED)\n",
    "torch.cuda.manual_seed(SEED)\n",
    "torch.backends.cudnn.deterministic = True\n",
    "\n",
    "for inputs, targets, offsets in train_loader:\n",
    "  \n",
    "  # move inputs and outputs to GPUs\n",
    "  inputs = inputs.to(device)\n",
    "  targets = targets.to(device)\n",
    "  offsets = offsets.to(device)\n",
    "  model_se.eval()\n",
    "  # Forward pass\n",
    "  output = model_se(inputs, offsets)\n",
    "  loss = loss_function(output, targets)\n",
    "  print(f'Actual loss: {loss}')\n",
    "  break\n",
    "\n",
    "print(f'Expected Theoretical loss: {np.log(2)}')"
   ]
  },
  {
   "cell_type": "markdown",
   "metadata": {
    "id": "htWT1-Nhlw3m"
   },
   "source": [
    "## Train Model and Save best model"
   ]
  },
  {
   "cell_type": "code",
   "execution_count": 54,
   "metadata": {
    "colab": {
     "base_uri": "https://localhost:8080/"
    },
    "execution": {
     "iopub.execute_input": "2022-04-01T12:02:55.965714Z",
     "iopub.status.busy": "2022-04-01T12:02:55.965561Z",
     "iopub.status.idle": "2022-04-01T12:02:55.970279Z",
     "shell.execute_reply": "2022-04-01T12:02:55.969934Z",
     "shell.execute_reply.started": "2022-04-01T12:02:55.965698Z"
    },
    "executionInfo": {
     "elapsed": 3,
     "status": "ok",
     "timestamp": 1649532022216,
     "user": {
      "displayName": "Shaannoor Mann",
      "userId": "02520257695567980696"
     },
     "user_tz": 300
    },
    "id": "MwnGtxo3B2nD",
    "outputId": "f0b09e3d-f3ff-4bed-f72e-27ccde36d908",
    "tags": []
   },
   "outputs": [
    {
     "name": "stderr",
     "output_type": "stream",
     "text": [
      "\u001b[34m\u001b[1mwandb\u001b[0m: logging graph, to disable use `wandb.watch(log_graph=False)`\n"
     ]
    },
    {
     "data": {
      "text/plain": [
       "[<wandb.wandb_torch.TorchGraph at 0x7f45f5df4f90>]"
      ]
     },
     "execution_count": 54,
     "metadata": {},
     "output_type": "execute_result"
    }
   ],
   "source": [
    "wandb.watch(model_se, log = 'all', log_freq=25, log_graph=True)"
   ]
  },
  {
   "cell_type": "code",
   "execution_count": 55,
   "metadata": {
    "colab": {
     "base_uri": "https://localhost:8080/"
    },
    "execution": {
     "iopub.execute_input": "2022-04-01T12:02:55.971053Z",
     "iopub.status.busy": "2022-04-01T12:02:55.970912Z",
     "iopub.status.idle": "2022-04-01T12:05:34.428978Z",
     "shell.execute_reply": "2022-04-01T12:05:34.428426Z",
     "shell.execute_reply.started": "2022-04-01T12:02:55.971038Z"
    },
    "executionInfo": {
     "elapsed": 324149,
     "status": "ok",
     "timestamp": 1649532346364,
     "user": {
      "displayName": "Shaannoor Mann",
      "userId": "02520257695567980696"
     },
     "user_tz": 300
    },
    "id": "QyAaOEg5DdKp",
    "outputId": "64b7d2df-dba8-4feb-b42b-dfe2ac3c0404",
    "tags": []
   },
   "outputs": [
    {
     "name": "stdout",
     "output_type": "stream",
     "text": [
      "Validation loss has decreased (inf --> 0.700976). Saving Model...\n",
      "Epoch : 1 / 20\n",
      "Time to complete 1 is 0:00:15.432847\n",
      "Train Loss:  0.9242 | Train Accuracy:  70.5173%\n",
      "Valid Loss:  0.7010 | Valid Accuracy:  77.0913%\n",
      "\n",
      "Validation loss has decreased (0.700976 --> 0.637378). Saving model...\n",
      "Epoch : 2 / 20\n",
      "Time to complete 2 is 0:00:16.878463\n",
      "Train Loss:  0.7406 | Train Accuracy:  76.6608%\n",
      "Valid Loss:  0.6374 | Valid Accuracy:  79.6696%\n",
      "\n",
      "Validation loss has decreased (0.637378 --> 0.625537). Saving model...\n",
      "Epoch : 3 / 20\n",
      "Time to complete 3 is 0:00:15.748072\n",
      "Train Loss:  0.6925 | Train Accuracy:  78.2055%\n",
      "Valid Loss:  0.6255 | Valid Accuracy:  80.0191%\n",
      "\n",
      "Validation loss has decreased (0.625537 --> 0.589936). Saving model...\n",
      "Epoch : 4 / 20\n",
      "Time to complete 4 is 0:00:15.834652\n",
      "Train Loss:  0.6588 | Train Accuracy:  79.2226%\n",
      "Valid Loss:  0.5899 | Valid Accuracy:  80.8185%\n",
      "\n",
      "Validation loss has decreased (0.589936 --> 0.558046). Saving model...\n",
      "Epoch : 5 / 20\n",
      "Time to complete 5 is 0:00:15.934545\n",
      "Train Loss:  0.6299 | Train Accuracy:  79.9811%\n",
      "Valid Loss:  0.5580 | Valid Accuracy:  81.9780%\n",
      "\n",
      "Validation loss has decreased (0.558046 --> 0.546660). Saving model...\n",
      "Epoch : 6 / 20\n",
      "Time to complete 6 is 0:00:15.611670\n",
      "Train Loss:  0.6091 | Train Accuracy:  80.7269%\n",
      "Valid Loss:  0.5467 | Valid Accuracy:  82.5180%\n",
      "\n",
      "Early stoping counter: 1 out of 5\n",
      "Epoch : 7 / 20\n",
      "Time to complete 7 is 0:00:15.934500\n",
      "Train Loss:  0.5918 | Train Accuracy:  81.2994%\n",
      "Valid Loss:  0.5519 | Valid Accuracy:  82.1527%\n",
      "\n",
      "Validation loss has decreased (0.546660 --> 0.514523). Saving model...\n",
      "Epoch : 8 / 20\n",
      "Time to complete 8 is 0:00:15.468362\n",
      "Train Loss:  0.5755 | Train Accuracy:  81.8123%\n",
      "Valid Loss:  0.5145 | Valid Accuracy:  83.5186%\n",
      "\n",
      "Validation loss has decreased (0.514523 --> 0.512016). Saving model...\n",
      "Epoch : 9 / 20\n",
      "Time to complete 9 is 0:00:15.800629\n",
      "Train Loss:  0.5606 | Train Accuracy:  82.1644%\n",
      "Valid Loss:  0.5120 | Valid Accuracy:  83.7092%\n",
      "\n",
      "Validation loss has decreased (0.512016 --> 0.497984). Saving model...\n",
      "Epoch : 10 / 20\n",
      "Time to complete 10 is 0:00:15.913578\n",
      "Train Loss:  0.5477 | Train Accuracy:  82.6091%\n",
      "Valid Loss:  0.4980 | Valid Accuracy:  84.3075%\n",
      "\n",
      "Validation loss has decreased (0.497984 --> 0.488680). Saving model...\n",
      "Epoch : 11 / 20\n",
      "Time to complete 11 is 0:00:15.545718\n",
      "Train Loss:  0.5373 | Train Accuracy:  82.8771%\n",
      "Valid Loss:  0.4887 | Valid Accuracy:  84.3075%\n",
      "\n",
      "Validation loss has decreased (0.488680 --> 0.482103). Saving model...\n",
      "Epoch : 12 / 20\n",
      "Time to complete 12 is 0:00:15.770105\n",
      "Train Loss:  0.5270 | Train Accuracy:  83.1968%\n",
      "Valid Loss:  0.4821 | Valid Accuracy:  84.6781%\n",
      "\n",
      "Early stoping counter: 1 out of 5\n",
      "Epoch : 13 / 20\n",
      "Time to complete 13 is 0:00:15.487457\n",
      "Train Loss:  0.5155 | Train Accuracy:  83.5906%\n",
      "Valid Loss:  0.4969 | Valid Accuracy:  84.1010%\n",
      "\n",
      "Validation loss has decreased (0.482103 --> 0.467626). Saving model...\n",
      "Epoch : 14 / 20\n",
      "Time to complete 14 is 0:00:15.642717\n",
      "Train Loss:  0.5087 | Train Accuracy:  83.8877%\n",
      "Valid Loss:  0.4676 | Valid Accuracy:  85.2022%\n",
      "\n",
      "Validation loss has decreased (0.467626 --> 0.465039). Saving model...\n",
      "Epoch : 15 / 20\n",
      "Time to complete 15 is 0:00:15.889392\n",
      "Train Loss:  0.5001 | Train Accuracy:  84.0684%\n",
      "Valid Loss:  0.4650 | Valid Accuracy:  85.0487%\n",
      "\n",
      "Validation loss has decreased (0.465039 --> 0.464685). Saving model...\n",
      "Epoch : 16 / 20\n",
      "Time to complete 16 is 0:00:15.609809\n",
      "Train Loss:  0.4913 | Train Accuracy:  84.3430%\n",
      "Valid Loss:  0.4647 | Valid Accuracy:  85.0381%\n",
      "\n",
      "Validation loss has decreased (0.464685 --> 0.447966). Saving model...\n",
      "Epoch : 17 / 20\n",
      "Time to complete 17 is 0:00:15.828801\n",
      "Train Loss:  0.4881 | Train Accuracy:  84.5244%\n",
      "Valid Loss:  0.4480 | Valid Accuracy:  85.7476%\n",
      "\n",
      "Early stoping counter: 1 out of 5\n",
      "Epoch : 18 / 20\n",
      "Time to complete 18 is 0:00:15.594967\n",
      "Train Loss:  0.4816 | Train Accuracy:  84.6964%\n",
      "Valid Loss:  0.4700 | Valid Accuracy:  85.0169%\n",
      "\n",
      "Validation loss has decreased (0.447966 --> 0.438618). Saving model...\n",
      "Epoch : 19 / 20\n",
      "Time to complete 19 is 0:00:15.677233\n",
      "Train Loss:  0.4713 | Train Accuracy:  84.9684%\n",
      "Valid Loss:  0.4386 | Valid Accuracy:  85.8693%\n",
      "\n",
      "Early stoping counter: 1 out of 5\n",
      "Epoch : 20 / 20\n",
      "Time to complete 20 is 0:00:15.900087\n",
      "Train Loss:  0.4659 | Train Accuracy:  85.1008%\n",
      "Valid Loss:  0.4481 | Valid Accuracy:  85.7529%\n",
      "\n"
     ]
    }
   ],
   "source": [
    "example_ct_train, batch_ct_train, example_ct_valid, batch_ct_valid = 0, 0, 0, 0\n",
    "train_loss_history, train_acc_history, valid_loss_history, valid_acc_history = train_loop(train_loader, valid_loader, model_se, loss_function, optimizer, \n",
    "                                                                                          wandb.config.EPOCHS, device,\n",
    "                                                                                          wandb.config.PATIENCE, wandb.config.EARLY_STOPPING,\n",
    "                                                                                          wandb.config.FILE_MODEL)"
   ]
  },
  {
   "cell_type": "markdown",
   "metadata": {
    "id": "qNODEpa2h0yc"
   },
   "source": [
    "## Add Visulaization"
   ]
  },
  {
   "cell_type": "markdown",
   "metadata": {
    "id": "oXO9Cqxb7JN_"
   },
   "source": [
    "### Add Loss plot"
   ]
  },
  {
   "cell_type": "code",
   "execution_count": 56,
   "metadata": {
    "colab": {
     "base_uri": "https://localhost:8080/"
    },
    "execution": {
     "iopub.execute_input": "2022-04-01T12:05:34.429944Z",
     "iopub.status.busy": "2022-04-01T12:05:34.429758Z",
     "iopub.status.idle": "2022-04-01T12:05:35.021434Z",
     "shell.execute_reply": "2022-04-01T12:05:35.020974Z",
     "shell.execute_reply.started": "2022-04-01T12:05:34.429926Z"
    },
    "executionInfo": {
     "elapsed": 334,
     "status": "ok",
     "timestamp": 1649532346691,
     "user": {
      "displayName": "Shaannoor Mann",
      "userId": "02520257695567980696"
     },
     "user_tz": 300
    },
    "id": "Q-Vgzk5ppgbR",
    "outputId": "77872c2f-07d6-4013-c751-8d5dafb5c930"
   },
   "outputs": [
    {
     "name": "stderr",
     "output_type": "stream",
     "text": [
      "/usr/local/lib/python3.7/dist-packages/plotly/matplotlylib/renderer.py:613: UserWarning:\n",
      "\n",
      "I found a path object that I don't think is part of a bar chart. Ignoring.\n",
      "\n"
     ]
    }
   ],
   "source": [
    "import matplotlib.pyplot as plt\n",
    "# Plot the train loss and test loss per iteration\n",
    "fig = plt.figure(0)\n",
    "plt.plot(train_loss_history, label = 'train loss')\n",
    "plt.plot(valid_loss_history, label = 'valid loss')\n",
    "plt.legend()\n",
    "\n",
    "# Log the plot to W&B\n",
    "wandb.log({\"train-test loss per epoch\": fig})"
   ]
  },
  {
   "cell_type": "markdown",
   "metadata": {
    "id": "FWCLH47azD6j"
   },
   "source": [
    "# **Accuracy and Predictions**\n",
    "\n",
    "Now we have final values for weights and bias after training the model. We will use these values to make predictions on the test dataset."
   ]
  },
  {
   "cell_type": "markdown",
   "metadata": {
    "id": "uzDX4D6EvcVC"
   },
   "source": [
    "## Function to get predictions"
   ]
  },
  {
   "cell_type": "code",
   "execution_count": 57,
   "metadata": {
    "execution": {
     "iopub.execute_input": "2022-04-01T12:05:35.022108Z",
     "iopub.status.busy": "2022-04-01T12:05:35.021924Z",
     "iopub.status.idle": "2022-04-01T12:05:35.026337Z",
     "shell.execute_reply": "2022-04-01T12:05:35.025843Z",
     "shell.execute_reply.started": "2022-04-01T12:05:35.022094Z"
    },
    "executionInfo": {
     "elapsed": 2,
     "status": "ok",
     "timestamp": 1649532346691,
     "user": {
      "displayName": "Shaannoor Mann",
      "userId": "02520257695567980696"
     },
     "user_tz": 300
    },
    "id": "M6KZqsnqQFVu"
   },
   "outputs": [],
   "source": [
    "def get_acc_pred(data_loader, model):\n",
    "  \"\"\" \n",
    "  Function to get predictions for a given test set and calculate accuracy.\n",
    "  Input: Iterator to the test set.\n",
    "  Output: Prections and Accuracy for test set.\n",
    "  \"\"\"\n",
    "  model.eval()\n",
    "  with torch.no_grad():\n",
    "    # Array to store predicted labels\n",
    "    predictions = torch.Tensor()\n",
    "    predictions = predictions.to(device)\n",
    "\n",
    "    # Array to store actual labels\n",
    "    y = torch.Tensor()\n",
    "    y = y.to(device)\n",
    "    # Iterate over batches from test set\n",
    "    for input, targets, offsets in data_loader:\n",
    "      \n",
    "      # move inputs and outputs to GPUs\n",
    "      input = input.to(device)\n",
    "      targets = targets.to(device)\n",
    "      offsets = offsets.to(device)\n",
    "\n",
    "      # Calculated the predicted labels\n",
    "      output = model(input, offsets)\n",
    "\n",
    "      # Choose the label with maximum probability\n",
    "      indices = torch.argmax(output, dim = 1)\n",
    "\n",
    "      # Add the predicted labels to the array\n",
    "      predictions = torch.cat((predictions, indices)) \n",
    "\n",
    "      # Add the actual labels to the array\n",
    "      y = torch.cat((y, targets)) \n",
    "\n",
    "    # Check for complete dataset if actual and predicted labels are same or not\n",
    "    # Calculate accuracy\n",
    "    acc = (predictions == y).float().mean()\n",
    "\n",
    "  # Return array containing predictions and accuracy\n",
    "  return predictions, acc\n",
    "  "
   ]
  },
  {
   "cell_type": "markdown",
   "metadata": {
    "id": "lK-g-bSTvkl8"
   },
   "source": [
    "## Load saved model from file "
   ]
  },
  {
   "cell_type": "code",
   "execution_count": 58,
   "metadata": {
    "colab": {
     "base_uri": "https://localhost:8080/"
    },
    "execution": {
     "iopub.execute_input": "2022-04-01T12:05:35.026982Z",
     "iopub.status.busy": "2022-04-01T12:05:35.026883Z",
     "iopub.status.idle": "2022-04-01T12:05:35.216545Z",
     "shell.execute_reply": "2022-04-01T12:05:35.216092Z",
     "shell.execute_reply.started": "2022-04-01T12:05:35.026970Z"
    },
    "executionInfo": {
     "elapsed": 612,
     "status": "ok",
     "timestamp": 1649532347302,
     "user": {
      "displayName": "Shaannoor Mann",
      "userId": "02520257695567980696"
     },
     "user_tz": 300
    },
    "id": "QVT_qlEivpER",
    "outputId": "ac55dcbe-b406-457d-b19a-ec905b354a8a"
   },
   "outputs": [
    {
     "data": {
      "text/plain": [
       "<All keys matched successfully>"
      ]
     },
     "execution_count": 58,
     "metadata": {},
     "output_type": "execute_result"
    }
   ],
   "source": [
    "model_nn = MLPCustom(wandb.config.VOCAB_SIZE, wandb.config.HIDDEN_SIZES_LIST, wandb.config.DPROBS_LIST, wandb.config.BATCHNORM_BINARY, \n",
    "           wandb.config.OUTPUT_DIM, non_linearity)\n",
    "model_nn.to(device)\n",
    "model_nn.load_state_dict(torch.load(wandb.config.FILE_MODEL))"
   ]
  },
  {
   "cell_type": "code",
   "execution_count": 59,
   "metadata": {
    "colab": {
     "base_uri": "https://localhost:8080/"
    },
    "execution": {
     "iopub.execute_input": "2022-04-01T12:05:35.217589Z",
     "iopub.status.busy": "2022-04-01T12:05:35.217488Z",
     "iopub.status.idle": "2022-04-01T12:05:35.220674Z",
     "shell.execute_reply": "2022-04-01T12:05:35.220263Z",
     "shell.execute_reply.started": "2022-04-01T12:05:35.217576Z"
    },
    "executionInfo": {
     "elapsed": 3,
     "status": "ok",
     "timestamp": 1649532347303,
     "user": {
      "displayName": "Shaannoor Mann",
      "userId": "02520257695567980696"
     },
     "user_tz": 300
    },
    "id": "rKNCkt_XeCZ1",
    "outputId": "1f344751-f13d-41eb-98b4-20150e1675fe"
   },
   "outputs": [
    {
     "name": "stdout",
     "output_type": "stream",
     "text": [
      "/content/drive/MyDrive/teaching_spring_2022/Models/hw5_solution.pt\n"
     ]
    }
   ],
   "source": [
    "print(wandb.config.FILE_MODEL)"
   ]
  },
  {
   "cell_type": "code",
   "execution_count": 60,
   "metadata": {
    "execution": {
     "iopub.execute_input": "2022-04-01T12:05:35.221609Z",
     "iopub.status.busy": "2022-04-01T12:05:35.221386Z",
     "iopub.status.idle": "2022-04-01T12:05:35.853355Z",
     "shell.execute_reply": "2022-04-01T12:05:35.852971Z",
     "shell.execute_reply.started": "2022-04-01T12:05:35.221588Z"
    },
    "executionInfo": {
     "elapsed": 820,
     "status": "ok",
     "timestamp": 1649532348121,
     "user": {
      "displayName": "Shaannoor Mann",
      "userId": "02520257695567980696"
     },
     "user_tz": 300
    },
    "id": "6mZ5tlp53hi7"
   },
   "outputs": [],
   "source": [
    "# Get the prediction and accuracy for the test dataset\n",
    "predictions, acc_test = get_acc_pred(test_loader, model_nn)"
   ]
  },
  {
   "cell_type": "code",
   "execution_count": 61,
   "metadata": {
    "colab": {
     "base_uri": "https://localhost:8080/"
    },
    "execution": {
     "iopub.execute_input": "2022-04-01T12:05:35.854131Z",
     "iopub.status.busy": "2022-04-01T12:05:35.853986Z",
     "iopub.status.idle": "2022-04-01T12:05:35.858986Z",
     "shell.execute_reply": "2022-04-01T12:05:35.858641Z",
     "shell.execute_reply.started": "2022-04-01T12:05:35.854116Z"
    },
    "executionInfo": {
     "elapsed": 3,
     "status": "ok",
     "timestamp": 1649532348121,
     "user": {
      "displayName": "Shaannoor Mann",
      "userId": "02520257695567980696"
     },
     "user_tz": 300
    },
    "id": "3v2z0oFcRjrF",
    "outputId": "8c91f3c9-0062-447f-e717-fe45eef9a262"
   },
   "outputs": [
    {
     "name": "stdout",
     "output_type": "stream",
     "text": [
      "tensor(85.3187, device='cuda:0')\n"
     ]
    }
   ],
   "source": [
    "# Print Accuracy for test dataset\n",
    "print(acc_test * 100)"
   ]
  },
  {
   "cell_type": "markdown",
   "metadata": {
    "id": "jgOQMtJ8VFYf"
   },
   "source": [
    "**We have obtained 85 % accuracy on test dataset.**\n"
   ]
  },
  {
   "cell_type": "markdown",
   "metadata": {
    "id": "caRp4G3ov5fp"
   },
   "source": [
    "## **Visualizations on Predictions**"
   ]
  },
  {
   "cell_type": "markdown",
   "metadata": {
    "id": "GZf0pSyQV32m"
   },
   "source": [
    "Now, we will make some visualizations for the predictions that we obtained."
   ]
  },
  {
   "cell_type": "markdown",
   "metadata": {
    "id": "5sQH0GvxXnam"
   },
   "source": [
    "We will construct a `confusion matrix` which will help us to visualize the performance of our classification model on the test dataset as we know the true values for the test data."
   ]
  },
  {
   "cell_type": "code",
   "execution_count": 62,
   "metadata": {
    "execution": {
     "iopub.execute_input": "2022-04-01T12:05:35.859514Z",
     "iopub.status.busy": "2022-04-01T12:05:35.859417Z",
     "iopub.status.idle": "2022-04-01T12:05:35.862603Z",
     "shell.execute_reply": "2022-04-01T12:05:35.862349Z",
     "shell.execute_reply.started": "2022-04-01T12:05:35.859502Z"
    },
    "executionInfo": {
     "elapsed": 2,
     "status": "ok",
     "timestamp": 1649532348121,
     "user": {
      "displayName": "Shaannoor Mann",
      "userId": "02520257695567980696"
     },
     "user_tz": 300
    },
    "id": "NaiRaPuQYYIV"
   },
   "outputs": [],
   "source": [
    "# Get an array containing actual labels\n",
    "testing_labels = testset.y"
   ]
  },
  {
   "cell_type": "code",
   "execution_count": 77,
   "metadata": {
    "colab": {
     "base_uri": "https://localhost:8080/",
     "height": 303
    },
    "executionInfo": {
     "elapsed": 284,
     "status": "ok",
     "timestamp": 1649533297536,
     "user": {
      "displayName": "Shaannoor Mann",
      "userId": "02520257695567980696"
     },
     "user_tz": 300
    },
    "id": "gLIQe87p2IqV",
    "outputId": "e95f98c7-99ee-438e-bd7f-d4de20e83f1e"
   },
   "outputs": [
    {
     "data": {
      "text/html": [
       "\n",
       "  <div id=\"df-9ab5264d-0d32-4b2d-8ef4-a130f8da0a54\">\n",
       "    <div class=\"colab-df-container\">\n",
       "      <div>\n",
       "<style scoped>\n",
       "    .dataframe tbody tr th:only-of-type {\n",
       "        vertical-align: middle;\n",
       "    }\n",
       "\n",
       "    .dataframe tbody tr th {\n",
       "        vertical-align: top;\n",
       "    }\n",
       "\n",
       "    .dataframe thead th {\n",
       "        text-align: right;\n",
       "    }\n",
       "</style>\n",
       "<table border=\"1\" class=\"dataframe\">\n",
       "  <thead>\n",
       "    <tr style=\"text-align: right;\">\n",
       "      <th></th>\n",
       "      <th>Unnamed: 0</th>\n",
       "      <th>Title</th>\n",
       "      <th>Body</th>\n",
       "      <th>cleaned_text</th>\n",
       "      <th>Tags</th>\n",
       "      <th>Tag_Number_final</th>\n",
       "    </tr>\n",
       "  </thead>\n",
       "  <tbody>\n",
       "    <tr>\n",
       "      <th>0</th>\n",
       "      <td>0</td>\n",
       "      <td>detail disclosure indicator on UIButton</td>\n",
       "      <td>&lt;p&gt;Is there a simple way to place a detail dis...</td>\n",
       "      <td>detail disclosure indicator uibutton simple wa...</td>\n",
       "      <td>iphone</td>\n",
       "      <td>8</td>\n",
       "    </tr>\n",
       "    <tr>\n",
       "      <th>1</th>\n",
       "      <td>1</td>\n",
       "      <td>hello world fails to show up in emulator</td>\n",
       "      <td>&lt;p&gt;I followed Hello World tutorial exactly.  E...</td>\n",
       "      <td>hello world fail emulator follow hello world t...</td>\n",
       "      <td>android</td>\n",
       "      <td>4</td>\n",
       "    </tr>\n",
       "    <tr>\n",
       "      <th>2</th>\n",
       "      <td>2</td>\n",
       "      <td>Why is JSHint throwing a \"possible strict viol...</td>\n",
       "      <td>&lt;p&gt;Trying to validate some Javascript in JsHin...</td>\n",
       "      <td>jshint throw possible strict violation line tr...</td>\n",
       "      <td>javascript</td>\n",
       "      <td>3</td>\n",
       "    </tr>\n",
       "    <tr>\n",
       "      <th>3</th>\n",
       "      <td>3</td>\n",
       "      <td>Programmatically Make Bound Column Invisible</td>\n",
       "      <td>&lt;p&gt;I'm trying to make a data bound column invi...</td>\n",
       "      <td>programmatically bound column invisible try da...</td>\n",
       "      <td>asp.net</td>\n",
       "      <td>9</td>\n",
       "    </tr>\n",
       "    <tr>\n",
       "      <th>4</th>\n",
       "      <td>4</td>\n",
       "      <td>More than one EditText - not getting focus, no...</td>\n",
       "      <td>&lt;p&gt;The home screen of my Android application h...</td>\n",
       "      <td>edittext get focus soft keyboard android home ...</td>\n",
       "      <td>android</td>\n",
       "      <td>4</td>\n",
       "    </tr>\n",
       "  </tbody>\n",
       "</table>\n",
       "</div>\n",
       "      <button class=\"colab-df-convert\" onclick=\"convertToInteractive('df-9ab5264d-0d32-4b2d-8ef4-a130f8da0a54')\"\n",
       "              title=\"Convert this dataframe to an interactive table.\"\n",
       "              style=\"display:none;\">\n",
       "        \n",
       "  <svg xmlns=\"http://www.w3.org/2000/svg\" height=\"24px\"viewBox=\"0 0 24 24\"\n",
       "       width=\"24px\">\n",
       "    <path d=\"M0 0h24v24H0V0z\" fill=\"none\"/>\n",
       "    <path d=\"M18.56 5.44l.94 2.06.94-2.06 2.06-.94-2.06-.94-.94-2.06-.94 2.06-2.06.94zm-11 1L8.5 8.5l.94-2.06 2.06-.94-2.06-.94L8.5 2.5l-.94 2.06-2.06.94zm10 10l.94 2.06.94-2.06 2.06-.94-2.06-.94-.94-2.06-.94 2.06-2.06.94z\"/><path d=\"M17.41 7.96l-1.37-1.37c-.4-.4-.92-.59-1.43-.59-.52 0-1.04.2-1.43.59L10.3 9.45l-7.72 7.72c-.78.78-.78 2.05 0 2.83L4 21.41c.39.39.9.59 1.41.59.51 0 1.02-.2 1.41-.59l7.78-7.78 2.81-2.81c.8-.78.8-2.07 0-2.86zM5.41 20L4 18.59l7.72-7.72 1.47 1.35L5.41 20z\"/>\n",
       "  </svg>\n",
       "      </button>\n",
       "      \n",
       "  <style>\n",
       "    .colab-df-container {\n",
       "      display:flex;\n",
       "      flex-wrap:wrap;\n",
       "      gap: 12px;\n",
       "    }\n",
       "\n",
       "    .colab-df-convert {\n",
       "      background-color: #E8F0FE;\n",
       "      border: none;\n",
       "      border-radius: 50%;\n",
       "      cursor: pointer;\n",
       "      display: none;\n",
       "      fill: #1967D2;\n",
       "      height: 32px;\n",
       "      padding: 0 0 0 0;\n",
       "      width: 32px;\n",
       "    }\n",
       "\n",
       "    .colab-df-convert:hover {\n",
       "      background-color: #E2EBFA;\n",
       "      box-shadow: 0px 1px 2px rgba(60, 64, 67, 0.3), 0px 1px 3px 1px rgba(60, 64, 67, 0.15);\n",
       "      fill: #174EA6;\n",
       "    }\n",
       "\n",
       "    [theme=dark] .colab-df-convert {\n",
       "      background-color: #3B4455;\n",
       "      fill: #D2E3FC;\n",
       "    }\n",
       "\n",
       "    [theme=dark] .colab-df-convert:hover {\n",
       "      background-color: #434B5C;\n",
       "      box-shadow: 0px 1px 3px 1px rgba(0, 0, 0, 0.15);\n",
       "      filter: drop-shadow(0px 1px 2px rgba(0, 0, 0, 0.3));\n",
       "      fill: #FFFFFF;\n",
       "    }\n",
       "  </style>\n",
       "\n",
       "      <script>\n",
       "        const buttonEl =\n",
       "          document.querySelector('#df-9ab5264d-0d32-4b2d-8ef4-a130f8da0a54 button.colab-df-convert');\n",
       "        buttonEl.style.display =\n",
       "          google.colab.kernel.accessAllowed ? 'block' : 'none';\n",
       "\n",
       "        async function convertToInteractive(key) {\n",
       "          const element = document.querySelector('#df-9ab5264d-0d32-4b2d-8ef4-a130f8da0a54');\n",
       "          const dataTable =\n",
       "            await google.colab.kernel.invokeFunction('convertToInteractive',\n",
       "                                                     [key], {});\n",
       "          if (!dataTable) return;\n",
       "\n",
       "          const docLinkHtml = 'Like what you see? Visit the ' +\n",
       "            '<a target=\"_blank\" href=https://colab.research.google.com/notebooks/data_table.ipynb>data table notebook</a>'\n",
       "            + ' to learn more about interactive tables.';\n",
       "          element.innerHTML = '';\n",
       "          dataTable['output_type'] = 'display_data';\n",
       "          await google.colab.output.renderOutput(dataTable, element);\n",
       "          const docLink = document.createElement('div');\n",
       "          docLink.innerHTML = docLinkHtml;\n",
       "          element.appendChild(docLink);\n",
       "        }\n",
       "      </script>\n",
       "    </div>\n",
       "  </div>\n",
       "  "
      ],
      "text/plain": [
       "   Unnamed: 0                                              Title  \\\n",
       "0           0            detail disclosure indicator on UIButton   \n",
       "1           1           hello world fails to show up in emulator   \n",
       "2           2  Why is JSHint throwing a \"possible strict viol...   \n",
       "3           3       Programmatically Make Bound Column Invisible   \n",
       "4           4  More than one EditText - not getting focus, no...   \n",
       "\n",
       "                                                Body  \\\n",
       "0  <p>Is there a simple way to place a detail dis...   \n",
       "1  <p>I followed Hello World tutorial exactly.  E...   \n",
       "2  <p>Trying to validate some Javascript in JsHin...   \n",
       "3  <p>I'm trying to make a data bound column invi...   \n",
       "4  <p>The home screen of my Android application h...   \n",
       "\n",
       "                                        cleaned_text        Tags  \\\n",
       "0  detail disclosure indicator uibutton simple wa...      iphone   \n",
       "1  hello world fail emulator follow hello world t...     android   \n",
       "2  jshint throw possible strict violation line tr...  javascript   \n",
       "3  programmatically bound column invisible try da...     asp.net   \n",
       "4  edittext get focus soft keyboard android home ...     android   \n",
       "\n",
       "   Tag_Number_final  \n",
       "0                 8  \n",
       "1                 4  \n",
       "2                 3  \n",
       "3                 9  \n",
       "4                 4  "
      ]
     },
     "execution_count": 77,
     "metadata": {},
     "output_type": "execute_result"
    }
   ],
   "source": [
    "df_hw.head()"
   ]
  },
  {
   "cell_type": "code",
   "execution_count": 90,
   "metadata": {
    "executionInfo": {
     "elapsed": 382,
     "status": "ok",
     "timestamp": 1649533497569,
     "user": {
      "displayName": "Shaannoor Mann",
      "userId": "02520257695567980696"
     },
     "user_tz": 300
    },
    "id": "XEtVgIXazYpv"
   },
   "outputs": [],
   "source": [
    "tags = df_hw[['Tags', 'Tag_Number_final']].drop_duplicates().sort_values(by = ['Tag_Number_final'])"
   ]
  },
  {
   "cell_type": "code",
   "execution_count": 93,
   "metadata": {
    "colab": {
     "base_uri": "https://localhost:8080/"
    },
    "executionInfo": {
     "elapsed": 391,
     "status": "ok",
     "timestamp": 1649533525818,
     "user": {
      "displayName": "Shaannoor Mann",
      "userId": "02520257695567980696"
     },
     "user_tz": 300
    },
    "id": "tejW7QJ92ZwM",
    "outputId": "fc0c5529-f287-45f4-f4a2-82859cb7af32"
   },
   "outputs": [
    {
     "data": {
      "text/plain": [
       "array(['c#', 'java', 'php', 'javascript', 'android', 'jquery', 'c++',\n",
       "       'python', 'iphone', 'asp.net'], dtype=object)"
      ]
     },
     "execution_count": 93,
     "metadata": {},
     "output_type": "execute_result"
    }
   ],
   "source": [
    "tags['Tags'].values"
   ]
  },
  {
   "cell_type": "code",
   "execution_count": 82,
   "metadata": {
    "colab": {
     "base_uri": "https://localhost:8080/",
     "height": 363
    },
    "executionInfo": {
     "elapsed": 8,
     "status": "ok",
     "timestamp": 1649533366585,
     "user": {
      "displayName": "Shaannoor Mann",
      "userId": "02520257695567980696"
     },
     "user_tz": 300
    },
    "id": "a7P_1XTe2VLA",
    "outputId": "cfc4469c-d491-4615-a6a2-db12dfe69dfe"
   },
   "outputs": [
    {
     "data": {
      "text/html": [
       "\n",
       "  <div id=\"df-3791c169-fe53-444b-856b-5a2b93f74a89\">\n",
       "    <div class=\"colab-df-container\">\n",
       "      <div>\n",
       "<style scoped>\n",
       "    .dataframe tbody tr th:only-of-type {\n",
       "        vertical-align: middle;\n",
       "    }\n",
       "\n",
       "    .dataframe tbody tr th {\n",
       "        vertical-align: top;\n",
       "    }\n",
       "\n",
       "    .dataframe thead th {\n",
       "        text-align: right;\n",
       "    }\n",
       "</style>\n",
       "<table border=\"1\" class=\"dataframe\">\n",
       "  <thead>\n",
       "    <tr style=\"text-align: right;\">\n",
       "      <th></th>\n",
       "      <th>Tags</th>\n",
       "      <th>Tag_Number_final</th>\n",
       "    </tr>\n",
       "  </thead>\n",
       "  <tbody>\n",
       "    <tr>\n",
       "      <th>0</th>\n",
       "      <td>iphone</td>\n",
       "      <td>8</td>\n",
       "    </tr>\n",
       "    <tr>\n",
       "      <th>1</th>\n",
       "      <td>android</td>\n",
       "      <td>4</td>\n",
       "    </tr>\n",
       "    <tr>\n",
       "      <th>2</th>\n",
       "      <td>javascript</td>\n",
       "      <td>3</td>\n",
       "    </tr>\n",
       "    <tr>\n",
       "      <th>3</th>\n",
       "      <td>asp.net</td>\n",
       "      <td>9</td>\n",
       "    </tr>\n",
       "    <tr>\n",
       "      <th>5</th>\n",
       "      <td>c#</td>\n",
       "      <td>0</td>\n",
       "    </tr>\n",
       "    <tr>\n",
       "      <th>7</th>\n",
       "      <td>php</td>\n",
       "      <td>2</td>\n",
       "    </tr>\n",
       "    <tr>\n",
       "      <th>9</th>\n",
       "      <td>python</td>\n",
       "      <td>7</td>\n",
       "    </tr>\n",
       "    <tr>\n",
       "      <th>11</th>\n",
       "      <td>jquery</td>\n",
       "      <td>5</td>\n",
       "    </tr>\n",
       "    <tr>\n",
       "      <th>17</th>\n",
       "      <td>java</td>\n",
       "      <td>1</td>\n",
       "    </tr>\n",
       "    <tr>\n",
       "      <th>29</th>\n",
       "      <td>c++</td>\n",
       "      <td>6</td>\n",
       "    </tr>\n",
       "  </tbody>\n",
       "</table>\n",
       "</div>\n",
       "      <button class=\"colab-df-convert\" onclick=\"convertToInteractive('df-3791c169-fe53-444b-856b-5a2b93f74a89')\"\n",
       "              title=\"Convert this dataframe to an interactive table.\"\n",
       "              style=\"display:none;\">\n",
       "        \n",
       "  <svg xmlns=\"http://www.w3.org/2000/svg\" height=\"24px\"viewBox=\"0 0 24 24\"\n",
       "       width=\"24px\">\n",
       "    <path d=\"M0 0h24v24H0V0z\" fill=\"none\"/>\n",
       "    <path d=\"M18.56 5.44l.94 2.06.94-2.06 2.06-.94-2.06-.94-.94-2.06-.94 2.06-2.06.94zm-11 1L8.5 8.5l.94-2.06 2.06-.94-2.06-.94L8.5 2.5l-.94 2.06-2.06.94zm10 10l.94 2.06.94-2.06 2.06-.94-2.06-.94-.94-2.06-.94 2.06-2.06.94z\"/><path d=\"M17.41 7.96l-1.37-1.37c-.4-.4-.92-.59-1.43-.59-.52 0-1.04.2-1.43.59L10.3 9.45l-7.72 7.72c-.78.78-.78 2.05 0 2.83L4 21.41c.39.39.9.59 1.41.59.51 0 1.02-.2 1.41-.59l7.78-7.78 2.81-2.81c.8-.78.8-2.07 0-2.86zM5.41 20L4 18.59l7.72-7.72 1.47 1.35L5.41 20z\"/>\n",
       "  </svg>\n",
       "      </button>\n",
       "      \n",
       "  <style>\n",
       "    .colab-df-container {\n",
       "      display:flex;\n",
       "      flex-wrap:wrap;\n",
       "      gap: 12px;\n",
       "    }\n",
       "\n",
       "    .colab-df-convert {\n",
       "      background-color: #E8F0FE;\n",
       "      border: none;\n",
       "      border-radius: 50%;\n",
       "      cursor: pointer;\n",
       "      display: none;\n",
       "      fill: #1967D2;\n",
       "      height: 32px;\n",
       "      padding: 0 0 0 0;\n",
       "      width: 32px;\n",
       "    }\n",
       "\n",
       "    .colab-df-convert:hover {\n",
       "      background-color: #E2EBFA;\n",
       "      box-shadow: 0px 1px 2px rgba(60, 64, 67, 0.3), 0px 1px 3px 1px rgba(60, 64, 67, 0.15);\n",
       "      fill: #174EA6;\n",
       "    }\n",
       "\n",
       "    [theme=dark] .colab-df-convert {\n",
       "      background-color: #3B4455;\n",
       "      fill: #D2E3FC;\n",
       "    }\n",
       "\n",
       "    [theme=dark] .colab-df-convert:hover {\n",
       "      background-color: #434B5C;\n",
       "      box-shadow: 0px 1px 3px 1px rgba(0, 0, 0, 0.15);\n",
       "      filter: drop-shadow(0px 1px 2px rgba(0, 0, 0, 0.3));\n",
       "      fill: #FFFFFF;\n",
       "    }\n",
       "  </style>\n",
       "\n",
       "      <script>\n",
       "        const buttonEl =\n",
       "          document.querySelector('#df-3791c169-fe53-444b-856b-5a2b93f74a89 button.colab-df-convert');\n",
       "        buttonEl.style.display =\n",
       "          google.colab.kernel.accessAllowed ? 'block' : 'none';\n",
       "\n",
       "        async function convertToInteractive(key) {\n",
       "          const element = document.querySelector('#df-3791c169-fe53-444b-856b-5a2b93f74a89');\n",
       "          const dataTable =\n",
       "            await google.colab.kernel.invokeFunction('convertToInteractive',\n",
       "                                                     [key], {});\n",
       "          if (!dataTable) return;\n",
       "\n",
       "          const docLinkHtml = 'Like what you see? Visit the ' +\n",
       "            '<a target=\"_blank\" href=https://colab.research.google.com/notebooks/data_table.ipynb>data table notebook</a>'\n",
       "            + ' to learn more about interactive tables.';\n",
       "          element.innerHTML = '';\n",
       "          dataTable['output_type'] = 'display_data';\n",
       "          await google.colab.output.renderOutput(dataTable, element);\n",
       "          const docLink = document.createElement('div');\n",
       "          docLink.innerHTML = docLinkHtml;\n",
       "          element.appendChild(docLink);\n",
       "        }\n",
       "      </script>\n",
       "    </div>\n",
       "  </div>\n",
       "  "
      ],
      "text/plain": [
       "          Tags  Tag_Number_final\n",
       "0       iphone                 8\n",
       "1      android                 4\n",
       "2   javascript                 3\n",
       "3      asp.net                 9\n",
       "5           c#                 0\n",
       "7          php                 2\n",
       "9       python                 7\n",
       "11      jquery                 5\n",
       "17        java                 1\n",
       "29         c++                 6"
      ]
     },
     "execution_count": 82,
     "metadata": {},
     "output_type": "execute_result"
    }
   ],
   "source": [
    "tags"
   ]
  },
  {
   "cell_type": "code",
   "execution_count": 97,
   "metadata": {
    "colab": {
     "base_uri": "https://localhost:8080/"
    },
    "executionInfo": {
     "elapsed": 287,
     "status": "ok",
     "timestamp": 1649533753329,
     "user": {
      "displayName": "Shaannoor Mann",
      "userId": "02520257695567980696"
     },
     "user_tz": 300
    },
    "id": "9optsT9732zI",
    "outputId": "c71ebbf0-3ec2-4c0b-8eca-13e18be1846b"
   },
   "outputs": [
    {
     "data": {
      "text/plain": [
       "(18888,)"
      ]
     },
     "execution_count": 97,
     "metadata": {},
     "output_type": "execute_result"
    }
   ],
   "source": [
    "testing_labels.shape"
   ]
  },
  {
   "cell_type": "code",
   "execution_count": 94,
   "metadata": {
    "execution": {
     "iopub.execute_input": "2022-04-01T12:05:35.863335Z",
     "iopub.status.busy": "2022-04-01T12:05:35.863027Z",
     "iopub.status.idle": "2022-04-01T12:05:35.888320Z",
     "shell.execute_reply": "2022-04-01T12:05:35.887902Z",
     "shell.execute_reply.started": "2022-04-01T12:05:35.863322Z"
    },
    "executionInfo": {
     "elapsed": 926,
     "status": "ok",
     "timestamp": 1649533552946,
     "user": {
      "displayName": "Shaannoor Mann",
      "userId": "02520257695567980696"
     },
     "user_tz": 300
    },
    "id": "bVbWdA7XOuct"
   },
   "outputs": [],
   "source": [
    "# Define the values for classes\n",
    "classes = ['c#', 'java', 'php', 'javascript', 'android', 'jquery', 'c++',\n",
    "       'python', 'iphone', 'asp.net']\n",
    "\n",
    "# Log a confusion matrix to W&B\n",
    "wandb.log({\"conf_mat\" : wandb.plot.confusion_matrix(\n",
    "                        probs = None,\n",
    "                        y_true = testing_labels,\n",
    "                        preds = predictions.to('cpu').numpy(),\n",
    "                        class_names = classes)})\n"
   ]
  },
  {
   "cell_type": "code",
   "execution_count": 95,
   "metadata": {
    "colab": {
     "base_uri": "https://localhost:8080/",
     "height": 372,
     "referenced_widgets": [
      "4248b7754bf74c11acc9402c88e6e504",
      "cc0cc081979547709e564856bcd52885",
      "d0da12f1c9bc4bf19b0a43854c84c168",
      "5bde0fda85ab4e9bbceac60bdf831b72",
      "dd5a0eb0212d437187b6fe93f4aaab95",
      "021e219a67ab4f9cbc8c644f91bfe38f",
      "3b711fd29313449384669cfe96ea21d5",
      "6a28f51edfb14052b362476d765c101a"
     ]
    },
    "execution": {
     "iopub.status.busy": "2022-04-01T12:05:35.888676Z",
     "iopub.status.idle": "2022-04-01T12:05:35.888919Z",
     "shell.execute_reply": "2022-04-01T12:05:35.888843Z",
     "shell.execute_reply.started": "2022-04-01T12:05:35.888834Z"
    },
    "executionInfo": {
     "elapsed": 4689,
     "status": "ok",
     "timestamp": 1649533560216,
     "user": {
      "displayName": "Shaannoor Mann",
      "userId": "02520257695567980696"
     },
     "user_tz": 300
    },
    "id": "tKJE8weMG4WN",
    "outputId": "4cec3642-daa7-4290-f526-95a2119f90b3"
   },
   "outputs": [
    {
     "name": "stdout",
     "output_type": "stream",
     "text": [
      "\n"
     ]
    },
    {
     "data": {
      "text/html": [
       "Waiting for W&B process to finish... <strong style=\"color:green\">(success).</strong>"
      ],
      "text/plain": [
       "<IPython.core.display.HTML object>"
      ]
     },
     "metadata": {},
     "output_type": "display_data"
    },
    {
     "data": {
      "application/vnd.jupyter.widget-view+json": {
       "model_id": "4248b7754bf74c11acc9402c88e6e504",
       "version_major": 2,
       "version_minor": 0
      },
      "text/plain": [
       "VBox(children=(Label(value='0.018 MB of 0.018 MB uploaded (0.000 MB deduped)\\r'), FloatProgress(value=1.0, max…"
      ]
     },
     "metadata": {},
     "output_type": "display_data"
    },
    {
     "data": {
      "text/html": [
       "<style>\n",
       "    table.wandb td:nth-child(1) { padding: 0 10px; text-align: right }\n",
       "    .wandb-row { display: flex; flex-direction: row; flex-wrap: wrap; width: 100% }\n",
       "    .wandb-col { display: flex; flex-direction: column; flex-basis: 100%; flex: 1; padding: 10px; }\n",
       "    </style>\n",
       "<div class=\"wandb-row\"><div class=\"wandb-col\"><h3>Run history:</h3><br/><table class=\"wandb\"><tr><td>Train Batch Acc :</td><td>▁▂▃▃▂▄▃▃▅▆▆▅▇▅▇▅▆▅▅▅▇▅▇▆▇▇▄▃▇█▅▇▇▇▇▆▇▆▃▆</td></tr><tr><td>Train Batch Loss  :</td><td>█▆▆▅▅▅▅▅▄▄▃▃▃▃▃▃▂▃▃▄▂▃▂▃▂▄▃▄▂▁▄▂▂▂▂▂▁▃▄▃</td></tr><tr><td>Train epoch Acc :</td><td>▁▄▅▅▆▆▆▆▇▇▇▇▇▇██████</td></tr><tr><td>Train epoch Loss :</td><td>█▅▄▄▄▃▃▃▂▂▂▂▂▂▂▁▁▁▁▁</td></tr><tr><td>Valid Batch Accuracy :</td><td>▃▃▁▃▁▁▃▅▅▄▃▃▄▂▄▇▇▃▄▆▆▄▅▅▇▄▇█▇▇▇▅▇▇▇▂▅▆▇▄</td></tr><tr><td>Valid Batch Loss  :</td><td>▆▇█▅█▆▆▃▄▄▅▄▄█▄▂▂▅▅▂▄▆▄▂▃▅▃▂▃▁▂▃▂▃▁▇▃▂▂▅</td></tr><tr><td>Valid epoch Acc :</td><td>▁▃▃▄▅▅▅▆▆▇▇▇▇▇▇▇█▇██</td></tr><tr><td>Valid epoch Loss :</td><td>█▆▆▅▄▄▄▃▃▃▂▂▃▂▂▂▁▂▁▁</td></tr></table><br/></div><div class=\"wandb-col\"><h3>Run summary:</h3><br/><table class=\"wandb\"><tr><td>Train Batch Acc :</td><td>0.83203</td></tr><tr><td>Train Batch Loss  :</td><td>0.56093</td></tr><tr><td>Train epoch Acc :</td><td>0.85101</td></tr><tr><td>Train epoch Loss :</td><td>0.46594</td></tr><tr><td>Valid Batch Accuracy :</td><td>0.82031</td></tr><tr><td>Valid Batch Loss  :</td><td>0.59602</td></tr><tr><td>Valid epoch Acc :</td><td>0.85753</td></tr><tr><td>Valid epoch Loss :</td><td>0.44811</td></tr></table><br/></div></div>"
      ],
      "text/plain": [
       "<IPython.core.display.HTML object>"
      ]
     },
     "metadata": {},
     "output_type": "display_data"
    },
    {
     "data": {
      "text/html": [
       "Synced <strong style=\"color:#cdcd00\">exp1</strong>: <a href=\"https://wandb.ai/hsingh-utd/NLP_HW5_Solution/runs/227liwfx\" target=\"_blank\">https://wandb.ai/hsingh-utd/NLP_HW5_Solution/runs/227liwfx</a><br/>Synced 5 W&B file(s), 3 media file(s), 1 artifact file(s) and 0 other file(s)"
      ],
      "text/plain": [
       "<IPython.core.display.HTML object>"
      ]
     },
     "metadata": {},
     "output_type": "display_data"
    },
    {
     "data": {
      "text/html": [
       "Find logs at: <code>./wandb/run-20220409_192011-227liwfx/logs</code>"
      ],
      "text/plain": [
       "<IPython.core.display.HTML object>"
      ]
     },
     "metadata": {},
     "output_type": "display_data"
    }
   ],
   "source": [
    "wandb.finish()"
   ]
  }
 ],
 "metadata": {
  "accelerator": "GPU",
  "colab": {
   "collapsed_sections": [],
   "machine_shape": "hm",
   "name": "5_HW_Train_NN_Solution.ipynb",
   "provenance": [],
   "toc_visible": true
  },
  "kernelspec": {
   "display_name": "Python 3",
   "language": "python",
   "name": "python3"
  },
  "language_info": {
   "codemirror_mode": {
    "name": "ipython",
    "version": 3
   },
   "file_extension": ".py",
   "mimetype": "text/x-python",
   "name": "python",
   "nbconvert_exporter": "python",
   "pygments_lexer": "ipython3",
   "version": "3.8.5"
  },
  "widgets": {
   "application/vnd.jupyter.widget-state+json": {
    "021e219a67ab4f9cbc8c644f91bfe38f": {
     "model_module": "@jupyter-widgets/controls",
     "model_module_version": "1.5.0",
     "model_name": "DescriptionStyleModel",
     "state": {
      "_model_module": "@jupyter-widgets/controls",
      "_model_module_version": "1.5.0",
      "_model_name": "DescriptionStyleModel",
      "_view_count": null,
      "_view_module": "@jupyter-widgets/base",
      "_view_module_version": "1.2.0",
      "_view_name": "StyleView",
      "description_width": ""
     }
    },
    "3b711fd29313449384669cfe96ea21d5": {
     "model_module": "@jupyter-widgets/base",
     "model_module_version": "1.2.0",
     "model_name": "LayoutModel",
     "state": {
      "_model_module": "@jupyter-widgets/base",
      "_model_module_version": "1.2.0",
      "_model_name": "LayoutModel",
      "_view_count": null,
      "_view_module": "@jupyter-widgets/base",
      "_view_module_version": "1.2.0",
      "_view_name": "LayoutView",
      "align_content": null,
      "align_items": null,
      "align_self": null,
      "border": null,
      "bottom": null,
      "display": null,
      "flex": null,
      "flex_flow": null,
      "grid_area": null,
      "grid_auto_columns": null,
      "grid_auto_flow": null,
      "grid_auto_rows": null,
      "grid_column": null,
      "grid_gap": null,
      "grid_row": null,
      "grid_template_areas": null,
      "grid_template_columns": null,
      "grid_template_rows": null,
      "height": null,
      "justify_content": null,
      "justify_items": null,
      "left": null,
      "margin": null,
      "max_height": null,
      "max_width": null,
      "min_height": null,
      "min_width": null,
      "object_fit": null,
      "object_position": null,
      "order": null,
      "overflow": null,
      "overflow_x": null,
      "overflow_y": null,
      "padding": null,
      "right": null,
      "top": null,
      "visibility": null,
      "width": null
     }
    },
    "4248b7754bf74c11acc9402c88e6e504": {
     "model_module": "@jupyter-widgets/controls",
     "model_module_version": "1.5.0",
     "model_name": "VBoxModel",
     "state": {
      "_dom_classes": [],
      "_model_module": "@jupyter-widgets/controls",
      "_model_module_version": "1.5.0",
      "_model_name": "VBoxModel",
      "_view_count": null,
      "_view_module": "@jupyter-widgets/controls",
      "_view_module_version": "1.5.0",
      "_view_name": "VBoxView",
      "box_style": "",
      "children": [
       "IPY_MODEL_cc0cc081979547709e564856bcd52885",
       "IPY_MODEL_d0da12f1c9bc4bf19b0a43854c84c168"
      ],
      "layout": "IPY_MODEL_5bde0fda85ab4e9bbceac60bdf831b72"
     }
    },
    "5bde0fda85ab4e9bbceac60bdf831b72": {
     "model_module": "@jupyter-widgets/base",
     "model_module_version": "1.2.0",
     "model_name": "LayoutModel",
     "state": {
      "_model_module": "@jupyter-widgets/base",
      "_model_module_version": "1.2.0",
      "_model_name": "LayoutModel",
      "_view_count": null,
      "_view_module": "@jupyter-widgets/base",
      "_view_module_version": "1.2.0",
      "_view_name": "LayoutView",
      "align_content": null,
      "align_items": null,
      "align_self": null,
      "border": null,
      "bottom": null,
      "display": null,
      "flex": null,
      "flex_flow": null,
      "grid_area": null,
      "grid_auto_columns": null,
      "grid_auto_flow": null,
      "grid_auto_rows": null,
      "grid_column": null,
      "grid_gap": null,
      "grid_row": null,
      "grid_template_areas": null,
      "grid_template_columns": null,
      "grid_template_rows": null,
      "height": null,
      "justify_content": null,
      "justify_items": null,
      "left": null,
      "margin": null,
      "max_height": null,
      "max_width": null,
      "min_height": null,
      "min_width": null,
      "object_fit": null,
      "object_position": null,
      "order": null,
      "overflow": null,
      "overflow_x": null,
      "overflow_y": null,
      "padding": null,
      "right": null,
      "top": null,
      "visibility": null,
      "width": null
     }
    },
    "6a28f51edfb14052b362476d765c101a": {
     "model_module": "@jupyter-widgets/controls",
     "model_module_version": "1.5.0",
     "model_name": "ProgressStyleModel",
     "state": {
      "_model_module": "@jupyter-widgets/controls",
      "_model_module_version": "1.5.0",
      "_model_name": "ProgressStyleModel",
      "_view_count": null,
      "_view_module": "@jupyter-widgets/base",
      "_view_module_version": "1.2.0",
      "_view_name": "StyleView",
      "bar_color": null,
      "description_width": ""
     }
    },
    "cc0cc081979547709e564856bcd52885": {
     "model_module": "@jupyter-widgets/controls",
     "model_module_version": "1.5.0",
     "model_name": "LabelModel",
     "state": {
      "_dom_classes": [],
      "_model_module": "@jupyter-widgets/controls",
      "_model_module_version": "1.5.0",
      "_model_name": "LabelModel",
      "_view_count": null,
      "_view_module": "@jupyter-widgets/controls",
      "_view_module_version": "1.5.0",
      "_view_name": "LabelView",
      "description": "",
      "description_tooltip": null,
      "layout": "IPY_MODEL_dd5a0eb0212d437187b6fe93f4aaab95",
      "placeholder": "​",
      "style": "IPY_MODEL_021e219a67ab4f9cbc8c644f91bfe38f",
      "value": "0.072 MB of 0.072 MB uploaded (0.000 MB deduped)\r"
     }
    },
    "d0da12f1c9bc4bf19b0a43854c84c168": {
     "model_module": "@jupyter-widgets/controls",
     "model_module_version": "1.5.0",
     "model_name": "FloatProgressModel",
     "state": {
      "_dom_classes": [],
      "_model_module": "@jupyter-widgets/controls",
      "_model_module_version": "1.5.0",
      "_model_name": "FloatProgressModel",
      "_view_count": null,
      "_view_module": "@jupyter-widgets/controls",
      "_view_module_version": "1.5.0",
      "_view_name": "ProgressView",
      "bar_style": "",
      "description": "",
      "description_tooltip": null,
      "layout": "IPY_MODEL_3b711fd29313449384669cfe96ea21d5",
      "max": 1,
      "min": 0,
      "orientation": "horizontal",
      "style": "IPY_MODEL_6a28f51edfb14052b362476d765c101a",
      "value": 1
     }
    },
    "dd5a0eb0212d437187b6fe93f4aaab95": {
     "model_module": "@jupyter-widgets/base",
     "model_module_version": "1.2.0",
     "model_name": "LayoutModel",
     "state": {
      "_model_module": "@jupyter-widgets/base",
      "_model_module_version": "1.2.0",
      "_model_name": "LayoutModel",
      "_view_count": null,
      "_view_module": "@jupyter-widgets/base",
      "_view_module_version": "1.2.0",
      "_view_name": "LayoutView",
      "align_content": null,
      "align_items": null,
      "align_self": null,
      "border": null,
      "bottom": null,
      "display": null,
      "flex": null,
      "flex_flow": null,
      "grid_area": null,
      "grid_auto_columns": null,
      "grid_auto_flow": null,
      "grid_auto_rows": null,
      "grid_column": null,
      "grid_gap": null,
      "grid_row": null,
      "grid_template_areas": null,
      "grid_template_columns": null,
      "grid_template_rows": null,
      "height": null,
      "justify_content": null,
      "justify_items": null,
      "left": null,
      "margin": null,
      "max_height": null,
      "max_width": null,
      "min_height": null,
      "min_width": null,
      "object_fit": null,
      "object_position": null,
      "order": null,
      "overflow": null,
      "overflow_x": null,
      "overflow_y": null,
      "padding": null,
      "right": null,
      "top": null,
      "visibility": null,
      "width": null
     }
    }
   }
  }
 },
 "nbformat": 4,
 "nbformat_minor": 1
}
