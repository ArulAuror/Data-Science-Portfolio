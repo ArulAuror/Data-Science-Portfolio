{
  "nbformat": 4,
  "nbformat_minor": 0,
  "metadata": {
    "colab": {
      "name": "Arul_file1_hw3.ipynb",
      "provenance": [],
      "collapsed_sections": []
    },
    "kernelspec": {
      "name": "python3",
      "display_name": "Python 3"
    },
    "language_info": {
      "name": "python"
    }
  },
  "cells": [
    {
      "cell_type": "markdown",
      "metadata": {
        "id": "_mJQGbTFOCAx"
      },
      "source": [
        "<h1 align='center'><u>Spam Detection HW-File1</u></h1>\n",
        "\n",
        "<font color = 'red' size = 4 >**Read complete instructions before starting the HW** </font>\n"
      ]
    },
    {
      "cell_type": "markdown",
      "metadata": {
        "id": "cXeG6ZQ4OVDj"
      },
      "source": [
        "# Q1: Load the dataset  (1 Point)\n",
        "\n",
        "- For this Hw you will usespam dataset from kaggle which can be found from [this](https://www.kaggle.com/uciml/sms-spam-collection-dataset) link. You can download this data and either upload it in google drive or in colab workspace. Load the data in pandas dataframe. \n",
        "\n",
        "- There are only two useful columns. These columns are related to (1) label (ham and spam) and the (2) text of email.\n",
        "\n",
        "- Rename columns as label and message\n",
        "\n",
        "- Find the %  ham amd spam in the data.\n",
        "\n",
        "\n",
        "\n"
      ]
    },
    {
      "cell_type": "code",
      "source": [
        "!pip install feature-engine -qq"
      ],
      "metadata": {
        "id": "lVzmmRxRT5-r",
        "colab": {
          "base_uri": "https://localhost:8080/"
        },
        "outputId": "d02cff9b-9808-4231-b7a2-b42906afdd0c"
      },
      "execution_count": null,
      "outputs": [
        {
          "output_type": "stream",
          "name": "stdout",
          "text": [
            "\u001b[K     |████████████████████████████████| 205 kB 5.1 MB/s \n",
            "\u001b[K     |████████████████████████████████| 9.8 MB 28.6 MB/s \n",
            "\u001b[?25h"
          ]
        }
      ]
    },
    {
      "cell_type": "code",
      "source": [
        "!pip install -U spacy -qq"
      ],
      "metadata": {
        "id": "jKWC0tdkZdEH",
        "colab": {
          "base_uri": "https://localhost:8080/"
        },
        "outputId": "40849909-6ef9-4033-aace-dee10bd2810a"
      },
      "execution_count": null,
      "outputs": [
        {
          "output_type": "stream",
          "name": "stdout",
          "text": [
            "\u001b[K     |████████████████████████████████| 6.0 MB 4.5 MB/s \n",
            "\u001b[K     |████████████████████████████████| 628 kB 10.9 MB/s \n",
            "\u001b[K     |████████████████████████████████| 451 kB 39.4 MB/s \n",
            "\u001b[K     |████████████████████████████████| 10.1 MB 31.2 MB/s \n",
            "\u001b[K     |████████████████████████████████| 42 kB 1.0 MB/s \n",
            "\u001b[K     |████████████████████████████████| 181 kB 40.3 MB/s \n",
            "\u001b[?25h"
          ]
        }
      ]
    },
    {
      "cell_type": "code",
      "source": [
        "!python -m spacy download 'en_core_web_sm' -qq"
      ],
      "metadata": {
        "colab": {
          "base_uri": "https://localhost:8080/"
        },
        "id": "cwq3szQzhojh",
        "outputId": "56d92fbd-47e7-490d-f796-450af9cc7c56"
      },
      "execution_count": null,
      "outputs": [
        {
          "output_type": "stream",
          "name": "stdout",
          "text": [
            "\u001b[K     |████████████████████████████████| 13.9 MB 5.2 MB/s \n",
            "\u001b[?25h\u001b[38;5;2m✔ Download and installation successful\u001b[0m\n",
            "You can now load the package via spacy.load('en_core_web_sm')\n"
          ]
        }
      ]
    },
    {
      "cell_type": "code",
      "source": [
        "!pip install pyspellchecker -qq"
      ],
      "metadata": {
        "colab": {
          "base_uri": "https://localhost:8080/"
        },
        "id": "8StvdHJQWdV2",
        "outputId": "b4c97874-ed62-4e99-9ff0-f2090d915be5"
      },
      "execution_count": null,
      "outputs": [
        {
          "output_type": "stream",
          "name": "stdout",
          "text": [
            "\u001b[K     |████████████████████████████████| 2.7 MB 5.1 MB/s \n",
            "\u001b[?25h"
          ]
        }
      ]
    },
    {
      "cell_type": "code",
      "source": [
        "from pathlib import Path\n",
        "from google.colab import drive\n",
        "import sys\n",
        "drive.mount('/content/drive')\n",
        "data_folder = Path('/content/drive/MyDrive/Lec4-SentimentAnalysis/HW3/data')"
      ],
      "metadata": {
        "id": "QGAyKF6a7WSl",
        "colab": {
          "base_uri": "https://localhost:8080/"
        },
        "outputId": "9cf98d0d-a080-4ed7-d68b-892de18defe0"
      },
      "execution_count": null,
      "outputs": [
        {
          "output_type": "stream",
          "name": "stdout",
          "text": [
            "Mounted at /content/drive\n"
          ]
        }
      ]
    },
    {
      "cell_type": "code",
      "source": [
        "sys.path.append('/content/drive/MyDrive/NLP/custom_functions')"
      ],
      "metadata": {
        "id": "aaZkEc7UINYZ"
      },
      "execution_count": null,
      "outputs": []
    },
    {
      "cell_type": "code",
      "source": [
        "model_folder = Path('/content/drive/MyDrive/NLP/models')"
      ],
      "metadata": {
        "id": "KofS4zfgAyUS"
      },
      "execution_count": null,
      "outputs": []
    },
    {
      "cell_type": "code",
      "source": [
        "# Import Libraries\n",
        "from sklearn.feature_extraction.text import TfidfVectorizer\n",
        "from sklearn.model_selection import RandomizedSearchCV\n",
        "from sklearn.model_selection import train_test_split\n",
        "from plot_learning_curve import plot_learning_curve\n",
        "from sklearn.metrics import classification_report\n",
        "from sklearn.model_selection import GridSearchCV\n",
        "from  sklearn.compose import ColumnTransformer\n",
        "from sklearn.preprocessing import LabelEncoder\n",
        "from sklearn.metrics import roc_auc_score\n",
        "from featurizer import ManualFeatures\n",
        "from sklearn.pipeline import Pipeline\n",
        "from xgboost import XGBClassifier\n",
        "import custom_preprocessor as cp\n",
        "import pandas as pd\n",
        "import numpy as np\n",
        "import spacy\n",
        "import joblib"
      ],
      "metadata": {
        "id": "V69nqWIr9p0G"
      },
      "execution_count": null,
      "outputs": []
    },
    {
      "cell_type": "code",
      "source": [
        "df = pd.read_csv(data_folder / 'spam.csv', encoding='ISO-8859-1')"
      ],
      "metadata": {
        "id": "pVsLZuGW7ca2"
      },
      "execution_count": null,
      "outputs": []
    },
    {
      "cell_type": "code",
      "source": [
        "df.head()"
      ],
      "metadata": {
        "id": "oAJx2n5C7cX9",
        "colab": {
          "base_uri": "https://localhost:8080/",
          "height": 206
        },
        "outputId": "87b5fdb6-c508-4d57-9932-7129ce9f19b5"
      },
      "execution_count": null,
      "outputs": [
        {
          "output_type": "execute_result",
          "data": {
            "text/html": [
              "\n",
              "  <div id=\"df-5f4868be-e7e9-4f25-939a-fa71c826b1ce\">\n",
              "    <div class=\"colab-df-container\">\n",
              "      <div>\n",
              "<style scoped>\n",
              "    .dataframe tbody tr th:only-of-type {\n",
              "        vertical-align: middle;\n",
              "    }\n",
              "\n",
              "    .dataframe tbody tr th {\n",
              "        vertical-align: top;\n",
              "    }\n",
              "\n",
              "    .dataframe thead th {\n",
              "        text-align: right;\n",
              "    }\n",
              "</style>\n",
              "<table border=\"1\" class=\"dataframe\">\n",
              "  <thead>\n",
              "    <tr style=\"text-align: right;\">\n",
              "      <th></th>\n",
              "      <th>v1</th>\n",
              "      <th>v2</th>\n",
              "      <th>Unnamed: 2</th>\n",
              "      <th>Unnamed: 3</th>\n",
              "      <th>Unnamed: 4</th>\n",
              "    </tr>\n",
              "  </thead>\n",
              "  <tbody>\n",
              "    <tr>\n",
              "      <th>0</th>\n",
              "      <td>ham</td>\n",
              "      <td>Go until jurong point, crazy.. Available only ...</td>\n",
              "      <td>NaN</td>\n",
              "      <td>NaN</td>\n",
              "      <td>NaN</td>\n",
              "    </tr>\n",
              "    <tr>\n",
              "      <th>1</th>\n",
              "      <td>ham</td>\n",
              "      <td>Ok lar... Joking wif u oni...</td>\n",
              "      <td>NaN</td>\n",
              "      <td>NaN</td>\n",
              "      <td>NaN</td>\n",
              "    </tr>\n",
              "    <tr>\n",
              "      <th>2</th>\n",
              "      <td>spam</td>\n",
              "      <td>Free entry in 2 a wkly comp to win FA Cup fina...</td>\n",
              "      <td>NaN</td>\n",
              "      <td>NaN</td>\n",
              "      <td>NaN</td>\n",
              "    </tr>\n",
              "    <tr>\n",
              "      <th>3</th>\n",
              "      <td>ham</td>\n",
              "      <td>U dun say so early hor... U c already then say...</td>\n",
              "      <td>NaN</td>\n",
              "      <td>NaN</td>\n",
              "      <td>NaN</td>\n",
              "    </tr>\n",
              "    <tr>\n",
              "      <th>4</th>\n",
              "      <td>ham</td>\n",
              "      <td>Nah I don't think he goes to usf, he lives aro...</td>\n",
              "      <td>NaN</td>\n",
              "      <td>NaN</td>\n",
              "      <td>NaN</td>\n",
              "    </tr>\n",
              "  </tbody>\n",
              "</table>\n",
              "</div>\n",
              "      <button class=\"colab-df-convert\" onclick=\"convertToInteractive('df-5f4868be-e7e9-4f25-939a-fa71c826b1ce')\"\n",
              "              title=\"Convert this dataframe to an interactive table.\"\n",
              "              style=\"display:none;\">\n",
              "        \n",
              "  <svg xmlns=\"http://www.w3.org/2000/svg\" height=\"24px\"viewBox=\"0 0 24 24\"\n",
              "       width=\"24px\">\n",
              "    <path d=\"M0 0h24v24H0V0z\" fill=\"none\"/>\n",
              "    <path d=\"M18.56 5.44l.94 2.06.94-2.06 2.06-.94-2.06-.94-.94-2.06-.94 2.06-2.06.94zm-11 1L8.5 8.5l.94-2.06 2.06-.94-2.06-.94L8.5 2.5l-.94 2.06-2.06.94zm10 10l.94 2.06.94-2.06 2.06-.94-2.06-.94-.94-2.06-.94 2.06-2.06.94z\"/><path d=\"M17.41 7.96l-1.37-1.37c-.4-.4-.92-.59-1.43-.59-.52 0-1.04.2-1.43.59L10.3 9.45l-7.72 7.72c-.78.78-.78 2.05 0 2.83L4 21.41c.39.39.9.59 1.41.59.51 0 1.02-.2 1.41-.59l7.78-7.78 2.81-2.81c.8-.78.8-2.07 0-2.86zM5.41 20L4 18.59l7.72-7.72 1.47 1.35L5.41 20z\"/>\n",
              "  </svg>\n",
              "      </button>\n",
              "      \n",
              "  <style>\n",
              "    .colab-df-container {\n",
              "      display:flex;\n",
              "      flex-wrap:wrap;\n",
              "      gap: 12px;\n",
              "    }\n",
              "\n",
              "    .colab-df-convert {\n",
              "      background-color: #E8F0FE;\n",
              "      border: none;\n",
              "      border-radius: 50%;\n",
              "      cursor: pointer;\n",
              "      display: none;\n",
              "      fill: #1967D2;\n",
              "      height: 32px;\n",
              "      padding: 0 0 0 0;\n",
              "      width: 32px;\n",
              "    }\n",
              "\n",
              "    .colab-df-convert:hover {\n",
              "      background-color: #E2EBFA;\n",
              "      box-shadow: 0px 1px 2px rgba(60, 64, 67, 0.3), 0px 1px 3px 1px rgba(60, 64, 67, 0.15);\n",
              "      fill: #174EA6;\n",
              "    }\n",
              "\n",
              "    [theme=dark] .colab-df-convert {\n",
              "      background-color: #3B4455;\n",
              "      fill: #D2E3FC;\n",
              "    }\n",
              "\n",
              "    [theme=dark] .colab-df-convert:hover {\n",
              "      background-color: #434B5C;\n",
              "      box-shadow: 0px 1px 3px 1px rgba(0, 0, 0, 0.15);\n",
              "      filter: drop-shadow(0px 1px 2px rgba(0, 0, 0, 0.3));\n",
              "      fill: #FFFFFF;\n",
              "    }\n",
              "  </style>\n",
              "\n",
              "      <script>\n",
              "        const buttonEl =\n",
              "          document.querySelector('#df-5f4868be-e7e9-4f25-939a-fa71c826b1ce button.colab-df-convert');\n",
              "        buttonEl.style.display =\n",
              "          google.colab.kernel.accessAllowed ? 'block' : 'none';\n",
              "\n",
              "        async function convertToInteractive(key) {\n",
              "          const element = document.querySelector('#df-5f4868be-e7e9-4f25-939a-fa71c826b1ce');\n",
              "          const dataTable =\n",
              "            await google.colab.kernel.invokeFunction('convertToInteractive',\n",
              "                                                     [key], {});\n",
              "          if (!dataTable) return;\n",
              "\n",
              "          const docLinkHtml = 'Like what you see? Visit the ' +\n",
              "            '<a target=\"_blank\" href=https://colab.research.google.com/notebooks/data_table.ipynb>data table notebook</a>'\n",
              "            + ' to learn more about interactive tables.';\n",
              "          element.innerHTML = '';\n",
              "          dataTable['output_type'] = 'display_data';\n",
              "          await google.colab.output.renderOutput(dataTable, element);\n",
              "          const docLink = document.createElement('div');\n",
              "          docLink.innerHTML = docLinkHtml;\n",
              "          element.appendChild(docLink);\n",
              "        }\n",
              "      </script>\n",
              "    </div>\n",
              "  </div>\n",
              "  "
            ],
            "text/plain": [
              "     v1  ... Unnamed: 4\n",
              "0   ham  ...        NaN\n",
              "1   ham  ...        NaN\n",
              "2  spam  ...        NaN\n",
              "3   ham  ...        NaN\n",
              "4   ham  ...        NaN\n",
              "\n",
              "[5 rows x 5 columns]"
            ]
          },
          "metadata": {},
          "execution_count": 11
        }
      ]
    },
    {
      "cell_type": "code",
      "source": [
        "# Remove unnecessary columns\n",
        "df = df.loc[:, ~df.columns.str.contains('^Unnamed')]\n",
        "\n",
        "# Rename columns as label and message\n",
        "df.columns = ['label', 'message']\n",
        "df.head()"
      ],
      "metadata": {
        "colab": {
          "base_uri": "https://localhost:8080/",
          "height": 206
        },
        "id": "1pku_FDDBeOR",
        "outputId": "9587d08c-066c-4bfe-ddc2-8b0e9802721b"
      },
      "execution_count": null,
      "outputs": [
        {
          "output_type": "execute_result",
          "data": {
            "text/html": [
              "\n",
              "  <div id=\"df-0d0ccff0-283a-416f-80f5-c72a16ecbb4a\">\n",
              "    <div class=\"colab-df-container\">\n",
              "      <div>\n",
              "<style scoped>\n",
              "    .dataframe tbody tr th:only-of-type {\n",
              "        vertical-align: middle;\n",
              "    }\n",
              "\n",
              "    .dataframe tbody tr th {\n",
              "        vertical-align: top;\n",
              "    }\n",
              "\n",
              "    .dataframe thead th {\n",
              "        text-align: right;\n",
              "    }\n",
              "</style>\n",
              "<table border=\"1\" class=\"dataframe\">\n",
              "  <thead>\n",
              "    <tr style=\"text-align: right;\">\n",
              "      <th></th>\n",
              "      <th>label</th>\n",
              "      <th>message</th>\n",
              "    </tr>\n",
              "  </thead>\n",
              "  <tbody>\n",
              "    <tr>\n",
              "      <th>0</th>\n",
              "      <td>ham</td>\n",
              "      <td>Go until jurong point, crazy.. Available only ...</td>\n",
              "    </tr>\n",
              "    <tr>\n",
              "      <th>1</th>\n",
              "      <td>ham</td>\n",
              "      <td>Ok lar... Joking wif u oni...</td>\n",
              "    </tr>\n",
              "    <tr>\n",
              "      <th>2</th>\n",
              "      <td>spam</td>\n",
              "      <td>Free entry in 2 a wkly comp to win FA Cup fina...</td>\n",
              "    </tr>\n",
              "    <tr>\n",
              "      <th>3</th>\n",
              "      <td>ham</td>\n",
              "      <td>U dun say so early hor... U c already then say...</td>\n",
              "    </tr>\n",
              "    <tr>\n",
              "      <th>4</th>\n",
              "      <td>ham</td>\n",
              "      <td>Nah I don't think he goes to usf, he lives aro...</td>\n",
              "    </tr>\n",
              "  </tbody>\n",
              "</table>\n",
              "</div>\n",
              "      <button class=\"colab-df-convert\" onclick=\"convertToInteractive('df-0d0ccff0-283a-416f-80f5-c72a16ecbb4a')\"\n",
              "              title=\"Convert this dataframe to an interactive table.\"\n",
              "              style=\"display:none;\">\n",
              "        \n",
              "  <svg xmlns=\"http://www.w3.org/2000/svg\" height=\"24px\"viewBox=\"0 0 24 24\"\n",
              "       width=\"24px\">\n",
              "    <path d=\"M0 0h24v24H0V0z\" fill=\"none\"/>\n",
              "    <path d=\"M18.56 5.44l.94 2.06.94-2.06 2.06-.94-2.06-.94-.94-2.06-.94 2.06-2.06.94zm-11 1L8.5 8.5l.94-2.06 2.06-.94-2.06-.94L8.5 2.5l-.94 2.06-2.06.94zm10 10l.94 2.06.94-2.06 2.06-.94-2.06-.94-.94-2.06-.94 2.06-2.06.94z\"/><path d=\"M17.41 7.96l-1.37-1.37c-.4-.4-.92-.59-1.43-.59-.52 0-1.04.2-1.43.59L10.3 9.45l-7.72 7.72c-.78.78-.78 2.05 0 2.83L4 21.41c.39.39.9.59 1.41.59.51 0 1.02-.2 1.41-.59l7.78-7.78 2.81-2.81c.8-.78.8-2.07 0-2.86zM5.41 20L4 18.59l7.72-7.72 1.47 1.35L5.41 20z\"/>\n",
              "  </svg>\n",
              "      </button>\n",
              "      \n",
              "  <style>\n",
              "    .colab-df-container {\n",
              "      display:flex;\n",
              "      flex-wrap:wrap;\n",
              "      gap: 12px;\n",
              "    }\n",
              "\n",
              "    .colab-df-convert {\n",
              "      background-color: #E8F0FE;\n",
              "      border: none;\n",
              "      border-radius: 50%;\n",
              "      cursor: pointer;\n",
              "      display: none;\n",
              "      fill: #1967D2;\n",
              "      height: 32px;\n",
              "      padding: 0 0 0 0;\n",
              "      width: 32px;\n",
              "    }\n",
              "\n",
              "    .colab-df-convert:hover {\n",
              "      background-color: #E2EBFA;\n",
              "      box-shadow: 0px 1px 2px rgba(60, 64, 67, 0.3), 0px 1px 3px 1px rgba(60, 64, 67, 0.15);\n",
              "      fill: #174EA6;\n",
              "    }\n",
              "\n",
              "    [theme=dark] .colab-df-convert {\n",
              "      background-color: #3B4455;\n",
              "      fill: #D2E3FC;\n",
              "    }\n",
              "\n",
              "    [theme=dark] .colab-df-convert:hover {\n",
              "      background-color: #434B5C;\n",
              "      box-shadow: 0px 1px 3px 1px rgba(0, 0, 0, 0.15);\n",
              "      filter: drop-shadow(0px 1px 2px rgba(0, 0, 0, 0.3));\n",
              "      fill: #FFFFFF;\n",
              "    }\n",
              "  </style>\n",
              "\n",
              "      <script>\n",
              "        const buttonEl =\n",
              "          document.querySelector('#df-0d0ccff0-283a-416f-80f5-c72a16ecbb4a button.colab-df-convert');\n",
              "        buttonEl.style.display =\n",
              "          google.colab.kernel.accessAllowed ? 'block' : 'none';\n",
              "\n",
              "        async function convertToInteractive(key) {\n",
              "          const element = document.querySelector('#df-0d0ccff0-283a-416f-80f5-c72a16ecbb4a');\n",
              "          const dataTable =\n",
              "            await google.colab.kernel.invokeFunction('convertToInteractive',\n",
              "                                                     [key], {});\n",
              "          if (!dataTable) return;\n",
              "\n",
              "          const docLinkHtml = 'Like what you see? Visit the ' +\n",
              "            '<a target=\"_blank\" href=https://colab.research.google.com/notebooks/data_table.ipynb>data table notebook</a>'\n",
              "            + ' to learn more about interactive tables.';\n",
              "          element.innerHTML = '';\n",
              "          dataTable['output_type'] = 'display_data';\n",
              "          await google.colab.output.renderOutput(dataTable, element);\n",
              "          const docLink = document.createElement('div');\n",
              "          docLink.innerHTML = docLinkHtml;\n",
              "          element.appendChild(docLink);\n",
              "        }\n",
              "      </script>\n",
              "    </div>\n",
              "  </div>\n",
              "  "
            ],
            "text/plain": [
              "  label                                            message\n",
              "0   ham  Go until jurong point, crazy.. Available only ...\n",
              "1   ham                      Ok lar... Joking wif u oni...\n",
              "2  spam  Free entry in 2 a wkly comp to win FA Cup fina...\n",
              "3   ham  U dun say so early hor... U c already then say...\n",
              "4   ham  Nah I don't think he goes to usf, he lives aro..."
            ]
          },
          "metadata": {},
          "execution_count": 12
        }
      ]
    },
    {
      "cell_type": "code",
      "source": [
        "# Find % ham amd spam in the data.\n",
        "percent = df['label'].value_counts(normalize=True)*100\n",
        "pd.DataFrame({\"percentage\":percent})"
      ],
      "metadata": {
        "colab": {
          "base_uri": "https://localhost:8080/",
          "height": 112
        },
        "id": "7xW6JkvMCwlK",
        "outputId": "5b5f9b65-6e5b-4b08-a43a-fb6d174efc44"
      },
      "execution_count": null,
      "outputs": [
        {
          "output_type": "execute_result",
          "data": {
            "text/html": [
              "\n",
              "  <div id=\"df-52ec0702-0f1f-4a8f-be81-57b4c15ccf3e\">\n",
              "    <div class=\"colab-df-container\">\n",
              "      <div>\n",
              "<style scoped>\n",
              "    .dataframe tbody tr th:only-of-type {\n",
              "        vertical-align: middle;\n",
              "    }\n",
              "\n",
              "    .dataframe tbody tr th {\n",
              "        vertical-align: top;\n",
              "    }\n",
              "\n",
              "    .dataframe thead th {\n",
              "        text-align: right;\n",
              "    }\n",
              "</style>\n",
              "<table border=\"1\" class=\"dataframe\">\n",
              "  <thead>\n",
              "    <tr style=\"text-align: right;\">\n",
              "      <th></th>\n",
              "      <th>percentage</th>\n",
              "    </tr>\n",
              "  </thead>\n",
              "  <tbody>\n",
              "    <tr>\n",
              "      <th>ham</th>\n",
              "      <td>86.593683</td>\n",
              "    </tr>\n",
              "    <tr>\n",
              "      <th>spam</th>\n",
              "      <td>13.406317</td>\n",
              "    </tr>\n",
              "  </tbody>\n",
              "</table>\n",
              "</div>\n",
              "      <button class=\"colab-df-convert\" onclick=\"convertToInteractive('df-52ec0702-0f1f-4a8f-be81-57b4c15ccf3e')\"\n",
              "              title=\"Convert this dataframe to an interactive table.\"\n",
              "              style=\"display:none;\">\n",
              "        \n",
              "  <svg xmlns=\"http://www.w3.org/2000/svg\" height=\"24px\"viewBox=\"0 0 24 24\"\n",
              "       width=\"24px\">\n",
              "    <path d=\"M0 0h24v24H0V0z\" fill=\"none\"/>\n",
              "    <path d=\"M18.56 5.44l.94 2.06.94-2.06 2.06-.94-2.06-.94-.94-2.06-.94 2.06-2.06.94zm-11 1L8.5 8.5l.94-2.06 2.06-.94-2.06-.94L8.5 2.5l-.94 2.06-2.06.94zm10 10l.94 2.06.94-2.06 2.06-.94-2.06-.94-.94-2.06-.94 2.06-2.06.94z\"/><path d=\"M17.41 7.96l-1.37-1.37c-.4-.4-.92-.59-1.43-.59-.52 0-1.04.2-1.43.59L10.3 9.45l-7.72 7.72c-.78.78-.78 2.05 0 2.83L4 21.41c.39.39.9.59 1.41.59.51 0 1.02-.2 1.41-.59l7.78-7.78 2.81-2.81c.8-.78.8-2.07 0-2.86zM5.41 20L4 18.59l7.72-7.72 1.47 1.35L5.41 20z\"/>\n",
              "  </svg>\n",
              "      </button>\n",
              "      \n",
              "  <style>\n",
              "    .colab-df-container {\n",
              "      display:flex;\n",
              "      flex-wrap:wrap;\n",
              "      gap: 12px;\n",
              "    }\n",
              "\n",
              "    .colab-df-convert {\n",
              "      background-color: #E8F0FE;\n",
              "      border: none;\n",
              "      border-radius: 50%;\n",
              "      cursor: pointer;\n",
              "      display: none;\n",
              "      fill: #1967D2;\n",
              "      height: 32px;\n",
              "      padding: 0 0 0 0;\n",
              "      width: 32px;\n",
              "    }\n",
              "\n",
              "    .colab-df-convert:hover {\n",
              "      background-color: #E2EBFA;\n",
              "      box-shadow: 0px 1px 2px rgba(60, 64, 67, 0.3), 0px 1px 3px 1px rgba(60, 64, 67, 0.15);\n",
              "      fill: #174EA6;\n",
              "    }\n",
              "\n",
              "    [theme=dark] .colab-df-convert {\n",
              "      background-color: #3B4455;\n",
              "      fill: #D2E3FC;\n",
              "    }\n",
              "\n",
              "    [theme=dark] .colab-df-convert:hover {\n",
              "      background-color: #434B5C;\n",
              "      box-shadow: 0px 1px 3px 1px rgba(0, 0, 0, 0.15);\n",
              "      filter: drop-shadow(0px 1px 2px rgba(0, 0, 0, 0.3));\n",
              "      fill: #FFFFFF;\n",
              "    }\n",
              "  </style>\n",
              "\n",
              "      <script>\n",
              "        const buttonEl =\n",
              "          document.querySelector('#df-52ec0702-0f1f-4a8f-be81-57b4c15ccf3e button.colab-df-convert');\n",
              "        buttonEl.style.display =\n",
              "          google.colab.kernel.accessAllowed ? 'block' : 'none';\n",
              "\n",
              "        async function convertToInteractive(key) {\n",
              "          const element = document.querySelector('#df-52ec0702-0f1f-4a8f-be81-57b4c15ccf3e');\n",
              "          const dataTable =\n",
              "            await google.colab.kernel.invokeFunction('convertToInteractive',\n",
              "                                                     [key], {});\n",
              "          if (!dataTable) return;\n",
              "\n",
              "          const docLinkHtml = 'Like what you see? Visit the ' +\n",
              "            '<a target=\"_blank\" href=https://colab.research.google.com/notebooks/data_table.ipynb>data table notebook</a>'\n",
              "            + ' to learn more about interactive tables.';\n",
              "          element.innerHTML = '';\n",
              "          dataTable['output_type'] = 'display_data';\n",
              "          await google.colab.output.renderOutput(dataTable, element);\n",
              "          const docLink = document.createElement('div');\n",
              "          docLink.innerHTML = docLinkHtml;\n",
              "          element.appendChild(docLink);\n",
              "        }\n",
              "      </script>\n",
              "    </div>\n",
              "  </div>\n",
              "  "
            ],
            "text/plain": [
              "      percentage\n",
              "ham    86.593683\n",
              "spam   13.406317"
            ]
          },
          "metadata": {},
          "execution_count": 13
        }
      ]
    },
    {
      "cell_type": "markdown",
      "metadata": {
        "id": "pNdWCViagO4F"
      },
      "source": [
        "# Q2 : Provide the metric for evaluating model (1 Point)\n",
        "As you will notice, the  data is highly imbalanced (most messages are labelled as ham and only few are labelled as spam). Always predicting ham will give us very good accuracy (close to 90%). So you need to choose a different metric.\n",
        "\n",
        "Task: Provde the metric you will choose to evaluate your model. Explain why this is an appropriate metric for this case."
      ]
    },
    {
      "cell_type": "markdown",
      "source": [
        "**Answer:**\n",
        "> *In spam detection, if an important email were marked as spam (which is positive \n",
        "in this case) when it actually isn’t, this could be disastrous it would be missed. Therefore, it would be more important to control for, or prevent, false positives, since it would be better to have spam in inbox than it would be to have an important email in spam. As the emphasis is on controlling for false positives, its better to rely on precision. Also since this is a highly imbalanced dataset, precision is the chosen primary evaluation criterion and roc_auc is used as supporting evaluation criterion*"
      ],
      "metadata": {
        "id": "Q8uhYrpGU5S9"
      }
    },
    {
      "cell_type": "markdown",
      "metadata": {
        "id": "rH8_mvGhiThV"
      },
      "source": [
        "# Q3 : Classification Pipelines (18 Points)\n",
        "\n",
        "In the previous lectures you learned Data processing, Featurization such as CountVectorizer, TFIDFVectorizer, and also Feature Engineering.\n",
        "* You will now use folllowing methods to create fearures which you can use in your model. \n",
        "\n",
        "    1. Sparse Embeddings (TF-IDF) (6 Points)\n",
        "    2. Feature Engineering (see examples below) (6 Points)\n",
        "    3. Sparse Embeddings (TF-IDF) + Feature Engineering (6 Points)\n",
        "\n",
        "**Approach:**\n",
        "\n",
        "**Use a smaller subset of dataset (recommended 40 %) to evaluate the three pipelines . Based on your analysis (e.g. model score, learning curves) , choose one pipeline from the three. Provde your rational for choosing the pipleine. Train only the final pipeline on complete data.**\n",
        "\n",
        "**Requirements:** \n",
        "\n",
        "1. You will use XgBoost model for the classification. You will need to tune the **XGBoost for imbalanced dataset** (If you have never used XGBoost before , here is the link on XGBoost tutorial for imbalanced data: https://machinelearningmastery.com/xgboost-for-imbalanced-classification/).\n",
        "\n",
        "2. For feature engineering, you can choose from the examples below. You do not  have to use all of them. You can add other featues as well. Think about what faetures can distinguish a spam from a regular email. Some examples :\n",
        "\n",
        ">> Count of following  (Words, characters, digits, exclamation marks, numbers, Nouns, ProperNouns, AUX, VERBS, Adjectives, named entities, spelling mistakes (see the link on how to get spelling mistakes https://pypi.org/project/pyspellchecker/). \n",
        "\n",
        "3. For Sparse embeddings you will use **tfidf vectorization**. You need to choose appopriate parameters e.g. min_df, max_df, max_faetures, n-grams etc.). \n",
        "\n",
        "4. Think carefully about teh pre-processing you will do.\n",
        "\n",
        "Tip: <font color = 'red'>**Using GridSearch for hyperparameter tuning might take a lot of time. Try using RandomizedSearch.**</font> You can also explore faster implementation of Gridsearch and RandomizedSearch in sklearn: \n",
        "\n",
        "1. [Halving Grid Search](https://scikit-learn.org/stable/modules/generated/sklearn.model_selection.HalvingGridSearchCV.html?highlight=halving#sklearn.model_selection.HalvingGridSearchCV)\n",
        "\n",
        "2. [HalvingRandomSearchCV](https://scikit-learn.org/stable/modules/generated/sklearn.model_selection.HalvingRandomSearchCV.html?highlight=halving#sklearn.model_selection.HalvingRandomSearchCV)\n",
        "\n",
        "\n",
        "\n"
      ]
    },
    {
      "cell_type": "code",
      "source": [
        "# load spacy model\n",
        "nlp = spacy.load('en_core_web_sm')"
      ],
      "metadata": {
        "id": "lzlH8qFdHQfB"
      },
      "execution_count": null,
      "outputs": []
    },
    {
      "cell_type": "code",
      "source": [
        "# Sampled 80% of the data w/o replacement\n",
        "df_frac = df.sample(frac=0.8, random_state=42)"
      ],
      "metadata": {
        "id": "vZ9A70A1iJHg"
      },
      "execution_count": null,
      "outputs": []
    },
    {
      "cell_type": "code",
      "source": [
        "# Sampled 40% each for train and test from abv 80% w/o replacement thereby avoiding data leakage\n",
        "df_train = df_frac.sample(frac=0.5, replace=False, random_state=42)\n",
        "df_test = df_frac.drop(df_train.index)"
      ],
      "metadata": {
        "id": "4J0P6C1Ifl69"
      },
      "execution_count": null,
      "outputs": []
    },
    {
      "cell_type": "code",
      "source": [
        "df_train.info()\n",
        "df_test.info()"
      ],
      "metadata": {
        "colab": {
          "base_uri": "https://localhost:8080/"
        },
        "id": "Bft71e11pWPM",
        "outputId": "34c205d4-0b9b-4a1c-c47f-42c1f2f60d35"
      },
      "execution_count": null,
      "outputs": [
        {
          "output_type": "stream",
          "name": "stdout",
          "text": [
            "<class 'pandas.core.frame.DataFrame'>\n",
            "Int64Index: 2229 entries, 3181 to 1328\n",
            "Data columns (total 2 columns):\n",
            " #   Column   Non-Null Count  Dtype \n",
            "---  ------   --------------  ----- \n",
            " 0   label    2229 non-null   object\n",
            " 1   message  2229 non-null   object\n",
            "dtypes: object(2)\n",
            "memory usage: 52.2+ KB\n",
            "<class 'pandas.core.frame.DataFrame'>\n",
            "Int64Index: 2229 entries, 944 to 3186\n",
            "Data columns (total 2 columns):\n",
            " #   Column   Non-Null Count  Dtype \n",
            "---  ------   --------------  ----- \n",
            " 0   label    2229 non-null   object\n",
            " 1   message  2229 non-null   object\n",
            "dtypes: object(2)\n",
            "memory usage: 52.2+ KB\n"
          ]
        }
      ]
    },
    {
      "cell_type": "code",
      "source": [
        "# Encode labels as 0 and 1\n",
        "le = LabelEncoder()\n",
        "le.fit(df_train['label'])\n",
        "\n",
        "df_train['label_encoded'] = le.transform(df_train['label'])\n",
        "df_test['label_encoded'] = le.transform(df_test['label'])"
      ],
      "metadata": {
        "id": "rQgxRy52iSWN"
      },
      "execution_count": null,
      "outputs": []
    },
    {
      "cell_type": "code",
      "source": [
        "df_train.head()"
      ],
      "metadata": {
        "colab": {
          "base_uri": "https://localhost:8080/",
          "height": 206
        },
        "id": "HqtqXB1ricYo",
        "outputId": "42936971-1651-4689-d2df-4eeef922ef47"
      },
      "execution_count": null,
      "outputs": [
        {
          "output_type": "execute_result",
          "data": {
            "text/html": [
              "\n",
              "  <div id=\"df-7377e768-572e-43bc-bbea-99b6872f4218\">\n",
              "    <div class=\"colab-df-container\">\n",
              "      <div>\n",
              "<style scoped>\n",
              "    .dataframe tbody tr th:only-of-type {\n",
              "        vertical-align: middle;\n",
              "    }\n",
              "\n",
              "    .dataframe tbody tr th {\n",
              "        vertical-align: top;\n",
              "    }\n",
              "\n",
              "    .dataframe thead th {\n",
              "        text-align: right;\n",
              "    }\n",
              "</style>\n",
              "<table border=\"1\" class=\"dataframe\">\n",
              "  <thead>\n",
              "    <tr style=\"text-align: right;\">\n",
              "      <th></th>\n",
              "      <th>label</th>\n",
              "      <th>message</th>\n",
              "      <th>label_encoded</th>\n",
              "    </tr>\n",
              "  </thead>\n",
              "  <tbody>\n",
              "    <tr>\n",
              "      <th>3181</th>\n",
              "      <td>ham</td>\n",
              "      <td>My Parents, My Kidz, My Friends n My Colleague...</td>\n",
              "      <td>0</td>\n",
              "    </tr>\n",
              "    <tr>\n",
              "      <th>4834</th>\n",
              "      <td>ham</td>\n",
              "      <td>OH RITE. WELL IM WITH MY BEST MATE PETE, WHO I...</td>\n",
              "      <td>0</td>\n",
              "    </tr>\n",
              "    <tr>\n",
              "      <th>2042</th>\n",
              "      <td>ham</td>\n",
              "      <td>Me not waking up until 4 in the afternoon, sup</td>\n",
              "      <td>0</td>\n",
              "    </tr>\n",
              "    <tr>\n",
              "      <th>3064</th>\n",
              "      <td>ham</td>\n",
              "      <td>Sounds good, keep me posted</td>\n",
              "      <td>0</td>\n",
              "    </tr>\n",
              "    <tr>\n",
              "      <th>2885</th>\n",
              "      <td>ham</td>\n",
              "      <td>No probs hon! How u doinat the mo?</td>\n",
              "      <td>0</td>\n",
              "    </tr>\n",
              "  </tbody>\n",
              "</table>\n",
              "</div>\n",
              "      <button class=\"colab-df-convert\" onclick=\"convertToInteractive('df-7377e768-572e-43bc-bbea-99b6872f4218')\"\n",
              "              title=\"Convert this dataframe to an interactive table.\"\n",
              "              style=\"display:none;\">\n",
              "        \n",
              "  <svg xmlns=\"http://www.w3.org/2000/svg\" height=\"24px\"viewBox=\"0 0 24 24\"\n",
              "       width=\"24px\">\n",
              "    <path d=\"M0 0h24v24H0V0z\" fill=\"none\"/>\n",
              "    <path d=\"M18.56 5.44l.94 2.06.94-2.06 2.06-.94-2.06-.94-.94-2.06-.94 2.06-2.06.94zm-11 1L8.5 8.5l.94-2.06 2.06-.94-2.06-.94L8.5 2.5l-.94 2.06-2.06.94zm10 10l.94 2.06.94-2.06 2.06-.94-2.06-.94-.94-2.06-.94 2.06-2.06.94z\"/><path d=\"M17.41 7.96l-1.37-1.37c-.4-.4-.92-.59-1.43-.59-.52 0-1.04.2-1.43.59L10.3 9.45l-7.72 7.72c-.78.78-.78 2.05 0 2.83L4 21.41c.39.39.9.59 1.41.59.51 0 1.02-.2 1.41-.59l7.78-7.78 2.81-2.81c.8-.78.8-2.07 0-2.86zM5.41 20L4 18.59l7.72-7.72 1.47 1.35L5.41 20z\"/>\n",
              "  </svg>\n",
              "      </button>\n",
              "      \n",
              "  <style>\n",
              "    .colab-df-container {\n",
              "      display:flex;\n",
              "      flex-wrap:wrap;\n",
              "      gap: 12px;\n",
              "    }\n",
              "\n",
              "    .colab-df-convert {\n",
              "      background-color: #E8F0FE;\n",
              "      border: none;\n",
              "      border-radius: 50%;\n",
              "      cursor: pointer;\n",
              "      display: none;\n",
              "      fill: #1967D2;\n",
              "      height: 32px;\n",
              "      padding: 0 0 0 0;\n",
              "      width: 32px;\n",
              "    }\n",
              "\n",
              "    .colab-df-convert:hover {\n",
              "      background-color: #E2EBFA;\n",
              "      box-shadow: 0px 1px 2px rgba(60, 64, 67, 0.3), 0px 1px 3px 1px rgba(60, 64, 67, 0.15);\n",
              "      fill: #174EA6;\n",
              "    }\n",
              "\n",
              "    [theme=dark] .colab-df-convert {\n",
              "      background-color: #3B4455;\n",
              "      fill: #D2E3FC;\n",
              "    }\n",
              "\n",
              "    [theme=dark] .colab-df-convert:hover {\n",
              "      background-color: #434B5C;\n",
              "      box-shadow: 0px 1px 3px 1px rgba(0, 0, 0, 0.15);\n",
              "      filter: drop-shadow(0px 1px 2px rgba(0, 0, 0, 0.3));\n",
              "      fill: #FFFFFF;\n",
              "    }\n",
              "  </style>\n",
              "\n",
              "      <script>\n",
              "        const buttonEl =\n",
              "          document.querySelector('#df-7377e768-572e-43bc-bbea-99b6872f4218 button.colab-df-convert');\n",
              "        buttonEl.style.display =\n",
              "          google.colab.kernel.accessAllowed ? 'block' : 'none';\n",
              "\n",
              "        async function convertToInteractive(key) {\n",
              "          const element = document.querySelector('#df-7377e768-572e-43bc-bbea-99b6872f4218');\n",
              "          const dataTable =\n",
              "            await google.colab.kernel.invokeFunction('convertToInteractive',\n",
              "                                                     [key], {});\n",
              "          if (!dataTable) return;\n",
              "\n",
              "          const docLinkHtml = 'Like what you see? Visit the ' +\n",
              "            '<a target=\"_blank\" href=https://colab.research.google.com/notebooks/data_table.ipynb>data table notebook</a>'\n",
              "            + ' to learn more about interactive tables.';\n",
              "          element.innerHTML = '';\n",
              "          dataTable['output_type'] = 'display_data';\n",
              "          await google.colab.output.renderOutput(dataTable, element);\n",
              "          const docLink = document.createElement('div');\n",
              "          docLink.innerHTML = docLinkHtml;\n",
              "          element.appendChild(docLink);\n",
              "        }\n",
              "      </script>\n",
              "    </div>\n",
              "  </div>\n",
              "  "
            ],
            "text/plain": [
              "     label                                            message  label_encoded\n",
              "3181   ham  My Parents, My Kidz, My Friends n My Colleague...              0\n",
              "4834   ham  OH RITE. WELL IM WITH MY BEST MATE PETE, WHO I...              0\n",
              "2042   ham     Me not waking up until 4 in the afternoon, sup              0\n",
              "3064   ham                        Sounds good, keep me posted              0\n",
              "2885   ham                 No probs hon! How u doinat the mo?              0"
            ]
          },
          "metadata": {},
          "execution_count": 38
        }
      ]
    },
    {
      "cell_type": "code",
      "source": [
        "df_test.head()"
      ],
      "metadata": {
        "colab": {
          "base_uri": "https://localhost:8080/",
          "height": 206
        },
        "id": "SVrfl9cJp0kF",
        "outputId": "c0d073ad-65b6-4f89-d766-9645a2c666c6"
      },
      "execution_count": null,
      "outputs": [
        {
          "output_type": "execute_result",
          "data": {
            "text/html": [
              "\n",
              "  <div id=\"df-db8bf2c1-dd72-4bc6-9229-2fdd897057bf\">\n",
              "    <div class=\"colab-df-container\">\n",
              "      <div>\n",
              "<style scoped>\n",
              "    .dataframe tbody tr th:only-of-type {\n",
              "        vertical-align: middle;\n",
              "    }\n",
              "\n",
              "    .dataframe tbody tr th {\n",
              "        vertical-align: top;\n",
              "    }\n",
              "\n",
              "    .dataframe thead th {\n",
              "        text-align: right;\n",
              "    }\n",
              "</style>\n",
              "<table border=\"1\" class=\"dataframe\">\n",
              "  <thead>\n",
              "    <tr style=\"text-align: right;\">\n",
              "      <th></th>\n",
              "      <th>label</th>\n",
              "      <th>message</th>\n",
              "      <th>label_encoded</th>\n",
              "    </tr>\n",
              "  </thead>\n",
              "  <tbody>\n",
              "    <tr>\n",
              "      <th>944</th>\n",
              "      <td>ham</td>\n",
              "      <td>I sent my scores to sophas and i had to do sec...</td>\n",
              "      <td>0</td>\n",
              "    </tr>\n",
              "    <tr>\n",
              "      <th>1044</th>\n",
              "      <td>spam</td>\n",
              "      <td>We know someone who you know that fancies you....</td>\n",
              "      <td>1</td>\n",
              "    </tr>\n",
              "    <tr>\n",
              "      <th>2484</th>\n",
              "      <td>ham</td>\n",
              "      <td>Only if you promise your getting out as SOON a...</td>\n",
              "      <td>0</td>\n",
              "    </tr>\n",
              "    <tr>\n",
              "      <th>812</th>\n",
              "      <td>spam</td>\n",
              "      <td>Congratulations ur awarded either å£500 of CD ...</td>\n",
              "      <td>1</td>\n",
              "    </tr>\n",
              "    <tr>\n",
              "      <th>2973</th>\n",
              "      <td>ham</td>\n",
              "      <td>I'll text carlos and let you know, hang on</td>\n",
              "      <td>0</td>\n",
              "    </tr>\n",
              "  </tbody>\n",
              "</table>\n",
              "</div>\n",
              "      <button class=\"colab-df-convert\" onclick=\"convertToInteractive('df-db8bf2c1-dd72-4bc6-9229-2fdd897057bf')\"\n",
              "              title=\"Convert this dataframe to an interactive table.\"\n",
              "              style=\"display:none;\">\n",
              "        \n",
              "  <svg xmlns=\"http://www.w3.org/2000/svg\" height=\"24px\"viewBox=\"0 0 24 24\"\n",
              "       width=\"24px\">\n",
              "    <path d=\"M0 0h24v24H0V0z\" fill=\"none\"/>\n",
              "    <path d=\"M18.56 5.44l.94 2.06.94-2.06 2.06-.94-2.06-.94-.94-2.06-.94 2.06-2.06.94zm-11 1L8.5 8.5l.94-2.06 2.06-.94-2.06-.94L8.5 2.5l-.94 2.06-2.06.94zm10 10l.94 2.06.94-2.06 2.06-.94-2.06-.94-.94-2.06-.94 2.06-2.06.94z\"/><path d=\"M17.41 7.96l-1.37-1.37c-.4-.4-.92-.59-1.43-.59-.52 0-1.04.2-1.43.59L10.3 9.45l-7.72 7.72c-.78.78-.78 2.05 0 2.83L4 21.41c.39.39.9.59 1.41.59.51 0 1.02-.2 1.41-.59l7.78-7.78 2.81-2.81c.8-.78.8-2.07 0-2.86zM5.41 20L4 18.59l7.72-7.72 1.47 1.35L5.41 20z\"/>\n",
              "  </svg>\n",
              "      </button>\n",
              "      \n",
              "  <style>\n",
              "    .colab-df-container {\n",
              "      display:flex;\n",
              "      flex-wrap:wrap;\n",
              "      gap: 12px;\n",
              "    }\n",
              "\n",
              "    .colab-df-convert {\n",
              "      background-color: #E8F0FE;\n",
              "      border: none;\n",
              "      border-radius: 50%;\n",
              "      cursor: pointer;\n",
              "      display: none;\n",
              "      fill: #1967D2;\n",
              "      height: 32px;\n",
              "      padding: 0 0 0 0;\n",
              "      width: 32px;\n",
              "    }\n",
              "\n",
              "    .colab-df-convert:hover {\n",
              "      background-color: #E2EBFA;\n",
              "      box-shadow: 0px 1px 2px rgba(60, 64, 67, 0.3), 0px 1px 3px 1px rgba(60, 64, 67, 0.15);\n",
              "      fill: #174EA6;\n",
              "    }\n",
              "\n",
              "    [theme=dark] .colab-df-convert {\n",
              "      background-color: #3B4455;\n",
              "      fill: #D2E3FC;\n",
              "    }\n",
              "\n",
              "    [theme=dark] .colab-df-convert:hover {\n",
              "      background-color: #434B5C;\n",
              "      box-shadow: 0px 1px 3px 1px rgba(0, 0, 0, 0.15);\n",
              "      filter: drop-shadow(0px 1px 2px rgba(0, 0, 0, 0.3));\n",
              "      fill: #FFFFFF;\n",
              "    }\n",
              "  </style>\n",
              "\n",
              "      <script>\n",
              "        const buttonEl =\n",
              "          document.querySelector('#df-db8bf2c1-dd72-4bc6-9229-2fdd897057bf button.colab-df-convert');\n",
              "        buttonEl.style.display =\n",
              "          google.colab.kernel.accessAllowed ? 'block' : 'none';\n",
              "\n",
              "        async function convertToInteractive(key) {\n",
              "          const element = document.querySelector('#df-db8bf2c1-dd72-4bc6-9229-2fdd897057bf');\n",
              "          const dataTable =\n",
              "            await google.colab.kernel.invokeFunction('convertToInteractive',\n",
              "                                                     [key], {});\n",
              "          if (!dataTable) return;\n",
              "\n",
              "          const docLinkHtml = 'Like what you see? Visit the ' +\n",
              "            '<a target=\"_blank\" href=https://colab.research.google.com/notebooks/data_table.ipynb>data table notebook</a>'\n",
              "            + ' to learn more about interactive tables.';\n",
              "          element.innerHTML = '';\n",
              "          dataTable['output_type'] = 'display_data';\n",
              "          await google.colab.output.renderOutput(dataTable, element);\n",
              "          const docLink = document.createElement('div');\n",
              "          docLink.innerHTML = docLinkHtml;\n",
              "          element.appendChild(docLink);\n",
              "        }\n",
              "      </script>\n",
              "    </div>\n",
              "  </div>\n",
              "  "
            ],
            "text/plain": [
              "     label                                            message  label_encoded\n",
              "944    ham  I sent my scores to sophas and i had to do sec...              0\n",
              "1044  spam  We know someone who you know that fancies you....              1\n",
              "2484   ham  Only if you promise your getting out as SOON a...              0\n",
              "812   spam  Congratulations ur awarded either å£500 of CD ...              1\n",
              "2973   ham         I'll text carlos and let you know, hang on              0"
            ]
          },
          "metadata": {},
          "execution_count": 39
        }
      ]
    },
    {
      "cell_type": "code",
      "source": [
        "df_frac['label'].value_counts()"
      ],
      "metadata": {
        "colab": {
          "base_uri": "https://localhost:8080/"
        },
        "id": "_FMivPMexOK_",
        "outputId": "a21deb5d-9595-4a5c-bb3a-efdfe63eb5c0"
      },
      "execution_count": null,
      "outputs": [
        {
          "output_type": "execute_result",
          "data": {
            "text/plain": [
              "ham     3868\n",
              "spam     590\n",
              "Name: label, dtype: int64"
            ]
          },
          "metadata": {},
          "execution_count": 40
        }
      ]
    },
    {
      "cell_type": "code",
      "source": [
        "df_train['label'].value_counts()"
      ],
      "metadata": {
        "colab": {
          "base_uri": "https://localhost:8080/"
        },
        "id": "te2o3aO5p7FX",
        "outputId": "5ab4dcdd-fbd9-41c3-f47b-db524eee09b5"
      },
      "execution_count": null,
      "outputs": [
        {
          "output_type": "execute_result",
          "data": {
            "text/plain": [
              "ham     1929\n",
              "spam     300\n",
              "Name: label, dtype: int64"
            ]
          },
          "metadata": {},
          "execution_count": 41
        }
      ]
    },
    {
      "cell_type": "code",
      "source": [
        "df_test['label'].value_counts()"
      ],
      "metadata": {
        "colab": {
          "base_uri": "https://localhost:8080/"
        },
        "id": "_AKMlrnhp7B7",
        "outputId": "6cb556ec-2ca2-47b8-8270-65ac6f375208"
      },
      "execution_count": null,
      "outputs": [
        {
          "output_type": "execute_result",
          "data": {
            "text/plain": [
              "ham     1939\n",
              "spam     290\n",
              "Name: label, dtype: int64"
            ]
          },
          "metadata": {},
          "execution_count": 42
        }
      ]
    },
    {
      "cell_type": "code",
      "source": [
        "X_train, y_train, X_test, y_test = df_train['message'].values, df_train['label_encoded'].values, df_test['message'].values, df_test['label_encoded'].values"
      ],
      "metadata": {
        "id": "Hs8jD2jsw1GQ"
      },
      "execution_count": null,
      "outputs": []
    },
    {
      "cell_type": "code",
      "source": [
        "print(f'X_train: {X_train.shape} y_train: {y_train.shape}')\n",
        "print(f'X_test: {X_test.shape} y_test: {y_test.shape}')"
      ],
      "metadata": {
        "colab": {
          "base_uri": "https://localhost:8080/"
        },
        "id": "nWoAHd9d05wl",
        "outputId": "36b6c105-93fe-4905-afa5-1e808f4cde2d"
      },
      "execution_count": null,
      "outputs": [
        {
          "output_type": "stream",
          "name": "stdout",
          "text": [
            "X_train: (2229,) y_train: (2229,)\n",
            "X_test: (2229,) y_test: (2229,)\n"
          ]
        }
      ]
    },
    {
      "cell_type": "markdown",
      "source": [
        "Lets analyze following 3 pipelines\n",
        "- Data Preprocessing + Sparse Embeddings (TF-IDF) + ML Model pipeline\n",
        "- Feature Engineering + ML Model pipeline\n",
        "- Feature Engineering + Data Preprocessing + Sparse Embeddings(TF-IDF) + ML Model pipeline\n",
        "\n"
      ],
      "metadata": {
        "id": "XO2fRPLKoTnr"
      }
    },
    {
      "cell_type": "markdown",
      "source": [
        "**1. Data Preprocessing + Sparse Embeddings + ML Model pipeline**\n",
        "\n",
        "* Used TF_IDF vectorizer for sparse embeddings\n",
        "* Used Weighted XGBoost Classifier as ML Model to address class imbalance"
      ],
      "metadata": {
        "id": "HA5-Y5NFHnQA"
      }
    },
    {
      "cell_type": "code",
      "source": [
        "# Change all words to lowercase\n",
        "# Remove stop words, punctuations, URLs\n",
        "# Lammetize words\n",
        "X_train_cleaned = cp.SpacyPreprocessor(model = 'en_core_web_sm', lower=True, remove_stop=True, remove_punct=True, remove_url=True, lammetize=True).transform(X_train)"
      ],
      "metadata": {
        "id": "Wlm7vmhMXeof"
      },
      "execution_count": null,
      "outputs": []
    },
    {
      "cell_type": "code",
      "source": [
        "classifier_1 = Pipeline([('vectorizer', TfidfVectorizer(analyzer='word', token_pattern=r\"[\\S]+\")),\n",
        "                         ('classifier', XGBClassifier()),])"
      ],
      "metadata": {
        "id": "nrBp728wiI9T"
      },
      "execution_count": null,
      "outputs": []
    },
    {
      "cell_type": "code",
      "source": [
        "weights    = [1, 10, 25, 50, 75, 99, 100, 1000]\n",
        "\n",
        "param_dist = {\n",
        "              \"classifier__max_depth\": [2,3,4,5,6],\n",
        "              \"classifier__learning_rate\":[0.01,0.02,0.03,0.05,0.1,0.3,0.5],\n",
        "              \"classifier__reg_alpha\":[1e-5, 1e-2, 0.1, 1, 100],\n",
        "              \"classifier__gamma\":[i/10.0 for i in range(0,5)],\n",
        "              \"classifier__n_estimators\":[100,500,700,1000],\n",
        "              \"classifier__scale_pos_weight\":weights,\n",
        "              'classifier__max_delta_step': range(1,10,1),\n",
        "              'vectorizer__ngram_range': ((1, 1), (1, 2), (1,3)),\n",
        "              'vectorizer__max_features': [None, 500, 800, 1000, 1500, 2000],\n",
        "              'vectorizer__max_df': [0.8, 0.6, 0.4, 0.2]\n",
        "              }"
      ],
      "metadata": {
        "id": "qiJ1Z6xEiI6y"
      },
      "execution_count": null,
      "outputs": []
    },
    {
      "cell_type": "code",
      "source": [
        "randomized_classifier_1 = RandomizedSearchCV(estimator=classifier_1, param_distributions=param_dist, cv = 5, scoring=\"precision\", n_jobs=-1)"
      ],
      "metadata": {
        "id": "7Fttlv-niI4Y"
      },
      "execution_count": null,
      "outputs": []
    },
    {
      "cell_type": "code",
      "source": [
        "randomized_classifier_1.fit(X_train_cleaned, y_train)"
      ],
      "metadata": {
        "colab": {
          "base_uri": "https://localhost:8080/"
        },
        "id": "OH54Pr-iaE3r",
        "outputId": "53e56026-c4a3-4f1d-9d54-15656138fe92"
      },
      "execution_count": null,
      "outputs": [
        {
          "output_type": "execute_result",
          "data": {
            "text/plain": [
              "RandomizedSearchCV(cv=5,\n",
              "                   estimator=Pipeline(steps=[('vectorizer',\n",
              "                                              TfidfVectorizer(token_pattern='[\\\\S]+')),\n",
              "                                             ('classifier', XGBClassifier())]),\n",
              "                   n_jobs=-1,\n",
              "                   param_distributions={'classifier__gamma': [0.0, 0.1, 0.2,\n",
              "                                                              0.3, 0.4],\n",
              "                                        'classifier__learning_rate': [0.01,\n",
              "                                                                      0.02,\n",
              "                                                                      0.03,\n",
              "                                                                      0.05, 0.1,\n",
              "                                                                      0.3,\n",
              "                                                                      0.5],\n",
              "                                        'classifier__max_delta_step': range(1, 10),\n",
              "                                        'classifier__max_depth': [2, 3, 4, 5,\n",
              "                                                                  6],\n",
              "                                        'classifier__n_estimators': [100, 500,\n",
              "                                                                     700,\n",
              "                                                                     1000],\n",
              "                                        'classifier__reg_alpha': [1e-05, 0.01,\n",
              "                                                                  0.1, 1, 100],\n",
              "                                        'classifier__scale_pos_weight': [1, 10,\n",
              "                                                                         25, 50,\n",
              "                                                                         75, 99,\n",
              "                                                                         100,\n",
              "                                                                         1000],\n",
              "                                        'vectorizer__max_df': [0.8, 0.6, 0.4,\n",
              "                                                               0.2],\n",
              "                                        'vectorizer__max_features': [None, 500,\n",
              "                                                                     800, 1000,\n",
              "                                                                     1500,\n",
              "                                                                     2000],\n",
              "                                        'vectorizer__ngram_range': ((1, 1),\n",
              "                                                                    (1, 2),\n",
              "                                                                    (1, 3))},\n",
              "                   scoring='precision')"
            ]
          },
          "metadata": {},
          "execution_count": 167
        }
      ]
    },
    {
      "cell_type": "code",
      "source": [
        "print(\"Best cross-validation score: {:.2f}\".format(randomized_classifier_1.best_score_))\n",
        "print(\"\\nBest parameters: \", randomized_classifier_1.best_params_)\n",
        "print(\"\\nBest Estimator \", randomized_classifier_1.best_estimator_)"
      ],
      "metadata": {
        "colab": {
          "base_uri": "https://localhost:8080/"
        },
        "id": "89R0DeeitUBJ",
        "outputId": "cc248058-4695-480c-fa43-8cc7205cac38"
      },
      "execution_count": null,
      "outputs": [
        {
          "output_type": "stream",
          "name": "stdout",
          "text": [
            "Best cross-validation score: 0.97\n",
            "\n",
            "Best parameters:  {'vectorizer__ngram_range': (1, 1), 'vectorizer__max_features': 800, 'vectorizer__max_df': 0.6, 'classifier__scale_pos_weight': 1, 'classifier__reg_alpha': 1, 'classifier__n_estimators': 100, 'classifier__max_depth': 2, 'classifier__max_delta_step': 8, 'classifier__learning_rate': 0.03, 'classifier__gamma': 0.2}\n",
            "\n",
            "Best Estimator  Pipeline(steps=[('vectorizer',\n",
            "                 TfidfVectorizer(max_df=0.6, max_features=800,\n",
            "                                 token_pattern='[\\\\S]+')),\n",
            "                ('classifier',\n",
            "                 XGBClassifier(gamma=0.2, learning_rate=0.03, max_delta_step=8,\n",
            "                               max_depth=2, reg_alpha=1))])\n"
          ]
        }
      ]
    },
    {
      "cell_type": "code",
      "source": [
        "file_model_sparse_embed = model_folder / 'spam_sparse_embed_model.pkl'"
      ],
      "metadata": {
        "id": "GgT4FRDgAc3a"
      },
      "execution_count": null,
      "outputs": []
    },
    {
      "cell_type": "code",
      "source": [
        "joblib.dump(randomized_classifier_1.best_estimator_, file_model_sparse_embed)"
      ],
      "metadata": {
        "colab": {
          "base_uri": "https://localhost:8080/"
        },
        "id": "GoaTiLl4AlJP",
        "outputId": "edf099c1-08a2-4bb5-b9f9-5cf527cea25a"
      },
      "execution_count": null,
      "outputs": [
        {
          "output_type": "execute_result",
          "data": {
            "text/plain": [
              "['/content/drive/MyDrive/NLP/models/spam_sparse_embed_model.pkl']"
            ]
          },
          "metadata": {},
          "execution_count": 88
        }
      ]
    },
    {
      "cell_type": "code",
      "source": [
        "# load the saved model\n",
        "loaded_model_sparse_embed = joblib.load(file_model_sparse_embed)"
      ],
      "metadata": {
        "id": "bkIKEXghAnnz"
      },
      "execution_count": null,
      "outputs": []
    },
    {
      "cell_type": "code",
      "source": [
        "plot_learning_curve(loaded_model_sparse_embed, 'Learning Curves classifier_pipeline1', X_train_cleaned, y_train)"
      ],
      "metadata": {
        "colab": {
          "base_uri": "https://localhost:8080/",
          "height": 369
        },
        "id": "875MYwzEaxyU",
        "outputId": "673b3b58-421d-4767-99f9-79d3b1787b49"
      },
      "execution_count": null,
      "outputs": [
        {
          "output_type": "execute_result",
          "data": {
            "text/plain": [
              "<module 'matplotlib.pyplot' from '/usr/local/lib/python3.7/dist-packages/matplotlib/pyplot.py'>"
            ]
          },
          "metadata": {},
          "execution_count": 176
        },
        {
          "output_type": "display_data",
          "data": {
            "image/png": "[encoded data removed]",
            "text/plain": [
              "<Figure size 1440x360 with 3 Axes>"
            ]
          },
          "metadata": {
            "needs_background": "light"
          }
        }
      ]
    },
    {
      "cell_type": "code",
      "source": [
        "# Precision on Train data set\n",
        "print('Precision on train set is {:.4f}'.format(loaded_model_sparse_embed.score(X_train_cleaned, y_train)))"
      ],
      "metadata": {
        "colab": {
          "base_uri": "https://localhost:8080/"
        },
        "id": "_EmFXDiVb1R_",
        "outputId": "538ea757-a67d-4a16-a67e-6fad9a1d28d3"
      },
      "execution_count": null,
      "outputs": [
        {
          "output_type": "stream",
          "name": "stdout",
          "text": [
            "Precision on train set is 0.9843\n"
          ]
        }
      ]
    },
    {
      "cell_type": "markdown",
      "source": [
        "#### Evaluate model on test datset"
      ],
      "metadata": {
        "id": "o_AiXuf2vYts"
      }
    },
    {
      "cell_type": "code",
      "source": [
        "def sparseEmbeddingsPipeline(text):\n",
        "    X_test_cleaned = cp.SpacyPreprocessor(model = 'en_core_web_sm', lower=True, remove_stop=True, remove_punct=True, remove_url=True, lammetize=True).transform(text)\n",
        "    predictions = loaded_model_sparse_embed.predict(X_test_cleaned)\n",
        "    return predictions"
      ],
      "metadata": {
        "id": "c-VbJUPFUlIM"
      },
      "execution_count": null,
      "outputs": []
    },
    {
      "cell_type": "code",
      "source": [
        "y_test_pred = sparseEmbeddingsPipeline(X_test)"
      ],
      "metadata": {
        "id": "1UoFpTUYUm-J"
      },
      "execution_count": null,
      "outputs": []
    },
    {
      "cell_type": "code",
      "source": [
        "print('\\nTest set classification report:\\n\\n',classification_report(y_test, y_test_pred ))"
      ],
      "metadata": {
        "colab": {
          "base_uri": "https://localhost:8080/"
        },
        "id": "XpxIKFKYb-j7",
        "outputId": "bb9973aa-6d22-4476-c00c-470d71cbce39"
      },
      "execution_count": null,
      "outputs": [
        {
          "output_type": "stream",
          "name": "stdout",
          "text": [
            "\n",
            "Test set classification report:\n",
            "\n",
            "               precision    recall  f1-score   support\n",
            "\n",
            "           0       0.96      0.99      0.98      1939\n",
            "           1       0.96      0.75      0.84       290\n",
            "\n",
            "    accuracy                           0.96      2229\n",
            "   macro avg       0.96      0.87      0.91      2229\n",
            "weighted avg       0.96      0.96      0.96      2229\n",
            "\n"
          ]
        }
      ]
    },
    {
      "cell_type": "code",
      "source": [
        "print('Precision score on test set is {:.4f}'.format(precision_score(y_test, y_test_pred)))"
      ],
      "metadata": {
        "colab": {
          "base_uri": "https://localhost:8080/"
        },
        "id": "ukFgPSyDcDTG",
        "outputId": "a1942762-c868-45bd-be04-31bc153d6b67"
      },
      "execution_count": null,
      "outputs": [
        {
          "output_type": "stream",
          "name": "stdout",
          "text": [
            "Precision score on test set is 0.9559\n"
          ]
        }
      ]
    },
    {
      "cell_type": "code",
      "source": [
        "print('ROC_AUC is {:.4f}'.format(roc_auc_score(y_test, y_test_pred)))"
      ],
      "metadata": {
        "colab": {
          "base_uri": "https://localhost:8080/"
        },
        "id": "4wy0CRYDcBcQ",
        "outputId": "43d6af3f-07c7-41eb-d282-1acdfd869748"
      },
      "execution_count": null,
      "outputs": [
        {
          "output_type": "stream",
          "name": "stdout",
          "text": [
            "ROC_AUC is 0.8716\n"
          ]
        }
      ]
    },
    {
      "cell_type": "markdown",
      "source": [
        "From the learning curve, we infer that Sparse embeddings pipeline seem to perform decently in learning the true relationship with increase in sample size which tells us that spammers tend to use some unique words compared to non-spammers and vice versa. Precision on train set is 0.9843 and test set is 0.9559 whereas auc is 0.8716. \n",
        "\n",
        "\n",
        "\n",
        "\n"
      ],
      "metadata": {
        "id": "hA8iT9U5UUBw"
      }
    },
    {
      "cell_type": "markdown",
      "source": [
        "**Feature Engineering + ML Model pipeline**"
      ],
      "metadata": {
        "id": "lzMb4UgOHaCy"
      }
    },
    {
      "cell_type": "code",
      "source": [
        "featurizer =  ManualFeatures(spacy_model='en_core_web_sm')"
      ],
      "metadata": {
        "id": "0p4kh3VaPneG"
      },
      "execution_count": null,
      "outputs": []
    },
    {
      "cell_type": "code",
      "source": [
        "X_train_features, feature_names  = featurizer.fit_transform(X_train)"
      ],
      "metadata": {
        "id": "sjh4zfLUPnat"
      },
      "execution_count": null,
      "outputs": []
    },
    {
      "cell_type": "markdown",
      "source": [
        "To distinguish spam from non-spam messages have added additional features as follows in featurizer file\n",
        "* count_words_with_all_capitals - For promotional offers to gain attention, spammers might use capitalized words\n",
        "* symbols_count - symbol pos tags are used to capture symbols. Spammers tend to use exclammations as terminators or currency symbols. Similarly non-spammers might use emoticons as casual messaging\n",
        "* count_misspelled - Can be attributes of both spammers and non-spammers but this is an important attribute as well\n",
        "\n"
      ],
      "metadata": {
        "id": "fkaJx_mLPisO"
      }
    },
    {
      "cell_type": "code",
      "source": [
        "feature_names"
      ],
      "metadata": {
        "id": "OYscVMalHzWZ",
        "colab": {
          "base_uri": "https://localhost:8080/"
        },
        "outputId": "56825d5b-b219-4a1e-bea3-a5ace64e43fa"
      },
      "execution_count": null,
      "outputs": [
        {
          "output_type": "execute_result",
          "data": {
            "text/plain": [
              "['count_words',\n",
              " 'count_characters',\n",
              " 'count_characters_no_space',\n",
              " 'avg_word_length',\n",
              " 'count_digits',\n",
              " 'count_numbers',\n",
              " 'count_mispelled',\n",
              " 'count_words_with_all_capitals',\n",
              " 'noun_count',\n",
              " 'aux_count',\n",
              " 'verb_count',\n",
              " 'adj_count',\n",
              " 'symbols_count',\n",
              " 'ner']"
            ]
          },
          "metadata": {},
          "execution_count": 76
        }
      ]
    },
    {
      "cell_type": "code",
      "source": [
        "weights    = [1, 10, 25, 50, 75, 99, 100, 1000]\n",
        "\n",
        "param_dist = {\n",
        "              \"classifier__max_depth\": [2,3,4,5,6],\n",
        "              \"classifier__learning_rate\":[0.01,0.02,0.03,0.05,0.1,0.3,0.5],\n",
        "              \"classifier__reg_alpha\":[1e-5, 1e-2, 0.1, 1, 100],\n",
        "              \"classifier__gamma\":[i/10.0 for i in range(0,5)],\n",
        "              \"classifier__n_estimators\":[100,500,700,1000],\n",
        "              \"classifier__scale_pos_weight\":weights,\n",
        "              'classifier__max_delta_step': range(1,10,1)\n",
        "              }"
      ],
      "metadata": {
        "id": "w712RZnybQ41"
      },
      "execution_count": null,
      "outputs": []
    },
    {
      "cell_type": "code",
      "source": [
        "classifier_1b = Pipeline([('classifier', XGBClassifier()),])"
      ],
      "metadata": {
        "id": "JFMmj4gKctdW"
      },
      "execution_count": null,
      "outputs": []
    },
    {
      "cell_type": "code",
      "source": [
        "randomized_classifier_1b = RandomizedSearchCV(estimator=classifier_1b, param_distributions=param_dist, cv = 5, scoring=\"precision\", n_jobs=-1)"
      ],
      "metadata": {
        "id": "Gg76fhpP2GBB"
      },
      "execution_count": null,
      "outputs": []
    },
    {
      "cell_type": "code",
      "source": [
        "randomized_classifier_1b.fit(X_train_features, y_train)"
      ],
      "metadata": {
        "colab": {
          "base_uri": "https://localhost:8080/"
        },
        "id": "GvP3jlnX2KMN",
        "outputId": "9858184b-c8f1-44c9-d098-5c58bb667c14"
      },
      "execution_count": null,
      "outputs": [
        {
          "output_type": "execute_result",
          "data": {
            "text/plain": [
              "RandomizedSearchCV(cv=5,\n",
              "                   estimator=Pipeline(steps=[('classifier', XGBClassifier())]),\n",
              "                   n_jobs=-1,\n",
              "                   param_distributions={'classifier__gamma': [0.0, 0.1, 0.2,\n",
              "                                                              0.3, 0.4],\n",
              "                                        'classifier__learning_rate': [0.01,\n",
              "                                                                      0.02,\n",
              "                                                                      0.03,\n",
              "                                                                      0.05, 0.1,\n",
              "                                                                      0.3,\n",
              "                                                                      0.5],\n",
              "                                        'classifier__max_delta_step': range(1, 10),\n",
              "                                        'classifier__max_depth': [2, 3, 4, 5,\n",
              "                                                                  6],\n",
              "                                        'classifier__n_estimators': [100, 500,\n",
              "                                                                     700,\n",
              "                                                                     1000],\n",
              "                                        'classifier__reg_alpha': [1e-05, 0.01,\n",
              "                                                                  0.1, 1, 100],\n",
              "                                        'classifier__scale_pos_weight': [1, 10,\n",
              "                                                                         25, 50,\n",
              "                                                                         75, 99,\n",
              "                                                                         100,\n",
              "                                                                         1000]},\n",
              "                   scoring='precision')"
            ]
          },
          "metadata": {},
          "execution_count": 144
        }
      ]
    },
    {
      "cell_type": "code",
      "source": [
        "print(\"Best cross-validation score: {:.2f}\".format(randomized_classifier_1b.best_score_))\n",
        "print(\"\\nBest parameters: \", randomized_classifier_1b.best_params_)\n",
        "print(\"\\nBest estimator: \", randomized_classifier_1b.best_estimator_)"
      ],
      "metadata": {
        "colab": {
          "base_uri": "https://localhost:8080/"
        },
        "id": "BOfVVrmoavg9",
        "outputId": "37e7a057-6503-4bfb-d48c-0e776a76fc12"
      },
      "execution_count": null,
      "outputs": [
        {
          "output_type": "stream",
          "name": "stdout",
          "text": [
            "Best cross-validation score: 0.99\n",
            "\n",
            "Best parameters:  {'classifier__scale_pos_weight': 100, 'classifier__reg_alpha': 0.1, 'classifier__n_estimators': 700, 'classifier__max_depth': 2, 'classifier__max_delta_step': 7, 'classifier__learning_rate': 0.02, 'classifier__gamma': 0.3}\n",
            "\n",
            "Best estimator:  Pipeline(steps=[('classifier',\n",
            "                 XGBClassifier(gamma=0.3, learning_rate=0.02, max_delta_step=7,\n",
            "                               max_depth=2, n_estimators=700, reg_alpha=0.1,\n",
            "                               scale_pos_weight=100))])\n"
          ]
        }
      ]
    },
    {
      "cell_type": "code",
      "source": [
        "file_model_features = model_folder / 'spam_features_model.pkl'"
      ],
      "metadata": {
        "id": "zelWXzJ4aFJM"
      },
      "execution_count": null,
      "outputs": []
    },
    {
      "cell_type": "code",
      "source": [
        "joblib.dump(randomized_classifier_1b.best_estimator_, file_model_features)"
      ],
      "metadata": {
        "colab": {
          "base_uri": "https://localhost:8080/"
        },
        "id": "NruSzvCbaIli",
        "outputId": "4953de46-e7f7-4c3a-a1fd-e2367ea2e8e8"
      },
      "execution_count": null,
      "outputs": [
        {
          "output_type": "execute_result",
          "data": {
            "text/plain": [
              "['/content/drive/MyDrive/NLP/models/arul_prec_new_spam_features_model.pkl']"
            ]
          },
          "metadata": {},
          "execution_count": 147
        }
      ]
    },
    {
      "cell_type": "code",
      "source": [
        "# load the saved model\n",
        "loaded_final_model_features = joblib.load(file_model_features)"
      ],
      "metadata": {
        "id": "EJJzfcdfaMhD"
      },
      "execution_count": null,
      "outputs": []
    },
    {
      "cell_type": "code",
      "source": [
        "plot_learning_curve(loaded_final_model_features, 'Learning Curves classifier_1b', X_train_features, y_train)"
      ],
      "metadata": {
        "colab": {
          "base_uri": "https://localhost:8080/",
          "height": 369
        },
        "id": "Qp3ahkaDHB1B",
        "outputId": "10489bc4-ac0c-46b0-a0a6-ac6a4ae4a74c"
      },
      "execution_count": null,
      "outputs": [
        {
          "output_type": "execute_result",
          "data": {
            "text/plain": [
              "<module 'matplotlib.pyplot' from '/usr/local/lib/python3.7/dist-packages/matplotlib/pyplot.py'>"
            ]
          },
          "metadata": {},
          "execution_count": 149
        },
        {
          "output_type": "display_data",
          "data": {
            "image/png": "[encoded data removed]",
            "text/plain": [
              "<Figure size 1440x360 with 3 Axes>"
            ]
          },
          "metadata": {
            "needs_background": "light"
          }
        }
      ]
    },
    {
      "cell_type": "code",
      "source": [
        "print('Precision on train set is {:.4f}'.format(loaded_final_model_features.score(X_train_features, y_train)))"
      ],
      "metadata": {
        "colab": {
          "base_uri": "https://localhost:8080/"
        },
        "id": "6buFeXmVHInU",
        "outputId": "9891a22f-dea2-4aab-84fa-be1dac49988a"
      },
      "execution_count": null,
      "outputs": [
        {
          "output_type": "stream",
          "name": "stdout",
          "text": [
            "Precision on train set is 0.9924\n"
          ]
        }
      ]
    },
    {
      "cell_type": "markdown",
      "source": [
        "#### Evaluate model on test datset"
      ],
      "metadata": {
        "id": "BzBR3m-bAMZF"
      }
    },
    {
      "cell_type": "code",
      "source": [
        "def featurizerPipeline(text):\n",
        "  test_features, feature_names = featurizer.fit_transform(text)\n",
        "  predictions = loaded_final_model_features.predict(test_features)\n",
        "  return predictions"
      ],
      "metadata": {
        "id": "Ltl-hXfIAQYB"
      },
      "execution_count": null,
      "outputs": []
    },
    {
      "cell_type": "code",
      "source": [
        "y_test_pred = featurizerPipeline(X_test)"
      ],
      "metadata": {
        "id": "4vvdogVbASyL"
      },
      "execution_count": null,
      "outputs": []
    },
    {
      "cell_type": "code",
      "source": [
        "print('\\nTest set classification report:\\n\\n',classification_report(y_test, y_test_pred ))"
      ],
      "metadata": {
        "colab": {
          "base_uri": "https://localhost:8080/"
        },
        "id": "DOSY5sUrAk82",
        "outputId": "bc460d2e-cbd4-4c5d-9367-530fbcf54b15"
      },
      "execution_count": null,
      "outputs": [
        {
          "output_type": "stream",
          "name": "stdout",
          "text": [
            "\n",
            "Test set classification report:\n",
            "\n",
            "               precision    recall  f1-score   support\n",
            "\n",
            "           0       0.99      0.99      0.99      1939\n",
            "           1       0.95      0.91      0.93       290\n",
            "\n",
            "    accuracy                           0.98      2229\n",
            "   macro avg       0.97      0.95      0.96      2229\n",
            "weighted avg       0.98      0.98      0.98      2229\n",
            "\n"
          ]
        }
      ]
    },
    {
      "cell_type": "code",
      "source": [
        "print('\\nTest set classification report:\\n\\n',classification_report(y_test, y_test_pred ))"
      ],
      "metadata": {
        "colab": {
          "base_uri": "https://localhost:8080/"
        },
        "id": "RKj5_rVSHz1B",
        "outputId": "f6e4c0bb-0d93-4754-e43d-ab510f31979f"
      },
      "execution_count": null,
      "outputs": [
        {
          "output_type": "stream",
          "name": "stdout",
          "text": [
            "\n",
            "Test set classification report:\n",
            "\n",
            "               precision    recall  f1-score   support\n",
            "\n",
            "           0       0.99      0.99      0.99      1939\n",
            "           1       0.95      0.91      0.93       290\n",
            "\n",
            "    accuracy                           0.98      2229\n",
            "   macro avg       0.97      0.95      0.96      2229\n",
            "weighted avg       0.98      0.98      0.98      2229\n",
            "\n"
          ]
        }
      ]
    },
    {
      "cell_type": "code",
      "source": [
        "print('Precision for test set is {:.4f}'.format(precision_score(y_test, y_test_pred)))"
      ],
      "metadata": {
        "colab": {
          "base_uri": "https://localhost:8080/"
        },
        "id": "mVTsZsBeHuQj",
        "outputId": "d3942eb7-1a81-4225-c755-8c2de456149c"
      },
      "execution_count": null,
      "outputs": [
        {
          "output_type": "stream",
          "name": "stdout",
          "text": [
            "Precision for test set is 0.9464\n"
          ]
        }
      ]
    },
    {
      "cell_type": "code",
      "source": [
        "print('ROC_AUC is {:.4f}'.format(roc_auc_score(y_test, y_test_pred)))"
      ],
      "metadata": {
        "colab": {
          "base_uri": "https://localhost:8080/"
        },
        "id": "KeJM3U0uA9-R",
        "outputId": "2c58044d-1a3d-4411-aef9-5570c530e887"
      },
      "execution_count": null,
      "outputs": [
        {
          "output_type": "stream",
          "name": "stdout",
          "text": [
            "ROC_AUC is 0.9518\n"
          ]
        }
      ]
    },
    {
      "cell_type": "markdown",
      "source": [
        "From the learning curve, we infer that Featurizer pipeline seem to perform better than sparse embeddings in learning the true relationship with increase in sample size owing to the following additional features. After feature transformation, Precision on train set is 0.9924 and test set is 0.9464 whereas auc is 0.9518. \n",
        "\n",
        "To distinguish spam from non-spam messages have added additional features as follows to featurizer\n",
        "* count_words_with_all_capitals - For promotional offers so as to gain attention, spammers might as well use fully capitalized words\n",
        "* symbols_count - symbol pos tags are used to capture symbols. Spammers tend to use exclammations as terminators or currency symbols for lotteries, job vacancies etc. Similarly non-spammers might use emoticons for casual messaging\n",
        "* count_misspelled - Can be attributes of both spammers and non-spammers and predominantly spammers. So this is an important attribute as well\n",
        "*'count_words','count_characters','count_characters_no_space','avg_word_length',\n",
        " 'count_digits','count_numbers','noun_count','aux_count','verb_count',       'adj_count','symbols_count','ner'\n",
        "\n",
        "\n"
      ],
      "metadata": {
        "id": "YzEYBPaqeC3p"
      }
    },
    {
      "cell_type": "markdown",
      "source": [
        "**Feature Engineering + Data Preprocessing + Sparse Embeddings(TF-IDF) + ML Model pipeline**\n",
        "* Used TF_IDF vectorizer for sparse embeddings\n",
        "* Featurization\n",
        "* Used Weighted XGBoost Classifier as ML Model to address class imbalance"
      ],
      "metadata": {
        "id": "NH58vQTyHtja"
      }
    },
    {
      "cell_type": "code",
      "source": [
        "X_train_cleaned = cp.SpacyPreprocessor(model = 'en_core_web_sm', lower=True, remove_stop=True, remove_punct=True, remove_url=True, lammetize=True).transform(X_train)"
      ],
      "metadata": {
        "id": "hx3acKewBgpk"
      },
      "execution_count": null,
      "outputs": []
    },
    {
      "cell_type": "code",
      "source": [
        "featurizer =  ManualFeatures(spacy_model='en_core_web_sm')"
      ],
      "metadata": {
        "id": "za1_fPnMHsVP"
      },
      "execution_count": null,
      "outputs": []
    },
    {
      "cell_type": "code",
      "source": [
        "X_train_features, feature_names  = featurizer.fit_transform(X_train)"
      ],
      "metadata": {
        "id": "np9378GLHsSP"
      },
      "execution_count": null,
      "outputs": []
    },
    {
      "cell_type": "code",
      "source": [
        "X_train_final = pd.concat((pd.DataFrame(X_train_cleaned, columns =['cleaned_text']), \n",
        "                           pd.DataFrame(X_train_features, columns=feature_names)),axis =1)"
      ],
      "metadata": {
        "id": "s1g8IcYGHsPm"
      },
      "execution_count": null,
      "outputs": []
    },
    {
      "cell_type": "code",
      "source": [
        "X_train_final.head()"
      ],
      "metadata": {
        "colab": {
          "base_uri": "https://localhost:8080/",
          "height": 444
        },
        "id": "2TxVNks-HsCM",
        "outputId": "3ef9e7c0-4c62-46e3-bb1d-4266935d7f1d"
      },
      "execution_count": null,
      "outputs": [
        {
          "output_type": "execute_result",
          "data": {
            "text/html": [
              "\n",
              "  <div id=\"df-92b930c2-3724-42cc-9dfb-0ac995b0b86f\">\n",
              "    <div class=\"colab-df-container\">\n",
              "      <div>\n",
              "<style scoped>\n",
              "    .dataframe tbody tr th:only-of-type {\n",
              "        vertical-align: middle;\n",
              "    }\n",
              "\n",
              "    .dataframe tbody tr th {\n",
              "        vertical-align: top;\n",
              "    }\n",
              "\n",
              "    .dataframe thead th {\n",
              "        text-align: right;\n",
              "    }\n",
              "</style>\n",
              "<table border=\"1\" class=\"dataframe\">\n",
              "  <thead>\n",
              "    <tr style=\"text-align: right;\">\n",
              "      <th></th>\n",
              "      <th>cleaned_text</th>\n",
              "      <th>count_words</th>\n",
              "      <th>count_characters</th>\n",
              "      <th>count_characters_no_space</th>\n",
              "      <th>avg_word_length</th>\n",
              "      <th>count_digits</th>\n",
              "      <th>count_numbers</th>\n",
              "      <th>count_mispelled</th>\n",
              "      <th>count_words_with_all_capitals</th>\n",
              "      <th>noun_count</th>\n",
              "      <th>aux_count</th>\n",
              "      <th>verb_count</th>\n",
              "      <th>adj_count</th>\n",
              "      <th>symbols_count</th>\n",
              "      <th>ner</th>\n",
              "    </tr>\n",
              "  </thead>\n",
              "  <tbody>\n",
              "    <tr>\n",
              "      <th>0</th>\n",
              "      <td>parent kidz friend n colleague scream surprise...</td>\n",
              "      <td>20.0</td>\n",
              "      <td>104.0</td>\n",
              "      <td>85.0</td>\n",
              "      <td>4.250000</td>\n",
              "      <td>0.0</td>\n",
              "      <td>0.0</td>\n",
              "      <td>2.0</td>\n",
              "      <td>3.0</td>\n",
              "      <td>1.0</td>\n",
              "      <td>6.0</td>\n",
              "      <td>1.0</td>\n",
              "      <td>2.0</td>\n",
              "      <td>1.0</td>\n",
              "      <td>0.0</td>\n",
              "    </tr>\n",
              "    <tr>\n",
              "      <th>1</th>\n",
              "      <td>oh rite im best mate pete go 4 week+ 2geva lon...</td>\n",
              "      <td>26.0</td>\n",
              "      <td>115.0</td>\n",
              "      <td>90.0</td>\n",
              "      <td>3.461538</td>\n",
              "      <td>2.0</td>\n",
              "      <td>2.0</td>\n",
              "      <td>1.0</td>\n",
              "      <td>26.0</td>\n",
              "      <td>0.0</td>\n",
              "      <td>9.0</td>\n",
              "      <td>1.0</td>\n",
              "      <td>2.0</td>\n",
              "      <td>1.0</td>\n",
              "      <td>0.0</td>\n",
              "    </tr>\n",
              "    <tr>\n",
              "      <th>2</th>\n",
              "      <td>wake 4 afternoon sup</td>\n",
              "      <td>9.0</td>\n",
              "      <td>43.0</td>\n",
              "      <td>35.0</td>\n",
              "      <td>3.888889</td>\n",
              "      <td>1.0</td>\n",
              "      <td>1.0</td>\n",
              "      <td>1.0</td>\n",
              "      <td>0.0</td>\n",
              "      <td>2.0</td>\n",
              "      <td>2.0</td>\n",
              "      <td>0.0</td>\n",
              "      <td>1.0</td>\n",
              "      <td>0.0</td>\n",
              "      <td>0.0</td>\n",
              "    </tr>\n",
              "    <tr>\n",
              "      <th>3</th>\n",
              "      <td>sound good post</td>\n",
              "      <td>5.0</td>\n",
              "      <td>26.0</td>\n",
              "      <td>22.0</td>\n",
              "      <td>4.400000</td>\n",
              "      <td>0.0</td>\n",
              "      <td>0.0</td>\n",
              "      <td>0.0</td>\n",
              "      <td>0.0</td>\n",
              "      <td>0.0</td>\n",
              "      <td>0.0</td>\n",
              "      <td>0.0</td>\n",
              "      <td>3.0</td>\n",
              "      <td>1.0</td>\n",
              "      <td>0.0</td>\n",
              "    </tr>\n",
              "    <tr>\n",
              "      <th>4</th>\n",
              "      <td>prob hon u doinat mo</td>\n",
              "      <td>8.0</td>\n",
              "      <td>32.0</td>\n",
              "      <td>25.0</td>\n",
              "      <td>3.125000</td>\n",
              "      <td>0.0</td>\n",
              "      <td>0.0</td>\n",
              "      <td>1.0</td>\n",
              "      <td>0.0</td>\n",
              "      <td>0.0</td>\n",
              "      <td>3.0</td>\n",
              "      <td>0.0</td>\n",
              "      <td>1.0</td>\n",
              "      <td>1.0</td>\n",
              "      <td>0.0</td>\n",
              "    </tr>\n",
              "  </tbody>\n",
              "</table>\n",
              "</div>\n",
              "      <button class=\"colab-df-convert\" onclick=\"convertToInteractive('df-92b930c2-3724-42cc-9dfb-0ac995b0b86f')\"\n",
              "              title=\"Convert this dataframe to an interactive table.\"\n",
              "              style=\"display:none;\">\n",
              "        \n",
              "  <svg xmlns=\"http://www.w3.org/2000/svg\" height=\"24px\"viewBox=\"0 0 24 24\"\n",
              "       width=\"24px\">\n",
              "    <path d=\"M0 0h24v24H0V0z\" fill=\"none\"/>\n",
              "    <path d=\"M18.56 5.44l.94 2.06.94-2.06 2.06-.94-2.06-.94-.94-2.06-.94 2.06-2.06.94zm-11 1L8.5 8.5l.94-2.06 2.06-.94-2.06-.94L8.5 2.5l-.94 2.06-2.06.94zm10 10l.94 2.06.94-2.06 2.06-.94-2.06-.94-.94-2.06-.94 2.06-2.06.94z\"/><path d=\"M17.41 7.96l-1.37-1.37c-.4-.4-.92-.59-1.43-.59-.52 0-1.04.2-1.43.59L10.3 9.45l-7.72 7.72c-.78.78-.78 2.05 0 2.83L4 21.41c.39.39.9.59 1.41.59.51 0 1.02-.2 1.41-.59l7.78-7.78 2.81-2.81c.8-.78.8-2.07 0-2.86zM5.41 20L4 18.59l7.72-7.72 1.47 1.35L5.41 20z\"/>\n",
              "  </svg>\n",
              "      </button>\n",
              "      \n",
              "  <style>\n",
              "    .colab-df-container {\n",
              "      display:flex;\n",
              "      flex-wrap:wrap;\n",
              "      gap: 12px;\n",
              "    }\n",
              "\n",
              "    .colab-df-convert {\n",
              "      background-color: #E8F0FE;\n",
              "      border: none;\n",
              "      border-radius: 50%;\n",
              "      cursor: pointer;\n",
              "      display: none;\n",
              "      fill: #1967D2;\n",
              "      height: 32px;\n",
              "      padding: 0 0 0 0;\n",
              "      width: 32px;\n",
              "    }\n",
              "\n",
              "    .colab-df-convert:hover {\n",
              "      background-color: #E2EBFA;\n",
              "      box-shadow: 0px 1px 2px rgba(60, 64, 67, 0.3), 0px 1px 3px 1px rgba(60, 64, 67, 0.15);\n",
              "      fill: #174EA6;\n",
              "    }\n",
              "\n",
              "    [theme=dark] .colab-df-convert {\n",
              "      background-color: #3B4455;\n",
              "      fill: #D2E3FC;\n",
              "    }\n",
              "\n",
              "    [theme=dark] .colab-df-convert:hover {\n",
              "      background-color: #434B5C;\n",
              "      box-shadow: 0px 1px 3px 1px rgba(0, 0, 0, 0.15);\n",
              "      filter: drop-shadow(0px 1px 2px rgba(0, 0, 0, 0.3));\n",
              "      fill: #FFFFFF;\n",
              "    }\n",
              "  </style>\n",
              "\n",
              "      <script>\n",
              "        const buttonEl =\n",
              "          document.querySelector('#df-92b930c2-3724-42cc-9dfb-0ac995b0b86f button.colab-df-convert');\n",
              "        buttonEl.style.display =\n",
              "          google.colab.kernel.accessAllowed ? 'block' : 'none';\n",
              "\n",
              "        async function convertToInteractive(key) {\n",
              "          const element = document.querySelector('#df-92b930c2-3724-42cc-9dfb-0ac995b0b86f');\n",
              "          const dataTable =\n",
              "            await google.colab.kernel.invokeFunction('convertToInteractive',\n",
              "                                                     [key], {});\n",
              "          if (!dataTable) return;\n",
              "\n",
              "          const docLinkHtml = 'Like what you see? Visit the ' +\n",
              "            '<a target=\"_blank\" href=https://colab.research.google.com/notebooks/data_table.ipynb>data table notebook</a>'\n",
              "            + ' to learn more about interactive tables.';\n",
              "          element.innerHTML = '';\n",
              "          dataTable['output_type'] = 'display_data';\n",
              "          await google.colab.output.renderOutput(dataTable, element);\n",
              "          const docLink = document.createElement('div');\n",
              "          docLink.innerHTML = docLinkHtml;\n",
              "          element.appendChild(docLink);\n",
              "        }\n",
              "      </script>\n",
              "    </div>\n",
              "  </div>\n",
              "  "
            ],
            "text/plain": [
              "                                        cleaned_text  ...  ner\n",
              "0  parent kidz friend n colleague scream surprise...  ...  0.0\n",
              "1  oh rite im best mate pete go 4 week+ 2geva lon...  ...  0.0\n",
              "2                               wake 4 afternoon sup  ...  0.0\n",
              "3                                    sound good post  ...  0.0\n",
              "4                               prob hon u doinat mo  ...  0.0\n",
              "\n",
              "[5 rows x 15 columns]"
            ]
          },
          "metadata": {},
          "execution_count": 104
        }
      ]
    },
    {
      "cell_type": "code",
      "source": [
        "X_train_final.info()"
      ],
      "metadata": {
        "colab": {
          "base_uri": "https://localhost:8080/"
        },
        "id": "gGI0rj2kHr_F",
        "outputId": "8735b9ed-9589-4e1d-aaa5-ed884a8786be"
      },
      "execution_count": null,
      "outputs": [
        {
          "output_type": "stream",
          "name": "stdout",
          "text": [
            "<class 'pandas.core.frame.DataFrame'>\n",
            "RangeIndex: 2229 entries, 0 to 2228\n",
            "Data columns (total 15 columns):\n",
            " #   Column                         Non-Null Count  Dtype  \n",
            "---  ------                         --------------  -----  \n",
            " 0   cleaned_text                   2229 non-null   object \n",
            " 1   count_words                    2229 non-null   float64\n",
            " 2   count_characters               2229 non-null   float64\n",
            " 3   count_characters_no_space      2229 non-null   float64\n",
            " 4   avg_word_length                2229 non-null   float64\n",
            " 5   count_digits                   2229 non-null   float64\n",
            " 6   count_numbers                  2229 non-null   float64\n",
            " 7   count_mispelled                2229 non-null   float64\n",
            " 8   count_words_with_all_capitals  2229 non-null   float64\n",
            " 9   noun_count                     2229 non-null   float64\n",
            " 10  aux_count                      2229 non-null   float64\n",
            " 11  verb_count                     2229 non-null   float64\n",
            " 12  adj_count                      2229 non-null   float64\n",
            " 13  symbols_count                  2229 non-null   float64\n",
            " 14  ner                            2229 non-null   float64\n",
            "dtypes: float64(14), object(1)\n",
            "memory usage: 261.3+ KB\n"
          ]
        }
      ]
    },
    {
      "cell_type": "code",
      "source": [
        "subset = X_train_final[0:10]"
      ],
      "metadata": {
        "id": "2qE27JRDPFZi"
      },
      "execution_count": null,
      "outputs": []
    },
    {
      "cell_type": "code",
      "source": [
        "from sklearn.base import TransformerMixin, BaseEstimator\n",
        "from scipy.sparse import csr_matrix\n",
        "class SparseTransformer(TransformerMixin, BaseEstimator):\n",
        "    \n",
        "  def __init__(self):\n",
        "    return None\n",
        "\n",
        "  def fit(self, X, y=None):\n",
        "      return self\n",
        "\n",
        "  def transform(self, X, y=None):\n",
        "      return csr_matrix(X)"
      ],
      "metadata": {
        "id": "beHwYF1xPFTS"
      },
      "execution_count": null,
      "outputs": []
    },
    {
      "cell_type": "code",
      "source": [
        "sparse_features = Pipeline([('sparse', SparseTransformer()),                     \n",
        "                        ]) \n",
        "vectorizer = Pipeline([('tfidf', TfidfVectorizer(max_features=5)),                     \n",
        "                        ]) "
      ],
      "metadata": {
        "id": "_OV6QC-xPFJf"
      },
      "execution_count": null,
      "outputs": []
    },
    {
      "cell_type": "code",
      "source": [
        "sparse_features.fit_transform(subset.iloc[:,1:])"
      ],
      "metadata": {
        "colab": {
          "base_uri": "https://localhost:8080/"
        },
        "id": "Xxo08dqEPFFT",
        "outputId": "99e4886b-91fd-4189-d13e-9264c46a623c"
      },
      "execution_count": null,
      "outputs": [
        {
          "output_type": "execute_result",
          "data": {
            "text/plain": [
              "<10x14 sparse matrix of type '<class 'numpy.float64'>'\n",
              "\twith 87 stored elements in Compressed Sparse Row format>"
            ]
          },
          "metadata": {},
          "execution_count": 109
        }
      ]
    },
    {
      "cell_type": "code",
      "source": [
        "vectorizer.fit_transform(subset.iloc[:,0])"
      ],
      "metadata": {
        "colab": {
          "base_uri": "https://localhost:8080/"
        },
        "id": "TAXapiQ5PQs3",
        "outputId": "91057817-a744-4a07-c494-ba45fb043988"
      },
      "execution_count": null,
      "outputs": [
        {
          "output_type": "execute_result",
          "data": {
            "text/plain": [
              "<10x5 sparse matrix of type '<class 'numpy.float64'>'\n",
              "\twith 6 stored elements in Compressed Sparse Row format>"
            ]
          },
          "metadata": {},
          "execution_count": 110
        }
      ]
    },
    {
      "cell_type": "code",
      "source": [
        "# Use vectorizer for cleaned_text and sparse_features for everything else\n",
        "# Combined_Features to combine text with non text data\n",
        "combined_features = ColumnTransformer(\n",
        " transformers=[\n",
        "     ('tfidf', vectorizer, 'cleaned_text'),\n",
        "      ], remainder=sparse_features\n",
        "     )"
      ],
      "metadata": {
        "id": "YnCbjpGtPQqI"
      },
      "execution_count": null,
      "outputs": []
    },
    {
      "cell_type": "code",
      "source": [
        "test = combined_features.fit_transform(subset)"
      ],
      "metadata": {
        "id": "DbZ1M5EVPQnE"
      },
      "execution_count": null,
      "outputs": []
    },
    {
      "cell_type": "code",
      "source": [
        "classifier_1c = Pipeline([('combined_features',  combined_features),\n",
        "                         ('classifier', XGBClassifier()),])"
      ],
      "metadata": {
        "id": "Tz0qry0EPZ2Z"
      },
      "execution_count": null,
      "outputs": []
    },
    {
      "cell_type": "code",
      "source": [
        "weights    = [1, 10, 25, 50, 75, 99, 100, 1000]\n",
        "\n",
        "param_dist_classifier_1c = {\n",
        "              \"classifier__max_depth\": [2,3,4,5,6],\n",
        "              \"classifier__learning_rate\":[0.01,0.02,0.03,0.05,0.1,0.3,0.5],\n",
        "              \"classifier__reg_alpha\":[1e-5, 1e-2, 0.1, 1, 100],\n",
        "              \"classifier__gamma\":[i/10.0 for i in range(0,5)],\n",
        "              \"classifier__n_estimators\":[100,500,700,1000],\n",
        "              \"classifier__scale_pos_weight\":weights,\n",
        "              'classifier__max_delta_step': range(1,10,1),              \n",
        "              'combined_features__tfidf__tfidf__ngram_range': ((1, 1), (1, 2), (1,3)),\n",
        "              'combined_features__tfidf__tfidf__max_features': [None, 500, 800, 1000, 1500, 2000],\n",
        "              'combined_features__tfidf__tfidf__max_df': [0.8, 0.6, 0.4, 0.2]\n",
        "              }"
      ],
      "metadata": {
        "id": "3g0MP-Srf6Na"
      },
      "execution_count": null,
      "outputs": []
    },
    {
      "cell_type": "code",
      "source": [
        "randomized_classifier_1c = RandomizedSearchCV(estimator=classifier_1c, param_distributions=param_dist_classifier_1c, cv = 5, scoring=\"precision\", n_jobs=-1)"
      ],
      "metadata": {
        "id": "ungxDrLsB9iX"
      },
      "execution_count": null,
      "outputs": []
    },
    {
      "cell_type": "code",
      "source": [
        "randomized_classifier_1c.fit(X_train_final, y_train)"
      ],
      "metadata": {
        "colab": {
          "base_uri": "https://localhost:8080/"
        },
        "id": "IyKJ0zTHCBvh",
        "outputId": "01b8c8aa-beca-4238-bdda-b3b612179c37"
      },
      "execution_count": null,
      "outputs": [
        {
          "output_type": "execute_result",
          "data": {
            "text/plain": [
              "RandomizedSearchCV(cv=5,\n",
              "                   estimator=Pipeline(steps=[('combined_features',\n",
              "                                              ColumnTransformer(remainder=Pipeline(steps=[('sparse',\n",
              "                                                                                           SparseTransformer())]),\n",
              "                                                                transformers=[('tfidf',\n",
              "                                                                               Pipeline(steps=[('tfidf',\n",
              "                                                                                                TfidfVectorizer(max_features=5))]),\n",
              "                                                                               'cleaned_text')])),\n",
              "                                             ('classifier', XGBClassifier())]),\n",
              "                   n_jobs=-1,\n",
              "                   param_distributions={'classifier__gamma': [0.0, 0.1, 0.2,\n",
              "                                                              0.3...\n",
              "                                        'classifier__n_estimators': [100, 500,\n",
              "                                                                     700,\n",
              "                                                                     1000],\n",
              "                                        'classifier__reg_alpha': [1e-05, 0.01,\n",
              "                                                                  0.1, 1, 100],\n",
              "                                        'classifier__scale_pos_weight': [1, 10,\n",
              "                                                                         25, 50,\n",
              "                                                                         75, 99,\n",
              "                                                                         100,\n",
              "                                                                         1000],\n",
              "                                        'combined_features__tfidf__tfidf__max_df': [0.8,\n",
              "                                                                                    0.6,\n",
              "                                                                                    0.4,\n",
              "                                                                                    0.2],\n",
              "                                        'combined_features__tfidf__tfidf__max_features': [None,\n",
              "                                                                                          500,\n",
              "                                                                                          800,\n",
              "                                                                                          1000,\n",
              "                                                                                          1500,\n",
              "                                                                                          2000],\n",
              "                                        'combined_features__tfidf__tfidf__ngram_range': ((1,\n",
              "                                                                                          1),\n",
              "                                                                                         (1,\n",
              "                                                                                          2),\n",
              "                                                                                         (1,\n",
              "                                                                                          3))},\n",
              "                   scoring='precision')"
            ]
          },
          "metadata": {},
          "execution_count": 116
        }
      ]
    },
    {
      "cell_type": "code",
      "source": [
        "print(\"Best cross-validation score: {:.2f}\".format(randomized_classifier_1c.best_score_))\n",
        "print(\"\\nBest parameters: \", randomized_classifier_1c.best_params_)\n",
        "print(\"\\nBest estimator: \", randomized_classifier_1c.best_estimator_)"
      ],
      "metadata": {
        "colab": {
          "base_uri": "https://localhost:8080/"
        },
        "id": "q5NnaDGNCFy0",
        "outputId": "47f57c49-605c-432e-8fe5-d0746f41c0eb"
      },
      "execution_count": null,
      "outputs": [
        {
          "output_type": "stream",
          "name": "stdout",
          "text": [
            "Best cross-validation score: 0.96\n",
            "\n",
            "Best parameters:  {'combined_features__tfidf__tfidf__ngram_range': (1, 3), 'combined_features__tfidf__tfidf__max_features': 500, 'combined_features__tfidf__tfidf__max_df': 0.8, 'classifier__scale_pos_weight': 1, 'classifier__reg_alpha': 0.01, 'classifier__n_estimators': 700, 'classifier__max_depth': 4, 'classifier__max_delta_step': 4, 'classifier__learning_rate': 0.3, 'classifier__gamma': 0.4}\n",
            "\n",
            "Best estimator:  Pipeline(steps=[('combined_features',\n",
            "                 ColumnTransformer(remainder=Pipeline(steps=[('sparse',\n",
            "                                                              SparseTransformer())]),\n",
            "                                   transformers=[('tfidf',\n",
            "                                                  Pipeline(steps=[('tfidf',\n",
            "                                                                   TfidfVectorizer(max_df=0.8,\n",
            "                                                                                   max_features=500,\n",
            "                                                                                   ngram_range=(1,\n",
            "                                                                                                3)))]),\n",
            "                                                  'cleaned_text')])),\n",
            "                ('classifier',\n",
            "                 XGBClassifier(gamma=0.4, learning_rate=0.3, max_delta_step=4,\n",
            "                               max_depth=4, n_estimators=700,\n",
            "                               reg_alpha=0.01))])\n"
          ]
        }
      ]
    },
    {
      "cell_type": "code",
      "source": [
        "file_model_combined = model_folder / 'spam_combined_model.pkl'"
      ],
      "metadata": {
        "id": "FLK7Y8Z5PgP6"
      },
      "execution_count": null,
      "outputs": []
    },
    {
      "cell_type": "code",
      "source": [
        "joblib.dump(randomized_classifier_1c.best_estimator_, file_model_combined)"
      ],
      "metadata": {
        "id": "GjBs93u6PgM-",
        "colab": {
          "base_uri": "https://localhost:8080/"
        },
        "outputId": "933e8be7-eb50-42e0-ffe1-165b6ddc2669"
      },
      "execution_count": null,
      "outputs": [
        {
          "output_type": "execute_result",
          "data": {
            "text/plain": [
              "['/content/drive/MyDrive/NLP/models/arul_prec_spam_combined_model.pkl']"
            ]
          },
          "metadata": {},
          "execution_count": 127
        }
      ]
    },
    {
      "cell_type": "code",
      "source": [
        "loaded_model_combined = joblib.load(file_model_combined)"
      ],
      "metadata": {
        "id": "Lgc0IeSMPnkB"
      },
      "execution_count": null,
      "outputs": []
    },
    {
      "cell_type": "code",
      "source": [
        "plot_learning_curve(loaded_model_combined, 'Learning Curves classifier_1c', X_train_final, y_train)"
      ],
      "metadata": {
        "colab": {
          "base_uri": "https://localhost:8080/",
          "height": 369
        },
        "id": "K-OuhhSzCQxv",
        "outputId": "815c3e96-28cd-4c4b-f6de-5b39e2df69f0"
      },
      "execution_count": null,
      "outputs": [
        {
          "output_type": "execute_result",
          "data": {
            "text/plain": [
              "<module 'matplotlib.pyplot' from '/usr/local/lib/python3.7/dist-packages/matplotlib/pyplot.py'>"
            ]
          },
          "metadata": {},
          "execution_count": 130
        },
        {
          "output_type": "display_data",
          "data": {
            "image/png": "[encoded data removed]",
            "text/plain": [
              "<Figure size 1440x360 with 3 Axes>"
            ]
          },
          "metadata": {
            "needs_background": "light"
          }
        }
      ]
    },
    {
      "cell_type": "code",
      "source": [
        "# Precision on Train data set\n",
        "random_classifier_combined = loaded_model_combined.score(X_train_final, y_train)\n",
        "print(f'Precision on train set  is {random_classifier_combined}')"
      ],
      "metadata": {
        "colab": {
          "base_uri": "https://localhost:8080/"
        },
        "id": "uBZlZw4tdDGR",
        "outputId": "5940376c-3256-40cc-88da-3a98afb6d0b7"
      },
      "execution_count": null,
      "outputs": [
        {
          "output_type": "stream",
          "name": "stdout",
          "text": [
            "Precision on train set  is 0.996859578286227\n"
          ]
        }
      ]
    },
    {
      "cell_type": "markdown",
      "source": [
        "**Evaluate model on test dataset**\n"
      ],
      "metadata": {
        "id": "pYf_6-CddmWw"
      }
    },
    {
      "cell_type": "code",
      "source": [
        "def combinedSparseEmbFeaturizerPipeline(text):\n",
        "  X_test_cleaned = cp.SpacyPreprocessor(model = 'en_core_web_sm', lower=True, remove_stop=True, remove_punct=True, remove_url=True, lammetize=True).transform(text)\n",
        "  X_features, feature_names  = featurizer.fit_transform(text)\n",
        "  X_final = pd.concat((pd.DataFrame(X_test_cleaned, columns =['cleaned_text']), \n",
        "                           pd.DataFrame(X_features, columns=feature_names)),axis =1)\n",
        "  \n",
        "  predictions = loaded_model_combined.predict(X_final)\n",
        "  return predictions"
      ],
      "metadata": {
        "id": "98w0wLW8dx6q"
      },
      "execution_count": null,
      "outputs": []
    },
    {
      "cell_type": "code",
      "source": [
        "y_test_pred = combinedSparseEmbFeaturizerPipeline(X_test)"
      ],
      "metadata": {
        "id": "-DKr8dB8egW-"
      },
      "execution_count": null,
      "outputs": []
    },
    {
      "cell_type": "code",
      "source": [
        "print('\\nTest set classification report:\\n\\n',classification_report(y_test, y_test_pred ))"
      ],
      "metadata": {
        "colab": {
          "base_uri": "https://localhost:8080/"
        },
        "id": "o-V5TlonC0rr",
        "outputId": "6cbc3a6a-1e3a-42b5-fdbb-563540464e59"
      },
      "execution_count": null,
      "outputs": [
        {
          "output_type": "stream",
          "name": "stdout",
          "text": [
            "\n",
            "Test set classification report:\n",
            "\n",
            "               precision    recall  f1-score   support\n",
            "\n",
            "           0       0.99      1.00      0.99      1939\n",
            "           1       0.97      0.92      0.95       290\n",
            "\n",
            "    accuracy                           0.99      2229\n",
            "   macro avg       0.98      0.96      0.97      2229\n",
            "weighted avg       0.99      0.99      0.99      2229\n",
            "\n"
          ]
        }
      ]
    },
    {
      "cell_type": "code",
      "source": [
        "from sklearn.metrics import precision_score\n",
        "print('Precision for test dataset is {:.4f}'.format(precision_score(y_test, y_test_pred)))"
      ],
      "metadata": {
        "colab": {
          "base_uri": "https://localhost:8080/"
        },
        "id": "Et7Pu0orFvpS",
        "outputId": "78143522-1056-426d-dc0d-f6cd9f912ab0"
      },
      "execution_count": null,
      "outputs": [
        {
          "output_type": "stream",
          "name": "stdout",
          "text": [
            "Precision for test dataset is 0.9709\n"
          ]
        }
      ]
    },
    {
      "cell_type": "code",
      "source": [
        "print('ROC_AUC is {:.4f}'.format(roc_auc_score(y_test, y_test_pred)))"
      ],
      "metadata": {
        "colab": {
          "base_uri": "https://localhost:8080/"
        },
        "id": "ZW26diUdC3Oo",
        "outputId": "6d4fba6f-1c7b-4c6c-966a-3063c3efeef0"
      },
      "execution_count": null,
      "outputs": [
        {
          "output_type": "stream",
          "name": "stdout",
          "text": [
            "ROC_AUC is 0.9583\n"
          ]
        }
      ]
    },
    {
      "cell_type": "markdown",
      "source": [
        "From the learning curve, we infer that Sparse embeddings combined with feature transformation pipeline performs better of all in learning the true relationship with increase in sample size. However it seems to suffer from overfitting. Precision on train set is 0.9968 and test set is 0.9709 whereas auc is 0.9583."
      ],
      "metadata": {
        "id": "AoUutOPOfkmF"
      }
    },
    {
      "cell_type": "markdown",
      "source": [
        "## **Analysis Summary**\n",
        "\n",
        "**Sparse Embeddings Pipeline:**\n",
        "> From its respective learning curve, we infer that Sparse embeddings pipeline seem to perform decently in learning the true relationship with increase in sample size. This tells us that spammers tend to use some unique words compared to non-spammers. Precision on train set is 0.9843 and test set is 0.9559 whereas auc is 0.8716. \n",
        "\n",
        "**Featurizer Pipeline**\n",
        "> From its respective learning curve, we infer that Featurizer pipeline seem to perform better than sparse embeddings in learning the true relationship with increase in sample size owing to the following additional features. Featured Precision on train set is 0.9924 and test set is 0.9464 whereas auc is 0.9518. \n",
        "\n",
        "> To distinguish spam from non-spam messages have added additional features as follows to featurizer\n",
        "* count_words_with_all_capitals - For promotional offers so as to gain attention, spammers might as well use fully capitalized words\n",
        "* symbols_count - symbol pos tags are used to capture symbols. Spammers tend to use exclammations as terminators or currency symbols. Similarly non-spammers might use emoticons as casual messaging\n",
        "* count_misspelled - Can be attributes of both spammers and non-spammers but this is an important attribute as well\n",
        "*count_words,count_characters,count_characters_no_space,avg_word_length,\n",
        " count_digits,count_numbers,noun_count,aux_count,verb_count,adj_count,symbols_count,ner\n",
        "\n",
        "**Combined Pipeline:**\n",
        "> From the learning curve, we infer that Sparse embeddings combined with feature transformation pipeline performs better of all in learning the true relationship with increase in sample size. Precision on train set is 0.9968 and test set is 0.9709 whereas auc is 0.9583.\n",
        "\n",
        "**Overall, Combined Pipeline is the chosen pipeline since in comparison it not only offers a better precision score but also gives a better auc of 0.9583. Moreover one common problem in all the three is overfitting which we shall address in the final pipeline by adding more data by training with entire dataset and also by hyper-param tuning**\n",
        "\n",
        "\n"
      ],
      "metadata": {
        "id": "phvhF6STeJz3"
      }
    }
  ]
}