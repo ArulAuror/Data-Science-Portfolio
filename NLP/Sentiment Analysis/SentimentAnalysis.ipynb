{
 "cells": [
  {
   "cell_type": "markdown",
   "metadata": {
    "id": "sExLEBZvdIAS"
   },
   "source": [
    "<h1 align='center'><u>Sentiment Analysis on IMDB dataset</u></h1>\n"
   ]
  },
  {
   "cell_type": "markdown",
   "metadata": {
    "id": "j4Cj05MqgWBc"
   },
   "source": [
    "\n",
    "* We will create 3 pipelines:\n",
    "    1. Data Preprocessing + Sparse Embeddings (TF-IDF) + ML Model pipeline\n",
    "    2. Feature Engineering + ML Model pipeline\n",
    "    3. Feature Engineering + Data Preprocessing + Sparse Embeddings(TF-IDF) + ML Model pipeline."
   ]
  },
  {
   "cell_type": "markdown",
   "metadata": {
    "id": "1yhUfE6uOJDZ"
   },
   "source": [
    "## Installing/Importing libraries"
   ]
  },
  {
   "cell_type": "code",
   "execution_count": 7,
   "metadata": {
    "colab": {
     "base_uri": "https://localhost:8080/"
    },
    "execution": {
     "iopub.execute_input": "2021-09-11T17:05:58.152692Z",
     "iopub.status.busy": "2021-09-11T17:05:58.152163Z",
     "iopub.status.idle": "2021-09-11T17:06:00.896744Z",
     "shell.execute_reply": "2021-09-11T17:06:00.894839Z",
     "shell.execute_reply.started": "2021-09-11T17:05:58.152632Z"
    },
    "executionInfo": {
     "elapsed": 7644,
     "status": "ok",
     "timestamp": 1644421283374,
     "user": {
      "displayName": "Shaannoor Mann",
      "photoUrl": "https://lh3.googleusercontent.com/a/default-user=s64",
      "userId": "02520257695567980696"
     },
     "user_tz": 360
    },
    "id": "abspHBS97iaL",
    "outputId": "6ce47aa1-b36c-4d69-f1d8-1175218e1a31"
   },
   "outputs": [
    {
     "name": "stdout",
     "output_type": "stream",
     "text": [
      "Requirement already satisfied: bs4 in /usr/local/lib/python3.7/dist-packages (0.0.1)\n",
      "Requirement already satisfied: beautifulsoup4 in /usr/local/lib/python3.7/dist-packages (from bs4) (4.6.3)\n"
     ]
    }
   ],
   "source": [
    "!pip install bs4"
   ]
  },
  {
   "cell_type": "code",
   "execution_count": 8,
   "metadata": {
    "colab": {
     "base_uri": "https://localhost:8080/"
    },
    "collapsed": true,
    "executionInfo": {
     "elapsed": 26979,
     "status": "ok",
     "timestamp": 1644421310349,
     "user": {
      "displayName": "Shaannoor Mann",
      "photoUrl": "https://lh3.googleusercontent.com/a/default-user=s64",
      "userId": "02520257695567980696"
     },
     "user_tz": 360
    },
    "id": "U9P3ByOmtcUN",
    "jupyter": {
     "outputs_hidden": true
    },
    "outputId": "e6f883bc-9aa4-4749-c217-7536e5a97877",
    "tags": []
   },
   "outputs": [
    {
     "name": "stdout",
     "output_type": "stream",
     "text": [
      "Requirement already satisfied: spacy in /usr/local/lib/python3.7/dist-packages (2.2.4)\n",
      "Collecting spacy\n",
      "  Using cached spacy-3.2.1-cp37-cp37m-manylinux_2_17_x86_64.manylinux2014_x86_64.whl (6.0 MB)\n",
      "Requirement already satisfied: tqdm<5.0.0,>=4.38.0 in /usr/local/lib/python3.7/dist-packages (from spacy) (4.62.3)\n",
      "Requirement already satisfied: murmurhash<1.1.0,>=0.28.0 in /usr/local/lib/python3.7/dist-packages (from spacy) (1.0.6)\n",
      "Requirement already satisfied: blis<0.8.0,>=0.4.0 in /usr/local/lib/python3.7/dist-packages (from spacy) (0.4.1)\n",
      "Requirement already satisfied: jinja2 in /usr/local/lib/python3.7/dist-packages (from spacy) (2.11.3)\n",
      "Collecting srsly<3.0.0,>=2.4.1\n",
      "  Downloading srsly-2.4.2-cp37-cp37m-manylinux_2_17_x86_64.manylinux2014_x86_64.whl (451 kB)\n",
      "\u001b[K     |████████████████████████████████| 451 kB 5.2 MB/s \n",
      "\u001b[?25hRequirement already satisfied: wasabi<1.1.0,>=0.8.1 in /usr/local/lib/python3.7/dist-packages (from spacy) (0.9.0)\n",
      "Requirement already satisfied: cymem<2.1.0,>=2.0.2 in /usr/local/lib/python3.7/dist-packages (from spacy) (2.0.6)\n",
      "Collecting pathy>=0.3.5\n",
      "  Downloading pathy-0.6.1-py3-none-any.whl (42 kB)\n",
      "\u001b[K     |████████████████████████████████| 42 kB 1.1 MB/s \n",
      "\u001b[?25hCollecting pydantic!=1.8,!=1.8.1,<1.9.0,>=1.7.4\n",
      "  Using cached pydantic-1.8.2-cp37-cp37m-manylinux2014_x86_64.whl (10.1 MB)\n",
      "Requirement already satisfied: packaging>=20.0 in /usr/local/lib/python3.7/dist-packages (from spacy) (21.3)\n",
      "Collecting langcodes<4.0.0,>=3.2.0\n",
      "  Using cached langcodes-3.3.0-py3-none-any.whl (181 kB)\n",
      "Requirement already satisfied: setuptools in /usr/local/lib/python3.7/dist-packages (from spacy) (57.4.0)\n",
      "Collecting thinc<8.1.0,>=8.0.12\n",
      "  Using cached thinc-8.0.13-cp37-cp37m-manylinux_2_17_x86_64.manylinux2014_x86_64.whl (628 kB)\n",
      "Requirement already satisfied: numpy>=1.15.0 in /usr/local/lib/python3.7/dist-packages (from spacy) (1.19.5)\n",
      "Requirement already satisfied: preshed<3.1.0,>=3.0.2 in /usr/local/lib/python3.7/dist-packages (from spacy) (3.0.6)\n",
      "Requirement already satisfied: typing-extensions<4.0.0.0,>=3.7.4 in /usr/local/lib/python3.7/dist-packages (from spacy) (3.10.0.2)\n",
      "Collecting spacy-loggers<2.0.0,>=1.0.0\n",
      "  Using cached spacy_loggers-1.0.1-py3-none-any.whl (7.0 kB)\n",
      "Requirement already satisfied: requests<3.0.0,>=2.13.0 in /usr/local/lib/python3.7/dist-packages (from spacy) (2.23.0)\n",
      "Collecting typer<0.5.0,>=0.3.0\n",
      "  Using cached typer-0.4.0-py3-none-any.whl (27 kB)\n",
      "Collecting spacy-legacy<3.1.0,>=3.0.8\n",
      "  Downloading spacy_legacy-3.0.8-py2.py3-none-any.whl (14 kB)\n",
      "Collecting catalogue<2.1.0,>=2.0.6\n",
      "  Using cached catalogue-2.0.6-py3-none-any.whl (17 kB)\n",
      "Requirement already satisfied: zipp>=0.5 in /usr/local/lib/python3.7/dist-packages (from catalogue<2.1.0,>=2.0.6->spacy) (3.7.0)\n",
      "Requirement already satisfied: pyparsing!=3.0.5,>=2.0.2 in /usr/local/lib/python3.7/dist-packages (from packaging>=20.0->spacy) (3.0.7)\n",
      "Requirement already satisfied: smart-open<6.0.0,>=5.0.0 in /usr/local/lib/python3.7/dist-packages (from pathy>=0.3.5->spacy) (5.2.1)\n",
      "Requirement already satisfied: chardet<4,>=3.0.2 in /usr/local/lib/python3.7/dist-packages (from requests<3.0.0,>=2.13.0->spacy) (3.0.4)\n",
      "Requirement already satisfied: urllib3!=1.25.0,!=1.25.1,<1.26,>=1.21.1 in /usr/local/lib/python3.7/dist-packages (from requests<3.0.0,>=2.13.0->spacy) (1.24.3)\n",
      "Requirement already satisfied: idna<3,>=2.5 in /usr/local/lib/python3.7/dist-packages (from requests<3.0.0,>=2.13.0->spacy) (2.10)\n",
      "Requirement already satisfied: certifi>=2017.4.17 in /usr/local/lib/python3.7/dist-packages (from requests<3.0.0,>=2.13.0->spacy) (2021.10.8)\n",
      "Requirement already satisfied: click<9.0.0,>=7.1.1 in /usr/local/lib/python3.7/dist-packages (from typer<0.5.0,>=0.3.0->spacy) (7.1.2)\n",
      "Requirement already satisfied: MarkupSafe>=0.23 in /usr/local/lib/python3.7/dist-packages (from jinja2->spacy) (2.0.1)\n",
      "Installing collected packages: catalogue, typer, srsly, pydantic, thinc, spacy-loggers, spacy-legacy, pathy, langcodes, spacy\n",
      "  Attempting uninstall: catalogue\n",
      "    Found existing installation: catalogue 1.0.0\n",
      "    Uninstalling catalogue-1.0.0:\n",
      "      Successfully uninstalled catalogue-1.0.0\n",
      "  Attempting uninstall: srsly\n",
      "    Found existing installation: srsly 1.0.5\n",
      "    Uninstalling srsly-1.0.5:\n",
      "      Successfully uninstalled srsly-1.0.5\n",
      "  Attempting uninstall: thinc\n",
      "    Found existing installation: thinc 7.4.0\n",
      "    Uninstalling thinc-7.4.0:\n",
      "      Successfully uninstalled thinc-7.4.0\n",
      "  Attempting uninstall: spacy\n",
      "    Found existing installation: spacy 2.2.4\n",
      "    Uninstalling spacy-2.2.4:\n",
      "      Successfully uninstalled spacy-2.2.4\n",
      "Successfully installed catalogue-2.0.6 langcodes-3.3.0 pathy-0.6.1 pydantic-1.8.2 spacy-3.2.1 spacy-legacy-3.0.8 spacy-loggers-1.0.1 srsly-2.4.2 thinc-8.0.13 typer-0.4.0\n"
     ]
    }
   ],
   "source": [
    "!pip install -U spacy"
   ]
  },
  {
   "cell_type": "code",
   "execution_count": 40,
   "metadata": {
    "execution": {
     "iopub.execute_input": "2022-02-09T14:28:31.201919Z",
     "iopub.status.busy": "2022-02-09T14:28:31.201774Z",
     "iopub.status.idle": "2022-02-09T14:28:31.205204Z",
     "shell.execute_reply": "2022-02-09T14:28:31.204837Z",
     "shell.execute_reply.started": "2022-02-09T14:28:31.201906Z"
    },
    "executionInfo": {
     "elapsed": 125,
     "status": "ok",
     "timestamp": 1644421599067,
     "user": {
      "displayName": "Shaannoor Mann",
      "photoUrl": "https://lh3.googleusercontent.com/a/default-user=s64",
      "userId": "02520257695567980696"
     },
     "user_tz": 360
    },
    "id": "3gEKx0PXOTyC",
    "tags": []
   },
   "outputs": [],
   "source": [
    "# Import Libraries\n",
    "import pandas as pd\n",
    "import numpy as np\n",
    "from pathlib import Path\n",
    "import textwrap as tw\n",
    "import matplotlib.pyplot as plt\n",
    "\n",
    "# learning Curves\n",
    "from sklearn.model_selection import learning_curve\n",
    "\n",
    "# save and load models\n",
    "import joblib\n",
    "\n",
    "import re\n",
    "from bs4 import BeautifulSoup\n",
    "import spacy\n",
    "\n",
    "#from scipy.sparse import hstack\n",
    "from sklearn.linear_model import LogisticRegression\n",
    "from sklearn.feature_extraction.text import TfidfTransformer, CountVectorizer, TfidfVectorizer\n",
    "from sklearn.model_selection import GridSearchCV\n",
    "from sklearn.metrics import classification_report\n",
    "from sklearn.pipeline import Pipeline\n",
    "\n"
   ]
  },
  {
   "cell_type": "code",
   "execution_count": 13,
   "metadata": {
    "colab": {
     "base_uri": "https://localhost:8080/"
    },
    "execution": {
     "iopub.execute_input": "2022-02-09T14:28:31.780570Z",
     "iopub.status.busy": "2022-02-09T14:28:31.780426Z",
     "iopub.status.idle": "2022-02-09T14:28:31.782628Z",
     "shell.execute_reply": "2022-02-09T14:28:31.782206Z",
     "shell.execute_reply.started": "2022-02-09T14:28:31.780556Z"
    },
    "executionInfo": {
     "elapsed": 937,
     "status": "ok",
     "timestamp": 1644421353597,
     "user": {
      "displayName": "Shaannoor Mann",
      "photoUrl": "https://lh3.googleusercontent.com/a/default-user=s64",
      "userId": "02520257695567980696"
     },
     "user_tz": 360
    },
    "id": "S_hH-IN573Ze",
    "outputId": "fc4a8a94-3026-4e75-dc52-ee008b47ec96"
   },
   "outputs": [
    {
     "name": "stdout",
     "output_type": "stream",
     "text": [
      "Drive already mounted at /content/drive; to attempt to forcibly remount, call drive.mount(\"/content/drive\", force_remount=True).\n"
     ]
    }
   ],
   "source": [
    "from google.colab import drive\n",
    "drive.mount('/content/drive')"
   ]
  },
  {
   "cell_type": "code",
   "execution_count": 14,
   "metadata": {
    "colab": {
     "base_uri": "https://localhost:8080/",
     "height": 36
    },
    "execution": {
     "iopub.execute_input": "2022-02-09T14:28:32.307066Z",
     "iopub.status.busy": "2022-02-09T14:28:32.306885Z",
     "iopub.status.idle": "2022-02-09T14:28:32.310347Z",
     "shell.execute_reply": "2022-02-09T14:28:32.309941Z",
     "shell.execute_reply.started": "2022-02-09T14:28:32.307052Z"
    },
    "executionInfo": {
     "elapsed": 5,
     "status": "ok",
     "timestamp": 1644421353597,
     "user": {
      "displayName": "Shaannoor Mann",
      "photoUrl": "https://lh3.googleusercontent.com/a/default-user=s64",
      "userId": "02520257695567980696"
     },
     "user_tz": 360
    },
    "id": "-617doq68krg",
    "outputId": "e8332fdd-98e9-495b-cb19-dc4d9847a1fd",
    "tags": []
   },
   "outputs": [
    {
     "data": {
      "application/vnd.google.colaboratory.intrinsic+json": {
       "type": "string"
      },
      "text/plain": [
       "'3.2.1'"
      ]
     },
     "execution_count": 14,
     "metadata": {},
     "output_type": "execute_result"
    }
   ],
   "source": [
    "spacy.__version__"
   ]
  },
  {
   "cell_type": "code",
   "execution_count": 27,
   "metadata": {
    "execution": {
     "iopub.execute_input": "2022-02-09T14:28:32.920517Z",
     "iopub.status.busy": "2022-02-09T14:28:32.920370Z",
     "iopub.status.idle": "2022-02-09T14:28:32.922844Z",
     "shell.execute_reply": "2022-02-09T14:28:32.922295Z",
     "shell.execute_reply.started": "2022-02-09T14:28:32.920504Z"
    },
    "executionInfo": {
     "elapsed": 125,
     "status": "ok",
     "timestamp": 1644421519245,
     "user": {
      "displayName": "Shaannoor Mann",
      "photoUrl": "https://lh3.googleusercontent.com/a/default-user=s64",
      "userId": "02520257695567980696"
     },
     "user_tz": 360
    },
    "id": "l1s3IWBg7iaM",
    "tags": []
   },
   "outputs": [],
   "source": [
    "data_folder = Path('/content/drive/MyDrive/Data/NLP')\n",
    "#data_folder = Path('/home/harpreet/Insync/google_drive_shaannoor/Data/NLP')"
   ]
  },
  {
   "cell_type": "code",
   "execution_count": 16,
   "metadata": {
    "execution": {
     "iopub.execute_input": "2022-02-09T14:28:36.823480Z",
     "iopub.status.busy": "2022-02-09T14:28:36.822953Z",
     "iopub.status.idle": "2022-02-09T14:28:36.825498Z",
     "shell.execute_reply": "2022-02-09T14:28:36.825127Z",
     "shell.execute_reply.started": "2022-02-09T14:28:36.823464Z"
    },
    "executionInfo": {
     "elapsed": 159,
     "status": "ok",
     "timestamp": 1644421358305,
     "user": {
      "displayName": "Shaannoor Mann",
      "photoUrl": "https://lh3.googleusercontent.com/a/default-user=s64",
      "userId": "02520257695567980696"
     },
     "user_tz": 360
    },
    "id": "9DfsGy8Ze7y7",
    "tags": []
   },
   "outputs": [],
   "source": [
    "model_folder = Path('/content/drive/MyDrive/teaching_spring_2022/Models')\n",
    "#model_folder = Path('/home/harpreet/Insync/harpreet24.utd@gmail.com/teaching_spring_2022/Models')"
   ]
  },
  {
   "cell_type": "code",
   "execution_count": 17,
   "metadata": {
    "executionInfo": {
     "elapsed": 3,
     "status": "ok",
     "timestamp": 1644421358955,
     "user": {
      "displayName": "Shaannoor Mann",
      "photoUrl": "https://lh3.googleusercontent.com/a/default-user=s64",
      "userId": "02520257695567980696"
     },
     "user_tz": 360
    },
    "id": "hpsOF_YzfJMa"
   },
   "outputs": [],
   "source": [
    "#!mkdir {str(model_folder /'NLP')}"
   ]
  },
  {
   "cell_type": "code",
   "execution_count": 18,
   "metadata": {
    "colab": {
     "base_uri": "https://localhost:8080/"
    },
    "collapsed": true,
    "executionInfo": {
     "elapsed": 12907,
     "status": "ok",
     "timestamp": 1644421372525,
     "user": {
      "displayName": "Shaannoor Mann",
      "photoUrl": "https://lh3.googleusercontent.com/a/default-user=s64",
      "userId": "02520257695567980696"
     },
     "user_tz": 360
    },
    "id": "YK3EbpXOBBhB",
    "jupyter": {
     "outputs_hidden": true
    },
    "outputId": "3cb54294-4eb9-477f-ce53-d4244850e50f",
    "tags": []
   },
   "outputs": [
    {
     "name": "stdout",
     "output_type": "stream",
     "text": [
      "Collecting en-core-web-sm==3.2.0\n",
      "  Downloading https://github.com/explosion/spacy-models/releases/download/en_core_web_sm-3.2.0/en_core_web_sm-3.2.0-py3-none-any.whl (13.9 MB)\n",
      "\u001b[K     |████████████████████████████████| 13.9 MB 4.7 MB/s \n",
      "\u001b[?25hRequirement already satisfied: spacy<3.3.0,>=3.2.0 in /usr/local/lib/python3.7/dist-packages (from en-core-web-sm==3.2.0) (3.2.1)\n",
      "Requirement already satisfied: langcodes<4.0.0,>=3.2.0 in /usr/local/lib/python3.7/dist-packages (from spacy<3.3.0,>=3.2.0->en-core-web-sm==3.2.0) (3.3.0)\n",
      "Requirement already satisfied: preshed<3.1.0,>=3.0.2 in /usr/local/lib/python3.7/dist-packages (from spacy<3.3.0,>=3.2.0->en-core-web-sm==3.2.0) (3.0.6)\n",
      "Requirement already satisfied: thinc<8.1.0,>=8.0.12 in /usr/local/lib/python3.7/dist-packages (from spacy<3.3.0,>=3.2.0->en-core-web-sm==3.2.0) (8.0.13)\n",
      "Requirement already satisfied: blis<0.8.0,>=0.4.0 in /usr/local/lib/python3.7/dist-packages (from spacy<3.3.0,>=3.2.0->en-core-web-sm==3.2.0) (0.4.1)\n",
      "Requirement already satisfied: spacy-loggers<2.0.0,>=1.0.0 in /usr/local/lib/python3.7/dist-packages (from spacy<3.3.0,>=3.2.0->en-core-web-sm==3.2.0) (1.0.1)\n",
      "Requirement already satisfied: srsly<3.0.0,>=2.4.1 in /usr/local/lib/python3.7/dist-packages (from spacy<3.3.0,>=3.2.0->en-core-web-sm==3.2.0) (2.4.2)\n",
      "Requirement already satisfied: numpy>=1.15.0 in /usr/local/lib/python3.7/dist-packages (from spacy<3.3.0,>=3.2.0->en-core-web-sm==3.2.0) (1.19.5)\n",
      "Requirement already satisfied: setuptools in /usr/local/lib/python3.7/dist-packages (from spacy<3.3.0,>=3.2.0->en-core-web-sm==3.2.0) (57.4.0)\n",
      "Requirement already satisfied: wasabi<1.1.0,>=0.8.1 in /usr/local/lib/python3.7/dist-packages (from spacy<3.3.0,>=3.2.0->en-core-web-sm==3.2.0) (0.9.0)\n",
      "Requirement already satisfied: packaging>=20.0 in /usr/local/lib/python3.7/dist-packages (from spacy<3.3.0,>=3.2.0->en-core-web-sm==3.2.0) (21.3)\n",
      "Requirement already satisfied: typing-extensions<4.0.0.0,>=3.7.4 in /usr/local/lib/python3.7/dist-packages (from spacy<3.3.0,>=3.2.0->en-core-web-sm==3.2.0) (3.10.0.2)\n",
      "Requirement already satisfied: spacy-legacy<3.1.0,>=3.0.8 in /usr/local/lib/python3.7/dist-packages (from spacy<3.3.0,>=3.2.0->en-core-web-sm==3.2.0) (3.0.8)\n",
      "Requirement already satisfied: requests<3.0.0,>=2.13.0 in /usr/local/lib/python3.7/dist-packages (from spacy<3.3.0,>=3.2.0->en-core-web-sm==3.2.0) (2.23.0)\n",
      "Requirement already satisfied: catalogue<2.1.0,>=2.0.6 in /usr/local/lib/python3.7/dist-packages (from spacy<3.3.0,>=3.2.0->en-core-web-sm==3.2.0) (2.0.6)\n",
      "Requirement already satisfied: tqdm<5.0.0,>=4.38.0 in /usr/local/lib/python3.7/dist-packages (from spacy<3.3.0,>=3.2.0->en-core-web-sm==3.2.0) (4.62.3)\n",
      "Requirement already satisfied: pydantic!=1.8,!=1.8.1,<1.9.0,>=1.7.4 in /usr/local/lib/python3.7/dist-packages (from spacy<3.3.0,>=3.2.0->en-core-web-sm==3.2.0) (1.8.2)\n",
      "Requirement already satisfied: cymem<2.1.0,>=2.0.2 in /usr/local/lib/python3.7/dist-packages (from spacy<3.3.0,>=3.2.0->en-core-web-sm==3.2.0) (2.0.6)\n",
      "Requirement already satisfied: typer<0.5.0,>=0.3.0 in /usr/local/lib/python3.7/dist-packages (from spacy<3.3.0,>=3.2.0->en-core-web-sm==3.2.0) (0.4.0)\n",
      "Requirement already satisfied: pathy>=0.3.5 in /usr/local/lib/python3.7/dist-packages (from spacy<3.3.0,>=3.2.0->en-core-web-sm==3.2.0) (0.6.1)\n",
      "Requirement already satisfied: murmurhash<1.1.0,>=0.28.0 in /usr/local/lib/python3.7/dist-packages (from spacy<3.3.0,>=3.2.0->en-core-web-sm==3.2.0) (1.0.6)\n",
      "Requirement already satisfied: jinja2 in /usr/local/lib/python3.7/dist-packages (from spacy<3.3.0,>=3.2.0->en-core-web-sm==3.2.0) (2.11.3)\n",
      "Requirement already satisfied: zipp>=0.5 in /usr/local/lib/python3.7/dist-packages (from catalogue<2.1.0,>=2.0.6->spacy<3.3.0,>=3.2.0->en-core-web-sm==3.2.0) (3.7.0)\n",
      "Requirement already satisfied: pyparsing!=3.0.5,>=2.0.2 in /usr/local/lib/python3.7/dist-packages (from packaging>=20.0->spacy<3.3.0,>=3.2.0->en-core-web-sm==3.2.0) (3.0.7)\n",
      "Requirement already satisfied: smart-open<6.0.0,>=5.0.0 in /usr/local/lib/python3.7/dist-packages (from pathy>=0.3.5->spacy<3.3.0,>=3.2.0->en-core-web-sm==3.2.0) (5.2.1)\n",
      "Requirement already satisfied: certifi>=2017.4.17 in /usr/local/lib/python3.7/dist-packages (from requests<3.0.0,>=2.13.0->spacy<3.3.0,>=3.2.0->en-core-web-sm==3.2.0) (2021.10.8)\n",
      "Requirement already satisfied: idna<3,>=2.5 in /usr/local/lib/python3.7/dist-packages (from requests<3.0.0,>=2.13.0->spacy<3.3.0,>=3.2.0->en-core-web-sm==3.2.0) (2.10)\n",
      "Requirement already satisfied: chardet<4,>=3.0.2 in /usr/local/lib/python3.7/dist-packages (from requests<3.0.0,>=2.13.0->spacy<3.3.0,>=3.2.0->en-core-web-sm==3.2.0) (3.0.4)\n",
      "Requirement already satisfied: urllib3!=1.25.0,!=1.25.1,<1.26,>=1.21.1 in /usr/local/lib/python3.7/dist-packages (from requests<3.0.0,>=2.13.0->spacy<3.3.0,>=3.2.0->en-core-web-sm==3.2.0) (1.24.3)\n",
      "Requirement already satisfied: click<9.0.0,>=7.1.1 in /usr/local/lib/python3.7/dist-packages (from typer<0.5.0,>=0.3.0->spacy<3.3.0,>=3.2.0->en-core-web-sm==3.2.0) (7.1.2)\n",
      "Requirement already satisfied: MarkupSafe>=0.23 in /usr/local/lib/python3.7/dist-packages (from jinja2->spacy<3.3.0,>=3.2.0->en-core-web-sm==3.2.0) (2.0.1)\n",
      "Installing collected packages: en-core-web-sm\n",
      "  Attempting uninstall: en-core-web-sm\n",
      "    Found existing installation: en-core-web-sm 2.2.5\n",
      "    Uninstalling en-core-web-sm-2.2.5:\n",
      "      Successfully uninstalled en-core-web-sm-2.2.5\n",
      "Successfully installed en-core-web-sm-3.2.0\n",
      "\u001b[38;5;2m✔ Download and installation successful\u001b[0m\n",
      "You can now load the package via spacy.load('en_core_web_sm')\n"
     ]
    }
   ],
   "source": [
    "!python -m spacy download 'en_core_web_sm'"
   ]
  },
  {
   "cell_type": "code",
   "execution_count": 21,
   "metadata": {
    "execution": {
     "iopub.execute_input": "2022-02-09T14:28:40.127651Z",
     "iopub.status.busy": "2022-02-09T14:28:40.127507Z",
     "iopub.status.idle": "2022-02-09T14:28:40.386250Z",
     "shell.execute_reply": "2022-02-09T14:28:40.385773Z",
     "shell.execute_reply.started": "2022-02-09T14:28:40.127638Z"
    },
    "executionInfo": {
     "elapsed": 860,
     "status": "ok",
     "timestamp": 1644421375136,
     "user": {
      "displayName": "Shaannoor Mann",
      "photoUrl": "https://lh3.googleusercontent.com/a/default-user=s64",
      "userId": "02520257695567980696"
     },
     "user_tz": 360
    },
    "id": "PmZmCvuQQezx",
    "tags": []
   },
   "outputs": [],
   "source": [
    "# load spacy model\n",
    "nlp = spacy.load('en_core_web_sm')"
   ]
  },
  {
   "cell_type": "code",
   "execution_count": 22,
   "metadata": {
    "execution": {
     "iopub.execute_input": "2022-02-09T14:28:44.232680Z",
     "iopub.status.busy": "2022-02-09T14:28:44.232514Z",
     "iopub.status.idle": "2022-02-09T14:28:44.235272Z",
     "shell.execute_reply": "2022-02-09T14:28:44.234847Z",
     "shell.execute_reply.started": "2022-02-09T14:28:44.232652Z"
    },
    "executionInfo": {
     "elapsed": 127,
     "status": "ok",
     "timestamp": 1644421379470,
     "user": {
      "displayName": "Shaannoor Mann",
      "photoUrl": "https://lh3.googleusercontent.com/a/default-user=s64",
      "userId": "02520257695567980696"
     },
     "user_tz": 360
    },
    "id": "ea9obU6eBmwq",
    "tags": []
   },
   "outputs": [],
   "source": [
    "import sys\n",
    "sys.path.append('/content/drive/MyDrive/Custom_functions')\n",
    "#sys.path.append('/home/harpreet/Insync/google_drive_shaannoor/Custom_functions')"
   ]
  },
  {
   "cell_type": "code",
   "execution_count": 23,
   "metadata": {
    "execution": {
     "iopub.execute_input": "2022-02-09T14:28:46.945695Z",
     "iopub.status.busy": "2022-02-09T14:28:46.945454Z",
     "iopub.status.idle": "2022-02-09T14:28:46.948028Z",
     "shell.execute_reply": "2022-02-09T14:28:46.947600Z",
     "shell.execute_reply.started": "2022-02-09T14:28:46.945680Z"
    },
    "executionInfo": {
     "elapsed": 2202,
     "status": "ok",
     "timestamp": 1644421385142,
     "user": {
      "displayName": "Shaannoor Mann",
      "photoUrl": "https://lh3.googleusercontent.com/a/default-user=s64",
      "userId": "02520257695567980696"
     },
     "user_tz": 360
    },
    "id": "QNqrVjfXBzz_",
    "tags": []
   },
   "outputs": [],
   "source": [
    "import custom_preprocessor as cp\n",
    "from  plot_learning_curve import plot_learning_curve"
   ]
  },
  {
   "cell_type": "markdown",
   "metadata": {
    "id": "cXeG6ZQ4OVDj"
   },
   "source": [
    "## 2. Loading the dataset"
   ]
  },
  {
   "cell_type": "markdown",
   "metadata": {
    "id": "VBCaXYoyOb3z"
   },
   "source": [
    "For this notebook, we will use IMDB movie review dataset. <br>\n",
    "LInk for complete dataset: http://ai.stanford.edu/~amaas/data/sentiment/aclImdb_v1.tar.gz.\n",
    "\n",
    "We downloaded the dataset in the previous lecture (notebook: 10_Faster_tokenization_spacy_final.ipynb)\n",
    "\n",
    "We will now use the saved train.csv and test.csv file."
   ]
  },
  {
   "cell_type": "code",
   "execution_count": 28,
   "metadata": {
    "execution": {
     "iopub.execute_input": "2022-02-09T14:29:14.473352Z",
     "iopub.status.busy": "2022-02-09T14:29:14.473205Z",
     "iopub.status.idle": "2022-02-09T14:29:14.476198Z",
     "shell.execute_reply": "2022-02-09T14:29:14.475735Z",
     "shell.execute_reply.started": "2022-02-09T14:29:14.473339Z"
    },
    "executionInfo": {
     "elapsed": 111,
     "status": "ok",
     "timestamp": 1644421524874,
     "user": {
      "displayName": "Shaannoor Mann",
      "photoUrl": "https://lh3.googleusercontent.com/a/default-user=s64",
      "userId": "02520257695567980696"
     },
     "user_tz": 360
    },
    "id": "vt3b2mD67iaP",
    "tags": []
   },
   "outputs": [],
   "source": [
    "# location of train and test files\n",
    "train_file = data_folder / 'movie_review_data'/'train.csv'\n",
    "test_file = data_folder / 'movie_review_data'/'test.csv'"
   ]
  },
  {
   "cell_type": "code",
   "execution_count": 29,
   "metadata": {
    "execution": {
     "iopub.execute_input": "2022-02-09T14:29:15.266291Z",
     "iopub.status.busy": "2022-02-09T14:29:15.266137Z",
     "iopub.status.idle": "2022-02-09T14:29:15.584619Z",
     "shell.execute_reply": "2022-02-09T14:29:15.584123Z",
     "shell.execute_reply.started": "2022-02-09T14:29:15.266264Z"
    },
    "executionInfo": {
     "elapsed": 2142,
     "status": "ok",
     "timestamp": 1644421527585,
     "user": {
      "displayName": "Shaannoor Mann",
      "photoUrl": "https://lh3.googleusercontent.com/a/default-user=s64",
      "userId": "02520257695567980696"
     },
     "user_tz": 360
    },
    "id": "JCVJNVV7Pw8L",
    "tags": []
   },
   "outputs": [],
   "source": [
    "# creating Pandas Dataframe\n",
    "train_data = pd.read_csv(train_file, index_col=0)\n",
    "test_data = pd.read_csv(test_file, index_col=0)"
   ]
  },
  {
   "cell_type": "code",
   "execution_count": 30,
   "metadata": {
    "colab": {
     "base_uri": "https://localhost:8080/"
    },
    "execution": {
     "iopub.execute_input": "2022-02-09T14:29:15.807450Z",
     "iopub.status.busy": "2022-02-09T14:29:15.807240Z",
     "iopub.status.idle": "2022-02-09T14:29:15.810070Z",
     "shell.execute_reply": "2022-02-09T14:29:15.809744Z",
     "shell.execute_reply.started": "2022-02-09T14:29:15.807435Z"
    },
    "executionInfo": {
     "elapsed": 134,
     "status": "ok",
     "timestamp": 1644421531439,
     "user": {
      "displayName": "Shaannoor Mann",
      "photoUrl": "https://lh3.googleusercontent.com/a/default-user=s64",
      "userId": "02520257695567980696"
     },
     "user_tz": 360
    },
    "id": "RnR2Pe3F7iaQ",
    "outputId": "2c653e5a-a4cc-4310-968f-ec026d4ee682",
    "tags": []
   },
   "outputs": [
    {
     "name": "stdout",
     "output_type": "stream",
     "text": [
      "Shape of Training data set is : (25000, 2)\n",
      "Shape of Test data set is : (25000, 2)\n"
     ]
    }
   ],
   "source": [
    "# print shape of the datasets\n",
    "print(f'Shape of Training data set is : {train_data.shape}')\n",
    "print(f'Shape of Test data set is : {test_data.shape}')"
   ]
  },
  {
   "cell_type": "code",
   "execution_count": 31,
   "metadata": {
    "colab": {
     "base_uri": "https://localhost:8080/",
     "height": 206
    },
    "execution": {
     "iopub.execute_input": "2022-02-09T14:29:19.184838Z",
     "iopub.status.busy": "2022-02-09T14:29:19.184681Z",
     "iopub.status.idle": "2022-02-09T14:29:19.189406Z",
     "shell.execute_reply": "2022-02-09T14:29:19.189165Z",
     "shell.execute_reply.started": "2022-02-09T14:29:19.184811Z"
    },
    "executionInfo": {
     "elapsed": 463,
     "status": "ok",
     "timestamp": 1644421536975,
     "user": {
      "displayName": "Shaannoor Mann",
      "photoUrl": "https://lh3.googleusercontent.com/a/default-user=s64",
      "userId": "02520257695567980696"
     },
     "user_tz": 360
    },
    "id": "va-kIsiFfSwB",
    "outputId": "e20a84af-5781-4fcd-c417-214483721329",
    "tags": []
   },
   "outputs": [
    {
     "data": {
      "text/html": [
       "\n",
       "  <div id=\"df-c70ad731-0220-4ad0-bbad-d40613019db3\">\n",
       "    <div class=\"colab-df-container\">\n",
       "      <div>\n",
       "<style scoped>\n",
       "    .dataframe tbody tr th:only-of-type {\n",
       "        vertical-align: middle;\n",
       "    }\n",
       "\n",
       "    .dataframe tbody tr th {\n",
       "        vertical-align: top;\n",
       "    }\n",
       "\n",
       "    .dataframe thead th {\n",
       "        text-align: right;\n",
       "    }\n",
       "</style>\n",
       "<table border=\"1\" class=\"dataframe\">\n",
       "  <thead>\n",
       "    <tr style=\"text-align: right;\">\n",
       "      <th></th>\n",
       "      <th>Reviews</th>\n",
       "      <th>Labels</th>\n",
       "    </tr>\n",
       "  </thead>\n",
       "  <tbody>\n",
       "    <tr>\n",
       "      <th>0</th>\n",
       "      <td>Ever wanted to know just how much Hollywood co...</td>\n",
       "      <td>1</td>\n",
       "    </tr>\n",
       "    <tr>\n",
       "      <th>1</th>\n",
       "      <td>The movie itself was ok for the kids. But I go...</td>\n",
       "      <td>1</td>\n",
       "    </tr>\n",
       "    <tr>\n",
       "      <th>2</th>\n",
       "      <td>You could stage a version of Charles Dickens' ...</td>\n",
       "      <td>1</td>\n",
       "    </tr>\n",
       "    <tr>\n",
       "      <th>3</th>\n",
       "      <td>this was a fantastic episode. i saw a clip fro...</td>\n",
       "      <td>1</td>\n",
       "    </tr>\n",
       "    <tr>\n",
       "      <th>4</th>\n",
       "      <td>and laugh out loud funny in many scenes.&lt;br /&gt;...</td>\n",
       "      <td>1</td>\n",
       "    </tr>\n",
       "  </tbody>\n",
       "</table>\n",
       "</div>\n",
       "      <button class=\"colab-df-convert\" onclick=\"convertToInteractive('df-c70ad731-0220-4ad0-bbad-d40613019db3')\"\n",
       "              title=\"Convert this dataframe to an interactive table.\"\n",
       "              style=\"display:none;\">\n",
       "        \n",
       "  <svg xmlns=\"http://www.w3.org/2000/svg\" height=\"24px\"viewBox=\"0 0 24 24\"\n",
       "       width=\"24px\">\n",
       "    <path d=\"M0 0h24v24H0V0z\" fill=\"none\"/>\n",
       "    <path d=\"M18.56 5.44l.94 2.06.94-2.06 2.06-.94-2.06-.94-.94-2.06-.94 2.06-2.06.94zm-11 1L8.5 8.5l.94-2.06 2.06-.94-2.06-.94L8.5 2.5l-.94 2.06-2.06.94zm10 10l.94 2.06.94-2.06 2.06-.94-2.06-.94-.94-2.06-.94 2.06-2.06.94z\"/><path d=\"M17.41 7.96l-1.37-1.37c-.4-.4-.92-.59-1.43-.59-.52 0-1.04.2-1.43.59L10.3 9.45l-7.72 7.72c-.78.78-.78 2.05 0 2.83L4 21.41c.39.39.9.59 1.41.59.51 0 1.02-.2 1.41-.59l7.78-7.78 2.81-2.81c.8-.78.8-2.07 0-2.86zM5.41 20L4 18.59l7.72-7.72 1.47 1.35L5.41 20z\"/>\n",
       "  </svg>\n",
       "      </button>\n",
       "      \n",
       "  <style>\n",
       "    .colab-df-container {\n",
       "      display:flex;\n",
       "      flex-wrap:wrap;\n",
       "      gap: 12px;\n",
       "    }\n",
       "\n",
       "    .colab-df-convert {\n",
       "      background-color: #E8F0FE;\n",
       "      border: none;\n",
       "      border-radius: 50%;\n",
       "      cursor: pointer;\n",
       "      display: none;\n",
       "      fill: #1967D2;\n",
       "      height: 32px;\n",
       "      padding: 0 0 0 0;\n",
       "      width: 32px;\n",
       "    }\n",
       "\n",
       "    .colab-df-convert:hover {\n",
       "      background-color: #E2EBFA;\n",
       "      box-shadow: 0px 1px 2px rgba(60, 64, 67, 0.3), 0px 1px 3px 1px rgba(60, 64, 67, 0.15);\n",
       "      fill: #174EA6;\n",
       "    }\n",
       "\n",
       "    [theme=dark] .colab-df-convert {\n",
       "      background-color: #3B4455;\n",
       "      fill: #D2E3FC;\n",
       "    }\n",
       "\n",
       "    [theme=dark] .colab-df-convert:hover {\n",
       "      background-color: #434B5C;\n",
       "      box-shadow: 0px 1px 3px 1px rgba(0, 0, 0, 0.15);\n",
       "      filter: drop-shadow(0px 1px 2px rgba(0, 0, 0, 0.3));\n",
       "      fill: #FFFFFF;\n",
       "    }\n",
       "  </style>\n",
       "\n",
       "      <script>\n",
       "        const buttonEl =\n",
       "          document.querySelector('#df-c70ad731-0220-4ad0-bbad-d40613019db3 button.colab-df-convert');\n",
       "        buttonEl.style.display =\n",
       "          google.colab.kernel.accessAllowed ? 'block' : 'none';\n",
       "\n",
       "        async function convertToInteractive(key) {\n",
       "          const element = document.querySelector('#df-c70ad731-0220-4ad0-bbad-d40613019db3');\n",
       "          const dataTable =\n",
       "            await google.colab.kernel.invokeFunction('convertToInteractive',\n",
       "                                                     [key], {});\n",
       "          if (!dataTable) return;\n",
       "\n",
       "          const docLinkHtml = 'Like what you see? Visit the ' +\n",
       "            '<a target=\"_blank\" href=https://colab.research.google.com/notebooks/data_table.ipynb>data table notebook</a>'\n",
       "            + ' to learn more about interactive tables.';\n",
       "          element.innerHTML = '';\n",
       "          dataTable['output_type'] = 'display_data';\n",
       "          await google.colab.output.renderOutput(dataTable, element);\n",
       "          const docLink = document.createElement('div');\n",
       "          docLink.innerHTML = docLinkHtml;\n",
       "          element.appendChild(docLink);\n",
       "        }\n",
       "      </script>\n",
       "    </div>\n",
       "  </div>\n",
       "  "
      ],
      "text/plain": [
       "                                             Reviews  Labels\n",
       "0  Ever wanted to know just how much Hollywood co...       1\n",
       "1  The movie itself was ok for the kids. But I go...       1\n",
       "2  You could stage a version of Charles Dickens' ...       1\n",
       "3  this was a fantastic episode. i saw a clip fro...       1\n",
       "4  and laugh out loud funny in many scenes.<br />...       1"
      ]
     },
     "execution_count": 31,
     "metadata": {},
     "output_type": "execute_result"
    }
   ],
   "source": [
    "#Printing top 5 train records\n",
    "train_data.head()"
   ]
  },
  {
   "cell_type": "code",
   "execution_count": 32,
   "metadata": {
    "colab": {
     "base_uri": "https://localhost:8080/",
     "height": 206
    },
    "execution": {
     "iopub.execute_input": "2022-02-09T14:29:21.794842Z",
     "iopub.status.busy": "2022-02-09T14:29:21.794712Z",
     "iopub.status.idle": "2022-02-09T14:29:21.799326Z",
     "shell.execute_reply": "2022-02-09T14:29:21.798975Z",
     "shell.execute_reply.started": "2022-02-09T14:29:21.794827Z"
    },
    "executionInfo": {
     "elapsed": 145,
     "status": "ok",
     "timestamp": 1644421537948,
     "user": {
      "displayName": "Shaannoor Mann",
      "photoUrl": "https://lh3.googleusercontent.com/a/default-user=s64",
      "userId": "02520257695567980696"
     },
     "user_tz": 360
    },
    "id": "nd5KV5JHfS5I",
    "outputId": "00e6d501-098a-46fc-fe82-9b1f5630c72b",
    "tags": []
   },
   "outputs": [
    {
     "data": {
      "text/html": [
       "\n",
       "  <div id=\"df-0a887b77-742e-46fb-8f3b-7565bf156b99\">\n",
       "    <div class=\"colab-df-container\">\n",
       "      <div>\n",
       "<style scoped>\n",
       "    .dataframe tbody tr th:only-of-type {\n",
       "        vertical-align: middle;\n",
       "    }\n",
       "\n",
       "    .dataframe tbody tr th {\n",
       "        vertical-align: top;\n",
       "    }\n",
       "\n",
       "    .dataframe thead th {\n",
       "        text-align: right;\n",
       "    }\n",
       "</style>\n",
       "<table border=\"1\" class=\"dataframe\">\n",
       "  <thead>\n",
       "    <tr style=\"text-align: right;\">\n",
       "      <th></th>\n",
       "      <th>Reviews</th>\n",
       "      <th>Labels</th>\n",
       "    </tr>\n",
       "  </thead>\n",
       "  <tbody>\n",
       "    <tr>\n",
       "      <th>0</th>\n",
       "      <td>THE SEA INSIDE a film by Alejandro Amenabar.&lt;b...</td>\n",
       "      <td>1</td>\n",
       "    </tr>\n",
       "    <tr>\n",
       "      <th>1</th>\n",
       "      <td>After World War II the ungoing crime in Phenix...</td>\n",
       "      <td>1</td>\n",
       "    </tr>\n",
       "    <tr>\n",
       "      <th>2</th>\n",
       "      <td>\"Pitch Black\" was a complete shock to me when ...</td>\n",
       "      <td>1</td>\n",
       "    </tr>\n",
       "    <tr>\n",
       "      <th>3</th>\n",
       "      <td>This film is an excellent teaching tool as a p...</td>\n",
       "      <td>1</td>\n",
       "    </tr>\n",
       "    <tr>\n",
       "      <th>4</th>\n",
       "      <td>Sweet, rich valley girl develops crush on a pu...</td>\n",
       "      <td>1</td>\n",
       "    </tr>\n",
       "  </tbody>\n",
       "</table>\n",
       "</div>\n",
       "      <button class=\"colab-df-convert\" onclick=\"convertToInteractive('df-0a887b77-742e-46fb-8f3b-7565bf156b99')\"\n",
       "              title=\"Convert this dataframe to an interactive table.\"\n",
       "              style=\"display:none;\">\n",
       "        \n",
       "  <svg xmlns=\"http://www.w3.org/2000/svg\" height=\"24px\"viewBox=\"0 0 24 24\"\n",
       "       width=\"24px\">\n",
       "    <path d=\"M0 0h24v24H0V0z\" fill=\"none\"/>\n",
       "    <path d=\"M18.56 5.44l.94 2.06.94-2.06 2.06-.94-2.06-.94-.94-2.06-.94 2.06-2.06.94zm-11 1L8.5 8.5l.94-2.06 2.06-.94-2.06-.94L8.5 2.5l-.94 2.06-2.06.94zm10 10l.94 2.06.94-2.06 2.06-.94-2.06-.94-.94-2.06-.94 2.06-2.06.94z\"/><path d=\"M17.41 7.96l-1.37-1.37c-.4-.4-.92-.59-1.43-.59-.52 0-1.04.2-1.43.59L10.3 9.45l-7.72 7.72c-.78.78-.78 2.05 0 2.83L4 21.41c.39.39.9.59 1.41.59.51 0 1.02-.2 1.41-.59l7.78-7.78 2.81-2.81c.8-.78.8-2.07 0-2.86zM5.41 20L4 18.59l7.72-7.72 1.47 1.35L5.41 20z\"/>\n",
       "  </svg>\n",
       "      </button>\n",
       "      \n",
       "  <style>\n",
       "    .colab-df-container {\n",
       "      display:flex;\n",
       "      flex-wrap:wrap;\n",
       "      gap: 12px;\n",
       "    }\n",
       "\n",
       "    .colab-df-convert {\n",
       "      background-color: #E8F0FE;\n",
       "      border: none;\n",
       "      border-radius: 50%;\n",
       "      cursor: pointer;\n",
       "      display: none;\n",
       "      fill: #1967D2;\n",
       "      height: 32px;\n",
       "      padding: 0 0 0 0;\n",
       "      width: 32px;\n",
       "    }\n",
       "\n",
       "    .colab-df-convert:hover {\n",
       "      background-color: #E2EBFA;\n",
       "      box-shadow: 0px 1px 2px rgba(60, 64, 67, 0.3), 0px 1px 3px 1px rgba(60, 64, 67, 0.15);\n",
       "      fill: #174EA6;\n",
       "    }\n",
       "\n",
       "    [theme=dark] .colab-df-convert {\n",
       "      background-color: #3B4455;\n",
       "      fill: #D2E3FC;\n",
       "    }\n",
       "\n",
       "    [theme=dark] .colab-df-convert:hover {\n",
       "      background-color: #434B5C;\n",
       "      box-shadow: 0px 1px 3px 1px rgba(0, 0, 0, 0.15);\n",
       "      filter: drop-shadow(0px 1px 2px rgba(0, 0, 0, 0.3));\n",
       "      fill: #FFFFFF;\n",
       "    }\n",
       "  </style>\n",
       "\n",
       "      <script>\n",
       "        const buttonEl =\n",
       "          document.querySelector('#df-0a887b77-742e-46fb-8f3b-7565bf156b99 button.colab-df-convert');\n",
       "        buttonEl.style.display =\n",
       "          google.colab.kernel.accessAllowed ? 'block' : 'none';\n",
       "\n",
       "        async function convertToInteractive(key) {\n",
       "          const element = document.querySelector('#df-0a887b77-742e-46fb-8f3b-7565bf156b99');\n",
       "          const dataTable =\n",
       "            await google.colab.kernel.invokeFunction('convertToInteractive',\n",
       "                                                     [key], {});\n",
       "          if (!dataTable) return;\n",
       "\n",
       "          const docLinkHtml = 'Like what you see? Visit the ' +\n",
       "            '<a target=\"_blank\" href=https://colab.research.google.com/notebooks/data_table.ipynb>data table notebook</a>'\n",
       "            + ' to learn more about interactive tables.';\n",
       "          element.innerHTML = '';\n",
       "          dataTable['output_type'] = 'display_data';\n",
       "          await google.colab.output.renderOutput(dataTable, element);\n",
       "          const docLink = document.createElement('div');\n",
       "          docLink.innerHTML = docLinkHtml;\n",
       "          element.appendChild(docLink);\n",
       "        }\n",
       "      </script>\n",
       "    </div>\n",
       "  </div>\n",
       "  "
      ],
      "text/plain": [
       "                                             Reviews  Labels\n",
       "0  THE SEA INSIDE a film by Alejandro Amenabar.<b...       1\n",
       "1  After World War II the ungoing crime in Phenix...       1\n",
       "2  \"Pitch Black\" was a complete shock to me when ...       1\n",
       "3  This film is an excellent teaching tool as a p...       1\n",
       "4  Sweet, rich valley girl develops crush on a pu...       1"
      ]
     },
     "execution_count": 32,
     "metadata": {},
     "output_type": "execute_result"
    }
   ],
   "source": [
    "#Printing top 5 test records\n",
    "test_data.head()"
   ]
  },
  {
   "cell_type": "code",
   "execution_count": 33,
   "metadata": {
    "execution": {
     "iopub.execute_input": "2022-02-09T14:29:25.890473Z",
     "iopub.status.busy": "2022-02-09T14:29:25.890315Z",
     "iopub.status.idle": "2022-02-09T14:29:25.894107Z",
     "shell.execute_reply": "2022-02-09T14:29:25.893690Z",
     "shell.execute_reply.started": "2022-02-09T14:29:25.890459Z"
    },
    "executionInfo": {
     "elapsed": 121,
     "status": "ok",
     "timestamp": 1644421540049,
     "user": {
      "displayName": "Shaannoor Mann",
      "photoUrl": "https://lh3.googleusercontent.com/a/default-user=s64",
      "userId": "02520257695567980696"
     },
     "user_tz": 360
    },
    "id": "R0bHgmAB7iaQ",
    "tags": []
   },
   "outputs": [],
   "source": [
    "train_smaller = train_data.sample(frac=0.1, replace=True, random_state=1)"
   ]
  },
  {
   "cell_type": "code",
   "execution_count": 34,
   "metadata": {
    "execution": {
     "iopub.execute_input": "2022-02-09T14:29:26.309149Z",
     "iopub.status.busy": "2022-02-09T14:29:26.309001Z",
     "iopub.status.idle": "2022-02-09T14:29:26.312572Z",
     "shell.execute_reply": "2022-02-09T14:29:26.312235Z",
     "shell.execute_reply.started": "2022-02-09T14:29:26.309134Z"
    },
    "executionInfo": {
     "elapsed": 3,
     "status": "ok",
     "timestamp": 1644421540958,
     "user": {
      "displayName": "Shaannoor Mann",
      "photoUrl": "https://lh3.googleusercontent.com/a/default-user=s64",
      "userId": "02520257695567980696"
     },
     "user_tz": 360
    },
    "id": "1xlLyOwv7iaQ",
    "tags": []
   },
   "outputs": [],
   "source": [
    "test_smaller = test_data.sample(frac=0.1, replace=True, random_state=1)"
   ]
  },
  {
   "cell_type": "markdown",
   "metadata": {
    "id": "HVGBwK11RtQI"
   },
   "source": [
    "## 3. Exploratory Data Analysis"
   ]
  },
  {
   "cell_type": "code",
   "execution_count": 35,
   "metadata": {
    "colab": {
     "base_uri": "https://localhost:8080/"
    },
    "execution": {
     "iopub.execute_input": "2022-02-09T14:29:29.385415Z",
     "iopub.status.busy": "2022-02-09T14:29:29.385270Z",
     "iopub.status.idle": "2022-02-09T14:29:29.392950Z",
     "shell.execute_reply": "2022-02-09T14:29:29.392681Z",
     "shell.execute_reply.started": "2022-02-09T14:29:29.385401Z"
    },
    "executionInfo": {
     "elapsed": 142,
     "status": "ok",
     "timestamp": 1644421544030,
     "user": {
      "displayName": "Shaannoor Mann",
      "photoUrl": "https://lh3.googleusercontent.com/a/default-user=s64",
      "userId": "02520257695567980696"
     },
     "user_tz": 360
    },
    "id": "kZl-W7FmQKNn",
    "outputId": "b13afc24-6b0d-4b37-80c6-fbe5aa3754aa",
    "tags": []
   },
   "outputs": [
    {
     "name": "stdout",
     "output_type": "stream",
     "text": [
      "<class 'pandas.core.frame.DataFrame'>\n",
      "Int64Index: 2500 entries, 235 to 21762\n",
      "Data columns (total 2 columns):\n",
      " #   Column   Non-Null Count  Dtype \n",
      "---  ------   --------------  ----- \n",
      " 0   Reviews  2500 non-null   object\n",
      " 1   Labels   2500 non-null   int64 \n",
      "dtypes: int64(1), object(1)\n",
      "memory usage: 58.6+ KB\n"
     ]
    }
   ],
   "source": [
    "# Printing basic info\n",
    "train_smaller.info()"
   ]
  },
  {
   "cell_type": "code",
   "execution_count": 36,
   "metadata": {
    "colab": {
     "base_uri": "https://localhost:8080/"
    },
    "execution": {
     "iopub.execute_input": "2022-02-09T14:29:32.550065Z",
     "iopub.status.busy": "2022-02-09T14:29:32.549917Z",
     "iopub.status.idle": "2022-02-09T14:29:32.553837Z",
     "shell.execute_reply": "2022-02-09T14:29:32.553543Z",
     "shell.execute_reply.started": "2022-02-09T14:29:32.550051Z"
    },
    "executionInfo": {
     "elapsed": 123,
     "status": "ok",
     "timestamp": 1644421547937,
     "user": {
      "displayName": "Shaannoor Mann",
      "photoUrl": "https://lh3.googleusercontent.com/a/default-user=s64",
      "userId": "02520257695567980696"
     },
     "user_tz": 360
    },
    "id": "fb8N0DxOS4ya",
    "outputId": "9aff7621-9066-4872-a1e2-30559315ffc5",
    "tags": []
   },
   "outputs": [
    {
     "data": {
      "text/plain": [
       "1    1286\n",
       "0    1214\n",
       "Name: Labels, dtype: int64"
      ]
     },
     "execution_count": 36,
     "metadata": {},
     "output_type": "execute_result"
    }
   ],
   "source": [
    "# Checking distribution of class labels for train dataset\n",
    "train_smaller['Labels'].value_counts()"
   ]
  },
  {
   "cell_type": "code",
   "execution_count": 37,
   "metadata": {
    "colab": {
     "base_uri": "https://localhost:8080/"
    },
    "execution": {
     "iopub.execute_input": "2022-02-09T14:29:35.445203Z",
     "iopub.status.busy": "2022-02-09T14:29:35.445059Z",
     "iopub.status.idle": "2022-02-09T14:29:35.449435Z",
     "shell.execute_reply": "2022-02-09T14:29:35.448941Z",
     "shell.execute_reply.started": "2022-02-09T14:29:35.445190Z"
    },
    "executionInfo": {
     "elapsed": 132,
     "status": "ok",
     "timestamp": 1644421549087,
     "user": {
      "displayName": "Shaannoor Mann",
      "photoUrl": "https://lh3.googleusercontent.com/a/default-user=s64",
      "userId": "02520257695567980696"
     },
     "user_tz": 360
    },
    "id": "1_JOgXnP7iaR",
    "outputId": "595e8100-84f9-4d2e-c7de-6de7c15a7428",
    "tags": []
   },
   "outputs": [
    {
     "data": {
      "text/plain": [
       "1    1286\n",
       "0    1214\n",
       "Name: Labels, dtype: int64"
      ]
     },
     "execution_count": 37,
     "metadata": {},
     "output_type": "execute_result"
    }
   ],
   "source": [
    "# Checking distribution of class labels for test dataset\n",
    "test_smaller['Labels'].value_counts()"
   ]
  },
  {
   "cell_type": "markdown",
   "metadata": {
    "id": "sDcmzNupe2qU"
   },
   "source": [
    "As we can see our data is well balannced."
   ]
  },
  {
   "cell_type": "markdown",
   "metadata": {
    "id": "cYA5wfV4V_QW"
   },
   "source": [
    "## 4. Classification Pipeline"
   ]
  },
  {
   "cell_type": "markdown",
   "metadata": {
    "id": "3zISsuAZYVmF"
   },
   "source": [
    "### Train-Test Split"
   ]
  },
  {
   "cell_type": "code",
   "execution_count": 38,
   "metadata": {
    "colab": {
     "base_uri": "https://localhost:8080/"
    },
    "execution": {
     "iopub.execute_input": "2022-02-09T14:29:39.918788Z",
     "iopub.status.busy": "2022-02-09T14:29:39.918643Z",
     "iopub.status.idle": "2022-02-09T14:29:39.922233Z",
     "shell.execute_reply": "2022-02-09T14:29:39.921892Z",
     "shell.execute_reply.started": "2022-02-09T14:29:39.918774Z"
    },
    "executionInfo": {
     "elapsed": 195,
     "status": "ok",
     "timestamp": 1644421552163,
     "user": {
      "displayName": "Shaannoor Mann",
      "photoUrl": "https://lh3.googleusercontent.com/a/default-user=s64",
      "userId": "02520257695567980696"
     },
     "user_tz": 360
    },
    "id": "R-EJYrOMYZ4A",
    "outputId": "ffe7de15-5db4-4630-824a-e31e1a30664e",
    "tags": []
   },
   "outputs": [
    {
     "name": "stdout",
     "output_type": "stream",
     "text": [
      "X_train: (2500,) y_train: (2500,)\n",
      "X_test: (2500,) y_test: (2500,)\n"
     ]
    }
   ],
   "source": [
    "X_train, X_test, y_train, y_test = train_smaller['Reviews'].values, test_smaller['Reviews'].values, train_smaller['Labels'].values, test_smaller['Labels'].values\n",
    "\n",
    "print(f'X_train: {X_train.shape} y_train: {y_train.shape}')\n",
    "print(f'X_test: {X_test.shape} y_test: {y_test.shape}')"
   ]
  },
  {
   "cell_type": "markdown",
   "metadata": {
    "id": "7m07RCyWb-_-"
   },
   "source": [
    "### Data Preprocessing + Sparse Embeddings (TF-IDF) + ML Model pipeline"
   ]
  },
  {
   "cell_type": "markdown",
   "metadata": {
    "id": "AkCC9cfldL1f"
   },
   "source": [
    "#### Preprocessing as part of pipeline\n",
    "-- preprocessor --> TFidf Vectorizer --> Logistic Regression"
   ]
  },
  {
   "cell_type": "code",
   "execution_count": 41,
   "metadata": {
    "execution": {
     "iopub.execute_input": "2022-02-09T14:29:56.403699Z",
     "iopub.status.busy": "2022-02-09T14:29:56.403508Z",
     "iopub.status.idle": "2022-02-09T14:29:56.406333Z",
     "shell.execute_reply": "2022-02-09T14:29:56.406063Z",
     "shell.execute_reply.started": "2022-02-09T14:29:56.403683Z"
    },
    "executionInfo": {
     "elapsed": 136,
     "status": "ok",
     "timestamp": 1644421615987,
     "user": {
      "displayName": "Shaannoor Mann",
      "photoUrl": "https://lh3.googleusercontent.com/a/default-user=s64",
      "userId": "02520257695567980696"
     },
     "user_tz": 360
    },
    "id": "Q-XHLVtP62Zf",
    "tags": []
   },
   "outputs": [],
   "source": [
    "classifier_1 = Pipeline([('preprocessor', cp.SpacyPreprocessor(model = 'en_core_web_sm',remove_stop=False)),\n",
    "                  ('vectorizer', TfidfVectorizer(analyzer='word', token_pattern=r\"[\\S]+\")),\n",
    "                 \n",
    "                  ('classifier', LogisticRegression()),\n",
    "                 ])"
   ]
  },
  {
   "cell_type": "code",
   "execution_count": 42,
   "metadata": {
    "execution": {
     "iopub.execute_input": "2022-02-09T14:30:07.185404Z",
     "iopub.status.busy": "2022-02-09T14:30:07.185202Z",
     "iopub.status.idle": "2022-02-09T14:30:07.188231Z",
     "shell.execute_reply": "2022-02-09T14:30:07.187742Z",
     "shell.execute_reply.started": "2022-02-09T14:30:07.185390Z"
    },
    "executionInfo": {
     "elapsed": 137,
     "status": "ok",
     "timestamp": 1644421620138,
     "user": {
      "displayName": "Shaannoor Mann",
      "photoUrl": "https://lh3.googleusercontent.com/a/default-user=s64",
      "userId": "02520257695567980696"
     },
     "user_tz": 360
    },
    "id": "pblJqCI37iaS",
    "tags": []
   },
   "outputs": [],
   "source": [
    "# We have used default valus for all parameters except for lammetizer\n",
    "# Ideally we can specify range of values for all parameters\n",
    "# If the search space is very large then we should use RandomSerachCV\n",
    "# use following hyperparameters -- vectorizer max_feattures -- 1000, vectorizer --max_df --0.8, classifier C [0.1, 1]\n",
    "\n",
    "param_grid_classifier_1 = {'preprocessor__lammetize' : [True, False],\n",
    "                'vectorizer__max_features': [1000],\n",
    "                'vectorizer__max_df': [0.8],\n",
    "                'classifier__C': [0.1, 1]}"
   ]
  },
  {
   "cell_type": "code",
   "execution_count": 43,
   "metadata": {
    "execution": {
     "iopub.execute_input": "2022-02-09T14:30:10.499988Z",
     "iopub.status.busy": "2022-02-09T14:30:10.499831Z",
     "iopub.status.idle": "2022-02-09T14:30:10.502388Z",
     "shell.execute_reply": "2022-02-09T14:30:10.502015Z",
     "shell.execute_reply.started": "2022-02-09T14:30:10.499974Z"
    },
    "executionInfo": {
     "elapsed": 128,
     "status": "ok",
     "timestamp": 1644421624653,
     "user": {
      "displayName": "Shaannoor Mann",
      "photoUrl": "https://lh3.googleusercontent.com/a/default-user=s64",
      "userId": "02520257695567980696"
     },
     "user_tz": 360
    },
    "id": "koVy8XkF7iaS",
    "tags": []
   },
   "outputs": [],
   "source": [
    "# We will now use Gridserach to find fine tune hyperparameters using cross validation\n",
    "# The advantage of using pipelines is that we can avoid data leakage\n",
    "# Since we have balanced data set, we will use default scoring method of accuracy\n",
    "# the typical value of cv used is 5. We are using 2, just for demonstration.\n",
    "\n",
    "grid_classifier_1 = GridSearchCV(estimator=classifier_1, param_grid=param_grid_classifier_1, cv = 2)"
   ]
  },
  {
   "cell_type": "code",
   "execution_count": 44,
   "metadata": {
    "colab": {
     "base_uri": "https://localhost:8080/"
    },
    "execution": {
     "iopub.execute_input": "2022-02-09T14:30:13.650729Z",
     "iopub.status.busy": "2022-02-09T14:30:13.650586Z",
     "iopub.status.idle": "2022-02-09T14:32:37.969828Z",
     "shell.execute_reply": "2022-02-09T14:32:37.969429Z",
     "shell.execute_reply.started": "2022-02-09T14:30:13.650715Z"
    },
    "executionInfo": {
     "elapsed": 368495,
     "status": "ok",
     "timestamp": 1644421994177,
     "user": {
      "displayName": "Shaannoor Mann",
      "photoUrl": "https://lh3.googleusercontent.com/a/default-user=s64",
      "userId": "02520257695567980696"
     },
     "user_tz": 360
    },
    "id": "dhXvpXLD7iaS",
    "outputId": "293b5697-3ec0-4a37-b5f1-21f844cb6e9b",
    "tags": []
   },
   "outputs": [
    {
     "data": {
      "text/plain": [
       "GridSearchCV(cv=2,\n",
       "             estimator=Pipeline(steps=[('preprocessor',\n",
       "                                        SpacyPreprocessor(model='en_core_web_sm',\n",
       "                                                          remove_stop=False)),\n",
       "                                       ('vectorizer',\n",
       "                                        TfidfVectorizer(token_pattern='[\\\\S]+')),\n",
       "                                       ('classifier', LogisticRegression())]),\n",
       "             param_grid={'classifier__C': [0.1, 1],\n",
       "                         'preprocessor__lammetize': [True, False],\n",
       "                         'vectorizer__max_df': [0.8],\n",
       "                         'vectorizer__max_features': [1000]})"
      ]
     },
     "execution_count": 44,
     "metadata": {},
     "output_type": "execute_result"
    }
   ],
   "source": [
    "# Fit the model on training data\n",
    "# This cell will take up to 5 minutes\n",
    "grid_classifier_1.fit(X_train, y_train)"
   ]
  },
  {
   "cell_type": "code",
   "execution_count": 45,
   "metadata": {
    "colab": {
     "base_uri": "https://localhost:8080/"
    },
    "execution": {
     "iopub.execute_input": "2022-02-09T14:32:37.970646Z",
     "iopub.status.busy": "2022-02-09T14:32:37.970546Z",
     "iopub.status.idle": "2022-02-09T14:32:37.975720Z",
     "shell.execute_reply": "2022-02-09T14:32:37.975453Z",
     "shell.execute_reply.started": "2022-02-09T14:32:37.970633Z"
    },
    "executionInfo": {
     "elapsed": 20,
     "status": "ok",
     "timestamp": 1644421994178,
     "user": {
      "displayName": "Shaannoor Mann",
      "photoUrl": "https://lh3.googleusercontent.com/a/default-user=s64",
      "userId": "02520257695567980696"
     },
     "user_tz": 360
    },
    "id": "0dUW-IgK-CtM",
    "outputId": "613ab861-71c6-4bf3-b547-862e23884c6a"
   },
   "outputs": [
    {
     "name": "stdout",
     "output_type": "stream",
     "text": [
      "Best cross-validation score: 0.83\n",
      "\n",
      "Best parameters:  {'classifier__C': 1, 'preprocessor__lammetize': True, 'vectorizer__max_df': 0.8, 'vectorizer__max_features': 1000}\n",
      "\n",
      "Best Estimator  Pipeline(steps=[('preprocessor',\n",
      "                 SpacyPreprocessor(model='en_core_web_sm', remove_stop=False)),\n",
      "                ('vectorizer',\n",
      "                 TfidfVectorizer(max_df=0.8, max_features=1000,\n",
      "                                 token_pattern='[\\\\S]+')),\n",
      "                ('classifier', LogisticRegression(C=1))])\n"
     ]
    }
   ],
   "source": [
    "print(\"Best cross-validation score: {:.2f}\".format(grid_classifier_1.best_score_))\n",
    "print(\"\\nBest parameters: \", grid_classifier_1.best_params_)\n",
    "print(\"\\nBest Estimator \", grid_classifier_1.best_estimator_)"
   ]
  },
  {
   "cell_type": "code",
   "execution_count": 46,
   "metadata": {
    "colab": {
     "base_uri": "https://localhost:8080/"
    },
    "execution": {
     "iopub.execute_input": "2022-02-09T14:32:37.976335Z",
     "iopub.status.busy": "2022-02-09T14:32:37.976216Z",
     "iopub.status.idle": "2022-02-09T14:33:02.335794Z",
     "shell.execute_reply": "2022-02-09T14:33:02.335447Z",
     "shell.execute_reply.started": "2022-02-09T14:32:37.976322Z"
    },
    "executionInfo": {
     "elapsed": 60573,
     "status": "ok",
     "timestamp": 1644422054738,
     "user": {
      "displayName": "Shaannoor Mann",
      "photoUrl": "https://lh3.googleusercontent.com/a/default-user=s64",
      "userId": "02520257695567980696"
     },
     "user_tz": 360
    },
    "id": "WFwlECBm7iaS",
    "outputId": "985d0edb-e045-4690-9441-0dd2c0955414",
    "tags": []
   },
   "outputs": [
    {
     "name": "stdout",
     "output_type": "stream",
     "text": [
      "Accuracy on train set is 0.9088\n"
     ]
    }
   ],
   "source": [
    "# Accuracy on Train data set\n",
    "grid_classifier_1_train_score = grid_classifier_1.score(X_train, y_train)\n",
    "print(f'Accuracy on train set is {grid_classifier_1_train_score}')"
   ]
  },
  {
   "cell_type": "markdown",
   "metadata": {
    "id": "6UGGDtDsdj40"
   },
   "source": [
    "#### Pre-processing as a separate step"
   ]
  },
  {
   "cell_type": "code",
   "execution_count": 47,
   "metadata": {
    "execution": {
     "iopub.execute_input": "2022-02-09T14:33:02.336817Z",
     "iopub.status.busy": "2022-02-09T14:33:02.336718Z",
     "iopub.status.idle": "2022-02-09T14:33:26.620831Z",
     "shell.execute_reply": "2022-02-09T14:33:26.620307Z",
     "shell.execute_reply.started": "2022-02-09T14:33:02.336804Z"
    },
    "executionInfo": {
     "elapsed": 63069,
     "status": "ok",
     "timestamp": 1644422117795,
     "user": {
      "displayName": "Shaannoor Mann",
      "photoUrl": "https://lh3.googleusercontent.com/a/default-user=s64",
      "userId": "02520257695567980696"
     },
     "user_tz": 360
    },
    "id": "NAZ07JFidsY3",
    "tags": []
   },
   "outputs": [],
   "source": [
    "# Step 1: Preprocessing\n",
    "X_train_cleaned = cp.SpacyPreprocessor(model = 'en_core_web_sm', remove_stop=True).transform(X_train)"
   ]
  },
  {
   "cell_type": "code",
   "execution_count": 48,
   "metadata": {
    "execution": {
     "iopub.execute_input": "2022-02-09T14:33:26.621494Z",
     "iopub.status.busy": "2022-02-09T14:33:26.621383Z",
     "iopub.status.idle": "2022-02-09T14:33:26.624020Z",
     "shell.execute_reply": "2022-02-09T14:33:26.623779Z",
     "shell.execute_reply.started": "2022-02-09T14:33:26.621482Z"
    },
    "executionInfo": {
     "elapsed": 13,
     "status": "ok",
     "timestamp": 1644422117796,
     "user": {
      "displayName": "Shaannoor Mann",
      "photoUrl": "https://lh3.googleusercontent.com/a/default-user=s64",
      "userId": "02520257695567980696"
     },
     "user_tz": 360
    },
    "id": "eFs9aC3deKAx",
    "tags": []
   },
   "outputs": [],
   "source": [
    "classifier_1a = Pipeline([('vectorizer', TfidfVectorizer(analyzer='word', token_pattern=r\"[\\S]+\")),\n",
    "                         ('classifier', LogisticRegression(max_iter = 10000)),\n",
    "                        ])"
   ]
  },
  {
   "cell_type": "code",
   "execution_count": 49,
   "metadata": {
    "execution": {
     "iopub.execute_input": "2022-02-09T14:33:26.624619Z",
     "iopub.status.busy": "2022-02-09T14:33:26.624509Z",
     "iopub.status.idle": "2022-02-09T14:33:26.628101Z",
     "shell.execute_reply": "2022-02-09T14:33:26.627709Z",
     "shell.execute_reply.started": "2022-02-09T14:33:26.624608Z"
    },
    "executionInfo": {
     "elapsed": 11,
     "status": "ok",
     "timestamp": 1644422117796,
     "user": {
      "displayName": "Shaannoor Mann",
      "photoUrl": "https://lh3.googleusercontent.com/a/default-user=s64",
      "userId": "02520257695567980696"
     },
     "user_tz": 360
    },
    "id": "Rj859icxkmvH",
    "tags": []
   },
   "outputs": [],
   "source": [
    "# We have used default valus for all parameters except for lammetizer\n",
    "# Ideally we can specify range of values for all parameters\n",
    "# If the search space is very large then we should use RandomSerachCV\n",
    "\n",
    "param_grid_classifier_1a = {'vectorizer__max_features': [500, 1000, 2000, None],\n",
    "                           'vectorizer__max_df': [0.8, 0.6, 0.4],\n",
    "                           'classifier__C': [0.1, 1, 10]}"
   ]
  },
  {
   "cell_type": "code",
   "execution_count": 50,
   "metadata": {
    "execution": {
     "iopub.execute_input": "2022-02-09T14:33:26.628685Z",
     "iopub.status.busy": "2022-02-09T14:33:26.628569Z",
     "iopub.status.idle": "2022-02-09T14:33:26.632001Z",
     "shell.execute_reply": "2022-02-09T14:33:26.631766Z",
     "shell.execute_reply.started": "2022-02-09T14:33:26.628672Z"
    },
    "executionInfo": {
     "elapsed": 13,
     "status": "ok",
     "timestamp": 1644422117798,
     "user": {
      "displayName": "Shaannoor Mann",
      "photoUrl": "https://lh3.googleusercontent.com/a/default-user=s64",
      "userId": "02520257695567980696"
     },
     "user_tz": 360
    },
    "id": "fOI19ImAkc4U",
    "tags": []
   },
   "outputs": [],
   "source": [
    "# We will now use Gridserach to find fine tune hyperparameters using cross validation\n",
    "# The advantage of using pipelines is that we can avoid data leakage\n",
    "# Since we have balanced data set, we will use default scoring method of accuracy\n",
    "# the typical value of cv used is 5. We are using 3, just for demonstration.\n",
    "\n",
    "grid_classifier_1a = GridSearchCV(estimator=classifier_1a, param_grid=param_grid_classifier_1a, cv = 3)"
   ]
  },
  {
   "cell_type": "code",
   "execution_count": 51,
   "metadata": {
    "colab": {
     "base_uri": "https://localhost:8080/"
    },
    "execution": {
     "iopub.execute_input": "2022-02-09T14:33:26.632527Z",
     "iopub.status.busy": "2022-02-09T14:33:26.632416Z",
     "iopub.status.idle": "2022-02-09T14:33:42.715260Z",
     "shell.execute_reply": "2022-02-09T14:33:42.714941Z",
     "shell.execute_reply.started": "2022-02-09T14:33:26.632515Z"
    },
    "executionInfo": {
     "elapsed": 41966,
     "status": "ok",
     "timestamp": 1644422159752,
     "user": {
      "displayName": "Shaannoor Mann",
      "photoUrl": "https://lh3.googleusercontent.com/a/default-user=s64",
      "userId": "02520257695567980696"
     },
     "user_tz": 360
    },
    "id": "nbRCGcGPlKVj",
    "outputId": "5ebf93ea-8838-4cd3-e0f5-7277914a4d13",
    "tags": []
   },
   "outputs": [
    {
     "data": {
      "text/plain": [
       "GridSearchCV(cv=3,\n",
       "             estimator=Pipeline(steps=[('vectorizer',\n",
       "                                        TfidfVectorizer(token_pattern='[\\\\S]+')),\n",
       "                                       ('classifier',\n",
       "                                        LogisticRegression(max_iter=10000))]),\n",
       "             param_grid={'classifier__C': [0.1, 1, 10],\n",
       "                         'vectorizer__max_df': [0.8, 0.6, 0.4],\n",
       "                         'vectorizer__max_features': [500, 1000, 2000, None]})"
      ]
     },
     "execution_count": 51,
     "metadata": {},
     "output_type": "execute_result"
    }
   ],
   "source": [
    "# Fit the model on training data\n",
    "grid_classifier_1a.fit(X_train_cleaned, y_train)"
   ]
  },
  {
   "cell_type": "code",
   "execution_count": 52,
   "metadata": {
    "colab": {
     "base_uri": "https://localhost:8080/"
    },
    "execution": {
     "iopub.execute_input": "2022-02-09T14:33:42.716162Z",
     "iopub.status.busy": "2022-02-09T14:33:42.715880Z",
     "iopub.status.idle": "2022-02-09T14:33:42.720775Z",
     "shell.execute_reply": "2022-02-09T14:33:42.720459Z",
     "shell.execute_reply.started": "2022-02-09T14:33:42.716140Z"
    },
    "executionInfo": {
     "elapsed": 31,
     "status": "ok",
     "timestamp": 1644422159753,
     "user": {
      "displayName": "Shaannoor Mann",
      "photoUrl": "https://lh3.googleusercontent.com/a/default-user=s64",
      "userId": "02520257695567980696"
     },
     "user_tz": 360
    },
    "id": "pMMD5DZNADbB",
    "outputId": "73a9c2ec-f543-4195-f06d-823b173b84c9",
    "tags": []
   },
   "outputs": [
    {
     "name": "stdout",
     "output_type": "stream",
     "text": [
      "Best cross-validation score: 0.86\n",
      "\n",
      "Best parameters:  {'classifier__C': 10, 'vectorizer__max_df': 0.8, 'vectorizer__max_features': None}\n",
      "\n",
      "Best estimator:  Pipeline(steps=[('vectorizer',\n",
      "                 TfidfVectorizer(max_df=0.8, token_pattern='[\\\\S]+')),\n",
      "                ('classifier', LogisticRegression(C=10, max_iter=10000))])\n"
     ]
    }
   ],
   "source": [
    "print(\"Best cross-validation score: {:.2f}\".format(grid_classifier_1a.best_score_))\n",
    "print(\"\\nBest parameters: \", grid_classifier_1a.best_params_)\n",
    "print(\"\\nBest estimator: \", grid_classifier_1a.best_estimator_)"
   ]
  },
  {
   "cell_type": "code",
   "execution_count": 53,
   "metadata": {
    "execution": {
     "iopub.execute_input": "2022-02-09T14:33:42.721893Z",
     "iopub.status.busy": "2022-02-09T14:33:42.721760Z",
     "iopub.status.idle": "2022-02-09T14:33:42.724640Z",
     "shell.execute_reply": "2022-02-09T14:33:42.724345Z",
     "shell.execute_reply.started": "2022-02-09T14:33:42.721880Z"
    },
    "executionInfo": {
     "elapsed": 29,
     "status": "ok",
     "timestamp": 1644422159754,
     "user": {
      "displayName": "Shaannoor Mann",
      "photoUrl": "https://lh3.googleusercontent.com/a/default-user=s64",
      "userId": "02520257695567980696"
     },
     "user_tz": 360
    },
    "id": "7FN1rJ7g4-u3",
    "tags": []
   },
   "outputs": [],
   "source": [
    "file_model_sparse_embed = model_folder / 'sparse_embed_model.pkl'"
   ]
  },
  {
   "cell_type": "code",
   "execution_count": 54,
   "metadata": {
    "colab": {
     "base_uri": "https://localhost:8080/"
    },
    "execution": {
     "iopub.execute_input": "2022-02-09T14:33:42.725288Z",
     "iopub.status.busy": "2022-02-09T14:33:42.725080Z",
     "iopub.status.idle": "2022-02-09T14:33:42.816701Z",
     "shell.execute_reply": "2022-02-09T14:33:42.816333Z",
     "shell.execute_reply.started": "2022-02-09T14:33:42.725272Z"
    },
    "executionInfo": {
     "elapsed": 562,
     "status": "ok",
     "timestamp": 1644422160288,
     "user": {
      "displayName": "Shaannoor Mann",
      "photoUrl": "https://lh3.googleusercontent.com/a/default-user=s64",
      "userId": "02520257695567980696"
     },
     "user_tz": 360
    },
    "id": "yJS2mfxu4-u3",
    "outputId": "882e1a52-977a-4532-a560-5865d1f5d4bf",
    "tags": []
   },
   "outputs": [
    {
     "data": {
      "text/plain": [
       "['/content/drive/MyDrive/teaching_spring_2022/Models/sparse_embed_model.pkl']"
      ]
     },
     "execution_count": 54,
     "metadata": {},
     "output_type": "execute_result"
    }
   ],
   "source": [
    "joblib.dump(grid_classifier_1a.best_estimator_, file_model_sparse_embed)"
   ]
  },
  {
   "cell_type": "code",
   "execution_count": 55,
   "metadata": {
    "execution": {
     "iopub.execute_input": "2022-02-09T14:33:42.817384Z",
     "iopub.status.busy": "2022-02-09T14:33:42.817225Z",
     "iopub.status.idle": "2022-02-09T14:33:42.868022Z",
     "shell.execute_reply": "2022-02-09T14:33:42.867675Z",
     "shell.execute_reply.started": "2022-02-09T14:33:42.817369Z"
    },
    "executionInfo": {
     "elapsed": 6,
     "status": "ok",
     "timestamp": 1644422160289,
     "user": {
      "displayName": "Shaannoor Mann",
      "photoUrl": "https://lh3.googleusercontent.com/a/default-user=s64",
      "userId": "02520257695567980696"
     },
     "user_tz": 360
    },
    "id": "2383mlYv4-u4",
    "tags": []
   },
   "outputs": [],
   "source": [
    "# load the saved model\n",
    "loaded_model_sparse_embed = joblib.load(file_model_sparse_embed)"
   ]
  },
  {
   "cell_type": "code",
   "execution_count": 56,
   "metadata": {
    "colab": {
     "base_uri": "https://localhost:8080/",
     "height": 250
    },
    "execution": {
     "iopub.execute_input": "2022-02-09T14:33:42.868661Z",
     "iopub.status.busy": "2022-02-09T14:33:42.868522Z",
     "iopub.status.idle": "2022-02-09T14:33:48.326527Z",
     "shell.execute_reply": "2022-02-09T14:33:48.326098Z",
     "shell.execute_reply.started": "2022-02-09T14:33:42.868647Z"
    },
    "executionInfo": {
     "elapsed": 15826,
     "status": "ok",
     "timestamp": 1644422176110,
     "user": {
      "displayName": "Shaannoor Mann",
      "photoUrl": "https://lh3.googleusercontent.com/a/default-user=s64",
      "userId": "02520257695567980696"
     },
     "user_tz": 360
    },
    "id": "Xwks6ftYeXH_",
    "outputId": "0df036b7-3f1b-49ed-d13d-16f02da66d46",
    "tags": []
   },
   "outputs": [
    {
     "data": {
      "text/plain": [
       "<module 'matplotlib.pyplot' from '/usr/local/lib/python3.7/dist-packages/matplotlib/pyplot.py'>"
      ]
     },
     "execution_count": 56,
     "metadata": {},
     "output_type": "execute_result"
    },
    {
     "data": {
      "image/png": "[encoded data removed]",
      "text/plain": [
       "<Figure size 1440x360 with 3 Axes>"
      ]
     },
     "metadata": {
      "needs_background": "light"
     },
     "output_type": "display_data"
    }
   ],
   "source": [
    "# plot learning curces\n",
    "# This cell can take upto 30 minutes to run\n",
    "plot_learning_curve(loaded_model_sparse_embed, 'Learning Curves classifier_1a', X_train_cleaned, y_train)"
   ]
  },
  {
   "cell_type": "markdown",
   "metadata": {
    "execution": {
     "iopub.execute_input": "2021-09-12T20:06:00.279963Z",
     "iopub.status.busy": "2021-09-12T20:06:00.279831Z",
     "iopub.status.idle": "2021-09-12T20:06:00.283105Z",
     "shell.execute_reply": "2021-09-12T20:06:00.282566Z",
     "shell.execute_reply.started": "2021-09-12T20:06:00.279950Z"
    },
    "id": "BX1ho_JB7iaT"
   },
   "source": [
    "**Observations**\n",
    "<br>\n",
    "Clearly there is overfitting. In case of overfitting we can improve results by \n",
    "\n",
    "1. Adding more data (training model on complete dataset)\n",
    "2. By hyperparameter tuning (reduce model complexity) of logistic regression and vectorizer."
   ]
  },
  {
   "cell_type": "code",
   "execution_count": 57,
   "metadata": {
    "colab": {
     "base_uri": "https://localhost:8080/"
    },
    "execution": {
     "iopub.execute_input": "2022-02-09T14:33:48.327243Z",
     "iopub.status.busy": "2022-02-09T14:33:48.327032Z",
     "iopub.status.idle": "2022-02-09T14:33:48.449279Z",
     "shell.execute_reply": "2022-02-09T14:33:48.448942Z",
     "shell.execute_reply.started": "2022-02-09T14:33:48.327229Z"
    },
    "executionInfo": {
     "elapsed": 405,
     "status": "ok",
     "timestamp": 1644422176492,
     "user": {
      "displayName": "Shaannoor Mann",
      "photoUrl": "https://lh3.googleusercontent.com/a/default-user=s64",
      "userId": "02520257695567980696"
     },
     "user_tz": 360
    },
    "id": "AiQndbqS7iaS",
    "outputId": "f07dad4e-3d24-4030-d674-f3e9b306e4a4",
    "tags": []
   },
   "outputs": [
    {
     "name": "stdout",
     "output_type": "stream",
     "text": [
      "Accuracy on train set  is 1.0\n"
     ]
    }
   ],
   "source": [
    "# Accuracy on Train data set\n",
    "grid_classifier_sparse_embed = loaded_model_sparse_embed.score(X_train_cleaned, y_train)\n",
    "print(f'Accuracy on train set  is {grid_classifier_sparse_embed}')"
   ]
  },
  {
   "cell_type": "markdown",
   "metadata": {
    "id": "oeM-o3ExUQuR"
   },
   "source": [
    "## Evaluate model on test datset"
   ]
  },
  {
   "cell_type": "code",
   "execution_count": 58,
   "metadata": {
    "execution": {
     "iopub.execute_input": "2022-02-09T14:34:59.304678Z",
     "iopub.status.busy": "2022-02-09T14:34:59.304531Z",
     "iopub.status.idle": "2022-02-09T14:34:59.307721Z",
     "shell.execute_reply": "2022-02-09T14:34:59.307304Z",
     "shell.execute_reply.started": "2022-02-09T14:34:59.304664Z"
    },
    "executionInfo": {
     "elapsed": 5,
     "status": "ok",
     "timestamp": 1644422176493,
     "user": {
      "displayName": "Shaannoor Mann",
      "photoUrl": "https://lh3.googleusercontent.com/a/default-user=s64",
      "userId": "02520257695567980696"
     },
     "user_tz": 360
    },
    "id": "xfqFSYq9wfrB",
    "tags": []
   },
   "outputs": [],
   "source": [
    "# Final Pipeline\n",
    "def final_pipeline(text):\n",
    "  cleaned_text = cp.SpacyPreprocessor(model = 'en_core_web_sm', remove_stop=True).transform(text)\n",
    "  predictions = loaded_model_sparse_embed.predict(cleaned_text)\n",
    "  return predictions"
   ]
  },
  {
   "cell_type": "code",
   "execution_count": 59,
   "metadata": {
    "execution": {
     "iopub.execute_input": "2022-02-09T14:35:00.234018Z",
     "iopub.status.busy": "2022-02-09T14:35:00.233872Z",
     "iopub.status.idle": "2022-02-09T14:35:23.682534Z",
     "shell.execute_reply": "2022-02-09T14:35:23.682039Z",
     "shell.execute_reply.started": "2022-02-09T14:35:00.234004Z"
    },
    "executionInfo": {
     "elapsed": 60447,
     "status": "ok",
     "timestamp": 1644422236936,
     "user": {
      "displayName": "Shaannoor Mann",
      "photoUrl": "https://lh3.googleusercontent.com/a/default-user=s64",
      "userId": "02520257695567980696"
     },
     "user_tz": 360
    },
    "id": "A431Wqqx7iaT",
    "tags": []
   },
   "outputs": [],
   "source": [
    "# predicted values for Test data set\n",
    "y_test_pred = final_pipeline(X_test)"
   ]
  },
  {
   "cell_type": "markdown",
   "metadata": {
    "id": "9NoxHpaef4Eq"
   },
   "source": [
    "#### Classification report for test dataset"
   ]
  },
  {
   "cell_type": "markdown",
   "metadata": {
    "id": "qPiOc2rAh7yK"
   },
   "source": [
    "* As we have already seen, our dataset is well balanced. Hence we have used accuracy as our scoring method.\n",
    "* However, it is a good idea to also look at classification report which gives precision, recall, and f1-score for both labels and average score also.\n",
    "* This metric works very well in case of balanced as well as imbalanced data because it lets you measure the performance of model for each labels."
   ]
  },
  {
   "cell_type": "code",
   "execution_count": 60,
   "metadata": {
    "colab": {
     "base_uri": "https://localhost:8080/"
    },
    "execution": {
     "iopub.execute_input": "2022-02-09T14:35:23.683586Z",
     "iopub.status.busy": "2022-02-09T14:35:23.683447Z",
     "iopub.status.idle": "2022-02-09T14:35:23.690843Z",
     "shell.execute_reply": "2022-02-09T14:35:23.690569Z",
     "shell.execute_reply.started": "2022-02-09T14:35:23.683573Z"
    },
    "executionInfo": {
     "elapsed": 32,
     "status": "ok",
     "timestamp": 1644422236937,
     "user": {
      "displayName": "Shaannoor Mann",
      "photoUrl": "https://lh3.googleusercontent.com/a/default-user=s64",
      "userId": "02520257695567980696"
     },
     "user_tz": 360
    },
    "id": "0cfz7Vh49p_e",
    "outputId": "db72b999-ede5-4463-cc52-bcb95546fc58",
    "tags": []
   },
   "outputs": [
    {
     "name": "stdout",
     "output_type": "stream",
     "text": [
      "\n",
      "Test set classification report:\n",
      "\n",
      "               precision    recall  f1-score   support\n",
      "\n",
      "           0       0.85      0.84      0.84      1214\n",
      "           1       0.85      0.86      0.85      1286\n",
      "\n",
      "    accuracy                           0.85      2500\n",
      "   macro avg       0.85      0.85      0.85      2500\n",
      "weighted avg       0.85      0.85      0.85      2500\n",
      "\n"
     ]
    }
   ],
   "source": [
    "print('\\nTest set classification report:\\n\\n',classification_report(y_test, y_test_pred ))"
   ]
  },
  {
   "cell_type": "code",
   "execution_count": 60,
   "metadata": {
    "executionInfo": {
     "elapsed": 29,
     "status": "ok",
     "timestamp": 1644422236937,
     "user": {
      "displayName": "Shaannoor Mann",
      "photoUrl": "https://lh3.googleusercontent.com/a/default-user=s64",
      "userId": "02520257695567980696"
     },
     "user_tz": 360
    },
    "id": "PEobsDMcKuU4"
   },
   "outputs": [],
   "source": []
  }
 ],
 "metadata": {
  "colab": {
   "collapsed_sections": [],
   "name": "5_SentimentAnalysis_IMDB_smaller_final.ipynb",
   "provenance": []
  },
  "kernelspec": {
   "display_name": "Python 3",
   "language": "python",
   "name": "python3"
  },
  "language_info": {
   "codemirror_mode": {
    "name": "ipython",
    "version": 3
   },
   "file_extension": ".py",
   "mimetype": "text/x-python",
   "name": "python",
   "nbconvert_exporter": "python",
   "pygments_lexer": "ipython3",
   "version": "3.8.5"
  }
 },
 "nbformat": 4,
 "nbformat_minor": 1
}
