{
 "cells": [
  {
   "cell_type": "code",
   "execution_count": 1,
   "metadata": {},
   "outputs": [],
   "source": [
    "import fitbit as fitbit\n",
    "import gather_keys_oauth2 as Oauth2\n",
    "import pandas as pd \n",
    "import numpy as np\n",
    "import datetime\n",
    "from datetime import timedelta  \n",
    "\n",
    "from src import secrets as secret"
   ]
  },
  {
   "cell_type": "code",
   "execution_count": 4,
   "metadata": {},
   "outputs": [
    {
     "name": "stdout",
     "output_type": "stream",
     "text": [
      "Name: oauthlib\n",
      "Version: 2.1.0\n",
      "Summary: A generic, spec-compliant, thorough implementation of the OAuth request-signing logic\n",
      "Home-page: https://github.com/oauthlib/oauthlib\n",
      "Author: Idan Gazit\n",
      "Author-email: idan@gazit.me\n",
      "License: BSD\n",
      "Location: c:\\users\\arulc\\anaconda3\\lib\\site-packages\n",
      "Requires: \n",
      "Required-by: requests-oauthlib\n"
     ]
    }
   ],
   "source": [
    "#! pip show oauthlib"
   ]
  },
  {
   "cell_type": "code",
   "execution_count": 4,
   "metadata": {},
   "outputs": [
    {
     "name": "stdout",
     "output_type": "stream",
     "text": [
      "Name: requests-oauthlib\n",
      "Version: 1.1.0\n",
      "Summary: OAuthlib authentication support for Requests.\n",
      "Home-page: https://github.com/requests/requests-oauthlib\n",
      "Author: Kenneth Reitz\n",
      "Author-email: me@kennethreitz.com\n",
      "License: ISC\n",
      "Location: c:\\users\\arulc\\anaconda3\\lib\\site-packages\n",
      "Requires: requests, oauthlib\n",
      "Required-by: google-auth-oauthlib\n"
     ]
    }
   ],
   "source": [
    "#! pip show requests-oauthlib"
   ]
  },
  {
   "cell_type": "markdown",
   "metadata": {},
   "source": [
    "## Client Authentication"
   ]
  },
  {
   "cell_type": "markdown",
   "metadata": {},
   "source": [
    "Create API clients as follows:\n",
    "* auth2_client - for V1 of API\n",
    "* [auth2_client_new](https://github.com/orcasgit/python-fitbit/issues/128) - for V1.2 of API (required for Sleep levels)"
   ]
  },
  {
   "cell_type": "code",
   "execution_count": 7,
   "metadata": {},
   "outputs": [],
   "source": [
    "CLIENT_ID = secret.CLIENT_ID\n",
    "CLIENT_SECRET = secret.CLIENT_SECRET\n",
    "DB_USER = secret.DB_USER\n",
    "DB_PASSWD = secret.DB_PASSWD\n",
    "DB_HOST = secret.DB_HOST"
   ]
  },
  {
   "cell_type": "code",
   "execution_count": 8,
   "metadata": {},
   "outputs": [
    {
     "name": "stderr",
     "output_type": "stream",
     "text": [
      "[28/Jan/2022:18:00:23] ENGINE Listening for SIGTERM.\n",
      "[28/Jan/2022:18:00:23] ENGINE Bus STARTING\n",
      "CherryPy Checker:\n",
      "The Application mounted at '' has an empty config.\n",
      "\n",
      "[28/Jan/2022:18:00:23] ENGINE Set handler for console events.\n",
      "[28/Jan/2022:18:00:23] ENGINE Started monitor thread 'Autoreloader'.\n",
      "[28/Jan/2022:18:00:24] ENGINE Serving on http://127.0.0.1:8080\n",
      "[28/Jan/2022:18:00:24] ENGINE Bus STARTED\n"
     ]
    },
    {
     "name": "stdout",
     "output_type": "stream",
     "text": [
      "127.0.0.1 - - [28/Jan/2022:18:00:26] \"GET /?code=e86d1d6918b8400cbfb0d61ecb995524f615cf46&state=uXs5TmAtqw7DC0ywzY3SSnf44T56ei HTTP/1.1\" 200 122 \"\" \"Mozilla/5.0 (Windows NT 10.0; Win64; x64) AppleWebKit/537.36 (KHTML, like Gecko) Chrome/97.0.4692.99 Safari/537.36 Edg/97.0.1072.69\"\n"
     ]
    },
    {
     "name": "stderr",
     "output_type": "stream",
     "text": [
      "[28/Jan/2022:18:00:27] ENGINE Bus STOPPING\n",
      "[28/Jan/2022:18:00:27] ENGINE HTTP Server cherrypy._cpwsgi_server.CPWSGIServer(('127.0.0.1', 8080)) shut down\n",
      "[28/Jan/2022:18:00:27] ENGINE Removed handler for console events.\n",
      "[28/Jan/2022:18:00:27] ENGINE Stopped thread 'Autoreloader'.\n",
      "[28/Jan/2022:18:00:27] ENGINE Bus STOPPED\n",
      "[28/Jan/2022:18:00:27] ENGINE Bus EXITING\n",
      "[28/Jan/2022:18:00:27] ENGINE Waiting for child threads to terminate...\n",
      "[28/Jan/2022:18:00:27] ENGINE Bus EXITED\n",
      "[28/Jan/2022:18:00:27] ENGINE Waiting for thread Thread-19.\n"
     ]
    }
   ],
   "source": [
    "#https://dev.fitbit.com/apps/details/22CZJ9\n",
    "server = Oauth2.OAuth2Server(CLIENT_ID, CLIENT_SECRET)\n",
    "server.browser_authorize()\n",
    "\n",
    "ACCESS_TOKEN = str(server.fitbit.client.session.token['access_token'])\n",
    "REFRESH_TOKEN = str(server.fitbit.client.session.token['refresh_token'])\n",
    "\n",
    "##Build Auth Clients\n",
    "auth2_client = fitbit.Fitbit(CLIENT_ID, CLIENT_SECRET, oauth2=True, access_token=ACCESS_TOKEN, refresh_token=REFRESH_TOKEN)\n",
    "\n",
    "#NEed this seeparately because version 1 doesn't give sleep breakdown\n",
    "auth2_client_new = fitbit.Fitbit(CLIENT_ID, CLIENT_SECRET, oauth2=True, access_token=ACCESS_TOKEN, refresh_token=REFRESH_TOKEN)\n",
    "auth2_client_new.API_VERSION = 1.2"
   ]
  },
  {
   "cell_type": "markdown",
   "metadata": {},
   "source": [
    "## Database layer"
   ]
  },
  {
   "cell_type": "code",
   "execution_count": 12,
   "metadata": {},
   "outputs": [
    {
     "name": "stdout",
     "output_type": "stream",
     "text": [
      "Collecting mysql-connector-python\n",
      "  Using cached mysql_connector_python-8.0.28-cp38-cp38-win_amd64.whl (7.2 MB)\n",
      "Requirement already satisfied: protobuf>=3.0.0 in c:\\users\\arulc\\anaconda3\\lib\\site-packages (from mysql-connector-python) (3.19.1)\n",
      "Installing collected packages: mysql-connector-python\n",
      "Successfully installed mysql-connector-python-8.0.28\n"
     ]
    }
   ],
   "source": [
    "#!pip install mysql-connector-python"
   ]
  },
  {
   "cell_type": "code",
   "execution_count": 11,
   "metadata": {},
   "outputs": [
    {
     "name": "stdout",
     "output_type": "stream",
     "text": [
      "Found existing installation: mysql-connector 2.2.9\n",
      "Uninstalling mysql-connector-2.2.9:\n",
      "  Successfully uninstalled mysql-connector-2.2.9\n"
     ]
    }
   ],
   "source": [
    "#!pip uninstall mysql-connector --yes"
   ]
  },
  {
   "cell_type": "code",
   "execution_count": 8,
   "metadata": {},
   "outputs": [
    {
     "name": "stdout",
     "output_type": "stream",
     "text": [
      "[(datetime.date(2021, 12, 20),)]\n"
     ]
    }
   ],
   "source": [
    "# import mysql.connector\n",
    "\n",
    "# cnx = mysql.connector.connect(user='root', password='Sumai1657',\n",
    "#                               host='127.0.0.1',\n",
    "#                               database='fitbitdb',\n",
    "#                               auth_plugin='mysql_native_password')\n",
    "\n",
    "# try:\n",
    "#    cursor = cnx.cursor()\n",
    "#    cursor.execute(\"\"\"\n",
    "#       select max(date) from fitbit_logs\n",
    "#    \"\"\")\n",
    "#    result = cursor.fetchall()\n",
    "#    print(result)\n",
    "# finally:\n",
    "#     cnx.close()"
   ]
  },
  {
   "cell_type": "code",
   "execution_count": 9,
   "metadata": {},
   "outputs": [],
   "source": [
    "# DATA FROM MySQL AS DATABASE\n",
    "import mysql.connector\n",
    "\n",
    "DATE_FORMAT = '%Y-%m-%d'\n",
    "databaseName = 'fitbitdb'\n",
    "\n",
    "def connectAndLoadDb():\n",
    "    print(\"Connecting database...\")\n",
    "    cnx = mysql.connector.connect(user=DB_USER, password=DB_PASSWD,\n",
    "                              host=DB_HOST,\n",
    "                              database=databaseName,\n",
    "                              auth_plugin='mysql_native_password')\n",
    "    print(\"Database connected!\")\n",
    "    return cnx;\n",
    "\n",
    "def getLastEntryDate(database):\n",
    "#     lastDateEntry = database.iloc[-1]['Date']\n",
    "#     lastDateEntry = datetime.datetime.strptime(lastDateEntry, DATE_FORMAT)   \n",
    "    cursor = database.cursor()\n",
    "    cursor.execute(\"\"\"\n",
    "      select max(date) from fitbit_logs\n",
    "    \"\"\")\n",
    "    lastDateEntry = cursor.fetchall()\n",
    "    return lastDateEntry[0][0]\n",
    "\n",
    "def addEntriesInDB(dictionary, database):\n",
    "    #print(dictionary)\n",
    "    database = database.append(dictionary, ignore_index=True)\n",
    "    return addEntriesInDB;\n",
    "\n",
    "def writeDbToExcelFile(database):\n",
    "    print('Writing database to filename: '+ databaseFilename)\n",
    "    writer = pd.ExcelWriter(databaseFilename)\n",
    "    database.to_excel(writer, 'main')\n",
    "    writer.save()\n",
    "    print('Database updated with new entries!!')\n",
    "    \n",
    "def prettyPrintDate(date):\n",
    "    return date.strftime(DATE_FORMAT);    "
   ]
  },
  {
   "cell_type": "code",
   "execution_count": 54,
   "metadata": {},
   "outputs": [
    {
     "name": "stdout",
     "output_type": "stream",
     "text": [
      "Connecting database...\n",
      "Database connected!\n"
     ]
    }
   ],
   "source": [
    "database = connectAndLoadDb()\n",
    "\n",
    "lastEntryDate = getLastEntryDate(database)"
   ]
  },
  {
   "cell_type": "code",
   "execution_count": 57,
   "metadata": {},
   "outputs": [
    {
     "data": {
      "text/plain": [
       "[(datetime.date(2021, 12, 20),)]"
      ]
     },
     "execution_count": 57,
     "metadata": {},
     "output_type": "execute_result"
    }
   ],
   "source": [
    "lastEntryDate"
   ]
  },
  {
   "cell_type": "code",
   "execution_count": 56,
   "metadata": {},
   "outputs": [],
   "source": [
    "lastDateEntry = prettyPrintDate(lastEntryDate[0][0])"
   ]
  },
  {
   "cell_type": "code",
   "execution_count": 58,
   "metadata": {},
   "outputs": [],
   "source": [
    "lastEntryDate = datetime.datetime.strptime(lastDateEntry, DATE_FORMAT)"
   ]
  },
  {
   "cell_type": "code",
   "execution_count": 59,
   "metadata": {},
   "outputs": [],
   "source": [
    "dateToFetch = lastEntryDate + timedelta(days=1)"
   ]
  },
  {
   "cell_type": "code",
   "execution_count": null,
   "metadata": {},
   "outputs": [],
   "source": [
    "prettyPrintDate()"
   ]
  },
  {
   "cell_type": "code",
   "execution_count": 25,
   "metadata": {},
   "outputs": [
    {
     "name": "stdout",
     "output_type": "stream",
     "text": [
      "{'activities': [{'activityId': 90013, 'activityParentId': 90013, 'activityParentName': 'Walk', 'calories': 77, 'description': 'Walking less than 2 mph, strolling very slowly', 'duration': 1076000, 'hasActiveZoneMinutes': True, 'hasStartTime': True, 'isFavorite': False, 'lastModified': '2021-12-26T00:29:28.000Z', 'logId': 44995049775, 'name': 'Walk', 'startDate': '2021-12-25', 'startTime': '18:07', 'steps': 1700}], 'goals': {'activeMinutes': 30, 'caloriesOut': 2048, 'distance': 5, 'floors': 10, 'steps': 4000}, 'summary': {'activeScore': -1, 'activityCalories': 357, 'caloriesBMR': 1172, 'caloriesOut': 1459, 'distances': [{'activity': 'total', 'distance': 1.6}, {'activity': 'tracker', 'distance': 1.6}, {'activity': 'loggedActivities', 'distance': 0}, {'activity': 'veryActive', 'distance': 0.17}, {'activity': 'moderatelyActive', 'distance': 0.51}, {'activity': 'lightlyActive', 'distance': 0.91}, {'activity': 'sedentaryActive', 'distance': 0}], 'elevation': 20, 'fairlyActiveMinutes': 13, 'floors': 2, 'heartRateZones': [{'caloriesOut': 1046.804, 'max': 113, 'min': 30, 'minutes': 1050, 'name': 'Out of Range'}, {'caloriesOut': 151.4854, 'max': 138, 'min': 113, 'minutes': 69, 'name': 'Fat Burn'}, {'caloriesOut': 0, 'max': 170, 'min': 138, 'minutes': 0, 'name': 'Cardio'}, {'caloriesOut': 0, 'max': 220, 'min': 170, 'minutes': 0, 'name': 'Peak'}], 'lightlyActiveMinutes': 117, 'marginalCalories': 167, 'restingHeartRate': 62, 'sedentaryMinutes': 1049, 'steps': 3810, 'veryActiveMinutes': 3}}\n"
     ]
    }
   ],
   "source": [
    "activitiyResponse = auth2_client.activities(date='2021-12-25')\n",
    "print(activitiyResponse)"
   ]
  },
  {
   "cell_type": "code",
   "execution_count": 9,
   "metadata": {},
   "outputs": [],
   "source": [
    "# DATA FROM EXCEL AS DATABASE\n",
    "DATE_FORMAT = '%Y-%m-%d'\n",
    "databaseFilename = 'data/database_main.xls'\n",
    "\n",
    "def connectAndLoadDb():\n",
    "    print(\"Connecting database...\")\n",
    "    database = pd.read_excel(databaseFilename)\n",
    "    print(\"Database connected!\")\n",
    "    return database;\n",
    "\n",
    "def getLastEntryDate(database):\n",
    "    lastDateEntry = database.iloc[-1]['Date']\n",
    "    lastDateEntry = datetime.datetime.strptime(lastDateEntry, DATE_FORMAT)    \n",
    "    return lastDateEntry\n",
    "\n",
    "def addEntriesInDB(dictionary, database):\n",
    "    #print(dictionary)\n",
    "    database = database.append(dictionary, ignore_index=True)\n",
    "    return addEntriesInDB;\n",
    "\n",
    "def writeDbToExcelFile(database):\n",
    "    print('Writing database to filename: '+ databaseFilename)\n",
    "    writer = pd.ExcelWriter(databaseFilename)\n",
    "    database.to_excel(writer, 'main')\n",
    "    writer.save()\n",
    "    print('Database updated with new entries!!')\n",
    "    \n",
    "def prettyPrintDate(date):\n",
    "    return date.strftime(DATE_FORMAT);    "
   ]
  },
  {
   "cell_type": "markdown",
   "metadata": {},
   "source": [
    "## Activity and Sleep Parsers"
   ]
  },
  {
   "cell_type": "code",
   "execution_count": 10,
   "metadata": {},
   "outputs": [],
   "source": [
    "def safeGet(obj, key, defaultVal = np.nan):\n",
    "    return obj.get(key, defaultVal)  \n",
    "\n",
    "def percent(val):\n",
    "    return np.ceil(val*100)\n",
    "\n",
    "def filterArrObj(arrList, keyName, keyValue):\n",
    "    for arrItem in arrList:\n",
    "        if arrItem.get(keyName) == keyValue:\n",
    "            return arrItem\n",
    "    return {} \n",
    "\n",
    "def mergeDicts(dicts):\n",
    "    super_dict = {}\n",
    "    for singleDict in dicts:\n",
    "        for k, v in singleDict.items(): \n",
    "            super_dict[k] = v\n",
    "    return super_dict\n",
    "\n",
    "    \n",
    "def getActivities(date):\n",
    "    activitiyResponse = auth2_client.activities(date=date)\n",
    "\n",
    "    activitySummary = activitiyResponse['summary'];\n",
    "    activityData = {\n",
    "        'Calories Burned':safeGet(activitySummary,'caloriesOut'),\n",
    "        'Calories BMR': safeGet(activitySummary,'caloriesBMR'),\n",
    "        'Resting Heart Rate':safeGet(activitySummary,'restingHeartRate'),\n",
    "        'Steps':safeGet(activitySummary,'steps'),\n",
    "        'Distance (Km)':filterArrObj(activitySummary.get('distances', []), 'activity', 'total').get('distance', np.nan),\n",
    "        'Elevation (Ft)':activitySummary['elevation'],\n",
    "        'Floors':activitySummary['floors'],\n",
    "        'Minutes Sedentary':activitySummary['sedentaryMinutes'],\n",
    "        'Minutes Lightly Active':activitySummary['lightlyActiveMinutes'],\n",
    "        'Minutes Fairly Active':activitySummary['fairlyActiveMinutes'],\n",
    "        'Minutes Very Active':activitySummary['veryActiveMinutes'],\n",
    "        'Activity Calories': activitySummary['activityCalories'],\n",
    "        'Active Score': activitySummary['activeScore'],\n",
    "        'Cardio minutes': filterArrObj(activitySummary.get('heartRateZones', []), 'name', 'Cardio').get('minutes', np.nan),\n",
    "        'Cardio calories': filterArrObj(activitySummary.get('heartRateZones', []), 'name', 'Cardio').get('caloriesOut', np.nan),\n",
    "        'Fat Burn minutes': filterArrObj(activitySummary.get('heartRateZones', []), 'name', 'Fat Burn').get('minutes', np.nan),\n",
    "        'Fat Burn calories': filterArrObj(activitySummary.get('heartRateZones', []), 'name', 'Fat Burn').get('caloriesOut', np.nan),\n",
    "        'Peak minutes': filterArrObj(activitySummary.get('heartRateZones', []), 'name', 'Peak').get('minutes', np.nan),\n",
    "        'Peak calories': filterArrObj(activitySummary.get('heartRateZones', []), 'name', 'Peak').get('caloriesOut', np.nan),\n",
    "        'Normal Cardio minutes': filterArrObj(activitySummary.get('heartRateZones', []), 'name', 'Out of Range').get('minutes', np.nan),\n",
    "        'Normal Cardio calories': filterArrObj(activitySummary.get('heartRateZones', []), 'name', 'Out of Range').get('caloriesOut', np.nan),\n",
    "    }\n",
    "    \n",
    "    return activityData\n",
    "\n",
    "def getSleep(date):\n",
    "    sleepResponse = auth2_client_new.sleep(date=date)\n",
    "    \n",
    "    sleepData = {}\n",
    "    for sleepLog in sleepResponse.get('sleep', []):\n",
    "        if sleepLog.get('isMainSleep'):\n",
    "            sleepLevelsSummary = sleepLog.get('levels', {}).get('summary', {})\n",
    "            \n",
    "            sleepData['Sleep Efficiency'] = safeGet(sleepLog, 'efficiency')\n",
    "            sleepData['Minutes Asleep'] = safeGet(sleepLog, 'minutesAsleep')\n",
    "            sleepData['Minutes to fall asleep'] = safeGet(sleepLog, 'minutesToFallAsleep')\n",
    "            sleepData['Sleep Start time'] = safeGet(sleepLog, 'startTime')\n",
    "            sleepData['Sleep End time'] = safeGet(sleepLog, 'endTime')\n",
    "            \n",
    "            sleepData['Time in bed'] = safeGet(sleepLog, 'timeInBed')\n",
    "            \n",
    "            sleepData['Minutes Deep sleep'] = safeGet(sleepLevelsSummary.get('deep', {}), 'minutes')\n",
    "            sleepData['Deep sleep count'] = safeGet(sleepLevelsSummary.get('deep', {}), 'count')\n",
    "            sleepData['% Deep sleep'] = percent(safeGet(sleepData, 'Minutes Deep sleep', 0)/safeGet(sleepData, 'Time in bed', 0))\n",
    "            \n",
    "            sleepData['Minutes Light sleep'] = safeGet(sleepLevelsSummary.get('light', {}), 'minutes')\n",
    "            sleepData['Light sleep count'] = safeGet(sleepLevelsSummary.get('light', {}), 'count')\n",
    "            sleepData['% Light sleep'] = percent(safeGet(sleepData, 'Minutes Light sleep', 0)/safeGet(sleepData, 'Time in bed', 0))\n",
    "            \n",
    "            sleepData['Minutes REM sleep'] = safeGet(sleepLevelsSummary.get('rem', {}), 'minutes')\n",
    "            sleepData['REM sleep count'] = safeGet(sleepLevelsSummary.get('rem', {}), 'count')\n",
    "            sleepData['% REM sleep'] = percent(safeGet(sleepData, 'Minutes REM sleep', 0)/safeGet(sleepData, 'Time in bed', 0))\n",
    "            \n",
    "            sleepData['Minutes Asleep'] = sleepData['Minutes Deep sleep'] + sleepData['Minutes Light sleep'] + sleepData['Minutes REM sleep']\n",
    "            sleepData['Minutes Awake'] = safeGet(sleepLevelsSummary.get('wake', {}), 'minutes')\n",
    "            sleepData['Minutes Awake count'] = safeGet(sleepLevelsSummary.get('wake', {}), 'count')            \n",
    "    return sleepData\n",
    "\n",
    "def getDateData(date):\n",
    "    weekDayNum = date.isoweekday()\n",
    "    return {\n",
    "        'Date': prettyPrintDate(date),\n",
    "        'Day of Week': weekDayNum,\n",
    "        'Is Weekday': weekDayNum<6,\n",
    "        'Is Weekend': weekDayNum>5\n",
    "    };\n",
    "\n",
    "def fetchAllData(date):\n",
    "    dateStr = prettyPrintDate(date)\n",
    "    \n",
    "    print(\"Fetching fitbit data for: \" + dateStr)\n",
    "    \n",
    "    nextDate = date #+ timedelta(days=1) #Arul\n",
    "    sleepData = getSleep(prettyPrintDate(nextDate))\n",
    "    \n",
    "    activitiesData = getActivities(dateStr)\n",
    "    dateData = getDateData(date)\n",
    "    \n",
    "    mergedData = mergeDicts([dateData, activitiesData, sleepData])\n",
    "    return mergedData"
   ]
  },
  {
   "cell_type": "code",
   "execution_count": 5,
   "metadata": {},
   "outputs": [],
   "source": [
    "#getSleep('2018-08-21') #multiple entries\n",
    "#getSleep('2018-07-22') #https://www.fitbit.com/sleep/2018-07-22/18934545047\n",
    "#getSleep('2018-08-2') #no sleep data\n",
    "#print(getActivities('2018-06-29'))\n",
    "#print(getSleep('2018-08-28')) #no sleep data\n",
    "\n",
    "#auth2_client.activities(date='2018-09-05')\n",
    "#auth2_client_new.sleep(date='2018-09-04')\n",
    "#fetchAllData(datetime.datetime.strptime('2018-09-04', DATE_FORMAT))"
   ]
  },
  {
   "cell_type": "markdown",
   "metadata": {},
   "source": [
    "## Data fetch layer"
   ]
  },
  {
   "cell_type": "code",
   "execution_count": 11,
   "metadata": {},
   "outputs": [
    {
     "name": "stdout",
     "output_type": "stream",
     "text": [
      "Connecting database...\n",
      "Database connected!\n"
     ]
    }
   ],
   "source": [
    "database = connectAndLoadDb()\n",
    "\n",
    "def shouldFetchDataForProvidedDate(providedDate, todaysDate, API_COUNTER):\n",
    "    return (providedDate < todaysDate) and API_COUNTER < 100;\n",
    "\n",
    "def fetchAndAppendToDb(date, database):    \n",
    "    mergedData = fetchAllData(date)\n",
    "    database = database.append(mergedData) #, ignore_index=True)\n",
    "    return database;\n",
    "\n",
    "def fetchData(database, refetchAll = False):\n",
    "    data = []\n",
    "    API_COUNTER = 0\n",
    "    \n",
    "    todaysDate = datetime.datetime.today()\n",
    "    \n",
    "    print(\"Date today is :\" + prettyPrintDate(todaysDate))\n",
    "    \n",
    "    if refetchAll == True:\n",
    "        lastEntryDate = datetime.datetime.strptime('2021-12-21', DATE_FORMAT)\n",
    "    else:\n",
    "        lastEntryDate = getLastEntryDate(database)\n",
    "    \n",
    "    print(\"Last entry in Db is of :\" + prettyPrintDate(lastEntryDate))\n",
    "    print(\"----------------------------------------------\")\n",
    "    \n",
    "    dateToFetch = lastEntryDate + timedelta(days=1)\n",
    "\n",
    "    while shouldFetchDataForProvidedDate(dateToFetch, todaysDate, API_COUNTER):    \n",
    "        database = fetchAndAppendToDb(dateToFetch, data)\n",
    "        dateToFetch = dateToFetch + timedelta(days=1)\n",
    "        API_COUNTER = API_COUNTER+1\n",
    "    \n",
    "    print(\"----------------------------------------------\")\n",
    "    print(\"Data fill completed! 👍👍\")\n",
    "    return data"
   ]
  },
  {
   "cell_type": "code",
   "execution_count": 12,
   "metadata": {},
   "outputs": [
    {
     "name": "stdout",
     "output_type": "stream",
     "text": [
      "Date today is :2022-01-28\n",
      "Last entry in Db is of :2021-12-21\n",
      "----------------------------------------------\n",
      "Fetching fitbit data for: 2021-12-22\n",
      "Fetching fitbit data for: 2021-12-23\n",
      "Fetching fitbit data for: 2021-12-24\n",
      "Fetching fitbit data for: 2021-12-25\n",
      "Fetching fitbit data for: 2021-12-26\n",
      "Fetching fitbit data for: 2021-12-27\n",
      "Fetching fitbit data for: 2021-12-28\n",
      "Fetching fitbit data for: 2021-12-29\n",
      "Fetching fitbit data for: 2021-12-30\n",
      "Fetching fitbit data for: 2021-12-31\n",
      "Fetching fitbit data for: 2022-01-01\n",
      "Fetching fitbit data for: 2022-01-02\n",
      "Fetching fitbit data for: 2022-01-03\n",
      "Fetching fitbit data for: 2022-01-04\n",
      "Fetching fitbit data for: 2022-01-05\n",
      "Fetching fitbit data for: 2022-01-06\n",
      "Fetching fitbit data for: 2022-01-07\n",
      "Fetching fitbit data for: 2022-01-08\n",
      "Fetching fitbit data for: 2022-01-09\n",
      "Fetching fitbit data for: 2022-01-10\n",
      "Fetching fitbit data for: 2022-01-11\n",
      "Fetching fitbit data for: 2022-01-12\n",
      "Fetching fitbit data for: 2022-01-13\n",
      "Fetching fitbit data for: 2022-01-14\n",
      "Fetching fitbit data for: 2022-01-15\n",
      "Fetching fitbit data for: 2022-01-16\n",
      "Fetching fitbit data for: 2022-01-17\n",
      "Fetching fitbit data for: 2022-01-18\n",
      "Fetching fitbit data for: 2022-01-19\n",
      "Fetching fitbit data for: 2022-01-20\n",
      "Fetching fitbit data for: 2022-01-21\n",
      "Fetching fitbit data for: 2022-01-22\n",
      "Fetching fitbit data for: 2022-01-23\n",
      "Fetching fitbit data for: 2022-01-24\n",
      "Fetching fitbit data for: 2022-01-25\n",
      "Fetching fitbit data for: 2022-01-26\n",
      "Fetching fitbit data for: 2022-01-27\n",
      "Fetching fitbit data for: 2022-01-28\n",
      "----------------------------------------------\n",
      "Data fill completed! 👍👍\n",
      "[{'Date': '2021-12-22', 'Day of Week': 3, 'Is Weekday': True, 'Is Weekend': False, 'Calories Burned': 1444, 'Calories BMR': 1172, 'Resting Heart Rate': 62, 'Steps': 4544, 'Distance (Km)': 1.91, 'Elevation (Ft)': 20, 'Floors': 2, 'Minutes Sedentary': 741, 'Minutes Lightly Active': 84, 'Minutes Fairly Active': 30, 'Minutes Very Active': 2, 'Activity Calories': 335, 'Active Score': -1, 'Cardio minutes': 0, 'Cardio calories': 0, 'Fat Burn minutes': 39, 'Fat Burn calories': 107.2852, 'Peak minutes': 0, 'Peak calories': 0, 'Normal Cardio minutes': 1380, 'Normal Cardio calories': 1320.308, 'Sleep Efficiency': 98, 'Minutes Asleep': 443, 'Minutes to fall asleep': 0, 'Sleep Start time': '2021-12-21T23:06:00.000', 'Sleep End time': '2021-12-22T07:45:30.000', 'Time in bed': 519, 'Minutes Deep sleep': 69, 'Deep sleep count': 4, '% Deep sleep': 14.0, 'Minutes Light sleep': 330, 'Light sleep count': 35, '% Light sleep': 64.0, 'Minutes REM sleep': 44, 'REM sleep count': 7, '% REM sleep': 9.0, 'Minutes Awake': 76, 'Minutes Awake count': 36}, {'Date': '2021-12-23', 'Day of Week': 4, 'Is Weekday': True, 'Is Weekend': False, 'Calories Burned': 1442, 'Calories BMR': 1172, 'Resting Heart Rate': 62, 'Steps': 4013, 'Distance (Km)': 1.68, 'Elevation (Ft)': 20, 'Floors': 2, 'Minutes Sedentary': 692, 'Minutes Lightly Active': 105, 'Minutes Fairly Active': 13, 'Minutes Very Active': 0, 'Activity Calories': 331, 'Active Score': -1, 'Cardio minutes': 0, 'Cardio calories': 0, 'Fat Burn minutes': 85, 'Fat Burn calories': 194.6274, 'Peak minutes': 0, 'Peak calories': 0, 'Normal Cardio minutes': 1331, 'Normal Cardio calories': 1227.8376, 'Sleep Efficiency': 96, 'Minutes Asleep': 426, 'Minutes to fall asleep': 0, 'Sleep Start time': '2021-12-22T22:55:30.000', 'Sleep End time': '2021-12-23T07:07:30.000', 'Time in bed': 492, 'Minutes Deep sleep': 85, 'Deep sleep count': 6, '% Deep sleep': 18.0, 'Minutes Light sleep': 275, 'Light sleep count': 31, '% Light sleep': 56.0, 'Minutes REM sleep': 66, 'REM sleep count': 8, '% REM sleep': 14.0, 'Minutes Awake': 66, 'Minutes Awake count': 30}, {'Date': '2021-12-24', 'Day of Week': 5, 'Is Weekday': True, 'Is Weekend': False, 'Calories Burned': 1499, 'Calories BMR': 1172, 'Resting Heart Rate': 62, 'Steps': 4479, 'Distance (Km)': 1.82, 'Elevation (Ft)': 30, 'Floors': 3, 'Minutes Sedentary': 735, 'Minutes Lightly Active': 134, 'Minutes Fairly Active': 3, 'Minutes Very Active': 8, 'Activity Calories': 411, 'Active Score': -1, 'Cardio minutes': 6, 'Cardio calories': 34.595, 'Fat Burn minutes': 93, 'Fat Burn calories': 240.7812, 'Peak minutes': 0, 'Peak calories': 0, 'Normal Cardio minutes': 1239, 'Normal Cardio calories': 1140.821, 'Sleep Efficiency': 98, 'Minutes Asleep': 430, 'Minutes to fall asleep': 0, 'Sleep Start time': '2021-12-23T23:04:30.000', 'Sleep End time': '2021-12-24T07:17:30.000', 'Time in bed': 493, 'Minutes Deep sleep': 101, 'Deep sleep count': 6, '% Deep sleep': 21.0, 'Minutes Light sleep': 250, 'Light sleep count': 29, '% Light sleep': 51.0, 'Minutes REM sleep': 79, 'REM sleep count': 8, '% REM sleep': 17.0, 'Minutes Awake': 63, 'Minutes Awake count': 30}, {'Date': '2021-12-25', 'Day of Week': 6, 'Is Weekday': False, 'Is Weekend': True, 'Calories Burned': 1459, 'Calories BMR': 1172, 'Resting Heart Rate': 62, 'Steps': 3810, 'Distance (Km)': 1.6, 'Elevation (Ft)': 20, 'Floors': 2, 'Minutes Sedentary': 1049, 'Minutes Lightly Active': 117, 'Minutes Fairly Active': 13, 'Minutes Very Active': 3, 'Activity Calories': 357, 'Active Score': -1, 'Cardio minutes': 0, 'Cardio calories': 0, 'Fat Burn minutes': 69, 'Fat Burn calories': 151.4854, 'Peak minutes': 0, 'Peak calories': 0, 'Normal Cardio minutes': 1050, 'Normal Cardio calories': 1046.804, 'Sleep Efficiency': 98, 'Minutes Asleep': 205, 'Minutes to fall asleep': 0, 'Sleep Start time': '2021-12-24T22:52:30.000', 'Sleep End time': '2021-12-25T03:10:30.000', 'Time in bed': 258, 'Minutes Deep sleep': 42, 'Deep sleep count': 3, '% Deep sleep': 17.0, 'Minutes Light sleep': 151, 'Light sleep count': 12, '% Light sleep': 59.0, 'Minutes REM sleep': 12, 'REM sleep count': 2, '% REM sleep': 5.0, 'Minutes Awake': 53, 'Minutes Awake count': 14}, {'Date': '2021-12-26', 'Day of Week': 7, 'Is Weekday': False, 'Is Weekend': True, 'Calories Burned': 1404, 'Calories BMR': 1172, 'Resting Heart Rate': 63, 'Steps': 3745, 'Distance (Km)': 1.55, 'Elevation (Ft)': 20, 'Floors': 2, 'Minutes Sedentary': 906, 'Minutes Lightly Active': 78, 'Minutes Fairly Active': 25, 'Minutes Very Active': 1, 'Activity Calories': 299, 'Active Score': -1, 'Cardio minutes': 0, 'Cardio calories': 0, 'Fat Burn minutes': 58, 'Fat Burn calories': 177.6962, 'Peak minutes': 0, 'Peak calories': 0, 'Normal Cardio minutes': 1242, 'Normal Cardio calories': 1112.9822, 'Sleep Efficiency': 96, 'Minutes Asleep': 327, 'Minutes to fall asleep': 0, 'Sleep Start time': '2021-12-26T01:17:00.000', 'Sleep End time': '2021-12-26T07:47:30.000', 'Time in bed': 390, 'Minutes Deep sleep': 81, 'Deep sleep count': 3, '% Deep sleep': 21.0, 'Minutes Light sleep': 197, 'Light sleep count': 17, '% Light sleep': 51.0, 'Minutes REM sleep': 49, 'REM sleep count': 5, '% REM sleep': 13.0, 'Minutes Awake': 63, 'Minutes Awake count': 16}, {'Date': '2021-12-27', 'Day of Week': 1, 'Is Weekday': True, 'Is Weekend': False, 'Calories Burned': 1467, 'Calories BMR': 1172, 'Resting Heart Rate': 63, 'Steps': 4871, 'Distance (Km)': 2.06, 'Elevation (Ft)': 30, 'Floors': 3, 'Minutes Sedentary': 820, 'Minutes Lightly Active': 88, 'Minutes Fairly Active': 34, 'Minutes Very Active': 3, 'Activity Calories': 376, 'Active Score': -1, 'Cardio minutes': 6, 'Cardio calories': 9.0354, 'Fat Burn minutes': 123, 'Fat Burn calories': 220.9196, 'Peak minutes': 0, 'Peak calories': 0, 'Normal Cardio minutes': 1236, 'Normal Cardio calories': 1174.195, 'Sleep Efficiency': 98, 'Minutes Asleep': 424, 'Minutes to fall asleep': 0, 'Sleep Start time': '2021-12-26T23:19:30.000', 'Sleep End time': '2021-12-27T07:26:00.000', 'Time in bed': 486, 'Minutes Deep sleep': 35, 'Deep sleep count': 4, '% Deep sleep': 8.0, 'Minutes Light sleep': 355, 'Light sleep count': 25, '% Light sleep': 74.0, 'Minutes REM sleep': 34, 'REM sleep count': 3, '% REM sleep': 7.0, 'Minutes Awake': 62, 'Minutes Awake count': 24}, {'Date': '2021-12-28', 'Day of Week': 2, 'Is Weekday': True, 'Is Weekend': False, 'Calories Burned': 1453, 'Calories BMR': 1172, 'Resting Heart Rate': 64, 'Steps': 4426, 'Distance (Km)': 1.86, 'Elevation (Ft)': 30, 'Floors': 3, 'Minutes Sedentary': 785, 'Minutes Lightly Active': 113, 'Minutes Fairly Active': 21, 'Minutes Very Active': 2, 'Activity Calories': 369, 'Active Score': -1, 'Cardio minutes': 0, 'Cardio calories': 0, 'Fat Burn minutes': 17, 'Fat Burn calories': 45.2584, 'Peak minutes': 0, 'Peak calories': 0, 'Normal Cardio minutes': 1421, 'Normal Cardio calories': 1406.6734, 'Sleep Efficiency': 97, 'Minutes Asleep': 409, 'Minutes to fall asleep': 0, 'Sleep Start time': '2021-12-27T23:50:30.000', 'Sleep End time': '2021-12-28T07:37:30.000', 'Time in bed': 467, 'Minutes Deep sleep': 59, 'Deep sleep count': 4, '% Deep sleep': 13.0, 'Minutes Light sleep': 289, 'Light sleep count': 33, '% Light sleep': 62.0, 'Minutes REM sleep': 61, 'REM sleep count': 5, '% REM sleep': 14.0, 'Minutes Awake': 58, 'Minutes Awake count': 32}, {'Date': '2021-12-29', 'Day of Week': 3, 'Is Weekday': True, 'Is Weekend': False, 'Calories Burned': 1417, 'Calories BMR': 1172, 'Resting Heart Rate': 63, 'Steps': 4489, 'Distance (Km)': 1.9, 'Elevation (Ft)': 70, 'Floors': 7, 'Minutes Sedentary': 718, 'Minutes Lightly Active': 79, 'Minutes Fairly Active': 23, 'Minutes Very Active': 6, 'Activity Calories': 315, 'Active Score': -1, 'Cardio minutes': 0, 'Cardio calories': 0, 'Fat Burn minutes': 43, 'Fat Burn calories': 144.7292, 'Peak minutes': 0, 'Peak calories': 0, 'Normal Cardio minutes': 1397, 'Normal Cardio calories': 1272.7704, 'Sleep Efficiency': 95, 'Minutes Asleep': 443, 'Minutes to fall asleep': 0, 'Sleep Start time': '2021-12-28T23:08:00.000', 'Sleep End time': '2021-12-29T07:41:30.000', 'Time in bed': 513, 'Minutes Deep sleep': 81, 'Deep sleep count': 3, '% Deep sleep': 16.0, 'Minutes Light sleep': 314, 'Light sleep count': 33, '% Light sleep': 62.0, 'Minutes REM sleep': 48, 'REM sleep count': 6, '% REM sleep': 10.0, 'Minutes Awake': 70, 'Minutes Awake count': 33}, {'Date': '2021-12-30', 'Day of Week': 4, 'Is Weekday': True, 'Is Weekend': False, 'Calories Burned': 1356, 'Calories BMR': 1172, 'Resting Heart Rate': 63, 'Steps': 2622, 'Distance (Km)': 1.11, 'Elevation (Ft)': 0, 'Floors': 0, 'Minutes Sedentary': 753, 'Minutes Lightly Active': 50, 'Minutes Fairly Active': 22, 'Minutes Very Active': 0, 'Activity Calories': 210, 'Active Score': -1, 'Cardio minutes': 0, 'Cardio calories': 0, 'Fat Burn minutes': 60, 'Fat Burn calories': 144.9734, 'Peak minutes': 0, 'Peak calories': 0, 'Normal Cardio minutes': 1295, 'Normal Cardio calories': 1141.7164, 'Sleep Efficiency': 97, 'Minutes Asleep': 489, 'Minutes to fall asleep': 0, 'Sleep Start time': '2021-12-29T22:19:00.000', 'Sleep End time': '2021-12-30T07:41:00.000', 'Time in bed': 562, 'Minutes Deep sleep': 96, 'Deep sleep count': 4, '% Deep sleep': 18.0, 'Minutes Light sleep': 315, 'Light sleep count': 35, '% Light sleep': 57.0, 'Minutes REM sleep': 78, 'REM sleep count': 7, '% REM sleep': 14.0, 'Minutes Awake': 73, 'Minutes Awake count': 37}, {'Date': '2021-12-31', 'Day of Week': 5, 'Is Weekday': True, 'Is Weekend': False, 'Calories Burned': 1419, 'Calories BMR': 1172, 'Resting Heart Rate': 63, 'Steps': 1036, 'Distance (Km)': 0.44, 'Elevation (Ft)': 20, 'Floors': 2, 'Minutes Sedentary': 767, 'Minutes Lightly Active': 125, 'Minutes Fairly Active': 0, 'Minutes Very Active': 0, 'Activity Calories': 309, 'Active Score': -1, 'Cardio minutes': 0, 'Cardio calories': 0, 'Fat Burn minutes': 114, 'Fat Burn calories': 235.0832, 'Peak minutes': 0, 'Peak calories': 0, 'Normal Cardio minutes': 1309, 'Normal Cardio calories': 1170.6948, 'Sleep Efficiency': 95, 'Minutes Asleep': 448, 'Minutes to fall asleep': 0, 'Sleep Start time': '2021-12-30T23:07:00.000', 'Sleep End time': '2021-12-31T08:07:30.000', 'Time in bed': 540, 'Minutes Deep sleep': 82, 'Deep sleep count': 4, '% Deep sleep': 16.0, 'Minutes Light sleep': 316, 'Light sleep count': 31, '% Light sleep': 59.0, 'Minutes REM sleep': 50, 'REM sleep count': 6, '% REM sleep': 10.0, 'Minutes Awake': 92, 'Minutes Awake count': 30}, {'Date': '2022-01-01', 'Day of Week': 6, 'Is Weekday': False, 'Is Weekend': True, 'Calories Burned': 1398, 'Calories BMR': 1172, 'Resting Heart Rate': 64, 'Steps': 1546, 'Distance (Km)': 0.65, 'Elevation (Ft)': 0, 'Floors': 0, 'Minutes Sedentary': 853, 'Minutes Lightly Active': 121, 'Minutes Fairly Active': 0, 'Minutes Very Active': 0, 'Activity Calories': 301, 'Active Score': -1, 'Cardio minutes': 1, 'Cardio calories': 4.9654, 'Fat Burn minutes': 50, 'Fat Burn calories': 131.2982, 'Peak minutes': 0, 'Peak calories': 0, 'Normal Cardio minutes': 1387, 'Normal Cardio calories': 1260.1534, 'Sleep Efficiency': 91, 'Minutes Asleep': 370, 'Minutes to fall asleep': 0, 'Sleep Start time': '2021-12-31T23:51:30.000', 'Sleep End time': '2022-01-01T07:24:30.000', 'Time in bed': 453, 'Minutes Deep sleep': 73, 'Deep sleep count': 4, '% Deep sleep': 17.0, 'Minutes Light sleep': 242, 'Light sleep count': 27, '% Light sleep': 54.0, 'Minutes REM sleep': 55, 'REM sleep count': 7, '% REM sleep': 13.0, 'Minutes Awake': 83, 'Minutes Awake count': 26}, {'Date': '2022-01-02', 'Day of Week': 7, 'Is Weekday': False, 'Is Weekend': True, 'Calories Burned': 1454, 'Calories BMR': 1172, 'Resting Heart Rate': 64, 'Steps': 4093, 'Distance (Km)': 1.73, 'Elevation (Ft)': 20, 'Floors': 2, 'Minutes Sedentary': 818, 'Minutes Lightly Active': 94, 'Minutes Fairly Active': 25, 'Minutes Very Active': 0, 'Activity Calories': 336, 'Active Score': -1, 'Cardio minutes': 0, 'Cardio calories': 0, 'Fat Burn minutes': 104, 'Fat Burn calories': 215.303, 'Peak minutes': 0, 'Peak calories': 0, 'Normal Cardio minutes': 1321, 'Normal Cardio calories': 1224.3374, 'Sleep Efficiency': 94, 'Minutes Asleep': 379, 'Minutes to fall asleep': 0, 'Sleep Start time': '2022-01-01T23:46:30.000', 'Sleep End time': '2022-01-02T07:25:30.000', 'Time in bed': 459, 'Minutes Deep sleep': 78, 'Deep sleep count': 3, '% Deep sleep': 17.0, 'Minutes Light sleep': 244, 'Light sleep count': 25, '% Light sleep': 54.0, 'Minutes REM sleep': 57, 'REM sleep count': 5, '% REM sleep': 13.0, 'Minutes Awake': 80, 'Minutes Awake count': 25}, {'Date': '2022-01-03', 'Day of Week': 1, 'Is Weekday': True, 'Is Weekend': False, 'Calories Burned': 1491, 'Calories BMR': 1172, 'Resting Heart Rate': 64, 'Steps': 4101, 'Distance (Km)': 1.73, 'Elevation (Ft)': 30, 'Floors': 3, 'Minutes Sedentary': 795, 'Minutes Lightly Active': 121, 'Minutes Fairly Active': 23, 'Minutes Very Active': 0, 'Activity Calories': 397, 'Active Score': -1, 'Cardio minutes': 0, 'Cardio calories': 0, 'Fat Burn minutes': 114, 'Fat Burn calories': 269.1084, 'Peak minutes': 0, 'Peak calories': 0, 'Normal Cardio minutes': 1316, 'Normal Cardio calories': 1214.3252, 'Sleep Efficiency': 95, 'Minutes Asleep': 398, 'Minutes to fall asleep': 0, 'Sleep Start time': '2022-01-02T23:16:00.000', 'Sleep End time': '2022-01-03T06:54:30.000', 'Time in bed': 458, 'Minutes Deep sleep': 73, 'Deep sleep count': 5, '% Deep sleep': 16.0, 'Minutes Light sleep': 241, 'Light sleep count': 19, '% Light sleep': 53.0, 'Minutes REM sleep': 84, 'REM sleep count': 6, '% REM sleep': 19.0, 'Minutes Awake': 60, 'Minutes Awake count': 21}, {'Date': '2022-01-04', 'Day of Week': 2, 'Is Weekday': True, 'Is Weekend': False, 'Calories Burned': 1409, 'Calories BMR': 1172, 'Resting Heart Rate': 63, 'Steps': 3488, 'Distance (Km)': 1.47, 'Elevation (Ft)': 30, 'Floors': 3, 'Minutes Sedentary': 805, 'Minutes Lightly Active': 86, 'Minutes Fairly Active': 14, 'Minutes Very Active': 1, 'Activity Calories': 285, 'Active Score': -1, 'Cardio minutes': 0, 'Cardio calories': 0, 'Fat Burn minutes': 67, 'Fat Burn calories': 140.4964, 'Peak minutes': 0, 'Peak calories': 0, 'Normal Cardio minutes': 1373, 'Normal Cardio calories': 1269.3516, 'Sleep Efficiency': 93, 'Minutes Asleep': 435, 'Minutes to fall asleep': 0, 'Sleep Start time': '2022-01-03T23:17:00.000', 'Sleep End time': '2022-01-04T08:09:00.000', 'Time in bed': 532, 'Minutes Deep sleep': 30, 'Deep sleep count': 2, '% Deep sleep': 6.0, 'Minutes Light sleep': 358, 'Light sleep count': 35, '% Light sleep': 68.0, 'Minutes REM sleep': 47, 'REM sleep count': 2, '% REM sleep': 9.0, 'Minutes Awake': 97, 'Minutes Awake count': 33}, {'Date': '2022-01-05', 'Day of Week': 3, 'Is Weekday': True, 'Is Weekend': False, 'Calories Burned': 1364, 'Calories BMR': 1172, 'Resting Heart Rate': 64, 'Steps': 2257, 'Distance (Km)': 0.95, 'Elevation (Ft)': 0, 'Floors': 0, 'Minutes Sedentary': 840, 'Minutes Lightly Active': 73, 'Minutes Fairly Active': 13, 'Minutes Very Active': 0, 'Activity Calories': 231, 'Active Score': -1, 'Cardio minutes': 1, 'Cardio calories': 5.0468, 'Fat Burn minutes': 67, 'Fat Burn calories': 151.811, 'Peak minutes': 0, 'Peak calories': 0, 'Normal Cardio minutes': 1222, 'Normal Cardio calories': 1085.876, 'Sleep Efficiency': 95, 'Minutes Asleep': 405, 'Minutes to fall asleep': 0, 'Sleep Start time': '2022-01-04T23:57:30.000', 'Sleep End time': '2022-01-05T08:05:30.000', 'Time in bed': 488, 'Minutes Deep sleep': 58, 'Deep sleep count': 6, '% Deep sleep': 12.0, 'Minutes Light sleep': 297, 'Light sleep count': 25, '% Light sleep': 61.0, 'Minutes REM sleep': 50, 'REM sleep count': 5, '% REM sleep': 11.0, 'Minutes Awake': 83, 'Minutes Awake count': 20}, {'Date': '2022-01-06', 'Day of Week': 4, 'Is Weekday': True, 'Is Weekend': False, 'Calories Burned': 1589, 'Calories BMR': 1172, 'Resting Heart Rate': 63, 'Steps': 4138, 'Distance (Km)': 1.75, 'Elevation (Ft)': 40, 'Floors': 4, 'Minutes Sedentary': 728, 'Minutes Lightly Active': 172, 'Minutes Fairly Active': 13, 'Minutes Very Active': 4, 'Activity Calories': 535, 'Active Score': -1, 'Cardio minutes': 6, 'Cardio calories': 31.339, 'Fat Burn minutes': 146, 'Fat Burn calories': 391.3712, 'Peak minutes': 0, 'Peak calories': 0, 'Normal Cardio minutes': 1277, 'Normal Cardio calories': 1157.5894, 'Sleep Efficiency': 88, 'Minutes Asleep': 303, 'Minutes to fall asleep': 0, 'Sleep Start time': '2022-01-05T23:33:30.000', 'Sleep End time': '2022-01-06T05:43:00.000', 'Time in bed': 369, 'Minutes Deep sleep': 41, 'Deep sleep count': 4, '% Deep sleep': 12.0, 'Minutes Light sleep': 197, 'Light sleep count': 26, '% Light sleep': 54.0, 'Minutes REM sleep': 65, 'REM sleep count': 6, '% REM sleep': 18.0, 'Minutes Awake': 66, 'Minutes Awake count': 21}, {'Date': '2022-01-07', 'Day of Week': 5, 'Is Weekday': True, 'Is Weekend': False, 'Calories Burned': 1454, 'Calories BMR': 1172, 'Resting Heart Rate': 64, 'Steps': 2597, 'Distance (Km)': 1.1, 'Elevation (Ft)': 0, 'Floors': 0, 'Minutes Sedentary': 837, 'Minutes Lightly Active': 123, 'Minutes Fairly Active': 7, 'Minutes Very Active': 1, 'Activity Calories': 356, 'Active Score': -1, 'Cardio minutes': 0, 'Cardio calories': 0, 'Fat Burn minutes': 97, 'Fat Burn calories': 237.1996, 'Peak minutes': 0, 'Peak calories': 0, 'Normal Cardio minutes': 1343, 'Normal Cardio calories': 1217.6626, 'Sleep Efficiency': 97, 'Minutes Asleep': 310, 'Minutes to fall asleep': 0, 'Sleep Start time': '2022-01-06T23:22:00.000', 'Sleep End time': '2022-01-07T05:05:30.000', 'Time in bed': 343, 'Minutes Deep sleep': 29, 'Deep sleep count': 1, '% Deep sleep': 9.0, 'Minutes Light sleep': 232, 'Light sleep count': 17, '% Light sleep': 68.0, 'Minutes REM sleep': 49, 'REM sleep count': 3, '% REM sleep': 15.0, 'Minutes Awake': 33, 'Minutes Awake count': 18}, {'Date': '2022-01-08', 'Day of Week': 6, 'Is Weekday': False, 'Is Weekend': True, 'Calories Burned': 1363, 'Calories BMR': 1172, 'Resting Heart Rate': 64, 'Steps': 1061, 'Distance (Km)': 0.45, 'Elevation (Ft)': 0, 'Floors': 0, 'Minutes Sedentary': 817, 'Minutes Lightly Active': 99, 'Minutes Fairly Active': 0, 'Minutes Very Active': 0, 'Activity Calories': 237, 'Active Score': -1, 'Cardio minutes': 3, 'Cardio calories': 15.2218, 'Fat Burn minutes': 45, 'Fat Burn calories': 93.0402, 'Peak minutes': 0, 'Peak calories': 0, 'Normal Cardio minutes': 1392, 'Normal Cardio calories': 1255.4322, 'Sleep Efficiency': 94, 'Minutes Asleep': 437, 'Minutes to fall asleep': 0, 'Sleep Start time': '2022-01-07T23:48:00.000', 'Sleep End time': '2022-01-08T08:01:30.000', 'Time in bed': 493, 'Minutes Deep sleep': 91, 'Deep sleep count': 5, '% Deep sleep': 19.0, 'Minutes Light sleep': 240, 'Light sleep count': 31, '% Light sleep': 49.0, 'Minutes REM sleep': 106, 'REM sleep count': 11, '% REM sleep': 22.0, 'Minutes Awake': 56, 'Minutes Awake count': 37}, {'Date': '2022-01-09', 'Day of Week': 7, 'Is Weekday': False, 'Is Weekend': True, 'Calories Burned': 1421, 'Calories BMR': 1172, 'Resting Heart Rate': 65, 'Steps': 3540, 'Distance (Km)': 1.5, 'Elevation (Ft)': 20, 'Floors': 2, 'Minutes Sedentary': 785, 'Minutes Lightly Active': 85, 'Minutes Fairly Active': 17, 'Minutes Very Active': 3, 'Activity Calories': 292, 'Active Score': -1, 'Cardio minutes': 0, 'Cardio calories': 0, 'Fat Burn minutes': 52, 'Fat Burn calories': 136.9962, 'Peak minutes': 0, 'Peak calories': 0, 'Normal Cardio minutes': 1387, 'Normal Cardio calories': 1283.3524, 'Sleep Efficiency': 99, 'Minutes Asleep': 455, 'Minutes to fall asleep': 0, 'Sleep Start time': '2022-01-08T23:29:00.000', 'Sleep End time': '2022-01-09T08:01:00.000', 'Time in bed': 512, 'Minutes Deep sleep': 70, 'Deep sleep count': 4, '% Deep sleep': 14.0, 'Minutes Light sleep': 298, 'Light sleep count': 31, '% Light sleep': 59.0, 'Minutes REM sleep': 87, 'REM sleep count': 7, '% REM sleep': 17.0, 'Minutes Awake': 57, 'Minutes Awake count': 27}, {'Date': '2022-01-10', 'Day of Week': 1, 'Is Weekday': True, 'Is Weekend': False, 'Calories Burned': 1327, 'Calories BMR': 1172, 'Resting Heart Rate': 64, 'Steps': 1045, 'Distance (Km)': 0.44, 'Elevation (Ft)': 10, 'Floors': 1, 'Minutes Sedentary': 758, 'Minutes Lightly Active': 75, 'Minutes Fairly Active': 0, 'Minutes Very Active': 0, 'Activity Calories': 183, 'Active Score': -1, 'Cardio minutes': 1, 'Cardio calories': 5.1282, 'Fat Burn minutes': 54, 'Fat Burn calories': 101.1802, 'Peak minutes': 0, 'Peak calories': 0, 'Normal Cardio minutes': 1205, 'Normal Cardio calories': 1074.48, 'Sleep Efficiency': 96, 'Minutes Asleep': 449, 'Minutes to fall asleep': 0, 'Sleep Start time': '2022-01-09T23:21:30.000', 'Sleep End time': '2022-01-10T07:54:00.000', 'Time in bed': 512, 'Minutes Deep sleep': 77, 'Deep sleep count': 6, '% Deep sleep': 16.0, 'Minutes Light sleep': 285, 'Light sleep count': 29, '% Light sleep': 56.0, 'Minutes REM sleep': 87, 'REM sleep count': 11, '% REM sleep': 17.0, 'Minutes Awake': 63, 'Minutes Awake count': 33}, {'Date': '2022-01-11', 'Day of Week': 2, 'Is Weekday': True, 'Is Weekend': False, 'Calories Burned': 1256, 'Calories BMR': 1172, 'Resting Heart Rate': 64, 'Steps': 421, 'Distance (Km)': 0.18, 'Elevation (Ft)': 10, 'Floors': 1, 'Minutes Sedentary': 797, 'Minutes Lightly Active': 45, 'Minutes Fairly Active': 0, 'Minutes Very Active': 0, 'Activity Calories': 103, 'Active Score': -1, 'Cardio minutes': 0, 'Cardio calories': 0, 'Fat Burn minutes': 35, 'Fat Burn calories': 58.0382, 'Peak minutes': 0, 'Peak calories': 0, 'Normal Cardio minutes': 1061, 'Normal Cardio calories': 918.599, 'Sleep Efficiency': 91, 'Minutes Asleep': 395, 'Minutes to fall asleep': 0, 'Sleep Start time': '2022-01-10T22:25:00.000', 'Sleep End time': '2022-01-11T06:12:30.000', 'Time in bed': 467, 'Minutes Deep sleep': 60, 'Deep sleep count': 2, '% Deep sleep': 13.0, 'Minutes Light sleep': 302, 'Light sleep count': 25, '% Light sleep': 65.0, 'Minutes REM sleep': 33, 'REM sleep count': 4, '% REM sleep': 8.0, 'Minutes Awake': 72, 'Minutes Awake count': 26}, {'Date': '2022-01-12', 'Day of Week': 3, 'Is Weekday': True, 'Is Weekend': False, 'Calories Burned': 1303, 'Calories BMR': 1172, 'Resting Heart Rate': 65, 'Steps': 487, 'Distance (Km)': 0.21, 'Elevation (Ft)': 0, 'Floors': 0, 'Minutes Sedentary': 841, 'Minutes Lightly Active': 61, 'Minutes Fairly Active': 0, 'Minutes Very Active': 0, 'Activity Calories': 150, 'Active Score': -1, 'Cardio minutes': 4, 'Cardio calories': 21.6524, 'Fat Burn minutes': 87, 'Fat Burn calories': 123.4024, 'Peak minutes': 0, 'Peak calories': 0, 'Normal Cardio minutes': 1130, 'Normal Cardio calories': 978.835, 'Sleep Efficiency': 92, 'Minutes Asleep': 426, 'Minutes to fall asleep': 0, 'Sleep Start time': '2022-01-12T00:09:00.000', 'Sleep End time': '2022-01-12T08:47:30.000', 'Time in bed': 518, 'Minutes Deep sleep': 53, 'Deep sleep count': 3, '% Deep sleep': 11.0, 'Minutes Light sleep': 316, 'Light sleep count': 27, '% Light sleep': 62.0, 'Minutes REM sleep': 57, 'REM sleep count': 3, '% REM sleep': 12.0, 'Minutes Awake': 92, 'Minutes Awake count': 26}, {'Date': '2022-01-13', 'Day of Week': 4, 'Is Weekday': True, 'Is Weekend': False, 'Calories Burned': 1317, 'Calories BMR': 1172, 'Resting Heart Rate': 66, 'Steps': 1069, 'Distance (Km)': 0.45, 'Elevation (Ft)': 0, 'Floors': 0, 'Minutes Sedentary': 847, 'Minutes Lightly Active': 72, 'Minutes Fairly Active': 0, 'Minutes Very Active': 0, 'Activity Calories': 171, 'Active Score': -1, 'Cardio minutes': 0, 'Cardio calories': 0, 'Fat Burn minutes': 75, 'Fat Burn calories': 122.2628, 'Peak minutes': 0, 'Peak calories': 0, 'Normal Cardio minutes': 1365, 'Normal Cardio calories': 1195.359, 'Sleep Efficiency': 98, 'Minutes Asleep': 441, 'Minutes to fall asleep': 0, 'Sleep Start time': '2022-01-12T23:39:30.000', 'Sleep End time': '2022-01-13T08:00:30.000', 'Time in bed': 501, 'Minutes Deep sleep': 113, 'Deep sleep count': 3, '% Deep sleep': 23.0, 'Minutes Light sleep': 250, 'Light sleep count': 26, '% Light sleep': 50.0, 'Minutes REM sleep': 78, 'REM sleep count': 8, '% REM sleep': 16.0, 'Minutes Awake': 60, 'Minutes Awake count': 29}, {'Date': '2022-01-14', 'Day of Week': 5, 'Is Weekday': True, 'Is Weekend': False, 'Calories Burned': 1321, 'Calories BMR': 1172, 'Resting Heart Rate': 65, 'Steps': 1262, 'Distance (Km)': 0.53, 'Elevation (Ft)': 10, 'Floors': 1, 'Minutes Sedentary': 861, 'Minutes Lightly Active': 80, 'Minutes Fairly Active': 0, 'Minutes Very Active': 0, 'Activity Calories': 190, 'Active Score': -1, 'Cardio minutes': 0, 'Cardio calories': 0, 'Fat Burn minutes': 30, 'Fat Burn calories': 72.6902, 'Peak minutes': 0, 'Peak calories': 0, 'Normal Cardio minutes': 1410, 'Normal Cardio calories': 1249.2458, 'Sleep Efficiency': 96, 'Minutes Asleep': 437, 'Minutes to fall asleep': 0, 'Sleep Start time': '2022-01-13T23:39:30.000', 'Sleep End time': '2022-01-14T07:58:30.000', 'Time in bed': 499, 'Minutes Deep sleep': 81, 'Deep sleep count': 5, '% Deep sleep': 17.0, 'Minutes Light sleep': 302, 'Light sleep count': 37, '% Light sleep': 61.0, 'Minutes REM sleep': 54, 'REM sleep count': 4, '% REM sleep': 11.0, 'Minutes Awake': 62, 'Minutes Awake count': 33}, {'Date': '2022-01-15', 'Day of Week': 6, 'Is Weekday': False, 'Is Weekend': True, 'Calories Burned': 1407, 'Calories BMR': 1172, 'Resting Heart Rate': 65, 'Steps': 4030, 'Distance (Km)': 1.7, 'Elevation (Ft)': 30, 'Floors': 3, 'Minutes Sedentary': 743, 'Minutes Lightly Active': 83, 'Minutes Fairly Active': 20, 'Minutes Very Active': 0, 'Activity Calories': 291, 'Active Score': -1, 'Cardio minutes': 0, 'Cardio calories': 0, 'Fat Burn minutes': 51, 'Fat Burn calories': 155.474, 'Peak minutes': 0, 'Peak calories': 0, 'Normal Cardio minutes': 1301, 'Normal Cardio calories': 1175.9044, 'Sleep Efficiency': 92, 'Minutes Asleep': 403, 'Minutes to fall asleep': 0, 'Sleep Start time': '2022-01-15T00:23:00.000', 'Sleep End time': '2022-01-15T08:10:00.000', 'Time in bed': 467, 'Minutes Deep sleep': 89, 'Deep sleep count': 4, '% Deep sleep': 20.0, 'Minutes Light sleep': 223, 'Light sleep count': 22, '% Light sleep': 48.0, 'Minutes REM sleep': 91, 'REM sleep count': 7, '% REM sleep': 20.0, 'Minutes Awake': 64, 'Minutes Awake count': 21}, {'Date': '2022-01-16', 'Day of Week': 7, 'Is Weekday': False, 'Is Weekend': True, 'Calories Burned': 1394, 'Calories BMR': 1172, 'Resting Heart Rate': 64, 'Steps': 2365, 'Distance (Km)': 0.99, 'Elevation (Ft)': 0, 'Floors': 0, 'Minutes Sedentary': 807, 'Minutes Lightly Active': 125, 'Minutes Fairly Active': 0, 'Minutes Very Active': 0, 'Activity Calories': 299, 'Active Score': -1, 'Cardio minutes': 0, 'Cardio calories': 0, 'Fat Burn minutes': 35, 'Fat Burn calories': 88.5632, 'Peak minutes': 0, 'Peak calories': 0, 'Normal Cardio minutes': 1386, 'Normal Cardio calories': 1290.597, 'Sleep Efficiency': 97, 'Minutes Asleep': 446, 'Minutes to fall asleep': 0, 'Sleep Start time': '2022-01-15T23:56:00.000', 'Sleep End time': '2022-01-16T08:24:30.000', 'Time in bed': 508, 'Minutes Deep sleep': 54, 'Deep sleep count': 3, '% Deep sleep': 11.0, 'Minutes Light sleep': 314, 'Light sleep count': 31, '% Light sleep': 62.0, 'Minutes REM sleep': 78, 'REM sleep count': 6, '% REM sleep': 16.0, 'Minutes Awake': 62, 'Minutes Awake count': 31}, {'Date': '2022-01-17', 'Day of Week': 1, 'Is Weekday': True, 'Is Weekend': False, 'Calories Burned': 1270, 'Calories BMR': 1172, 'Resting Heart Rate': 64, 'Steps': 1653, 'Distance (Km)': 0.7, 'Elevation (Ft)': 0, 'Floors': 0, 'Minutes Sedentary': 1152, 'Minutes Lightly Active': 35, 'Minutes Fairly Active': 10, 'Minutes Very Active': 0, 'Activity Calories': 125, 'Active Score': -1, 'Cardio minutes': 0, 'Cardio calories': 0, 'Fat Burn minutes': 25, 'Fat Burn calories': 61.3756, 'Peak minutes': 0, 'Peak calories': 0, 'Normal Cardio minutes': 696, 'Normal Cardio calories': 624.0124, 'Sleep Efficiency': 93, 'Minutes Asleep': 195, 'Minutes to fall asleep': 0, 'Sleep Start time': '2022-01-17T00:13:30.000', 'Sleep End time': '2022-01-17T04:16:30.000', 'Time in bed': 243, 'Minutes Deep sleep': 52, 'Deep sleep count': 3, '% Deep sleep': 22.0, 'Minutes Light sleep': 131, 'Light sleep count': 10, '% Light sleep': 54.0, 'Minutes REM sleep': 12, 'REM sleep count': 1, '% REM sleep': 5.0, 'Minutes Awake': 48, 'Minutes Awake count': 11}, {'Date': '2022-01-18', 'Day of Week': 2, 'Is Weekday': True, 'Is Weekend': False, 'Calories Burned': 1429, 'Calories BMR': 1172, 'Resting Heart Rate': 64, 'Steps': 3594, 'Distance (Km)': 1.52, 'Elevation (Ft)': 80, 'Floors': 8, 'Minutes Sedentary': 1320, 'Minutes Lightly Active': 103, 'Minutes Fairly Active': 14, 'Minutes Very Active': 3, 'Activity Calories': 321, 'Active Score': -1, 'Cardio minutes': 0, 'Cardio calories': 0, 'Fat Burn minutes': 49, 'Fat Burn calories': 109.6458, 'Peak minutes': 0, 'Peak calories': 0, 'Normal Cardio minutes': 862, 'Normal Cardio calories': 874.8872}, {'Date': '2022-01-19', 'Day of Week': 3, 'Is Weekday': True, 'Is Weekend': False, 'Calories Burned': 1404, 'Calories BMR': 1172, 'Resting Heart Rate': 62, 'Steps': 4049, 'Distance (Km)': 1.71, 'Elevation (Ft)': 10, 'Floors': 1, 'Minutes Sedentary': 870, 'Minutes Lightly Active': 69, 'Minutes Fairly Active': 29, 'Minutes Very Active': 3, 'Activity Calories': 296, 'Active Score': -1, 'Cardio minutes': 2, 'Cardio calories': 11.0704, 'Fat Burn minutes': 41, 'Fat Burn calories': 150.59, 'Peak minutes': 0, 'Peak calories': 0, 'Normal Cardio minutes': 1375, 'Normal Cardio calories': 1224.8258, 'Sleep Efficiency': 96, 'Minutes Asleep': 410, 'Minutes to fall asleep': 0, 'Sleep Start time': '2022-01-19T00:19:30.000', 'Sleep End time': '2022-01-19T08:08:30.000', 'Time in bed': 469, 'Minutes Deep sleep': 93, 'Deep sleep count': 3, '% Deep sleep': 20.0, 'Minutes Light sleep': 226, 'Light sleep count': 28, '% Light sleep': 49.0, 'Minutes REM sleep': 91, 'REM sleep count': 8, '% REM sleep': 20.0, 'Minutes Awake': 59, 'Minutes Awake count': 29}, {'Date': '2022-01-20', 'Day of Week': 4, 'Is Weekday': True, 'Is Weekend': False, 'Calories Burned': 1358, 'Calories BMR': 1172, 'Resting Heart Rate': 60, 'Steps': 3170, 'Distance (Km)': 1.34, 'Elevation (Ft)': 20, 'Floors': 2, 'Minutes Sedentary': 895, 'Minutes Lightly Active': 68, 'Minutes Fairly Active': 13, 'Minutes Very Active': 1, 'Activity Calories': 234, 'Active Score': -1, 'Cardio minutes': 0, 'Cardio calories': 0, 'Fat Burn minutes': 35, 'Fat Burn calories': 90.6796, 'Peak minutes': 0, 'Peak calories': 0, 'Normal Cardio minutes': 1308, 'Normal Cardio calories': 1187.1376, 'Sleep Efficiency': 97, 'Minutes Asleep': 418, 'Minutes to fall asleep': 0, 'Sleep Start time': '2022-01-20T00:53:30.000', 'Sleep End time': '2022-01-20T08:37:00.000', 'Time in bed': 463, 'Minutes Deep sleep': 103, 'Deep sleep count': 4, '% Deep sleep': 23.0, 'Minutes Light sleep': 246, 'Light sleep count': 26, '% Light sleep': 54.0, 'Minutes REM sleep': 69, 'REM sleep count': 6, '% REM sleep': 15.0, 'Minutes Awake': 45, 'Minutes Awake count': 23}, {'Date': '2022-01-21', 'Day of Week': 5, 'Is Weekday': True, 'Is Weekend': False, 'Calories Burned': 1348, 'Calories BMR': 1172, 'Resting Heart Rate': 60, 'Steps': 2249, 'Distance (Km)': 0.95, 'Elevation (Ft)': 0, 'Floors': 0, 'Minutes Sedentary': 864, 'Minutes Lightly Active': 62, 'Minutes Fairly Active': 6, 'Minutes Very Active': 9, 'Activity Calories': 211, 'Active Score': -1, 'Cardio minutes': 6, 'Cardio calories': 34.3508, 'Fat Burn minutes': 24, 'Fat Burn calories': 65.6898, 'Peak minutes': 0, 'Peak calories': 0, 'Normal Cardio minutes': 1307, 'Normal Cardio calories': 1162.799, 'Sleep Efficiency': 97, 'Minutes Asleep': nan, 'Minutes to fall asleep': 0, 'Sleep Start time': '2022-01-21T00:28:30.000', 'Sleep End time': '2022-01-21T08:48:00.000', 'Time in bed': 499, 'Minutes Deep sleep': nan, 'Deep sleep count': nan, '% Deep sleep': nan, 'Minutes Light sleep': nan, 'Light sleep count': nan, '% Light sleep': nan, 'Minutes REM sleep': nan, 'REM sleep count': nan, '% REM sleep': nan, 'Minutes Awake': nan, 'Minutes Awake count': nan}, {'Date': '2022-01-22', 'Day of Week': 6, 'Is Weekday': False, 'Is Weekend': True, 'Calories Burned': 1271, 'Calories BMR': 1172, 'Resting Heart Rate': 60, 'Steps': 768, 'Distance (Km)': 0.32, 'Elevation (Ft)': 0, 'Floors': 0, 'Minutes Sedentary': 798, 'Minutes Lightly Active': 54, 'Minutes Fairly Active': 0, 'Minutes Very Active': 0, 'Activity Calories': 121, 'Active Score': -1, 'Cardio minutes': 0, 'Cardio calories': 0, 'Fat Burn minutes': 17, 'Fat Burn calories': 28.9784, 'Peak minutes': 0, 'Peak calories': 0, 'Normal Cardio minutes': 1420, 'Normal Cardio calories': 1239.6406, 'Sleep Efficiency': 96, 'Minutes Asleep': 441, 'Minutes to fall asleep': 0, 'Sleep Start time': '2022-01-22T00:04:00.000', 'Sleep End time': '2022-01-22T08:13:00.000', 'Time in bed': 489, 'Minutes Deep sleep': 99, 'Deep sleep count': 4, '% Deep sleep': 21.0, 'Minutes Light sleep': 260, 'Light sleep count': 23, '% Light sleep': 54.0, 'Minutes REM sleep': 82, 'REM sleep count': 6, '% REM sleep': 17.0, 'Minutes Awake': 48, 'Minutes Awake count': 22}, {'Date': '2022-01-23', 'Day of Week': 7, 'Is Weekday': False, 'Is Weekend': True, 'Calories Burned': 1354, 'Calories BMR': 1172, 'Resting Heart Rate': 58, 'Steps': 3056, 'Distance (Km)': 1.29, 'Elevation (Ft)': 30, 'Floors': 3, 'Minutes Sedentary': 838, 'Minutes Lightly Active': 63, 'Minutes Fairly Active': 16, 'Minutes Very Active': 5, 'Activity Calories': 234, 'Active Score': -1, 'Cardio minutes': 0, 'Cardio calories': 0, 'Fat Burn minutes': 29, 'Fat Burn calories': 102.4012, 'Peak minutes': 0, 'Peak calories': 0, 'Normal Cardio minutes': 1191, 'Normal Cardio calories': 1073.259, 'Sleep Efficiency': 95, 'Minutes Asleep': 396, 'Minutes to fall asleep': 0, 'Sleep Start time': '2022-01-23T00:40:30.000', 'Sleep End time': '2022-01-23T09:19:00.000', 'Time in bed': 518, 'Minutes Deep sleep': 69, 'Deep sleep count': 4, '% Deep sleep': 14.0, 'Minutes Light sleep': 271, 'Light sleep count': 26, '% Light sleep': 53.0, 'Minutes REM sleep': 56, 'REM sleep count': 5, '% REM sleep': 11.0, 'Minutes Awake': 122, 'Minutes Awake count': 24}, {'Date': '2022-01-24', 'Day of Week': 1, 'Is Weekday': True, 'Is Weekend': False, 'Calories Burned': 1326, 'Calories BMR': 1172, 'Resting Heart Rate': 60, 'Steps': 892, 'Distance (Km)': 0.38, 'Elevation (Ft)': 0, 'Floors': 0, 'Minutes Sedentary': 856, 'Minutes Lightly Active': 76, 'Minutes Fairly Active': 0, 'Minutes Very Active': 0, 'Activity Calories': 188, 'Active Score': -1, 'Cardio minutes': 0, 'Cardio calories': 0, 'Fat Burn minutes': 42, 'Fat Burn calories': 101.0174, 'Peak minutes': 0, 'Peak calories': 0, 'Normal Cardio minutes': 1377, 'Normal Cardio calories': 1208.2202, 'Sleep Efficiency': 97, 'Minutes Asleep': 456, 'Minutes to fall asleep': 0, 'Sleep Start time': '2022-01-24T00:32:00.000', 'Sleep End time': '2022-01-24T09:00:30.000', 'Time in bed': 508, 'Minutes Deep sleep': 76, 'Deep sleep count': 3, '% Deep sleep': 15.0, 'Minutes Light sleep': 270, 'Light sleep count': 33, '% Light sleep': 54.0, 'Minutes REM sleep': 110, 'REM sleep count': 9, '% REM sleep': 22.0, 'Minutes Awake': 52, 'Minutes Awake count': 34}, {'Date': '2022-01-25', 'Day of Week': 2, 'Is Weekday': True, 'Is Weekend': False, 'Calories Burned': 1337, 'Calories BMR': 1172, 'Resting Heart Rate': 61, 'Steps': 1444, 'Distance (Km)': 0.61, 'Elevation (Ft)': 10, 'Floors': 1, 'Minutes Sedentary': 957, 'Minutes Lightly Active': 76, 'Minutes Fairly Active': 0, 'Minutes Very Active': 0, 'Activity Calories': 194, 'Active Score': -1, 'Cardio minutes': 0, 'Cardio calories': 0, 'Fat Burn minutes': 43, 'Fat Burn calories': 92.796, 'Peak minutes': 0, 'Peak calories': 0, 'Normal Cardio minutes': 1241, 'Normal Cardio calories': 1116.8894, 'Sleep Efficiency': 97, 'Minutes Asleep': 370, 'Minutes to fall asleep': 0, 'Sleep Start time': '2022-01-25T01:45:00.000', 'Sleep End time': '2022-01-25T08:32:30.000', 'Time in bed': 407, 'Minutes Deep sleep': 66, 'Deep sleep count': 4, '% Deep sleep': 17.0, 'Minutes Light sleep': 219, 'Light sleep count': 22, '% Light sleep': 54.0, 'Minutes REM sleep': 85, 'REM sleep count': 7, '% REM sleep': 21.0, 'Minutes Awake': 37, 'Minutes Awake count': 21}, {'Date': '2022-01-26', 'Day of Week': 3, 'Is Weekday': True, 'Is Weekend': False, 'Calories Burned': 1331, 'Calories BMR': 1172, 'Resting Heart Rate': 60, 'Steps': 2131, 'Distance (Km)': 0.87, 'Elevation (Ft)': 10, 'Floors': 1, 'Minutes Sedentary': 821, 'Minutes Lightly Active': 56, 'Minutes Fairly Active': 14, 'Minutes Very Active': 0, 'Activity Calories': 189, 'Active Score': -1, 'Cardio minutes': 0, 'Cardio calories': 0, 'Fat Burn minutes': 51, 'Fat Burn calories': 128.7748, 'Peak minutes': 0, 'Peak calories': 0, 'Normal Cardio minutes': 1371, 'Normal Cardio calories': 1187.626, 'Sleep Efficiency': 97, 'Minutes Asleep': 465, 'Minutes to fall asleep': 0, 'Sleep Start time': '2022-01-26T00:43:30.000', 'Sleep End time': '2022-01-26T09:33:30.000', 'Time in bed': 530, 'Minutes Deep sleep': 69, 'Deep sleep count': 2, '% Deep sleep': 14.0, 'Minutes Light sleep': 314, 'Light sleep count': 27, '% Light sleep': 60.0, 'Minutes REM sleep': 82, 'REM sleep count': 7, '% REM sleep': 16.0, 'Minutes Awake': 65, 'Minutes Awake count': 25}, {'Date': '2022-01-27', 'Day of Week': 4, 'Is Weekday': True, 'Is Weekend': False, 'Calories Burned': 1310, 'Calories BMR': 1172, 'Resting Heart Rate': 60, 'Steps': 1583, 'Distance (Km)': 0.67, 'Elevation (Ft)': 0, 'Floors': 0, 'Minutes Sedentary': 827, 'Minutes Lightly Active': 63, 'Minutes Fairly Active': 0, 'Minutes Very Active': 0, 'Activity Calories': 161, 'Active Score': -1, 'Cardio minutes': 0, 'Cardio calories': 0, 'Fat Burn minutes': 26, 'Fat Burn calories': 71.3878, 'Peak minutes': 0, 'Peak calories': 0, 'Normal Cardio minutes': 1279, 'Normal Cardio calories': 1129.018, 'Sleep Efficiency': 95, 'Minutes Asleep': 467, 'Minutes to fall asleep': 0, 'Sleep Start time': '2022-01-26T23:41:00.000', 'Sleep End time': '2022-01-27T08:51:00.000', 'Time in bed': 550, 'Minutes Deep sleep': 70, 'Deep sleep count': 4, '% Deep sleep': 13.0, 'Minutes Light sleep': 294, 'Light sleep count': 25, '% Light sleep': 54.0, 'Minutes REM sleep': 103, 'REM sleep count': 7, '% REM sleep': 19.0, 'Minutes Awake': 83, 'Minutes Awake count': 27}, {'Date': '2022-01-28', 'Day of Week': 5, 'Is Weekday': True, 'Is Weekend': False, 'Calories Burned': 880, 'Calories BMR': 880, 'Resting Heart Rate': nan, 'Steps': 0, 'Distance (Km)': 0, 'Elevation (Ft)': 0, 'Floors': 0, 'Minutes Sedentary': 1082, 'Minutes Lightly Active': 0, 'Minutes Fairly Active': 0, 'Minutes Very Active': 0, 'Activity Calories': 0, 'Active Score': -1, 'Cardio minutes': nan, 'Cardio calories': nan, 'Fat Burn minutes': nan, 'Fat Burn calories': nan, 'Peak minutes': nan, 'Peak calories': nan, 'Normal Cardio minutes': nan, 'Normal Cardio calories': nan}]\n"
     ]
    }
   ],
   "source": [
    "#database = fetchData(database, refetchAll = True)\n",
    "data = fetchData(database, refetchAll = True)\n",
    "print(data)"
   ]
  },
  {
   "cell_type": "code",
   "execution_count": 14,
   "metadata": {},
   "outputs": [],
   "source": [
    "df = pd.DataFrame(data)"
   ]
  },
  {
   "cell_type": "code",
   "execution_count": 15,
   "metadata": {},
   "outputs": [
    {
     "data": {
      "text/html": [
       "<div>\n",
       "<style scoped>\n",
       "    .dataframe tbody tr th:only-of-type {\n",
       "        vertical-align: middle;\n",
       "    }\n",
       "\n",
       "    .dataframe tbody tr th {\n",
       "        vertical-align: top;\n",
       "    }\n",
       "\n",
       "    .dataframe thead th {\n",
       "        text-align: right;\n",
       "    }\n",
       "</style>\n",
       "<table border=\"1\" class=\"dataframe\">\n",
       "  <thead>\n",
       "    <tr style=\"text-align: right;\">\n",
       "      <th></th>\n",
       "      <th>Date</th>\n",
       "      <th>Day of Week</th>\n",
       "      <th>Is Weekday</th>\n",
       "      <th>Is Weekend</th>\n",
       "      <th>Calories Burned</th>\n",
       "      <th>Calories BMR</th>\n",
       "      <th>Resting Heart Rate</th>\n",
       "      <th>Steps</th>\n",
       "      <th>Distance (Km)</th>\n",
       "      <th>Elevation (Ft)</th>\n",
       "      <th>...</th>\n",
       "      <th>Deep sleep count</th>\n",
       "      <th>% Deep sleep</th>\n",
       "      <th>Minutes Light sleep</th>\n",
       "      <th>Light sleep count</th>\n",
       "      <th>% Light sleep</th>\n",
       "      <th>Minutes REM sleep</th>\n",
       "      <th>REM sleep count</th>\n",
       "      <th>% REM sleep</th>\n",
       "      <th>Minutes Awake</th>\n",
       "      <th>Minutes Awake count</th>\n",
       "    </tr>\n",
       "  </thead>\n",
       "  <tbody>\n",
       "    <tr>\n",
       "      <th>0</th>\n",
       "      <td>2021-12-22</td>\n",
       "      <td>3</td>\n",
       "      <td>True</td>\n",
       "      <td>False</td>\n",
       "      <td>1444</td>\n",
       "      <td>1172</td>\n",
       "      <td>62.0</td>\n",
       "      <td>4544</td>\n",
       "      <td>1.91</td>\n",
       "      <td>20</td>\n",
       "      <td>...</td>\n",
       "      <td>4.0</td>\n",
       "      <td>14.0</td>\n",
       "      <td>330.0</td>\n",
       "      <td>35.0</td>\n",
       "      <td>64.0</td>\n",
       "      <td>44.0</td>\n",
       "      <td>7.0</td>\n",
       "      <td>9.0</td>\n",
       "      <td>76.0</td>\n",
       "      <td>36.0</td>\n",
       "    </tr>\n",
       "    <tr>\n",
       "      <th>1</th>\n",
       "      <td>2021-12-23</td>\n",
       "      <td>4</td>\n",
       "      <td>True</td>\n",
       "      <td>False</td>\n",
       "      <td>1442</td>\n",
       "      <td>1172</td>\n",
       "      <td>62.0</td>\n",
       "      <td>4013</td>\n",
       "      <td>1.68</td>\n",
       "      <td>20</td>\n",
       "      <td>...</td>\n",
       "      <td>6.0</td>\n",
       "      <td>18.0</td>\n",
       "      <td>275.0</td>\n",
       "      <td>31.0</td>\n",
       "      <td>56.0</td>\n",
       "      <td>66.0</td>\n",
       "      <td>8.0</td>\n",
       "      <td>14.0</td>\n",
       "      <td>66.0</td>\n",
       "      <td>30.0</td>\n",
       "    </tr>\n",
       "    <tr>\n",
       "      <th>2</th>\n",
       "      <td>2021-12-24</td>\n",
       "      <td>5</td>\n",
       "      <td>True</td>\n",
       "      <td>False</td>\n",
       "      <td>1499</td>\n",
       "      <td>1172</td>\n",
       "      <td>62.0</td>\n",
       "      <td>4479</td>\n",
       "      <td>1.82</td>\n",
       "      <td>30</td>\n",
       "      <td>...</td>\n",
       "      <td>6.0</td>\n",
       "      <td>21.0</td>\n",
       "      <td>250.0</td>\n",
       "      <td>29.0</td>\n",
       "      <td>51.0</td>\n",
       "      <td>79.0</td>\n",
       "      <td>8.0</td>\n",
       "      <td>17.0</td>\n",
       "      <td>63.0</td>\n",
       "      <td>30.0</td>\n",
       "    </tr>\n",
       "    <tr>\n",
       "      <th>3</th>\n",
       "      <td>2021-12-25</td>\n",
       "      <td>6</td>\n",
       "      <td>False</td>\n",
       "      <td>True</td>\n",
       "      <td>1459</td>\n",
       "      <td>1172</td>\n",
       "      <td>62.0</td>\n",
       "      <td>3810</td>\n",
       "      <td>1.60</td>\n",
       "      <td>20</td>\n",
       "      <td>...</td>\n",
       "      <td>3.0</td>\n",
       "      <td>17.0</td>\n",
       "      <td>151.0</td>\n",
       "      <td>12.0</td>\n",
       "      <td>59.0</td>\n",
       "      <td>12.0</td>\n",
       "      <td>2.0</td>\n",
       "      <td>5.0</td>\n",
       "      <td>53.0</td>\n",
       "      <td>14.0</td>\n",
       "    </tr>\n",
       "    <tr>\n",
       "      <th>4</th>\n",
       "      <td>2021-12-26</td>\n",
       "      <td>7</td>\n",
       "      <td>False</td>\n",
       "      <td>True</td>\n",
       "      <td>1404</td>\n",
       "      <td>1172</td>\n",
       "      <td>63.0</td>\n",
       "      <td>3745</td>\n",
       "      <td>1.55</td>\n",
       "      <td>20</td>\n",
       "      <td>...</td>\n",
       "      <td>3.0</td>\n",
       "      <td>21.0</td>\n",
       "      <td>197.0</td>\n",
       "      <td>17.0</td>\n",
       "      <td>51.0</td>\n",
       "      <td>49.0</td>\n",
       "      <td>5.0</td>\n",
       "      <td>13.0</td>\n",
       "      <td>63.0</td>\n",
       "      <td>16.0</td>\n",
       "    </tr>\n",
       "  </tbody>\n",
       "</table>\n",
       "<p>5 rows × 42 columns</p>\n",
       "</div>"
      ],
      "text/plain": [
       "         Date  Day of Week  Is Weekday  Is Weekend  Calories Burned  \\\n",
       "0  2021-12-22            3        True       False             1444   \n",
       "1  2021-12-23            4        True       False             1442   \n",
       "2  2021-12-24            5        True       False             1499   \n",
       "3  2021-12-25            6       False        True             1459   \n",
       "4  2021-12-26            7       False        True             1404   \n",
       "\n",
       "   Calories BMR  Resting Heart Rate  Steps  Distance (Km)  Elevation (Ft)  \\\n",
       "0          1172                62.0   4544           1.91              20   \n",
       "1          1172                62.0   4013           1.68              20   \n",
       "2          1172                62.0   4479           1.82              30   \n",
       "3          1172                62.0   3810           1.60              20   \n",
       "4          1172                63.0   3745           1.55              20   \n",
       "\n",
       "   ...  Deep sleep count  % Deep sleep  Minutes Light sleep  \\\n",
       "0  ...               4.0          14.0                330.0   \n",
       "1  ...               6.0          18.0                275.0   \n",
       "2  ...               6.0          21.0                250.0   \n",
       "3  ...               3.0          17.0                151.0   \n",
       "4  ...               3.0          21.0                197.0   \n",
       "\n",
       "   Light sleep count  % Light sleep  Minutes REM sleep  REM sleep count  \\\n",
       "0               35.0           64.0               44.0              7.0   \n",
       "1               31.0           56.0               66.0              8.0   \n",
       "2               29.0           51.0               79.0              8.0   \n",
       "3               12.0           59.0               12.0              2.0   \n",
       "4               17.0           51.0               49.0              5.0   \n",
       "\n",
       "   % REM sleep  Minutes Awake  Minutes Awake count  \n",
       "0          9.0           76.0                 36.0  \n",
       "1         14.0           66.0                 30.0  \n",
       "2         17.0           63.0                 30.0  \n",
       "3          5.0           53.0                 14.0  \n",
       "4         13.0           63.0                 16.0  \n",
       "\n",
       "[5 rows x 42 columns]"
      ]
     },
     "execution_count": 15,
     "metadata": {},
     "output_type": "execute_result"
    }
   ],
   "source": [
    "df.head()"
   ]
  },
  {
   "cell_type": "code",
   "execution_count": 35,
   "metadata": {},
   "outputs": [
    {
     "name": "stdout",
     "output_type": "stream",
     "text": [
      "Collecting pymysql\n",
      "  Downloading PyMySQL-1.0.2-py3-none-any.whl (43 kB)\n",
      "Installing collected packages: pymysql\n",
      "Successfully installed pymysql-1.0.2\n"
     ]
    }
   ],
   "source": [
    "!pip install pymysql"
   ]
  },
  {
   "cell_type": "code",
   "execution_count": 38,
   "metadata": {},
   "outputs": [
    {
     "name": "stdout",
     "output_type": "stream",
     "text": [
      "Requirement already satisfied: sqlalchemy in c:\\users\\arulc\\anaconda3\\lib\\site-packages (1.3.20)\n"
     ]
    }
   ],
   "source": [
    "!pip install sqlalchemy"
   ]
  },
  {
   "cell_type": "code",
   "execution_count": 16,
   "metadata": {},
   "outputs": [],
   "source": [
    "import pymysql\n",
    "import sqlalchemy\n",
    "engine = sqlalchemy.create_engine(\"mysql+pymysql://\" + DB_USER + \":\" + DB_PASSWD + \"@\" + DB_HOST + \"/\" + 'fitbitdb')\n",
    "df.to_sql(con=engine, name='fitbit_logs', if_exists='replace', index=False)"
   ]
  },
  {
   "cell_type": "code",
   "execution_count": 24,
   "metadata": {
    "collapsed": true
   },
   "outputs": [
    {
     "ename": "AttributeError",
     "evalue": "'list' object has no attribute 'cursor'",
     "output_type": "error",
     "traceback": [
      "\u001b[1;31m---------------------------------------------------------------------------\u001b[0m",
      "\u001b[1;31mAttributeError\u001b[0m                            Traceback (most recent call last)",
      "\u001b[1;32m<ipython-input-24-c7a3f64b6778>\u001b[0m in \u001b[0;36m<module>\u001b[1;34m\u001b[0m\n\u001b[1;32m----> 1\u001b[1;33m \u001b[0mcursor\u001b[0m \u001b[1;33m=\u001b[0m \u001b[0mdatabase\u001b[0m\u001b[1;33m.\u001b[0m\u001b[0mcursor\u001b[0m\u001b[1;33m(\u001b[0m\u001b[1;33m)\u001b[0m\u001b[1;33m\u001b[0m\u001b[1;33m\u001b[0m\u001b[0m\n\u001b[0m\u001b[0;32m      2\u001b[0m \u001b[1;33m\u001b[0m\u001b[0m\n\u001b[0;32m      3\u001b[0m cnx.executemany(\"\"\"\n\u001b[0;32m      4\u001b[0m     \u001b[0mINSERT\u001b[0m \u001b[0mINTO\u001b[0m \u001b[0mfoo\u001b[0m \u001b[1;33m(\u001b[0m\u001b[0mname\u001b[0m\u001b[1;33m,\u001b[0m \u001b[0mgender\u001b[0m\u001b[1;33m)\u001b[0m\u001b[1;33m\u001b[0m\u001b[1;33m\u001b[0m\u001b[0m\n\u001b[0;32m      5\u001b[0m     VALUES (%(name)s, %(gender)s)\"\"\", data)\n",
      "\u001b[1;31mAttributeError\u001b[0m: 'list' object has no attribute 'cursor'"
     ]
    }
   ],
   "source": [
    "\n",
    "cursor.executemany(\"\"\"\n",
    "    INSERT INTO fitbit_logs ('Sleep Efficiency': 98, 'Minutes Asleep': 443, 'Minutes to fall asleep': 0, 'Sleep Start time': '2021-12-21T23:06:00.000', 'Sleep End time': '2021-12-22T07:45:30.000', 'Time in bed': 519, 'Minutes Deep sleep': 69, 'Deep sleep count': 4, '% Deep sleep': 14.0, 'Minutes Light sleep': 330, 'Light sleep count': 35, '% Light sleep': 64.0, 'Minutes REM sleep': 44, 'REM sleep count': 7, '% REM sleep': 9.0, 'Minutes Awake': 76, 'Minutes Awake count': 36, 'Calories Burned': 1444, 'Calories BMR': 1172, 'Resting Heart Rate': 62, 'Steps': 4544, 'Distance (Km)': 1.91, 'Elevation (Ft)': 20, 'Floors': 2, 'Minutes Sedentary': 741, 'Minutes Lightly Active': 84, 'Minutes Fairly Active': 30, 'Minutes Very Active': 2, 'Activity Calories': 335, 'Active Score': -1, 'Cardio minutes': 0, 'Cardio calories': 0, 'Fat Burn minutes': 39, 'Fat Burn calories': 107.2852, 'Peak minutes': 0, 'Peak calories': 0, 'Normal Cardio minutes': 1380, 'Normal Cardio calories': 1320.308, 'Day of Week': 3, 'Is Weekday': True, 'Is Weekend': False, 'Date': '2021-12-22')\n",
    "    VALUES (%(name)s, %(gender)s)\"\"\", data)\n",
    "\n",
    "#large_df = pd.concat(database, ignore_index=True)"
   ]
  },
  {
   "cell_type": "code",
   "execution_count": 13,
   "metadata": {},
   "outputs": [
    {
     "name": "stdout",
     "output_type": "stream",
     "text": [
      "Writing database to filename: data/database_main.xls\n",
      "Database updated with new entries!!\n"
     ]
    },
    {
     "name": "stderr",
     "output_type": "stream",
     "text": [
      "C:\\Users\\arulc\\anaconda3\\lib\\site-packages\\IPython\\core\\interactiveshell.py:3418: FutureWarning: As the xlwt package is no longer maintained, the xlwt engine will be removed in a future version of pandas. This is the only engine in pandas that supports writing in the xls format. Install openpyxl and write to an xlsx file instead. You can set the option io.excel.xls.writer to 'xlwt' to silence this warning. While this option is deprecated and will also raise a warning, it can be globally set and the warning suppressed.\n",
      "  exec(code_obj, self.user_global_ns, self.user_ns)\n"
     ]
    }
   ],
   "source": [
    "writeDbToExcelFile(database)"
   ]
  },
  {
   "cell_type": "code",
   "execution_count": 9,
   "metadata": {},
   "outputs": [],
   "source": [
    "#database"
   ]
  },
  {
   "cell_type": "code",
   "execution_count": null,
   "metadata": {},
   "outputs": [],
   "source": []
  }
 ],
 "metadata": {
  "kernelspec": {
   "display_name": "Python 3",
   "language": "python",
   "name": "python3"
  },
  "language_info": {
   "codemirror_mode": {
    "name": "ipython",
    "version": 3
   },
   "file_extension": ".py",
   "mimetype": "text/x-python",
   "name": "python",
   "nbconvert_exporter": "python",
   "pygments_lexer": "ipython3",
   "version": "3.8.5"
  }
 },
 "nbformat": 4,
 "nbformat_minor": 2
}
