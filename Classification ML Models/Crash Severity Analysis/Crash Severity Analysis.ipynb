{
 "cells": [
  {
   "cell_type": "markdown",
   "metadata": {},
   "source": [
    "<div class=\"alert alert-block alert-info\">\n",
    "    <b>GOAL:</b>\n",
    "    \n",
    "To predict Crash Severity of the test dataset based on <b>roc-auc</b> evaluation criterion recommended for this business context </div>"
   ]
  },
  {
   "cell_type": "markdown",
   "metadata": {},
   "source": [
    "# Preprocessing ``train.csv``"
   ]
  },
  {
   "cell_type": "code",
   "execution_count": 64,
   "metadata": {},
   "outputs": [],
   "source": [
    "#Import all required libraries\n",
    "import pandas as pd \n",
    "import numpy as np\n",
    "import matplotlib.pyplot as plt\n",
    "import seaborn as sns\n",
    "plt.rcParams[\"figure.figsize\"] = (15,8)\n",
    "\n",
    "import warnings\n",
    "warnings.filterwarnings(\"ignore\")"
   ]
  },
  {
   "cell_type": "code",
   "execution_count": 65,
   "metadata": {},
   "outputs": [],
   "source": [
    "# Import dataset\n",
    "df_train = pd.read_csv('train.csv')"
   ]
  },
  {
   "cell_type": "code",
   "execution_count": 66,
   "metadata": {},
   "outputs": [
    {
     "name": "stdout",
     "output_type": "stream",
     "text": [
      "<class 'pandas.core.frame.DataFrame'>\n",
      "RangeIndex: 2322 entries, 0 to 2321\n",
      "Data columns (total 19 columns):\n",
      " #   Column                                     Non-Null Count  Dtype \n",
      "---  ------                                     --------------  ----- \n",
      " 0   $1000 Damage to Any One Person's Property  2322 non-null   object\n",
      " 1   Bridge Detail                              2322 non-null   object\n",
      " 2   Construction Zone Flag                     2322 non-null   object\n",
      " 3   Construction Zone Workers Present Flag     2322 non-null   object\n",
      " 4   Crash Time                                 2322 non-null   int64 \n",
      " 5   Day of Week                                2322 non-null   object\n",
      " 6   Highway System                             2322 non-null   object\n",
      " 7   Intersecting Highway Number                2322 non-null   object\n",
      " 8   Intersecting Street Name                   541 non-null    object\n",
      " 9   Manner of Collision                        2322 non-null   object\n",
      " 10  Median Type                                2322 non-null   object\n",
      " 11  Median Width                               2322 non-null   object\n",
      " 12  Number of Entering Roads                   2322 non-null   object\n",
      " 13  Number of Lanes                            2322 non-null   object\n",
      " 14  Surface Condition                          2322 non-null   object\n",
      " 15  Surface Type                               2322 non-null   object\n",
      " 16  Surface Width                              2322 non-null   object\n",
      " 17  Weather Condition                          2322 non-null   object\n",
      " 18  Crash Severity                             2322 non-null   object\n",
      "dtypes: int64(1), object(18)\n",
      "memory usage: 344.8+ KB\n"
     ]
    }
   ],
   "source": [
    "# Below categorical columns has to be transformed into numerical and nulls has to be handled to aid modelling\n",
    "df_train.info()"
   ]
  },
  {
   "cell_type": "code",
   "execution_count": 67,
   "metadata": {},
   "outputs": [
    {
     "data": {
      "text/html": [
       "<div>\n",
       "<style scoped>\n",
       "    .dataframe tbody tr th:only-of-type {\n",
       "        vertical-align: middle;\n",
       "    }\n",
       "\n",
       "    .dataframe tbody tr th {\n",
       "        vertical-align: top;\n",
       "    }\n",
       "\n",
       "    .dataframe thead th {\n",
       "        text-align: right;\n",
       "    }\n",
       "</style>\n",
       "<table border=\"1\" class=\"dataframe\">\n",
       "  <thead>\n",
       "    <tr style=\"text-align: right;\">\n",
       "      <th></th>\n",
       "      <th>$1000 Damage to Any One Person's Property</th>\n",
       "      <th>Bridge Detail</th>\n",
       "      <th>Construction Zone Flag</th>\n",
       "      <th>Construction Zone Workers Present Flag</th>\n",
       "      <th>Crash Time</th>\n",
       "      <th>Day of Week</th>\n",
       "      <th>Highway System</th>\n",
       "      <th>Intersecting Highway Number</th>\n",
       "      <th>Intersecting Street Name</th>\n",
       "      <th>Manner of Collision</th>\n",
       "      <th>Median Type</th>\n",
       "      <th>Median Width</th>\n",
       "      <th>Number of Entering Roads</th>\n",
       "      <th>Number of Lanes</th>\n",
       "      <th>Surface Condition</th>\n",
       "      <th>Surface Type</th>\n",
       "      <th>Surface Width</th>\n",
       "      <th>Weather Condition</th>\n",
       "      <th>Crash Severity</th>\n",
       "    </tr>\n",
       "  </thead>\n",
       "  <tbody>\n",
       "    <tr>\n",
       "      <th>0</th>\n",
       "      <td>Yes</td>\n",
       "      <td>NOT APPLICABLE</td>\n",
       "      <td>No</td>\n",
       "      <td>No</td>\n",
       "      <td>638</td>\n",
       "      <td>TUESDAY</td>\n",
       "      <td>STATE SPUR</td>\n",
       "      <td>No Data</td>\n",
       "      <td>NaN</td>\n",
       "      <td>SAME DIRECTION - ONE STRAIGHT-ONE STOPPED</td>\n",
       "      <td>No Data</td>\n",
       "      <td>40</td>\n",
       "      <td>97 - NOT APPLICABLE</td>\n",
       "      <td>8</td>\n",
       "      <td>1 - DRY</td>\n",
       "      <td>No Data</td>\n",
       "      <td>96</td>\n",
       "      <td>1 - CLEAR</td>\n",
       "      <td>Not serious</td>\n",
       "    </tr>\n",
       "    <tr>\n",
       "      <th>1</th>\n",
       "      <td>Yes</td>\n",
       "      <td>NOT APPLICABLE</td>\n",
       "      <td>No</td>\n",
       "      <td>No</td>\n",
       "      <td>1658</td>\n",
       "      <td>SUNDAY</td>\n",
       "      <td>STATE SPUR</td>\n",
       "      <td>No Data</td>\n",
       "      <td>N FIELD ST</td>\n",
       "      <td>ANGLE - BOTH GOING STRAIGHT</td>\n",
       "      <td>No Data</td>\n",
       "      <td>40</td>\n",
       "      <td>97 - NOT APPLICABLE</td>\n",
       "      <td>8</td>\n",
       "      <td>2 - WET</td>\n",
       "      <td>No Data</td>\n",
       "      <td>96</td>\n",
       "      <td>3 - RAIN</td>\n",
       "      <td>Not serious</td>\n",
       "    </tr>\n",
       "    <tr>\n",
       "      <th>2</th>\n",
       "      <td>Yes</td>\n",
       "      <td>NOT APPLICABLE</td>\n",
       "      <td>No</td>\n",
       "      <td>No</td>\n",
       "      <td>1715</td>\n",
       "      <td>WEDNESDAY</td>\n",
       "      <td>STATE SPUR</td>\n",
       "      <td>No Data</td>\n",
       "      <td>AKARD ST</td>\n",
       "      <td>SAME DIRECTION - ONE STRAIGHT-ONE LEFT TURN</td>\n",
       "      <td>No Data</td>\n",
       "      <td>No Data</td>\n",
       "      <td>97 - NOT APPLICABLE</td>\n",
       "      <td>No Data</td>\n",
       "      <td>1 - DRY</td>\n",
       "      <td>No Data</td>\n",
       "      <td>No Data</td>\n",
       "      <td>2 - CLOUDY</td>\n",
       "      <td>Not serious</td>\n",
       "    </tr>\n",
       "    <tr>\n",
       "      <th>3</th>\n",
       "      <td>Yes</td>\n",
       "      <td>NOT APPLICABLE</td>\n",
       "      <td>No</td>\n",
       "      <td>No</td>\n",
       "      <td>1817</td>\n",
       "      <td>FRIDAY</td>\n",
       "      <td>STATE SPUR</td>\n",
       "      <td>No Data</td>\n",
       "      <td>NaN</td>\n",
       "      <td>SAME DIRECTION - BOTH GOING STRAIGHT-REAR END</td>\n",
       "      <td>No Data</td>\n",
       "      <td>40</td>\n",
       "      <td>97 - NOT APPLICABLE</td>\n",
       "      <td>8</td>\n",
       "      <td>1 - DRY</td>\n",
       "      <td>No Data</td>\n",
       "      <td>96</td>\n",
       "      <td>1 - CLEAR</td>\n",
       "      <td>Not serious</td>\n",
       "    </tr>\n",
       "    <tr>\n",
       "      <th>4</th>\n",
       "      <td>Yes</td>\n",
       "      <td>NOT APPLICABLE</td>\n",
       "      <td>No</td>\n",
       "      <td>No</td>\n",
       "      <td>1950</td>\n",
       "      <td>SUNDAY</td>\n",
       "      <td>STATE SPUR</td>\n",
       "      <td>345</td>\n",
       "      <td>IH0345</td>\n",
       "      <td>ANGLE - BOTH GOING STRAIGHT</td>\n",
       "      <td>No Data</td>\n",
       "      <td>40</td>\n",
       "      <td>4 - FOUR ENTERING ROADS</td>\n",
       "      <td>8</td>\n",
       "      <td>1 - DRY</td>\n",
       "      <td>No Data</td>\n",
       "      <td>96</td>\n",
       "      <td>1 - CLEAR</td>\n",
       "      <td>Not serious</td>\n",
       "    </tr>\n",
       "  </tbody>\n",
       "</table>\n",
       "</div>"
      ],
      "text/plain": [
       "  $1000 Damage to Any One Person's Property   Bridge Detail  \\\n",
       "0                                       Yes  NOT APPLICABLE   \n",
       "1                                       Yes  NOT APPLICABLE   \n",
       "2                                       Yes  NOT APPLICABLE   \n",
       "3                                       Yes  NOT APPLICABLE   \n",
       "4                                       Yes  NOT APPLICABLE   \n",
       "\n",
       "  Construction Zone Flag Construction Zone Workers Present Flag  Crash Time  \\\n",
       "0                     No                                     No         638   \n",
       "1                     No                                     No        1658   \n",
       "2                     No                                     No        1715   \n",
       "3                     No                                     No        1817   \n",
       "4                     No                                     No        1950   \n",
       "\n",
       "  Day of Week Highway System Intersecting Highway Number  \\\n",
       "0     TUESDAY     STATE SPUR                     No Data   \n",
       "1      SUNDAY     STATE SPUR                     No Data   \n",
       "2   WEDNESDAY     STATE SPUR                     No Data   \n",
       "3      FRIDAY     STATE SPUR                     No Data   \n",
       "4      SUNDAY     STATE SPUR                         345   \n",
       "\n",
       "  Intersecting Street Name                            Manner of Collision  \\\n",
       "0                      NaN      SAME DIRECTION - ONE STRAIGHT-ONE STOPPED   \n",
       "1               N FIELD ST                    ANGLE - BOTH GOING STRAIGHT   \n",
       "2                 AKARD ST    SAME DIRECTION - ONE STRAIGHT-ONE LEFT TURN   \n",
       "3                      NaN  SAME DIRECTION - BOTH GOING STRAIGHT-REAR END   \n",
       "4                   IH0345                    ANGLE - BOTH GOING STRAIGHT   \n",
       "\n",
       "  Median Type Median Width Number of Entering Roads Number of Lanes  \\\n",
       "0     No Data           40      97 - NOT APPLICABLE               8   \n",
       "1     No Data           40      97 - NOT APPLICABLE               8   \n",
       "2     No Data      No Data      97 - NOT APPLICABLE         No Data   \n",
       "3     No Data           40      97 - NOT APPLICABLE               8   \n",
       "4     No Data           40  4 - FOUR ENTERING ROADS               8   \n",
       "\n",
       "  Surface Condition Surface Type Surface Width Weather Condition  \\\n",
       "0           1 - DRY      No Data            96         1 - CLEAR   \n",
       "1           2 - WET      No Data            96          3 - RAIN   \n",
       "2           1 - DRY      No Data       No Data        2 - CLOUDY   \n",
       "3           1 - DRY      No Data            96         1 - CLEAR   \n",
       "4           1 - DRY      No Data            96         1 - CLEAR   \n",
       "\n",
       "  Crash Severity  \n",
       "0    Not serious  \n",
       "1    Not serious  \n",
       "2    Not serious  \n",
       "3    Not serious  \n",
       "4    Not serious  "
      ]
     },
     "execution_count": 67,
     "metadata": {},
     "output_type": "execute_result"
    }
   ],
   "source": [
    "df_train.head()"
   ]
  },
  {
   "cell_type": "code",
   "execution_count": 68,
   "metadata": {},
   "outputs": [
    {
     "name": "stdout",
     "output_type": "stream",
     "text": [
      "Train data has  2322 rows and  19 columns\n"
     ]
    }
   ],
   "source": [
    "print(\"Train data has \", df_train.shape[0], 'rows and ', df_train.shape[1], 'columns')"
   ]
  },
  {
   "cell_type": "code",
   "execution_count": 69,
   "metadata": {},
   "outputs": [
    {
     "data": {
      "text/plain": [
       "1781"
      ]
     },
     "execution_count": 69,
     "metadata": {},
     "output_type": "execute_result"
    }
   ],
   "source": [
    "# Total nulls\n",
    "df_train.isnull().sum().sum()"
   ]
  },
  {
   "cell_type": "code",
   "execution_count": 70,
   "metadata": {},
   "outputs": [
    {
     "data": {
      "text/html": [
       "<div>\n",
       "<style scoped>\n",
       "    .dataframe tbody tr th:only-of-type {\n",
       "        vertical-align: middle;\n",
       "    }\n",
       "\n",
       "    .dataframe tbody tr th {\n",
       "        vertical-align: top;\n",
       "    }\n",
       "\n",
       "    .dataframe thead th {\n",
       "        text-align: right;\n",
       "    }\n",
       "</style>\n",
       "<table border=\"1\" class=\"dataframe\">\n",
       "  <thead>\n",
       "    <tr style=\"text-align: right;\">\n",
       "      <th></th>\n",
       "      <th>Total</th>\n",
       "      <th>Percent</th>\n",
       "    </tr>\n",
       "  </thead>\n",
       "  <tbody>\n",
       "    <tr>\n",
       "      <th>Intersecting Street Name</th>\n",
       "      <td>1781</td>\n",
       "      <td>0.767011</td>\n",
       "    </tr>\n",
       "    <tr>\n",
       "      <th>$1000 Damage to Any One Person's Property</th>\n",
       "      <td>0</td>\n",
       "      <td>0.000000</td>\n",
       "    </tr>\n",
       "    <tr>\n",
       "      <th>Median Type</th>\n",
       "      <td>0</td>\n",
       "      <td>0.000000</td>\n",
       "    </tr>\n",
       "    <tr>\n",
       "      <th>Weather Condition</th>\n",
       "      <td>0</td>\n",
       "      <td>0.000000</td>\n",
       "    </tr>\n",
       "    <tr>\n",
       "      <th>Surface Width</th>\n",
       "      <td>0</td>\n",
       "      <td>0.000000</td>\n",
       "    </tr>\n",
       "    <tr>\n",
       "      <th>Surface Type</th>\n",
       "      <td>0</td>\n",
       "      <td>0.000000</td>\n",
       "    </tr>\n",
       "    <tr>\n",
       "      <th>Surface Condition</th>\n",
       "      <td>0</td>\n",
       "      <td>0.000000</td>\n",
       "    </tr>\n",
       "    <tr>\n",
       "      <th>Number of Lanes</th>\n",
       "      <td>0</td>\n",
       "      <td>0.000000</td>\n",
       "    </tr>\n",
       "    <tr>\n",
       "      <th>Number of Entering Roads</th>\n",
       "      <td>0</td>\n",
       "      <td>0.000000</td>\n",
       "    </tr>\n",
       "    <tr>\n",
       "      <th>Median Width</th>\n",
       "      <td>0</td>\n",
       "      <td>0.000000</td>\n",
       "    </tr>\n",
       "  </tbody>\n",
       "</table>\n",
       "</div>"
      ],
      "text/plain": [
       "                                           Total   Percent\n",
       "Intersecting Street Name                    1781  0.767011\n",
       "$1000 Damage to Any One Person's Property      0  0.000000\n",
       "Median Type                                    0  0.000000\n",
       "Weather Condition                              0  0.000000\n",
       "Surface Width                                  0  0.000000\n",
       "Surface Type                                   0  0.000000\n",
       "Surface Condition                              0  0.000000\n",
       "Number of Lanes                                0  0.000000\n",
       "Number of Entering Roads                       0  0.000000\n",
       "Median Width                                   0  0.000000"
      ]
     },
     "execution_count": 70,
     "metadata": {},
     "output_type": "execute_result"
    }
   ],
   "source": [
    "# Feature-wise null percentage\n",
    "total = df_train.isnull().sum().sort_values(ascending = False)\n",
    "percent = (df_train.isnull().sum() / df_train.isnull().count()).sort_values(ascending = False)\n",
    "missing_data = pd.concat([total, percent], axis=1, keys=['Total', 'Percent'])\n",
    "missing_data.head(10)"
   ]
  },
  {
   "cell_type": "code",
   "execution_count": 71,
   "metadata": {},
   "outputs": [
    {
     "data": {
      "text/plain": [
       "27"
      ]
     },
     "execution_count": 71,
     "metadata": {},
     "output_type": "execute_result"
    }
   ],
   "source": [
    "# Implies there are 27 duplicates\n",
    "sum(df_train.duplicated())"
   ]
  },
  {
   "cell_type": "code",
   "execution_count": 72,
   "metadata": {
    "scrolled": true
   },
   "outputs": [
    {
     "data": {
      "text/html": [
       "<div>\n",
       "<style scoped>\n",
       "    .dataframe tbody tr th:only-of-type {\n",
       "        vertical-align: middle;\n",
       "    }\n",
       "\n",
       "    .dataframe tbody tr th {\n",
       "        vertical-align: top;\n",
       "    }\n",
       "\n",
       "    .dataframe thead th {\n",
       "        text-align: right;\n",
       "    }\n",
       "</style>\n",
       "<table border=\"1\" class=\"dataframe\">\n",
       "  <thead>\n",
       "    <tr style=\"text-align: right;\">\n",
       "      <th></th>\n",
       "      <th>$1000 Damage to Any One Person's Property</th>\n",
       "      <th>Bridge Detail</th>\n",
       "      <th>Construction Zone Flag</th>\n",
       "      <th>Construction Zone Workers Present Flag</th>\n",
       "      <th>Crash Time</th>\n",
       "      <th>Day of Week</th>\n",
       "      <th>Highway System</th>\n",
       "      <th>Intersecting Highway Number</th>\n",
       "      <th>Intersecting Street Name</th>\n",
       "      <th>Manner of Collision</th>\n",
       "      <th>Median Type</th>\n",
       "      <th>Median Width</th>\n",
       "      <th>Number of Entering Roads</th>\n",
       "      <th>Number of Lanes</th>\n",
       "      <th>Surface Condition</th>\n",
       "      <th>Surface Type</th>\n",
       "      <th>Surface Width</th>\n",
       "      <th>Weather Condition</th>\n",
       "      <th>Crash Severity</th>\n",
       "    </tr>\n",
       "  </thead>\n",
       "  <tbody>\n",
       "    <tr>\n",
       "      <th>186</th>\n",
       "      <td>Yes</td>\n",
       "      <td>NOT APPLICABLE</td>\n",
       "      <td>No</td>\n",
       "      <td>No</td>\n",
       "      <td>157</td>\n",
       "      <td>THURSDAY</td>\n",
       "      <td>STATE SPUR</td>\n",
       "      <td>35</td>\n",
       "      <td>IH0035E</td>\n",
       "      <td>ONE MOTOR VEHICLE - GOING STRAIGHT</td>\n",
       "      <td>No Data</td>\n",
       "      <td>40</td>\n",
       "      <td>97 - NOT APPLICABLE</td>\n",
       "      <td>6</td>\n",
       "      <td>1 - DRY</td>\n",
       "      <td>No Data</td>\n",
       "      <td>72</td>\n",
       "      <td>1 - CLEAR</td>\n",
       "      <td>Not serious</td>\n",
       "    </tr>\n",
       "    <tr>\n",
       "      <th>453</th>\n",
       "      <td>Yes</td>\n",
       "      <td>NOT APPLICABLE</td>\n",
       "      <td>No</td>\n",
       "      <td>No</td>\n",
       "      <td>157</td>\n",
       "      <td>THURSDAY</td>\n",
       "      <td>STATE SPUR</td>\n",
       "      <td>35</td>\n",
       "      <td>IH0035E</td>\n",
       "      <td>ONE MOTOR VEHICLE - GOING STRAIGHT</td>\n",
       "      <td>No Data</td>\n",
       "      <td>40</td>\n",
       "      <td>97 - NOT APPLICABLE</td>\n",
       "      <td>6</td>\n",
       "      <td>1 - DRY</td>\n",
       "      <td>No Data</td>\n",
       "      <td>72</td>\n",
       "      <td>1 - CLEAR</td>\n",
       "      <td>Not serious</td>\n",
       "    </tr>\n",
       "    <tr>\n",
       "      <th>1145</th>\n",
       "      <td>No</td>\n",
       "      <td>NOT APPLICABLE</td>\n",
       "      <td>No</td>\n",
       "      <td>No</td>\n",
       "      <td>815</td>\n",
       "      <td>TUESDAY</td>\n",
       "      <td>STATE SPUR</td>\n",
       "      <td>No Data</td>\n",
       "      <td>NaN</td>\n",
       "      <td>SAME DIRECTION - ONE STRAIGHT-ONE STOPPED</td>\n",
       "      <td>No Data</td>\n",
       "      <td>40</td>\n",
       "      <td>97 - NOT APPLICABLE</td>\n",
       "      <td>8</td>\n",
       "      <td>1 - DRY</td>\n",
       "      <td>No Data</td>\n",
       "      <td>96</td>\n",
       "      <td>1 - CLEAR</td>\n",
       "      <td>Not serious</td>\n",
       "    </tr>\n",
       "    <tr>\n",
       "      <th>1808</th>\n",
       "      <td>No</td>\n",
       "      <td>NOT APPLICABLE</td>\n",
       "      <td>No</td>\n",
       "      <td>No</td>\n",
       "      <td>815</td>\n",
       "      <td>TUESDAY</td>\n",
       "      <td>STATE SPUR</td>\n",
       "      <td>No Data</td>\n",
       "      <td>NaN</td>\n",
       "      <td>SAME DIRECTION - ONE STRAIGHT-ONE STOPPED</td>\n",
       "      <td>No Data</td>\n",
       "      <td>40</td>\n",
       "      <td>97 - NOT APPLICABLE</td>\n",
       "      <td>8</td>\n",
       "      <td>1 - DRY</td>\n",
       "      <td>No Data</td>\n",
       "      <td>96</td>\n",
       "      <td>1 - CLEAR</td>\n",
       "      <td>Not serious</td>\n",
       "    </tr>\n",
       "    <tr>\n",
       "      <th>2293</th>\n",
       "      <td>Yes</td>\n",
       "      <td>NOT APPLICABLE</td>\n",
       "      <td>No</td>\n",
       "      <td>No</td>\n",
       "      <td>820</td>\n",
       "      <td>WEDNESDAY</td>\n",
       "      <td>STATE SPUR</td>\n",
       "      <td>No Data</td>\n",
       "      <td>NaN</td>\n",
       "      <td>SAME DIRECTION - BOTH GOING STRAIGHT-REAR END</td>\n",
       "      <td>No Data</td>\n",
       "      <td>40</td>\n",
       "      <td>97 - NOT APPLICABLE</td>\n",
       "      <td>8</td>\n",
       "      <td>1 - DRY</td>\n",
       "      <td>No Data</td>\n",
       "      <td>96</td>\n",
       "      <td>1 - CLEAR</td>\n",
       "      <td>Not serious</td>\n",
       "    </tr>\n",
       "    <tr>\n",
       "      <th>242</th>\n",
       "      <td>Yes</td>\n",
       "      <td>NOT APPLICABLE</td>\n",
       "      <td>No</td>\n",
       "      <td>No</td>\n",
       "      <td>820</td>\n",
       "      <td>WEDNESDAY</td>\n",
       "      <td>STATE SPUR</td>\n",
       "      <td>No Data</td>\n",
       "      <td>NaN</td>\n",
       "      <td>SAME DIRECTION - BOTH GOING STRAIGHT-REAR END</td>\n",
       "      <td>No Data</td>\n",
       "      <td>40</td>\n",
       "      <td>97 - NOT APPLICABLE</td>\n",
       "      <td>8</td>\n",
       "      <td>1 - DRY</td>\n",
       "      <td>No Data</td>\n",
       "      <td>96</td>\n",
       "      <td>1 - CLEAR</td>\n",
       "      <td>Not serious</td>\n",
       "    </tr>\n",
       "    <tr>\n",
       "      <th>321</th>\n",
       "      <td>Yes</td>\n",
       "      <td>NOT APPLICABLE</td>\n",
       "      <td>No</td>\n",
       "      <td>No</td>\n",
       "      <td>820</td>\n",
       "      <td>FRIDAY</td>\n",
       "      <td>STATE SPUR</td>\n",
       "      <td>No Data</td>\n",
       "      <td>NaN</td>\n",
       "      <td>SAME DIRECTION - ONE STRAIGHT-ONE STOPPED</td>\n",
       "      <td>No Data</td>\n",
       "      <td>40</td>\n",
       "      <td>97 - NOT APPLICABLE</td>\n",
       "      <td>8</td>\n",
       "      <td>1 - DRY</td>\n",
       "      <td>No Data</td>\n",
       "      <td>96</td>\n",
       "      <td>1 - CLEAR</td>\n",
       "      <td>Not serious</td>\n",
       "    </tr>\n",
       "    <tr>\n",
       "      <th>476</th>\n",
       "      <td>Yes</td>\n",
       "      <td>NOT APPLICABLE</td>\n",
       "      <td>No</td>\n",
       "      <td>No</td>\n",
       "      <td>820</td>\n",
       "      <td>FRIDAY</td>\n",
       "      <td>STATE SPUR</td>\n",
       "      <td>No Data</td>\n",
       "      <td>NaN</td>\n",
       "      <td>SAME DIRECTION - ONE STRAIGHT-ONE STOPPED</td>\n",
       "      <td>No Data</td>\n",
       "      <td>40</td>\n",
       "      <td>97 - NOT APPLICABLE</td>\n",
       "      <td>8</td>\n",
       "      <td>1 - DRY</td>\n",
       "      <td>No Data</td>\n",
       "      <td>96</td>\n",
       "      <td>1 - CLEAR</td>\n",
       "      <td>Not serious</td>\n",
       "    </tr>\n",
       "    <tr>\n",
       "      <th>1551</th>\n",
       "      <td>Yes</td>\n",
       "      <td>NOT APPLICABLE</td>\n",
       "      <td>No</td>\n",
       "      <td>No</td>\n",
       "      <td>940</td>\n",
       "      <td>THURSDAY</td>\n",
       "      <td>STATE SPUR</td>\n",
       "      <td>No Data</td>\n",
       "      <td>NaN</td>\n",
       "      <td>SAME DIRECTION - ONE STRAIGHT-ONE STOPPED</td>\n",
       "      <td>No Data</td>\n",
       "      <td>40</td>\n",
       "      <td>97 - NOT APPLICABLE</td>\n",
       "      <td>8</td>\n",
       "      <td>1 - DRY</td>\n",
       "      <td>No Data</td>\n",
       "      <td>96</td>\n",
       "      <td>1 - CLEAR</td>\n",
       "      <td>Not serious</td>\n",
       "    </tr>\n",
       "    <tr>\n",
       "      <th>1982</th>\n",
       "      <td>Yes</td>\n",
       "      <td>NOT APPLICABLE</td>\n",
       "      <td>No</td>\n",
       "      <td>No</td>\n",
       "      <td>940</td>\n",
       "      <td>THURSDAY</td>\n",
       "      <td>STATE SPUR</td>\n",
       "      <td>No Data</td>\n",
       "      <td>NaN</td>\n",
       "      <td>SAME DIRECTION - ONE STRAIGHT-ONE STOPPED</td>\n",
       "      <td>No Data</td>\n",
       "      <td>40</td>\n",
       "      <td>97 - NOT APPLICABLE</td>\n",
       "      <td>8</td>\n",
       "      <td>1 - DRY</td>\n",
       "      <td>No Data</td>\n",
       "      <td>96</td>\n",
       "      <td>1 - CLEAR</td>\n",
       "      <td>Not serious</td>\n",
       "    </tr>\n",
       "    <tr>\n",
       "      <th>306</th>\n",
       "      <td>Yes</td>\n",
       "      <td>NOT APPLICABLE</td>\n",
       "      <td>No</td>\n",
       "      <td>No</td>\n",
       "      <td>1115</td>\n",
       "      <td>SATURDAY</td>\n",
       "      <td>STATE SPUR</td>\n",
       "      <td>No Data</td>\n",
       "      <td>NaN</td>\n",
       "      <td>SAME DIRECTION - BOTH GOING STRAIGHT-SIDESWIPE</td>\n",
       "      <td>No Data</td>\n",
       "      <td>40</td>\n",
       "      <td>97 - NOT APPLICABLE</td>\n",
       "      <td>8</td>\n",
       "      <td>1 - DRY</td>\n",
       "      <td>No Data</td>\n",
       "      <td>96</td>\n",
       "      <td>1 - CLEAR</td>\n",
       "      <td>Not serious</td>\n",
       "    </tr>\n",
       "    <tr>\n",
       "      <th>1700</th>\n",
       "      <td>Yes</td>\n",
       "      <td>NOT APPLICABLE</td>\n",
       "      <td>No</td>\n",
       "      <td>No</td>\n",
       "      <td>1115</td>\n",
       "      <td>SATURDAY</td>\n",
       "      <td>STATE SPUR</td>\n",
       "      <td>No Data</td>\n",
       "      <td>NaN</td>\n",
       "      <td>SAME DIRECTION - BOTH GOING STRAIGHT-SIDESWIPE</td>\n",
       "      <td>No Data</td>\n",
       "      <td>40</td>\n",
       "      <td>97 - NOT APPLICABLE</td>\n",
       "      <td>8</td>\n",
       "      <td>1 - DRY</td>\n",
       "      <td>No Data</td>\n",
       "      <td>96</td>\n",
       "      <td>1 - CLEAR</td>\n",
       "      <td>Not serious</td>\n",
       "    </tr>\n",
       "    <tr>\n",
       "      <th>328</th>\n",
       "      <td>Yes</td>\n",
       "      <td>NOT APPLICABLE</td>\n",
       "      <td>No</td>\n",
       "      <td>No</td>\n",
       "      <td>1300</td>\n",
       "      <td>SUNDAY</td>\n",
       "      <td>STATE SPUR</td>\n",
       "      <td>No Data</td>\n",
       "      <td>NaN</td>\n",
       "      <td>SAME DIRECTION - BOTH GOING STRAIGHT-REAR END</td>\n",
       "      <td>No Data</td>\n",
       "      <td>40</td>\n",
       "      <td>97 - NOT APPLICABLE</td>\n",
       "      <td>8</td>\n",
       "      <td>1 - DRY</td>\n",
       "      <td>No Data</td>\n",
       "      <td>96</td>\n",
       "      <td>1 - CLEAR</td>\n",
       "      <td>Not serious</td>\n",
       "    </tr>\n",
       "    <tr>\n",
       "      <th>1829</th>\n",
       "      <td>Yes</td>\n",
       "      <td>NOT APPLICABLE</td>\n",
       "      <td>No</td>\n",
       "      <td>No</td>\n",
       "      <td>1300</td>\n",
       "      <td>SUNDAY</td>\n",
       "      <td>STATE SPUR</td>\n",
       "      <td>No Data</td>\n",
       "      <td>NaN</td>\n",
       "      <td>SAME DIRECTION - BOTH GOING STRAIGHT-REAR END</td>\n",
       "      <td>No Data</td>\n",
       "      <td>40</td>\n",
       "      <td>97 - NOT APPLICABLE</td>\n",
       "      <td>8</td>\n",
       "      <td>1 - DRY</td>\n",
       "      <td>No Data</td>\n",
       "      <td>96</td>\n",
       "      <td>1 - CLEAR</td>\n",
       "      <td>Not serious</td>\n",
       "    </tr>\n",
       "    <tr>\n",
       "      <th>2301</th>\n",
       "      <td>Yes</td>\n",
       "      <td>NOT APPLICABLE</td>\n",
       "      <td>No</td>\n",
       "      <td>No</td>\n",
       "      <td>1349</td>\n",
       "      <td>TUESDAY</td>\n",
       "      <td>STATE SPUR</td>\n",
       "      <td>No Data</td>\n",
       "      <td>NaN</td>\n",
       "      <td>SAME DIRECTION - BOTH GOING STRAIGHT-REAR END</td>\n",
       "      <td>No Data</td>\n",
       "      <td>40</td>\n",
       "      <td>97 - NOT APPLICABLE</td>\n",
       "      <td>8</td>\n",
       "      <td>1 - DRY</td>\n",
       "      <td>No Data</td>\n",
       "      <td>96</td>\n",
       "      <td>2 - CLOUDY</td>\n",
       "      <td>Not serious</td>\n",
       "    </tr>\n",
       "    <tr>\n",
       "      <th>147</th>\n",
       "      <td>Yes</td>\n",
       "      <td>NOT APPLICABLE</td>\n",
       "      <td>No</td>\n",
       "      <td>No</td>\n",
       "      <td>1349</td>\n",
       "      <td>TUESDAY</td>\n",
       "      <td>STATE SPUR</td>\n",
       "      <td>No Data</td>\n",
       "      <td>NaN</td>\n",
       "      <td>SAME DIRECTION - BOTH GOING STRAIGHT-REAR END</td>\n",
       "      <td>No Data</td>\n",
       "      <td>40</td>\n",
       "      <td>97 - NOT APPLICABLE</td>\n",
       "      <td>8</td>\n",
       "      <td>1 - DRY</td>\n",
       "      <td>No Data</td>\n",
       "      <td>96</td>\n",
       "      <td>2 - CLOUDY</td>\n",
       "      <td>Not serious</td>\n",
       "    </tr>\n",
       "    <tr>\n",
       "      <th>1876</th>\n",
       "      <td>Yes</td>\n",
       "      <td>NOT APPLICABLE</td>\n",
       "      <td>No</td>\n",
       "      <td>No</td>\n",
       "      <td>1430</td>\n",
       "      <td>SATURDAY</td>\n",
       "      <td>STATE SPUR</td>\n",
       "      <td>No Data</td>\n",
       "      <td>NaN</td>\n",
       "      <td>SAME DIRECTION - BOTH GOING STRAIGHT-SIDESWIPE</td>\n",
       "      <td>No Data</td>\n",
       "      <td>40</td>\n",
       "      <td>97 - NOT APPLICABLE</td>\n",
       "      <td>6</td>\n",
       "      <td>1 - DRY</td>\n",
       "      <td>No Data</td>\n",
       "      <td>72</td>\n",
       "      <td>1 - CLEAR</td>\n",
       "      <td>Not serious</td>\n",
       "    </tr>\n",
       "    <tr>\n",
       "      <th>47</th>\n",
       "      <td>Yes</td>\n",
       "      <td>NOT APPLICABLE</td>\n",
       "      <td>No</td>\n",
       "      <td>No</td>\n",
       "      <td>1430</td>\n",
       "      <td>SATURDAY</td>\n",
       "      <td>STATE SPUR</td>\n",
       "      <td>No Data</td>\n",
       "      <td>NaN</td>\n",
       "      <td>SAME DIRECTION - BOTH GOING STRAIGHT-SIDESWIPE</td>\n",
       "      <td>No Data</td>\n",
       "      <td>40</td>\n",
       "      <td>97 - NOT APPLICABLE</td>\n",
       "      <td>6</td>\n",
       "      <td>1 - DRY</td>\n",
       "      <td>No Data</td>\n",
       "      <td>72</td>\n",
       "      <td>1 - CLEAR</td>\n",
       "      <td>Not serious</td>\n",
       "    </tr>\n",
       "    <tr>\n",
       "      <th>657</th>\n",
       "      <td>Yes</td>\n",
       "      <td>NOT APPLICABLE</td>\n",
       "      <td>No</td>\n",
       "      <td>No</td>\n",
       "      <td>1455</td>\n",
       "      <td>FRIDAY</td>\n",
       "      <td>STATE SPUR</td>\n",
       "      <td>No Data</td>\n",
       "      <td>NaN</td>\n",
       "      <td>SAME DIRECTION - BOTH GOING STRAIGHT-REAR END</td>\n",
       "      <td>No Data</td>\n",
       "      <td>No Data</td>\n",
       "      <td>97 - NOT APPLICABLE</td>\n",
       "      <td>No Data</td>\n",
       "      <td>1 - DRY</td>\n",
       "      <td>No Data</td>\n",
       "      <td>No Data</td>\n",
       "      <td>1 - CLEAR</td>\n",
       "      <td>Not serious</td>\n",
       "    </tr>\n",
       "    <tr>\n",
       "      <th>1197</th>\n",
       "      <td>Yes</td>\n",
       "      <td>NOT APPLICABLE</td>\n",
       "      <td>No</td>\n",
       "      <td>No</td>\n",
       "      <td>1455</td>\n",
       "      <td>FRIDAY</td>\n",
       "      <td>STATE SPUR</td>\n",
       "      <td>No Data</td>\n",
       "      <td>NaN</td>\n",
       "      <td>SAME DIRECTION - BOTH GOING STRAIGHT-REAR END</td>\n",
       "      <td>No Data</td>\n",
       "      <td>No Data</td>\n",
       "      <td>97 - NOT APPLICABLE</td>\n",
       "      <td>No Data</td>\n",
       "      <td>1 - DRY</td>\n",
       "      <td>No Data</td>\n",
       "      <td>No Data</td>\n",
       "      <td>1 - CLEAR</td>\n",
       "      <td>Not serious</td>\n",
       "    </tr>\n",
       "    <tr>\n",
       "      <th>1082</th>\n",
       "      <td>Yes</td>\n",
       "      <td>NOT APPLICABLE</td>\n",
       "      <td>No</td>\n",
       "      <td>No</td>\n",
       "      <td>1505</td>\n",
       "      <td>THURSDAY</td>\n",
       "      <td>STATE SPUR</td>\n",
       "      <td>No Data</td>\n",
       "      <td>NaN</td>\n",
       "      <td>SAME DIRECTION - BOTH GOING STRAIGHT-REAR END</td>\n",
       "      <td>No Data</td>\n",
       "      <td>40</td>\n",
       "      <td>97 - NOT APPLICABLE</td>\n",
       "      <td>8</td>\n",
       "      <td>1 - DRY</td>\n",
       "      <td>No Data</td>\n",
       "      <td>96</td>\n",
       "      <td>1 - CLEAR</td>\n",
       "      <td>Not serious</td>\n",
       "    </tr>\n",
       "    <tr>\n",
       "      <th>1333</th>\n",
       "      <td>Yes</td>\n",
       "      <td>NOT APPLICABLE</td>\n",
       "      <td>No</td>\n",
       "      <td>No</td>\n",
       "      <td>1505</td>\n",
       "      <td>THURSDAY</td>\n",
       "      <td>STATE SPUR</td>\n",
       "      <td>No Data</td>\n",
       "      <td>NaN</td>\n",
       "      <td>SAME DIRECTION - BOTH GOING STRAIGHT-REAR END</td>\n",
       "      <td>No Data</td>\n",
       "      <td>40</td>\n",
       "      <td>97 - NOT APPLICABLE</td>\n",
       "      <td>8</td>\n",
       "      <td>1 - DRY</td>\n",
       "      <td>No Data</td>\n",
       "      <td>96</td>\n",
       "      <td>1 - CLEAR</td>\n",
       "      <td>Not serious</td>\n",
       "    </tr>\n",
       "    <tr>\n",
       "      <th>621</th>\n",
       "      <td>Yes</td>\n",
       "      <td>NOT APPLICABLE</td>\n",
       "      <td>No</td>\n",
       "      <td>No</td>\n",
       "      <td>1515</td>\n",
       "      <td>SATURDAY</td>\n",
       "      <td>STATE SPUR</td>\n",
       "      <td>No Data</td>\n",
       "      <td>NaN</td>\n",
       "      <td>SAME DIRECTION - BOTH GOING STRAIGHT-REAR END</td>\n",
       "      <td>No Data</td>\n",
       "      <td>40</td>\n",
       "      <td>97 - NOT APPLICABLE</td>\n",
       "      <td>8</td>\n",
       "      <td>1 - DRY</td>\n",
       "      <td>No Data</td>\n",
       "      <td>96</td>\n",
       "      <td>1 - CLEAR</td>\n",
       "      <td>Not serious</td>\n",
       "    </tr>\n",
       "    <tr>\n",
       "      <th>1518</th>\n",
       "      <td>Yes</td>\n",
       "      <td>NOT APPLICABLE</td>\n",
       "      <td>No</td>\n",
       "      <td>No</td>\n",
       "      <td>1515</td>\n",
       "      <td>SATURDAY</td>\n",
       "      <td>STATE SPUR</td>\n",
       "      <td>No Data</td>\n",
       "      <td>NaN</td>\n",
       "      <td>SAME DIRECTION - BOTH GOING STRAIGHT-REAR END</td>\n",
       "      <td>No Data</td>\n",
       "      <td>40</td>\n",
       "      <td>97 - NOT APPLICABLE</td>\n",
       "      <td>8</td>\n",
       "      <td>1 - DRY</td>\n",
       "      <td>No Data</td>\n",
       "      <td>96</td>\n",
       "      <td>1 - CLEAR</td>\n",
       "      <td>Not serious</td>\n",
       "    </tr>\n",
       "    <tr>\n",
       "      <th>1304</th>\n",
       "      <td>Yes</td>\n",
       "      <td>NOT APPLICABLE</td>\n",
       "      <td>No</td>\n",
       "      <td>No</td>\n",
       "      <td>1520</td>\n",
       "      <td>THURSDAY</td>\n",
       "      <td>STATE SPUR</td>\n",
       "      <td>No Data</td>\n",
       "      <td>NaN</td>\n",
       "      <td>SAME DIRECTION - BOTH GOING STRAIGHT-REAR END</td>\n",
       "      <td>No Data</td>\n",
       "      <td>40</td>\n",
       "      <td>97 - NOT APPLICABLE</td>\n",
       "      <td>8</td>\n",
       "      <td>1 - DRY</td>\n",
       "      <td>No Data</td>\n",
       "      <td>96</td>\n",
       "      <td>1 - CLEAR</td>\n",
       "      <td>Not serious</td>\n",
       "    </tr>\n",
       "    <tr>\n",
       "      <th>1836</th>\n",
       "      <td>Yes</td>\n",
       "      <td>NOT APPLICABLE</td>\n",
       "      <td>No</td>\n",
       "      <td>No</td>\n",
       "      <td>1520</td>\n",
       "      <td>THURSDAY</td>\n",
       "      <td>STATE SPUR</td>\n",
       "      <td>No Data</td>\n",
       "      <td>NaN</td>\n",
       "      <td>SAME DIRECTION - BOTH GOING STRAIGHT-REAR END</td>\n",
       "      <td>No Data</td>\n",
       "      <td>40</td>\n",
       "      <td>97 - NOT APPLICABLE</td>\n",
       "      <td>8</td>\n",
       "      <td>1 - DRY</td>\n",
       "      <td>No Data</td>\n",
       "      <td>96</td>\n",
       "      <td>1 - CLEAR</td>\n",
       "      <td>Not serious</td>\n",
       "    </tr>\n",
       "    <tr>\n",
       "      <th>937</th>\n",
       "      <td>Yes</td>\n",
       "      <td>NOT APPLICABLE</td>\n",
       "      <td>No</td>\n",
       "      <td>No</td>\n",
       "      <td>1520</td>\n",
       "      <td>THURSDAY</td>\n",
       "      <td>STATE SPUR</td>\n",
       "      <td>No Data</td>\n",
       "      <td>NaN</td>\n",
       "      <td>SAME DIRECTION - BOTH GOING STRAIGHT-REAR END</td>\n",
       "      <td>No Data</td>\n",
       "      <td>40</td>\n",
       "      <td>97 - NOT APPLICABLE</td>\n",
       "      <td>8</td>\n",
       "      <td>1 - DRY</td>\n",
       "      <td>No Data</td>\n",
       "      <td>96</td>\n",
       "      <td>1 - CLEAR</td>\n",
       "      <td>Not serious</td>\n",
       "    </tr>\n",
       "    <tr>\n",
       "      <th>445</th>\n",
       "      <td>Yes</td>\n",
       "      <td>NOT APPLICABLE</td>\n",
       "      <td>No</td>\n",
       "      <td>No</td>\n",
       "      <td>1530</td>\n",
       "      <td>TUESDAY</td>\n",
       "      <td>STATE SPUR</td>\n",
       "      <td>No Data</td>\n",
       "      <td>NaN</td>\n",
       "      <td>SAME DIRECTION - BOTH GOING STRAIGHT-REAR END</td>\n",
       "      <td>No Data</td>\n",
       "      <td>40</td>\n",
       "      <td>97 - NOT APPLICABLE</td>\n",
       "      <td>8</td>\n",
       "      <td>1 - DRY</td>\n",
       "      <td>No Data</td>\n",
       "      <td>96</td>\n",
       "      <td>1 - CLEAR</td>\n",
       "      <td>Not serious</td>\n",
       "    </tr>\n",
       "    <tr>\n",
       "      <th>200</th>\n",
       "      <td>Yes</td>\n",
       "      <td>NOT APPLICABLE</td>\n",
       "      <td>No</td>\n",
       "      <td>No</td>\n",
       "      <td>1530</td>\n",
       "      <td>TUESDAY</td>\n",
       "      <td>STATE SPUR</td>\n",
       "      <td>No Data</td>\n",
       "      <td>NaN</td>\n",
       "      <td>SAME DIRECTION - BOTH GOING STRAIGHT-REAR END</td>\n",
       "      <td>No Data</td>\n",
       "      <td>40</td>\n",
       "      <td>97 - NOT APPLICABLE</td>\n",
       "      <td>8</td>\n",
       "      <td>1 - DRY</td>\n",
       "      <td>No Data</td>\n",
       "      <td>96</td>\n",
       "      <td>1 - CLEAR</td>\n",
       "      <td>Not serious</td>\n",
       "    </tr>\n",
       "    <tr>\n",
       "      <th>1464</th>\n",
       "      <td>Yes</td>\n",
       "      <td>NOT APPLICABLE</td>\n",
       "      <td>No</td>\n",
       "      <td>No</td>\n",
       "      <td>1545</td>\n",
       "      <td>WEDNESDAY</td>\n",
       "      <td>STATE SPUR</td>\n",
       "      <td>No Data</td>\n",
       "      <td>NaN</td>\n",
       "      <td>SAME DIRECTION - BOTH GOING STRAIGHT-SIDESWIPE</td>\n",
       "      <td>No Data</td>\n",
       "      <td>40</td>\n",
       "      <td>97 - NOT APPLICABLE</td>\n",
       "      <td>8</td>\n",
       "      <td>1 - DRY</td>\n",
       "      <td>No Data</td>\n",
       "      <td>96</td>\n",
       "      <td>1 - CLEAR</td>\n",
       "      <td>Not serious</td>\n",
       "    </tr>\n",
       "    <tr>\n",
       "      <th>1594</th>\n",
       "      <td>Yes</td>\n",
       "      <td>NOT APPLICABLE</td>\n",
       "      <td>No</td>\n",
       "      <td>No</td>\n",
       "      <td>1545</td>\n",
       "      <td>WEDNESDAY</td>\n",
       "      <td>STATE SPUR</td>\n",
       "      <td>No Data</td>\n",
       "      <td>NaN</td>\n",
       "      <td>SAME DIRECTION - BOTH GOING STRAIGHT-SIDESWIPE</td>\n",
       "      <td>No Data</td>\n",
       "      <td>40</td>\n",
       "      <td>97 - NOT APPLICABLE</td>\n",
       "      <td>8</td>\n",
       "      <td>1 - DRY</td>\n",
       "      <td>No Data</td>\n",
       "      <td>96</td>\n",
       "      <td>1 - CLEAR</td>\n",
       "      <td>Not serious</td>\n",
       "    </tr>\n",
       "    <tr>\n",
       "      <th>1854</th>\n",
       "      <td>Yes</td>\n",
       "      <td>NOT APPLICABLE</td>\n",
       "      <td>No</td>\n",
       "      <td>No</td>\n",
       "      <td>1545</td>\n",
       "      <td>WEDNESDAY</td>\n",
       "      <td>STATE SPUR</td>\n",
       "      <td>No Data</td>\n",
       "      <td>NaN</td>\n",
       "      <td>SAME DIRECTION - BOTH GOING STRAIGHT-SIDESWIPE</td>\n",
       "      <td>No Data</td>\n",
       "      <td>40</td>\n",
       "      <td>97 - NOT APPLICABLE</td>\n",
       "      <td>8</td>\n",
       "      <td>1 - DRY</td>\n",
       "      <td>No Data</td>\n",
       "      <td>96</td>\n",
       "      <td>1 - CLEAR</td>\n",
       "      <td>Not serious</td>\n",
       "    </tr>\n",
       "    <tr>\n",
       "      <th>830</th>\n",
       "      <td>Yes</td>\n",
       "      <td>NOT APPLICABLE</td>\n",
       "      <td>No</td>\n",
       "      <td>No</td>\n",
       "      <td>1600</td>\n",
       "      <td>TUESDAY</td>\n",
       "      <td>STATE SPUR</td>\n",
       "      <td>No Data</td>\n",
       "      <td>NaN</td>\n",
       "      <td>SAME DIRECTION - BOTH GOING STRAIGHT-SIDESWIPE</td>\n",
       "      <td>No Data</td>\n",
       "      <td>40</td>\n",
       "      <td>97 - NOT APPLICABLE</td>\n",
       "      <td>6</td>\n",
       "      <td>1 - DRY</td>\n",
       "      <td>No Data</td>\n",
       "      <td>72</td>\n",
       "      <td>1 - CLEAR</td>\n",
       "      <td>Not serious</td>\n",
       "    </tr>\n",
       "    <tr>\n",
       "      <th>471</th>\n",
       "      <td>Yes</td>\n",
       "      <td>NOT APPLICABLE</td>\n",
       "      <td>No</td>\n",
       "      <td>No</td>\n",
       "      <td>1600</td>\n",
       "      <td>TUESDAY</td>\n",
       "      <td>STATE SPUR</td>\n",
       "      <td>No Data</td>\n",
       "      <td>NaN</td>\n",
       "      <td>SAME DIRECTION - BOTH GOING STRAIGHT-SIDESWIPE</td>\n",
       "      <td>No Data</td>\n",
       "      <td>40</td>\n",
       "      <td>97 - NOT APPLICABLE</td>\n",
       "      <td>6</td>\n",
       "      <td>1 - DRY</td>\n",
       "      <td>No Data</td>\n",
       "      <td>72</td>\n",
       "      <td>1 - CLEAR</td>\n",
       "      <td>Not serious</td>\n",
       "    </tr>\n",
       "    <tr>\n",
       "      <th>1728</th>\n",
       "      <td>Yes</td>\n",
       "      <td>NOT APPLICABLE</td>\n",
       "      <td>No</td>\n",
       "      <td>No</td>\n",
       "      <td>1630</td>\n",
       "      <td>TUESDAY</td>\n",
       "      <td>STATE SPUR</td>\n",
       "      <td>No Data</td>\n",
       "      <td>NaN</td>\n",
       "      <td>SAME DIRECTION - BOTH GOING STRAIGHT-SIDESWIPE</td>\n",
       "      <td>No Data</td>\n",
       "      <td>40</td>\n",
       "      <td>97 - NOT APPLICABLE</td>\n",
       "      <td>8</td>\n",
       "      <td>1 - DRY</td>\n",
       "      <td>No Data</td>\n",
       "      <td>96</td>\n",
       "      <td>2 - CLOUDY</td>\n",
       "      <td>Not serious</td>\n",
       "    </tr>\n",
       "    <tr>\n",
       "      <th>368</th>\n",
       "      <td>Yes</td>\n",
       "      <td>NOT APPLICABLE</td>\n",
       "      <td>No</td>\n",
       "      <td>No</td>\n",
       "      <td>1630</td>\n",
       "      <td>TUESDAY</td>\n",
       "      <td>STATE SPUR</td>\n",
       "      <td>No Data</td>\n",
       "      <td>NaN</td>\n",
       "      <td>SAME DIRECTION - BOTH GOING STRAIGHT-SIDESWIPE</td>\n",
       "      <td>No Data</td>\n",
       "      <td>40</td>\n",
       "      <td>97 - NOT APPLICABLE</td>\n",
       "      <td>8</td>\n",
       "      <td>1 - DRY</td>\n",
       "      <td>No Data</td>\n",
       "      <td>96</td>\n",
       "      <td>2 - CLOUDY</td>\n",
       "      <td>Not serious</td>\n",
       "    </tr>\n",
       "    <tr>\n",
       "      <th>635</th>\n",
       "      <td>Yes</td>\n",
       "      <td>NOT APPLICABLE</td>\n",
       "      <td>No</td>\n",
       "      <td>No</td>\n",
       "      <td>1640</td>\n",
       "      <td>TUESDAY</td>\n",
       "      <td>STATE SPUR</td>\n",
       "      <td>No Data</td>\n",
       "      <td>NaN</td>\n",
       "      <td>SAME DIRECTION - BOTH GOING STRAIGHT-REAR END</td>\n",
       "      <td>No Data</td>\n",
       "      <td>40</td>\n",
       "      <td>97 - NOT APPLICABLE</td>\n",
       "      <td>8</td>\n",
       "      <td>1 - DRY</td>\n",
       "      <td>No Data</td>\n",
       "      <td>96</td>\n",
       "      <td>1 - CLEAR</td>\n",
       "      <td>Not serious</td>\n",
       "    </tr>\n",
       "    <tr>\n",
       "      <th>1976</th>\n",
       "      <td>Yes</td>\n",
       "      <td>NOT APPLICABLE</td>\n",
       "      <td>No</td>\n",
       "      <td>No</td>\n",
       "      <td>1640</td>\n",
       "      <td>TUESDAY</td>\n",
       "      <td>STATE SPUR</td>\n",
       "      <td>No Data</td>\n",
       "      <td>NaN</td>\n",
       "      <td>SAME DIRECTION - BOTH GOING STRAIGHT-REAR END</td>\n",
       "      <td>No Data</td>\n",
       "      <td>40</td>\n",
       "      <td>97 - NOT APPLICABLE</td>\n",
       "      <td>8</td>\n",
       "      <td>1 - DRY</td>\n",
       "      <td>No Data</td>\n",
       "      <td>96</td>\n",
       "      <td>1 - CLEAR</td>\n",
       "      <td>Not serious</td>\n",
       "    </tr>\n",
       "    <tr>\n",
       "      <th>2068</th>\n",
       "      <td>Yes</td>\n",
       "      <td>NOT APPLICABLE</td>\n",
       "      <td>No</td>\n",
       "      <td>No</td>\n",
       "      <td>1830</td>\n",
       "      <td>FRIDAY</td>\n",
       "      <td>STATE SPUR</td>\n",
       "      <td>No Data</td>\n",
       "      <td>NaN</td>\n",
       "      <td>SAME DIRECTION - BOTH GOING STRAIGHT-SIDESWIPE</td>\n",
       "      <td>No Data</td>\n",
       "      <td>40</td>\n",
       "      <td>97 - NOT APPLICABLE</td>\n",
       "      <td>8</td>\n",
       "      <td>1 - DRY</td>\n",
       "      <td>No Data</td>\n",
       "      <td>96</td>\n",
       "      <td>1 - CLEAR</td>\n",
       "      <td>Not serious</td>\n",
       "    </tr>\n",
       "    <tr>\n",
       "      <th>1904</th>\n",
       "      <td>Yes</td>\n",
       "      <td>NOT APPLICABLE</td>\n",
       "      <td>No</td>\n",
       "      <td>No</td>\n",
       "      <td>1830</td>\n",
       "      <td>FRIDAY</td>\n",
       "      <td>STATE SPUR</td>\n",
       "      <td>No Data</td>\n",
       "      <td>NaN</td>\n",
       "      <td>SAME DIRECTION - BOTH GOING STRAIGHT-REAR END</td>\n",
       "      <td>No Data</td>\n",
       "      <td>40</td>\n",
       "      <td>97 - NOT APPLICABLE</td>\n",
       "      <td>8</td>\n",
       "      <td>1 - DRY</td>\n",
       "      <td>No Data</td>\n",
       "      <td>96</td>\n",
       "      <td>1 - CLEAR</td>\n",
       "      <td>Not serious</td>\n",
       "    </tr>\n",
       "    <tr>\n",
       "      <th>2283</th>\n",
       "      <td>Yes</td>\n",
       "      <td>NOT APPLICABLE</td>\n",
       "      <td>No</td>\n",
       "      <td>No</td>\n",
       "      <td>1830</td>\n",
       "      <td>FRIDAY</td>\n",
       "      <td>STATE SPUR</td>\n",
       "      <td>No Data</td>\n",
       "      <td>NaN</td>\n",
       "      <td>SAME DIRECTION - BOTH GOING STRAIGHT-SIDESWIPE</td>\n",
       "      <td>No Data</td>\n",
       "      <td>40</td>\n",
       "      <td>97 - NOT APPLICABLE</td>\n",
       "      <td>8</td>\n",
       "      <td>1 - DRY</td>\n",
       "      <td>No Data</td>\n",
       "      <td>96</td>\n",
       "      <td>1 - CLEAR</td>\n",
       "      <td>Not serious</td>\n",
       "    </tr>\n",
       "    <tr>\n",
       "      <th>638</th>\n",
       "      <td>Yes</td>\n",
       "      <td>NOT APPLICABLE</td>\n",
       "      <td>No</td>\n",
       "      <td>No</td>\n",
       "      <td>1830</td>\n",
       "      <td>FRIDAY</td>\n",
       "      <td>STATE SPUR</td>\n",
       "      <td>No Data</td>\n",
       "      <td>NaN</td>\n",
       "      <td>SAME DIRECTION - BOTH GOING STRAIGHT-SIDESWIPE</td>\n",
       "      <td>No Data</td>\n",
       "      <td>40</td>\n",
       "      <td>97 - NOT APPLICABLE</td>\n",
       "      <td>8</td>\n",
       "      <td>1 - DRY</td>\n",
       "      <td>No Data</td>\n",
       "      <td>96</td>\n",
       "      <td>1 - CLEAR</td>\n",
       "      <td>Not serious</td>\n",
       "    </tr>\n",
       "    <tr>\n",
       "      <th>538</th>\n",
       "      <td>Yes</td>\n",
       "      <td>NOT APPLICABLE</td>\n",
       "      <td>No</td>\n",
       "      <td>No</td>\n",
       "      <td>1830</td>\n",
       "      <td>FRIDAY</td>\n",
       "      <td>STATE SPUR</td>\n",
       "      <td>No Data</td>\n",
       "      <td>NaN</td>\n",
       "      <td>SAME DIRECTION - BOTH GOING STRAIGHT-REAR END</td>\n",
       "      <td>No Data</td>\n",
       "      <td>40</td>\n",
       "      <td>97 - NOT APPLICABLE</td>\n",
       "      <td>8</td>\n",
       "      <td>1 - DRY</td>\n",
       "      <td>No Data</td>\n",
       "      <td>96</td>\n",
       "      <td>1 - CLEAR</td>\n",
       "      <td>Not serious</td>\n",
       "    </tr>\n",
       "    <tr>\n",
       "      <th>1107</th>\n",
       "      <td>Yes</td>\n",
       "      <td>NOT APPLICABLE</td>\n",
       "      <td>No</td>\n",
       "      <td>No</td>\n",
       "      <td>1830</td>\n",
       "      <td>FRIDAY</td>\n",
       "      <td>STATE SPUR</td>\n",
       "      <td>No Data</td>\n",
       "      <td>NaN</td>\n",
       "      <td>SAME DIRECTION - BOTH GOING STRAIGHT-REAR END</td>\n",
       "      <td>No Data</td>\n",
       "      <td>40</td>\n",
       "      <td>97 - NOT APPLICABLE</td>\n",
       "      <td>8</td>\n",
       "      <td>1 - DRY</td>\n",
       "      <td>No Data</td>\n",
       "      <td>96</td>\n",
       "      <td>1 - CLEAR</td>\n",
       "      <td>Not serious</td>\n",
       "    </tr>\n",
       "    <tr>\n",
       "      <th>2157</th>\n",
       "      <td>Yes</td>\n",
       "      <td>NOT APPLICABLE</td>\n",
       "      <td>No</td>\n",
       "      <td>No</td>\n",
       "      <td>1905</td>\n",
       "      <td>TUESDAY</td>\n",
       "      <td>STATE SPUR</td>\n",
       "      <td>No Data</td>\n",
       "      <td>NaN</td>\n",
       "      <td>SAME DIRECTION - ONE STRAIGHT-ONE STOPPED</td>\n",
       "      <td>No Data</td>\n",
       "      <td>40</td>\n",
       "      <td>97 - NOT APPLICABLE</td>\n",
       "      <td>8</td>\n",
       "      <td>1 - DRY</td>\n",
       "      <td>No Data</td>\n",
       "      <td>96</td>\n",
       "      <td>1 - CLEAR</td>\n",
       "      <td>Not serious</td>\n",
       "    </tr>\n",
       "    <tr>\n",
       "      <th>367</th>\n",
       "      <td>Yes</td>\n",
       "      <td>NOT APPLICABLE</td>\n",
       "      <td>No</td>\n",
       "      <td>No</td>\n",
       "      <td>1905</td>\n",
       "      <td>TUESDAY</td>\n",
       "      <td>STATE SPUR</td>\n",
       "      <td>No Data</td>\n",
       "      <td>NaN</td>\n",
       "      <td>SAME DIRECTION - ONE STRAIGHT-ONE STOPPED</td>\n",
       "      <td>No Data</td>\n",
       "      <td>40</td>\n",
       "      <td>97 - NOT APPLICABLE</td>\n",
       "      <td>8</td>\n",
       "      <td>1 - DRY</td>\n",
       "      <td>No Data</td>\n",
       "      <td>96</td>\n",
       "      <td>1 - CLEAR</td>\n",
       "      <td>Not serious</td>\n",
       "    </tr>\n",
       "    <tr>\n",
       "      <th>1409</th>\n",
       "      <td>Yes</td>\n",
       "      <td>NOT APPLICABLE</td>\n",
       "      <td>No</td>\n",
       "      <td>No</td>\n",
       "      <td>2305</td>\n",
       "      <td>SATURDAY</td>\n",
       "      <td>STATE SPUR</td>\n",
       "      <td>No Data</td>\n",
       "      <td>NaN</td>\n",
       "      <td>SAME DIRECTION - BOTH GOING STRAIGHT-SIDESWIPE</td>\n",
       "      <td>No Data</td>\n",
       "      <td>40</td>\n",
       "      <td>97 - NOT APPLICABLE</td>\n",
       "      <td>8</td>\n",
       "      <td>1 - DRY</td>\n",
       "      <td>No Data</td>\n",
       "      <td>96</td>\n",
       "      <td>1 - CLEAR</td>\n",
       "      <td>Not serious</td>\n",
       "    </tr>\n",
       "    <tr>\n",
       "      <th>1053</th>\n",
       "      <td>Yes</td>\n",
       "      <td>NOT APPLICABLE</td>\n",
       "      <td>No</td>\n",
       "      <td>No</td>\n",
       "      <td>2305</td>\n",
       "      <td>SATURDAY</td>\n",
       "      <td>STATE SPUR</td>\n",
       "      <td>No Data</td>\n",
       "      <td>NaN</td>\n",
       "      <td>SAME DIRECTION - BOTH GOING STRAIGHT-SIDESWIPE</td>\n",
       "      <td>No Data</td>\n",
       "      <td>40</td>\n",
       "      <td>97 - NOT APPLICABLE</td>\n",
       "      <td>8</td>\n",
       "      <td>1 - DRY</td>\n",
       "      <td>No Data</td>\n",
       "      <td>96</td>\n",
       "      <td>1 - CLEAR</td>\n",
       "      <td>Not serious</td>\n",
       "    </tr>\n",
       "    <tr>\n",
       "      <th>1006</th>\n",
       "      <td>Yes</td>\n",
       "      <td>NOT APPLICABLE</td>\n",
       "      <td>No</td>\n",
       "      <td>No</td>\n",
       "      <td>2325</td>\n",
       "      <td>SATURDAY</td>\n",
       "      <td>STATE SPUR</td>\n",
       "      <td>No Data</td>\n",
       "      <td>NaN</td>\n",
       "      <td>SAME DIRECTION - BOTH GOING STRAIGHT-REAR END</td>\n",
       "      <td>No Data</td>\n",
       "      <td>40</td>\n",
       "      <td>97 - NOT APPLICABLE</td>\n",
       "      <td>8</td>\n",
       "      <td>1 - DRY</td>\n",
       "      <td>No Data</td>\n",
       "      <td>96</td>\n",
       "      <td>1 - CLEAR</td>\n",
       "      <td>Not serious</td>\n",
       "    </tr>\n",
       "    <tr>\n",
       "      <th>531</th>\n",
       "      <td>Yes</td>\n",
       "      <td>NOT APPLICABLE</td>\n",
       "      <td>No</td>\n",
       "      <td>No</td>\n",
       "      <td>2325</td>\n",
       "      <td>SATURDAY</td>\n",
       "      <td>STATE SPUR</td>\n",
       "      <td>No Data</td>\n",
       "      <td>NaN</td>\n",
       "      <td>SAME DIRECTION - BOTH GOING STRAIGHT-REAR END</td>\n",
       "      <td>No Data</td>\n",
       "      <td>40</td>\n",
       "      <td>97 - NOT APPLICABLE</td>\n",
       "      <td>8</td>\n",
       "      <td>1 - DRY</td>\n",
       "      <td>No Data</td>\n",
       "      <td>96</td>\n",
       "      <td>1 - CLEAR</td>\n",
       "      <td>Not serious</td>\n",
       "    </tr>\n",
       "  </tbody>\n",
       "</table>\n",
       "</div>"
      ],
      "text/plain": [
       "     $1000 Damage to Any One Person's Property   Bridge Detail  \\\n",
       "186                                        Yes  NOT APPLICABLE   \n",
       "453                                        Yes  NOT APPLICABLE   \n",
       "1145                                        No  NOT APPLICABLE   \n",
       "1808                                        No  NOT APPLICABLE   \n",
       "2293                                       Yes  NOT APPLICABLE   \n",
       "242                                        Yes  NOT APPLICABLE   \n",
       "321                                        Yes  NOT APPLICABLE   \n",
       "476                                        Yes  NOT APPLICABLE   \n",
       "1551                                       Yes  NOT APPLICABLE   \n",
       "1982                                       Yes  NOT APPLICABLE   \n",
       "306                                        Yes  NOT APPLICABLE   \n",
       "1700                                       Yes  NOT APPLICABLE   \n",
       "328                                        Yes  NOT APPLICABLE   \n",
       "1829                                       Yes  NOT APPLICABLE   \n",
       "2301                                       Yes  NOT APPLICABLE   \n",
       "147                                        Yes  NOT APPLICABLE   \n",
       "1876                                       Yes  NOT APPLICABLE   \n",
       "47                                         Yes  NOT APPLICABLE   \n",
       "657                                        Yes  NOT APPLICABLE   \n",
       "1197                                       Yes  NOT APPLICABLE   \n",
       "1082                                       Yes  NOT APPLICABLE   \n",
       "1333                                       Yes  NOT APPLICABLE   \n",
       "621                                        Yes  NOT APPLICABLE   \n",
       "1518                                       Yes  NOT APPLICABLE   \n",
       "1304                                       Yes  NOT APPLICABLE   \n",
       "1836                                       Yes  NOT APPLICABLE   \n",
       "937                                        Yes  NOT APPLICABLE   \n",
       "445                                        Yes  NOT APPLICABLE   \n",
       "200                                        Yes  NOT APPLICABLE   \n",
       "1464                                       Yes  NOT APPLICABLE   \n",
       "1594                                       Yes  NOT APPLICABLE   \n",
       "1854                                       Yes  NOT APPLICABLE   \n",
       "830                                        Yes  NOT APPLICABLE   \n",
       "471                                        Yes  NOT APPLICABLE   \n",
       "1728                                       Yes  NOT APPLICABLE   \n",
       "368                                        Yes  NOT APPLICABLE   \n",
       "635                                        Yes  NOT APPLICABLE   \n",
       "1976                                       Yes  NOT APPLICABLE   \n",
       "2068                                       Yes  NOT APPLICABLE   \n",
       "1904                                       Yes  NOT APPLICABLE   \n",
       "2283                                       Yes  NOT APPLICABLE   \n",
       "638                                        Yes  NOT APPLICABLE   \n",
       "538                                        Yes  NOT APPLICABLE   \n",
       "1107                                       Yes  NOT APPLICABLE   \n",
       "2157                                       Yes  NOT APPLICABLE   \n",
       "367                                        Yes  NOT APPLICABLE   \n",
       "1409                                       Yes  NOT APPLICABLE   \n",
       "1053                                       Yes  NOT APPLICABLE   \n",
       "1006                                       Yes  NOT APPLICABLE   \n",
       "531                                        Yes  NOT APPLICABLE   \n",
       "\n",
       "     Construction Zone Flag Construction Zone Workers Present Flag  \\\n",
       "186                      No                                     No   \n",
       "453                      No                                     No   \n",
       "1145                     No                                     No   \n",
       "1808                     No                                     No   \n",
       "2293                     No                                     No   \n",
       "242                      No                                     No   \n",
       "321                      No                                     No   \n",
       "476                      No                                     No   \n",
       "1551                     No                                     No   \n",
       "1982                     No                                     No   \n",
       "306                      No                                     No   \n",
       "1700                     No                                     No   \n",
       "328                      No                                     No   \n",
       "1829                     No                                     No   \n",
       "2301                     No                                     No   \n",
       "147                      No                                     No   \n",
       "1876                     No                                     No   \n",
       "47                       No                                     No   \n",
       "657                      No                                     No   \n",
       "1197                     No                                     No   \n",
       "1082                     No                                     No   \n",
       "1333                     No                                     No   \n",
       "621                      No                                     No   \n",
       "1518                     No                                     No   \n",
       "1304                     No                                     No   \n",
       "1836                     No                                     No   \n",
       "937                      No                                     No   \n",
       "445                      No                                     No   \n",
       "200                      No                                     No   \n",
       "1464                     No                                     No   \n",
       "1594                     No                                     No   \n",
       "1854                     No                                     No   \n",
       "830                      No                                     No   \n",
       "471                      No                                     No   \n",
       "1728                     No                                     No   \n",
       "368                      No                                     No   \n",
       "635                      No                                     No   \n",
       "1976                     No                                     No   \n",
       "2068                     No                                     No   \n",
       "1904                     No                                     No   \n",
       "2283                     No                                     No   \n",
       "638                      No                                     No   \n",
       "538                      No                                     No   \n",
       "1107                     No                                     No   \n",
       "2157                     No                                     No   \n",
       "367                      No                                     No   \n",
       "1409                     No                                     No   \n",
       "1053                     No                                     No   \n",
       "1006                     No                                     No   \n",
       "531                      No                                     No   \n",
       "\n",
       "      Crash Time Day of Week Highway System Intersecting Highway Number  \\\n",
       "186          157    THURSDAY     STATE SPUR                          35   \n",
       "453          157    THURSDAY     STATE SPUR                          35   \n",
       "1145         815     TUESDAY     STATE SPUR                     No Data   \n",
       "1808         815     TUESDAY     STATE SPUR                     No Data   \n",
       "2293         820   WEDNESDAY     STATE SPUR                     No Data   \n",
       "242          820   WEDNESDAY     STATE SPUR                     No Data   \n",
       "321          820      FRIDAY     STATE SPUR                     No Data   \n",
       "476          820      FRIDAY     STATE SPUR                     No Data   \n",
       "1551         940    THURSDAY     STATE SPUR                     No Data   \n",
       "1982         940    THURSDAY     STATE SPUR                     No Data   \n",
       "306         1115    SATURDAY     STATE SPUR                     No Data   \n",
       "1700        1115    SATURDAY     STATE SPUR                     No Data   \n",
       "328         1300      SUNDAY     STATE SPUR                     No Data   \n",
       "1829        1300      SUNDAY     STATE SPUR                     No Data   \n",
       "2301        1349     TUESDAY     STATE SPUR                     No Data   \n",
       "147         1349     TUESDAY     STATE SPUR                     No Data   \n",
       "1876        1430    SATURDAY     STATE SPUR                     No Data   \n",
       "47          1430    SATURDAY     STATE SPUR                     No Data   \n",
       "657         1455      FRIDAY     STATE SPUR                     No Data   \n",
       "1197        1455      FRIDAY     STATE SPUR                     No Data   \n",
       "1082        1505    THURSDAY     STATE SPUR                     No Data   \n",
       "1333        1505    THURSDAY     STATE SPUR                     No Data   \n",
       "621         1515    SATURDAY     STATE SPUR                     No Data   \n",
       "1518        1515    SATURDAY     STATE SPUR                     No Data   \n",
       "1304        1520    THURSDAY     STATE SPUR                     No Data   \n",
       "1836        1520    THURSDAY     STATE SPUR                     No Data   \n",
       "937         1520    THURSDAY     STATE SPUR                     No Data   \n",
       "445         1530     TUESDAY     STATE SPUR                     No Data   \n",
       "200         1530     TUESDAY     STATE SPUR                     No Data   \n",
       "1464        1545   WEDNESDAY     STATE SPUR                     No Data   \n",
       "1594        1545   WEDNESDAY     STATE SPUR                     No Data   \n",
       "1854        1545   WEDNESDAY     STATE SPUR                     No Data   \n",
       "830         1600     TUESDAY     STATE SPUR                     No Data   \n",
       "471         1600     TUESDAY     STATE SPUR                     No Data   \n",
       "1728        1630     TUESDAY     STATE SPUR                     No Data   \n",
       "368         1630     TUESDAY     STATE SPUR                     No Data   \n",
       "635         1640     TUESDAY     STATE SPUR                     No Data   \n",
       "1976        1640     TUESDAY     STATE SPUR                     No Data   \n",
       "2068        1830      FRIDAY     STATE SPUR                     No Data   \n",
       "1904        1830      FRIDAY     STATE SPUR                     No Data   \n",
       "2283        1830      FRIDAY     STATE SPUR                     No Data   \n",
       "638         1830      FRIDAY     STATE SPUR                     No Data   \n",
       "538         1830      FRIDAY     STATE SPUR                     No Data   \n",
       "1107        1830      FRIDAY     STATE SPUR                     No Data   \n",
       "2157        1905     TUESDAY     STATE SPUR                     No Data   \n",
       "367         1905     TUESDAY     STATE SPUR                     No Data   \n",
       "1409        2305    SATURDAY     STATE SPUR                     No Data   \n",
       "1053        2305    SATURDAY     STATE SPUR                     No Data   \n",
       "1006        2325    SATURDAY     STATE SPUR                     No Data   \n",
       "531         2325    SATURDAY     STATE SPUR                     No Data   \n",
       "\n",
       "     Intersecting Street Name                             Manner of Collision  \\\n",
       "186                   IH0035E              ONE MOTOR VEHICLE - GOING STRAIGHT   \n",
       "453                   IH0035E              ONE MOTOR VEHICLE - GOING STRAIGHT   \n",
       "1145                      NaN       SAME DIRECTION - ONE STRAIGHT-ONE STOPPED   \n",
       "1808                      NaN       SAME DIRECTION - ONE STRAIGHT-ONE STOPPED   \n",
       "2293                      NaN   SAME DIRECTION - BOTH GOING STRAIGHT-REAR END   \n",
       "242                       NaN   SAME DIRECTION - BOTH GOING STRAIGHT-REAR END   \n",
       "321                       NaN       SAME DIRECTION - ONE STRAIGHT-ONE STOPPED   \n",
       "476                       NaN       SAME DIRECTION - ONE STRAIGHT-ONE STOPPED   \n",
       "1551                      NaN       SAME DIRECTION - ONE STRAIGHT-ONE STOPPED   \n",
       "1982                      NaN       SAME DIRECTION - ONE STRAIGHT-ONE STOPPED   \n",
       "306                       NaN  SAME DIRECTION - BOTH GOING STRAIGHT-SIDESWIPE   \n",
       "1700                      NaN  SAME DIRECTION - BOTH GOING STRAIGHT-SIDESWIPE   \n",
       "328                       NaN   SAME DIRECTION - BOTH GOING STRAIGHT-REAR END   \n",
       "1829                      NaN   SAME DIRECTION - BOTH GOING STRAIGHT-REAR END   \n",
       "2301                      NaN   SAME DIRECTION - BOTH GOING STRAIGHT-REAR END   \n",
       "147                       NaN   SAME DIRECTION - BOTH GOING STRAIGHT-REAR END   \n",
       "1876                      NaN  SAME DIRECTION - BOTH GOING STRAIGHT-SIDESWIPE   \n",
       "47                        NaN  SAME DIRECTION - BOTH GOING STRAIGHT-SIDESWIPE   \n",
       "657                       NaN   SAME DIRECTION - BOTH GOING STRAIGHT-REAR END   \n",
       "1197                      NaN   SAME DIRECTION - BOTH GOING STRAIGHT-REAR END   \n",
       "1082                      NaN   SAME DIRECTION - BOTH GOING STRAIGHT-REAR END   \n",
       "1333                      NaN   SAME DIRECTION - BOTH GOING STRAIGHT-REAR END   \n",
       "621                       NaN   SAME DIRECTION - BOTH GOING STRAIGHT-REAR END   \n",
       "1518                      NaN   SAME DIRECTION - BOTH GOING STRAIGHT-REAR END   \n",
       "1304                      NaN   SAME DIRECTION - BOTH GOING STRAIGHT-REAR END   \n",
       "1836                      NaN   SAME DIRECTION - BOTH GOING STRAIGHT-REAR END   \n",
       "937                       NaN   SAME DIRECTION - BOTH GOING STRAIGHT-REAR END   \n",
       "445                       NaN   SAME DIRECTION - BOTH GOING STRAIGHT-REAR END   \n",
       "200                       NaN   SAME DIRECTION - BOTH GOING STRAIGHT-REAR END   \n",
       "1464                      NaN  SAME DIRECTION - BOTH GOING STRAIGHT-SIDESWIPE   \n",
       "1594                      NaN  SAME DIRECTION - BOTH GOING STRAIGHT-SIDESWIPE   \n",
       "1854                      NaN  SAME DIRECTION - BOTH GOING STRAIGHT-SIDESWIPE   \n",
       "830                       NaN  SAME DIRECTION - BOTH GOING STRAIGHT-SIDESWIPE   \n",
       "471                       NaN  SAME DIRECTION - BOTH GOING STRAIGHT-SIDESWIPE   \n",
       "1728                      NaN  SAME DIRECTION - BOTH GOING STRAIGHT-SIDESWIPE   \n",
       "368                       NaN  SAME DIRECTION - BOTH GOING STRAIGHT-SIDESWIPE   \n",
       "635                       NaN   SAME DIRECTION - BOTH GOING STRAIGHT-REAR END   \n",
       "1976                      NaN   SAME DIRECTION - BOTH GOING STRAIGHT-REAR END   \n",
       "2068                      NaN  SAME DIRECTION - BOTH GOING STRAIGHT-SIDESWIPE   \n",
       "1904                      NaN   SAME DIRECTION - BOTH GOING STRAIGHT-REAR END   \n",
       "2283                      NaN  SAME DIRECTION - BOTH GOING STRAIGHT-SIDESWIPE   \n",
       "638                       NaN  SAME DIRECTION - BOTH GOING STRAIGHT-SIDESWIPE   \n",
       "538                       NaN   SAME DIRECTION - BOTH GOING STRAIGHT-REAR END   \n",
       "1107                      NaN   SAME DIRECTION - BOTH GOING STRAIGHT-REAR END   \n",
       "2157                      NaN       SAME DIRECTION - ONE STRAIGHT-ONE STOPPED   \n",
       "367                       NaN       SAME DIRECTION - ONE STRAIGHT-ONE STOPPED   \n",
       "1409                      NaN  SAME DIRECTION - BOTH GOING STRAIGHT-SIDESWIPE   \n",
       "1053                      NaN  SAME DIRECTION - BOTH GOING STRAIGHT-SIDESWIPE   \n",
       "1006                      NaN   SAME DIRECTION - BOTH GOING STRAIGHT-REAR END   \n",
       "531                       NaN   SAME DIRECTION - BOTH GOING STRAIGHT-REAR END   \n",
       "\n",
       "     Median Type Median Width Number of Entering Roads Number of Lanes  \\\n",
       "186      No Data           40      97 - NOT APPLICABLE               6   \n",
       "453      No Data           40      97 - NOT APPLICABLE               6   \n",
       "1145     No Data           40      97 - NOT APPLICABLE               8   \n",
       "1808     No Data           40      97 - NOT APPLICABLE               8   \n",
       "2293     No Data           40      97 - NOT APPLICABLE               8   \n",
       "242      No Data           40      97 - NOT APPLICABLE               8   \n",
       "321      No Data           40      97 - NOT APPLICABLE               8   \n",
       "476      No Data           40      97 - NOT APPLICABLE               8   \n",
       "1551     No Data           40      97 - NOT APPLICABLE               8   \n",
       "1982     No Data           40      97 - NOT APPLICABLE               8   \n",
       "306      No Data           40      97 - NOT APPLICABLE               8   \n",
       "1700     No Data           40      97 - NOT APPLICABLE               8   \n",
       "328      No Data           40      97 - NOT APPLICABLE               8   \n",
       "1829     No Data           40      97 - NOT APPLICABLE               8   \n",
       "2301     No Data           40      97 - NOT APPLICABLE               8   \n",
       "147      No Data           40      97 - NOT APPLICABLE               8   \n",
       "1876     No Data           40      97 - NOT APPLICABLE               6   \n",
       "47       No Data           40      97 - NOT APPLICABLE               6   \n",
       "657      No Data      No Data      97 - NOT APPLICABLE         No Data   \n",
       "1197     No Data      No Data      97 - NOT APPLICABLE         No Data   \n",
       "1082     No Data           40      97 - NOT APPLICABLE               8   \n",
       "1333     No Data           40      97 - NOT APPLICABLE               8   \n",
       "621      No Data           40      97 - NOT APPLICABLE               8   \n",
       "1518     No Data           40      97 - NOT APPLICABLE               8   \n",
       "1304     No Data           40      97 - NOT APPLICABLE               8   \n",
       "1836     No Data           40      97 - NOT APPLICABLE               8   \n",
       "937      No Data           40      97 - NOT APPLICABLE               8   \n",
       "445      No Data           40      97 - NOT APPLICABLE               8   \n",
       "200      No Data           40      97 - NOT APPLICABLE               8   \n",
       "1464     No Data           40      97 - NOT APPLICABLE               8   \n",
       "1594     No Data           40      97 - NOT APPLICABLE               8   \n",
       "1854     No Data           40      97 - NOT APPLICABLE               8   \n",
       "830      No Data           40      97 - NOT APPLICABLE               6   \n",
       "471      No Data           40      97 - NOT APPLICABLE               6   \n",
       "1728     No Data           40      97 - NOT APPLICABLE               8   \n",
       "368      No Data           40      97 - NOT APPLICABLE               8   \n",
       "635      No Data           40      97 - NOT APPLICABLE               8   \n",
       "1976     No Data           40      97 - NOT APPLICABLE               8   \n",
       "2068     No Data           40      97 - NOT APPLICABLE               8   \n",
       "1904     No Data           40      97 - NOT APPLICABLE               8   \n",
       "2283     No Data           40      97 - NOT APPLICABLE               8   \n",
       "638      No Data           40      97 - NOT APPLICABLE               8   \n",
       "538      No Data           40      97 - NOT APPLICABLE               8   \n",
       "1107     No Data           40      97 - NOT APPLICABLE               8   \n",
       "2157     No Data           40      97 - NOT APPLICABLE               8   \n",
       "367      No Data           40      97 - NOT APPLICABLE               8   \n",
       "1409     No Data           40      97 - NOT APPLICABLE               8   \n",
       "1053     No Data           40      97 - NOT APPLICABLE               8   \n",
       "1006     No Data           40      97 - NOT APPLICABLE               8   \n",
       "531      No Data           40      97 - NOT APPLICABLE               8   \n",
       "\n",
       "     Surface Condition Surface Type Surface Width Weather Condition  \\\n",
       "186            1 - DRY      No Data            72         1 - CLEAR   \n",
       "453            1 - DRY      No Data            72         1 - CLEAR   \n",
       "1145           1 - DRY      No Data            96         1 - CLEAR   \n",
       "1808           1 - DRY      No Data            96         1 - CLEAR   \n",
       "2293           1 - DRY      No Data            96         1 - CLEAR   \n",
       "242            1 - DRY      No Data            96         1 - CLEAR   \n",
       "321            1 - DRY      No Data            96         1 - CLEAR   \n",
       "476            1 - DRY      No Data            96         1 - CLEAR   \n",
       "1551           1 - DRY      No Data            96         1 - CLEAR   \n",
       "1982           1 - DRY      No Data            96         1 - CLEAR   \n",
       "306            1 - DRY      No Data            96         1 - CLEAR   \n",
       "1700           1 - DRY      No Data            96         1 - CLEAR   \n",
       "328            1 - DRY      No Data            96         1 - CLEAR   \n",
       "1829           1 - DRY      No Data            96         1 - CLEAR   \n",
       "2301           1 - DRY      No Data            96        2 - CLOUDY   \n",
       "147            1 - DRY      No Data            96        2 - CLOUDY   \n",
       "1876           1 - DRY      No Data            72         1 - CLEAR   \n",
       "47             1 - DRY      No Data            72         1 - CLEAR   \n",
       "657            1 - DRY      No Data       No Data         1 - CLEAR   \n",
       "1197           1 - DRY      No Data       No Data         1 - CLEAR   \n",
       "1082           1 - DRY      No Data            96         1 - CLEAR   \n",
       "1333           1 - DRY      No Data            96         1 - CLEAR   \n",
       "621            1 - DRY      No Data            96         1 - CLEAR   \n",
       "1518           1 - DRY      No Data            96         1 - CLEAR   \n",
       "1304           1 - DRY      No Data            96         1 - CLEAR   \n",
       "1836           1 - DRY      No Data            96         1 - CLEAR   \n",
       "937            1 - DRY      No Data            96         1 - CLEAR   \n",
       "445            1 - DRY      No Data            96         1 - CLEAR   \n",
       "200            1 - DRY      No Data            96         1 - CLEAR   \n",
       "1464           1 - DRY      No Data            96         1 - CLEAR   \n",
       "1594           1 - DRY      No Data            96         1 - CLEAR   \n",
       "1854           1 - DRY      No Data            96         1 - CLEAR   \n",
       "830            1 - DRY      No Data            72         1 - CLEAR   \n",
       "471            1 - DRY      No Data            72         1 - CLEAR   \n",
       "1728           1 - DRY      No Data            96        2 - CLOUDY   \n",
       "368            1 - DRY      No Data            96        2 - CLOUDY   \n",
       "635            1 - DRY      No Data            96         1 - CLEAR   \n",
       "1976           1 - DRY      No Data            96         1 - CLEAR   \n",
       "2068           1 - DRY      No Data            96         1 - CLEAR   \n",
       "1904           1 - DRY      No Data            96         1 - CLEAR   \n",
       "2283           1 - DRY      No Data            96         1 - CLEAR   \n",
       "638            1 - DRY      No Data            96         1 - CLEAR   \n",
       "538            1 - DRY      No Data            96         1 - CLEAR   \n",
       "1107           1 - DRY      No Data            96         1 - CLEAR   \n",
       "2157           1 - DRY      No Data            96         1 - CLEAR   \n",
       "367            1 - DRY      No Data            96         1 - CLEAR   \n",
       "1409           1 - DRY      No Data            96         1 - CLEAR   \n",
       "1053           1 - DRY      No Data            96         1 - CLEAR   \n",
       "1006           1 - DRY      No Data            96         1 - CLEAR   \n",
       "531            1 - DRY      No Data            96         1 - CLEAR   \n",
       "\n",
       "     Crash Severity  \n",
       "186     Not serious  \n",
       "453     Not serious  \n",
       "1145    Not serious  \n",
       "1808    Not serious  \n",
       "2293    Not serious  \n",
       "242     Not serious  \n",
       "321     Not serious  \n",
       "476     Not serious  \n",
       "1551    Not serious  \n",
       "1982    Not serious  \n",
       "306     Not serious  \n",
       "1700    Not serious  \n",
       "328     Not serious  \n",
       "1829    Not serious  \n",
       "2301    Not serious  \n",
       "147     Not serious  \n",
       "1876    Not serious  \n",
       "47      Not serious  \n",
       "657     Not serious  \n",
       "1197    Not serious  \n",
       "1082    Not serious  \n",
       "1333    Not serious  \n",
       "621     Not serious  \n",
       "1518    Not serious  \n",
       "1304    Not serious  \n",
       "1836    Not serious  \n",
       "937     Not serious  \n",
       "445     Not serious  \n",
       "200     Not serious  \n",
       "1464    Not serious  \n",
       "1594    Not serious  \n",
       "1854    Not serious  \n",
       "830     Not serious  \n",
       "471     Not serious  \n",
       "1728    Not serious  \n",
       "368     Not serious  \n",
       "635     Not serious  \n",
       "1976    Not serious  \n",
       "2068    Not serious  \n",
       "1904    Not serious  \n",
       "2283    Not serious  \n",
       "638     Not serious  \n",
       "538     Not serious  \n",
       "1107    Not serious  \n",
       "2157    Not serious  \n",
       "367     Not serious  \n",
       "1409    Not serious  \n",
       "1053    Not serious  \n",
       "1006    Not serious  \n",
       "531     Not serious  "
      ]
     },
     "execution_count": 72,
     "metadata": {},
     "output_type": "execute_result"
    }
   ],
   "source": [
    "# Determine if duplicated instances are good to be dropped\n",
    "df_train[df_train.duplicated(keep=False)].sort_values(by=[\"Crash Time\"])"
   ]
  },
  {
   "cell_type": "code",
   "execution_count": 73,
   "metadata": {},
   "outputs": [],
   "source": [
    "# Duplicates can be dropped in train dataset as they are redundant instances and might add unecessary weightage owing to repetitions\n",
    "df_train.drop_duplicates(inplace=True)"
   ]
  },
  {
   "cell_type": "code",
   "execution_count": 74,
   "metadata": {},
   "outputs": [
    {
     "data": {
      "text/plain": [
       "0"
      ]
     },
     "execution_count": 74,
     "metadata": {},
     "output_type": "execute_result"
    }
   ],
   "source": [
    "# Duplicates post processing\n",
    "sum(df_train.duplicated())"
   ]
  },
  {
   "cell_type": "markdown",
   "metadata": {},
   "source": [
    "### Target Variable: Crash Severity"
   ]
  },
  {
   "cell_type": "code",
   "execution_count": 75,
   "metadata": {},
   "outputs": [
    {
     "name": "stdout",
     "output_type": "stream",
     "text": [
      "Crash Severity proportions are \n",
      " Not serious    0.984314\n",
      "Serious        0.015686\n",
      "Name: Crash Severity, dtype: float64\n"
     ]
    },
    {
     "data": {
      "image/png": "[encoded data removed]",
      "text/plain": [
       "<Figure size 460.8x345.6 with 1 Axes>"
      ]
     },
     "metadata": {
      "needs_background": "light"
     },
     "output_type": "display_data"
    }
   ],
   "source": [
    "import seaborn as sns\n",
    "\n",
    "plt.rcParams[\"figure.figsize\"] = plt.rcParamsDefault[\"figure.figsize\"]\n",
    "sns.countplot(df_train['Crash Severity']);\n",
    "\n",
    "print ('Crash Severity proportions are \\n',df_train['Crash Severity'].value_counts() / df_train['Crash Severity'].count())"
   ]
  },
  {
   "cell_type": "markdown",
   "metadata": {},
   "source": [
    "Its not a well balanced dataset since its in 98:2 ratio so ``roc_auc`` can be considered as a better evaluation criterion in this context\n"
   ]
  },
  {
   "cell_type": "code",
   "execution_count": 76,
   "metadata": {},
   "outputs": [
    {
     "data": {
      "text/plain": [
       "Not serious    2259\n",
       "Serious          36\n",
       "Name: Crash Severity, dtype: int64"
      ]
     },
     "execution_count": 76,
     "metadata": {},
     "output_type": "execute_result"
    }
   ],
   "source": [
    "df_train['Crash Severity'].value_counts(dropna=False)"
   ]
  },
  {
   "cell_type": "markdown",
   "metadata": {},
   "source": [
    "### Feature: $1000 Damage to Any One Person's Property"
   ]
  },
  {
   "cell_type": "code",
   "execution_count": 77,
   "metadata": {},
   "outputs": [
    {
     "data": {
      "text/plain": [
       "<AxesSubplot:xlabel=\"$1000 Damage to Any One Person's Property\">"
      ]
     },
     "execution_count": 77,
     "metadata": {},
     "output_type": "execute_result"
    },
    {
     "data": {
      "image/png": "[encoded data removed]",
      "text/plain": [
       "<Figure size 460.8x345.6 with 1 Axes>"
      ]
     },
     "metadata": {
      "needs_background": "light"
     },
     "output_type": "display_data"
    }
   ],
   "source": [
    "pd.crosstab(df_train['$1000 Damage to Any One Person\\'s Property'], df_train['Crash Severity']).plot(kind = 'bar')"
   ]
  },
  {
   "cell_type": "code",
   "execution_count": 78,
   "metadata": {},
   "outputs": [
    {
     "data": {
      "text/html": [
       "<div>\n",
       "<style scoped>\n",
       "    .dataframe tbody tr th:only-of-type {\n",
       "        vertical-align: middle;\n",
       "    }\n",
       "\n",
       "    .dataframe tbody tr th {\n",
       "        vertical-align: top;\n",
       "    }\n",
       "\n",
       "    .dataframe thead th {\n",
       "        text-align: right;\n",
       "    }\n",
       "</style>\n",
       "<table border=\"1\" class=\"dataframe\">\n",
       "  <thead>\n",
       "    <tr style=\"text-align: right;\">\n",
       "      <th>Crash Severity</th>\n",
       "      <th>Not serious</th>\n",
       "      <th>Serious</th>\n",
       "    </tr>\n",
       "    <tr>\n",
       "      <th>$1000 Damage to Any One Person's Property</th>\n",
       "      <th></th>\n",
       "      <th></th>\n",
       "    </tr>\n",
       "  </thead>\n",
       "  <tbody>\n",
       "    <tr>\n",
       "      <th>No</th>\n",
       "      <td>154</td>\n",
       "      <td>0</td>\n",
       "    </tr>\n",
       "    <tr>\n",
       "      <th>Yes</th>\n",
       "      <td>2105</td>\n",
       "      <td>36</td>\n",
       "    </tr>\n",
       "  </tbody>\n",
       "</table>\n",
       "</div>"
      ],
      "text/plain": [
       "Crash Severity                             Not serious  Serious\n",
       "$1000 Damage to Any One Person's Property                      \n",
       "No                                                 154        0\n",
       "Yes                                               2105       36"
      ]
     },
     "execution_count": 78,
     "metadata": {},
     "output_type": "execute_result"
    }
   ],
   "source": [
    "pclass_xt = pd.crosstab(df_train['$1000 Damage to Any One Person\\'s Property'], df_train['Crash Severity'])\n",
    "pclass_xt"
   ]
  },
  {
   "cell_type": "markdown",
   "metadata": {},
   "source": [
    "Its obvious that severe crashes mostly have ``$1000 Damage to Any One Person's Property`` feature involved since there are are 0 cases which are reported as severe and yet didnt have  ``$1000 Damage to Any One Person's Property``"
   ]
  },
  {
   "cell_type": "code",
   "execution_count": 79,
   "metadata": {
    "scrolled": true
   },
   "outputs": [
    {
     "data": {
      "text/plain": [
       "Yes    2141\n",
       "No      154\n",
       "Name: $1000 Damage to Any One Person's Property, dtype: int64"
      ]
     },
     "execution_count": 79,
     "metadata": {},
     "output_type": "execute_result"
    }
   ],
   "source": [
    "df_train['$1000 Damage to Any One Person\\'s Property'].value_counts()"
   ]
  },
  {
   "cell_type": "code",
   "execution_count": 80,
   "metadata": {},
   "outputs": [],
   "source": [
    "# Binomial column: Mapping 1 to the most frequent class of Damage ie., Yes\n",
    "df_train['$1000 Damage to Any One Person\\'s Property'] = df_train['$1000 Damage to Any One Person\\'s Property'].map({'Yes':1, 'No':0}).astype(int)"
   ]
  },
  {
   "cell_type": "markdown",
   "metadata": {},
   "source": [
    "### Feature: Bridge Detail"
   ]
  },
  {
   "cell_type": "code",
   "execution_count": 81,
   "metadata": {
    "scrolled": true
   },
   "outputs": [
    {
     "data": {
      "text/plain": [
       "NOT APPLICABLE                            2269\n",
       "STRUCTURE NOT HIT                           11\n",
       "VEHICLE RETAINED ON BRIDGE OR OVERPASS       8\n",
       "CRASH INVOLVED UNDERPASS                     6\n",
       "VEHICLE WENT OVER RAIL                       1\n",
       "Name: Bridge Detail, dtype: int64"
      ]
     },
     "execution_count": 81,
     "metadata": {},
     "output_type": "execute_result"
    }
   ],
   "source": [
    "df_train['Bridge Detail'].value_counts(dropna = False)"
   ]
  },
  {
   "cell_type": "code",
   "execution_count": 82,
   "metadata": {},
   "outputs": [],
   "source": [
    "cols = pd.get_dummies(df_train['Bridge Detail'], prefix= 'Bridge Detail')\n",
    "df_train[cols.columns] = cols\n",
    "df_train.drop('Bridge Detail', axis = 1, inplace = True)"
   ]
  },
  {
   "cell_type": "markdown",
   "metadata": {},
   "source": [
    "### Feature: Construction Zone Flag"
   ]
  },
  {
   "cell_type": "code",
   "execution_count": 83,
   "metadata": {},
   "outputs": [
    {
     "data": {
      "text/plain": [
       "<AxesSubplot:xlabel='Construction Zone Flag'>"
      ]
     },
     "execution_count": 83,
     "metadata": {},
     "output_type": "execute_result"
    },
    {
     "data": {
      "image/png": "[encoded data removed]",
      "text/plain": [
       "<Figure size 460.8x345.6 with 1 Axes>"
      ]
     },
     "metadata": {
      "needs_background": "light"
     },
     "output_type": "display_data"
    }
   ],
   "source": [
    "pd.crosstab(df_train['Construction Zone Flag'], df_train['Crash Severity']).plot(kind = 'bar')"
   ]
  },
  {
   "cell_type": "code",
   "execution_count": 84,
   "metadata": {},
   "outputs": [
    {
     "data": {
      "text/html": [
       "<div>\n",
       "<style scoped>\n",
       "    .dataframe tbody tr th:only-of-type {\n",
       "        vertical-align: middle;\n",
       "    }\n",
       "\n",
       "    .dataframe tbody tr th {\n",
       "        vertical-align: top;\n",
       "    }\n",
       "\n",
       "    .dataframe thead th {\n",
       "        text-align: right;\n",
       "    }\n",
       "</style>\n",
       "<table border=\"1\" class=\"dataframe\">\n",
       "  <thead>\n",
       "    <tr style=\"text-align: right;\">\n",
       "      <th>Crash Severity</th>\n",
       "      <th>Not serious</th>\n",
       "      <th>Serious</th>\n",
       "    </tr>\n",
       "    <tr>\n",
       "      <th>Construction Zone Flag</th>\n",
       "      <th></th>\n",
       "      <th></th>\n",
       "    </tr>\n",
       "  </thead>\n",
       "  <tbody>\n",
       "    <tr>\n",
       "      <th>No</th>\n",
       "      <td>0.985213</td>\n",
       "      <td>0.014787</td>\n",
       "    </tr>\n",
       "    <tr>\n",
       "      <th>Yes</th>\n",
       "      <td>0.969466</td>\n",
       "      <td>0.030534</td>\n",
       "    </tr>\n",
       "  </tbody>\n",
       "</table>\n",
       "</div>"
      ],
      "text/plain": [
       "Crash Severity          Not serious   Serious\n",
       "Construction Zone Flag                       \n",
       "No                         0.985213  0.014787\n",
       "Yes                        0.969466  0.030534"
      ]
     },
     "execution_count": 84,
     "metadata": {},
     "output_type": "execute_result"
    }
   ],
   "source": [
    "pclass_xt = pd.crosstab(df_train['Construction Zone Flag'], df_train['Crash Severity'], normalize='index')\n",
    "pclass_xt"
   ]
  },
  {
   "cell_type": "markdown",
   "metadata": {},
   "source": [
    "From above, we can infer that construction zone contributes to 3% of serious crashes whereas non-construction site contributes to just 1% of the serious crashes recorded"
   ]
  },
  {
   "cell_type": "code",
   "execution_count": 85,
   "metadata": {
    "scrolled": false
   },
   "outputs": [
    {
     "data": {
      "text/plain": [
       "No     2164\n",
       "Yes     131\n",
       "Name: Construction Zone Flag, dtype: int64"
      ]
     },
     "execution_count": 85,
     "metadata": {},
     "output_type": "execute_result"
    }
   ],
   "source": [
    "df_train['Construction Zone Flag'].value_counts(dropna = False)"
   ]
  },
  {
   "cell_type": "code",
   "execution_count": 86,
   "metadata": {},
   "outputs": [],
   "source": [
    "# Binomial column: Mapping 1 to the most frequent class of const zone ie., No\n",
    "df_train['Construction Zone Flag'] = df_train['Construction Zone Flag'].map({'No':1, 'Yes':0}).astype(int)"
   ]
  },
  {
   "cell_type": "markdown",
   "metadata": {},
   "source": [
    "### Feature: Construction Zone Workers Present Flag"
   ]
  },
  {
   "cell_type": "code",
   "execution_count": 87,
   "metadata": {},
   "outputs": [
    {
     "data": {
      "text/html": [
       "<div>\n",
       "<style scoped>\n",
       "    .dataframe tbody tr th:only-of-type {\n",
       "        vertical-align: middle;\n",
       "    }\n",
       "\n",
       "    .dataframe tbody tr th {\n",
       "        vertical-align: top;\n",
       "    }\n",
       "\n",
       "    .dataframe thead th {\n",
       "        text-align: right;\n",
       "    }\n",
       "</style>\n",
       "<table border=\"1\" class=\"dataframe\">\n",
       "  <thead>\n",
       "    <tr style=\"text-align: right;\">\n",
       "      <th>Crash Severity</th>\n",
       "      <th>Not serious</th>\n",
       "      <th>Serious</th>\n",
       "    </tr>\n",
       "    <tr>\n",
       "      <th>Construction Zone Workers Present Flag</th>\n",
       "      <th></th>\n",
       "      <th></th>\n",
       "    </tr>\n",
       "  </thead>\n",
       "  <tbody>\n",
       "    <tr>\n",
       "      <th>No</th>\n",
       "      <td>2216</td>\n",
       "      <td>36</td>\n",
       "    </tr>\n",
       "    <tr>\n",
       "      <th>Yes</th>\n",
       "      <td>43</td>\n",
       "      <td>0</td>\n",
       "    </tr>\n",
       "  </tbody>\n",
       "</table>\n",
       "</div>"
      ],
      "text/plain": [
       "Crash Severity                          Not serious  Serious\n",
       "Construction Zone Workers Present Flag                      \n",
       "No                                             2216       36\n",
       "Yes                                              43        0"
      ]
     },
     "execution_count": 87,
     "metadata": {},
     "output_type": "execute_result"
    }
   ],
   "source": [
    "pclass_xt = pd.crosstab(df_train['Construction Zone Workers Present Flag'], df_train['Crash Severity'])\n",
    "pclass_xt"
   ]
  },
  {
   "cell_type": "code",
   "execution_count": 88,
   "metadata": {},
   "outputs": [
    {
     "name": "stdout",
     "output_type": "stream",
     "text": [
      "Not serious    0.984314\n",
      "Serious        0.015686\n",
      "Name: Crash Severity, dtype: float64\n"
     ]
    }
   ],
   "source": [
    "print(df_train['Crash Severity'].value_counts() / df_train['Crash Severity'].count())"
   ]
  },
  {
   "cell_type": "code",
   "execution_count": 89,
   "metadata": {},
   "outputs": [
    {
     "data": {
      "text/plain": [
       "<AxesSubplot:xlabel='Construction Zone Workers Present Flag'>"
      ]
     },
     "execution_count": 89,
     "metadata": {},
     "output_type": "execute_result"
    },
    {
     "data": {
      "image/png": "[encoded data removed]",
      "text/plain": [
       "<Figure size 460.8x345.6 with 1 Axes>"
      ]
     },
     "metadata": {
      "needs_background": "light"
     },
     "output_type": "display_data"
    }
   ],
   "source": [
    "pd.crosstab(df_train['Construction Zone Workers Present Flag'], df_train['Crash Severity']).plot(kind = 'bar')"
   ]
  },
  {
   "cell_type": "markdown",
   "metadata": {},
   "source": [
    "From above countplots, we can infer that construction zone contributes to 3% of serious crashes whereas non-construction zones contribute to just 1% of the serious crashes recorded whilst the Construction Zone Workers Present Flag doesnt seem to be much significant. Hence construction zone, despite the presence of workers at the construction site or not seem to play a crucial role in crash severity"
   ]
  },
  {
   "cell_type": "code",
   "execution_count": 90,
   "metadata": {},
   "outputs": [
    {
     "data": {
      "text/plain": [
       "No     2252\n",
       "Yes      43\n",
       "Name: Construction Zone Workers Present Flag, dtype: int64"
      ]
     },
     "execution_count": 90,
     "metadata": {},
     "output_type": "execute_result"
    }
   ],
   "source": [
    "df_train['Construction Zone Workers Present Flag'].value_counts(dropna = False)"
   ]
  },
  {
   "cell_type": "code",
   "execution_count": 91,
   "metadata": {},
   "outputs": [],
   "source": [
    "# Binomial column: Mapping 1 to the most frequent class of const zone ie., No\n",
    "df_train['Construction Zone Workers Present Flag'] = df_train['Construction Zone Workers Present Flag'].map({'No':1, 'Yes':0}).astype(int)"
   ]
  },
  {
   "cell_type": "markdown",
   "metadata": {},
   "source": [
    "### Feature: Crash Time"
   ]
  },
  {
   "cell_type": "code",
   "execution_count": 92,
   "metadata": {},
   "outputs": [
    {
     "data": {
      "text/plain": [
       "Text(0, 0.5, 'Count')"
      ]
     },
     "execution_count": 92,
     "metadata": {},
     "output_type": "execute_result"
    },
    {
     "data": {
      "image/png": "[encoded data removed]",
      "text/plain": [
       "<Figure size 460.8x345.6 with 1 Axes>"
      ]
     },
     "metadata": {
      "needs_background": "light"
     },
     "output_type": "display_data"
    }
   ],
   "source": [
    "df1 = df_train[df_train['Crash Severity'] == 'Serious']['Crash Time']\n",
    "df2 = df_train[df_train['Crash Severity'] == 'Not serious']['Crash Time']\n",
    "\n",
    "plt.hist([df1, df2], bins=5, range=(1, 1159))\n",
    "plt.legend(('Serious Crashes', 'Non-Serious Crashes'), loc='best')\n",
    "plt.title('Count of Crashes by Time')\n",
    "plt.xlabel('Crash Time')\n",
    "plt.ylabel('Count')"
   ]
  },
  {
   "cell_type": "code",
   "execution_count": 93,
   "metadata": {},
   "outputs": [
    {
     "data": {
      "image/png": "[encoded data removed]",
      "text/plain": [
       "<Figure size 576x432 with 1 Axes>"
      ]
     },
     "metadata": {
      "needs_background": "light"
     },
     "output_type": "display_data"
    }
   ],
   "source": [
    "plt.figure(figsize=(8,6))\n",
    "sns.boxplot(x='Crash Time', y='Crash Severity',data=df_train);"
   ]
  },
  {
   "cell_type": "markdown",
   "metadata": {},
   "source": [
    "Serious crashes are prone to happen in early morning over non-serious crashes and there are not any outliers"
   ]
  },
  {
   "cell_type": "code",
   "execution_count": 94,
   "metadata": {},
   "outputs": [
    {
     "data": {
      "text/plain": [
       "Text(0.5, 1.0, 'Number of serious crashes by crash time')"
      ]
     },
     "execution_count": 94,
     "metadata": {},
     "output_type": "execute_result"
    },
    {
     "data": {
      "image/png": "[encoded data removed]",
      "text/plain": [
       "<Figure size 1008x216 with 1 Axes>"
      ]
     },
     "metadata": {
      "needs_background": "light"
     },
     "output_type": "display_data"
    }
   ],
   "source": [
    "fig, ax=plt.subplots(figsize=(14,3))\n",
    "df_train[df_train['Crash Severity']=='Serious']['Crash Time'].value_counts().plot.bar(width=0.5,edgecolor='k',align='center',linewidth=2)\n",
    "plt.xlabel('Crash Time',fontsize=10)\n",
    "plt.ylabel('Number of Crashes',fontsize=10)\n",
    "ax.tick_params(labelsize=10)\n",
    "plt.title('Number of serious crashes by crash time',fontsize=12)"
   ]
  },
  {
   "cell_type": "code",
   "execution_count": 95,
   "metadata": {},
   "outputs": [
    {
     "data": {
      "text/plain": [
       "<AxesSubplot:xlabel='Crash Time', ylabel='Count'>"
      ]
     },
     "execution_count": 95,
     "metadata": {},
     "output_type": "execute_result"
    },
    {
     "data": {
      "image/png": "[encoded data removed]",
      "text/plain": [
       "<Figure size 1008x432 with 1 Axes>"
      ]
     },
     "metadata": {
      "needs_background": "light"
     },
     "output_type": "display_data"
    }
   ],
   "source": [
    "plt.figure(figsize=(14,6))\n",
    "# Simulated various number of bin size to categorize based on serious crashes distribution and found 4 to be better bin size\n",
    "sns.histplot(x='Crash Time', hue='Crash Severity', data=df_train, bins=4)"
   ]
  },
  {
   "cell_type": "markdown",
   "metadata": {},
   "source": [
    "From above analysis, Servere crashes seem to be high during 12AM to 6AM (0-600 Hrs) and around 550PM to 1159PM (1750-1159 Hrs).\n",
    "Hence Crash Time has been categorized into 4 bins - earlymorning, morning, noon and night based on above histogram whose mapping is as follows"
   ]
  },
  {
   "cell_type": "code",
   "execution_count": 96,
   "metadata": {},
   "outputs": [],
   "source": [
    "df_train['Crash Time'] = df_train['Crash Time'].apply(lambda x: \"early morning\" if x >=0 and x<= 600 \\\n",
    "                        else ('morning' if x >=601 and x<= 1200 else 'noon' if x >=1201 and x<= 1750 else 'night') )"
   ]
  },
  {
   "cell_type": "code",
   "execution_count": 97,
   "metadata": {},
   "outputs": [
    {
     "data": {
      "text/plain": [
       "noon             756\n",
       "night            606\n",
       "morning          598\n",
       "early morning    335\n",
       "Name: Crash Time, dtype: int64"
      ]
     },
     "execution_count": 97,
     "metadata": {},
     "output_type": "execute_result"
    }
   ],
   "source": [
    "# Serious + NonSerious Crashes by time of day\n",
    "df_train['Crash Time'].value_counts(dropna = False)"
   ]
  },
  {
   "cell_type": "code",
   "execution_count": 98,
   "metadata": {},
   "outputs": [
    {
     "data": {
      "text/plain": [
       "Text(0.5, 1.0, 'Time of Day of serious crashes')"
      ]
     },
     "execution_count": 98,
     "metadata": {},
     "output_type": "execute_result"
    },
    {
     "data": {
      "image/png": "[encoded data removed]",
      "text/plain": [
       "<Figure size 460.8x345.6 with 1 Axes>"
      ]
     },
     "metadata": {
      "needs_background": "light"
     },
     "output_type": "display_data"
    }
   ],
   "source": [
    "df_train[df_train['Crash Severity']=='Serious']['Crash Time'].value_counts().sort_values(ascending=False).plot.bar(width=0.5,edgecolor='k',align='center',linewidth=2)\n",
    "plt.ylabel('Number of Accidents',fontsize=10)\n",
    "ax.tick_params(labelsize=10)\n",
    "plt.title('Time of Day of serious crashes',fontsize=12)"
   ]
  },
  {
   "cell_type": "markdown",
   "metadata": {},
   "source": [
    "From above its evident that more serious crashes happen during Night and early morning times which is logical as well"
   ]
  },
  {
   "cell_type": "code",
   "execution_count": 99,
   "metadata": {},
   "outputs": [],
   "source": [
    "cols = pd.get_dummies(df_train['Crash Time'], prefix= 'Crash Time')\n",
    "df_train[cols.columns] = cols\n",
    "df_train.drop('Crash Time', axis = 1, inplace = True)"
   ]
  },
  {
   "cell_type": "markdown",
   "metadata": {},
   "source": [
    "### Feature: Day of Week"
   ]
  },
  {
   "cell_type": "code",
   "execution_count": 100,
   "metadata": {},
   "outputs": [
    {
     "data": {
      "text/html": [
       "<div>\n",
       "<style scoped>\n",
       "    .dataframe tbody tr th:only-of-type {\n",
       "        vertical-align: middle;\n",
       "    }\n",
       "\n",
       "    .dataframe tbody tr th {\n",
       "        vertical-align: top;\n",
       "    }\n",
       "\n",
       "    .dataframe thead th {\n",
       "        text-align: right;\n",
       "    }\n",
       "</style>\n",
       "<table border=\"1\" class=\"dataframe\">\n",
       "  <thead>\n",
       "    <tr style=\"text-align: right;\">\n",
       "      <th>Crash Severity</th>\n",
       "      <th>Not serious</th>\n",
       "      <th>Serious</th>\n",
       "    </tr>\n",
       "    <tr>\n",
       "      <th>Day of Week</th>\n",
       "      <th></th>\n",
       "      <th></th>\n",
       "    </tr>\n",
       "  </thead>\n",
       "  <tbody>\n",
       "    <tr>\n",
       "      <th>FRIDAY</th>\n",
       "      <td>380</td>\n",
       "      <td>6</td>\n",
       "    </tr>\n",
       "    <tr>\n",
       "      <th>MONDAY</th>\n",
       "      <td>293</td>\n",
       "      <td>4</td>\n",
       "    </tr>\n",
       "    <tr>\n",
       "      <th>SATURDAY</th>\n",
       "      <td>348</td>\n",
       "      <td>7</td>\n",
       "    </tr>\n",
       "    <tr>\n",
       "      <th>SUNDAY</th>\n",
       "      <td>278</td>\n",
       "      <td>6</td>\n",
       "    </tr>\n",
       "    <tr>\n",
       "      <th>THURSDAY</th>\n",
       "      <td>304</td>\n",
       "      <td>5</td>\n",
       "    </tr>\n",
       "    <tr>\n",
       "      <th>TUESDAY</th>\n",
       "      <td>335</td>\n",
       "      <td>4</td>\n",
       "    </tr>\n",
       "    <tr>\n",
       "      <th>WEDNESDAY</th>\n",
       "      <td>321</td>\n",
       "      <td>4</td>\n",
       "    </tr>\n",
       "  </tbody>\n",
       "</table>\n",
       "</div>"
      ],
      "text/plain": [
       "Crash Severity  Not serious  Serious\n",
       "Day of Week                         \n",
       "FRIDAY                  380        6\n",
       "MONDAY                  293        4\n",
       "SATURDAY                348        7\n",
       "SUNDAY                  278        6\n",
       "THURSDAY                304        5\n",
       "TUESDAY                 335        4\n",
       "WEDNESDAY               321        4"
      ]
     },
     "execution_count": 100,
     "metadata": {},
     "output_type": "execute_result"
    }
   ],
   "source": [
    "pclass_xt = pd.crosstab(df_train['Day of Week'], df_train['Crash Severity'])\n",
    "pclass_xt"
   ]
  },
  {
   "cell_type": "code",
   "execution_count": 101,
   "metadata": {},
   "outputs": [
    {
     "data": {
      "text/plain": [
       "Text(0, 0.5, 'Crash Severity')"
      ]
     },
     "execution_count": 101,
     "metadata": {},
     "output_type": "execute_result"
    },
    {
     "data": {
      "image/png": "[encoded data removed]",
      "text/plain": [
       "<Figure size 460.8x345.6 with 1 Axes>"
      ]
     },
     "metadata": {
      "needs_background": "light"
     },
     "output_type": "display_data"
    }
   ],
   "source": [
    "# Normalize the cross tab to sum to 1\n",
    "pclass_xt_pct = pclass_xt.div(pclass_xt.sum(1), axis=0)\n",
    "\n",
    "pclass_xt_pct.plot(kind='bar', \n",
    "                   stacked=True, \n",
    "                   title='Crash Severity by Day of Week')\n",
    "plt.xlabel('Day of Week')\n",
    "plt.ylabel('Crash Severity')"
   ]
  },
  {
   "cell_type": "code",
   "execution_count": 102,
   "metadata": {},
   "outputs": [],
   "source": [
    "# Categorizing as 'WeekBeginning', 'MidWeek' and 'Weekends' for better context\n",
    "df_train['Day of Week'] = df_train['Day of Week'].apply(lambda x: \"Week Beginning\" if x =='MONDAY' or x=='TUESDAY' else ('Mid Week' if x == 'WEDNESDAY' or x == 'THURSDAY' else 'Week End') )"
   ]
  },
  {
   "cell_type": "code",
   "execution_count": 103,
   "metadata": {},
   "outputs": [
    {
     "data": {
      "text/plain": [
       "Text(0.5, 1.0, 'Day of Week of serious crashes')"
      ]
     },
     "execution_count": 103,
     "metadata": {},
     "output_type": "execute_result"
    },
    {
     "data": {
      "image/png": "[encoded data removed]",
      "text/plain": [
       "<Figure size 460.8x345.6 with 1 Axes>"
      ]
     },
     "metadata": {
      "needs_background": "light"
     },
     "output_type": "display_data"
    }
   ],
   "source": [
    "df_train[df_train['Crash Severity']=='Serious']['Day of Week'].value_counts().sort_values(ascending=False).plot.bar(width=0.5,edgecolor='k',align='center',linewidth=2)\n",
    "plt.ylabel('Number of Crashes',fontsize=10)\n",
    "ax.tick_params(labelsize=10)\n",
    "plt.title('Day of Week of serious crashes',fontsize=12)"
   ]
  },
  {
   "cell_type": "code",
   "execution_count": 104,
   "metadata": {},
   "outputs": [],
   "source": [
    "cols = pd.get_dummies(df_train['Day of Week'], prefix= 'Day of Week')\n",
    "df_train[cols.columns] = cols\n",
    "df_train.drop('Day of Week', axis = 1, inplace = True)"
   ]
  },
  {
   "cell_type": "markdown",
   "metadata": {},
   "source": [
    "### Feature: Weather Condition"
   ]
  },
  {
   "cell_type": "code",
   "execution_count": 105,
   "metadata": {},
   "outputs": [
    {
     "data": {
      "text/plain": [
       "Text(0.5, 1.0, 'Top 5 Weather Conditions for crashes')"
      ]
     },
     "execution_count": 105,
     "metadata": {},
     "output_type": "execute_result"
    },
    {
     "data": {
      "image/png": "[encoded data removed]",
      "text/plain": [
       "<Figure size 460.8x345.6 with 1 Axes>"
      ]
     },
     "metadata": {
      "needs_background": "light"
     },
     "output_type": "display_data"
    }
   ],
   "source": [
    "plt.rcParams[\"figure.figsize\"] = plt.rcParamsDefault[\"figure.figsize\"]\n",
    "\n",
    "df_train['Weather Condition'].value_counts().sort_values(ascending=False).head(5).plot.bar(width=0.5,edgecolor='k',align='center',linewidth=2)\n",
    "plt.ylabel('Number of crashes',fontsize=10)\n",
    "ax.tick_params(labelsize=10)\n",
    "plt.title('Top 5 Weather Conditions for crashes',fontsize=12)"
   ]
  },
  {
   "cell_type": "code",
   "execution_count": 106,
   "metadata": {},
   "outputs": [
    {
     "data": {
      "text/plain": [
       "Text(0.5, 1.0, 'Serious Crashes by weather')"
      ]
     },
     "execution_count": 106,
     "metadata": {},
     "output_type": "execute_result"
    },
    {
     "data": {
      "image/png": "[encoded data removed]",
      "text/plain": [
       "<Figure size 460.8x345.6 with 1 Axes>"
      ]
     },
     "metadata": {
      "needs_background": "light"
     },
     "output_type": "display_data"
    }
   ],
   "source": [
    "# Distribution of serious crashes by weather\n",
    "plt.rcParams[\"figure.figsize\"] = plt.rcParamsDefault[\"figure.figsize\"]\n",
    "\n",
    "df_train[df_train['Crash Severity']=='Serious']['Weather Condition'].value_counts().sort_values(ascending=False).head(5).plot.bar(edgecolor='k',align='center')\n",
    "plt.xlabel('Weather Condition',fontsize=10)\n",
    "plt.ylabel('Number of Crashes',fontsize=10)\n",
    "ax.tick_params(labelsize=10)\n",
    "plt.title('Serious Crashes by weather',fontsize=12)"
   ]
  },
  {
   "cell_type": "markdown",
   "metadata": {},
   "source": [
    "Against intuition, Foggy or rainy weather conditions doesnt seem to much contribute towards crash severity"
   ]
  },
  {
   "cell_type": "markdown",
   "metadata": {},
   "source": [
    "### Feature: Manner of Collision"
   ]
  },
  {
   "cell_type": "code",
   "execution_count": 107,
   "metadata": {
    "scrolled": true
   },
   "outputs": [],
   "source": [
    "df_train['Manner of Collision'].value_counts(dropna=False)\n",
    "\n",
    "cols = pd.get_dummies(df_train['Manner of Collision'], prefix= 'Manner of Collision')\n",
    "df_train[cols.columns] = cols\n",
    "df_train.drop('Manner of Collision', axis = 1, inplace = True)"
   ]
  },
  {
   "cell_type": "markdown",
   "metadata": {},
   "source": [
    "## Features with high missing values"
   ]
  },
  {
   "cell_type": "markdown",
   "metadata": {},
   "source": [
    "### Feature: Intersecting Street Name"
   ]
  },
  {
   "cell_type": "code",
   "execution_count": 108,
   "metadata": {},
   "outputs": [
    {
     "data": {
      "text/plain": [
       "NaN                       1755\n",
       "IH0035E                    220\n",
       "IH0345                     146\n",
       "N PEARL ST                  21\n",
       "N FIELD ST                  18\n",
       "OLIVE ST                    14\n",
       "AKARD ST                    14\n",
       "N AKARD ST                  14\n",
       "ROUTH ST                    13\n",
       "N ST PAUL ST                11\n",
       "FIELD ST                    11\n",
       "PEARL ST                     8\n",
       "US0075                       7\n",
       "MAPLE ROUTH CONNECTION       5\n",
       "ROSS AVE                     4\n",
       "N OLIVE ST                   4\n",
       "N RIVERFRONT BLVD            3\n",
       "NOT REPORTED                 3\n",
       "BOLL ST                      2\n",
       "HARWOOD ST                   2\n",
       "N BECKLEY AVE                2\n",
       "ST PAUL ST                   2\n",
       "N HARWOOD ST                 1\n",
       "N PEARL                      1\n",
       "SAN JACINTO ST               1\n",
       "COLUMBUS ST                  1\n",
       "BECKLEY AVE                  1\n",
       "LEMMON AVE                   1\n",
       "STPAUL ST                    1\n",
       "N AKARO ST                   1\n",
       "ROUTH AVE                    1\n",
       "MAPLE ROUTH                  1\n",
       "SAINT PAUL ST                1\n",
       "MAPLE ROUTH ST               1\n",
       "LIVE OAK ST                  1\n",
       "BRYAN ST                     1\n",
       "N GRIFFIN ST                 1\n",
       "GRIFFIN ST                   1\n",
       "Name: Intersecting Street Name, dtype: int64"
      ]
     },
     "execution_count": 108,
     "metadata": {},
     "output_type": "execute_result"
    }
   ],
   "source": [
    "df_train['Intersecting Street Name'].value_counts(dropna = False)"
   ]
  },
  {
   "cell_type": "code",
   "execution_count": 109,
   "metadata": {},
   "outputs": [
    {
     "data": {
      "text/plain": [
       "Text(0.5, 1.0, 'Intersecting Street Name of overall crashes')"
      ]
     },
     "execution_count": 109,
     "metadata": {},
     "output_type": "execute_result"
    },
    {
     "data": {
      "image/png": "[encoded data removed]",
      "text/plain": [
       "<Figure size 1008x216 with 1 Axes>"
      ]
     },
     "metadata": {
      "needs_background": "light"
     },
     "output_type": "display_data"
    }
   ],
   "source": [
    "fig, ax=plt.subplots(figsize=(14,3))\n",
    "df_train['Intersecting Street Name'].value_counts().sort_values(ascending=False).plot.bar(width=0.5,edgecolor='k',align='center',linewidth=2)\n",
    "plt.ylabel('Number of Crashes',fontsize=10)\n",
    "ax.tick_params(labelsize=10)\n",
    "plt.title('Intersecting Street Name of overall crashes',fontsize=12)"
   ]
  },
  {
   "cell_type": "code",
   "execution_count": 110,
   "metadata": {},
   "outputs": [
    {
     "data": {
      "text/plain": [
       "Text(0.5, 1.0, 'Intersecting Street Name of serious crashes')"
      ]
     },
     "execution_count": 110,
     "metadata": {},
     "output_type": "execute_result"
    },
    {
     "data": {
      "image/png": "[encoded data removed]",
      "text/plain": [
       "<Figure size 460.8x345.6 with 1 Axes>"
      ]
     },
     "metadata": {
      "needs_background": "light"
     },
     "output_type": "display_data"
    }
   ],
   "source": [
    "plt.rcParams[\"figure.figsize\"] = plt.rcParamsDefault[\"figure.figsize\"]\n",
    "\n",
    "df_train[df_train['Crash Severity']=='Serious']['Intersecting Street Name'].value_counts().sort_values(ascending=False).plot.bar(width=0.5,edgecolor='k',align='center',linewidth=2)\n",
    "plt.ylabel('Number of Crashes',fontsize=10)\n",
    "ax.tick_params(labelsize=10)\n",
    "plt.title('Intersecting Street Name of serious crashes', fontsize=12)"
   ]
  },
  {
   "cell_type": "markdown",
   "metadata": {},
   "source": [
    "### Feature: Intersecting Highway Number"
   ]
  },
  {
   "cell_type": "code",
   "execution_count": 111,
   "metadata": {
    "scrolled": true
   },
   "outputs": [
    {
     "data": {
      "text/plain": [
       "No Data    1922\n",
       "35          220\n",
       "345         146\n",
       "75            7\n",
       "Name: Intersecting Highway Number, dtype: int64"
      ]
     },
     "execution_count": 111,
     "metadata": {},
     "output_type": "execute_result"
    }
   ],
   "source": [
    "df_train['Intersecting Highway Number'].value_counts(dropna = False)"
   ]
  },
  {
   "cell_type": "markdown",
   "metadata": {},
   "source": [
    "### Feature: Highway System"
   ]
  },
  {
   "cell_type": "code",
   "execution_count": 112,
   "metadata": {},
   "outputs": [
    {
     "data": {
      "text/plain": [
       "STATE SPUR    2295\n",
       "Name: Highway System, dtype: int64"
      ]
     },
     "execution_count": 112,
     "metadata": {},
     "output_type": "execute_result"
    }
   ],
   "source": [
    "df_train['Highway System'].value_counts(dropna = False)"
   ]
  },
  {
   "cell_type": "markdown",
   "metadata": {},
   "source": [
    "### Feature: Median Width"
   ]
  },
  {
   "cell_type": "code",
   "execution_count": 113,
   "metadata": {
    "scrolled": true
   },
   "outputs": [
    {
     "data": {
      "text/plain": [
       "40         1775\n",
       "No Data     520\n",
       "Name: Median Width, dtype: int64"
      ]
     },
     "execution_count": 113,
     "metadata": {},
     "output_type": "execute_result"
    }
   ],
   "source": [
    "df_train['Median Width'].value_counts(dropna = False)"
   ]
  },
  {
   "cell_type": "markdown",
   "metadata": {},
   "source": [
    "### Feature: Median Type"
   ]
  },
  {
   "cell_type": "code",
   "execution_count": 114,
   "metadata": {
    "scrolled": true
   },
   "outputs": [
    {
     "data": {
      "text/plain": [
       "No Data        2235\n",
       "UNPROTECTED      60\n",
       "Name: Median Type, dtype: int64"
      ]
     },
     "execution_count": 114,
     "metadata": {},
     "output_type": "execute_result"
    }
   ],
   "source": [
    "df_train['Median Type'].value_counts(dropna = False)"
   ]
  },
  {
   "cell_type": "markdown",
   "metadata": {},
   "source": [
    "### Feature: Surface Type"
   ]
  },
  {
   "cell_type": "code",
   "execution_count": 115,
   "metadata": {},
   "outputs": [
    {
     "data": {
      "text/plain": [
       "No Data    2295\n",
       "Name: Surface Type, dtype: int64"
      ]
     },
     "execution_count": 115,
     "metadata": {},
     "output_type": "execute_result"
    }
   ],
   "source": [
    "df_train['Surface Type'].value_counts(dropna = False)"
   ]
  },
  {
   "cell_type": "markdown",
   "metadata": {},
   "source": [
    "Owing to high % of nulls in the above 6 variables and also upon analysis they doesnt seem to contribute to the variance of target variable. Hence they are dropped"
   ]
  },
  {
   "cell_type": "code",
   "execution_count": 116,
   "metadata": {},
   "outputs": [],
   "source": [
    "df_train.drop('Highway System', axis=1, inplace=True)\n",
    "df_train.drop('Intersecting Highway Number', axis=1, inplace=True)\n",
    "df_train.drop('Intersecting Street Name', axis=1, inplace=True)\n",
    "\n",
    "df_train.drop('Median Width', axis=1, inplace=True)\n",
    "df_train.drop('Median Type', axis=1, inplace=True)\n",
    "df_train.drop('Surface Type', axis=1, inplace=True)"
   ]
  },
  {
   "cell_type": "markdown",
   "metadata": {},
   "source": [
    "### Feature: Number of entering roads"
   ]
  },
  {
   "cell_type": "code",
   "execution_count": 117,
   "metadata": {},
   "outputs": [
    {
     "data": {
      "text/plain": [
       "97 - NOT APPLICABLE                  1953\n",
       "4 - FOUR ENTERING ROADS               193\n",
       "2 - THREE ENTERING ROADS - T           68\n",
       "98 - OTHER (EXPLAIN IN NARRATIVE)      44\n",
       "3 - THREE ENTERING ROADS - Y           31\n",
       "5 - FIVE ENTERING ROADS                 2\n",
       "6 - SIX ENTERING ROADS                  2\n",
       "8 - CLOVERLEAF                          2\n",
       "Name: Number of Entering Roads, dtype: int64"
      ]
     },
     "execution_count": 117,
     "metadata": {},
     "output_type": "execute_result"
    }
   ],
   "source": [
    "df_train['Number of Entering Roads'].value_counts(dropna=False)"
   ]
  },
  {
   "cell_type": "code",
   "execution_count": 118,
   "metadata": {},
   "outputs": [
    {
     "data": {
      "text/plain": [
       "Text(0.5, 1.0, 'Number of entering road of overall crashes')"
      ]
     },
     "execution_count": 118,
     "metadata": {},
     "output_type": "execute_result"
    },
    {
     "data": {
      "image/png": "[encoded data removed]",
      "text/plain": [
       "<Figure size 460.8x345.6 with 1 Axes>"
      ]
     },
     "metadata": {
      "needs_background": "light"
     },
     "output_type": "display_data"
    }
   ],
   "source": [
    "plt.rcParams[\"figure.figsize\"] = plt.rcParamsDefault[\"figure.figsize\"]\n",
    "\n",
    "df_train['Number of Entering Roads'].value_counts().sort_values(ascending=False).plot.bar(width=0.5,edgecolor='k',align='center',linewidth=2)\n",
    "plt.ylabel('Number of Crashes',fontsize=10)\n",
    "ax.tick_params(labelsize=10)\n",
    "plt.title('Number of entering road of overall crashes',fontsize=12)"
   ]
  },
  {
   "cell_type": "code",
   "execution_count": 119,
   "metadata": {},
   "outputs": [
    {
     "data": {
      "text/plain": [
       "Text(0.5, 1.0, 'Intersecting Street Name of serious crashes')"
      ]
     },
     "execution_count": 119,
     "metadata": {},
     "output_type": "execute_result"
    },
    {
     "data": {
      "image/png": "[encoded data removed]",
      "text/plain": [
       "<Figure size 460.8x345.6 with 1 Axes>"
      ]
     },
     "metadata": {
      "needs_background": "light"
     },
     "output_type": "display_data"
    }
   ],
   "source": [
    "plt.rcParams[\"figure.figsize\"] = plt.rcParamsDefault[\"figure.figsize\"]\n",
    "\n",
    "df_train[df_train['Crash Severity']=='Serious']['Number of Entering Roads'].value_counts().sort_values(ascending=False).plot.bar(width=0.5,edgecolor='k',align='center',linewidth=2)\n",
    "plt.xlabel('Number of Entering Roads',fontsize=10)\n",
    "plt.ylabel('Number of Accidents',fontsize=10)\n",
    "ax.tick_params(labelsize=10)\n",
    "plt.title('Intersecting Street Name of serious crashes',fontsize=12)\n",
    "# plt.grid()"
   ]
  },
  {
   "cell_type": "code",
   "execution_count": 120,
   "metadata": {},
   "outputs": [],
   "source": [
    "cols = pd.get_dummies(df_train['Number of Entering Roads'], prefix= 'Number of Entering Roads')\n",
    "df_train[cols.columns] = cols\n",
    "df_train.drop('Number of Entering Roads', axis = 1, inplace = True)"
   ]
  },
  {
   "cell_type": "markdown",
   "metadata": {},
   "source": [
    "### Feature: Number of Lanes"
   ]
  },
  {
   "cell_type": "code",
   "execution_count": 121,
   "metadata": {},
   "outputs": [
    {
     "data": {
      "text/plain": [
       "8          1234\n",
       "6           541\n",
       "No Data     520\n",
       "Name: Number of Lanes, dtype: int64"
      ]
     },
     "execution_count": 121,
     "metadata": {},
     "output_type": "execute_result"
    }
   ],
   "source": [
    "df_train['Number of Lanes'].value_counts(dropna = False)"
   ]
  },
  {
   "cell_type": "code",
   "execution_count": 122,
   "metadata": {},
   "outputs": [
    {
     "data": {
      "text/plain": [
       "'8'"
      ]
     },
     "execution_count": 122,
     "metadata": {},
     "output_type": "execute_result"
    }
   ],
   "source": [
    "df_train['Number of Lanes'].mode()[0]"
   ]
  },
  {
   "cell_type": "code",
   "execution_count": 123,
   "metadata": {},
   "outputs": [],
   "source": [
    "df_train['Number of Lanes'].replace('No Data', df_train['Number of Lanes'].mode()[0], inplace=True)"
   ]
  },
  {
   "cell_type": "code",
   "execution_count": 124,
   "metadata": {},
   "outputs": [],
   "source": [
    "df_train['Number of Lanes'] = pd.to_numeric(df_train['Number of Lanes'], errors='coerce')"
   ]
  },
  {
   "cell_type": "markdown",
   "metadata": {},
   "source": [
    "### Feature: Surface Condition"
   ]
  },
  {
   "cell_type": "code",
   "execution_count": 125,
   "metadata": {},
   "outputs": [
    {
     "data": {
      "text/plain": [
       "Text(0.5, 1.0, '5 Top Surface Conditions for all crashes')"
      ]
     },
     "execution_count": 125,
     "metadata": {},
     "output_type": "execute_result"
    },
    {
     "data": {
      "image/png": "[encoded data removed]",
      "text/plain": [
       "<Figure size 460.8x345.6 with 1 Axes>"
      ]
     },
     "metadata": {
      "needs_background": "light"
     },
     "output_type": "display_data"
    }
   ],
   "source": [
    "plt.rcParams[\"figure.figsize\"] = plt.rcParamsDefault[\"figure.figsize\"]\n",
    "\n",
    "df_train['Surface Condition'].value_counts().sort_values(ascending=False).head(5).plot.bar(width=0.5,edgecolor='k',align='center',linewidth=2)\n",
    "plt.xlabel('Surface Condition',fontsize=10)\n",
    "plt.ylabel('Number of Accidents',fontsize=10)\n",
    "ax.tick_params(labelsize=10)\n",
    "plt.title('5 Top Surface Conditions for all crashes',fontsize=12)"
   ]
  },
  {
   "cell_type": "code",
   "execution_count": 128,
   "metadata": {},
   "outputs": [
    {
     "data": {
      "text/plain": [
       "Text(0.5, 1.0, 'Surface Conditions for severe crashes')"
      ]
     },
     "execution_count": 128,
     "metadata": {},
     "output_type": "execute_result"
    },
    {
     "data": {
      "image/png": "[encoded data removed]",
      "text/plain": [
       "<Figure size 460.8x345.6 with 1 Axes>"
      ]
     },
     "metadata": {
      "needs_background": "light"
     },
     "output_type": "display_data"
    }
   ],
   "source": [
    "plt.rcParams[\"figure.figsize\"] = plt.rcParamsDefault[\"figure.figsize\"]\n",
    "\n",
    "df_train['Surface Condition'].value_counts().sort_values(ascending=False).head(5).plot.bar(width=0.5,edgecolor='k',align='center',linewidth=2)\n",
    "plt.xlabel('Surface Condition',fontsize=10)\n",
    "plt.ylabel('Number of Accidents',fontsize=10)\n",
    "ax.tick_params(labelsize=10)\n",
    "plt.title('Surface Conditions for severe crashes',fontsize=12)"
   ]
  },
  {
   "cell_type": "code",
   "execution_count": 129,
   "metadata": {},
   "outputs": [
    {
     "data": {
      "text/plain": [
       "1 - DRY                              2024\n",
       "2 - WET                               246\n",
       "3 - STANDING WATER                     14\n",
       "6 - ICE                                 5\n",
       "99 - UNKNOWN                            3\n",
       "98 - OTHER (EXPLAIN IN NARRATIVE)       2\n",
       "7 - SAND, MUD, DIRT                     1\n",
       "Name: Surface Condition, dtype: int64"
      ]
     },
     "execution_count": 129,
     "metadata": {},
     "output_type": "execute_result"
    }
   ],
   "source": [
    "df_train['Surface Condition'].value_counts(dropna = False)"
   ]
  },
  {
   "cell_type": "code",
   "execution_count": 130,
   "metadata": {},
   "outputs": [
    {
     "data": {
      "text/html": [
       "<div>\n",
       "<style scoped>\n",
       "    .dataframe tbody tr th:only-of-type {\n",
       "        vertical-align: middle;\n",
       "    }\n",
       "\n",
       "    .dataframe tbody tr th {\n",
       "        vertical-align: top;\n",
       "    }\n",
       "\n",
       "    .dataframe thead th {\n",
       "        text-align: right;\n",
       "    }\n",
       "</style>\n",
       "<table border=\"1\" class=\"dataframe\">\n",
       "  <thead>\n",
       "    <tr style=\"text-align: right;\">\n",
       "      <th></th>\n",
       "      <th>$1000 Damage to Any One Person's Property</th>\n",
       "      <th>Construction Zone Flag</th>\n",
       "      <th>Construction Zone Workers Present Flag</th>\n",
       "      <th>Number of Lanes</th>\n",
       "      <th>Surface Condition</th>\n",
       "      <th>Surface Width</th>\n",
       "      <th>Weather Condition</th>\n",
       "      <th>Crash Severity</th>\n",
       "      <th>Bridge Detail_CRASH INVOLVED UNDERPASS</th>\n",
       "      <th>Bridge Detail_NOT APPLICABLE</th>\n",
       "      <th>...</th>\n",
       "      <th>Manner of Collision_SAME DIRECTION - ONE STRAIGHT-ONE RIGHT TURN</th>\n",
       "      <th>Manner of Collision_SAME DIRECTION - ONE STRAIGHT-ONE STOPPED</th>\n",
       "      <th>Number of Entering Roads_2 - THREE ENTERING ROADS - T</th>\n",
       "      <th>Number of Entering Roads_3 - THREE ENTERING ROADS - Y</th>\n",
       "      <th>Number of Entering Roads_4 - FOUR ENTERING ROADS</th>\n",
       "      <th>Number of Entering Roads_5 - FIVE ENTERING ROADS</th>\n",
       "      <th>Number of Entering Roads_6 - SIX ENTERING ROADS</th>\n",
       "      <th>Number of Entering Roads_8 - CLOVERLEAF</th>\n",
       "      <th>Number of Entering Roads_97 - NOT APPLICABLE</th>\n",
       "      <th>Number of Entering Roads_98 - OTHER (EXPLAIN IN NARRATIVE)</th>\n",
       "    </tr>\n",
       "  </thead>\n",
       "  <tbody>\n",
       "    <tr>\n",
       "      <th>401</th>\n",
       "      <td>1</td>\n",
       "      <td>1</td>\n",
       "      <td>1</td>\n",
       "      <td>8</td>\n",
       "      <td>99 - UNKNOWN</td>\n",
       "      <td>96</td>\n",
       "      <td>1 - CLEAR</td>\n",
       "      <td>Not serious</td>\n",
       "      <td>0</td>\n",
       "      <td>1</td>\n",
       "      <td>...</td>\n",
       "      <td>0</td>\n",
       "      <td>1</td>\n",
       "      <td>0</td>\n",
       "      <td>0</td>\n",
       "      <td>0</td>\n",
       "      <td>0</td>\n",
       "      <td>0</td>\n",
       "      <td>0</td>\n",
       "      <td>1</td>\n",
       "      <td>0</td>\n",
       "    </tr>\n",
       "    <tr>\n",
       "      <th>1650</th>\n",
       "      <td>1</td>\n",
       "      <td>1</td>\n",
       "      <td>1</td>\n",
       "      <td>8</td>\n",
       "      <td>99 - UNKNOWN</td>\n",
       "      <td>96</td>\n",
       "      <td>1 - CLEAR</td>\n",
       "      <td>Not serious</td>\n",
       "      <td>0</td>\n",
       "      <td>1</td>\n",
       "      <td>...</td>\n",
       "      <td>0</td>\n",
       "      <td>0</td>\n",
       "      <td>0</td>\n",
       "      <td>0</td>\n",
       "      <td>0</td>\n",
       "      <td>0</td>\n",
       "      <td>0</td>\n",
       "      <td>0</td>\n",
       "      <td>1</td>\n",
       "      <td>0</td>\n",
       "    </tr>\n",
       "    <tr>\n",
       "      <th>1949</th>\n",
       "      <td>1</td>\n",
       "      <td>1</td>\n",
       "      <td>1</td>\n",
       "      <td>8</td>\n",
       "      <td>99 - UNKNOWN</td>\n",
       "      <td>96</td>\n",
       "      <td>99 - UNKNOWN</td>\n",
       "      <td>Not serious</td>\n",
       "      <td>0</td>\n",
       "      <td>1</td>\n",
       "      <td>...</td>\n",
       "      <td>0</td>\n",
       "      <td>0</td>\n",
       "      <td>0</td>\n",
       "      <td>0</td>\n",
       "      <td>0</td>\n",
       "      <td>0</td>\n",
       "      <td>0</td>\n",
       "      <td>0</td>\n",
       "      <td>1</td>\n",
       "      <td>0</td>\n",
       "    </tr>\n",
       "  </tbody>\n",
       "</table>\n",
       "<p>3 rows × 52 columns</p>\n",
       "</div>"
      ],
      "text/plain": [
       "      $1000 Damage to Any One Person's Property  Construction Zone Flag  \\\n",
       "401                                           1                       1   \n",
       "1650                                          1                       1   \n",
       "1949                                          1                       1   \n",
       "\n",
       "      Construction Zone Workers Present Flag  Number of Lanes  \\\n",
       "401                                        1                8   \n",
       "1650                                       1                8   \n",
       "1949                                       1                8   \n",
       "\n",
       "     Surface Condition Surface Width Weather Condition Crash Severity  \\\n",
       "401       99 - UNKNOWN            96         1 - CLEAR    Not serious   \n",
       "1650      99 - UNKNOWN            96         1 - CLEAR    Not serious   \n",
       "1949      99 - UNKNOWN            96      99 - UNKNOWN    Not serious   \n",
       "\n",
       "      Bridge Detail_CRASH INVOLVED UNDERPASS  Bridge Detail_NOT APPLICABLE  \\\n",
       "401                                        0                             1   \n",
       "1650                                       0                             1   \n",
       "1949                                       0                             1   \n",
       "\n",
       "      ...  Manner of Collision_SAME DIRECTION - ONE STRAIGHT-ONE RIGHT TURN  \\\n",
       "401   ...                                                  0                  \n",
       "1650  ...                                                  0                  \n",
       "1949  ...                                                  0                  \n",
       "\n",
       "      Manner of Collision_SAME DIRECTION - ONE STRAIGHT-ONE STOPPED  \\\n",
       "401                                                   1               \n",
       "1650                                                  0               \n",
       "1949                                                  0               \n",
       "\n",
       "      Number of Entering Roads_2 - THREE ENTERING ROADS - T  \\\n",
       "401                                                   0       \n",
       "1650                                                  0       \n",
       "1949                                                  0       \n",
       "\n",
       "      Number of Entering Roads_3 - THREE ENTERING ROADS - Y  \\\n",
       "401                                                   0       \n",
       "1650                                                  0       \n",
       "1949                                                  0       \n",
       "\n",
       "      Number of Entering Roads_4 - FOUR ENTERING ROADS  \\\n",
       "401                                                  0   \n",
       "1650                                                 0   \n",
       "1949                                                 0   \n",
       "\n",
       "      Number of Entering Roads_5 - FIVE ENTERING ROADS  \\\n",
       "401                                                  0   \n",
       "1650                                                 0   \n",
       "1949                                                 0   \n",
       "\n",
       "      Number of Entering Roads_6 - SIX ENTERING ROADS  \\\n",
       "401                                                 0   \n",
       "1650                                                0   \n",
       "1949                                                0   \n",
       "\n",
       "      Number of Entering Roads_8 - CLOVERLEAF  \\\n",
       "401                                         0   \n",
       "1650                                        0   \n",
       "1949                                        0   \n",
       "\n",
       "      Number of Entering Roads_97 - NOT APPLICABLE  \\\n",
       "401                                              1   \n",
       "1650                                             1   \n",
       "1949                                             1   \n",
       "\n",
       "      Number of Entering Roads_98 - OTHER (EXPLAIN IN NARRATIVE)  \n",
       "401                                                   0           \n",
       "1650                                                  0           \n",
       "1949                                                  0           \n",
       "\n",
       "[3 rows x 52 columns]"
      ]
     },
     "execution_count": 130,
     "metadata": {},
     "output_type": "execute_result"
    }
   ],
   "source": [
    "df_train[df_train['Surface Condition']=='99 - UNKNOWN']"
   ]
  },
  {
   "cell_type": "code",
   "execution_count": 131,
   "metadata": {},
   "outputs": [],
   "source": [
    "df_train.drop(df_train[(df_train['Surface Condition'] == '99 - UNKNOWN') & (df_train['Weather Condition'] == '99 - UNKNOWN')].index, inplace=True)"
   ]
  },
  {
   "cell_type": "code",
   "execution_count": 132,
   "metadata": {},
   "outputs": [
    {
     "data": {
      "text/html": [
       "<div>\n",
       "<style scoped>\n",
       "    .dataframe tbody tr th:only-of-type {\n",
       "        vertical-align: middle;\n",
       "    }\n",
       "\n",
       "    .dataframe tbody tr th {\n",
       "        vertical-align: top;\n",
       "    }\n",
       "\n",
       "    .dataframe thead th {\n",
       "        text-align: right;\n",
       "    }\n",
       "</style>\n",
       "<table border=\"1\" class=\"dataframe\">\n",
       "  <thead>\n",
       "    <tr style=\"text-align: right;\">\n",
       "      <th></th>\n",
       "      <th>$1000 Damage to Any One Person's Property</th>\n",
       "      <th>Construction Zone Flag</th>\n",
       "      <th>Construction Zone Workers Present Flag</th>\n",
       "      <th>Number of Lanes</th>\n",
       "      <th>Surface Condition</th>\n",
       "      <th>Surface Width</th>\n",
       "      <th>Weather Condition</th>\n",
       "      <th>Crash Severity</th>\n",
       "      <th>Bridge Detail_CRASH INVOLVED UNDERPASS</th>\n",
       "      <th>Bridge Detail_NOT APPLICABLE</th>\n",
       "      <th>...</th>\n",
       "      <th>Manner of Collision_SAME DIRECTION - ONE STRAIGHT-ONE RIGHT TURN</th>\n",
       "      <th>Manner of Collision_SAME DIRECTION - ONE STRAIGHT-ONE STOPPED</th>\n",
       "      <th>Number of Entering Roads_2 - THREE ENTERING ROADS - T</th>\n",
       "      <th>Number of Entering Roads_3 - THREE ENTERING ROADS - Y</th>\n",
       "      <th>Number of Entering Roads_4 - FOUR ENTERING ROADS</th>\n",
       "      <th>Number of Entering Roads_5 - FIVE ENTERING ROADS</th>\n",
       "      <th>Number of Entering Roads_6 - SIX ENTERING ROADS</th>\n",
       "      <th>Number of Entering Roads_8 - CLOVERLEAF</th>\n",
       "      <th>Number of Entering Roads_97 - NOT APPLICABLE</th>\n",
       "      <th>Number of Entering Roads_98 - OTHER (EXPLAIN IN NARRATIVE)</th>\n",
       "    </tr>\n",
       "  </thead>\n",
       "  <tbody>\n",
       "    <tr>\n",
       "      <th>401</th>\n",
       "      <td>1</td>\n",
       "      <td>1</td>\n",
       "      <td>1</td>\n",
       "      <td>8</td>\n",
       "      <td>99 - UNKNOWN</td>\n",
       "      <td>96</td>\n",
       "      <td>1 - CLEAR</td>\n",
       "      <td>Not serious</td>\n",
       "      <td>0</td>\n",
       "      <td>1</td>\n",
       "      <td>...</td>\n",
       "      <td>0</td>\n",
       "      <td>1</td>\n",
       "      <td>0</td>\n",
       "      <td>0</td>\n",
       "      <td>0</td>\n",
       "      <td>0</td>\n",
       "      <td>0</td>\n",
       "      <td>0</td>\n",
       "      <td>1</td>\n",
       "      <td>0</td>\n",
       "    </tr>\n",
       "    <tr>\n",
       "      <th>813</th>\n",
       "      <td>1</td>\n",
       "      <td>1</td>\n",
       "      <td>1</td>\n",
       "      <td>6</td>\n",
       "      <td>98 - OTHER (EXPLAIN IN NARRATIVE)</td>\n",
       "      <td>72</td>\n",
       "      <td>1 - CLEAR</td>\n",
       "      <td>Not serious</td>\n",
       "      <td>0</td>\n",
       "      <td>1</td>\n",
       "      <td>...</td>\n",
       "      <td>0</td>\n",
       "      <td>0</td>\n",
       "      <td>0</td>\n",
       "      <td>0</td>\n",
       "      <td>0</td>\n",
       "      <td>0</td>\n",
       "      <td>0</td>\n",
       "      <td>0</td>\n",
       "      <td>1</td>\n",
       "      <td>0</td>\n",
       "    </tr>\n",
       "    <tr>\n",
       "      <th>1426</th>\n",
       "      <td>1</td>\n",
       "      <td>1</td>\n",
       "      <td>1</td>\n",
       "      <td>8</td>\n",
       "      <td>98 - OTHER (EXPLAIN IN NARRATIVE)</td>\n",
       "      <td>96</td>\n",
       "      <td>1 - CLEAR</td>\n",
       "      <td>Not serious</td>\n",
       "      <td>0</td>\n",
       "      <td>1</td>\n",
       "      <td>...</td>\n",
       "      <td>0</td>\n",
       "      <td>1</td>\n",
       "      <td>0</td>\n",
       "      <td>0</td>\n",
       "      <td>0</td>\n",
       "      <td>0</td>\n",
       "      <td>0</td>\n",
       "      <td>0</td>\n",
       "      <td>1</td>\n",
       "      <td>0</td>\n",
       "    </tr>\n",
       "    <tr>\n",
       "      <th>1650</th>\n",
       "      <td>1</td>\n",
       "      <td>1</td>\n",
       "      <td>1</td>\n",
       "      <td>8</td>\n",
       "      <td>99 - UNKNOWN</td>\n",
       "      <td>96</td>\n",
       "      <td>1 - CLEAR</td>\n",
       "      <td>Not serious</td>\n",
       "      <td>0</td>\n",
       "      <td>1</td>\n",
       "      <td>...</td>\n",
       "      <td>0</td>\n",
       "      <td>0</td>\n",
       "      <td>0</td>\n",
       "      <td>0</td>\n",
       "      <td>0</td>\n",
       "      <td>0</td>\n",
       "      <td>0</td>\n",
       "      <td>0</td>\n",
       "      <td>1</td>\n",
       "      <td>0</td>\n",
       "    </tr>\n",
       "  </tbody>\n",
       "</table>\n",
       "<p>4 rows × 52 columns</p>\n",
       "</div>"
      ],
      "text/plain": [
       "      $1000 Damage to Any One Person's Property  Construction Zone Flag  \\\n",
       "401                                           1                       1   \n",
       "813                                           1                       1   \n",
       "1426                                          1                       1   \n",
       "1650                                          1                       1   \n",
       "\n",
       "      Construction Zone Workers Present Flag  Number of Lanes  \\\n",
       "401                                        1                8   \n",
       "813                                        1                6   \n",
       "1426                                       1                8   \n",
       "1650                                       1                8   \n",
       "\n",
       "                      Surface Condition Surface Width Weather Condition  \\\n",
       "401                        99 - UNKNOWN            96         1 - CLEAR   \n",
       "813   98 - OTHER (EXPLAIN IN NARRATIVE)            72         1 - CLEAR   \n",
       "1426  98 - OTHER (EXPLAIN IN NARRATIVE)            96         1 - CLEAR   \n",
       "1650                       99 - UNKNOWN            96         1 - CLEAR   \n",
       "\n",
       "     Crash Severity  Bridge Detail_CRASH INVOLVED UNDERPASS  \\\n",
       "401     Not serious                                       0   \n",
       "813     Not serious                                       0   \n",
       "1426    Not serious                                       0   \n",
       "1650    Not serious                                       0   \n",
       "\n",
       "      Bridge Detail_NOT APPLICABLE  ...  \\\n",
       "401                              1  ...   \n",
       "813                              1  ...   \n",
       "1426                             1  ...   \n",
       "1650                             1  ...   \n",
       "\n",
       "      Manner of Collision_SAME DIRECTION - ONE STRAIGHT-ONE RIGHT TURN  \\\n",
       "401                                                   0                  \n",
       "813                                                   0                  \n",
       "1426                                                  0                  \n",
       "1650                                                  0                  \n",
       "\n",
       "      Manner of Collision_SAME DIRECTION - ONE STRAIGHT-ONE STOPPED  \\\n",
       "401                                                   1               \n",
       "813                                                   0               \n",
       "1426                                                  1               \n",
       "1650                                                  0               \n",
       "\n",
       "      Number of Entering Roads_2 - THREE ENTERING ROADS - T  \\\n",
       "401                                                   0       \n",
       "813                                                   0       \n",
       "1426                                                  0       \n",
       "1650                                                  0       \n",
       "\n",
       "      Number of Entering Roads_3 - THREE ENTERING ROADS - Y  \\\n",
       "401                                                   0       \n",
       "813                                                   0       \n",
       "1426                                                  0       \n",
       "1650                                                  0       \n",
       "\n",
       "      Number of Entering Roads_4 - FOUR ENTERING ROADS  \\\n",
       "401                                                  0   \n",
       "813                                                  0   \n",
       "1426                                                 0   \n",
       "1650                                                 0   \n",
       "\n",
       "      Number of Entering Roads_5 - FIVE ENTERING ROADS  \\\n",
       "401                                                  0   \n",
       "813                                                  0   \n",
       "1426                                                 0   \n",
       "1650                                                 0   \n",
       "\n",
       "      Number of Entering Roads_6 - SIX ENTERING ROADS  \\\n",
       "401                                                 0   \n",
       "813                                                 0   \n",
       "1426                                                0   \n",
       "1650                                                0   \n",
       "\n",
       "      Number of Entering Roads_8 - CLOVERLEAF  \\\n",
       "401                                         0   \n",
       "813                                         0   \n",
       "1426                                        0   \n",
       "1650                                        0   \n",
       "\n",
       "      Number of Entering Roads_97 - NOT APPLICABLE  \\\n",
       "401                                              1   \n",
       "813                                              1   \n",
       "1426                                             1   \n",
       "1650                                             1   \n",
       "\n",
       "      Number of Entering Roads_98 - OTHER (EXPLAIN IN NARRATIVE)  \n",
       "401                                                   0           \n",
       "813                                                   0           \n",
       "1426                                                  0           \n",
       "1650                                                  0           \n",
       "\n",
       "[4 rows x 52 columns]"
      ]
     },
     "execution_count": 132,
     "metadata": {},
     "output_type": "execute_result"
    }
   ],
   "source": [
    "df_train[(df_train['Surface Condition']=='98 - OTHER (EXPLAIN IN NARRATIVE)') | (df_train['Surface Condition']=='99 - UNKNOWN')]"
   ]
  },
  {
   "cell_type": "code",
   "execution_count": 133,
   "metadata": {},
   "outputs": [
    {
     "data": {
      "text/html": [
       "<div>\n",
       "<style scoped>\n",
       "    .dataframe tbody tr th:only-of-type {\n",
       "        vertical-align: middle;\n",
       "    }\n",
       "\n",
       "    .dataframe tbody tr th {\n",
       "        vertical-align: top;\n",
       "    }\n",
       "\n",
       "    .dataframe thead th {\n",
       "        text-align: right;\n",
       "    }\n",
       "</style>\n",
       "<table border=\"1\" class=\"dataframe\">\n",
       "  <thead>\n",
       "    <tr style=\"text-align: right;\">\n",
       "      <th></th>\n",
       "      <th>$1000 Damage to Any One Person's Property</th>\n",
       "      <th>Construction Zone Flag</th>\n",
       "      <th>Construction Zone Workers Present Flag</th>\n",
       "      <th>Number of Lanes</th>\n",
       "      <th>Surface Condition</th>\n",
       "      <th>Surface Width</th>\n",
       "      <th>Crash Severity</th>\n",
       "      <th>Bridge Detail_CRASH INVOLVED UNDERPASS</th>\n",
       "      <th>Bridge Detail_NOT APPLICABLE</th>\n",
       "      <th>Bridge Detail_STRUCTURE NOT HIT</th>\n",
       "      <th>...</th>\n",
       "      <th>Manner of Collision_SAME DIRECTION - ONE STRAIGHT-ONE RIGHT TURN</th>\n",
       "      <th>Manner of Collision_SAME DIRECTION - ONE STRAIGHT-ONE STOPPED</th>\n",
       "      <th>Number of Entering Roads_2 - THREE ENTERING ROADS - T</th>\n",
       "      <th>Number of Entering Roads_3 - THREE ENTERING ROADS - Y</th>\n",
       "      <th>Number of Entering Roads_4 - FOUR ENTERING ROADS</th>\n",
       "      <th>Number of Entering Roads_5 - FIVE ENTERING ROADS</th>\n",
       "      <th>Number of Entering Roads_6 - SIX ENTERING ROADS</th>\n",
       "      <th>Number of Entering Roads_8 - CLOVERLEAF</th>\n",
       "      <th>Number of Entering Roads_97 - NOT APPLICABLE</th>\n",
       "      <th>Number of Entering Roads_98 - OTHER (EXPLAIN IN NARRATIVE)</th>\n",
       "    </tr>\n",
       "    <tr>\n",
       "      <th>Weather Condition</th>\n",
       "      <th></th>\n",
       "      <th></th>\n",
       "      <th></th>\n",
       "      <th></th>\n",
       "      <th></th>\n",
       "      <th></th>\n",
       "      <th></th>\n",
       "      <th></th>\n",
       "      <th></th>\n",
       "      <th></th>\n",
       "      <th></th>\n",
       "      <th></th>\n",
       "      <th></th>\n",
       "      <th></th>\n",
       "      <th></th>\n",
       "      <th></th>\n",
       "      <th></th>\n",
       "      <th></th>\n",
       "      <th></th>\n",
       "      <th></th>\n",
       "      <th></th>\n",
       "    </tr>\n",
       "  </thead>\n",
       "  <tbody>\n",
       "    <tr>\n",
       "      <th>1 - CLEAR</th>\n",
       "      <td>1</td>\n",
       "      <td>1</td>\n",
       "      <td>1</td>\n",
       "      <td>8</td>\n",
       "      <td>1 - DRY</td>\n",
       "      <td>96</td>\n",
       "      <td>Not serious</td>\n",
       "      <td>0</td>\n",
       "      <td>1</td>\n",
       "      <td>0</td>\n",
       "      <td>...</td>\n",
       "      <td>0</td>\n",
       "      <td>0</td>\n",
       "      <td>0</td>\n",
       "      <td>0</td>\n",
       "      <td>0</td>\n",
       "      <td>0</td>\n",
       "      <td>0</td>\n",
       "      <td>0</td>\n",
       "      <td>1</td>\n",
       "      <td>0</td>\n",
       "    </tr>\n",
       "    <tr>\n",
       "      <th>2 - CLOUDY</th>\n",
       "      <td>1</td>\n",
       "      <td>1</td>\n",
       "      <td>1</td>\n",
       "      <td>8</td>\n",
       "      <td>1 - DRY</td>\n",
       "      <td>96</td>\n",
       "      <td>Not serious</td>\n",
       "      <td>0</td>\n",
       "      <td>1</td>\n",
       "      <td>0</td>\n",
       "      <td>...</td>\n",
       "      <td>0</td>\n",
       "      <td>0</td>\n",
       "      <td>0</td>\n",
       "      <td>0</td>\n",
       "      <td>0</td>\n",
       "      <td>0</td>\n",
       "      <td>0</td>\n",
       "      <td>0</td>\n",
       "      <td>1</td>\n",
       "      <td>0</td>\n",
       "    </tr>\n",
       "    <tr>\n",
       "      <th>3 - RAIN</th>\n",
       "      <td>1</td>\n",
       "      <td>1</td>\n",
       "      <td>1</td>\n",
       "      <td>8</td>\n",
       "      <td>2 - WET</td>\n",
       "      <td>96</td>\n",
       "      <td>Not serious</td>\n",
       "      <td>0</td>\n",
       "      <td>1</td>\n",
       "      <td>0</td>\n",
       "      <td>...</td>\n",
       "      <td>0</td>\n",
       "      <td>0</td>\n",
       "      <td>0</td>\n",
       "      <td>0</td>\n",
       "      <td>0</td>\n",
       "      <td>0</td>\n",
       "      <td>0</td>\n",
       "      <td>0</td>\n",
       "      <td>1</td>\n",
       "      <td>0</td>\n",
       "    </tr>\n",
       "    <tr>\n",
       "      <th>4 - SLEET/HAIL</th>\n",
       "      <td>1</td>\n",
       "      <td>1</td>\n",
       "      <td>1</td>\n",
       "      <td>8</td>\n",
       "      <td>6 - ICE</td>\n",
       "      <td>96</td>\n",
       "      <td>Not serious</td>\n",
       "      <td>0</td>\n",
       "      <td>1</td>\n",
       "      <td>0</td>\n",
       "      <td>...</td>\n",
       "      <td>0</td>\n",
       "      <td>0</td>\n",
       "      <td>0</td>\n",
       "      <td>0</td>\n",
       "      <td>0</td>\n",
       "      <td>0</td>\n",
       "      <td>0</td>\n",
       "      <td>0</td>\n",
       "      <td>1</td>\n",
       "      <td>0</td>\n",
       "    </tr>\n",
       "    <tr>\n",
       "      <th>5 - SNOW</th>\n",
       "      <td>1</td>\n",
       "      <td>1</td>\n",
       "      <td>1</td>\n",
       "      <td>8</td>\n",
       "      <td>6 - ICE</td>\n",
       "      <td>No Data</td>\n",
       "      <td>Not serious</td>\n",
       "      <td>0</td>\n",
       "      <td>1</td>\n",
       "      <td>0</td>\n",
       "      <td>...</td>\n",
       "      <td>0</td>\n",
       "      <td>1</td>\n",
       "      <td>0</td>\n",
       "      <td>0</td>\n",
       "      <td>0</td>\n",
       "      <td>0</td>\n",
       "      <td>0</td>\n",
       "      <td>0</td>\n",
       "      <td>1</td>\n",
       "      <td>0</td>\n",
       "    </tr>\n",
       "    <tr>\n",
       "      <th>6 - FOG</th>\n",
       "      <td>1</td>\n",
       "      <td>1</td>\n",
       "      <td>1</td>\n",
       "      <td>6</td>\n",
       "      <td>1 - DRY</td>\n",
       "      <td>72</td>\n",
       "      <td>Not serious</td>\n",
       "      <td>0</td>\n",
       "      <td>1</td>\n",
       "      <td>0</td>\n",
       "      <td>...</td>\n",
       "      <td>0</td>\n",
       "      <td>0</td>\n",
       "      <td>0</td>\n",
       "      <td>0</td>\n",
       "      <td>0</td>\n",
       "      <td>0</td>\n",
       "      <td>0</td>\n",
       "      <td>0</td>\n",
       "      <td>1</td>\n",
       "      <td>0</td>\n",
       "    </tr>\n",
       "    <tr>\n",
       "      <th>98 - OTHER (EXPLAIN IN NARRATIVE)</th>\n",
       "      <td>1</td>\n",
       "      <td>1</td>\n",
       "      <td>1</td>\n",
       "      <td>8</td>\n",
       "      <td>2 - WET</td>\n",
       "      <td>96</td>\n",
       "      <td>Not serious</td>\n",
       "      <td>0</td>\n",
       "      <td>1</td>\n",
       "      <td>0</td>\n",
       "      <td>...</td>\n",
       "      <td>1</td>\n",
       "      <td>0</td>\n",
       "      <td>0</td>\n",
       "      <td>0</td>\n",
       "      <td>1</td>\n",
       "      <td>0</td>\n",
       "      <td>0</td>\n",
       "      <td>0</td>\n",
       "      <td>0</td>\n",
       "      <td>0</td>\n",
       "    </tr>\n",
       "  </tbody>\n",
       "</table>\n",
       "<p>7 rows × 51 columns</p>\n",
       "</div>"
      ],
      "text/plain": [
       "                                   $1000 Damage to Any One Person's Property  \\\n",
       "Weather Condition                                                              \n",
       "1 - CLEAR                                                                  1   \n",
       "2 - CLOUDY                                                                 1   \n",
       "3 - RAIN                                                                   1   \n",
       "4 - SLEET/HAIL                                                             1   \n",
       "5 - SNOW                                                                   1   \n",
       "6 - FOG                                                                    1   \n",
       "98 - OTHER (EXPLAIN IN NARRATIVE)                                          1   \n",
       "\n",
       "                                   Construction Zone Flag  \\\n",
       "Weather Condition                                           \n",
       "1 - CLEAR                                               1   \n",
       "2 - CLOUDY                                              1   \n",
       "3 - RAIN                                                1   \n",
       "4 - SLEET/HAIL                                          1   \n",
       "5 - SNOW                                                1   \n",
       "6 - FOG                                                 1   \n",
       "98 - OTHER (EXPLAIN IN NARRATIVE)                       1   \n",
       "\n",
       "                                   Construction Zone Workers Present Flag  \\\n",
       "Weather Condition                                                           \n",
       "1 - CLEAR                                                               1   \n",
       "2 - CLOUDY                                                              1   \n",
       "3 - RAIN                                                                1   \n",
       "4 - SLEET/HAIL                                                          1   \n",
       "5 - SNOW                                                                1   \n",
       "6 - FOG                                                                 1   \n",
       "98 - OTHER (EXPLAIN IN NARRATIVE)                                       1   \n",
       "\n",
       "                                   Number of Lanes Surface Condition  \\\n",
       "Weather Condition                                                      \n",
       "1 - CLEAR                                        8           1 - DRY   \n",
       "2 - CLOUDY                                       8           1 - DRY   \n",
       "3 - RAIN                                         8           2 - WET   \n",
       "4 - SLEET/HAIL                                   8           6 - ICE   \n",
       "5 - SNOW                                         8           6 - ICE   \n",
       "6 - FOG                                          6           1 - DRY   \n",
       "98 - OTHER (EXPLAIN IN NARRATIVE)                8           2 - WET   \n",
       "\n",
       "                                  Surface Width Crash Severity  \\\n",
       "Weather Condition                                                \n",
       "1 - CLEAR                                    96    Not serious   \n",
       "2 - CLOUDY                                   96    Not serious   \n",
       "3 - RAIN                                     96    Not serious   \n",
       "4 - SLEET/HAIL                               96    Not serious   \n",
       "5 - SNOW                                No Data    Not serious   \n",
       "6 - FOG                                      72    Not serious   \n",
       "98 - OTHER (EXPLAIN IN NARRATIVE)            96    Not serious   \n",
       "\n",
       "                                   Bridge Detail_CRASH INVOLVED UNDERPASS  \\\n",
       "Weather Condition                                                           \n",
       "1 - CLEAR                                                               0   \n",
       "2 - CLOUDY                                                              0   \n",
       "3 - RAIN                                                                0   \n",
       "4 - SLEET/HAIL                                                          0   \n",
       "5 - SNOW                                                                0   \n",
       "6 - FOG                                                                 0   \n",
       "98 - OTHER (EXPLAIN IN NARRATIVE)                                       0   \n",
       "\n",
       "                                   Bridge Detail_NOT APPLICABLE  \\\n",
       "Weather Condition                                                 \n",
       "1 - CLEAR                                                     1   \n",
       "2 - CLOUDY                                                    1   \n",
       "3 - RAIN                                                      1   \n",
       "4 - SLEET/HAIL                                                1   \n",
       "5 - SNOW                                                      1   \n",
       "6 - FOG                                                       1   \n",
       "98 - OTHER (EXPLAIN IN NARRATIVE)                             1   \n",
       "\n",
       "                                   Bridge Detail_STRUCTURE NOT HIT  ...  \\\n",
       "Weather Condition                                                   ...   \n",
       "1 - CLEAR                                                        0  ...   \n",
       "2 - CLOUDY                                                       0  ...   \n",
       "3 - RAIN                                                         0  ...   \n",
       "4 - SLEET/HAIL                                                   0  ...   \n",
       "5 - SNOW                                                         0  ...   \n",
       "6 - FOG                                                          0  ...   \n",
       "98 - OTHER (EXPLAIN IN NARRATIVE)                                0  ...   \n",
       "\n",
       "                                   Manner of Collision_SAME DIRECTION - ONE STRAIGHT-ONE RIGHT TURN  \\\n",
       "Weather Condition                                                                                     \n",
       "1 - CLEAR                                                                          0                  \n",
       "2 - CLOUDY                                                                         0                  \n",
       "3 - RAIN                                                                           0                  \n",
       "4 - SLEET/HAIL                                                                     0                  \n",
       "5 - SNOW                                                                           0                  \n",
       "6 - FOG                                                                            0                  \n",
       "98 - OTHER (EXPLAIN IN NARRATIVE)                                                  1                  \n",
       "\n",
       "                                   Manner of Collision_SAME DIRECTION - ONE STRAIGHT-ONE STOPPED  \\\n",
       "Weather Condition                                                                                  \n",
       "1 - CLEAR                                                                          0               \n",
       "2 - CLOUDY                                                                         0               \n",
       "3 - RAIN                                                                           0               \n",
       "4 - SLEET/HAIL                                                                     0               \n",
       "5 - SNOW                                                                           1               \n",
       "6 - FOG                                                                            0               \n",
       "98 - OTHER (EXPLAIN IN NARRATIVE)                                                  0               \n",
       "\n",
       "                                   Number of Entering Roads_2 - THREE ENTERING ROADS - T  \\\n",
       "Weather Condition                                                                          \n",
       "1 - CLEAR                                                                          0       \n",
       "2 - CLOUDY                                                                         0       \n",
       "3 - RAIN                                                                           0       \n",
       "4 - SLEET/HAIL                                                                     0       \n",
       "5 - SNOW                                                                           0       \n",
       "6 - FOG                                                                            0       \n",
       "98 - OTHER (EXPLAIN IN NARRATIVE)                                                  0       \n",
       "\n",
       "                                   Number of Entering Roads_3 - THREE ENTERING ROADS - Y  \\\n",
       "Weather Condition                                                                          \n",
       "1 - CLEAR                                                                          0       \n",
       "2 - CLOUDY                                                                         0       \n",
       "3 - RAIN                                                                           0       \n",
       "4 - SLEET/HAIL                                                                     0       \n",
       "5 - SNOW                                                                           0       \n",
       "6 - FOG                                                                            0       \n",
       "98 - OTHER (EXPLAIN IN NARRATIVE)                                                  0       \n",
       "\n",
       "                                   Number of Entering Roads_4 - FOUR ENTERING ROADS  \\\n",
       "Weather Condition                                                                     \n",
       "1 - CLEAR                                                                         0   \n",
       "2 - CLOUDY                                                                        0   \n",
       "3 - RAIN                                                                          0   \n",
       "4 - SLEET/HAIL                                                                    0   \n",
       "5 - SNOW                                                                          0   \n",
       "6 - FOG                                                                           0   \n",
       "98 - OTHER (EXPLAIN IN NARRATIVE)                                                 1   \n",
       "\n",
       "                                   Number of Entering Roads_5 - FIVE ENTERING ROADS  \\\n",
       "Weather Condition                                                                     \n",
       "1 - CLEAR                                                                         0   \n",
       "2 - CLOUDY                                                                        0   \n",
       "3 - RAIN                                                                          0   \n",
       "4 - SLEET/HAIL                                                                    0   \n",
       "5 - SNOW                                                                          0   \n",
       "6 - FOG                                                                           0   \n",
       "98 - OTHER (EXPLAIN IN NARRATIVE)                                                 0   \n",
       "\n",
       "                                   Number of Entering Roads_6 - SIX ENTERING ROADS  \\\n",
       "Weather Condition                                                                    \n",
       "1 - CLEAR                                                                        0   \n",
       "2 - CLOUDY                                                                       0   \n",
       "3 - RAIN                                                                         0   \n",
       "4 - SLEET/HAIL                                                                   0   \n",
       "5 - SNOW                                                                         0   \n",
       "6 - FOG                                                                          0   \n",
       "98 - OTHER (EXPLAIN IN NARRATIVE)                                                0   \n",
       "\n",
       "                                   Number of Entering Roads_8 - CLOVERLEAF  \\\n",
       "Weather Condition                                                            \n",
       "1 - CLEAR                                                                0   \n",
       "2 - CLOUDY                                                               0   \n",
       "3 - RAIN                                                                 0   \n",
       "4 - SLEET/HAIL                                                           0   \n",
       "5 - SNOW                                                                 0   \n",
       "6 - FOG                                                                  0   \n",
       "98 - OTHER (EXPLAIN IN NARRATIVE)                                        0   \n",
       "\n",
       "                                   Number of Entering Roads_97 - NOT APPLICABLE  \\\n",
       "Weather Condition                                                                 \n",
       "1 - CLEAR                                                                     1   \n",
       "2 - CLOUDY                                                                    1   \n",
       "3 - RAIN                                                                      1   \n",
       "4 - SLEET/HAIL                                                                1   \n",
       "5 - SNOW                                                                      1   \n",
       "6 - FOG                                                                       1   \n",
       "98 - OTHER (EXPLAIN IN NARRATIVE)                                             0   \n",
       "\n",
       "                                   Number of Entering Roads_98 - OTHER (EXPLAIN IN NARRATIVE)  \n",
       "Weather Condition                                                                              \n",
       "1 - CLEAR                                                                          0           \n",
       "2 - CLOUDY                                                                         0           \n",
       "3 - RAIN                                                                           0           \n",
       "4 - SLEET/HAIL                                                                     0           \n",
       "5 - SNOW                                                                           0           \n",
       "6 - FOG                                                                            0           \n",
       "98 - OTHER (EXPLAIN IN NARRATIVE)                                                  0           \n",
       "\n",
       "[7 rows x 51 columns]"
      ]
     },
     "execution_count": 133,
     "metadata": {},
     "output_type": "execute_result"
    }
   ],
   "source": [
    "# Finding the most common surface condition based on weather condition for imputation\n",
    "df_train.groupby(['Weather Condition']).agg(lambda x:x.value_counts().index[0])"
   ]
  },
  {
   "cell_type": "code",
   "execution_count": 134,
   "metadata": {},
   "outputs": [],
   "source": [
    "# Dry is found to be the frequently occuring surface condition for weather condition as clear which is used for imputation\n",
    "df_train['Surface Condition'].replace('98 - OTHER (EXPLAIN IN NARRATIVE)', '1 - DRY', inplace=True)\n",
    "df_train['Surface Condition'].replace('99 - UNKNOWN', '1 - DRY', inplace=True)"
   ]
  },
  {
   "cell_type": "code",
   "execution_count": 135,
   "metadata": {
    "scrolled": true
   },
   "outputs": [
    {
     "data": {
      "text/plain": [
       "1 - DRY                2028\n",
       "2 - WET                 246\n",
       "3 - STANDING WATER       14\n",
       "6 - ICE                   5\n",
       "7 - SAND, MUD, DIRT       1\n",
       "Name: Surface Condition, dtype: int64"
      ]
     },
     "execution_count": 135,
     "metadata": {},
     "output_type": "execute_result"
    }
   ],
   "source": [
    "# We will convert Surface Condition into dummies post Weather Condition comparison\n",
    "df_train['Surface Condition'].value_counts(dropna = False)"
   ]
  },
  {
   "cell_type": "markdown",
   "metadata": {},
   "source": [
    "### Feature: Surface Width\n"
   ]
  },
  {
   "cell_type": "code",
   "execution_count": 136,
   "metadata": {
    "scrolled": false
   },
   "outputs": [
    {
     "data": {
      "text/plain": [
       "96         1233\n",
       "72          541\n",
       "No Data     520\n",
       "Name: Surface Width, dtype: int64"
      ]
     },
     "execution_count": 136,
     "metadata": {},
     "output_type": "execute_result"
    }
   ],
   "source": [
    "df_train['Surface Width'].value_counts(dropna = False)"
   ]
  },
  {
   "cell_type": "code",
   "execution_count": 137,
   "metadata": {},
   "outputs": [
    {
     "data": {
      "text/plain": [
       "'96'"
      ]
     },
     "execution_count": 137,
     "metadata": {},
     "output_type": "execute_result"
    }
   ],
   "source": [
    "df_train['Surface Width'].mode()[0]"
   ]
  },
  {
   "cell_type": "code",
   "execution_count": 138,
   "metadata": {},
   "outputs": [],
   "source": [
    "df_train['Surface Width'].replace('No Data', df_train['Surface Width'].mode()[0], inplace=True)"
   ]
  },
  {
   "cell_type": "code",
   "execution_count": 139,
   "metadata": {},
   "outputs": [],
   "source": [
    "df_train['Surface Width'] = pd.to_numeric(df_train['Surface Width'], errors='coerce')"
   ]
  },
  {
   "cell_type": "markdown",
   "metadata": {},
   "source": [
    "### Feature: Weather Condition"
   ]
  },
  {
   "cell_type": "code",
   "execution_count": 140,
   "metadata": {
    "scrolled": true
   },
   "outputs": [
    {
     "data": {
      "text/plain": [
       "1 - CLEAR                            1792\n",
       "2 - CLOUDY                            317\n",
       "3 - RAIN                              179\n",
       "6 - FOG                                 2\n",
       "98 - OTHER (EXPLAIN IN NARRATIVE)       2\n",
       "4 - SLEET/HAIL                          1\n",
       "5 - SNOW                                1\n",
       "Name: Weather Condition, dtype: int64"
      ]
     },
     "execution_count": 140,
     "metadata": {},
     "output_type": "execute_result"
    }
   ],
   "source": [
    "df_train['Weather Condition'].value_counts(dropna = False)"
   ]
  },
  {
   "cell_type": "code",
   "execution_count": 141,
   "metadata": {},
   "outputs": [
    {
     "data": {
      "text/html": [
       "<div>\n",
       "<style scoped>\n",
       "    .dataframe tbody tr th:only-of-type {\n",
       "        vertical-align: middle;\n",
       "    }\n",
       "\n",
       "    .dataframe tbody tr th {\n",
       "        vertical-align: top;\n",
       "    }\n",
       "\n",
       "    .dataframe thead th {\n",
       "        text-align: right;\n",
       "    }\n",
       "</style>\n",
       "<table border=\"1\" class=\"dataframe\">\n",
       "  <thead>\n",
       "    <tr style=\"text-align: right;\">\n",
       "      <th></th>\n",
       "      <th>$1000 Damage to Any One Person's Property</th>\n",
       "      <th>Construction Zone Flag</th>\n",
       "      <th>Construction Zone Workers Present Flag</th>\n",
       "      <th>Number of Lanes</th>\n",
       "      <th>Surface Width</th>\n",
       "      <th>Weather Condition</th>\n",
       "      <th>Crash Severity</th>\n",
       "      <th>Bridge Detail_CRASH INVOLVED UNDERPASS</th>\n",
       "      <th>Bridge Detail_NOT APPLICABLE</th>\n",
       "      <th>Bridge Detail_STRUCTURE NOT HIT</th>\n",
       "      <th>...</th>\n",
       "      <th>Manner of Collision_SAME DIRECTION - ONE STRAIGHT-ONE RIGHT TURN</th>\n",
       "      <th>Manner of Collision_SAME DIRECTION - ONE STRAIGHT-ONE STOPPED</th>\n",
       "      <th>Number of Entering Roads_2 - THREE ENTERING ROADS - T</th>\n",
       "      <th>Number of Entering Roads_3 - THREE ENTERING ROADS - Y</th>\n",
       "      <th>Number of Entering Roads_4 - FOUR ENTERING ROADS</th>\n",
       "      <th>Number of Entering Roads_5 - FIVE ENTERING ROADS</th>\n",
       "      <th>Number of Entering Roads_6 - SIX ENTERING ROADS</th>\n",
       "      <th>Number of Entering Roads_8 - CLOVERLEAF</th>\n",
       "      <th>Number of Entering Roads_97 - NOT APPLICABLE</th>\n",
       "      <th>Number of Entering Roads_98 - OTHER (EXPLAIN IN NARRATIVE)</th>\n",
       "    </tr>\n",
       "    <tr>\n",
       "      <th>Surface Condition</th>\n",
       "      <th></th>\n",
       "      <th></th>\n",
       "      <th></th>\n",
       "      <th></th>\n",
       "      <th></th>\n",
       "      <th></th>\n",
       "      <th></th>\n",
       "      <th></th>\n",
       "      <th></th>\n",
       "      <th></th>\n",
       "      <th></th>\n",
       "      <th></th>\n",
       "      <th></th>\n",
       "      <th></th>\n",
       "      <th></th>\n",
       "      <th></th>\n",
       "      <th></th>\n",
       "      <th></th>\n",
       "      <th></th>\n",
       "      <th></th>\n",
       "      <th></th>\n",
       "    </tr>\n",
       "  </thead>\n",
       "  <tbody>\n",
       "    <tr>\n",
       "      <th>1 - DRY</th>\n",
       "      <td>1</td>\n",
       "      <td>1</td>\n",
       "      <td>1</td>\n",
       "      <td>8</td>\n",
       "      <td>96</td>\n",
       "      <td>1 - CLEAR</td>\n",
       "      <td>Not serious</td>\n",
       "      <td>0</td>\n",
       "      <td>1</td>\n",
       "      <td>0</td>\n",
       "      <td>...</td>\n",
       "      <td>0</td>\n",
       "      <td>0</td>\n",
       "      <td>0</td>\n",
       "      <td>0</td>\n",
       "      <td>0</td>\n",
       "      <td>0</td>\n",
       "      <td>0</td>\n",
       "      <td>0</td>\n",
       "      <td>1</td>\n",
       "      <td>0</td>\n",
       "    </tr>\n",
       "    <tr>\n",
       "      <th>2 - WET</th>\n",
       "      <td>1</td>\n",
       "      <td>1</td>\n",
       "      <td>1</td>\n",
       "      <td>8</td>\n",
       "      <td>96</td>\n",
       "      <td>3 - RAIN</td>\n",
       "      <td>Not serious</td>\n",
       "      <td>0</td>\n",
       "      <td>1</td>\n",
       "      <td>0</td>\n",
       "      <td>...</td>\n",
       "      <td>0</td>\n",
       "      <td>0</td>\n",
       "      <td>0</td>\n",
       "      <td>0</td>\n",
       "      <td>0</td>\n",
       "      <td>0</td>\n",
       "      <td>0</td>\n",
       "      <td>0</td>\n",
       "      <td>1</td>\n",
       "      <td>0</td>\n",
       "    </tr>\n",
       "    <tr>\n",
       "      <th>3 - STANDING WATER</th>\n",
       "      <td>1</td>\n",
       "      <td>1</td>\n",
       "      <td>1</td>\n",
       "      <td>8</td>\n",
       "      <td>96</td>\n",
       "      <td>3 - RAIN</td>\n",
       "      <td>Not serious</td>\n",
       "      <td>0</td>\n",
       "      <td>1</td>\n",
       "      <td>0</td>\n",
       "      <td>...</td>\n",
       "      <td>0</td>\n",
       "      <td>0</td>\n",
       "      <td>0</td>\n",
       "      <td>0</td>\n",
       "      <td>0</td>\n",
       "      <td>0</td>\n",
       "      <td>0</td>\n",
       "      <td>0</td>\n",
       "      <td>1</td>\n",
       "      <td>0</td>\n",
       "    </tr>\n",
       "    <tr>\n",
       "      <th>6 - ICE</th>\n",
       "      <td>1</td>\n",
       "      <td>1</td>\n",
       "      <td>1</td>\n",
       "      <td>8</td>\n",
       "      <td>96</td>\n",
       "      <td>1 - CLEAR</td>\n",
       "      <td>Not serious</td>\n",
       "      <td>0</td>\n",
       "      <td>1</td>\n",
       "      <td>0</td>\n",
       "      <td>...</td>\n",
       "      <td>0</td>\n",
       "      <td>0</td>\n",
       "      <td>0</td>\n",
       "      <td>0</td>\n",
       "      <td>0</td>\n",
       "      <td>0</td>\n",
       "      <td>0</td>\n",
       "      <td>0</td>\n",
       "      <td>1</td>\n",
       "      <td>0</td>\n",
       "    </tr>\n",
       "    <tr>\n",
       "      <th>7 - SAND, MUD, DIRT</th>\n",
       "      <td>1</td>\n",
       "      <td>0</td>\n",
       "      <td>1</td>\n",
       "      <td>8</td>\n",
       "      <td>96</td>\n",
       "      <td>2 - CLOUDY</td>\n",
       "      <td>Not serious</td>\n",
       "      <td>0</td>\n",
       "      <td>1</td>\n",
       "      <td>0</td>\n",
       "      <td>...</td>\n",
       "      <td>0</td>\n",
       "      <td>0</td>\n",
       "      <td>0</td>\n",
       "      <td>0</td>\n",
       "      <td>0</td>\n",
       "      <td>0</td>\n",
       "      <td>0</td>\n",
       "      <td>0</td>\n",
       "      <td>1</td>\n",
       "      <td>0</td>\n",
       "    </tr>\n",
       "  </tbody>\n",
       "</table>\n",
       "<p>5 rows × 51 columns</p>\n",
       "</div>"
      ],
      "text/plain": [
       "                     $1000 Damage to Any One Person's Property  \\\n",
       "Surface Condition                                                \n",
       "1 - DRY                                                      1   \n",
       "2 - WET                                                      1   \n",
       "3 - STANDING WATER                                           1   \n",
       "6 - ICE                                                      1   \n",
       "7 - SAND, MUD, DIRT                                          1   \n",
       "\n",
       "                     Construction Zone Flag  \\\n",
       "Surface Condition                             \n",
       "1 - DRY                                   1   \n",
       "2 - WET                                   1   \n",
       "3 - STANDING WATER                        1   \n",
       "6 - ICE                                   1   \n",
       "7 - SAND, MUD, DIRT                       0   \n",
       "\n",
       "                     Construction Zone Workers Present Flag  Number of Lanes  \\\n",
       "Surface Condition                                                              \n",
       "1 - DRY                                                   1                8   \n",
       "2 - WET                                                   1                8   \n",
       "3 - STANDING WATER                                        1                8   \n",
       "6 - ICE                                                   1                8   \n",
       "7 - SAND, MUD, DIRT                                       1                8   \n",
       "\n",
       "                     Surface Width Weather Condition Crash Severity  \\\n",
       "Surface Condition                                                     \n",
       "1 - DRY                         96         1 - CLEAR    Not serious   \n",
       "2 - WET                         96          3 - RAIN    Not serious   \n",
       "3 - STANDING WATER              96          3 - RAIN    Not serious   \n",
       "6 - ICE                         96         1 - CLEAR    Not serious   \n",
       "7 - SAND, MUD, DIRT             96        2 - CLOUDY    Not serious   \n",
       "\n",
       "                     Bridge Detail_CRASH INVOLVED UNDERPASS  \\\n",
       "Surface Condition                                             \n",
       "1 - DRY                                                   0   \n",
       "2 - WET                                                   0   \n",
       "3 - STANDING WATER                                        0   \n",
       "6 - ICE                                                   0   \n",
       "7 - SAND, MUD, DIRT                                       0   \n",
       "\n",
       "                     Bridge Detail_NOT APPLICABLE  \\\n",
       "Surface Condition                                   \n",
       "1 - DRY                                         1   \n",
       "2 - WET                                         1   \n",
       "3 - STANDING WATER                              1   \n",
       "6 - ICE                                         1   \n",
       "7 - SAND, MUD, DIRT                             1   \n",
       "\n",
       "                     Bridge Detail_STRUCTURE NOT HIT  ...  \\\n",
       "Surface Condition                                     ...   \n",
       "1 - DRY                                            0  ...   \n",
       "2 - WET                                            0  ...   \n",
       "3 - STANDING WATER                                 0  ...   \n",
       "6 - ICE                                            0  ...   \n",
       "7 - SAND, MUD, DIRT                                0  ...   \n",
       "\n",
       "                     Manner of Collision_SAME DIRECTION - ONE STRAIGHT-ONE RIGHT TURN  \\\n",
       "Surface Condition                                                                       \n",
       "1 - DRY                                                              0                  \n",
       "2 - WET                                                              0                  \n",
       "3 - STANDING WATER                                                   0                  \n",
       "6 - ICE                                                              0                  \n",
       "7 - SAND, MUD, DIRT                                                  0                  \n",
       "\n",
       "                     Manner of Collision_SAME DIRECTION - ONE STRAIGHT-ONE STOPPED  \\\n",
       "Surface Condition                                                                    \n",
       "1 - DRY                                                              0               \n",
       "2 - WET                                                              0               \n",
       "3 - STANDING WATER                                                   0               \n",
       "6 - ICE                                                              0               \n",
       "7 - SAND, MUD, DIRT                                                  0               \n",
       "\n",
       "                     Number of Entering Roads_2 - THREE ENTERING ROADS - T  \\\n",
       "Surface Condition                                                            \n",
       "1 - DRY                                                              0       \n",
       "2 - WET                                                              0       \n",
       "3 - STANDING WATER                                                   0       \n",
       "6 - ICE                                                              0       \n",
       "7 - SAND, MUD, DIRT                                                  0       \n",
       "\n",
       "                     Number of Entering Roads_3 - THREE ENTERING ROADS - Y  \\\n",
       "Surface Condition                                                            \n",
       "1 - DRY                                                              0       \n",
       "2 - WET                                                              0       \n",
       "3 - STANDING WATER                                                   0       \n",
       "6 - ICE                                                              0       \n",
       "7 - SAND, MUD, DIRT                                                  0       \n",
       "\n",
       "                     Number of Entering Roads_4 - FOUR ENTERING ROADS  \\\n",
       "Surface Condition                                                       \n",
       "1 - DRY                                                             0   \n",
       "2 - WET                                                             0   \n",
       "3 - STANDING WATER                                                  0   \n",
       "6 - ICE                                                             0   \n",
       "7 - SAND, MUD, DIRT                                                 0   \n",
       "\n",
       "                     Number of Entering Roads_5 - FIVE ENTERING ROADS  \\\n",
       "Surface Condition                                                       \n",
       "1 - DRY                                                             0   \n",
       "2 - WET                                                             0   \n",
       "3 - STANDING WATER                                                  0   \n",
       "6 - ICE                                                             0   \n",
       "7 - SAND, MUD, DIRT                                                 0   \n",
       "\n",
       "                     Number of Entering Roads_6 - SIX ENTERING ROADS  \\\n",
       "Surface Condition                                                      \n",
       "1 - DRY                                                            0   \n",
       "2 - WET                                                            0   \n",
       "3 - STANDING WATER                                                 0   \n",
       "6 - ICE                                                            0   \n",
       "7 - SAND, MUD, DIRT                                                0   \n",
       "\n",
       "                     Number of Entering Roads_8 - CLOVERLEAF  \\\n",
       "Surface Condition                                              \n",
       "1 - DRY                                                    0   \n",
       "2 - WET                                                    0   \n",
       "3 - STANDING WATER                                         0   \n",
       "6 - ICE                                                    0   \n",
       "7 - SAND, MUD, DIRT                                        0   \n",
       "\n",
       "                     Number of Entering Roads_97 - NOT APPLICABLE  \\\n",
       "Surface Condition                                                   \n",
       "1 - DRY                                                         1   \n",
       "2 - WET                                                         1   \n",
       "3 - STANDING WATER                                              1   \n",
       "6 - ICE                                                         1   \n",
       "7 - SAND, MUD, DIRT                                             1   \n",
       "\n",
       "                     Number of Entering Roads_98 - OTHER (EXPLAIN IN NARRATIVE)  \n",
       "Surface Condition                                                                \n",
       "1 - DRY                                                              0           \n",
       "2 - WET                                                              0           \n",
       "3 - STANDING WATER                                                   0           \n",
       "6 - ICE                                                              0           \n",
       "7 - SAND, MUD, DIRT                                                  0           \n",
       "\n",
       "[5 rows x 51 columns]"
      ]
     },
     "execution_count": 141,
     "metadata": {},
     "output_type": "execute_result"
    }
   ],
   "source": [
    "df_train.groupby(['Surface Condition']).agg(lambda x:x.value_counts().index[0])"
   ]
  },
  {
   "cell_type": "code",
   "execution_count": 142,
   "metadata": {},
   "outputs": [
    {
     "data": {
      "text/html": [
       "<div>\n",
       "<style scoped>\n",
       "    .dataframe tbody tr th:only-of-type {\n",
       "        vertical-align: middle;\n",
       "    }\n",
       "\n",
       "    .dataframe tbody tr th {\n",
       "        vertical-align: top;\n",
       "    }\n",
       "\n",
       "    .dataframe thead th {\n",
       "        text-align: right;\n",
       "    }\n",
       "</style>\n",
       "<table border=\"1\" class=\"dataframe\">\n",
       "  <thead>\n",
       "    <tr style=\"text-align: right;\">\n",
       "      <th></th>\n",
       "      <th>$1000 Damage to Any One Person's Property</th>\n",
       "      <th>Construction Zone Flag</th>\n",
       "      <th>Construction Zone Workers Present Flag</th>\n",
       "      <th>Number of Lanes</th>\n",
       "      <th>Surface Condition</th>\n",
       "      <th>Surface Width</th>\n",
       "      <th>Weather Condition</th>\n",
       "      <th>Crash Severity</th>\n",
       "      <th>Bridge Detail_CRASH INVOLVED UNDERPASS</th>\n",
       "      <th>Bridge Detail_NOT APPLICABLE</th>\n",
       "      <th>...</th>\n",
       "      <th>Manner of Collision_SAME DIRECTION - ONE STRAIGHT-ONE RIGHT TURN</th>\n",
       "      <th>Manner of Collision_SAME DIRECTION - ONE STRAIGHT-ONE STOPPED</th>\n",
       "      <th>Number of Entering Roads_2 - THREE ENTERING ROADS - T</th>\n",
       "      <th>Number of Entering Roads_3 - THREE ENTERING ROADS - Y</th>\n",
       "      <th>Number of Entering Roads_4 - FOUR ENTERING ROADS</th>\n",
       "      <th>Number of Entering Roads_5 - FIVE ENTERING ROADS</th>\n",
       "      <th>Number of Entering Roads_6 - SIX ENTERING ROADS</th>\n",
       "      <th>Number of Entering Roads_8 - CLOVERLEAF</th>\n",
       "      <th>Number of Entering Roads_97 - NOT APPLICABLE</th>\n",
       "      <th>Number of Entering Roads_98 - OTHER (EXPLAIN IN NARRATIVE)</th>\n",
       "    </tr>\n",
       "  </thead>\n",
       "  <tbody>\n",
       "    <tr>\n",
       "      <th>501</th>\n",
       "      <td>1</td>\n",
       "      <td>1</td>\n",
       "      <td>1</td>\n",
       "      <td>8</td>\n",
       "      <td>2 - WET</td>\n",
       "      <td>96</td>\n",
       "      <td>98 - OTHER (EXPLAIN IN NARRATIVE)</td>\n",
       "      <td>Not serious</td>\n",
       "      <td>0</td>\n",
       "      <td>1</td>\n",
       "      <td>...</td>\n",
       "      <td>1</td>\n",
       "      <td>0</td>\n",
       "      <td>0</td>\n",
       "      <td>0</td>\n",
       "      <td>1</td>\n",
       "      <td>0</td>\n",
       "      <td>0</td>\n",
       "      <td>0</td>\n",
       "      <td>0</td>\n",
       "      <td>0</td>\n",
       "    </tr>\n",
       "    <tr>\n",
       "      <th>1622</th>\n",
       "      <td>1</td>\n",
       "      <td>1</td>\n",
       "      <td>1</td>\n",
       "      <td>8</td>\n",
       "      <td>1 - DRY</td>\n",
       "      <td>96</td>\n",
       "      <td>98 - OTHER (EXPLAIN IN NARRATIVE)</td>\n",
       "      <td>Not serious</td>\n",
       "      <td>0</td>\n",
       "      <td>1</td>\n",
       "      <td>...</td>\n",
       "      <td>0</td>\n",
       "      <td>0</td>\n",
       "      <td>0</td>\n",
       "      <td>0</td>\n",
       "      <td>0</td>\n",
       "      <td>0</td>\n",
       "      <td>0</td>\n",
       "      <td>0</td>\n",
       "      <td>1</td>\n",
       "      <td>0</td>\n",
       "    </tr>\n",
       "  </tbody>\n",
       "</table>\n",
       "<p>2 rows × 52 columns</p>\n",
       "</div>"
      ],
      "text/plain": [
       "      $1000 Damage to Any One Person's Property  Construction Zone Flag  \\\n",
       "501                                           1                       1   \n",
       "1622                                          1                       1   \n",
       "\n",
       "      Construction Zone Workers Present Flag  Number of Lanes  \\\n",
       "501                                        1                8   \n",
       "1622                                       1                8   \n",
       "\n",
       "     Surface Condition  Surface Width                  Weather Condition  \\\n",
       "501            2 - WET             96  98 - OTHER (EXPLAIN IN NARRATIVE)   \n",
       "1622           1 - DRY             96  98 - OTHER (EXPLAIN IN NARRATIVE)   \n",
       "\n",
       "     Crash Severity  Bridge Detail_CRASH INVOLVED UNDERPASS  \\\n",
       "501     Not serious                                       0   \n",
       "1622    Not serious                                       0   \n",
       "\n",
       "      Bridge Detail_NOT APPLICABLE  ...  \\\n",
       "501                              1  ...   \n",
       "1622                             1  ...   \n",
       "\n",
       "      Manner of Collision_SAME DIRECTION - ONE STRAIGHT-ONE RIGHT TURN  \\\n",
       "501                                                   1                  \n",
       "1622                                                  0                  \n",
       "\n",
       "      Manner of Collision_SAME DIRECTION - ONE STRAIGHT-ONE STOPPED  \\\n",
       "501                                                   0               \n",
       "1622                                                  0               \n",
       "\n",
       "      Number of Entering Roads_2 - THREE ENTERING ROADS - T  \\\n",
       "501                                                   0       \n",
       "1622                                                  0       \n",
       "\n",
       "      Number of Entering Roads_3 - THREE ENTERING ROADS - Y  \\\n",
       "501                                                   0       \n",
       "1622                                                  0       \n",
       "\n",
       "      Number of Entering Roads_4 - FOUR ENTERING ROADS  \\\n",
       "501                                                  1   \n",
       "1622                                                 0   \n",
       "\n",
       "      Number of Entering Roads_5 - FIVE ENTERING ROADS  \\\n",
       "501                                                  0   \n",
       "1622                                                 0   \n",
       "\n",
       "      Number of Entering Roads_6 - SIX ENTERING ROADS  \\\n",
       "501                                                 0   \n",
       "1622                                                0   \n",
       "\n",
       "      Number of Entering Roads_8 - CLOVERLEAF  \\\n",
       "501                                         0   \n",
       "1622                                        0   \n",
       "\n",
       "      Number of Entering Roads_97 - NOT APPLICABLE  \\\n",
       "501                                              0   \n",
       "1622                                             1   \n",
       "\n",
       "      Number of Entering Roads_98 - OTHER (EXPLAIN IN NARRATIVE)  \n",
       "501                                                   0           \n",
       "1622                                                  0           \n",
       "\n",
       "[2 rows x 52 columns]"
      ]
     },
     "execution_count": 142,
     "metadata": {},
     "output_type": "execute_result"
    }
   ],
   "source": [
    "df_train[df_train['Weather Condition']=='98 - OTHER (EXPLAIN IN NARRATIVE)']"
   ]
  },
  {
   "cell_type": "code",
   "execution_count": 143,
   "metadata": {},
   "outputs": [],
   "source": [
    "# Imputing based on frequently occuring weather condition based on surface condition\n",
    "df_train['Weather Condition'] = np.where( (df_train['Surface Condition'] == '2 - WET') & (df_train['Weather Condition'] == '98 - OTHER (EXPLAIN IN NARRATIVE)'), '3 - RAIN', df_train['Weather Condition'])\n",
    "df_train['Weather Condition'] = np.where( (df_train['Surface Condition'] == '1 - DRY') & (df_train['Weather Condition'] == '98 - OTHER (EXPLAIN IN NARRATIVE)'), '1 - CLEAR', df_train['Weather Condition'])"
   ]
  },
  {
   "cell_type": "code",
   "execution_count": 144,
   "metadata": {},
   "outputs": [
    {
     "data": {
      "text/plain": [
       "1 - CLEAR         1793\n",
       "2 - CLOUDY         317\n",
       "3 - RAIN           180\n",
       "6 - FOG              2\n",
       "4 - SLEET/HAIL       1\n",
       "5 - SNOW             1\n",
       "Name: Weather Condition, dtype: int64"
      ]
     },
     "execution_count": 144,
     "metadata": {},
     "output_type": "execute_result"
    }
   ],
   "source": [
    "df_train['Weather Condition'].value_counts(dropna = False)"
   ]
  },
  {
   "cell_type": "code",
   "execution_count": 145,
   "metadata": {},
   "outputs": [],
   "source": [
    "# Label encoding - Replace with one-hot vector\n",
    "cols = pd.get_dummies(df_train['Weather Condition'], prefix= 'Weather Condition')\n",
    "df_train[cols.columns] = cols\n",
    "df_train.drop('Weather Condition', axis = 1, inplace = True)"
   ]
  },
  {
   "cell_type": "code",
   "execution_count": 146,
   "metadata": {},
   "outputs": [],
   "source": [
    "# Label encoding - Replace with one-hot vector\n",
    "cols = pd.get_dummies(df_train['Surface Condition'], prefix= 'Surface Condition')\n",
    "df_train[cols.columns] = cols\n",
    "df_train.drop('Surface Condition', axis = 1, inplace = True)"
   ]
  },
  {
   "cell_type": "markdown",
   "metadata": {},
   "source": [
    "### Target Variable: Crash Severity"
   ]
  },
  {
   "cell_type": "code",
   "execution_count": 147,
   "metadata": {},
   "outputs": [
    {
     "name": "stdout",
     "output_type": "stream",
     "text": [
      "Crash Severity proportions are\n",
      " Not serious    0.984307\n",
      "Serious        0.015693\n",
      "Name: Crash Severity, dtype: float64\n"
     ]
    },
    {
     "data": {
      "image/png": "[encoded data removed]",
      "text/plain": [
       "<Figure size 460.8x345.6 with 1 Axes>"
      ]
     },
     "metadata": {
      "needs_background": "light"
     },
     "output_type": "display_data"
    }
   ],
   "source": [
    "import seaborn as sns\n",
    "plt.rcParams[\"figure.figsize\"] = plt.rcParamsDefault[\"figure.figsize\"]\n",
    "\n",
    "sns.countplot(df_train['Crash Severity']);\n",
    "print ('Crash Severity proportions are\\n',df_train['Crash Severity'].value_counts() / df_train['Crash Severity'].count())"
   ]
  },
  {
   "cell_type": "markdown",
   "metadata": {},
   "source": [
    "Its not a well balanced dataset since its in 98:2 ratio so ``roc_auc`` can be considered as a better evaluation criterion in this context\n"
   ]
  },
  {
   "cell_type": "code",
   "execution_count": 148,
   "metadata": {},
   "outputs": [
    {
     "data": {
      "text/plain": [
       "Not serious    2258\n",
       "Serious          36\n",
       "Name: Crash Severity, dtype: int64"
      ]
     },
     "execution_count": 148,
     "metadata": {},
     "output_type": "execute_result"
    }
   ],
   "source": [
    "df_train['Crash Severity'].value_counts(dropna=False)"
   ]
  },
  {
   "cell_type": "code",
   "execution_count": 149,
   "metadata": {},
   "outputs": [],
   "source": [
    "df_train['Crash Severity'] = df_train['Crash Severity'].map({'Serious':1, 'Not serious':0}).astype(int)"
   ]
  },
  {
   "cell_type": "code",
   "execution_count": 150,
   "metadata": {
    "scrolled": true
   },
   "outputs": [
    {
     "data": {
      "text/plain": [
       "0    2258\n",
       "1      36\n",
       "Name: Crash Severity, dtype: int64"
      ]
     },
     "execution_count": 150,
     "metadata": {},
     "output_type": "execute_result"
    }
   ],
   "source": [
    "df_train['Crash Severity'].value_counts(dropna=False)"
   ]
  },
  {
   "cell_type": "markdown",
   "metadata": {},
   "source": [
    "# Preprocessing ``test.csv``"
   ]
  },
  {
   "cell_type": "code",
   "execution_count": 151,
   "metadata": {},
   "outputs": [
    {
     "data": {
      "text/html": [
       "<div>\n",
       "<style scoped>\n",
       "    .dataframe tbody tr th:only-of-type {\n",
       "        vertical-align: middle;\n",
       "    }\n",
       "\n",
       "    .dataframe tbody tr th {\n",
       "        vertical-align: top;\n",
       "    }\n",
       "\n",
       "    .dataframe thead th {\n",
       "        text-align: right;\n",
       "    }\n",
       "</style>\n",
       "<table border=\"1\" class=\"dataframe\">\n",
       "  <thead>\n",
       "    <tr style=\"text-align: right;\">\n",
       "      <th></th>\n",
       "      <th>$1000 Damage to Any One Person's Property</th>\n",
       "      <th>Bridge Detail</th>\n",
       "      <th>Construction Zone Flag</th>\n",
       "      <th>Construction Zone Workers Present Flag</th>\n",
       "      <th>Crash Time</th>\n",
       "      <th>Day of Week</th>\n",
       "      <th>Highway System</th>\n",
       "      <th>Intersecting Highway Number</th>\n",
       "      <th>Intersecting Street Name</th>\n",
       "      <th>Manner of Collision</th>\n",
       "      <th>Median Type</th>\n",
       "      <th>Median Width</th>\n",
       "      <th>Number of Entering Roads</th>\n",
       "      <th>Number of Lanes</th>\n",
       "      <th>Surface Condition</th>\n",
       "      <th>Surface Type</th>\n",
       "      <th>Surface Width</th>\n",
       "      <th>Weather Condition</th>\n",
       "    </tr>\n",
       "  </thead>\n",
       "  <tbody>\n",
       "    <tr>\n",
       "      <th>0</th>\n",
       "      <td>Yes</td>\n",
       "      <td>NOT APPLICABLE</td>\n",
       "      <td>No</td>\n",
       "      <td>No</td>\n",
       "      <td>720</td>\n",
       "      <td>THURSDAY</td>\n",
       "      <td>STATE SPUR</td>\n",
       "      <td>No Data</td>\n",
       "      <td>NaN</td>\n",
       "      <td>SAME DIRECTION - BOTH GOING STRAIGHT-REAR END</td>\n",
       "      <td>No Data</td>\n",
       "      <td>No Data</td>\n",
       "      <td>97 - NOT APPLICABLE</td>\n",
       "      <td>No Data</td>\n",
       "      <td>1 - DRY</td>\n",
       "      <td>No Data</td>\n",
       "      <td>No Data</td>\n",
       "      <td>1 - CLEAR</td>\n",
       "    </tr>\n",
       "    <tr>\n",
       "      <th>1</th>\n",
       "      <td>Yes</td>\n",
       "      <td>NOT APPLICABLE</td>\n",
       "      <td>No</td>\n",
       "      <td>No</td>\n",
       "      <td>908</td>\n",
       "      <td>MONDAY</td>\n",
       "      <td>STATE SPUR</td>\n",
       "      <td>345</td>\n",
       "      <td>IH0345</td>\n",
       "      <td>SAME DIRECTION - ONE STRAIGHT-ONE STOPPED</td>\n",
       "      <td>No Data</td>\n",
       "      <td>40</td>\n",
       "      <td>97 - NOT APPLICABLE</td>\n",
       "      <td>8</td>\n",
       "      <td>1 - DRY</td>\n",
       "      <td>No Data</td>\n",
       "      <td>96</td>\n",
       "      <td>1 - CLEAR</td>\n",
       "    </tr>\n",
       "    <tr>\n",
       "      <th>2</th>\n",
       "      <td>Yes</td>\n",
       "      <td>NOT APPLICABLE</td>\n",
       "      <td>No</td>\n",
       "      <td>No</td>\n",
       "      <td>1705</td>\n",
       "      <td>FRIDAY</td>\n",
       "      <td>STATE SPUR</td>\n",
       "      <td>No Data</td>\n",
       "      <td>NaN</td>\n",
       "      <td>ONE MOTOR VEHICLE - GOING STRAIGHT</td>\n",
       "      <td>No Data</td>\n",
       "      <td>40</td>\n",
       "      <td>97 - NOT APPLICABLE</td>\n",
       "      <td>6</td>\n",
       "      <td>1 - DRY</td>\n",
       "      <td>No Data</td>\n",
       "      <td>72</td>\n",
       "      <td>1 - CLEAR</td>\n",
       "    </tr>\n",
       "    <tr>\n",
       "      <th>3</th>\n",
       "      <td>Yes</td>\n",
       "      <td>NOT APPLICABLE</td>\n",
       "      <td>No</td>\n",
       "      <td>No</td>\n",
       "      <td>110</td>\n",
       "      <td>TUESDAY</td>\n",
       "      <td>STATE SPUR</td>\n",
       "      <td>No Data</td>\n",
       "      <td>NaN</td>\n",
       "      <td>SAME DIRECTION - BOTH GOING STRAIGHT-SIDESWIPE</td>\n",
       "      <td>No Data</td>\n",
       "      <td>40</td>\n",
       "      <td>97 - NOT APPLICABLE</td>\n",
       "      <td>8</td>\n",
       "      <td>1 - DRY</td>\n",
       "      <td>No Data</td>\n",
       "      <td>96</td>\n",
       "      <td>1 - CLEAR</td>\n",
       "    </tr>\n",
       "    <tr>\n",
       "      <th>4</th>\n",
       "      <td>Yes</td>\n",
       "      <td>NOT APPLICABLE</td>\n",
       "      <td>No</td>\n",
       "      <td>No</td>\n",
       "      <td>1550</td>\n",
       "      <td>SATURDAY</td>\n",
       "      <td>STATE SPUR</td>\n",
       "      <td>No Data</td>\n",
       "      <td>NaN</td>\n",
       "      <td>SAME DIRECTION - BOTH GOING STRAIGHT-REAR END</td>\n",
       "      <td>No Data</td>\n",
       "      <td>40</td>\n",
       "      <td>97 - NOT APPLICABLE</td>\n",
       "      <td>8</td>\n",
       "      <td>1 - DRY</td>\n",
       "      <td>No Data</td>\n",
       "      <td>96</td>\n",
       "      <td>1 - CLEAR</td>\n",
       "    </tr>\n",
       "  </tbody>\n",
       "</table>\n",
       "</div>"
      ],
      "text/plain": [
       "  $1000 Damage to Any One Person's Property   Bridge Detail  \\\n",
       "0                                       Yes  NOT APPLICABLE   \n",
       "1                                       Yes  NOT APPLICABLE   \n",
       "2                                       Yes  NOT APPLICABLE   \n",
       "3                                       Yes  NOT APPLICABLE   \n",
       "4                                       Yes  NOT APPLICABLE   \n",
       "\n",
       "  Construction Zone Flag Construction Zone Workers Present Flag  Crash Time  \\\n",
       "0                     No                                     No         720   \n",
       "1                     No                                     No         908   \n",
       "2                     No                                     No        1705   \n",
       "3                     No                                     No         110   \n",
       "4                     No                                     No        1550   \n",
       "\n",
       "  Day of Week Highway System Intersecting Highway Number  \\\n",
       "0    THURSDAY     STATE SPUR                     No Data   \n",
       "1      MONDAY     STATE SPUR                         345   \n",
       "2      FRIDAY     STATE SPUR                     No Data   \n",
       "3     TUESDAY     STATE SPUR                     No Data   \n",
       "4    SATURDAY     STATE SPUR                     No Data   \n",
       "\n",
       "  Intersecting Street Name                             Manner of Collision  \\\n",
       "0                      NaN   SAME DIRECTION - BOTH GOING STRAIGHT-REAR END   \n",
       "1                   IH0345       SAME DIRECTION - ONE STRAIGHT-ONE STOPPED   \n",
       "2                      NaN              ONE MOTOR VEHICLE - GOING STRAIGHT   \n",
       "3                      NaN  SAME DIRECTION - BOTH GOING STRAIGHT-SIDESWIPE   \n",
       "4                      NaN   SAME DIRECTION - BOTH GOING STRAIGHT-REAR END   \n",
       "\n",
       "  Median Type Median Width Number of Entering Roads Number of Lanes  \\\n",
       "0     No Data      No Data      97 - NOT APPLICABLE         No Data   \n",
       "1     No Data           40      97 - NOT APPLICABLE               8   \n",
       "2     No Data           40      97 - NOT APPLICABLE               6   \n",
       "3     No Data           40      97 - NOT APPLICABLE               8   \n",
       "4     No Data           40      97 - NOT APPLICABLE               8   \n",
       "\n",
       "  Surface Condition Surface Type Surface Width Weather Condition  \n",
       "0           1 - DRY      No Data       No Data         1 - CLEAR  \n",
       "1           1 - DRY      No Data            96         1 - CLEAR  \n",
       "2           1 - DRY      No Data            72         1 - CLEAR  \n",
       "3           1 - DRY      No Data            96         1 - CLEAR  \n",
       "4           1 - DRY      No Data            96         1 - CLEAR  "
      ]
     },
     "execution_count": 151,
     "metadata": {},
     "output_type": "execute_result"
    }
   ],
   "source": [
    "# Import dataset using pandas csv reader\n",
    "df_test = pd.read_csv('test.csv')\n",
    "df_test.head()"
   ]
  },
  {
   "cell_type": "code",
   "execution_count": 152,
   "metadata": {},
   "outputs": [
    {
     "name": "stdout",
     "output_type": "stream",
     "text": [
      "<class 'pandas.core.frame.DataFrame'>\n",
      "RangeIndex: 774 entries, 0 to 773\n",
      "Data columns (total 18 columns):\n",
      " #   Column                                     Non-Null Count  Dtype \n",
      "---  ------                                     --------------  ----- \n",
      " 0   $1000 Damage to Any One Person's Property  774 non-null    object\n",
      " 1   Bridge Detail                              774 non-null    object\n",
      " 2   Construction Zone Flag                     774 non-null    object\n",
      " 3   Construction Zone Workers Present Flag     774 non-null    object\n",
      " 4   Crash Time                                 774 non-null    int64 \n",
      " 5   Day of Week                                774 non-null    object\n",
      " 6   Highway System                             774 non-null    object\n",
      " 7   Intersecting Highway Number                774 non-null    object\n",
      " 8   Intersecting Street Name                   176 non-null    object\n",
      " 9   Manner of Collision                        774 non-null    object\n",
      " 10  Median Type                                774 non-null    object\n",
      " 11  Median Width                               774 non-null    object\n",
      " 12  Number of Entering Roads                   774 non-null    object\n",
      " 13  Number of Lanes                            774 non-null    object\n",
      " 14  Surface Condition                          774 non-null    object\n",
      " 15  Surface Type                               774 non-null    object\n",
      " 16  Surface Width                              774 non-null    object\n",
      " 17  Weather Condition                          774 non-null    object\n",
      "dtypes: int64(1), object(17)\n",
      "memory usage: 109.0+ KB\n"
     ]
    }
   ],
   "source": [
    "df_test.info()"
   ]
  },
  {
   "cell_type": "code",
   "execution_count": 153,
   "metadata": {},
   "outputs": [],
   "source": [
    "df_test['$1000 Damage to Any One Person\\'s Property'] = df_test['$1000 Damage to Any One Person\\'s Property'].map({'Yes':1, 'No':0}).astype(int)"
   ]
  },
  {
   "cell_type": "code",
   "execution_count": 154,
   "metadata": {},
   "outputs": [],
   "source": [
    "cols = pd.get_dummies(df_test['Bridge Detail'], prefix= 'Bridge Detail')\n",
    "df_test[cols.columns] = cols\n",
    "df_test.drop('Bridge Detail', axis = 1, inplace = True)"
   ]
  },
  {
   "cell_type": "code",
   "execution_count": 155,
   "metadata": {},
   "outputs": [],
   "source": [
    "df_test['Construction Zone Flag'] = df_test['Construction Zone Flag'].map({'No':1, 'Yes':0}).astype(int)"
   ]
  },
  {
   "cell_type": "code",
   "execution_count": 156,
   "metadata": {},
   "outputs": [],
   "source": [
    "df_test['Construction Zone Workers Present Flag'] = df_test['Construction Zone Workers Present Flag'].map({'No':1, 'Yes':0}).astype(int)"
   ]
  },
  {
   "cell_type": "code",
   "execution_count": 157,
   "metadata": {},
   "outputs": [],
   "source": [
    "df_test['Crash Time'] = df_test['Crash Time'].apply(lambda x: \"early morning\" if x >=0 and x<= 600  else ('morning' if x >=601 and x<= 1200 else 'noon' if x >=1201 and x<= 1750 else 'night') )"
   ]
  },
  {
   "cell_type": "code",
   "execution_count": 158,
   "metadata": {},
   "outputs": [],
   "source": [
    "cols = pd.get_dummies(df_test['Crash Time'], prefix= 'Crash Time')\n",
    "df_test[cols.columns] = cols\n",
    "df_test.drop('Crash Time', axis = 1, inplace = True)"
   ]
  },
  {
   "cell_type": "code",
   "execution_count": 159,
   "metadata": {},
   "outputs": [],
   "source": [
    "df_test['Day of Week'] = df_test['Day of Week'].apply(lambda x: \"Week Beginning\" if x =='MONDAY' or x=='TUESDAY' else ('Mid Week' if x == 'WEDNESDAY' or x == 'THURSDAY' else 'Week End') )"
   ]
  },
  {
   "cell_type": "code",
   "execution_count": 160,
   "metadata": {},
   "outputs": [],
   "source": [
    "cols = pd.get_dummies(df_test['Day of Week'], prefix= 'Day of Week')\n",
    "df_test[cols.columns] = cols\n",
    "df_test.drop('Day of Week', axis = 1, inplace = True)"
   ]
  },
  {
   "cell_type": "code",
   "execution_count": 161,
   "metadata": {},
   "outputs": [],
   "source": [
    "cols = pd.get_dummies(df_test['Manner of Collision'], prefix= 'Manner of Collision')\n",
    "df_test[cols.columns] = cols\n",
    "df_test.drop('Manner of Collision', axis = 1, inplace = True)"
   ]
  },
  {
   "cell_type": "code",
   "execution_count": 162,
   "metadata": {},
   "outputs": [],
   "source": [
    "cols = pd.get_dummies(df_test['Number of Entering Roads'], prefix= 'Number of Entering Roads')\n",
    "df_test[cols.columns] = cols\n",
    "df_test.drop('Number of Entering Roads', axis = 1, inplace = True)"
   ]
  },
  {
   "cell_type": "code",
   "execution_count": 163,
   "metadata": {},
   "outputs": [],
   "source": [
    "df_test.drop('Highway System', axis=1, inplace=True)\n",
    "df_test.drop('Intersecting Highway Number', axis=1, inplace=True)\n",
    "df_test.drop('Intersecting Street Name', axis=1, inplace=True)\n",
    "\n",
    "df_test.drop('Median Width', axis=1, inplace=True)\n",
    "df_test.drop('Median Type', axis=1, inplace=True)\n",
    "df_test.drop('Surface Type', axis=1, inplace=True)"
   ]
  },
  {
   "cell_type": "code",
   "execution_count": 164,
   "metadata": {},
   "outputs": [],
   "source": [
    "# Replace no data in test with that of the mode of the same in train dataset\n",
    "df_test['Surface Width'].replace('No Data', df_train['Surface Width'].mode()[0], inplace=True)"
   ]
  },
  {
   "cell_type": "code",
   "execution_count": 165,
   "metadata": {},
   "outputs": [],
   "source": [
    "# Replace no data in test with that of the mode of the same in train dataset\n",
    "df_test['Number of Lanes'].replace('No Data', df_train['Number of Lanes'].mode()[0], inplace=True)"
   ]
  },
  {
   "cell_type": "code",
   "execution_count": 166,
   "metadata": {},
   "outputs": [],
   "source": [
    "df_test['Number of Lanes'] = pd.to_numeric(df_test['Number of Lanes'], errors='coerce')"
   ]
  },
  {
   "cell_type": "code",
   "execution_count": 167,
   "metadata": {},
   "outputs": [],
   "source": [
    "df_test['Surface Width'] = pd.to_numeric(df_test['Surface Width'], errors='coerce')"
   ]
  },
  {
   "cell_type": "code",
   "execution_count": 168,
   "metadata": {},
   "outputs": [],
   "source": [
    "df_test.drop(df_test[(df_test['Surface Condition'] == '99 - UNKNOWN') & (df_test['Weather Condition'] == '99 - UNKNOWN')].index, inplace=True)"
   ]
  },
  {
   "cell_type": "code",
   "execution_count": 169,
   "metadata": {},
   "outputs": [],
   "source": [
    "df_test['Surface Condition'].replace('98 - OTHER (EXPLAIN IN NARRATIVE)', '1 - DRY', inplace=True)\n",
    "df_test['Surface Condition'].replace('99 - UNKNOWN', '1 - DRY', inplace=True)"
   ]
  },
  {
   "cell_type": "code",
   "execution_count": 170,
   "metadata": {},
   "outputs": [],
   "source": [
    "df_test['Weather Condition'] = np.where( (df_test['Surface Condition'] == '2 - WET') & (df_test['Weather Condition'] == '98 - OTHER (EXPLAIN IN NARRATIVE)'), '3 - RAIN', df_test['Weather Condition'])\n",
    "df_test['Weather Condition'] = np.where( (df_test['Surface Condition'] == '1 - DRY') & (df_test['Weather Condition'] == '98 - OTHER (EXPLAIN IN NARRATIVE)'), '1 - CLEAR', df_test['Weather Condition'])"
   ]
  },
  {
   "cell_type": "code",
   "execution_count": 171,
   "metadata": {},
   "outputs": [],
   "source": [
    "# Label encoding - Replace with one-hot vector\n",
    "cols = pd.get_dummies(df_test['Surface Condition'], prefix= 'Surface Condition')\n",
    "df_test[cols.columns] = cols\n",
    "df_test.drop('Surface Condition', axis = 1, inplace = True)"
   ]
  },
  {
   "cell_type": "code",
   "execution_count": 172,
   "metadata": {},
   "outputs": [],
   "source": [
    "cols = pd.get_dummies(df_test['Weather Condition'], prefix= 'Weather Condition')\n",
    "df_test[cols.columns] = cols\n",
    "df_test.drop('Weather Condition', axis = 1, inplace = True)"
   ]
  },
  {
   "cell_type": "code",
   "execution_count": 173,
   "metadata": {},
   "outputs": [],
   "source": [
    "# Including the remaining catgorical cols in train into test set later to be filled by zeroes \n",
    "df_test = df_test.reindex(labels=df_train.columns,axis=1)"
   ]
  },
  {
   "cell_type": "code",
   "execution_count": 174,
   "metadata": {},
   "outputs": [],
   "source": [
    "float_columns = [col for col in df_test.columns.values if df_test[col].dtype == 'float64'  ]"
   ]
  },
  {
   "cell_type": "code",
   "execution_count": 175,
   "metadata": {},
   "outputs": [
    {
     "data": {
      "text/plain": [
       "['Crash Severity',\n",
       " 'Bridge Detail_CRASH INVOLVED UNDERPASS',\n",
       " 'Bridge Detail_VEHICLE WENT OVER RAIL',\n",
       " 'Manner of Collision_ANGLE - ONE RIGHT TURN-ONE STOPPED',\n",
       " 'Manner of Collision_ANGLE - ONE STRAIGHT-ONE STOPPED',\n",
       " 'Manner of Collision_OPPOSITE DIRECTION - ONE LEFT TURN-ONE STOPPED',\n",
       " 'Manner of Collision_OPPOSITE DIRECTION - ONE STRAIGHT-ONE BACKING',\n",
       " 'Number of Entering Roads_5 - FIVE ENTERING ROADS',\n",
       " 'Weather Condition_4 - SLEET/HAIL',\n",
       " 'Weather Condition_5 - SNOW',\n",
       " 'Surface Condition_7 - SAND, MUD, DIRT']"
      ]
     },
     "execution_count": 175,
     "metadata": {},
     "output_type": "execute_result"
    }
   ],
   "source": [
    "float_columns"
   ]
  },
  {
   "cell_type": "code",
   "execution_count": 176,
   "metadata": {},
   "outputs": [],
   "source": [
    "for col in float_columns:\n",
    "    df_test[col] = df_test[col].fillna(0).astype(int)"
   ]
  },
  {
   "cell_type": "code",
   "execution_count": 177,
   "metadata": {},
   "outputs": [],
   "source": [
    "df_test.drop('Crash Severity', axis = 1, inplace = True)"
   ]
  },
  {
   "cell_type": "code",
   "execution_count": 178,
   "metadata": {},
   "outputs": [
    {
     "data": {
      "text/plain": [
       "(774, 60)"
      ]
     },
     "execution_count": 178,
     "metadata": {},
     "output_type": "execute_result"
    }
   ],
   "source": [
    "df_test.shape"
   ]
  },
  {
   "cell_type": "code",
   "execution_count": 179,
   "metadata": {},
   "outputs": [
    {
     "data": {
      "text/plain": [
       "(2294, 61)"
      ]
     },
     "execution_count": 179,
     "metadata": {},
     "output_type": "execute_result"
    }
   ],
   "source": [
    "df_train.shape"
   ]
  },
  {
   "cell_type": "code",
   "execution_count": 245,
   "metadata": {},
   "outputs": [
    {
     "data": {
      "text/html": [
       "<div>\n",
       "<style scoped>\n",
       "    .dataframe tbody tr th:only-of-type {\n",
       "        vertical-align: middle;\n",
       "    }\n",
       "\n",
       "    .dataframe tbody tr th {\n",
       "        vertical-align: top;\n",
       "    }\n",
       "\n",
       "    .dataframe thead th {\n",
       "        text-align: right;\n",
       "    }\n",
       "</style>\n",
       "<table border=\"1\" class=\"dataframe\">\n",
       "  <thead>\n",
       "    <tr style=\"text-align: right;\">\n",
       "      <th></th>\n",
       "      <th>$1000 Damage to Any One Person's Property</th>\n",
       "      <th>Construction Zone Flag</th>\n",
       "      <th>Construction Zone Workers Present Flag</th>\n",
       "      <th>Number of Lanes</th>\n",
       "      <th>Surface Width</th>\n",
       "      <th>Crash Severity</th>\n",
       "      <th>Bridge Detail_CRASH INVOLVED UNDERPASS</th>\n",
       "      <th>Bridge Detail_NOT APPLICABLE</th>\n",
       "      <th>Bridge Detail_STRUCTURE NOT HIT</th>\n",
       "      <th>Bridge Detail_VEHICLE RETAINED ON BRIDGE OR OVERPASS</th>\n",
       "      <th>...</th>\n",
       "      <th>Weather Condition_2 - CLOUDY</th>\n",
       "      <th>Weather Condition_3 - RAIN</th>\n",
       "      <th>Weather Condition_4 - SLEET/HAIL</th>\n",
       "      <th>Weather Condition_5 - SNOW</th>\n",
       "      <th>Weather Condition_6 - FOG</th>\n",
       "      <th>Surface Condition_1 - DRY</th>\n",
       "      <th>Surface Condition_2 - WET</th>\n",
       "      <th>Surface Condition_3 - STANDING WATER</th>\n",
       "      <th>Surface Condition_6 - ICE</th>\n",
       "      <th>Surface Condition_7 - SAND, MUD, DIRT</th>\n",
       "    </tr>\n",
       "  </thead>\n",
       "  <tbody>\n",
       "    <tr>\n",
       "      <th>0</th>\n",
       "      <td>1</td>\n",
       "      <td>1</td>\n",
       "      <td>1</td>\n",
       "      <td>8</td>\n",
       "      <td>96</td>\n",
       "      <td>0</td>\n",
       "      <td>0</td>\n",
       "      <td>1</td>\n",
       "      <td>0</td>\n",
       "      <td>0</td>\n",
       "      <td>...</td>\n",
       "      <td>0</td>\n",
       "      <td>0</td>\n",
       "      <td>0</td>\n",
       "      <td>0</td>\n",
       "      <td>0</td>\n",
       "      <td>1</td>\n",
       "      <td>0</td>\n",
       "      <td>0</td>\n",
       "      <td>0</td>\n",
       "      <td>0</td>\n",
       "    </tr>\n",
       "    <tr>\n",
       "      <th>1</th>\n",
       "      <td>1</td>\n",
       "      <td>1</td>\n",
       "      <td>1</td>\n",
       "      <td>8</td>\n",
       "      <td>96</td>\n",
       "      <td>0</td>\n",
       "      <td>0</td>\n",
       "      <td>1</td>\n",
       "      <td>0</td>\n",
       "      <td>0</td>\n",
       "      <td>...</td>\n",
       "      <td>0</td>\n",
       "      <td>1</td>\n",
       "      <td>0</td>\n",
       "      <td>0</td>\n",
       "      <td>0</td>\n",
       "      <td>0</td>\n",
       "      <td>1</td>\n",
       "      <td>0</td>\n",
       "      <td>0</td>\n",
       "      <td>0</td>\n",
       "    </tr>\n",
       "    <tr>\n",
       "      <th>2</th>\n",
       "      <td>1</td>\n",
       "      <td>1</td>\n",
       "      <td>1</td>\n",
       "      <td>8</td>\n",
       "      <td>96</td>\n",
       "      <td>0</td>\n",
       "      <td>0</td>\n",
       "      <td>1</td>\n",
       "      <td>0</td>\n",
       "      <td>0</td>\n",
       "      <td>...</td>\n",
       "      <td>1</td>\n",
       "      <td>0</td>\n",
       "      <td>0</td>\n",
       "      <td>0</td>\n",
       "      <td>0</td>\n",
       "      <td>1</td>\n",
       "      <td>0</td>\n",
       "      <td>0</td>\n",
       "      <td>0</td>\n",
       "      <td>0</td>\n",
       "    </tr>\n",
       "    <tr>\n",
       "      <th>3</th>\n",
       "      <td>1</td>\n",
       "      <td>1</td>\n",
       "      <td>1</td>\n",
       "      <td>8</td>\n",
       "      <td>96</td>\n",
       "      <td>0</td>\n",
       "      <td>0</td>\n",
       "      <td>1</td>\n",
       "      <td>0</td>\n",
       "      <td>0</td>\n",
       "      <td>...</td>\n",
       "      <td>0</td>\n",
       "      <td>0</td>\n",
       "      <td>0</td>\n",
       "      <td>0</td>\n",
       "      <td>0</td>\n",
       "      <td>1</td>\n",
       "      <td>0</td>\n",
       "      <td>0</td>\n",
       "      <td>0</td>\n",
       "      <td>0</td>\n",
       "    </tr>\n",
       "    <tr>\n",
       "      <th>4</th>\n",
       "      <td>1</td>\n",
       "      <td>1</td>\n",
       "      <td>1</td>\n",
       "      <td>8</td>\n",
       "      <td>96</td>\n",
       "      <td>0</td>\n",
       "      <td>0</td>\n",
       "      <td>1</td>\n",
       "      <td>0</td>\n",
       "      <td>0</td>\n",
       "      <td>...</td>\n",
       "      <td>0</td>\n",
       "      <td>0</td>\n",
       "      <td>0</td>\n",
       "      <td>0</td>\n",
       "      <td>0</td>\n",
       "      <td>1</td>\n",
       "      <td>0</td>\n",
       "      <td>0</td>\n",
       "      <td>0</td>\n",
       "      <td>0</td>\n",
       "    </tr>\n",
       "  </tbody>\n",
       "</table>\n",
       "<p>5 rows × 61 columns</p>\n",
       "</div>"
      ],
      "text/plain": [
       "   $1000 Damage to Any One Person's Property  Construction Zone Flag  \\\n",
       "0                                          1                       1   \n",
       "1                                          1                       1   \n",
       "2                                          1                       1   \n",
       "3                                          1                       1   \n",
       "4                                          1                       1   \n",
       "\n",
       "   Construction Zone Workers Present Flag  Number of Lanes  Surface Width  \\\n",
       "0                                       1                8             96   \n",
       "1                                       1                8             96   \n",
       "2                                       1                8             96   \n",
       "3                                       1                8             96   \n",
       "4                                       1                8             96   \n",
       "\n",
       "   Crash Severity  Bridge Detail_CRASH INVOLVED UNDERPASS  \\\n",
       "0               0                                       0   \n",
       "1               0                                       0   \n",
       "2               0                                       0   \n",
       "3               0                                       0   \n",
       "4               0                                       0   \n",
       "\n",
       "   Bridge Detail_NOT APPLICABLE  Bridge Detail_STRUCTURE NOT HIT  \\\n",
       "0                             1                                0   \n",
       "1                             1                                0   \n",
       "2                             1                                0   \n",
       "3                             1                                0   \n",
       "4                             1                                0   \n",
       "\n",
       "   Bridge Detail_VEHICLE RETAINED ON BRIDGE OR OVERPASS  ...  \\\n",
       "0                                                  0     ...   \n",
       "1                                                  0     ...   \n",
       "2                                                  0     ...   \n",
       "3                                                  0     ...   \n",
       "4                                                  0     ...   \n",
       "\n",
       "   Weather Condition_2 - CLOUDY  Weather Condition_3 - RAIN  \\\n",
       "0                             0                           0   \n",
       "1                             0                           1   \n",
       "2                             1                           0   \n",
       "3                             0                           0   \n",
       "4                             0                           0   \n",
       "\n",
       "   Weather Condition_4 - SLEET/HAIL  Weather Condition_5 - SNOW  \\\n",
       "0                                 0                           0   \n",
       "1                                 0                           0   \n",
       "2                                 0                           0   \n",
       "3                                 0                           0   \n",
       "4                                 0                           0   \n",
       "\n",
       "   Weather Condition_6 - FOG  Surface Condition_1 - DRY  \\\n",
       "0                          0                          1   \n",
       "1                          0                          0   \n",
       "2                          0                          1   \n",
       "3                          0                          1   \n",
       "4                          0                          1   \n",
       "\n",
       "   Surface Condition_2 - WET  Surface Condition_3 - STANDING WATER  \\\n",
       "0                          0                                     0   \n",
       "1                          1                                     0   \n",
       "2                          0                                     0   \n",
       "3                          0                                     0   \n",
       "4                          0                                     0   \n",
       "\n",
       "   Surface Condition_6 - ICE  Surface Condition_7 - SAND, MUD, DIRT  \n",
       "0                          0                                      0  \n",
       "1                          0                                      0  \n",
       "2                          0                                      0  \n",
       "3                          0                                      0  \n",
       "4                          0                                      0  \n",
       "\n",
       "[5 rows x 61 columns]"
      ]
     },
     "execution_count": 245,
     "metadata": {},
     "output_type": "execute_result"
    }
   ],
   "source": [
    "df_train.head(5)"
   ]
  },
  {
   "cell_type": "code",
   "execution_count": 242,
   "metadata": {},
   "outputs": [
    {
     "data": {
      "text/html": [
       "<div>\n",
       "<style scoped>\n",
       "    .dataframe tbody tr th:only-of-type {\n",
       "        vertical-align: middle;\n",
       "    }\n",
       "\n",
       "    .dataframe tbody tr th {\n",
       "        vertical-align: top;\n",
       "    }\n",
       "\n",
       "    .dataframe thead th {\n",
       "        text-align: right;\n",
       "    }\n",
       "</style>\n",
       "<table border=\"1\" class=\"dataframe\">\n",
       "  <thead>\n",
       "    <tr style=\"text-align: right;\">\n",
       "      <th></th>\n",
       "      <th>$1000 Damage to Any One Person's Property</th>\n",
       "      <th>Construction Zone Flag</th>\n",
       "      <th>Construction Zone Workers Present Flag</th>\n",
       "      <th>Number of Lanes</th>\n",
       "      <th>Surface Width</th>\n",
       "      <th>Bridge Detail_CRASH INVOLVED UNDERPASS</th>\n",
       "      <th>Bridge Detail_NOT APPLICABLE</th>\n",
       "      <th>Bridge Detail_STRUCTURE NOT HIT</th>\n",
       "      <th>Bridge Detail_VEHICLE RETAINED ON BRIDGE OR OVERPASS</th>\n",
       "      <th>Bridge Detail_VEHICLE WENT OVER RAIL</th>\n",
       "      <th>...</th>\n",
       "      <th>Weather Condition_2 - CLOUDY</th>\n",
       "      <th>Weather Condition_3 - RAIN</th>\n",
       "      <th>Weather Condition_4 - SLEET/HAIL</th>\n",
       "      <th>Weather Condition_5 - SNOW</th>\n",
       "      <th>Weather Condition_6 - FOG</th>\n",
       "      <th>Surface Condition_1 - DRY</th>\n",
       "      <th>Surface Condition_2 - WET</th>\n",
       "      <th>Surface Condition_3 - STANDING WATER</th>\n",
       "      <th>Surface Condition_6 - ICE</th>\n",
       "      <th>Surface Condition_7 - SAND, MUD, DIRT</th>\n",
       "    </tr>\n",
       "  </thead>\n",
       "  <tbody>\n",
       "    <tr>\n",
       "      <th>0</th>\n",
       "      <td>1</td>\n",
       "      <td>1</td>\n",
       "      <td>1</td>\n",
       "      <td>8</td>\n",
       "      <td>96</td>\n",
       "      <td>0</td>\n",
       "      <td>1</td>\n",
       "      <td>0</td>\n",
       "      <td>0</td>\n",
       "      <td>0</td>\n",
       "      <td>...</td>\n",
       "      <td>0</td>\n",
       "      <td>0</td>\n",
       "      <td>0</td>\n",
       "      <td>0</td>\n",
       "      <td>0</td>\n",
       "      <td>1</td>\n",
       "      <td>0</td>\n",
       "      <td>0</td>\n",
       "      <td>0</td>\n",
       "      <td>0</td>\n",
       "    </tr>\n",
       "    <tr>\n",
       "      <th>1</th>\n",
       "      <td>1</td>\n",
       "      <td>1</td>\n",
       "      <td>1</td>\n",
       "      <td>8</td>\n",
       "      <td>96</td>\n",
       "      <td>0</td>\n",
       "      <td>1</td>\n",
       "      <td>0</td>\n",
       "      <td>0</td>\n",
       "      <td>0</td>\n",
       "      <td>...</td>\n",
       "      <td>0</td>\n",
       "      <td>0</td>\n",
       "      <td>0</td>\n",
       "      <td>0</td>\n",
       "      <td>0</td>\n",
       "      <td>1</td>\n",
       "      <td>0</td>\n",
       "      <td>0</td>\n",
       "      <td>0</td>\n",
       "      <td>0</td>\n",
       "    </tr>\n",
       "    <tr>\n",
       "      <th>2</th>\n",
       "      <td>1</td>\n",
       "      <td>1</td>\n",
       "      <td>1</td>\n",
       "      <td>6</td>\n",
       "      <td>72</td>\n",
       "      <td>0</td>\n",
       "      <td>1</td>\n",
       "      <td>0</td>\n",
       "      <td>0</td>\n",
       "      <td>0</td>\n",
       "      <td>...</td>\n",
       "      <td>0</td>\n",
       "      <td>0</td>\n",
       "      <td>0</td>\n",
       "      <td>0</td>\n",
       "      <td>0</td>\n",
       "      <td>1</td>\n",
       "      <td>0</td>\n",
       "      <td>0</td>\n",
       "      <td>0</td>\n",
       "      <td>0</td>\n",
       "    </tr>\n",
       "    <tr>\n",
       "      <th>3</th>\n",
       "      <td>1</td>\n",
       "      <td>1</td>\n",
       "      <td>1</td>\n",
       "      <td>8</td>\n",
       "      <td>96</td>\n",
       "      <td>0</td>\n",
       "      <td>1</td>\n",
       "      <td>0</td>\n",
       "      <td>0</td>\n",
       "      <td>0</td>\n",
       "      <td>...</td>\n",
       "      <td>0</td>\n",
       "      <td>0</td>\n",
       "      <td>0</td>\n",
       "      <td>0</td>\n",
       "      <td>0</td>\n",
       "      <td>1</td>\n",
       "      <td>0</td>\n",
       "      <td>0</td>\n",
       "      <td>0</td>\n",
       "      <td>0</td>\n",
       "    </tr>\n",
       "    <tr>\n",
       "      <th>4</th>\n",
       "      <td>1</td>\n",
       "      <td>1</td>\n",
       "      <td>1</td>\n",
       "      <td>8</td>\n",
       "      <td>96</td>\n",
       "      <td>0</td>\n",
       "      <td>1</td>\n",
       "      <td>0</td>\n",
       "      <td>0</td>\n",
       "      <td>0</td>\n",
       "      <td>...</td>\n",
       "      <td>0</td>\n",
       "      <td>0</td>\n",
       "      <td>0</td>\n",
       "      <td>0</td>\n",
       "      <td>0</td>\n",
       "      <td>1</td>\n",
       "      <td>0</td>\n",
       "      <td>0</td>\n",
       "      <td>0</td>\n",
       "      <td>0</td>\n",
       "    </tr>\n",
       "  </tbody>\n",
       "</table>\n",
       "<p>5 rows × 60 columns</p>\n",
       "</div>"
      ],
      "text/plain": [
       "   $1000 Damage to Any One Person's Property  Construction Zone Flag  \\\n",
       "0                                          1                       1   \n",
       "1                                          1                       1   \n",
       "2                                          1                       1   \n",
       "3                                          1                       1   \n",
       "4                                          1                       1   \n",
       "\n",
       "   Construction Zone Workers Present Flag  Number of Lanes  Surface Width  \\\n",
       "0                                       1                8             96   \n",
       "1                                       1                8             96   \n",
       "2                                       1                6             72   \n",
       "3                                       1                8             96   \n",
       "4                                       1                8             96   \n",
       "\n",
       "   Bridge Detail_CRASH INVOLVED UNDERPASS  Bridge Detail_NOT APPLICABLE  \\\n",
       "0                                       0                             1   \n",
       "1                                       0                             1   \n",
       "2                                       0                             1   \n",
       "3                                       0                             1   \n",
       "4                                       0                             1   \n",
       "\n",
       "   Bridge Detail_STRUCTURE NOT HIT  \\\n",
       "0                                0   \n",
       "1                                0   \n",
       "2                                0   \n",
       "3                                0   \n",
       "4                                0   \n",
       "\n",
       "   Bridge Detail_VEHICLE RETAINED ON BRIDGE OR OVERPASS  \\\n",
       "0                                                  0      \n",
       "1                                                  0      \n",
       "2                                                  0      \n",
       "3                                                  0      \n",
       "4                                                  0      \n",
       "\n",
       "   Bridge Detail_VEHICLE WENT OVER RAIL  ...  Weather Condition_2 - CLOUDY  \\\n",
       "0                                     0  ...                             0   \n",
       "1                                     0  ...                             0   \n",
       "2                                     0  ...                             0   \n",
       "3                                     0  ...                             0   \n",
       "4                                     0  ...                             0   \n",
       "\n",
       "   Weather Condition_3 - RAIN  Weather Condition_4 - SLEET/HAIL  \\\n",
       "0                           0                                 0   \n",
       "1                           0                                 0   \n",
       "2                           0                                 0   \n",
       "3                           0                                 0   \n",
       "4                           0                                 0   \n",
       "\n",
       "   Weather Condition_5 - SNOW  Weather Condition_6 - FOG  \\\n",
       "0                           0                          0   \n",
       "1                           0                          0   \n",
       "2                           0                          0   \n",
       "3                           0                          0   \n",
       "4                           0                          0   \n",
       "\n",
       "   Surface Condition_1 - DRY  Surface Condition_2 - WET  \\\n",
       "0                          1                          0   \n",
       "1                          1                          0   \n",
       "2                          1                          0   \n",
       "3                          1                          0   \n",
       "4                          1                          0   \n",
       "\n",
       "   Surface Condition_3 - STANDING WATER  Surface Condition_6 - ICE  \\\n",
       "0                                     0                          0   \n",
       "1                                     0                          0   \n",
       "2                                     0                          0   \n",
       "3                                     0                          0   \n",
       "4                                     0                          0   \n",
       "\n",
       "   Surface Condition_7 - SAND, MUD, DIRT  \n",
       "0                                      0  \n",
       "1                                      0  \n",
       "2                                      0  \n",
       "3                                      0  \n",
       "4                                      0  \n",
       "\n",
       "[5 rows x 60 columns]"
      ]
     },
     "execution_count": 242,
     "metadata": {},
     "output_type": "execute_result"
    }
   ],
   "source": [
    "df_test.head(5)"
   ]
  },
  {
   "cell_type": "markdown",
   "metadata": {},
   "source": [
    "# Machine learning models"
   ]
  },
  {
   "cell_type": "code",
   "execution_count": 180,
   "metadata": {},
   "outputs": [],
   "source": [
    "from sklearn.preprocessing import StandardScaler, MinMaxScaler\n",
    "from sklearn.model_selection import train_test_split\n",
    "from sklearn.linear_model import LogisticRegression\n",
    "from sklearn.neighbors import KNeighborsClassifier\n",
    "from sklearn.model_selection import GridSearchCV\n",
    "from sklearn.svm import LinearSVC\n",
    "from sklearn.svm import SVC\n",
    "from sklearn.tree import DecisionTreeClassifier\n",
    "from sklearn.metrics import confusion_matrix, roc_auc_score, ConfusionMatrixDisplay, classification_report, roc_curve, plot_roc_curve, auc, precision_recall_curve, plot_precision_recall_curve, average_precision_score\n",
    "from sklearn.model_selection import cross_val_score\n",
    "from sklearn.ensemble import RandomForestClassifier"
   ]
  },
  {
   "cell_type": "code",
   "execution_count": 181,
   "metadata": {},
   "outputs": [],
   "source": [
    "# Crash Severity is the target column and all other columns are the regressors\n",
    "X = df_train.drop(columns = ['Crash Severity'])\n",
    "y = df_train['Crash Severity'].values"
   ]
  },
  {
   "cell_type": "code",
   "execution_count": 182,
   "metadata": {},
   "outputs": [],
   "source": [
    "X_train, X_test, y_train, y_test = train_test_split(X, y, test_size=0.20, random_state=0)"
   ]
  },
  {
   "cell_type": "code",
   "execution_count": 183,
   "metadata": {},
   "outputs": [],
   "source": [
    "# Using MinMax scaler to scale the data owing to the presence of more dummy variables and to preserve the distribution in the imbalanced dataset and since Stdscaler might normalized the distribution\n",
    "Scaler = MinMaxScaler()\n",
    "X_train = Scaler.fit_transform(X_train)\n",
    "X_test = Scaler.transform(X_test)\n",
    "df_test_scaled = Scaler.transform(df_test)"
   ]
  },
  {
   "cell_type": "markdown",
   "metadata": {},
   "source": [
    "### KNN"
   ]
  },
  {
   "cell_type": "code",
   "execution_count": 184,
   "metadata": {},
   "outputs": [],
   "source": [
    "# Since this dataset has ~2200 records, limited n_neighbours of range 1-15 and both euclidean and manhattan distance metric is considered\n",
    "param_grid = {\"n_neighbors\": np.arange(1,15), 'weights': ['uniform', 'distance'], 'metric' : ['euclidean', 'manhattan', 'minkowski']}"
   ]
  },
  {
   "cell_type": "code",
   "execution_count": 185,
   "metadata": {},
   "outputs": [
    {
     "data": {
      "text/plain": [
       "GridSearchCV(cv=5, estimator=KNeighborsClassifier(), n_jobs=-1,\n",
       "             param_grid={'metric': ['euclidean', 'manhattan', 'minkowski'],\n",
       "                         'n_neighbors': array([ 1,  2,  3,  4,  5,  6,  7,  8,  9, 10, 11, 12, 13, 14]),\n",
       "                         'weights': ['uniform', 'distance']},\n",
       "             return_train_score=True, scoring='roc_auc')"
      ]
     },
     "execution_count": 185,
     "metadata": {},
     "output_type": "execute_result"
    }
   ],
   "source": [
    "knn = KNeighborsClassifier()\n",
    "grid_clf = GridSearchCV(knn, param_grid, cv = 5, return_train_score=True, n_jobs = -1, scoring= 'roc_auc')\n",
    "grid_clf.fit(X_train, y_train)"
   ]
  },
  {
   "cell_type": "code",
   "execution_count": 186,
   "metadata": {
    "scrolled": true
   },
   "outputs": [
    {
     "name": "stdout",
     "output_type": "stream",
     "text": [
      "Best parameters: {'metric': 'euclidean', 'n_neighbors': 13, 'weights': 'uniform'}\n",
      "Best cross-validation score: 0.5525\n",
      "ROC-AUC Train score: 0.8940\n",
      "ROC-AUC Test score: 0.4729\n"
     ]
    }
   ],
   "source": [
    "print(\"Best parameters: {}\".format(grid_clf.best_params_))\n",
    "print(\"Best cross-validation score: {:.4f}\".format(grid_clf.best_score_))\n",
    "print(\"ROC-AUC Train score: {:.4f}\".format(grid_clf.score(X_train, y_train)))\n",
    "print(\"ROC-AUC Test score: {:.4f}\".format(grid_clf.score(X_test, y_test)))"
   ]
  },
  {
   "cell_type": "markdown",
   "metadata": {},
   "source": [
    "### Logistic Regression"
   ]
  },
  {
   "cell_type": "code",
   "execution_count": 187,
   "metadata": {},
   "outputs": [],
   "source": [
    "param_grid = {\"penalty\": ['l1', 'l2'], 'C': [0.001, 0.01, 0.1, 1, 10, 50, 70 , 80, 100], 'solver' : ['lbfgs', 'liblinear', 'newton-cg'], 'max_iter': [80, 100, 150, 200, 300]}"
   ]
  },
  {
   "cell_type": "code",
   "execution_count": 188,
   "metadata": {
    "collapsed": true
   },
   "outputs": [
    {
     "ename": "KeyboardInterrupt",
     "evalue": "",
     "output_type": "error",
     "traceback": [
      "\u001b[1;31m---------------------------------------------------------------------------\u001b[0m",
      "\u001b[1;31mKeyboardInterrupt\u001b[0m                         Traceback (most recent call last)",
      "\u001b[1;32m<ipython-input-188-d0220c70fc1c>\u001b[0m in \u001b[0;36m<module>\u001b[1;34m\u001b[0m\n\u001b[0;32m      1\u001b[0m \u001b[0mgrid_clf\u001b[0m \u001b[1;33m=\u001b[0m \u001b[0mGridSearchCV\u001b[0m\u001b[1;33m(\u001b[0m\u001b[0mLogisticRegression\u001b[0m\u001b[1;33m(\u001b[0m\u001b[0mrandom_state\u001b[0m\u001b[1;33m=\u001b[0m\u001b[1;36m42\u001b[0m\u001b[1;33m)\u001b[0m\u001b[1;33m,\u001b[0m \u001b[0mparam_grid\u001b[0m\u001b[1;33m,\u001b[0m \u001b[0mcv\u001b[0m \u001b[1;33m=\u001b[0m \u001b[1;36m5\u001b[0m\u001b[1;33m,\u001b[0m \u001b[0mreturn_train_score\u001b[0m\u001b[1;33m=\u001b[0m\u001b[1;32mTrue\u001b[0m\u001b[1;33m,\u001b[0m \u001b[0mn_jobs\u001b[0m \u001b[1;33m=\u001b[0m \u001b[1;33m-\u001b[0m\u001b[1;36m1\u001b[0m\u001b[1;33m,\u001b[0m \u001b[0mscoring\u001b[0m\u001b[1;33m=\u001b[0m \u001b[1;34m'roc_auc'\u001b[0m\u001b[1;33m)\u001b[0m\u001b[1;33m\u001b[0m\u001b[1;33m\u001b[0m\u001b[0m\n\u001b[1;32m----> 2\u001b[1;33m \u001b[0mgrid_clf\u001b[0m\u001b[1;33m.\u001b[0m\u001b[0mfit\u001b[0m\u001b[1;33m(\u001b[0m\u001b[0mX_train\u001b[0m\u001b[1;33m,\u001b[0m \u001b[0my_train\u001b[0m\u001b[1;33m)\u001b[0m\u001b[1;33m\u001b[0m\u001b[1;33m\u001b[0m\u001b[0m\n\u001b[0m",
      "\u001b[1;32m~\\anaconda3\\lib\\site-packages\\sklearn\\utils\\validation.py\u001b[0m in \u001b[0;36minner_f\u001b[1;34m(*args, **kwargs)\u001b[0m\n\u001b[0;32m     61\u001b[0m             \u001b[0mextra_args\u001b[0m \u001b[1;33m=\u001b[0m \u001b[0mlen\u001b[0m\u001b[1;33m(\u001b[0m\u001b[0margs\u001b[0m\u001b[1;33m)\u001b[0m \u001b[1;33m-\u001b[0m \u001b[0mlen\u001b[0m\u001b[1;33m(\u001b[0m\u001b[0mall_args\u001b[0m\u001b[1;33m)\u001b[0m\u001b[1;33m\u001b[0m\u001b[1;33m\u001b[0m\u001b[0m\n\u001b[0;32m     62\u001b[0m             \u001b[1;32mif\u001b[0m \u001b[0mextra_args\u001b[0m \u001b[1;33m<=\u001b[0m \u001b[1;36m0\u001b[0m\u001b[1;33m:\u001b[0m\u001b[1;33m\u001b[0m\u001b[1;33m\u001b[0m\u001b[0m\n\u001b[1;32m---> 63\u001b[1;33m                 \u001b[1;32mreturn\u001b[0m \u001b[0mf\u001b[0m\u001b[1;33m(\u001b[0m\u001b[1;33m*\u001b[0m\u001b[0margs\u001b[0m\u001b[1;33m,\u001b[0m \u001b[1;33m**\u001b[0m\u001b[0mkwargs\u001b[0m\u001b[1;33m)\u001b[0m\u001b[1;33m\u001b[0m\u001b[1;33m\u001b[0m\u001b[0m\n\u001b[0m\u001b[0;32m     64\u001b[0m \u001b[1;33m\u001b[0m\u001b[0m\n\u001b[0;32m     65\u001b[0m             \u001b[1;31m# extra_args > 0\u001b[0m\u001b[1;33m\u001b[0m\u001b[1;33m\u001b[0m\u001b[1;33m\u001b[0m\u001b[0m\n",
      "\u001b[1;32m~\\anaconda3\\lib\\site-packages\\sklearn\\model_selection\\_search.py\u001b[0m in \u001b[0;36mfit\u001b[1;34m(self, X, y, groups, **fit_params)\u001b[0m\n\u001b[0;32m    839\u001b[0m                 \u001b[1;32mreturn\u001b[0m \u001b[0mresults\u001b[0m\u001b[1;33m\u001b[0m\u001b[1;33m\u001b[0m\u001b[0m\n\u001b[0;32m    840\u001b[0m \u001b[1;33m\u001b[0m\u001b[0m\n\u001b[1;32m--> 841\u001b[1;33m             \u001b[0mself\u001b[0m\u001b[1;33m.\u001b[0m\u001b[0m_run_search\u001b[0m\u001b[1;33m(\u001b[0m\u001b[0mevaluate_candidates\u001b[0m\u001b[1;33m)\u001b[0m\u001b[1;33m\u001b[0m\u001b[1;33m\u001b[0m\u001b[0m\n\u001b[0m\u001b[0;32m    842\u001b[0m \u001b[1;33m\u001b[0m\u001b[0m\n\u001b[0;32m    843\u001b[0m             \u001b[1;31m# multimetric is determined here because in the case of a callable\u001b[0m\u001b[1;33m\u001b[0m\u001b[1;33m\u001b[0m\u001b[1;33m\u001b[0m\u001b[0m\n",
      "\u001b[1;32m~\\anaconda3\\lib\\site-packages\\sklearn\\model_selection\\_search.py\u001b[0m in \u001b[0;36m_run_search\u001b[1;34m(self, evaluate_candidates)\u001b[0m\n\u001b[0;32m   1294\u001b[0m     \u001b[1;32mdef\u001b[0m \u001b[0m_run_search\u001b[0m\u001b[1;33m(\u001b[0m\u001b[0mself\u001b[0m\u001b[1;33m,\u001b[0m \u001b[0mevaluate_candidates\u001b[0m\u001b[1;33m)\u001b[0m\u001b[1;33m:\u001b[0m\u001b[1;33m\u001b[0m\u001b[1;33m\u001b[0m\u001b[0m\n\u001b[0;32m   1295\u001b[0m         \u001b[1;34m\"\"\"Search all candidates in param_grid\"\"\"\u001b[0m\u001b[1;33m\u001b[0m\u001b[1;33m\u001b[0m\u001b[0m\n\u001b[1;32m-> 1296\u001b[1;33m         \u001b[0mevaluate_candidates\u001b[0m\u001b[1;33m(\u001b[0m\u001b[0mParameterGrid\u001b[0m\u001b[1;33m(\u001b[0m\u001b[0mself\u001b[0m\u001b[1;33m.\u001b[0m\u001b[0mparam_grid\u001b[0m\u001b[1;33m)\u001b[0m\u001b[1;33m)\u001b[0m\u001b[1;33m\u001b[0m\u001b[1;33m\u001b[0m\u001b[0m\n\u001b[0m\u001b[0;32m   1297\u001b[0m \u001b[1;33m\u001b[0m\u001b[0m\n\u001b[0;32m   1298\u001b[0m \u001b[1;33m\u001b[0m\u001b[0m\n",
      "\u001b[1;32m~\\anaconda3\\lib\\site-packages\\sklearn\\model_selection\\_search.py\u001b[0m in \u001b[0;36mevaluate_candidates\u001b[1;34m(candidate_params, cv, more_results)\u001b[0m\n\u001b[0;32m    793\u001b[0m                               n_splits, n_candidates, n_candidates * n_splits))\n\u001b[0;32m    794\u001b[0m \u001b[1;33m\u001b[0m\u001b[0m\n\u001b[1;32m--> 795\u001b[1;33m                 out = parallel(delayed(_fit_and_score)(clone(base_estimator),\n\u001b[0m\u001b[0;32m    796\u001b[0m                                                        \u001b[0mX\u001b[0m\u001b[1;33m,\u001b[0m \u001b[0my\u001b[0m\u001b[1;33m,\u001b[0m\u001b[1;33m\u001b[0m\u001b[1;33m\u001b[0m\u001b[0m\n\u001b[0;32m    797\u001b[0m                                                        \u001b[0mtrain\u001b[0m\u001b[1;33m=\u001b[0m\u001b[0mtrain\u001b[0m\u001b[1;33m,\u001b[0m \u001b[0mtest\u001b[0m\u001b[1;33m=\u001b[0m\u001b[0mtest\u001b[0m\u001b[1;33m,\u001b[0m\u001b[1;33m\u001b[0m\u001b[1;33m\u001b[0m\u001b[0m\n",
      "\u001b[1;32m~\\anaconda3\\lib\\site-packages\\joblib\\parallel.py\u001b[0m in \u001b[0;36m__call__\u001b[1;34m(self, iterable)\u001b[0m\n\u001b[0;32m   1059\u001b[0m \u001b[1;33m\u001b[0m\u001b[0m\n\u001b[0;32m   1060\u001b[0m             \u001b[1;32mwith\u001b[0m \u001b[0mself\u001b[0m\u001b[1;33m.\u001b[0m\u001b[0m_backend\u001b[0m\u001b[1;33m.\u001b[0m\u001b[0mretrieval_context\u001b[0m\u001b[1;33m(\u001b[0m\u001b[1;33m)\u001b[0m\u001b[1;33m:\u001b[0m\u001b[1;33m\u001b[0m\u001b[1;33m\u001b[0m\u001b[0m\n\u001b[1;32m-> 1061\u001b[1;33m                 \u001b[0mself\u001b[0m\u001b[1;33m.\u001b[0m\u001b[0mretrieve\u001b[0m\u001b[1;33m(\u001b[0m\u001b[1;33m)\u001b[0m\u001b[1;33m\u001b[0m\u001b[1;33m\u001b[0m\u001b[0m\n\u001b[0m\u001b[0;32m   1062\u001b[0m             \u001b[1;31m# Make sure that we get a last message telling us we are done\u001b[0m\u001b[1;33m\u001b[0m\u001b[1;33m\u001b[0m\u001b[1;33m\u001b[0m\u001b[0m\n\u001b[0;32m   1063\u001b[0m             \u001b[0melapsed_time\u001b[0m \u001b[1;33m=\u001b[0m \u001b[0mtime\u001b[0m\u001b[1;33m.\u001b[0m\u001b[0mtime\u001b[0m\u001b[1;33m(\u001b[0m\u001b[1;33m)\u001b[0m \u001b[1;33m-\u001b[0m \u001b[0mself\u001b[0m\u001b[1;33m.\u001b[0m\u001b[0m_start_time\u001b[0m\u001b[1;33m\u001b[0m\u001b[1;33m\u001b[0m\u001b[0m\n",
      "\u001b[1;32m~\\anaconda3\\lib\\site-packages\\joblib\\parallel.py\u001b[0m in \u001b[0;36mretrieve\u001b[1;34m(self)\u001b[0m\n\u001b[0;32m    938\u001b[0m             \u001b[1;32mtry\u001b[0m\u001b[1;33m:\u001b[0m\u001b[1;33m\u001b[0m\u001b[1;33m\u001b[0m\u001b[0m\n\u001b[0;32m    939\u001b[0m                 \u001b[1;32mif\u001b[0m \u001b[0mgetattr\u001b[0m\u001b[1;33m(\u001b[0m\u001b[0mself\u001b[0m\u001b[1;33m.\u001b[0m\u001b[0m_backend\u001b[0m\u001b[1;33m,\u001b[0m \u001b[1;34m'supports_timeout'\u001b[0m\u001b[1;33m,\u001b[0m \u001b[1;32mFalse\u001b[0m\u001b[1;33m)\u001b[0m\u001b[1;33m:\u001b[0m\u001b[1;33m\u001b[0m\u001b[1;33m\u001b[0m\u001b[0m\n\u001b[1;32m--> 940\u001b[1;33m                     \u001b[0mself\u001b[0m\u001b[1;33m.\u001b[0m\u001b[0m_output\u001b[0m\u001b[1;33m.\u001b[0m\u001b[0mextend\u001b[0m\u001b[1;33m(\u001b[0m\u001b[0mjob\u001b[0m\u001b[1;33m.\u001b[0m\u001b[0mget\u001b[0m\u001b[1;33m(\u001b[0m\u001b[0mtimeout\u001b[0m\u001b[1;33m=\u001b[0m\u001b[0mself\u001b[0m\u001b[1;33m.\u001b[0m\u001b[0mtimeout\u001b[0m\u001b[1;33m)\u001b[0m\u001b[1;33m)\u001b[0m\u001b[1;33m\u001b[0m\u001b[1;33m\u001b[0m\u001b[0m\n\u001b[0m\u001b[0;32m    941\u001b[0m                 \u001b[1;32melse\u001b[0m\u001b[1;33m:\u001b[0m\u001b[1;33m\u001b[0m\u001b[1;33m\u001b[0m\u001b[0m\n\u001b[0;32m    942\u001b[0m                     \u001b[0mself\u001b[0m\u001b[1;33m.\u001b[0m\u001b[0m_output\u001b[0m\u001b[1;33m.\u001b[0m\u001b[0mextend\u001b[0m\u001b[1;33m(\u001b[0m\u001b[0mjob\u001b[0m\u001b[1;33m.\u001b[0m\u001b[0mget\u001b[0m\u001b[1;33m(\u001b[0m\u001b[1;33m)\u001b[0m\u001b[1;33m)\u001b[0m\u001b[1;33m\u001b[0m\u001b[1;33m\u001b[0m\u001b[0m\n",
      "\u001b[1;32m~\\anaconda3\\lib\\site-packages\\joblib\\_parallel_backends.py\u001b[0m in \u001b[0;36mwrap_future_result\u001b[1;34m(future, timeout)\u001b[0m\n\u001b[0;32m    540\u001b[0m         AsyncResults.get from multiprocessing.\"\"\"\n\u001b[0;32m    541\u001b[0m         \u001b[1;32mtry\u001b[0m\u001b[1;33m:\u001b[0m\u001b[1;33m\u001b[0m\u001b[1;33m\u001b[0m\u001b[0m\n\u001b[1;32m--> 542\u001b[1;33m             \u001b[1;32mreturn\u001b[0m \u001b[0mfuture\u001b[0m\u001b[1;33m.\u001b[0m\u001b[0mresult\u001b[0m\u001b[1;33m(\u001b[0m\u001b[0mtimeout\u001b[0m\u001b[1;33m=\u001b[0m\u001b[0mtimeout\u001b[0m\u001b[1;33m)\u001b[0m\u001b[1;33m\u001b[0m\u001b[1;33m\u001b[0m\u001b[0m\n\u001b[0m\u001b[0;32m    543\u001b[0m         \u001b[1;32mexcept\u001b[0m \u001b[0mCfTimeoutError\u001b[0m \u001b[1;32mas\u001b[0m \u001b[0me\u001b[0m\u001b[1;33m:\u001b[0m\u001b[1;33m\u001b[0m\u001b[1;33m\u001b[0m\u001b[0m\n\u001b[0;32m    544\u001b[0m             \u001b[1;32mraise\u001b[0m \u001b[0mTimeoutError\u001b[0m \u001b[1;32mfrom\u001b[0m \u001b[0me\u001b[0m\u001b[1;33m\u001b[0m\u001b[1;33m\u001b[0m\u001b[0m\n",
      "\u001b[1;32m~\\anaconda3\\lib\\concurrent\\futures\\_base.py\u001b[0m in \u001b[0;36mresult\u001b[1;34m(self, timeout)\u001b[0m\n\u001b[0;32m    432\u001b[0m                 \u001b[1;32mreturn\u001b[0m \u001b[0mself\u001b[0m\u001b[1;33m.\u001b[0m\u001b[0m__get_result\u001b[0m\u001b[1;33m(\u001b[0m\u001b[1;33m)\u001b[0m\u001b[1;33m\u001b[0m\u001b[1;33m\u001b[0m\u001b[0m\n\u001b[0;32m    433\u001b[0m \u001b[1;33m\u001b[0m\u001b[0m\n\u001b[1;32m--> 434\u001b[1;33m             \u001b[0mself\u001b[0m\u001b[1;33m.\u001b[0m\u001b[0m_condition\u001b[0m\u001b[1;33m.\u001b[0m\u001b[0mwait\u001b[0m\u001b[1;33m(\u001b[0m\u001b[0mtimeout\u001b[0m\u001b[1;33m)\u001b[0m\u001b[1;33m\u001b[0m\u001b[1;33m\u001b[0m\u001b[0m\n\u001b[0m\u001b[0;32m    435\u001b[0m \u001b[1;33m\u001b[0m\u001b[0m\n\u001b[0;32m    436\u001b[0m             \u001b[1;32mif\u001b[0m \u001b[0mself\u001b[0m\u001b[1;33m.\u001b[0m\u001b[0m_state\u001b[0m \u001b[1;32min\u001b[0m \u001b[1;33m[\u001b[0m\u001b[0mCANCELLED\u001b[0m\u001b[1;33m,\u001b[0m \u001b[0mCANCELLED_AND_NOTIFIED\u001b[0m\u001b[1;33m]\u001b[0m\u001b[1;33m:\u001b[0m\u001b[1;33m\u001b[0m\u001b[1;33m\u001b[0m\u001b[0m\n",
      "\u001b[1;32m~\\anaconda3\\lib\\threading.py\u001b[0m in \u001b[0;36mwait\u001b[1;34m(self, timeout)\u001b[0m\n\u001b[0;32m    300\u001b[0m         \u001b[1;32mtry\u001b[0m\u001b[1;33m:\u001b[0m    \u001b[1;31m# restore state no matter what (e.g., KeyboardInterrupt)\u001b[0m\u001b[1;33m\u001b[0m\u001b[1;33m\u001b[0m\u001b[0m\n\u001b[0;32m    301\u001b[0m             \u001b[1;32mif\u001b[0m \u001b[0mtimeout\u001b[0m \u001b[1;32mis\u001b[0m \u001b[1;32mNone\u001b[0m\u001b[1;33m:\u001b[0m\u001b[1;33m\u001b[0m\u001b[1;33m\u001b[0m\u001b[0m\n\u001b[1;32m--> 302\u001b[1;33m                 \u001b[0mwaiter\u001b[0m\u001b[1;33m.\u001b[0m\u001b[0macquire\u001b[0m\u001b[1;33m(\u001b[0m\u001b[1;33m)\u001b[0m\u001b[1;33m\u001b[0m\u001b[1;33m\u001b[0m\u001b[0m\n\u001b[0m\u001b[0;32m    303\u001b[0m                 \u001b[0mgotit\u001b[0m \u001b[1;33m=\u001b[0m \u001b[1;32mTrue\u001b[0m\u001b[1;33m\u001b[0m\u001b[1;33m\u001b[0m\u001b[0m\n\u001b[0;32m    304\u001b[0m             \u001b[1;32melse\u001b[0m\u001b[1;33m:\u001b[0m\u001b[1;33m\u001b[0m\u001b[1;33m\u001b[0m\u001b[0m\n",
      "\u001b[1;31mKeyboardInterrupt\u001b[0m: "
     ]
    }
   ],
   "source": [
    "grid_clf = GridSearchCV(LogisticRegression(random_state=42), param_grid, cv = 5, return_train_score=True, n_jobs = -1, scoring= 'roc_auc')\n",
    "grid_clf.fit(X_train, y_train)"
   ]
  },
  {
   "cell_type": "code",
   "execution_count": null,
   "metadata": {},
   "outputs": [],
   "source": [
    "# final1 = minmax scaler\n",
    "y_pred = grid_clf.predict(X_test)\n",
    "print(\"Best parameters: {}\".format(grid_clf.best_params_))\n",
    "print(\"Best cross-validation score: {:.4f}\".format(grid_clf.best_score_))\n",
    "print(\"ROC AUC Train score: {:.4f}\".format(grid_clf.score(X_train, y_train)))\n",
    "print(\"ROC AUC Test score: {:.4f}\".format(grid_clf.score(X_test, y_test)))"
   ]
  },
  {
   "cell_type": "markdown",
   "metadata": {},
   "source": [
    "### Linear SVC"
   ]
  },
  {
   "cell_type": "code",
   "execution_count": null,
   "metadata": {},
   "outputs": [],
   "source": [
    "param_grid = {'C':[0.001, 0.01, 0.1, 1.0, 10.0, 100.0, 1000.0, 10000.0],'penalty':['l1','l2'], 'max_iter': [100, 200, 300]}"
   ]
  },
  {
   "cell_type": "code",
   "execution_count": null,
   "metadata": {},
   "outputs": [],
   "source": [
    "grid_clf = GridSearchCV(LinearSVC(random_state=0), param_grid, cv = 5, return_train_score=True, n_jobs=-1, scoring= 'roc_auc')\n",
    "grid_clf.fit(X_train, y_train)"
   ]
  },
  {
   "cell_type": "code",
   "execution_count": null,
   "metadata": {},
   "outputs": [],
   "source": [
    "y_pred = grid_clf.predict(X_test)\n",
    "print(\"Best parameters: {}\".format(grid_clf.best_params_))\n",
    "print(\"Best cross-validation score: {:.4f}\".format(grid_clf.best_score_))\n",
    "print(\"ROC AUC Train score: {:.4f}\".format(grid_clf.score(X_train, y_train)))\n",
    "print(\"ROC AUC Test score: {:.4f}\".format(grid_clf.score(X_test, y_test)))"
   ]
  },
  {
   "cell_type": "markdown",
   "metadata": {},
   "source": [
    "### Kernalized SVC (rbf, poly, linear)"
   ]
  },
  {
   "cell_type": "markdown",
   "metadata": {},
   "source": [
    "### SVC Kernel Linear"
   ]
  },
  {
   "cell_type": "code",
   "execution_count": null,
   "metadata": {},
   "outputs": [],
   "source": [
    "param_grid = {'C':[0.001, 0.01, 0.1, 1.0, 10.0, 100.0], 'kernel':['linear'], 'max_iter': [100, 200, 300]}"
   ]
  },
  {
   "cell_type": "code",
   "execution_count": null,
   "metadata": {},
   "outputs": [],
   "source": [
    "# Recall score is the chosen evaluation criterion\n",
    "grid_clf = GridSearchCV(SVC(random_state=0), param_grid, cv = 5, return_train_score=True, n_jobs=-1, scoring= 'roc_auc')\n",
    "grid_clf.fit(X_train, y_train)"
   ]
  },
  {
   "cell_type": "code",
   "execution_count": null,
   "metadata": {},
   "outputs": [],
   "source": [
    "y_pred = grid_clf.predict(X_test)\n",
    "print(\"Best parameters: {}\".format(grid_clf.best_params_))\n",
    "print(\"Best cross-validation score: {:.4f}\".format(grid_clf.best_score_))\n",
    "print(\"ROC AUC Train score: {:.4f}\".format(grid_clf.score(X_train, y_train)))\n",
    "print(\"ROC AUC Test score: {:.4f}\".format(grid_clf.score(X_test, y_test)))"
   ]
  },
  {
   "cell_type": "markdown",
   "metadata": {},
   "source": [
    "### SVC Kernel rbf"
   ]
  },
  {
   "cell_type": "code",
   "execution_count": null,
   "metadata": {},
   "outputs": [],
   "source": [
    "param_grid = {'C':[0.001, 0.01, 0.1, 1.0, 10.0, 100.0],'gamma':[0.001, 0.01, 0.1, 1.0, 10.0, 100.0], 'kernel':['rbf'], 'max_iter': [100, 200, 300]}"
   ]
  },
  {
   "cell_type": "code",
   "execution_count": null,
   "metadata": {},
   "outputs": [],
   "source": [
    "grid_clf = GridSearchCV(SVC(random_state=0), param_grid, cv = 5, return_train_score=True, n_jobs=-1, scoring= 'roc_auc')\n",
    "grid_clf.fit(X_train, y_train)"
   ]
  },
  {
   "cell_type": "code",
   "execution_count": null,
   "metadata": {},
   "outputs": [],
   "source": [
    "y_pred = grid_clf.predict(X_test)\n",
    "print(\"Best parameters: {}\".format(grid_clf.best_params_))\n",
    "print(\"Best cross-validation score: {:.4f}\".format(grid_clf.best_score_))\n",
    "print(\"ROC AUC Train score: {:.4f}\".format(grid_clf.score(X_train, y_train)))\n",
    "print(\"ROC AUC Test score: {:.4f}\".format(grid_clf.score(X_test, y_test)))"
   ]
  },
  {
   "cell_type": "markdown",
   "metadata": {},
   "source": [
    "### SVC Kernel poly"
   ]
  },
  {
   "cell_type": "code",
   "execution_count": null,
   "metadata": {},
   "outputs": [],
   "source": [
    "param_grid = {'C':[0.001, 0.01, 0.1, 1.0, 10.0, 100.0],'gamma':[0.001, 0.01, 0.1, 1.0, 10.0, 100.0], 'degree':[2, 3, 4, 5], 'kernel':['poly'], 'max_iter': [100, 200, 300]}"
   ]
  },
  {
   "cell_type": "code",
   "execution_count": null,
   "metadata": {},
   "outputs": [],
   "source": [
    "grid_clf = GridSearchCV(SVC(random_state=0), param_grid, cv = 5, return_train_score=True, n_jobs=-1, scoring= 'roc_auc')\n",
    "grid_clf.fit(X_train, y_train)"
   ]
  },
  {
   "cell_type": "code",
   "execution_count": null,
   "metadata": {},
   "outputs": [],
   "source": [
    "y_pred = grid_clf.predict(X_test)\n",
    "print(\"Best parameters: {}\".format(grid_clf.best_params_))\n",
    "print(\"Best cross-validation score: {:.4f}\".format(grid_clf.best_score_))\n",
    "print(\"ROC AUC Train score: {:.4f}\".format(grid_clf.score(X_train, y_train)))\n",
    "print(\"ROC AUC Test score: {:.4f}\".format(grid_clf.score(X_test, y_test)))"
   ]
  },
  {
   "cell_type": "markdown",
   "metadata": {},
   "source": [
    "### Decision Tree Classifier"
   ]
  },
  {
   "cell_type": "code",
   "execution_count": null,
   "metadata": {},
   "outputs": [],
   "source": [
    "param_grid = {\"criterion\": ['gini', 'entropy'], 'max_depth': np.arange(2,26), 'max_leaf_nodes' : np.arange(1,26)}"
   ]
  },
  {
   "cell_type": "code",
   "execution_count": null,
   "metadata": {},
   "outputs": [],
   "source": [
    "grid_clf = GridSearchCV(DecisionTreeClassifier(random_state = 0), param_grid, cv = 5, return_train_score=True, n_jobs=-1, scoring= 'roc_auc')\n",
    "grid_clf.fit(X_train, y_train)"
   ]
  },
  {
   "cell_type": "code",
   "execution_count": null,
   "metadata": {},
   "outputs": [],
   "source": [
    "y_pred = grid_clf.predict(X_test)\n",
    "print(\"Best parameters: {}\".format(grid_clf.best_params_))\n",
    "print(\"Best cross-validation score: {:.4f}\".format(grid_clf.best_score_))\n",
    "print(\"ROC AUC Train score: {:.4f}\".format(grid_clf.score(X_train, y_train)))\n",
    "print(\"ROC AUC Test score: {:.4f}\".format(grid_clf.score(X_test, y_test)))"
   ]
  },
  {
   "cell_type": "markdown",
   "metadata": {},
   "source": [
    "### Random Forest Classifier"
   ]
  },
  {
   "cell_type": "code",
   "execution_count": null,
   "metadata": {},
   "outputs": [],
   "source": [
    "param_grid = {'criterion': ['gini', 'entropy'], 'max_depth': np.arange(2,26), 'max_leaf_nodes': np.arange(2,26)}"
   ]
  },
  {
   "cell_type": "code",
   "execution_count": null,
   "metadata": {},
   "outputs": [],
   "source": [
    "grid_clf = GridSearchCV(RandomForestClassifier(random_state=0), param_grid, cv = 5, n_jobs = -1, scoring = 'roc_auc', return_train_score=True)\n",
    "grid_clf.fit(X_train, y_train)"
   ]
  },
  {
   "cell_type": "code",
   "execution_count": null,
   "metadata": {},
   "outputs": [],
   "source": [
    "y_pred = grid_clf.predict(X_test)\n",
    "print(\"Best parameters: {}\".format(grid_clf.best_params_))\n",
    "print(\"Best cross-validation score: {:.4f}\".format(grid_clf.best_score_))\n",
    "print(\"ROC AUC Train score: {:.4f}\".format(grid_clf.score(X_train, y_train)))\n",
    "print(\"ROC AUC Test score: {:.4f}\".format(grid_clf.score(X_test, y_test)))"
   ]
  },
  {
   "cell_type": "markdown",
   "metadata": {},
   "source": [
    "Since Logistic regression seems to perform better with a high ROC AUC Train score: 0.8485 and ROC AUC Test score: 0.7733 and that of a least gap between train and test score.\n",
    "Hence Logistic Regression is chosen as a base model for the ensemble models"
   ]
  },
  {
   "cell_type": "markdown",
   "metadata": {},
   "source": [
    "### ENSEMBLE MODELS"
   ]
  },
  {
   "cell_type": "markdown",
   "metadata": {},
   "source": [
    "### Bagging Classifier with Bagging"
   ]
  },
  {
   "cell_type": "code",
   "execution_count": null,
   "metadata": {},
   "outputs": [],
   "source": [
    "import warnings\n",
    "warnings.filterwarnings(\"ignore\")\n",
    "\n",
    "from sklearn.model_selection import GridSearchCV\n",
    "from sklearn.ensemble import BaggingClassifier\n",
    "\n",
    "param_grid = {'n_estimators':[2, 3, 4, 5, 8, 10],\n",
    "              'max_samples':[0.01, 0.05, 0.1], \n",
    "              'max_features':[0, 0.01, 0.001, 0.1, 0.5, 1]}\n",
    "\n",
    "bag_clf = BaggingClassifier(LogisticRegression(C=100, max_iter=100, penalty='l2', solver='lbfgs', random_state=0), bootstrap=True, random_state=0)\n",
    "grid_clf = GridSearchCV(bag_clf, param_grid = param_grid, cv = 5, scoring=\"roc_auc\", n_jobs=-1)\n",
    "grid_clf.fit(X_train, y_train)"
   ]
  },
  {
   "cell_type": "code",
   "execution_count": null,
   "metadata": {},
   "outputs": [],
   "source": [
    "y_pred = grid_clf.predict(X_test)\n",
    "print(\"Best parameters: {}\".format(grid_clf.best_params_))\n",
    "print(\"Best cross-validation score: {:.4f}\".format(grid_clf.best_score_))\n",
    "print(\"ROC AUC Train score: {:.4f}\".format(grid_clf.score(X_train, y_train)))\n",
    "print(\"ROC AUC Test score: {:.4f}\".format(grid_clf.score(X_test, y_test)))"
   ]
  },
  {
   "cell_type": "markdown",
   "metadata": {},
   "source": [
    "### Bagging Classifier with Pasting"
   ]
  },
  {
   "cell_type": "code",
   "execution_count": null,
   "metadata": {},
   "outputs": [],
   "source": [
    "import warnings\n",
    "warnings.filterwarnings(\"ignore\")\n",
    "\n",
    "from sklearn.model_selection import GridSearchCV\n",
    "from sklearn.ensemble import BaggingClassifier\n",
    "\n",
    "param_grid = {'n_estimators':[2, 3, 4, 5, 8, 10],\n",
    "              'max_samples':[0.01, 0.05, 0.1, 0.5, 1], \n",
    "              'max_features':[0.01, 0.05, 0.1, 0.5, 1]}\n",
    "\n",
    "bag_clf = BaggingClassifier(LogisticRegression(C=100, max_iter=100, penalty='l2', solver='lbfgs', random_state=0), bootstrap=False, random_state=0)\n",
    "grid_clf = GridSearchCV(bag_clf, param_grid = param_grid, cv = 5, scoring=\"roc_auc\")\n",
    "grid_clf.fit(X_train, y_train)"
   ]
  },
  {
   "cell_type": "code",
   "execution_count": null,
   "metadata": {},
   "outputs": [],
   "source": [
    "y_pred = grid_clf.predict(X_test)\n",
    "print(\"Best parameters: {}\".format(grid_clf.best_params_))\n",
    "print(\"Best cross-validation score: {:.4f}\".format(grid_clf.best_score_))\n",
    "print(\"ROC AUC Train score: {:.4f}\".format(grid_clf.score(X_train, y_train)))\n",
    "print(\"ROC AUC Test score: {:.4f}\".format(grid_clf.score(X_test, y_test)))"
   ]
  },
  {
   "cell_type": "markdown",
   "metadata": {},
   "source": [
    "### AdaBoost Classifier"
   ]
  },
  {
   "cell_type": "code",
   "execution_count": null,
   "metadata": {},
   "outputs": [],
   "source": [
    "from sklearn.ensemble import AdaBoostClassifier\n",
    "\n",
    "param_grid = {'learning_rate':[0.1, 0.5, 1],\n",
    "              'n_estimators':[10, 20, 30, 40, 50]}\n",
    "\n",
    "ada_clf = AdaBoostClassifier(base_estimator = LogisticRegression(C=100, max_iter=100, penalty='l2', solver='lbfgs', random_state = 0))\n",
    "grid_clf = GridSearchCV(ada_clf, param_grid = param_grid, cv = 5, n_jobs=-1, scoring=\"roc_auc\")\n",
    "grid_clf.fit(X_train, y_train)"
   ]
  },
  {
   "cell_type": "code",
   "execution_count": null,
   "metadata": {},
   "outputs": [],
   "source": [
    "y_pred = grid_clf.predict(X_test)\n",
    "print(\"Best parameters: {}\".format(grid_clf.best_params_))\n",
    "print(\"Best cross-validation score: {:.4f}\".format(grid_clf.best_score_))\n",
    "print(\"ROC AUC Train score: {:.4f}\".format(grid_clf.score(X_train, y_train)))\n",
    "print(\"ROC AUC Test score: {:.4f}\".format(grid_clf.score(X_test, y_test)))"
   ]
  },
  {
   "cell_type": "markdown",
   "metadata": {},
   "source": [
    "### PCA"
   ]
  },
  {
   "cell_type": "code",
   "execution_count": null,
   "metadata": {},
   "outputs": [],
   "source": [
    "X_train.shape"
   ]
  },
  {
   "cell_type": "code",
   "execution_count": null,
   "metadata": {},
   "outputs": [],
   "source": [
    "from sklearn.decomposition import PCA\n",
    "\n",
    "pca = PCA(n_components=0.95)\n",
    "\n",
    "X_train_pca = pca.fit_transform(X_train)\n",
    "X_test_pca = pca.transform(X_test)"
   ]
  },
  {
   "cell_type": "code",
   "execution_count": null,
   "metadata": {},
   "outputs": [],
   "source": [
    "# After dimensionality reduction\n",
    "pca.n_components_"
   ]
  },
  {
   "cell_type": "markdown",
   "metadata": {},
   "source": [
    "### Post PCA"
   ]
  },
  {
   "cell_type": "markdown",
   "metadata": {},
   "source": [
    "### Logistic regression"
   ]
  },
  {
   "cell_type": "code",
   "execution_count": null,
   "metadata": {},
   "outputs": [],
   "source": [
    "param_grid = {\"penalty\": ['l1', 'l2'], 'C': [0.001, 0.01, 0.1, 1, 5, 10, 100, 1000], 'solver' : ['lbfgs', 'liblinear', 'newton-cg'], 'max_iter': [15, 20, 40, 80, 100]}"
   ]
  },
  {
   "cell_type": "code",
   "execution_count": null,
   "metadata": {},
   "outputs": [],
   "source": [
    "grid_clf = GridSearchCV(LogisticRegression(random_state=42), param_grid, cv = 5, return_train_score=True, n_jobs = -1, scoring= 'roc_auc')\n",
    "grid_clf.fit(X_train_pca, y_train)"
   ]
  },
  {
   "cell_type": "code",
   "execution_count": null,
   "metadata": {},
   "outputs": [],
   "source": [
    "y_pred = grid_clf.predict(X_test_pca)\n",
    "print(\"Best parameters: {}\".format(grid_clf.best_params_))\n",
    "print(\"Best cross-validation score: {:.4f}\".format(grid_clf.best_score_))\n",
    "print(\"ROC AUC Train score: {:.4f}\".format(grid_clf.score(X_train_pca, y_train)))\n",
    "print(\"ROC AUC Test score: {:.4f}\".format(grid_clf.score(X_test_pca, y_test)))"
   ]
  },
  {
   "cell_type": "markdown",
   "metadata": {},
   "source": [
    "### Random Forest Classifier"
   ]
  },
  {
   "cell_type": "code",
   "execution_count": null,
   "metadata": {},
   "outputs": [],
   "source": [
    "param_grid = {\"criterion\": ['gini', 'entropy'], 'max_depth': np.arange(1,26), 'max_leaf_nodes' : np.arange(1,26)}\n",
    "\n",
    "grid_clf = GridSearchCV(RandomForestClassifier(random_state = 0), param_grid, cv = 5, return_train_score=True, n_jobs=-1, scoring= 'roc_auc')\n",
    "grid_clf.fit(X_train_pca, y_train)"
   ]
  },
  {
   "cell_type": "code",
   "execution_count": null,
   "metadata": {},
   "outputs": [],
   "source": [
    "print(\"Best parameters: {}\".format(grid_clf.best_params_))\n",
    "print(\"Best cross-validation score: {:.4f}\".format(grid_clf.best_score_))\n",
    "print(\"ROC AUC Train score: {:.4f}\".format(grid_clf.score(X_train_pca, y_train)))\n",
    "print(\"ROC AUC Test score: {:.4f}\".format(grid_clf.score(X_test_pca, y_test)))"
   ]
  },
  {
   "cell_type": "markdown",
   "metadata": {},
   "source": [
    "<div class=\"alert alert-block alert-info\">\n",
    "PCA hasnt helped much in improving the train and test scores of the narrowed down models. It doesnt seem to be a good candidate for this classification dataset which might be due to the reason that PCA can lose some spatial information which might have been important for this classification.\n",
    "</div>"
   ]
  },
  {
   "cell_type": "markdown",
   "metadata": {},
   "source": [
    "### ANN - MLP"
   ]
  },
  {
   "cell_type": "code",
   "execution_count": null,
   "metadata": {},
   "outputs": [],
   "source": [
    "import tensorflow as tf\n",
    "from keras.models import Sequential\n",
    "from keras.layers import Dense"
   ]
  },
  {
   "cell_type": "code",
   "execution_count": null,
   "metadata": {},
   "outputs": [],
   "source": [
    "model = Sequential()\n",
    "\n",
    "# Sigmoid activation function for output layer since this is a binary classification model\n",
    "model.add(Dense(60, input_dim = 60, activation='relu', name = 'input_layer'))\n",
    "model.add(Dense(1, activation = 'sigmoid', name = 'output_layer'))"
   ]
  },
  {
   "cell_type": "code",
   "execution_count": null,
   "metadata": {},
   "outputs": [],
   "source": [
    "model.summary()"
   ]
  },
  {
   "cell_type": "code",
   "execution_count": null,
   "metadata": {},
   "outputs": [],
   "source": [
    "model.compile(loss = 'binary_crossentropy',\n",
    "              optimizer = 'adam',\n",
    "              metrics=[tf.keras.metrics.AUC()])\n",
    "model.fit(X_train, y_train, batch_size=128, epochs=12)"
   ]
  },
  {
   "cell_type": "code",
   "execution_count": null,
   "metadata": {},
   "outputs": [],
   "source": [
    "# Model evaluation\n",
    "loss_and_metrics = model.evaluate(X_test, y_test)\n",
    "\n",
    "print(loss_and_metrics)\n",
    "\n",
    "print(\"Test Loss\", loss_and_metrics[0])\n",
    "print(\"ROC-AUC score\", loss_and_metrics[1])"
   ]
  },
  {
   "cell_type": "markdown",
   "metadata": {},
   "source": [
    "### Post Processing"
   ]
  },
  {
   "cell_type": "markdown",
   "metadata": {},
   "source": [
    "<div class=\"alert alert-block alert-info\">\n",
    "Of all the models run so far, the following models provide high cross-validation score, train and test scores\n",
    "    \n",
    " <b>Logistic Regression: roc_auc train score of 0.8485, roc_auc test score of 0.7733 </b>\n",
    "    \n",
    " <b> Linear SVC: roc_auc train score of 0.7570, roc_auc test score of 0.7441</b>\n",
    "\n",
    "   \n",
    "Despite LinearSVC showing high as well as least gap between train and test scores, Logistic Regression is the chosen model\n",
    "since it produces high test score than LinearSVC which is crucial in determining model generalization to unseen data. Hence Logistic Regression results are post processed further</div>"
   ]
  },
  {
   "cell_type": "code",
   "execution_count": 189,
   "metadata": {},
   "outputs": [
    {
     "data": {
      "text/plain": [
       "LogisticRegression(C=100)"
      ]
     },
     "execution_count": 189,
     "metadata": {},
     "output_type": "execute_result"
    }
   ],
   "source": [
    "logReg = LogisticRegression(C=100, max_iter=100, penalty='l2', solver='lbfgs')\n",
    "logReg.fit(X_train, y_train)"
   ]
  },
  {
   "cell_type": "code",
   "execution_count": 190,
   "metadata": {},
   "outputs": [
    {
     "data": {
      "image/png": "[encoded data removed]",
      "text/plain": [
       "<Figure size 1440x360 with 1 Axes>"
      ]
     },
     "metadata": {
      "needs_background": "light"
     },
     "output_type": "display_data"
    }
   ],
   "source": [
    "%matplotlib inline \n",
    "\n",
    "from sklearn.metrics import roc_curve\n",
    "fpr, tpr, thresholds = roc_curve(y_test, logReg.predict_proba(X_test)[:, 1])\n",
    "\n",
    "plt.subplots(figsize = (20,5))\n",
    "plt.plot(fpr, tpr, label=\"ROC Curve\")\n",
    "plt.xlabel(\"FPR\")\n",
    "plt.ylabel(\"TPR (recall)\")\n",
    "\n",
    "# find threshold closest to zero for decision function\n",
    "close_zero = np.argmin(np.abs(thresholds))\n",
    "plt.plot(fpr[close_zero], tpr[close_zero], 'o', markersize=10, label=\"threshold zero\", fillstyle=\"none\", c='k', mew=2)\n",
    "\n",
    "close_default_rf = np.argmin(np.abs(fpr-0.14))\n",
    "plt.plot(fpr[close_default_rf], tpr[close_default_rf], '^', markersize=10,\n",
    "         label=\"threshold with TPR close to 1\", fillstyle=\"none\", c='k', mew=2)\n",
    "\n",
    "plt.legend(loc=4)\n",
    "plt.grid()"
   ]
  },
  {
   "cell_type": "code",
   "execution_count": 191,
   "metadata": {},
   "outputs": [
    {
     "data": {
      "text/plain": [
       "0.7732739420935413"
      ]
     },
     "execution_count": 191,
     "metadata": {},
     "output_type": "execute_result"
    }
   ],
   "source": [
    "# Default threshold 0.5 \n",
    "y_pred = logReg.predict(X_test)\n",
    "roc_auc_score(y_test, logReg.predict_proba(X_test)[:,1])"
   ]
  },
  {
   "cell_type": "code",
   "execution_count": 192,
   "metadata": {
    "scrolled": true
   },
   "outputs": [
    {
     "data": {
      "text/plain": [
       "18"
      ]
     },
     "execution_count": 192,
     "metadata": {},
     "output_type": "execute_result"
    }
   ],
   "source": [
    "# Threshold Index close to 0.1 FPR \n",
    "np.argmin(np.abs(fpr-0.1))"
   ]
  },
  {
   "cell_type": "code",
   "execution_count": 193,
   "metadata": {},
   "outputs": [
    {
     "data": {
      "text/plain": [
       "0.7532293986636971"
      ]
     },
     "execution_count": 193,
     "metadata": {},
     "output_type": "execute_result"
    }
   ],
   "source": [
    "# Predictions based on altered threshold close to 0.1 FPR \n",
    "y_predict = np.where(logReg.predict_proba(X_test)[:, 1] >= thresholds[18], 1, 0)\n",
    "roc_auc_score(y_test, y_predict)"
   ]
  },
  {
   "cell_type": "code",
   "execution_count": 194,
   "metadata": {
    "scrolled": true
   },
   "outputs": [
    {
     "data": {
      "text/plain": [
       "25"
      ]
     },
     "execution_count": 194,
     "metadata": {},
     "output_type": "execute_result"
    }
   ],
   "source": [
    "# Threshold index close to 0.14 FPR \n",
    "np.argmin(np.abs(fpr-0.14))"
   ]
  },
  {
   "cell_type": "code",
   "execution_count": 195,
   "metadata": {},
   "outputs": [
    {
     "data": {
      "text/plain": [
       "0.7809576837416481"
      ]
     },
     "execution_count": 195,
     "metadata": {},
     "output_type": "execute_result"
    }
   ],
   "source": [
    "# Predictions based on altered threshold close to 0.14 FPR \n",
    "y_predict = np.where(logReg.predict_proba(X_test)[:, 1] >= thresholds[25], 1, 0)\n",
    "roc_auc_score(y_test, y_predict)"
   ]
  },
  {
   "cell_type": "markdown",
   "metadata": {},
   "source": [
    "<div class=\"alert alert-block alert-info\">\n",
    "After post processing the results, threshold index 25 with threshold ~0.14 seems to provide a better roc_auc test score of 0.7809 which is better than roc_auc test score of 0.7532 for default threshold of 0.5 for logistic regression model </div>"
   ]
  },
  {
   "cell_type": "markdown",
   "metadata": {},
   "source": [
    "# Best model ( 5 points)\n",
    "Explain which machine learning model is the best model for this dataset and why? "
   ]
  },
  {
   "cell_type": "markdown",
   "metadata": {},
   "source": [
    "<div class=\"alert alert-block alert-info\">\n",
    "    <b>JUSTIFICATION OF BEST MODEL:</b>\n",
    "   \n",
    "To predict Crash Severity, based on suggested <b>roc-auc score</b> evaluation criterion for this business context <b>logistic regression</b> seems to perform better\n",
    "\n",
    "Of all the models run so far, the following models provide high cross-validation score, train and test scores\n",
    "    \n",
    "Logistic Regression - roc_auc train score of 0.8485 and roc_auc test score of 0.7733\n",
    "    \n",
    "Linear SVC - roc_auc train score of 0.7570 and roc_auc test score of 0.7441\n",
    "    \n",
    "   \n",
    "Despite LinearSVC showing high train and test scores as well as least gap between them, Logistic Regression is the chosen model\n",
    "since it produces high test score than LinearSVC which is crucial in determining model generalization to unseen data\n",
    "    \n",
    "By running Grid Search for different models and by playing around corresponding hyper-parameters, it is evident that logistic regression model seems to perform better in this case with a high roc_auc <b>Train score: 0.8485 and Test score: 0.7809 (post-processing)</b> and a least gap between them without dimensionality reduction and the best hyper-parameters chosen are {'C': 100, 'max_iter': 100, 'penalty': 'l2', 'solver': 'lbfgs'}.  With this lets predict the crash severity target values for the test dataset.</div>\n"
   ]
  },
  {
   "cell_type": "code",
   "execution_count": 238,
   "metadata": {},
   "outputs": [],
   "source": [
    "# By applying the best hyperparameters found by using Grid Search, lets train the chosen model on entire dataset to predict the crash severity label for test dataset\n",
    "final_model = LogisticRegression(C=100, max_iter=100, penalty='l2', solver='lbfgs')\n",
    "final_model.fit(X, y)\n",
    "\n",
    "from sklearn.ensemble import BaggingClassifier\n",
    "test_model = BaggingClassifier((LogisticRegression(C=100, max_iter=100, penalty='l2', solver='lbfgs', random_state=0)), bootstrap= False, random_state=0)\n",
    "test_model.fit(X, y)\n",
    "\n",
    "# Predictions after post-processing based on the best threshold identified\n",
    "final_test_prediction = np.where(logReg.predict_proba(df_test_scaled)[:, 1] >= thresholds[25], 1, 0)"
   ]
  },
  {
   "cell_type": "code",
   "execution_count": 239,
   "metadata": {},
   "outputs": [
    {
     "data": {
      "text/plain": [
       "0.4231020942408378"
      ]
     },
     "execution_count": 239,
     "metadata": {},
     "output_type": "execute_result"
    }
   ],
   "source": [
    "roc_auc_score(actual_y_test, test_model.predict_proba(df_test_scaled)[:, 1])"
   ]
  },
  {
   "cell_type": "code",
   "execution_count": 216,
   "metadata": {},
   "outputs": [
    {
     "data": {
      "text/plain": [
       "0.48324607329842934"
      ]
     },
     "execution_count": 216,
     "metadata": {},
     "output_type": "execute_result"
    }
   ],
   "source": [
    "roc_auc_score(actual_y_test, final_test_prediction)"
   ]
  },
  {
   "cell_type": "code",
   "execution_count": 217,
   "metadata": {},
   "outputs": [
    {
     "data": {
      "text/plain": [
       "0.46328534031413604"
      ]
     },
     "execution_count": 217,
     "metadata": {},
     "output_type": "execute_result"
    }
   ],
   "source": [
    "roc_auc_score(actual_y_test, logReg.predict_proba(df_test_scaled)[:, 1])"
   ]
  },
  {
   "cell_type": "markdown",
   "metadata": {},
   "source": [
    "# Final Pediction"
   ]
  },
  {
   "cell_type": "code",
   "execution_count": 197,
   "metadata": {
    "collapsed": true
   },
   "outputs": [
    {
     "name": "stdout",
     "output_type": "stream",
     "text": [
      "Predictions for the test dataset is :\n",
      " [0 0 1 0 0 1 0 0 0 0 0 0 0 0 0 1 0 0 0 0 0 0 0 0 0 0 0 0 1 0 0 0 0 0 1 0 0\n",
      " 0 0 0 0 0 0 0 0 0 0 0 0 0 0 0 0 1 0 0 0 0 0 1 0 0 0 0 0 0 0 0 0 0 1 0 1 0\n",
      " 0 0 0 0 0 0 0 1 0 1 0 0 0 0 0 0 0 0 0 1 0 0 0 0 0 0 0 0 0 0 0 1 1 0 0 0 0\n",
      " 0 1 0 1 0 0 1 0 0 0 1 0 0 0 0 0 0 1 0 0 0 0 0 0 0 1 0 0 0 0 0 0 0 0 0 1 0\n",
      " 0 0 0 0 0 0 0 0 0 0 0 0 1 0 0 0 0 0 0 0 1 0 0 0 0 1 0 0 0 0 0 0 0 0 0 1 1\n",
      " 0 0 0 1 0 0 0 0 0 0 0 1 0 0 0 0 1 0 0 0 0 0 0 0 0 0 0 0 0 0 0 0 0 0 0 0 1\n",
      " 1 0 0 0 0 0 0 0 0 1 0 1 0 0 0 0 0 0 0 0 0 0 0 0 0 0 0 1 0 0 0 0 0 1 0 0 0\n",
      " 0 0 1 0 0 0 0 0 0 0 0 0 0 0 0 1 0 0 0 0 0 0 0 0 0 0 0 0 0 0 0 0 0 0 1 0 0\n",
      " 0 0 0 0 0 0 0 0 0 0 0 0 0 0 0 0 0 0 1 0 0 0 0 0 0 0 0 0 0 0 0 1 0 0 0 0 0\n",
      " 0 0 1 0 0 0 0 0 0 0 1 0 1 0 0 0 0 0 0 0 0 0 0 0 0 0 0 0 0 0 0 0 0 0 0 0 0\n",
      " 0 0 1 0 1 0 0 0 0 0 0 0 1 0 0 0 0 0 1 0 0 0 0 0 0 0 0 0 1 0 0 1 0 0 0 0 0\n",
      " 0 0 0 0 1 0 0 0 0 0 0 0 1 0 0 0 0 0 1 0 0 0 0 0 0 0 0 0 0 0 0 0 0 0 0 0 0\n",
      " 1 0 0 0 0 0 0 0 0 0 0 0 0 0 0 0 0 0 0 0 0 1 0 0 0 0 1 0 1 0 0 0 0 0 0 0 1\n",
      " 0 0 0 0 0 0 1 1 0 0 0 0 0 1 0 0 0 0 0 0 0 0 0 0 1 0 0 1 0 1 0 0 0 0 0 0 1\n",
      " 0 0 0 0 0 0 0 0 0 0 0 1 0 1 0 1 0 0 0 0 1 0 0 0 1 0 0 1 0 0 0 0 1 0 0 1 0\n",
      " 0 0 0 0 0 0 0 0 0 0 0 0 0 0 1 1 0 0 0 0 0 0 0 0 0 0 0 0 0 0 0 0 1 1 1 0 0\n",
      " 0 0 0 1 0 0 0 1 0 0 0 0 0 1 0 0 0 1 1 1 0 0 0 0 0 0 0 0 0 0 1 0 0 0 0 1 0\n",
      " 0 0 0 0 0 0 0 0 0 0 0 0 0 0 0 0 0 0 0 1 0 0 0 1 0 0 0 0 0 0 1 1 0 0 0 0 0\n",
      " 0 1 0 0 0 0 1 0 0 1 0 0 0 0 0 0 0 1 0 0 0 0 0 1 0 0 0 1 0 0 0 0 0 0 0 0 0\n",
      " 0 0 0 0 0 0 0 1 0 0 1 0 0 0 0 0 0 0 0 0 1 0 0 0 0 0 0 0 0 0 0 0 0 1 1 1 0\n",
      " 0 0 0 0 0 1 0 1 0 0 0 0 0 0 0 0 0 0 0 0 0 0 0 0 0 0 0 0 0 0 0 0 0 0]\n"
     ]
    }
   ],
   "source": [
    "print('Predictions for the test dataset is :\\n', final_test_prediction)"
   ]
  },
  {
   "cell_type": "code",
   "execution_count": 198,
   "metadata": {},
   "outputs": [
    {
     "data": {
      "text/plain": [
       "(774,)"
      ]
     },
     "execution_count": 198,
     "metadata": {},
     "output_type": "execute_result"
    }
   ],
   "source": [
    "final_test_prediction.shape"
   ]
  },
  {
   "cell_type": "code",
   "execution_count": 209,
   "metadata": {},
   "outputs": [],
   "source": [
    "actual_y_test = pd.read_csv('y_test.csv')\n",
    "actual_y_test = actual_y_test['Crash Severity'].replace({'Not serious': 0, 'Serious':1}).values.reshape(-1,)\n",
    "#print(actual_y_test.shape)"
   ]
  },
  {
   "cell_type": "code",
   "execution_count": 213,
   "metadata": {
    "collapsed": true
   },
   "outputs": [
    {
     "data": {
      "text/plain": [
       "array([0, 0, 0, 0, 0, 0, 0, 0, 0, 0, 0, 0, 0, 0, 0, 0, 0, 0, 0, 0, 0, 0,\n",
       "       0, 0, 0, 0, 0, 0, 0, 0, 0, 0, 0, 0, 0, 0, 0, 0, 0, 0, 0, 0, 0, 0,\n",
       "       0, 0, 0, 0, 0, 0, 0, 0, 0, 0, 0, 0, 0, 0, 0, 0, 0, 0, 0, 0, 0, 0,\n",
       "       0, 0, 0, 0, 0, 0, 0, 0, 0, 0, 0, 0, 0, 0, 0, 0, 0, 0, 0, 0, 0, 0,\n",
       "       0, 0, 0, 0, 0, 0, 0, 0, 0, 0, 0, 0, 0, 0, 0, 0, 0, 0, 0, 0, 0, 0,\n",
       "       0, 0, 0, 0, 0, 0, 0, 0, 0, 0, 0, 0, 0, 0, 0, 0, 0, 0, 0, 0, 0, 0,\n",
       "       0, 0, 0, 0, 0, 0, 0, 0, 0, 0, 0, 0, 0, 0, 0, 0, 0, 0, 0, 0, 0, 0,\n",
       "       0, 0, 0, 0, 0, 0, 0, 0, 0, 0, 0, 0, 1, 0, 0, 0, 0, 0, 0, 0, 0, 0,\n",
       "       0, 0, 0, 0, 0, 0, 0, 0, 0, 0, 0, 0, 0, 0, 0, 0, 0, 0, 0, 0, 0, 0,\n",
       "       0, 0, 0, 0, 0, 0, 0, 0, 0, 0, 0, 0, 0, 0, 0, 0, 0, 1, 0, 0, 0, 0,\n",
       "       0, 0, 0, 0, 0, 0, 0, 0, 0, 0, 0, 0, 0, 0, 0, 0, 0, 0, 0, 0, 0, 0,\n",
       "       0, 0, 0, 0, 0, 0, 0, 0, 0, 0, 0, 0, 0, 0, 0, 0, 0, 0, 0, 0, 0, 0,\n",
       "       0, 0, 0, 0, 0, 0, 0, 0, 0, 0, 0, 0, 0, 0, 0, 0, 0, 0, 0, 0, 0, 0,\n",
       "       0, 0, 0, 0, 0, 0, 0, 0, 0, 0, 1, 0, 0, 0, 0, 0, 0, 0, 0, 0, 0, 0,\n",
       "       0, 0, 0, 0, 0, 0, 0, 0, 0, 0, 0, 0, 0, 0, 0, 0, 0, 0, 0, 0, 0, 0,\n",
       "       0, 0, 0, 0, 0, 0, 0, 0, 0, 0, 0, 0, 0, 0, 0, 0, 0, 0, 0, 0, 0, 0,\n",
       "       0, 0, 0, 0, 0, 0, 0, 0, 0, 0, 0, 0, 0, 0, 0, 0, 0, 0, 0, 0, 0, 0,\n",
       "       0, 0, 0, 0, 0, 0, 0, 0, 0, 0, 0, 0, 0, 0, 0, 0, 0, 0, 0, 0, 0, 0,\n",
       "       0, 0, 0, 0, 0, 0, 0, 0, 0, 0, 0, 0, 0, 0, 0, 0, 0, 0, 0, 0, 0, 0,\n",
       "       0, 0, 0, 0, 0, 0, 0, 0, 0, 0, 0, 0, 0, 0, 0, 0, 0, 0, 0, 0, 0, 0,\n",
       "       0, 0, 0, 0, 0, 0, 0, 0, 0, 0, 0, 0, 0, 0, 0, 0, 0, 0, 0, 0, 0, 0,\n",
       "       0, 0, 0, 0, 0, 0, 0, 0, 0, 0, 0, 0, 0, 0, 0, 0, 0, 0, 0, 0, 0, 0,\n",
       "       0, 0, 0, 0, 0, 0, 0, 0, 0, 0, 0, 0, 0, 0, 0, 0, 0, 0, 0, 0, 0, 0,\n",
       "       0, 0, 0, 0, 0, 0, 0, 0, 0, 0, 0, 0, 0, 0, 0, 0, 0, 0, 0, 0, 0, 0,\n",
       "       0, 0, 0, 0, 1, 0, 0, 0, 0, 0, 0, 0, 0, 0, 0, 0, 0, 0, 0, 0, 0, 0,\n",
       "       0, 0, 0, 0, 0, 0, 0, 0, 0, 0, 0, 0, 0, 0, 0, 1, 0, 0, 0, 0, 0, 0,\n",
       "       0, 0, 0, 0, 0, 0, 0, 1, 0, 0, 0, 0, 0, 0, 1, 0, 0, 0, 0, 0, 0, 0,\n",
       "       0, 0, 0, 0, 0, 0, 0, 0, 0, 0, 0, 1, 0, 0, 0, 0, 0, 0, 0, 0, 0, 0,\n",
       "       0, 0, 0, 0, 0, 0, 0, 0, 0, 0, 0, 0, 0, 0, 0, 0, 0, 0, 0, 0, 0, 0,\n",
       "       0, 0, 0, 0, 0, 0, 0, 0, 0, 0, 0, 0, 0, 0, 0, 0, 0, 0, 0, 1, 0, 0,\n",
       "       0, 0, 0, 0, 0, 0, 0, 0, 0, 0, 0, 0, 0, 0, 0, 0, 0, 0, 0, 0, 0, 0,\n",
       "       0, 0, 0, 0, 0, 0, 0, 0, 0, 0, 0, 0, 0, 0, 0, 0, 0, 0, 0, 0, 1, 0,\n",
       "       0, 0, 0, 0, 0, 0, 0, 0, 0, 0, 0, 0, 0, 0, 0, 0, 0, 0, 0, 0, 0, 0,\n",
       "       0, 0, 0, 0, 0, 0, 0, 0, 0, 0, 0, 0, 0, 0, 0, 0, 0, 0, 0, 0, 0, 0,\n",
       "       0, 0, 0, 0, 0, 0, 0, 0, 0, 0, 0, 0, 0, 0, 0, 0, 0, 0, 0, 0, 0, 0,\n",
       "       0, 0, 0, 0], dtype=int64)"
      ]
     },
     "execution_count": 213,
     "metadata": {},
     "output_type": "execute_result"
    }
   ],
   "source": [
    "actual_y_test"
   ]
  },
  {
   "cell_type": "code",
   "execution_count": 211,
   "metadata": {},
   "outputs": [
    {
     "data": {
      "text/plain": [
       "0.48324607329842934"
      ]
     },
     "execution_count": 211,
     "metadata": {},
     "output_type": "execute_result"
    }
   ],
   "source": [
    "roc_auc_score(actual_y_test, final_test_prediction)"
   ]
  },
  {
   "cell_type": "code",
   "execution_count": 214,
   "metadata": {},
   "outputs": [
    {
     "data": {
      "text/plain": [
       "0.48324607329842934"
      ]
     },
     "execution_count": 214,
     "metadata": {},
     "output_type": "execute_result"
    }
   ],
   "source": [
    "roc_auc_score(actual_y_test, final_test_prediction)"
   ]
  },
  {
   "cell_type": "code",
   "execution_count": 215,
   "metadata": {},
   "outputs": [
    {
     "data": {
      "text/plain": [
       "0.46328534031413604"
      ]
     },
     "execution_count": 215,
     "metadata": {},
     "output_type": "execute_result"
    }
   ],
   "source": [
    "roc_auc_score(actual_y_test, logReg.predict_proba(df_test_scaled)[:, 1])"
   ]
  },
  {
   "cell_type": "code",
   "execution_count": 218,
   "metadata": {},
   "outputs": [
    {
     "data": {
      "text/plain": [
       "array([3.26132819e-03, 8.78871697e-03, 6.15582510e-02, 6.79742256e-03,\n",
       "       3.15658143e-03, 2.70667771e-02, 8.99913223e-04, 7.55387106e-03,\n",
       "       1.70477335e-02, 6.27449245e-03, 1.52772498e-02, 8.85150603e-04,\n",
       "       1.51506254e-02, 1.75874198e-03, 1.33843128e-02, 5.63997842e-02,\n",
       "       5.16806520e-03, 7.32443597e-03, 9.39157109e-03, 1.75427913e-03,\n",
       "       6.22325445e-03, 1.14679230e-03, 1.53087645e-03, 1.01443523e-03,\n",
       "       3.67525591e-03, 8.36122362e-03, 6.15578359e-03, 6.22325445e-03,\n",
       "       1.27114546e-01, 3.15658143e-03, 5.00238555e-03, 2.60629978e-02,\n",
       "       8.88109099e-03, 8.11008937e-05, 5.97873459e-02, 1.70713015e-04,\n",
       "       9.97444602e-05, 1.13260844e-02, 7.01046575e-03, 1.61875149e-02,\n",
       "       1.09189865e-02, 2.38864677e-03, 9.39157109e-03, 2.40216480e-02,\n",
       "       1.05752941e-02, 2.12266028e-04, 7.65598178e-03, 5.87655613e-04,\n",
       "       6.31814994e-04, 5.19244381e-03, 2.52747399e-05, 8.70943699e-04,\n",
       "       5.82258226e-03, 7.74343685e-02, 3.15658143e-03, 8.47107470e-04,\n",
       "       1.98643831e-02, 5.91059267e-04, 1.36213713e-02, 7.03583086e-02,\n",
       "       4.10113793e-05, 2.61999370e-03, 2.61999370e-03, 3.32920200e-03,\n",
       "       7.55387106e-03, 6.22325445e-03, 2.41307096e-04, 5.64245254e-04,\n",
       "       8.99913223e-04, 5.00238555e-03, 5.63997842e-02, 7.01046575e-03,\n",
       "       2.91626323e-02, 1.21998982e-02, 7.55387106e-03, 1.10805896e-03,\n",
       "       3.44387684e-04, 7.01046575e-03, 8.88109099e-03, 7.01046575e-03,\n",
       "       2.61999370e-03, 3.14857624e-02, 3.03705460e-04, 3.24473029e-02,\n",
       "       7.55387106e-03, 2.74639696e-03, 1.00591776e-02, 8.07091488e-05,\n",
       "       2.93367630e-03, 6.22325445e-03, 7.80339348e-03, 3.71881509e-04,\n",
       "       4.42700729e-03, 4.36584496e-02, 6.91818149e-04, 7.55387106e-03,\n",
       "       4.15333663e-03, 2.59529483e-02, 5.00238555e-03, 3.15658143e-03,\n",
       "       5.96855749e-03, 7.01046575e-03, 8.78871697e-03, 2.83756852e-03,\n",
       "       1.24267328e-02, 1.27114546e-01, 8.80936873e-02, 1.43461940e-02,\n",
       "       2.61999370e-03, 7.01046575e-03, 7.01046575e-03, 6.79742256e-03,\n",
       "       3.89172887e-02, 7.15182891e-05, 7.74343685e-02, 8.88109099e-03,\n",
       "       3.15658143e-03, 1.04675460e-01, 1.24267328e-02, 5.16806520e-03,\n",
       "       1.74358692e-02, 3.52901388e-02, 4.14636833e-05, 9.39157109e-03,\n",
       "       1.46696404e-02, 3.67525591e-03, 5.00520803e-04, 7.80339348e-03,\n",
       "       2.92962032e-02, 3.26132819e-03, 3.32887757e-05, 9.39157109e-03,\n",
       "       1.01443523e-03, 6.98082464e-03, 3.92874702e-03, 5.16806520e-03,\n",
       "       6.92910150e-02, 3.36062603e-03, 7.55387106e-03, 3.14816586e-05,\n",
       "       6.98082464e-03, 1.47923052e-02, 1.82067015e-02, 3.68442008e-04,\n",
       "       3.31620074e-03, 3.64254295e-04, 8.19755794e-02, 1.05752941e-02,\n",
       "       2.09950928e-04, 9.39157109e-03, 7.01046575e-03, 1.00591776e-02,\n",
       "       2.50093375e-04, 4.15333663e-03, 5.61217604e-03, 4.25264189e-03,\n",
       "       8.60475167e-04, 5.39961140e-04, 8.70943699e-04, 2.59529483e-02,\n",
       "       1.04675460e-01, 6.22325445e-03, 1.41379752e-04, 1.33843128e-02,\n",
       "       1.13260844e-02, 3.37919306e-03, 1.21998982e-02, 8.90805921e-05,\n",
       "       5.10452741e-02, 6.22325445e-03, 5.61217604e-03, 3.15658143e-03,\n",
       "       3.67525591e-03, 7.86680397e-02, 1.72254056e-02, 1.00427266e-04,\n",
       "       2.21116601e-03, 3.63478020e-04, 1.37780939e-03, 5.82258226e-03,\n",
       "       9.73823188e-03, 1.42802588e-03, 4.42700729e-03, 3.75973639e-02,\n",
       "       2.01907878e-01, 3.15658143e-03, 4.42700729e-03, 3.15658143e-03,\n",
       "       5.97873459e-02, 6.27720233e-05, 1.72254056e-02, 5.39537593e-03,\n",
       "       3.15658143e-03, 5.96855749e-03, 1.68530985e-04, 2.39299737e-04,\n",
       "       4.49744681e-02, 3.53014217e-04, 1.72254056e-02, 1.03644134e-04,\n",
       "       1.24267328e-02, 6.15582510e-02, 4.15333663e-03, 2.02704816e-03,\n",
       "       2.61999370e-03, 8.09191047e-03, 1.06398001e-02, 1.42271750e-02,\n",
       "       2.61161692e-05, 1.09189865e-02, 2.61999370e-03, 5.96855749e-03,\n",
       "       1.33705584e-04, 5.66729262e-03, 3.15658143e-03, 1.01535147e-02,\n",
       "       4.26128764e-04, 7.65598178e-03, 6.22325445e-03, 4.69587642e-04,\n",
       "       4.63003888e-03, 5.63997842e-02, 3.14857624e-02, 9.47707669e-05,\n",
       "       7.80339348e-03, 1.77510743e-02, 2.59529483e-02, 3.15658143e-03,\n",
       "       7.65598178e-03, 2.16252696e-02, 3.67525591e-03, 3.19944388e-02,\n",
       "       3.15658143e-03, 5.11393447e-02, 3.15658143e-03, 5.00520803e-04,\n",
       "       6.32561439e-05, 1.72254056e-02, 4.42700729e-03, 1.22259968e-03,\n",
       "       1.13260844e-02, 1.16102373e-03, 8.62285357e-03, 3.15658143e-03,\n",
       "       5.61217604e-03, 2.24635272e-04, 4.15333663e-03, 3.76839480e-04,\n",
       "       1.24267328e-02, 3.24473029e-02, 1.56864212e-02, 3.93332236e-03,\n",
       "       2.66571640e-04, 1.02336031e-03, 7.15182891e-05, 3.14857624e-02,\n",
       "       3.92874702e-03, 6.22325445e-03, 6.92628540e-04, 3.26132819e-03,\n",
       "       5.61217604e-03, 4.77160064e-02, 8.09191047e-03, 1.34847917e-03,\n",
       "       9.82977951e-04, 1.17349534e-02, 7.80339348e-03, 3.15658143e-03,\n",
       "       2.60233126e-03, 6.35941977e-03, 2.29744102e-05, 7.55387106e-03,\n",
       "       4.34157709e-04, 7.36283433e-03, 3.14857624e-02, 3.15658143e-03,\n",
       "       2.52747399e-05, 3.33580274e-05, 3.54388137e-03, 1.84526611e-04,\n",
       "       1.33705584e-04, 1.35641603e-02, 2.55258444e-02, 1.72091390e-03,\n",
       "       8.86987141e-03, 2.02704816e-03, 4.07663266e-03, 3.21322118e-04,\n",
       "       1.21008621e-02, 2.13653364e-02, 3.78710875e-03, 1.09189865e-02,\n",
       "       3.15658143e-03, 3.62980768e-02, 2.58493231e-02, 4.26428636e-04,\n",
       "       2.52615249e-04, 2.93367630e-03, 1.75112249e-02, 1.00591776e-02,\n",
       "       8.88109099e-03, 9.39157109e-03, 5.19244381e-03, 2.02704816e-03,\n",
       "       9.46570911e-04, 7.65189615e-04, 1.21149734e-03, 3.15658143e-03,\n",
       "       8.53061368e-05, 6.22325445e-03, 3.15658143e-03, 8.78871697e-03,\n",
       "       9.39157109e-03, 1.01443523e-03, 5.10452741e-02, 2.04785236e-02,\n",
       "       7.80339348e-03, 1.72091390e-03, 9.86536108e-03, 2.79116274e-03,\n",
       "       9.01657245e-03, 3.92874702e-03, 2.39708669e-04, 9.44308208e-03,\n",
       "       3.55756758e-05, 2.16252696e-02, 7.55387106e-03, 6.02370155e-02,\n",
       "       1.24267328e-02, 1.91309420e-04, 5.63212063e-03, 1.82246458e-05,\n",
       "       1.98522380e-04, 1.36213713e-02, 3.15658143e-03, 4.49744681e-02,\n",
       "       1.14679230e-03, 2.58493231e-02, 4.14636833e-05, 1.72091390e-03,\n",
       "       4.53917013e-04, 5.00238555e-03, 8.09191047e-03, 3.17297551e-02,\n",
       "       6.15483443e-04, 7.74343685e-02, 5.82258226e-03, 7.80339348e-03,\n",
       "       3.67525591e-03, 8.88109099e-03, 6.98082464e-03, 1.47923052e-02,\n",
       "       4.47701822e-03, 2.61999370e-03, 5.16806520e-03, 6.03398869e-03,\n",
       "       6.15578359e-03, 2.46064542e-03, 1.21008621e-02, 9.32324111e-04,\n",
       "       8.11008937e-05, 1.42802588e-03, 6.31814994e-04, 2.64957788e-05,\n",
       "       1.66166893e-02, 5.49428650e-04, 3.67525591e-03, 3.92874702e-03,\n",
       "       3.15658143e-03, 5.16806520e-03, 5.00238555e-03, 5.78282432e-04,\n",
       "       8.91252366e-02, 1.23021694e-02, 5.97873459e-02, 7.86310664e-03,\n",
       "       2.13653364e-02, 1.10380849e-02, 1.46696404e-02, 4.17386442e-06,\n",
       "       3.14074782e-04, 4.30005045e-04, 3.02989984e-02, 1.24267328e-02,\n",
       "       9.44308208e-03, 7.01046575e-03, 1.06398001e-02, 1.66166893e-02,\n",
       "       5.97873459e-02, 7.01046575e-03, 3.54919071e-05, 8.11008937e-05,\n",
       "       5.82258226e-03, 1.82067015e-02, 1.10919775e-04, 5.52208311e-05,\n",
       "       8.62285357e-03, 7.08418226e-04, 7.55341636e-02, 5.88909959e-05,\n",
       "       2.58493231e-02, 3.67255766e-02, 3.67525591e-03, 5.65146199e-03,\n",
       "       4.15333663e-03, 7.86310664e-03, 2.52747399e-05, 3.94010111e-06,\n",
       "       8.00355797e-04, 3.15658143e-03, 7.80339348e-03, 1.04675460e-01,\n",
       "       1.51506254e-02, 3.51360992e-04, 7.55387106e-03, 8.78871697e-03,\n",
       "       1.66166893e-02, 9.96973376e-03, 1.93971273e-03, 2.70667771e-02,\n",
       "       1.10380849e-02, 5.96855749e-03, 6.27449245e-03, 6.35100364e-03,\n",
       "       1.72254056e-02, 3.55994271e-02, 1.91309420e-04, 2.13653364e-02,\n",
       "       1.09189865e-02, 1.72091390e-03, 4.94436965e-03, 2.17698043e-03,\n",
       "       3.78710875e-03, 7.22610206e-04, 1.36213713e-02, 1.09189865e-02,\n",
       "       2.61999370e-03, 1.00591776e-02, 1.70477335e-02, 3.15658143e-03,\n",
       "       8.36122362e-03, 6.07620205e-03, 5.82258226e-03, 4.32285365e-03,\n",
       "       5.63997842e-02, 7.86310664e-03, 2.60629978e-02, 8.88109099e-03,\n",
       "       1.33843128e-02, 1.13260844e-02, 2.38864677e-03, 1.27978084e-02,\n",
       "       1.77372011e-02, 5.61217604e-03, 5.00238555e-03, 7.56677793e-05,\n",
       "       1.56864212e-02, 1.35641603e-02, 7.01046575e-03, 9.82977951e-04,\n",
       "       1.73514744e-03, 1.10380849e-02, 1.72254056e-02, 9.39157109e-03,\n",
       "       9.11791913e-04, 3.68924712e-02, 2.58493231e-02, 5.61217604e-03,\n",
       "       4.29213426e-03, 5.00238555e-03, 3.14857624e-02, 8.88109099e-03,\n",
       "       3.14857624e-02, 3.11493628e-03, 7.42346846e-03, 6.22325445e-03,\n",
       "       1.46696404e-02, 1.10380849e-02, 4.15333663e-03, 5.61217604e-03,\n",
       "       4.97405600e-02, 4.85006847e-03, 5.16806520e-03, 5.61217604e-03,\n",
       "       5.00238555e-03, 8.25554041e-03, 2.61999370e-03, 5.63997842e-02,\n",
       "       6.92910150e-02, 8.09191047e-03, 2.58493231e-02, 4.34157709e-04,\n",
       "       3.15658143e-03, 1.42802588e-03, 4.36584496e-02, 3.80899589e-03,\n",
       "       1.46696404e-02, 7.55387106e-03, 6.15578359e-03, 9.18687172e-04,\n",
       "       3.43582076e-03, 1.32101000e-02, 6.15578359e-03, 5.96855749e-03,\n",
       "       5.00238555e-03, 3.19944388e-02, 6.27720233e-05, 1.24545499e-04,\n",
       "       8.19755794e-02, 1.03863443e-02, 2.82955829e-02, 7.55387106e-03,\n",
       "       6.15578359e-03, 8.62285357e-03, 2.59529483e-02, 1.39882183e-04,\n",
       "       2.61999370e-03, 5.69610142e-02, 4.85006847e-03, 1.57808562e-05,\n",
       "       3.26132819e-03, 1.17349534e-02, 7.86310664e-03, 1.16149339e-02,\n",
       "       4.85006847e-03, 1.72254056e-02, 2.09431059e-02, 8.88109099e-03,\n",
       "       3.26132819e-03, 3.14857624e-02, 1.42271750e-02, 1.08775855e-01,\n",
       "       2.38864677e-03, 4.49744681e-02, 4.85006847e-03, 1.08616807e-03,\n",
       "       4.85006847e-03, 2.43488769e-03, 3.14857624e-02, 3.67525591e-03,\n",
       "       9.73823188e-03, 2.60722130e-02, 2.82955829e-02, 5.61217604e-03,\n",
       "       5.39961140e-04, 7.64450163e-02, 1.17104133e-04, 5.89579439e-04,\n",
       "       5.16806520e-03, 3.46603321e-04, 3.75973639e-02, 3.03705460e-04,\n",
       "       3.80899589e-03, 3.14857624e-02, 3.26132819e-03, 2.61999370e-03,\n",
       "       6.22325445e-03, 3.43955497e-04, 4.42700729e-03, 7.32443597e-03,\n",
       "       5.82258226e-03, 2.60629978e-02, 9.39157109e-03, 3.92874702e-03,\n",
       "       5.16806520e-03, 2.44712907e-02, 6.04783906e-03, 1.33843128e-02,\n",
       "       1.72254056e-02, 5.11393447e-02, 5.63997842e-02, 5.61217604e-03,\n",
       "       7.07678704e-05, 9.77617273e-05, 8.78871697e-03, 7.55387106e-03,\n",
       "       7.55387106e-03, 2.09431059e-02, 2.59529483e-02, 2.61161692e-05,\n",
       "       8.88109099e-03, 7.80339348e-03, 1.33843128e-02, 1.66166893e-02,\n",
       "       1.83583916e-02, 7.01046575e-03, 2.45971702e-05, 4.36584496e-02,\n",
       "       1.41023851e-01, 8.19755794e-02, 8.86987141e-03, 1.66166893e-02,\n",
       "       3.15658143e-03, 2.06021784e-02, 6.35941977e-03, 3.40273956e-02,\n",
       "       1.98643831e-02, 1.21008621e-02, 4.85006847e-03, 5.97873459e-02,\n",
       "       3.59982148e-03, 8.76347237e-03, 4.86519121e-03, 4.63003888e-03,\n",
       "       1.09189865e-02, 3.24473029e-02, 1.05752941e-02, 1.11268388e-05,\n",
       "       2.93200540e-03, 5.11393447e-02, 5.40478089e-02, 3.14857624e-02,\n",
       "       7.80339348e-03, 1.41497573e-04, 7.65598178e-03, 8.62285357e-03,\n",
       "       2.17698043e-03, 4.15333663e-03, 1.56864212e-02, 1.50735526e-04,\n",
       "       7.80339348e-03, 6.07496614e-05, 9.34641403e-02, 5.00238555e-03,\n",
       "       3.15658143e-03, 8.78871697e-03, 2.04785236e-02, 5.63997842e-02,\n",
       "       8.26962161e-05, 5.07306499e-04, 7.01046575e-03, 7.65598178e-03,\n",
       "       3.67525591e-03, 6.93381254e-04, 8.88109099e-03, 2.02234009e-03,\n",
       "       1.24988772e-03, 1.95454015e-02, 7.15925489e-03, 6.22325445e-03,\n",
       "       6.22325445e-03, 3.15658143e-03, 1.46696404e-02, 5.61217604e-03,\n",
       "       7.01046575e-03, 5.87655613e-04, 3.92874702e-03, 1.33843128e-02,\n",
       "       9.80181387e-02, 3.03705460e-04, 2.59529483e-02, 8.11837680e-04,\n",
       "       1.04675460e-01, 6.91818149e-04, 1.35641603e-02, 1.89224513e-04,\n",
       "       1.06400410e-04, 1.45916607e-02, 6.22325445e-03, 6.92910150e-02,\n",
       "       5.11393447e-02, 6.97009770e-04, 1.66166893e-02, 1.10380849e-02,\n",
       "       5.61217604e-03, 8.78871697e-03, 5.61217604e-03, 7.33926437e-02,\n",
       "       4.51903089e-03, 8.88109099e-03, 9.01657245e-03, 2.60629978e-02,\n",
       "       6.84717734e-02, 2.25836701e-02, 8.78871697e-03, 2.93514325e-02,\n",
       "       4.15333663e-03, 7.86310664e-03, 1.13260844e-02, 7.01046575e-03,\n",
       "       1.11982617e-03, 4.42700729e-03, 2.56863312e-03, 3.62980768e-02,\n",
       "       4.40094612e-04, 2.43488769e-03, 1.02550371e-02, 3.15658143e-03,\n",
       "       1.33843128e-02, 3.19944388e-02, 3.15658143e-03, 1.74358692e-02,\n",
       "       7.01046575e-03, 5.63997842e-02, 5.61217604e-03, 1.36213713e-02,\n",
       "       1.07346377e-04, 8.78871697e-03, 1.27029038e-03, 4.42700729e-03,\n",
       "       1.22259968e-03, 1.34958787e-03, 3.67525591e-03, 2.12266028e-04,\n",
       "       3.92874702e-03, 3.15658143e-03, 8.86214847e-03, 4.65978214e-04,\n",
       "       5.82258226e-03, 2.61161692e-05, 5.97873459e-02, 4.86121456e-03,\n",
       "       4.79892397e-05, 3.34913657e-02, 2.63532602e-02, 9.73823188e-03,\n",
       "       2.00830979e-02, 2.61999370e-03, 6.90936955e-04, 2.93367630e-03,\n",
       "       7.55387106e-03, 2.06487435e-02, 1.73854771e-06, 1.52222835e-01,\n",
       "       7.32443597e-03, 3.15658143e-03, 4.24723447e-04, 2.06487435e-02,\n",
       "       1.66166893e-02, 5.16806520e-03, 5.61217604e-03, 5.00238555e-03,\n",
       "       6.15578359e-03, 5.11197557e-03, 8.88109099e-03, 9.39157109e-03,\n",
       "       2.70667771e-02, 3.40273956e-02, 6.92910150e-02, 2.43130952e-02,\n",
       "       4.85006847e-03, 5.40067033e-06, 2.16035422e-03, 2.12237084e-03,\n",
       "       3.67525591e-03, 4.49744681e-02, 4.39715918e-05, 4.46044749e-02,\n",
       "       2.63479354e-03, 1.74358692e-02, 1.70421767e-04, 9.02152008e-04,\n",
       "       4.29213426e-03, 5.46621608e-05, 2.43488769e-03, 4.42700729e-03,\n",
       "       8.70943699e-04, 2.61999370e-03, 5.97400147e-03, 5.61217604e-03,\n",
       "       3.13573270e-03, 3.92874702e-03, 7.86310664e-03, 1.52656960e-02,\n",
       "       2.61999370e-03, 5.82258226e-03, 5.82258226e-03, 7.32443597e-03,\n",
       "       1.72254056e-02, 6.62912222e-04, 8.99913223e-04, 7.01046575e-03,\n",
       "       2.59419815e-04, 3.15658143e-03])"
      ]
     },
     "execution_count": 218,
     "metadata": {},
     "output_type": "execute_result"
    }
   ],
   "source": [
    "logReg.predict_proba(df_test_scaled)[:, 1]"
   ]
  },
  {
   "cell_type": "code",
   "execution_count": 219,
   "metadata": {},
   "outputs": [
    {
     "data": {
      "text/plain": [
       "array([0, 0, 1, 0, 0, 1, 0, 0, 0, 0, 0, 0, 0, 0, 0, 1, 0, 0, 0, 0, 0, 0,\n",
       "       0, 0, 0, 0, 0, 0, 1, 0, 0, 0, 0, 0, 1, 0, 0, 0, 0, 0, 0, 0, 0, 0,\n",
       "       0, 0, 0, 0, 0, 0, 0, 0, 0, 1, 0, 0, 0, 0, 0, 1, 0, 0, 0, 0, 0, 0,\n",
       "       0, 0, 0, 0, 1, 0, 1, 0, 0, 0, 0, 0, 0, 0, 0, 1, 0, 1, 0, 0, 0, 0,\n",
       "       0, 0, 0, 0, 0, 1, 0, 0, 0, 0, 0, 0, 0, 0, 0, 0, 0, 1, 1, 0, 0, 0,\n",
       "       0, 0, 1, 0, 1, 0, 0, 1, 0, 0, 0, 1, 0, 0, 0, 0, 0, 0, 1, 0, 0, 0,\n",
       "       0, 0, 0, 0, 1, 0, 0, 0, 0, 0, 0, 0, 0, 0, 1, 0, 0, 0, 0, 0, 0, 0,\n",
       "       0, 0, 0, 0, 0, 0, 1, 0, 0, 0, 0, 0, 0, 0, 1, 0, 0, 0, 0, 1, 0, 0,\n",
       "       0, 0, 0, 0, 0, 0, 0, 1, 1, 0, 0, 0, 1, 0, 0, 0, 0, 0, 0, 0, 1, 0,\n",
       "       0, 0, 0, 1, 0, 0, 0, 0, 0, 0, 0, 0, 0, 0, 0, 0, 0, 0, 0, 0, 0, 0,\n",
       "       0, 1, 1, 0, 0, 0, 0, 0, 0, 0, 0, 1, 0, 1, 0, 0, 0, 0, 0, 0, 0, 0,\n",
       "       0, 0, 0, 0, 0, 0, 0, 1, 0, 0, 0, 0, 0, 1, 0, 0, 0, 0, 0, 1, 0, 0,\n",
       "       0, 0, 0, 0, 0, 0, 0, 0, 0, 0, 1, 0, 0, 0, 0, 0, 0, 0, 0, 0, 0, 0,\n",
       "       0, 0, 0, 0, 0, 0, 0, 1, 0, 0, 0, 0, 0, 0, 0, 0, 0, 0, 0, 0, 0, 0,\n",
       "       0, 0, 0, 0, 0, 0, 1, 0, 0, 0, 0, 0, 0, 0, 0, 0, 0, 0, 0, 1, 0, 0,\n",
       "       0, 0, 0, 0, 0, 1, 0, 0, 0, 0, 0, 0, 0, 1, 0, 1, 0, 0, 0, 0, 0, 0,\n",
       "       0, 0, 0, 0, 0, 0, 0, 0, 0, 0, 0, 0, 0, 0, 0, 0, 0, 0, 0, 0, 1, 0,\n",
       "       1, 0, 0, 0, 0, 0, 0, 0, 1, 0, 0, 0, 0, 0, 1, 0, 0, 0, 0, 0, 0, 0,\n",
       "       0, 0, 1, 0, 0, 1, 0, 0, 0, 0, 0, 0, 0, 0, 0, 1, 0, 0, 0, 0, 0, 0,\n",
       "       0, 1, 0, 0, 0, 0, 0, 1, 0, 0, 0, 0, 0, 0, 0, 0, 0, 0, 0, 0, 0, 0,\n",
       "       0, 0, 0, 0, 1, 0, 0, 0, 0, 0, 0, 0, 0, 0, 0, 0, 0, 0, 0, 0, 0, 0,\n",
       "       0, 0, 0, 1, 0, 0, 0, 0, 1, 0, 1, 0, 0, 0, 0, 0, 0, 0, 1, 0, 0, 0,\n",
       "       0, 0, 0, 1, 1, 0, 0, 0, 0, 0, 1, 0, 0, 0, 0, 0, 0, 0, 0, 0, 0, 1,\n",
       "       0, 0, 1, 0, 1, 0, 0, 0, 0, 0, 0, 1, 0, 0, 0, 0, 0, 0, 0, 0, 0, 0,\n",
       "       0, 1, 0, 1, 0, 1, 0, 0, 0, 0, 1, 0, 0, 0, 1, 0, 0, 1, 0, 0, 0, 0,\n",
       "       1, 0, 0, 1, 0, 0, 0, 0, 0, 0, 0, 0, 0, 0, 0, 0, 0, 0, 0, 1, 1, 0,\n",
       "       0, 0, 0, 0, 0, 0, 0, 0, 0, 0, 0, 0, 0, 0, 0, 1, 1, 1, 0, 0, 0, 0,\n",
       "       0, 1, 0, 0, 0, 1, 0, 0, 0, 0, 0, 1, 0, 0, 0, 1, 1, 1, 0, 0, 0, 0,\n",
       "       0, 0, 0, 0, 0, 0, 1, 0, 0, 0, 0, 1, 0, 0, 0, 0, 0, 0, 0, 0, 0, 0,\n",
       "       0, 0, 0, 0, 0, 0, 0, 0, 0, 0, 1, 0, 0, 0, 1, 0, 0, 0, 0, 0, 0, 1,\n",
       "       1, 0, 0, 0, 0, 0, 0, 1, 0, 0, 0, 0, 1, 0, 0, 1, 0, 0, 0, 0, 0, 0,\n",
       "       0, 1, 0, 0, 0, 0, 0, 1, 0, 0, 0, 1, 0, 0, 0, 0, 0, 0, 0, 0, 0, 0,\n",
       "       0, 0, 0, 0, 0, 0, 1, 0, 0, 1, 0, 0, 0, 0, 0, 0, 0, 0, 0, 1, 0, 0,\n",
       "       0, 0, 0, 0, 0, 0, 0, 0, 0, 0, 1, 1, 1, 0, 0, 0, 0, 0, 0, 1, 0, 1,\n",
       "       0, 0, 0, 0, 0, 0, 0, 0, 0, 0, 0, 0, 0, 0, 0, 0, 0, 0, 0, 0, 0, 0,\n",
       "       0, 0, 0, 0])"
      ]
     },
     "execution_count": 219,
     "metadata": {},
     "output_type": "execute_result"
    }
   ],
   "source": [
    "np.where(logReg.predict_proba(df_test_scaled)[:, 1] >= thresholds[25], 1, 0)"
   ]
  },
  {
   "cell_type": "code",
   "execution_count": null,
   "metadata": {},
   "outputs": [],
   "source": []
  }
 ],
 "metadata": {
  "kernelspec": {
   "display_name": "Python 3",
   "language": "python",
   "name": "python3"
  },
  "language_info": {
   "codemirror_mode": {
    "name": "ipython",
    "version": 3
   },
   "file_extension": ".py",
   "mimetype": "text/x-python",
   "name": "python",
   "nbconvert_exporter": "python",
   "pygments_lexer": "ipython3",
   "version": "3.8.5"
  }
 },
 "nbformat": 4,
 "nbformat_minor": 4
}
