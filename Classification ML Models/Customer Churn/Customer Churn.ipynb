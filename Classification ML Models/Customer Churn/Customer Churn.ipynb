{
 "cells": [
  {
   "cell_type": "markdown",
   "metadata": {},
   "source": [
    "# Telecom Customer Churn Prediction"
   ]
  },
  {
   "cell_type": "markdown",
   "metadata": {},
   "source": [
    "Customer Churn is a major problem and one of the most crucial challenges that companies have\n",
    "to deal with due to its direct impact on the revenues and market share. It is a very well known fact that\n",
    "acquiring a new customer is more expensive than retaining the existing customers. Therefore this will\n",
    "help us to determine customer retention success rates and identify strategies for improvement."
   ]
  },
  {
   "attachments": {},
   "cell_type": "markdown",
   "metadata": {},
   "source": [
    "<div>\n",
    "<img src=\"1.png\" width=\"300\"/>\n",
    "</div>"
   ]
  },
  {
   "cell_type": "markdown",
   "metadata": {},
   "source": [
    "Goal: Predict if a customer will churn or not. Thereby, business can take corrective actions to retain those customers who might churn"
   ]
  },
  {
   "cell_type": "markdown",
   "metadata": {},
   "source": [
    "Dataset Reference:\n",
    "https://community.ibm.com/community/user/businessanalytics/blogs/steven-macko/2019/07/11/telco-customer-churn-1113"
   ]
  },
  {
   "cell_type": "markdown",
   "metadata": {},
   "source": [
    "<div class=\"alert alert-block alert-info\">\n",
    "<b>PREREQUISITES STATED ARE MET :</b> \n",
    "    \n",
    "* At least 15 features (columns) - This dataset has 21 columns ie., >15 pre and post processing as well\n",
    "* At least 1000 instances (rows) - This dataset has around ~2000 instances ie., >1000 pre and post processing as well\n",
    "* At least two categorical/ordinal columns - This dataset has >2 categorical columns\n",
    "* Between 5 to 10 percent missing values across the dataset - Have randomly ingested 5% nulls across 5 columns </div>"
   ]
  },
  {
   "cell_type": "markdown",
   "metadata": {},
   "source": [
    "<div class=\"alert alert-block alert-info\">\n",
    "    <b>EVALUATION STRATEGY JUSTIFICATION:</b>\n",
    "    \n",
    "Based on the impact, I have chosen <b>Recall score</b> as the primary evaluation criterion since we got to control False Negatives as much as possible. Customers who might possibly churn should be predicted correctly so that business can take corrective actions not to lose those customers in future. In addition, as this is not a well-balanced dataset (70:30 churn ratio), roc_auc_score is considered as a supporting score. This dataset is not imbalanced to use roc_auc score  primarily and thus am using recall_score as primary and roc_auc_score as the supporting score. </div>"
   ]
  },
  {
   "cell_type": "code",
   "execution_count": 108,
   "metadata": {},
   "outputs": [],
   "source": [
    "#Import all required libraries\n",
    "import pandas as pd \n",
    "import numpy as np\n",
    "import matplotlib.pyplot as plt\n",
    "import seaborn as sns\n",
    "\n",
    "import warnings\n",
    "warnings.filterwarnings(\"ignore\")"
   ]
  },
  {
   "cell_type": "markdown",
   "metadata": {},
   "source": [
    "## Data Analysis"
   ]
  },
  {
   "cell_type": "markdown",
   "metadata": {},
   "source": [
    "Lets start the analysis with imports of some basic libraries which includes Pandas and Numpy for data handling and processing. Data set (.csv format) is downloaded to a local folder, read into the Jupyter notebook and stored in a Pandas DataFrame."
   ]
  },
  {
   "cell_type": "code",
   "execution_count": 109,
   "metadata": {},
   "outputs": [],
   "source": [
    "# Import dataset using pandas reader\n",
    "df = pd.read_csv('Customer-Churn.csv')"
   ]
  },
  {
   "cell_type": "code",
   "execution_count": 110,
   "metadata": {
    "scrolled": true
   },
   "outputs": [
    {
     "data": {
      "text/html": [
       "<div>\n",
       "<style scoped>\n",
       "    .dataframe tbody tr th:only-of-type {\n",
       "        vertical-align: middle;\n",
       "    }\n",
       "\n",
       "    .dataframe tbody tr th {\n",
       "        vertical-align: top;\n",
       "    }\n",
       "\n",
       "    .dataframe thead th {\n",
       "        text-align: right;\n",
       "    }\n",
       "</style>\n",
       "<table border=\"1\" class=\"dataframe\">\n",
       "  <thead>\n",
       "    <tr style=\"text-align: right;\">\n",
       "      <th></th>\n",
       "      <th>SeniorCitizen</th>\n",
       "      <th>tenure</th>\n",
       "      <th>MonthlyCharges</th>\n",
       "    </tr>\n",
       "  </thead>\n",
       "  <tbody>\n",
       "    <tr>\n",
       "      <th>count</th>\n",
       "      <td>1999.000000</td>\n",
       "      <td>1999.000000</td>\n",
       "      <td>1999.000000</td>\n",
       "    </tr>\n",
       "    <tr>\n",
       "      <th>mean</th>\n",
       "      <td>0.159080</td>\n",
       "      <td>32.343172</td>\n",
       "      <td>65.318459</td>\n",
       "    </tr>\n",
       "    <tr>\n",
       "      <th>std</th>\n",
       "      <td>0.365842</td>\n",
       "      <td>24.601820</td>\n",
       "      <td>29.823159</td>\n",
       "    </tr>\n",
       "    <tr>\n",
       "      <th>min</th>\n",
       "      <td>0.000000</td>\n",
       "      <td>0.000000</td>\n",
       "      <td>18.400000</td>\n",
       "    </tr>\n",
       "    <tr>\n",
       "      <th>25%</th>\n",
       "      <td>0.000000</td>\n",
       "      <td>9.000000</td>\n",
       "      <td>39.850000</td>\n",
       "    </tr>\n",
       "    <tr>\n",
       "      <th>50%</th>\n",
       "      <td>0.000000</td>\n",
       "      <td>29.000000</td>\n",
       "      <td>70.900000</td>\n",
       "    </tr>\n",
       "    <tr>\n",
       "      <th>75%</th>\n",
       "      <td>0.000000</td>\n",
       "      <td>56.000000</td>\n",
       "      <td>89.850000</td>\n",
       "    </tr>\n",
       "    <tr>\n",
       "      <th>max</th>\n",
       "      <td>1.000000</td>\n",
       "      <td>72.000000</td>\n",
       "      <td>116.450000</td>\n",
       "    </tr>\n",
       "  </tbody>\n",
       "</table>\n",
       "</div>"
      ],
      "text/plain": [
       "       SeniorCitizen       tenure  MonthlyCharges\n",
       "count    1999.000000  1999.000000     1999.000000\n",
       "mean        0.159080    32.343172       65.318459\n",
       "std         0.365842    24.601820       29.823159\n",
       "min         0.000000     0.000000       18.400000\n",
       "25%         0.000000     9.000000       39.850000\n",
       "50%         0.000000    29.000000       70.900000\n",
       "75%         0.000000    56.000000       89.850000\n",
       "max         1.000000    72.000000      116.450000"
      ]
     },
     "execution_count": 110,
     "metadata": {},
     "output_type": "execute_result"
    }
   ],
   "source": [
    "# General statistics\n",
    "df.describe()"
   ]
  },
  {
   "cell_type": "code",
   "execution_count": 111,
   "metadata": {},
   "outputs": [
    {
     "name": "stdout",
     "output_type": "stream",
     "text": [
      "<class 'pandas.core.frame.DataFrame'>\n",
      "RangeIndex: 1999 entries, 0 to 1998\n",
      "Data columns (total 21 columns):\n",
      " #   Column            Non-Null Count  Dtype  \n",
      "---  ------            --------------  -----  \n",
      " 0   customerID        1999 non-null   object \n",
      " 1   gender            1999 non-null   object \n",
      " 2   SeniorCitizen     1999 non-null   int64  \n",
      " 3   Partner           1999 non-null   object \n",
      " 4   Dependents        1572 non-null   object \n",
      " 5   tenure            1999 non-null   int64  \n",
      " 6   PhoneService      1386 non-null   object \n",
      " 7   MultipleLines     1999 non-null   object \n",
      " 8   InternetService   1999 non-null   object \n",
      " 9   OnlineSecurity    1582 non-null   object \n",
      " 10  OnlineBackup      1999 non-null   object \n",
      " 11  DeviceProtection  1999 non-null   object \n",
      " 12  TechSupport       1604 non-null   object \n",
      " 13  StreamingTV       1999 non-null   object \n",
      " 14  StreamingMovies   1999 non-null   object \n",
      " 15  Contract          1999 non-null   object \n",
      " 16  PaperlessBilling  1693 non-null   object \n",
      " 17  PaymentMethod     1999 non-null   object \n",
      " 18  MonthlyCharges    1999 non-null   float64\n",
      " 19  TotalCharges      1999 non-null   object \n",
      " 20  Churn             1999 non-null   object \n",
      "dtypes: float64(1), int64(2), object(18)\n",
      "memory usage: 328.1+ KB\n"
     ]
    }
   ],
   "source": [
    "# Here, Churn is the target variable and there are many categorical columns which has to be transformed into numerical \n",
    "# columns and nulls in the dataset has to be handled as well for modelling\n",
    "df.info()"
   ]
  },
  {
   "cell_type": "code",
   "execution_count": 112,
   "metadata": {},
   "outputs": [
    {
     "data": {
      "text/plain": [
       "2158"
      ]
     },
     "execution_count": 112,
     "metadata": {},
     "output_type": "execute_result"
    }
   ],
   "source": [
    "# Total nulls in the dataset\n",
    "df.isnull().sum().sum()"
   ]
  },
  {
   "cell_type": "code",
   "execution_count": 113,
   "metadata": {},
   "outputs": [
    {
     "data": {
      "text/plain": [
       "5.140665570880679"
      ]
     },
     "execution_count": 113,
     "metadata": {},
     "output_type": "execute_result"
    }
   ],
   "source": [
    "# Percentage of nulls in the dataset is around 5.14%\n",
    "(df.isnull().sum().sum()/ (df.shape[0] * df.shape[1]) ) * 100"
   ]
  },
  {
   "cell_type": "code",
   "execution_count": 114,
   "metadata": {},
   "outputs": [
    {
     "data": {
      "text/plain": [
       "(1999, 21)"
      ]
     },
     "execution_count": 114,
     "metadata": {},
     "output_type": "execute_result"
    }
   ],
   "source": [
    "# Dataset has 1999 rows and 21 columns\n",
    "df.shape"
   ]
  },
  {
   "cell_type": "code",
   "execution_count": 115,
   "metadata": {},
   "outputs": [
    {
     "data": {
      "text/html": [
       "<div>\n",
       "<style scoped>\n",
       "    .dataframe tbody tr th:only-of-type {\n",
       "        vertical-align: middle;\n",
       "    }\n",
       "\n",
       "    .dataframe tbody tr th {\n",
       "        vertical-align: top;\n",
       "    }\n",
       "\n",
       "    .dataframe thead th {\n",
       "        text-align: right;\n",
       "    }\n",
       "</style>\n",
       "<table border=\"1\" class=\"dataframe\">\n",
       "  <thead>\n",
       "    <tr style=\"text-align: right;\">\n",
       "      <th></th>\n",
       "      <th>customerID</th>\n",
       "      <th>gender</th>\n",
       "      <th>SeniorCitizen</th>\n",
       "      <th>Partner</th>\n",
       "      <th>Dependents</th>\n",
       "      <th>tenure</th>\n",
       "      <th>PhoneService</th>\n",
       "      <th>MultipleLines</th>\n",
       "      <th>InternetService</th>\n",
       "      <th>OnlineSecurity</th>\n",
       "      <th>...</th>\n",
       "      <th>DeviceProtection</th>\n",
       "      <th>TechSupport</th>\n",
       "      <th>StreamingTV</th>\n",
       "      <th>StreamingMovies</th>\n",
       "      <th>Contract</th>\n",
       "      <th>PaperlessBilling</th>\n",
       "      <th>PaymentMethod</th>\n",
       "      <th>MonthlyCharges</th>\n",
       "      <th>TotalCharges</th>\n",
       "      <th>Churn</th>\n",
       "    </tr>\n",
       "  </thead>\n",
       "  <tbody>\n",
       "    <tr>\n",
       "      <th>0</th>\n",
       "      <td>7590-VHVEG</td>\n",
       "      <td>Female</td>\n",
       "      <td>0</td>\n",
       "      <td>Yes</td>\n",
       "      <td>No</td>\n",
       "      <td>1</td>\n",
       "      <td>No</td>\n",
       "      <td>No phone service</td>\n",
       "      <td>DSL</td>\n",
       "      <td>No</td>\n",
       "      <td>...</td>\n",
       "      <td>No</td>\n",
       "      <td>No</td>\n",
       "      <td>No</td>\n",
       "      <td>No</td>\n",
       "      <td>Month-to-month</td>\n",
       "      <td>Yes</td>\n",
       "      <td>Electronic check</td>\n",
       "      <td>29.85</td>\n",
       "      <td>29.85</td>\n",
       "      <td>No</td>\n",
       "    </tr>\n",
       "    <tr>\n",
       "      <th>1</th>\n",
       "      <td>5575-GNVDE</td>\n",
       "      <td>Male</td>\n",
       "      <td>0</td>\n",
       "      <td>No</td>\n",
       "      <td>No</td>\n",
       "      <td>34</td>\n",
       "      <td>Yes</td>\n",
       "      <td>No</td>\n",
       "      <td>DSL</td>\n",
       "      <td>Yes</td>\n",
       "      <td>...</td>\n",
       "      <td>Yes</td>\n",
       "      <td>No</td>\n",
       "      <td>No</td>\n",
       "      <td>No</td>\n",
       "      <td>One year</td>\n",
       "      <td>No</td>\n",
       "      <td>Mailed check</td>\n",
       "      <td>56.95</td>\n",
       "      <td>1889.5</td>\n",
       "      <td>No</td>\n",
       "    </tr>\n",
       "    <tr>\n",
       "      <th>2</th>\n",
       "      <td>3668-QPYBK</td>\n",
       "      <td>Male</td>\n",
       "      <td>0</td>\n",
       "      <td>No</td>\n",
       "      <td>No</td>\n",
       "      <td>2</td>\n",
       "      <td>Yes</td>\n",
       "      <td>No</td>\n",
       "      <td>DSL</td>\n",
       "      <td>Yes</td>\n",
       "      <td>...</td>\n",
       "      <td>No</td>\n",
       "      <td>NaN</td>\n",
       "      <td>No</td>\n",
       "      <td>No</td>\n",
       "      <td>Month-to-month</td>\n",
       "      <td>Yes</td>\n",
       "      <td>Mailed check</td>\n",
       "      <td>53.85</td>\n",
       "      <td>108.15</td>\n",
       "      <td>Yes</td>\n",
       "    </tr>\n",
       "    <tr>\n",
       "      <th>3</th>\n",
       "      <td>7795-CFOCW</td>\n",
       "      <td>Male</td>\n",
       "      <td>0</td>\n",
       "      <td>No</td>\n",
       "      <td>No</td>\n",
       "      <td>45</td>\n",
       "      <td>No</td>\n",
       "      <td>No phone service</td>\n",
       "      <td>DSL</td>\n",
       "      <td>Yes</td>\n",
       "      <td>...</td>\n",
       "      <td>Yes</td>\n",
       "      <td>Yes</td>\n",
       "      <td>No</td>\n",
       "      <td>No</td>\n",
       "      <td>One year</td>\n",
       "      <td>No</td>\n",
       "      <td>Bank transfer (automatic)</td>\n",
       "      <td>42.30</td>\n",
       "      <td>1840.75</td>\n",
       "      <td>No</td>\n",
       "    </tr>\n",
       "    <tr>\n",
       "      <th>4</th>\n",
       "      <td>9237-HQITU</td>\n",
       "      <td>Female</td>\n",
       "      <td>0</td>\n",
       "      <td>No</td>\n",
       "      <td>No</td>\n",
       "      <td>2</td>\n",
       "      <td>Yes</td>\n",
       "      <td>No</td>\n",
       "      <td>Fiber optic</td>\n",
       "      <td>No</td>\n",
       "      <td>...</td>\n",
       "      <td>No</td>\n",
       "      <td>NaN</td>\n",
       "      <td>No</td>\n",
       "      <td>No</td>\n",
       "      <td>Month-to-month</td>\n",
       "      <td>NaN</td>\n",
       "      <td>Electronic check</td>\n",
       "      <td>70.70</td>\n",
       "      <td>151.65</td>\n",
       "      <td>Yes</td>\n",
       "    </tr>\n",
       "  </tbody>\n",
       "</table>\n",
       "<p>5 rows × 21 columns</p>\n",
       "</div>"
      ],
      "text/plain": [
       "   customerID  gender  SeniorCitizen Partner Dependents  tenure PhoneService  \\\n",
       "0  7590-VHVEG  Female              0     Yes         No       1           No   \n",
       "1  5575-GNVDE    Male              0      No         No      34          Yes   \n",
       "2  3668-QPYBK    Male              0      No         No       2          Yes   \n",
       "3  7795-CFOCW    Male              0      No         No      45           No   \n",
       "4  9237-HQITU  Female              0      No         No       2          Yes   \n",
       "\n",
       "      MultipleLines InternetService OnlineSecurity  ... DeviceProtection  \\\n",
       "0  No phone service             DSL             No  ...               No   \n",
       "1                No             DSL            Yes  ...              Yes   \n",
       "2                No             DSL            Yes  ...               No   \n",
       "3  No phone service             DSL            Yes  ...              Yes   \n",
       "4                No     Fiber optic             No  ...               No   \n",
       "\n",
       "  TechSupport StreamingTV StreamingMovies        Contract PaperlessBilling  \\\n",
       "0          No          No              No  Month-to-month              Yes   \n",
       "1          No          No              No        One year               No   \n",
       "2         NaN          No              No  Month-to-month              Yes   \n",
       "3         Yes          No              No        One year               No   \n",
       "4         NaN          No              No  Month-to-month              NaN   \n",
       "\n",
       "               PaymentMethod MonthlyCharges  TotalCharges Churn  \n",
       "0           Electronic check          29.85         29.85    No  \n",
       "1               Mailed check          56.95        1889.5    No  \n",
       "2               Mailed check          53.85        108.15   Yes  \n",
       "3  Bank transfer (automatic)          42.30       1840.75    No  \n",
       "4           Electronic check          70.70        151.65   Yes  \n",
       "\n",
       "[5 rows x 21 columns]"
      ]
     },
     "execution_count": 115,
     "metadata": {},
     "output_type": "execute_result"
    }
   ],
   "source": [
    "# Sample records of the dataset\n",
    "df.head()"
   ]
  },
  {
   "cell_type": "markdown",
   "metadata": {},
   "source": [
    "\n",
    "### Check for Duplicates"
   ]
  },
  {
   "cell_type": "code",
   "execution_count": 116,
   "metadata": {},
   "outputs": [
    {
     "data": {
      "text/plain": [
       "0"
      ]
     },
     "execution_count": 116,
     "metadata": {},
     "output_type": "execute_result"
    }
   ],
   "source": [
    "# There are no duplicates to be dropped\n",
    "sum(df.duplicated())"
   ]
  },
  {
   "cell_type": "code",
   "execution_count": 117,
   "metadata": {
    "scrolled": true
   },
   "outputs": [
    {
     "name": "stdout",
     "output_type": "stream",
     "text": [
      "Churn Percentages are\n",
      " No     0.737369\n",
      "Yes    0.262631\n",
      "Name: Churn, dtype: float64\n"
     ]
    },
    {
     "data": {
      "image/png": "[encoded data removed]",
      "text/plain": [
       "<Figure size 432x288 with 1 Axes>"
      ]
     },
     "metadata": {
      "needs_background": "light"
     },
     "output_type": "display_data"
    }
   ],
   "source": [
    "# From below there is only 26% Churn in the whole dataset. From this we can infer that, its not a well-balanced dataset.\n",
    "# As this is an not a well-balanced data, roc_auc_score is considered as a supporting score with recall score as primary\n",
    "import seaborn as sns\n",
    "sns.countplot(df.Churn);\n",
    "print ('Churn Percentages are\\n',df.Churn.value_counts() / df.Churn.count())"
   ]
  },
  {
   "cell_type": "code",
   "execution_count": 118,
   "metadata": {},
   "outputs": [
    {
     "data": {
      "image/png": "[encoded data removed]",
      "text/plain": [
       "<Figure size 432x288 with 1 Axes>"
      ]
     },
     "metadata": {
      "needs_background": "light"
     },
     "output_type": "display_data"
    }
   ],
   "source": [
    "# From below countplot we can infer that Gender doesnt seem to play a crucial role in churn\n",
    "sns.countplot(x='gender', hue='Churn', data=df);"
   ]
  },
  {
   "cell_type": "code",
   "execution_count": 119,
   "metadata": {},
   "outputs": [
    {
     "data": {
      "image/png": "[encoded data removed]",
      "text/plain": [
       "<Figure size 432x288 with 1 Axes>"
      ]
     },
     "metadata": {
      "needs_background": "light"
     },
     "output_type": "display_data"
    }
   ],
   "source": [
    "# From below countplot we can infer that SeniorCitizen has a greater churn rate compared with non-senior citizen\n",
    "sns.countplot(x='SeniorCitizen', hue='Churn', data=df);"
   ]
  },
  {
   "cell_type": "code",
   "execution_count": 120,
   "metadata": {},
   "outputs": [
    {
     "data": {
      "image/png": "[encoded data removed]",
      "text/plain": [
       "<Figure size 432x288 with 1 Axes>"
      ]
     },
     "metadata": {
      "needs_background": "light"
     },
     "output_type": "display_data"
    }
   ],
   "source": [
    "# From below countplot we can infer that customers without partners tend to churn away from the carrier\n",
    "sns.countplot(x='Partner', hue='Churn', data=df);"
   ]
  },
  {
   "cell_type": "code",
   "execution_count": 121,
   "metadata": {},
   "outputs": [
    {
     "data": {
      "text/plain": [
       "<AxesSubplot:xlabel='tenure', ylabel='Count'>"
      ]
     },
     "execution_count": 121,
     "metadata": {},
     "output_type": "execute_result"
    },
    {
     "data": {
      "image/png": "[encoded data removed]",
      "text/plain": [
       "<Figure size 864x360 with 1 Axes>"
      ]
     },
     "metadata": {
      "needs_background": "light"
     },
     "output_type": "display_data"
    }
   ],
   "source": [
    "plt.figure(figsize=(12,5))\n",
    "# Greater number of churns has happened with new customer\n",
    "sns.histplot(x='tenure', hue='Churn', data=df, bins=50)"
   ]
  },
  {
   "cell_type": "code",
   "execution_count": 122,
   "metadata": {},
   "outputs": [
    {
     "data": {
      "image/png": "[encoded data removed]",
      "text/plain": [
       "<Figure size 576x432 with 1 Axes>"
      ]
     },
     "metadata": {
      "needs_background": "light"
     },
     "output_type": "display_data"
    }
   ],
   "source": [
    "plt.figure(figsize=(8,6))\n",
    "sns.boxplot(x='tenure', y='Churn',data=df);"
   ]
  },
  {
   "cell_type": "markdown",
   "metadata": {},
   "source": [
    "### Outliers Handling"
   ]
  },
  {
   "cell_type": "markdown",
   "metadata": {},
   "source": [
    "From above plot we can infer that, \n",
    "* Most of the churned customers are between tenure of 5 months and 25 months\n",
    "* There are some outliers in churned cutomers ie Customers who are regular/ premium customers with >65 months enrolled with this telco carrier who had left away from the carrier. As these outliers are important for our modelling since business might be interested in churn rate of premium customers more, hence I have decided not to drop these outliers"
   ]
  },
  {
   "cell_type": "markdown",
   "metadata": {},
   "source": [
    "## Data Cleaning"
   ]
  },
  {
   "cell_type": "markdown",
   "metadata": {},
   "source": [
    "Goal of this step is to get an understanding of the data structure, conduct initial preprocessing, clean the data, identify patterns and inconsistencies in the data (i.e. skewness, outliers, missing values), build and validate hypotheses."
   ]
  },
  {
   "cell_type": "markdown",
   "metadata": {},
   "source": [
    "<b>Steps:</b>\n",
    "* All categorical columns have been transformed to numerical columns based on,\n",
    "    * Values in a binomial column to be mapped to 0 and 1 with the most frequent class mapped as 1 and the other as 0 \n",
    "    * Ordinal values to be mapped to ordinal numerical values starting at 0 based on the logical order\n",
    "    * Non-ordinal categorical columns to be replaced with a one-hot vector\n",
    "* Null value imputation or dropping of nulls on need basis\n",
    "* Duplicates handling\n",
    "* Dropping of regressors which are not required for modelling"
   ]
  },
  {
   "cell_type": "code",
   "execution_count": 123,
   "metadata": {},
   "outputs": [
    {
     "data": {
      "text/html": [
       "<div>\n",
       "<style scoped>\n",
       "    .dataframe tbody tr th:only-of-type {\n",
       "        vertical-align: middle;\n",
       "    }\n",
       "\n",
       "    .dataframe tbody tr th {\n",
       "        vertical-align: top;\n",
       "    }\n",
       "\n",
       "    .dataframe thead th {\n",
       "        text-align: right;\n",
       "    }\n",
       "</style>\n",
       "<table border=\"1\" class=\"dataframe\">\n",
       "  <thead>\n",
       "    <tr style=\"text-align: right;\">\n",
       "      <th></th>\n",
       "      <th>customerID</th>\n",
       "      <th>gender</th>\n",
       "      <th>SeniorCitizen</th>\n",
       "      <th>Partner</th>\n",
       "      <th>Dependents</th>\n",
       "      <th>tenure</th>\n",
       "      <th>PhoneService</th>\n",
       "      <th>MultipleLines</th>\n",
       "      <th>InternetService</th>\n",
       "      <th>OnlineSecurity</th>\n",
       "      <th>...</th>\n",
       "      <th>DeviceProtection</th>\n",
       "      <th>TechSupport</th>\n",
       "      <th>StreamingTV</th>\n",
       "      <th>StreamingMovies</th>\n",
       "      <th>Contract</th>\n",
       "      <th>PaperlessBilling</th>\n",
       "      <th>PaymentMethod</th>\n",
       "      <th>MonthlyCharges</th>\n",
       "      <th>TotalCharges</th>\n",
       "      <th>Churn</th>\n",
       "    </tr>\n",
       "  </thead>\n",
       "  <tbody>\n",
       "    <tr>\n",
       "      <th>0</th>\n",
       "      <td>7590-VHVEG</td>\n",
       "      <td>Female</td>\n",
       "      <td>0</td>\n",
       "      <td>Yes</td>\n",
       "      <td>No</td>\n",
       "      <td>1</td>\n",
       "      <td>No</td>\n",
       "      <td>No phone service</td>\n",
       "      <td>DSL</td>\n",
       "      <td>No</td>\n",
       "      <td>...</td>\n",
       "      <td>No</td>\n",
       "      <td>No</td>\n",
       "      <td>No</td>\n",
       "      <td>No</td>\n",
       "      <td>Month-to-month</td>\n",
       "      <td>Yes</td>\n",
       "      <td>Electronic check</td>\n",
       "      <td>29.85</td>\n",
       "      <td>29.85</td>\n",
       "      <td>No</td>\n",
       "    </tr>\n",
       "    <tr>\n",
       "      <th>1</th>\n",
       "      <td>5575-GNVDE</td>\n",
       "      <td>Male</td>\n",
       "      <td>0</td>\n",
       "      <td>No</td>\n",
       "      <td>No</td>\n",
       "      <td>34</td>\n",
       "      <td>Yes</td>\n",
       "      <td>No</td>\n",
       "      <td>DSL</td>\n",
       "      <td>Yes</td>\n",
       "      <td>...</td>\n",
       "      <td>Yes</td>\n",
       "      <td>No</td>\n",
       "      <td>No</td>\n",
       "      <td>No</td>\n",
       "      <td>One year</td>\n",
       "      <td>No</td>\n",
       "      <td>Mailed check</td>\n",
       "      <td>56.95</td>\n",
       "      <td>1889.5</td>\n",
       "      <td>No</td>\n",
       "    </tr>\n",
       "    <tr>\n",
       "      <th>2</th>\n",
       "      <td>3668-QPYBK</td>\n",
       "      <td>Male</td>\n",
       "      <td>0</td>\n",
       "      <td>No</td>\n",
       "      <td>No</td>\n",
       "      <td>2</td>\n",
       "      <td>Yes</td>\n",
       "      <td>No</td>\n",
       "      <td>DSL</td>\n",
       "      <td>Yes</td>\n",
       "      <td>...</td>\n",
       "      <td>No</td>\n",
       "      <td>NaN</td>\n",
       "      <td>No</td>\n",
       "      <td>No</td>\n",
       "      <td>Month-to-month</td>\n",
       "      <td>Yes</td>\n",
       "      <td>Mailed check</td>\n",
       "      <td>53.85</td>\n",
       "      <td>108.15</td>\n",
       "      <td>Yes</td>\n",
       "    </tr>\n",
       "    <tr>\n",
       "      <th>3</th>\n",
       "      <td>7795-CFOCW</td>\n",
       "      <td>Male</td>\n",
       "      <td>0</td>\n",
       "      <td>No</td>\n",
       "      <td>No</td>\n",
       "      <td>45</td>\n",
       "      <td>No</td>\n",
       "      <td>No phone service</td>\n",
       "      <td>DSL</td>\n",
       "      <td>Yes</td>\n",
       "      <td>...</td>\n",
       "      <td>Yes</td>\n",
       "      <td>Yes</td>\n",
       "      <td>No</td>\n",
       "      <td>No</td>\n",
       "      <td>One year</td>\n",
       "      <td>No</td>\n",
       "      <td>Bank transfer (automatic)</td>\n",
       "      <td>42.30</td>\n",
       "      <td>1840.75</td>\n",
       "      <td>No</td>\n",
       "    </tr>\n",
       "    <tr>\n",
       "      <th>4</th>\n",
       "      <td>9237-HQITU</td>\n",
       "      <td>Female</td>\n",
       "      <td>0</td>\n",
       "      <td>No</td>\n",
       "      <td>No</td>\n",
       "      <td>2</td>\n",
       "      <td>Yes</td>\n",
       "      <td>No</td>\n",
       "      <td>Fiber optic</td>\n",
       "      <td>No</td>\n",
       "      <td>...</td>\n",
       "      <td>No</td>\n",
       "      <td>NaN</td>\n",
       "      <td>No</td>\n",
       "      <td>No</td>\n",
       "      <td>Month-to-month</td>\n",
       "      <td>NaN</td>\n",
       "      <td>Electronic check</td>\n",
       "      <td>70.70</td>\n",
       "      <td>151.65</td>\n",
       "      <td>Yes</td>\n",
       "    </tr>\n",
       "  </tbody>\n",
       "</table>\n",
       "<p>5 rows × 21 columns</p>\n",
       "</div>"
      ],
      "text/plain": [
       "   customerID  gender  SeniorCitizen Partner Dependents  tenure PhoneService  \\\n",
       "0  7590-VHVEG  Female              0     Yes         No       1           No   \n",
       "1  5575-GNVDE    Male              0      No         No      34          Yes   \n",
       "2  3668-QPYBK    Male              0      No         No       2          Yes   \n",
       "3  7795-CFOCW    Male              0      No         No      45           No   \n",
       "4  9237-HQITU  Female              0      No         No       2          Yes   \n",
       "\n",
       "      MultipleLines InternetService OnlineSecurity  ... DeviceProtection  \\\n",
       "0  No phone service             DSL             No  ...               No   \n",
       "1                No             DSL            Yes  ...              Yes   \n",
       "2                No             DSL            Yes  ...               No   \n",
       "3  No phone service             DSL            Yes  ...              Yes   \n",
       "4                No     Fiber optic             No  ...               No   \n",
       "\n",
       "  TechSupport StreamingTV StreamingMovies        Contract PaperlessBilling  \\\n",
       "0          No          No              No  Month-to-month              Yes   \n",
       "1          No          No              No        One year               No   \n",
       "2         NaN          No              No  Month-to-month              Yes   \n",
       "3         Yes          No              No        One year               No   \n",
       "4         NaN          No              No  Month-to-month              NaN   \n",
       "\n",
       "               PaymentMethod MonthlyCharges  TotalCharges Churn  \n",
       "0           Electronic check          29.85         29.85    No  \n",
       "1               Mailed check          56.95        1889.5    No  \n",
       "2               Mailed check          53.85        108.15   Yes  \n",
       "3  Bank transfer (automatic)          42.30       1840.75    No  \n",
       "4           Electronic check          70.70        151.65   Yes  \n",
       "\n",
       "[5 rows x 21 columns]"
      ]
     },
     "execution_count": 123,
     "metadata": {},
     "output_type": "execute_result"
    }
   ],
   "source": [
    "df.head()"
   ]
  },
  {
   "cell_type": "code",
   "execution_count": 124,
   "metadata": {},
   "outputs": [
    {
     "data": {
      "text/plain": [
       "Male      1023\n",
       "Female     976\n",
       "Name: gender, dtype: int64"
      ]
     },
     "execution_count": 124,
     "metadata": {},
     "output_type": "execute_result"
    }
   ],
   "source": [
    "df['gender'].value_counts()"
   ]
  },
  {
   "cell_type": "code",
   "execution_count": 125,
   "metadata": {
    "scrolled": true
   },
   "outputs": [],
   "source": [
    "# Binomial column: Mapping 1 to the most frequent class of gender ie., Male\n",
    "df['gender'] = df['gender'].map({'Male':1, 'Female':0}).astype(int)"
   ]
  },
  {
   "cell_type": "code",
   "execution_count": 126,
   "metadata": {},
   "outputs": [
    {
     "data": {
      "text/plain": [
       "No     1026\n",
       "Yes     973\n",
       "Name: Partner, dtype: int64"
      ]
     },
     "execution_count": 126,
     "metadata": {},
     "output_type": "execute_result"
    }
   ],
   "source": [
    "df['Partner'].value_counts()"
   ]
  },
  {
   "cell_type": "code",
   "execution_count": 127,
   "metadata": {},
   "outputs": [],
   "source": [
    "# Binomial column: Assigning 1 to the most frequent class of Partner ie., No\n",
    "df['Partner'] = df['Partner'].map({'No':1, 'Yes':0}).astype(int)"
   ]
  },
  {
   "cell_type": "code",
   "execution_count": 128,
   "metadata": {},
   "outputs": [
    {
     "data": {
      "text/plain": [
       "No     956\n",
       "Yes    616\n",
       "NaN    427\n",
       "Name: Dependents, dtype: int64"
      ]
     },
     "execution_count": 128,
     "metadata": {},
     "output_type": "execute_result"
    }
   ],
   "source": [
    "df['Dependents'].value_counts(dropna=False)"
   ]
  },
  {
   "cell_type": "code",
   "execution_count": 129,
   "metadata": {},
   "outputs": [],
   "source": [
    "# Replacing nulls with the most frequent value\n",
    "df['Dependents'].replace(np.NaN, df.Dependents.mode()[0], inplace=True)"
   ]
  },
  {
   "cell_type": "code",
   "execution_count": 130,
   "metadata": {},
   "outputs": [
    {
     "data": {
      "text/plain": [
       "No     1383\n",
       "Yes     616\n",
       "Name: Dependents, dtype: int64"
      ]
     },
     "execution_count": 130,
     "metadata": {},
     "output_type": "execute_result"
    }
   ],
   "source": [
    "df['Dependents'].value_counts(dropna=False)"
   ]
  },
  {
   "cell_type": "code",
   "execution_count": 131,
   "metadata": {
    "scrolled": true
   },
   "outputs": [],
   "source": [
    "# Assigning 1 to the most frequent class of Dependents ie., No\n",
    "df['Dependents'] = df['Dependents'].map({'No':1, 'Yes':0}).astype(int,errors='ignore')"
   ]
  },
  {
   "cell_type": "code",
   "execution_count": 132,
   "metadata": {},
   "outputs": [
    {
     "data": {
      "text/plain": [
       "Yes    1210\n",
       "NaN     613\n",
       "No      176\n",
       "Name: PhoneService, dtype: int64"
      ]
     },
     "execution_count": 132,
     "metadata": {},
     "output_type": "execute_result"
    }
   ],
   "source": [
    "df['PhoneService'].value_counts(dropna=False)"
   ]
  },
  {
   "cell_type": "code",
   "execution_count": 133,
   "metadata": {},
   "outputs": [],
   "source": [
    "# Replacing nulls with the most frequent value\n",
    "df['PhoneService'].replace(np.NaN,df.PhoneService.mode()[0],inplace=True)"
   ]
  },
  {
   "cell_type": "code",
   "execution_count": 134,
   "metadata": {},
   "outputs": [
    {
     "data": {
      "text/plain": [
       "Yes    1823\n",
       "No      176\n",
       "Name: PhoneService, dtype: int64"
      ]
     },
     "execution_count": 134,
     "metadata": {},
     "output_type": "execute_result"
    }
   ],
   "source": [
    "df['PhoneService'].value_counts(dropna=False)"
   ]
  },
  {
   "cell_type": "code",
   "execution_count": 135,
   "metadata": {},
   "outputs": [],
   "source": [
    "# Assigning 1 to the most frequent class of PhoneService ie., Yes\n",
    "df['PhoneService'] = df['PhoneService'].map({'Yes':1, 'No':0}).astype(int,errors='ignore')"
   ]
  },
  {
   "cell_type": "code",
   "execution_count": 136,
   "metadata": {},
   "outputs": [
    {
     "data": {
      "text/plain": [
       "No                  963\n",
       "Yes                 860\n",
       "No phone service    176\n",
       "Name: MultipleLines, dtype: int64"
      ]
     },
     "execution_count": 136,
     "metadata": {},
     "output_type": "execute_result"
    }
   ],
   "source": [
    "df['MultipleLines'].value_counts()"
   ]
  },
  {
   "cell_type": "code",
   "execution_count": 137,
   "metadata": {},
   "outputs": [],
   "source": [
    "# Create one-hot vector since its a non-ordinal categorical column\n",
    "cols = pd.get_dummies(df['MultipleLines'], prefix= 'MultipleLines')\n",
    "df[cols.columns] = cols\n",
    "df.drop('MultipleLines', axis = 1, inplace = True)"
   ]
  },
  {
   "cell_type": "code",
   "execution_count": 138,
   "metadata": {},
   "outputs": [
    {
     "data": {
      "text/plain": [
       "Fiber optic    897\n",
       "DSL            676\n",
       "No             426\n",
       "Name: InternetService, dtype: int64"
      ]
     },
     "execution_count": 138,
     "metadata": {},
     "output_type": "execute_result"
    }
   ],
   "source": [
    "df['InternetService'].value_counts()"
   ]
  },
  {
   "cell_type": "code",
   "execution_count": 139,
   "metadata": {},
   "outputs": [],
   "source": [
    "# Create one-hot vector since its a non-ordinal categorical column\n",
    "cols = pd.get_dummies(df['InternetService'], prefix= 'InternetService')\n",
    "df[cols.columns] = cols\n",
    "df.drop('InternetService', axis = 1, inplace = True)"
   ]
  },
  {
   "cell_type": "code",
   "execution_count": 140,
   "metadata": {},
   "outputs": [
    {
     "data": {
      "text/plain": [
       "No                     594\n",
       "Yes                    562\n",
       "No internet service    426\n",
       "NaN                    417\n",
       "Name: OnlineSecurity, dtype: int64"
      ]
     },
     "execution_count": 140,
     "metadata": {},
     "output_type": "execute_result"
    }
   ],
   "source": [
    "df['OnlineSecurity'].value_counts(dropna=False)"
   ]
  },
  {
   "cell_type": "code",
   "execution_count": 141,
   "metadata": {},
   "outputs": [],
   "source": [
    "# Replacing nulls with the most frequent value\n",
    "df['OnlineSecurity'].replace(np.NaN, df.OnlineSecurity.mode()[0], inplace=True)"
   ]
  },
  {
   "cell_type": "code",
   "execution_count": 142,
   "metadata": {},
   "outputs": [
    {
     "data": {
      "text/plain": [
       "No                     1011\n",
       "Yes                     562\n",
       "No internet service     426\n",
       "Name: OnlineSecurity, dtype: int64"
      ]
     },
     "execution_count": 142,
     "metadata": {},
     "output_type": "execute_result"
    }
   ],
   "source": [
    "df['OnlineSecurity'].value_counts(dropna=False)"
   ]
  },
  {
   "cell_type": "code",
   "execution_count": 143,
   "metadata": {},
   "outputs": [],
   "source": [
    "# Create one-hot vector since its a non-ordinal categorical column\n",
    "cols = pd.get_dummies(df['OnlineSecurity'], prefix= 'OnlineSecurity')\n",
    "df[cols.columns] = cols\n",
    "df.drop('OnlineSecurity', axis = 1, inplace = True)"
   ]
  },
  {
   "cell_type": "code",
   "execution_count": 144,
   "metadata": {},
   "outputs": [
    {
     "data": {
      "text/plain": [
       "No                     880\n",
       "Yes                    693\n",
       "No internet service    426\n",
       "Name: OnlineBackup, dtype: int64"
      ]
     },
     "execution_count": 144,
     "metadata": {},
     "output_type": "execute_result"
    }
   ],
   "source": [
    "df['OnlineBackup'].value_counts()"
   ]
  },
  {
   "cell_type": "code",
   "execution_count": 145,
   "metadata": {},
   "outputs": [],
   "source": [
    "# Create one-hot vector since its a non-ordinal categorical column\n",
    "cols = pd.get_dummies(df['OnlineBackup'], prefix= 'OnlineBackup')\n",
    "df[cols.columns] = cols\n",
    "df.drop('OnlineBackup', axis = 1, inplace = True)"
   ]
  },
  {
   "cell_type": "code",
   "execution_count": 146,
   "metadata": {
    "scrolled": true
   },
   "outputs": [
    {
     "data": {
      "text/plain": [
       "No                     891\n",
       "Yes                    682\n",
       "No internet service    426\n",
       "Name: DeviceProtection, dtype: int64"
      ]
     },
     "execution_count": 146,
     "metadata": {},
     "output_type": "execute_result"
    }
   ],
   "source": [
    "df['DeviceProtection'].value_counts()"
   ]
  },
  {
   "cell_type": "code",
   "execution_count": 147,
   "metadata": {},
   "outputs": [],
   "source": [
    "# Create one-hot vector since its a non-ordinal categorical column\n",
    "cols = pd.get_dummies(df['DeviceProtection'], prefix= 'DeviceProtection')\n",
    "df[cols.columns] = cols\n",
    "df.drop('DeviceProtection', axis = 1, inplace = True)"
   ]
  },
  {
   "cell_type": "code",
   "execution_count": 148,
   "metadata": {},
   "outputs": [
    {
     "data": {
      "text/plain": [
       "No                     611\n",
       "Yes                    567\n",
       "No internet service    426\n",
       "NaN                    395\n",
       "Name: TechSupport, dtype: int64"
      ]
     },
     "execution_count": 148,
     "metadata": {},
     "output_type": "execute_result"
    }
   ],
   "source": [
    "df['TechSupport'].value_counts(dropna=False)"
   ]
  },
  {
   "cell_type": "code",
   "execution_count": 149,
   "metadata": {},
   "outputs": [],
   "source": [
    "# Replacing nulls with the most frequent value\n",
    "df['TechSupport'].replace(np.NaN, df.TechSupport.mode()[0], inplace=True)"
   ]
  },
  {
   "cell_type": "code",
   "execution_count": 150,
   "metadata": {},
   "outputs": [
    {
     "data": {
      "text/plain": [
       "No                     1006\n",
       "Yes                     567\n",
       "No internet service     426\n",
       "Name: TechSupport, dtype: int64"
      ]
     },
     "execution_count": 150,
     "metadata": {},
     "output_type": "execute_result"
    }
   ],
   "source": [
    "df['TechSupport'].value_counts(dropna=False)"
   ]
  },
  {
   "cell_type": "code",
   "execution_count": 151,
   "metadata": {},
   "outputs": [],
   "source": [
    "# Create one-hot vector since its a non-ordinal categorical column\n",
    "cols = pd.get_dummies(df['TechSupport'], prefix= 'TechSupport')\n",
    "df[cols.columns] = cols\n",
    "df.drop('TechSupport', axis = 1, inplace = True)"
   ]
  },
  {
   "cell_type": "code",
   "execution_count": 152,
   "metadata": {},
   "outputs": [
    {
     "data": {
      "text/plain": [
       "No                     802\n",
       "Yes                    771\n",
       "No internet service    426\n",
       "Name: StreamingTV, dtype: int64"
      ]
     },
     "execution_count": 152,
     "metadata": {},
     "output_type": "execute_result"
    }
   ],
   "source": [
    "df['StreamingTV'].value_counts()"
   ]
  },
  {
   "cell_type": "code",
   "execution_count": 153,
   "metadata": {},
   "outputs": [],
   "source": [
    "# Create one-hot vector since its a non-ordinal categorical column\n",
    "cols = pd.get_dummies(df['StreamingTV'], prefix= 'StreamingTV')\n",
    "df[cols.columns] = cols\n",
    "df.drop('StreamingTV', axis = 1, inplace = True)"
   ]
  },
  {
   "cell_type": "code",
   "execution_count": 154,
   "metadata": {},
   "outputs": [
    {
     "data": {
      "text/plain": [
       "Yes                    788\n",
       "No                     785\n",
       "No internet service    426\n",
       "Name: StreamingMovies, dtype: int64"
      ]
     },
     "execution_count": 154,
     "metadata": {},
     "output_type": "execute_result"
    }
   ],
   "source": [
    "df['StreamingMovies'].value_counts()"
   ]
  },
  {
   "cell_type": "code",
   "execution_count": 155,
   "metadata": {},
   "outputs": [],
   "source": [
    "# Create one-hot vector since its a non-ordinal categorical column\n",
    "cols = pd.get_dummies(df['StreamingMovies'], prefix= 'StreamingMovies')\n",
    "df[cols.columns] = cols\n",
    "df.drop('StreamingMovies', axis = 1, inplace = True)\n"
   ]
  },
  {
   "cell_type": "code",
   "execution_count": 156,
   "metadata": {},
   "outputs": [
    {
     "data": {
      "text/plain": [
       "Month-to-month    1105\n",
       "Two year           483\n",
       "One year           411\n",
       "Name: Contract, dtype: int64"
      ]
     },
     "execution_count": 156,
     "metadata": {},
     "output_type": "execute_result"
    }
   ],
   "source": [
    "df['Contract'].value_counts()"
   ]
  },
  {
   "cell_type": "code",
   "execution_count": 157,
   "metadata": {},
   "outputs": [],
   "source": [
    "# Create one-hot vector since its a non-ordinal categorical column\n",
    "cols = pd.get_dummies(df['Contract'], prefix= 'Contract')\n",
    "df[cols.columns] = cols\n",
    "df.drop('Contract', axis = 1, inplace = True)"
   ]
  },
  {
   "cell_type": "code",
   "execution_count": 158,
   "metadata": {},
   "outputs": [
    {
     "data": {
      "text/plain": [
       "Yes    894\n",
       "No     799\n",
       "NaN    306\n",
       "Name: PaperlessBilling, dtype: int64"
      ]
     },
     "execution_count": 158,
     "metadata": {},
     "output_type": "execute_result"
    }
   ],
   "source": [
    "df['PaperlessBilling'].value_counts(dropna=False)"
   ]
  },
  {
   "cell_type": "code",
   "execution_count": 159,
   "metadata": {},
   "outputs": [],
   "source": [
    "# Replacing nulls with the most frequent value\n",
    "df['PaperlessBilling'].replace(np.NaN, df.PaperlessBilling.mode()[0], inplace=True)"
   ]
  },
  {
   "cell_type": "code",
   "execution_count": 160,
   "metadata": {},
   "outputs": [
    {
     "data": {
      "text/plain": [
       "Yes    1200\n",
       "No      799\n",
       "Name: PaperlessBilling, dtype: int64"
      ]
     },
     "execution_count": 160,
     "metadata": {},
     "output_type": "execute_result"
    }
   ],
   "source": [
    "df['PaperlessBilling'].value_counts(dropna=False)"
   ]
  },
  {
   "cell_type": "code",
   "execution_count": 161,
   "metadata": {},
   "outputs": [],
   "source": [
    "# Assigning 1 to the most frequent class of PaperlessBilling ie., Yes\n",
    "df['PaperlessBilling'] = df['PaperlessBilling'].map({'Yes':1, 'No':0}).astype(int,errors='ignore')"
   ]
  },
  {
   "cell_type": "code",
   "execution_count": 162,
   "metadata": {},
   "outputs": [
    {
     "data": {
      "text/plain": [
       "Electronic check             655\n",
       "Bank transfer (automatic)    480\n",
       "Credit card (automatic)      440\n",
       "Mailed check                 424\n",
       "Name: PaymentMethod, dtype: int64"
      ]
     },
     "execution_count": 162,
     "metadata": {},
     "output_type": "execute_result"
    }
   ],
   "source": [
    "df['PaymentMethod'].value_counts()"
   ]
  },
  {
   "cell_type": "code",
   "execution_count": 163,
   "metadata": {},
   "outputs": [],
   "source": [
    "# Create one-hot vector since its a non-ordinal categorical column\n",
    "cols = pd.get_dummies(df['PaymentMethod'], prefix= 'PaymentMethod')\n",
    "df[cols.columns] = cols\n",
    "df.drop('PaymentMethod', axis = 1, inplace = True)"
   ]
  },
  {
   "cell_type": "code",
   "execution_count": 164,
   "metadata": {},
   "outputs": [
    {
     "data": {
      "text/plain": [
       "No     1474\n",
       "Yes     525\n",
       "Name: Churn, dtype: int64"
      ]
     },
     "execution_count": 164,
     "metadata": {},
     "output_type": "execute_result"
    }
   ],
   "source": [
    "df['Churn'].value_counts()"
   ]
  },
  {
   "cell_type": "code",
   "execution_count": 165,
   "metadata": {},
   "outputs": [],
   "source": [
    "# Based on business need, as we are interested in predicting churn, setting Yes as 1 and No as 0\n",
    "df['Churn'] = df['Churn'].map({'Yes':1, 'No':0}).astype(int)"
   ]
  },
  {
   "cell_type": "code",
   "execution_count": 166,
   "metadata": {},
   "outputs": [],
   "source": [
    "# Conversion of Total Charges to numeric type with errors as coerce passed so as to replace invalid parsing as NaN\n",
    "df.TotalCharges = pd.to_numeric(df.TotalCharges, errors='coerce')"
   ]
  },
  {
   "cell_type": "code",
   "execution_count": 167,
   "metadata": {},
   "outputs": [
    {
     "data": {
      "text/plain": [
       "(1999, 42)"
      ]
     },
     "execution_count": 167,
     "metadata": {},
     "output_type": "execute_result"
    }
   ],
   "source": [
    "df.shape"
   ]
  },
  {
   "cell_type": "code",
   "execution_count": 168,
   "metadata": {},
   "outputs": [
    {
     "data": {
      "text/plain": [
       "5"
      ]
     },
     "execution_count": 168,
     "metadata": {},
     "output_type": "execute_result"
    }
   ],
   "source": [
    "# Total nulls in the dataset\n",
    "df.isnull().sum().sum()"
   ]
  },
  {
   "cell_type": "code",
   "execution_count": 169,
   "metadata": {},
   "outputs": [],
   "source": [
    "df = df.dropna()"
   ]
  },
  {
   "cell_type": "code",
   "execution_count": 170,
   "metadata": {},
   "outputs": [
    {
     "data": {
      "text/plain": [
       "0"
      ]
     },
     "execution_count": 170,
     "metadata": {},
     "output_type": "execute_result"
    }
   ],
   "source": [
    "df.isnull().sum().sum()"
   ]
  },
  {
   "cell_type": "code",
   "execution_count": 171,
   "metadata": {},
   "outputs": [],
   "source": [
    "# CustomerID column is being dropped since it doesnt contribute to the target variable in the generalization function\n",
    "df.drop(columns=['customerID'], inplace = True)"
   ]
  },
  {
   "cell_type": "markdown",
   "metadata": {},
   "source": [
    "## Model Selection and Hyperparameter tuning"
   ]
  },
  {
   "cell_type": "code",
   "execution_count": 179,
   "metadata": {},
   "outputs": [],
   "source": [
    "from sklearn.preprocessing import StandardScaler\n",
    "from sklearn.model_selection import train_test_split\n",
    "from sklearn.linear_model import LogisticRegression\n",
    "from sklearn.neighbors import KNeighborsClassifier\n",
    "from sklearn.model_selection import GridSearchCV\n",
    "from sklearn.svm import LinearSVC\n",
    "from sklearn.svm import SVC\n",
    "from sklearn.tree import DecisionTreeClassifier\n",
    "from sklearn.metrics import accuracy_score, confusion_matrix, roc_auc_score, ConfusionMatrixDisplay, precision_score, recall_score, f1_score, classification_report, roc_curve, plot_roc_curve, auc, precision_recall_curve, plot_precision_recall_curve, average_precision_score\n",
    "from sklearn.model_selection import cross_val_score"
   ]
  },
  {
   "cell_type": "code",
   "execution_count": 180,
   "metadata": {},
   "outputs": [],
   "source": [
    "# Churn is the target column and all other columns are the regressors\n",
    "X = df.drop(columns = ['Churn'])\n",
    "y = df['Churn'].values"
   ]
  },
  {
   "cell_type": "code",
   "execution_count": 181,
   "metadata": {},
   "outputs": [
    {
     "data": {
      "text/plain": [
       "array([0, 0, 1, ..., 0, 0, 1])"
      ]
     },
     "execution_count": 181,
     "metadata": {},
     "output_type": "execute_result"
    }
   ],
   "source": [
    "# 1 here represents the positive label (Churned Customers) and 0 represents negative label (Non-Churned Customers)\n",
    "y"
   ]
  },
  {
   "cell_type": "code",
   "execution_count": 182,
   "metadata": {},
   "outputs": [
    {
     "name": "stdout",
     "output_type": "stream",
     "text": [
      "<class 'pandas.core.frame.DataFrame'>\n",
      "Int64Index: 1994 entries, 0 to 1998\n",
      "Data columns (total 40 columns):\n",
      " #   Column                                   Non-Null Count  Dtype  \n",
      "---  ------                                   --------------  -----  \n",
      " 0   gender                                   1994 non-null   int32  \n",
      " 1   SeniorCitizen                            1994 non-null   int64  \n",
      " 2   Partner                                  1994 non-null   int32  \n",
      " 3   Dependents                               1994 non-null   int32  \n",
      " 4   tenure                                   1994 non-null   int64  \n",
      " 5   PhoneService                             1994 non-null   int32  \n",
      " 6   PaperlessBilling                         1994 non-null   int32  \n",
      " 7   MonthlyCharges                           1994 non-null   float64\n",
      " 8   TotalCharges                             1994 non-null   float64\n",
      " 9   MultipleLines_No                         1994 non-null   uint8  \n",
      " 10  MultipleLines_No phone service           1994 non-null   uint8  \n",
      " 11  MultipleLines_Yes                        1994 non-null   uint8  \n",
      " 12  InternetService_DSL                      1994 non-null   uint8  \n",
      " 13  InternetService_Fiber optic              1994 non-null   uint8  \n",
      " 14  InternetService_No                       1994 non-null   uint8  \n",
      " 15  OnlineSecurity_No                        1994 non-null   uint8  \n",
      " 16  OnlineSecurity_No internet service       1994 non-null   uint8  \n",
      " 17  OnlineSecurity_Yes                       1994 non-null   uint8  \n",
      " 18  OnlineBackup_No                          1994 non-null   uint8  \n",
      " 19  OnlineBackup_No internet service         1994 non-null   uint8  \n",
      " 20  OnlineBackup_Yes                         1994 non-null   uint8  \n",
      " 21  DeviceProtection_No                      1994 non-null   uint8  \n",
      " 22  DeviceProtection_No internet service     1994 non-null   uint8  \n",
      " 23  DeviceProtection_Yes                     1994 non-null   uint8  \n",
      " 24  TechSupport_No                           1994 non-null   uint8  \n",
      " 25  TechSupport_No internet service          1994 non-null   uint8  \n",
      " 26  TechSupport_Yes                          1994 non-null   uint8  \n",
      " 27  StreamingTV_No                           1994 non-null   uint8  \n",
      " 28  StreamingTV_No internet service          1994 non-null   uint8  \n",
      " 29  StreamingTV_Yes                          1994 non-null   uint8  \n",
      " 30  StreamingMovies_No                       1994 non-null   uint8  \n",
      " 31  StreamingMovies_No internet service      1994 non-null   uint8  \n",
      " 32  StreamingMovies_Yes                      1994 non-null   uint8  \n",
      " 33  Contract_Month-to-month                  1994 non-null   uint8  \n",
      " 34  Contract_One year                        1994 non-null   uint8  \n",
      " 35  Contract_Two year                        1994 non-null   uint8  \n",
      " 36  PaymentMethod_Bank transfer (automatic)  1994 non-null   uint8  \n",
      " 37  PaymentMethod_Credit card (automatic)    1994 non-null   uint8  \n",
      " 38  PaymentMethod_Electronic check           1994 non-null   uint8  \n",
      " 39  PaymentMethod_Mailed check               1994 non-null   uint8  \n",
      "dtypes: float64(2), int32(5), int64(2), uint8(31)\n",
      "memory usage: 177.2 KB\n"
     ]
    }
   ],
   "source": [
    "# Post data cleaning and data transformation\n",
    "X.info()"
   ]
  },
  {
   "cell_type": "code",
   "execution_count": 183,
   "metadata": {},
   "outputs": [],
   "source": [
    "X_train, X_test, y_train, y_test = train_test_split(X, y, test_size=0.20, random_state=0)"
   ]
  },
  {
   "cell_type": "markdown",
   "metadata": {},
   "source": [
    "<div class=\"alert alert-block alert-info\">\n",
    "    <b>SCALING JUSTIFICATION:</b>\n",
    "    \n",
    "I have chosen <b>Standard Scaler</b> as the scaling criterion since we saw some regular/ premium customers who had a long \n",
    "tenure with this telco carrier churn away. I hadnt dropped such outliers since its important for our modelling.\n",
    "Standard Scaler is chosen since it maintains useful information about outliers and makes the algorithm less sensitive to them\n",
    "in contrast to min-max scaling</div>"
   ]
  },
  {
   "cell_type": "code",
   "execution_count": 184,
   "metadata": {},
   "outputs": [],
   "source": [
    "# Using standard scaler to scale the data \n",
    "Scaler = StandardScaler()\n",
    "X_train = Scaler.fit_transform(X_train)\n",
    "X_test = Scaler.fit_transform(X_test)"
   ]
  },
  {
   "cell_type": "markdown",
   "metadata": {},
   "source": [
    "### 1. KNN classification"
   ]
  },
  {
   "cell_type": "code",
   "execution_count": 210,
   "metadata": {},
   "outputs": [],
   "source": [
    "# Since this dataset has ~2000 records, limited n_neighbours of range 1-15 and both euclidean and manhattan distance metric is considered\n",
    "param_grid = {\"n_neighbors\": np.arange(1,15), 'weights': ['uniform', 'distance'], 'metric' : ['euclidean', 'manhattan']}"
   ]
  },
  {
   "cell_type": "code",
   "execution_count": 211,
   "metadata": {},
   "outputs": [
    {
     "data": {
      "text/plain": [
       "GridSearchCV(cv=5, estimator=KNeighborsClassifier(),\n",
       "             param_grid={'metric': ['euclidean', 'manhattan'],\n",
       "                         'n_neighbors': array([ 1,  2,  3,  4,  5,  6,  7,  8,  9, 10, 11, 12, 13, 14]),\n",
       "                         'weights': ['uniform', 'distance']},\n",
       "             return_train_score=True, scoring='recall')"
      ]
     },
     "execution_count": 211,
     "metadata": {},
     "output_type": "execute_result"
    }
   ],
   "source": [
    "# Recall score is the chosen evaluation criterion\n",
    "knn = KNeighborsClassifier()\n",
    "grid_clf = GridSearchCV(knn, param_grid, cv = 5, return_train_score=True, scoring= 'recall')\n",
    "grid_clf.fit(X_train, y_train)"
   ]
  },
  {
   "cell_type": "code",
   "execution_count": 214,
   "metadata": {},
   "outputs": [
    {
     "name": "stdout",
     "output_type": "stream",
     "text": [
      "Best parameters: {'metric': 'manhattan', 'n_neighbors': 13, 'weights': 'uniform'}\n",
      "Best cross-validation score: 0.6239\n",
      "Train score: 0.6383\n",
      "Test score: 0.5841\n",
      "ROC-AUC score: 0.7116\n"
     ]
    }
   ],
   "source": [
    "print(\"Best parameters: {}\".format(grid_clf.best_params_))\n",
    "print(\"Best cross-validation score: {:.4f}\".format(grid_clf.best_score_))\n",
    "print(\"Train score: {:.4f}\".format(grid_clf.score(X_train, y_train)))\n",
    "print(\"Test score: {:.4f}\".format(grid_clf.score(X_test, y_test)))\n",
    "y_pred = grid_clf.predict(X_test)\n",
    "print(\"ROC-AUC score: {:.4f}\".format(roc_auc_score(y_test, y_pred)))"
   ]
  },
  {
   "cell_type": "markdown",
   "metadata": {},
   "source": [
    "### 2. Logistic Regression"
   ]
  },
  {
   "cell_type": "code",
   "execution_count": 215,
   "metadata": {},
   "outputs": [],
   "source": [
    "param_grid = {\"penalty\": ['l1', 'l2'], 'C': [0.001, 0.01, 0.1, 1, 10, 100], 'solver' : ['lbfgs', 'liblinear']}"
   ]
  },
  {
   "cell_type": "code",
   "execution_count": 216,
   "metadata": {},
   "outputs": [
    {
     "data": {
      "text/plain": [
       "GridSearchCV(cv=5, estimator=LogisticRegression(),\n",
       "             param_grid={'C': [0.001, 0.01, 0.1, 1, 10, 100],\n",
       "                         'penalty': ['l1', 'l2'],\n",
       "                         'solver': ['lbfgs', 'liblinear']},\n",
       "             return_train_score=True, scoring='recall')"
      ]
     },
     "execution_count": 216,
     "metadata": {},
     "output_type": "execute_result"
    }
   ],
   "source": [
    "# Recall score is the chosen evaluation criterion\n",
    "grid_clf = GridSearchCV(LogisticRegression(), param_grid, cv = 5, return_train_score=True, scoring= 'recall')\n",
    "grid_clf.fit(X_train, y_train)"
   ]
  },
  {
   "cell_type": "code",
   "execution_count": 217,
   "metadata": {},
   "outputs": [
    {
     "name": "stdout",
     "output_type": "stream",
     "text": [
      "Best parameters: {'C': 0.001, 'penalty': 'l2', 'solver': 'liblinear'}\n",
      "Best cross-validation score: 0.8105\n",
      "Train score: 0.8083\n",
      "Test score: 0.7876\n",
      "ROC-AUC score: 0.7609\n"
     ]
    }
   ],
   "source": [
    "y_pred = grid_clf.predict(X_test)\n",
    "print(\"Best parameters: {}\".format(grid_clf.best_params_))\n",
    "print(\"Best cross-validation score: {:.4f}\".format(grid_clf.best_score_))\n",
    "print(\"Train score: {:.4f}\".format(grid_clf.score(X_train, y_train)))\n",
    "print(\"Test score: {:.4f}\".format(grid_clf.score(X_test, y_test)))\n",
    "print(\"ROC-AUC score: {:.4f}\".format(roc_auc_score(y_test, y_pred)))"
   ]
  },
  {
   "cell_type": "markdown",
   "metadata": {},
   "source": [
    "### 3.  Linear Support Vector Machine"
   ]
  },
  {
   "cell_type": "code",
   "execution_count": 221,
   "metadata": {},
   "outputs": [
    {
     "data": {
      "text/plain": [
       "dict_keys(['C', 'class_weight', 'dual', 'fit_intercept', 'intercept_scaling', 'loss', 'max_iter', 'multi_class', 'penalty', 'random_state', 'tol', 'verbose'])"
      ]
     },
     "execution_count": 221,
     "metadata": {},
     "output_type": "execute_result"
    }
   ],
   "source": [
    "param_grid = {'C':[0.01, 0.1, 1.0, 10.0, 100.0, 1000.0, 10000.0],'penalty':['l1','l2']}\n",
    "LinearSVC().get_params().keys()"
   ]
  },
  {
   "cell_type": "code",
   "execution_count": 222,
   "metadata": {},
   "outputs": [
    {
     "data": {
      "text/plain": [
       "GridSearchCV(cv=5, estimator=LinearSVC(random_state=0),\n",
       "             param_grid={'C': [0.01, 0.1, 1.0, 10.0, 100.0, 1000.0, 10000.0],\n",
       "                         'penalty': ['l1', 'l2']},\n",
       "             return_train_score=True, scoring='recall')"
      ]
     },
     "execution_count": 222,
     "metadata": {},
     "output_type": "execute_result"
    }
   ],
   "source": [
    "# Recall score is the chosen evaluation criterion\n",
    "grid_clf = GridSearchCV(LinearSVC(random_state=0), param_grid, cv = 5, return_train_score=True, scoring= 'recall')\n",
    "grid_clf.fit(X_train, y_train)"
   ]
  },
  {
   "cell_type": "code",
   "execution_count": 223,
   "metadata": {},
   "outputs": [
    {
     "name": "stdout",
     "output_type": "stream",
     "text": [
      "Best parameters: {'C': 10000.0, 'penalty': 'l2'}\n",
      "Best cross-validation score: 0.6675\n",
      "Train score: 0.5364\n",
      "Test score: 0.3982\n",
      "ROC-AUC score: 0.5767\n"
     ]
    }
   ],
   "source": [
    "y_pred = grid_clf.predict(X_test)\n",
    "print(\"Best parameters: {}\".format(grid_clf.best_params_))\n",
    "print(\"Best cross-validation score: {:.4f}\".format(grid_clf.best_score_))\n",
    "print(\"Train score: {:.4f}\".format(grid_clf.score(X_train, y_train)))\n",
    "print(\"Test score: {:.4f}\".format(grid_clf.score(X_test, y_test)))\n",
    "print(\"ROC-AUC score: {:.4f}\".format(roc_auc_score(y_test, y_pred)))"
   ]
  },
  {
   "cell_type": "markdown",
   "metadata": {},
   "source": [
    "### 4. Kerenilzed Support Vector Machine (rbf, poly, and linear)"
   ]
  },
  {
   "cell_type": "code",
   "execution_count": 224,
   "metadata": {},
   "outputs": [],
   "source": [
    "param_grid = {'C':[0.01, 0.1, 1.0, 10.0, 100.0],'gamma':[0.01, 0.1, 1.0, 10.0, 100.0], 'kernel':['linear','rbf','poly']}"
   ]
  },
  {
   "cell_type": "code",
   "execution_count": 225,
   "metadata": {},
   "outputs": [
    {
     "data": {
      "text/plain": [
       "GridSearchCV(cv=5, estimator=SVC(random_state=0),\n",
       "             param_grid={'C': [0.01, 0.1, 1.0, 10.0, 100.0],\n",
       "                         'gamma': [0.01, 0.1, 1.0, 10.0, 100.0],\n",
       "                         'kernel': ['linear', 'rbf', 'poly']},\n",
       "             return_train_score=True, scoring='recall')"
      ]
     },
     "execution_count": 225,
     "metadata": {},
     "output_type": "execute_result"
    }
   ],
   "source": [
    "# Recall score is the chosen evaluation criterion\n",
    "grid_clf = GridSearchCV(SVC(random_state=0), param_grid, cv = 5, return_train_score=True, scoring= 'recall')\n",
    "grid_clf.fit(X_train, y_train)"
   ]
  },
  {
   "cell_type": "code",
   "execution_count": 228,
   "metadata": {},
   "outputs": [
    {
     "name": "stdout",
     "output_type": "stream",
     "text": [
      "Best parameters: {'C': 100.0, 'gamma': 0.01, 'kernel': 'rbf'}\n",
      "Best cross-validation score: 0.5705\n",
      "Train score: 0.8568\n",
      "Test score: 0.5044\n",
      "ROC-AUC score: 0.6718\n"
     ]
    }
   ],
   "source": [
    "y_pred = grid_clf.predict(X_test)\n",
    "print(\"Best parameters: {}\".format(grid_clf.best_params_))\n",
    "print(\"Best cross-validation score: {:.4f}\".format(grid_clf.best_score_))\n",
    "print(\"Train score: {:.4f}\".format(grid_clf.score(X_train, y_train)))\n",
    "print(\"Test score: {:.4f}\".format(grid_clf.score(X_test, y_test)))\n",
    "print(\"ROC-AUC score: {:.4f}\".format(roc_auc_score(y_test, y_pred)))"
   ]
  },
  {
   "cell_type": "markdown",
   "metadata": {},
   "source": [
    "### 5. Decision Tree Classifier"
   ]
  },
  {
   "cell_type": "code",
   "execution_count": 229,
   "metadata": {},
   "outputs": [],
   "source": [
    "param_grid = {\"criterion\": ['gini', 'entropy'], 'max_depth': np.arange(10), 'max_leaf_nodes' : np.arange(10)}"
   ]
  },
  {
   "cell_type": "code",
   "execution_count": 230,
   "metadata": {},
   "outputs": [
    {
     "data": {
      "text/plain": [
       "GridSearchCV(cv=5, estimator=DecisionTreeClassifier(random_state=0),\n",
       "             param_grid={'criterion': ['gini', 'entropy'],\n",
       "                         'max_depth': array([0, 1, 2, 3, 4, 5, 6, 7, 8, 9]),\n",
       "                         'max_leaf_nodes': array([0, 1, 2, 3, 4, 5, 6, 7, 8, 9])},\n",
       "             return_train_score=True, scoring='recall')"
      ]
     },
     "execution_count": 230,
     "metadata": {},
     "output_type": "execute_result"
    }
   ],
   "source": [
    "# Recall score is the chosen evaluation criterion\n",
    "grid_clf = GridSearchCV(DecisionTreeClassifier(random_state = 0), param_grid, cv = 5, return_train_score=True, scoring= 'recall')\n",
    "grid_clf.fit(X_train, y_train)"
   ]
  },
  {
   "cell_type": "code",
   "execution_count": 231,
   "metadata": {
    "scrolled": true
   },
   "outputs": [
    {
     "name": "stdout",
     "output_type": "stream",
     "text": [
      "Best parameters: {'criterion': 'gini', 'max_depth': 2, 'max_leaf_nodes': 3}\n",
      "Best cross-validation score: 0.6482\n",
      "Train score: 0.6481\n",
      "Test score: 0.6372\n",
      "ROC-AUC score: 0.7259\n"
     ]
    }
   ],
   "source": [
    "y_pred = grid_clf.predict(X_test)\n",
    "print(\"Best parameters: {}\".format(grid_clf.best_params_))\n",
    "print(\"Best cross-validation score: {:.4f}\".format(grid_clf.best_score_))\n",
    "print(\"Train score: {:.4f}\".format(grid_clf.score(X_train, y_train)))\n",
    "print(\"Test score: {:.4f}\".format(grid_clf.score(X_test, y_test)))\n",
    "print(\"ROC-AUC score: {:.4f}\".format(roc_auc_score(y_test, y_pred)))"
   ]
  },
  {
   "cell_type": "markdown",
   "metadata": {},
   "source": [
    "## Model Selection"
   ]
  },
  {
   "cell_type": "markdown",
   "metadata": {},
   "source": [
    "<div class=\"alert alert-block alert-info\">\n",
    "By running Grid Search for different models and by playing around corresponding hyper-parameters, it is evident that Logistic Regression classification model seems to perform better in this case with a Train score: 0.8083 and Test score: 0.7876 and the best hyper-parameters chosen are C of 0.001, penalty of l2 and solver is liblinear. With this lets predict the target values for the test dataset.\n",
    "</div>"
   ]
  },
  {
   "cell_type": "markdown",
   "metadata": {},
   "source": [
    "## Final Prediction"
   ]
  },
  {
   "cell_type": "code",
   "execution_count": 242,
   "metadata": {
    "scrolled": true
   },
   "outputs": [
    {
     "name": "stdout",
     "output_type": "stream",
     "text": [
      "Logistic Regression:\n",
      "Train score is 0.7599\n",
      "Test score is 0.7494\n",
      "Precision score is 0.5394\n",
      "ROC-AUC Score is 0.7609\n",
      "Recall Score is 0.7876\n",
      "Confusion Matrix is: \n",
      "  [[210  76]\n",
      " [ 24  89]]\n"
     ]
    }
   ],
   "source": [
    "# By applying the best hyperparameters found by using Grid Search, lets train the chosen model to predict the Churn label for test dataset\n",
    "model=LogisticRegression(C=0.001, penalty='l2', solver='liblinear')\n",
    "\n",
    "model.fit(X_train, y_train)\n",
    "y_pred = model.predict(X_test)\n",
    "score = cross_val_score(model, X_train, y_train, cv = 5)\n",
    "precision = precision_score(y_test, y_pred)\n",
    "roc = roc_auc_score(y_test, y_pred)\n",
    "recall = recall_score(y_test, y_pred)\n",
    "cm = confusion_matrix(y_test, y_pred)\n",
    "\n",
    "print('Logistic Regression:')\n",
    "print('Train score is {:.4f}'.format(score.mean()))\n",
    "print('Test score is {:.4f}'.format(model.score(X_test, y_test)))\n",
    "print('Precision score is {:.4f}'.format(precision))\n",
    "print('ROC-AUC Score is {:.4f}'.format(roc))\n",
    "print('Recall Score is {:.4f}'.format(recall))\n",
    "print('Confusion Matrix is: \\n ', cm)"
   ]
  },
  {
   "cell_type": "markdown",
   "metadata": {},
   "source": [
    "<div class=\"alert alert-block alert-success\">\n",
    "For this dataset, Logistic regression model has a decent train and test score of 0.7599 and 0.7494 respectively and thus helps predict the churn for the test dataset with a better recall and ROC-AUC score of 0.7609 and 0.7876 respectively based on our business need.\n",
    "</div>"
   ]
  }
 ],
 "metadata": {
  "kernelspec": {
   "display_name": "Python 3",
   "language": "python",
   "name": "python3"
  },
  "language_info": {
   "codemirror_mode": {
    "name": "ipython",
    "version": 3
   },
   "file_extension": ".py",
   "mimetype": "text/x-python",
   "name": "python",
   "nbconvert_exporter": "python",
   "pygments_lexer": "ipython3",
   "version": "3.8.5"
  }
 },
 "nbformat": 4,
 "nbformat_minor": 4
}
